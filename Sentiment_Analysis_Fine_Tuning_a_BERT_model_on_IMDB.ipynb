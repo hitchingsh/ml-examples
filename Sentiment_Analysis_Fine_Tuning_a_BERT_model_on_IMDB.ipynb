{
  "nbformat": 4,
  "nbformat_minor": 0,
  "metadata": {
    "colab": {
      "name": "Sentiment Analysis - Fine Tuning a BERT model on IMDB.ipynb",
      "provenance": [],
      "collapsed_sections": [],
      "machine_shape": "hm"
    },
    "kernelspec": {
      "name": "python3",
      "display_name": "Python 3"
    },
    "accelerator": "GPU"
  },
  "cells": [
    {
      "cell_type": "markdown",
      "metadata": {
        "id": "dNoDgy4jgvMz"
      },
      "source": [
        "## Sentiment Analysis - Fine-tuning a BERT model on the IMDB Dataset\n",
        "\n",
        "The BERT Base model is trained on the IMDB Movie Review dataset to make positive and negative sentiment classification predictions.  It also serves the model for inference via TensorFlow serving.\n",
        "\n",
        "BERT (Bidirectional Encoder Representations Transformer) uses Masked Language Model (MLM) to look at all tokens in the sentence not just the preceeding ones.  It uses an encoder only Transformer as opposed to an encoder/decoder architecture used in T5.  BERT was developed by Google AI Language (Jacob Devlin et al) and is used in Google Search. RoBERTa developed by Facebook AI and DeBERTa developed by Microsoft are also examples of top performing variants of BERT on the GLUE and SuperGlue NLP benchmarks. \n",
        "\n",
        "This Notebook was run on Google Colab using a GPU and high memory\n",
        "\n",
        "This example is adapted from several examples listed below:\n",
        "\n",
        "https://www.tensorflow.org/official_models/fine_tuning_bert\n",
        "\n",
        "https://www.tensorflow.org/tutorials/text/classify_text_with_bert\n",
        "\n",
        "https://www.tensorflow.org/tfx/tutorials/serving/rest_simple\n"
      ]
    },
    {
      "cell_type": "code",
      "metadata": {
        "id": "jyCFs9pQg0Ph"
      },
      "source": [
        "% pip install -q tensorflow-text"
      ],
      "execution_count": null,
      "outputs": []
    },
    {
      "cell_type": "code",
      "metadata": {
        "id": "b6kftabcMv1j"
      },
      "source": [
        "% pip install -q tf-models-official"
      ],
      "execution_count": null,
      "outputs": []
    },
    {
      "cell_type": "code",
      "metadata": {
        "id": "iMZ1gzxPhMx-"
      },
      "source": [
        "import os\n",
        "import shutil\n",
        "\n",
        "import tensorflow as tf\n",
        "import tensorflow_hub as hub\n",
        "import tensorflow_text as text\n",
        "import tensorflow_datasets as tfds\n",
        "tfds.disable_progress_bar()\n",
        "\n",
        "from official.nlp import optimization  # to create AdamW optmizer\n",
        "\n",
        "import matplotlib.pyplot as plt\n",
        "\n",
        "tf.get_logger().setLevel('ERROR')"
      ],
      "execution_count": null,
      "outputs": []
    },
    {
      "cell_type": "markdown",
      "metadata": {
        "id": "3MAv-vuhhuxw"
      },
      "source": [
        "**Get the BERT Model & Preprocess Model from the Tensorflow Model Hub**\n",
        "\n",
        "This example uses the BERT Base model but its easy to swap it out for other variants such as the BERT Large, which is slightly more accurate and significantly slower."
      ]
    },
    {
      "cell_type": "code",
      "metadata": {
        "colab": {
          "base_uri": "https://localhost:8080/"
        },
        "id": "pDKdsKt2hkCT",
        "outputId": "ffdd2aeb-9a26-4eda-e4c4-99958282ed67"
      },
      "source": [
        "tfhub_handle_encoder = 'https://tfhub.dev/tensorflow/bert_en_uncased_L-12_H-768_A-12/3'\n",
        "tfhub_handle_preprocess = 'https://tfhub.dev/tensorflow/bert_en_uncased_preprocess/3'\n",
        "\n",
        "print(f'BERT model selected           : {tfhub_handle_encoder}')\n",
        "print(f'Preprocess model auto-selected: {tfhub_handle_preprocess}')"
      ],
      "execution_count": null,
      "outputs": [
        {
          "output_type": "stream",
          "text": [
            "BERT model selected           : https://tfhub.dev/tensorflow/bert_en_uncased_L-12_H-768_A-12/3\n",
            "Preprocess model auto-selected: https://tfhub.dev/tensorflow/bert_en_uncased_preprocess/3\n"
          ],
          "name": "stdout"
        }
      ]
    },
    {
      "cell_type": "markdown",
      "metadata": {
        "id": "hwZxi_xFihxy"
      },
      "source": [
        "**The data**\n",
        "\n",
        "For this example we used the IMDB dataset from TFDS.\n",
        "https://www.tensorflow.org/datasets/catalog/imdb_reviews \n",
        "\n",
        "This dataset is not set up so that it can be directly fed into the BERT model, so this section also handles the necessary preprocessing.\n",
        "\n",
        "Get the dataset from TensorFlow Datasets and examine the data"
      ]
    },
    {
      "cell_type": "code",
      "metadata": {
        "id": "01HtQBTNh6eC"
      },
      "source": [
        "imdb, info = tfds.load('imdb_reviews', with_info=True,\n",
        "                       batch_size=-1)"
      ],
      "execution_count": null,
      "outputs": []
    },
    {
      "cell_type": "code",
      "metadata": {
        "colab": {
          "base_uri": "https://localhost:8080/"
        },
        "id": "2W970wxcinBg",
        "outputId": "cd965b18-2c5e-4603-8669-4dd71a3d3e48"
      },
      "source": [
        "list(imdb.keys())"
      ],
      "execution_count": null,
      "outputs": [
        {
          "output_type": "execute_result",
          "data": {
            "text/plain": [
              "['test', 'train', 'unsupervised']"
            ]
          },
          "metadata": {
            "tags": []
          },
          "execution_count": 6
        }
      ]
    },
    {
      "cell_type": "code",
      "metadata": {
        "colab": {
          "base_uri": "https://localhost:8080/"
        },
        "id": "ZAergezxipmz",
        "outputId": "c8fa75bb-3ca7-4a56-fafc-6695b7eb3677"
      },
      "source": [
        "# The info object describes the dataset and it's features:\n",
        "info.features"
      ],
      "execution_count": null,
      "outputs": [
        {
          "output_type": "execute_result",
          "data": {
            "text/plain": [
              "FeaturesDict({\n",
              "    'label': ClassLabel(shape=(), dtype=tf.int64, num_classes=2),\n",
              "    'text': Text(shape=(), dtype=tf.string),\n",
              "})"
            ]
          },
          "metadata": {
            "tags": []
          },
          "execution_count": 7
        }
      ]
    },
    {
      "cell_type": "code",
      "metadata": {
        "colab": {
          "base_uri": "https://localhost:8080/"
        },
        "id": "fBrnvBgFisK9",
        "outputId": "1fc4bd06-fd69-402b-9777-1b1da249eb25"
      },
      "source": [
        "# The two classes are:\n",
        "info.features['label'].names"
      ],
      "execution_count": null,
      "outputs": [
        {
          "output_type": "execute_result",
          "data": {
            "text/plain": [
              "['neg', 'pos']"
            ]
          },
          "metadata": {
            "tags": []
          },
          "execution_count": 8
        }
      ]
    },
    {
      "cell_type": "code",
      "metadata": {
        "colab": {
          "base_uri": "https://localhost:8080/"
        },
        "id": "5uYiPt9BjCRC",
        "outputId": "6e375b06-e622-4b72-c9d7-eb9ac7e54a42"
      },
      "source": [
        "# Print a training example:\n",
        "imdb_train = imdb['train']\n",
        "imdb_val = imdb['test']\n",
        "imdb_test = imdb['unsupervised']\n",
        "\n",
        "for key, value in imdb_train.items():\n",
        "  print(f\"{key:9s}: {value[0].numpy()}\")"
      ],
      "execution_count": null,
      "outputs": [
        {
          "output_type": "stream",
          "text": [
            "label    : 0\n",
            "text     : b\"This was an absolutely terrible movie. Don't be lured in by Christopher Walken or Michael Ironside. Both are great actors, but this must simply be their worst role in history. Even their great acting could not redeem this movie's ridiculous storyline. This movie is an early nineties US propaganda piece. The most pathetic scenes were those when the Columbian rebels were making their cases for revolutions. Maria Conchita Alonso appeared phony, and her pseudo-love affair with Walken was nothing but a pathetic emotional plug in a movie that was devoid of any real meaning. I am disappointed that there are movies like this, ruining actor's like Christopher Walken's good name. I could barely sit through it.\"\n"
          ],
          "name": "stdout"
        }
      ]
    },
    {
      "cell_type": "code",
      "metadata": {
        "colab": {
          "base_uri": "https://localhost:8080/"
        },
        "id": "JQpq6IjoMyVt",
        "outputId": "33859dd0-805a-4a4b-d36a-9b28c3ba14b9"
      },
      "source": [
        "print(imdb_val['text'])"
      ],
      "execution_count": null,
      "outputs": [
        {
          "output_type": "stream",
          "text": [
            "tf.Tensor(\n",
            "[b\"There are films that make careers. For George Romero, it was NIGHT OF THE LIVING DEAD; for Kevin Smith, CLERKS; for Robert Rodriguez, EL MARIACHI. Add to that list Onur Tukel's absolutely amazing DING-A-LING-LESS. Flawless film-making, and as assured and as professional as any of the aforementioned movies. I haven't laughed this hard since I saw THE FULL MONTY. (And, even then, I don't think I laughed quite this hard... So to speak.) Tukel's talent is considerable: DING-A-LING-LESS is so chock full of double entendres that one would have to sit down with a copy of this script and do a line-by-line examination of it to fully appreciate the, uh, breadth and width of it. Every shot is beautifully composed (a clear sign of a sure-handed director), and the performances all around are solid (there's none of the over-the-top scenery chewing one might've expected from a film like this). DING-A-LING-LESS is a film whose time has come.\"\n",
            " b\"A blackly comic tale of a down-trodden priest, Nazarin showcases the economy that Luis Bunuel was able to achieve in being able to tell a deeply humanist fable with a minimum of fuss. As an output from his Mexican era of film making, it was an invaluable talent to possess, with little money and extremely tight schedules. Nazarin, however, surpasses many of Bunuel's previous Mexican films in terms of the acting (Francisco Rabal is excellent), narrative and theme.<br /><br />The theme, interestingly, is something that was explored again in Viridiana, made three years later in Spain. It concerns the individual's struggle for humanity and altruism amongst a society that rejects any notion of virtue. Father Nazarin, however, is portrayed more sympathetically than Sister Viridiana. Whereas the latter seems to choose charity because she wishes to atone for her (perceived) sins, Nazarin's whole existence and reason for being seems to be to help others, whether they (or we) like it or not. The film's last scenes, in which he casts doubt on his behaviour and, in a split second, has to choose between the life he has been leading or the conventional life that is expected of a priest, are so emotional because they concern his moral integrity and we are never quite sure whether it remains intact or not.<br /><br />This is a remarkable film and I would urge anyone interested in classic cinema to seek it out. It is one of Bunuel's most moving films, and encapsulates many of his obsessions: frustrated desire, mad love, religious hypocrisy etc. In my view 'Nazarin' is second only to 'The Exterminating Angel', in terms of his Mexican movies, and is certainly near the top of the list of Bunuel's total filmic output.\"\n",
            " b'Scary Movie 1-4, Epic Movie, Date Movie, Meet the Spartans, Not another Teen Movie and Another Gay Movie. Making \"Superhero Movie\" the eleventh in a series that single handily ruined the parody genre. Now I\\'ll admit it I have a soft spot for classics such as Airplane and The Naked Gun but you know you\\'ve milked a franchise so bad when you can see the gags a mile off. In fact the only thing that might really temp you into going to see this disaster is the incredibly funny but massive sell-out Leslie Neilson.<br /><br />You can tell he needs the money, wither that or he intends to go down with the ship like a good Capitan would. In no way is he bringing down this genre but hell he\\'s not helping it. But if I feel sorry for anybody in this film its decent actor Drake Bell who is put through an immense amount of embarrassment. The people who are put through the largest amount of torture by far however is the audience forced to sit through 90 minutes of laughless bile no funnier than herpes.<br /><br />After spoofing disaster films in Airplane!, police shows in The Naked Gun, and Hollywood horrors in Scary Movie 3 and 4, producer David Zucker sets his satirical sights on the superhero genre with this anarchic comedy lampooning everything from Spider-Man to X-Men and Superman Returns.<br /><br />Shortly after being bitten by a genetically altered dragonfly, high-school outcast Rick Riker (Drake Bell) begins to experience a startling transformation. Now Rick\\'s skin is as strong as steel, and he possesses the strength of ten men. Determined to use his newfound powers to fight crime, Rick creates a special costume and assumes the identity of The Dragonfly -- a fearless crime fighter dedicated to keeping the streets safe for law-abiding citizens.<br /><br />But every superhero needs a nemesis, and after Lou Landers (Christopher McDonald) is caught in the middle of an experiment gone horribly awry, he develops the power to leech the life force out of anyone he meets and becomes the villainous Hourglass. Intent on achieving immortality, the Hourglass attempts to gather as much life force as possible as the noble Dragonfly sets out to take down his archenemy and realize his destiny as a true hero. Craig Mazin writes and directs this low-flying spoof.<br /><br />featuring Tracy Morgan, Pamela Anderson, Leslie Nielsen, Marion Ross, Jeffrey Tambor, and Regina Hall.<br /><br />Hell Superhero Movie may earn some merit in the fact that it\\'s a hell of a lot better than Meet the Spartans and Epic Movie. But with great responsibility comes one of the worst outings of 2008 to date. Laughless but a little less irritating than Meet the Spartans. And in the same sense much more forgettable than meet the Spartans. But maybe that\\'s a good reason. There are still some of us trying to scrape away the stain that was Meet the Spartans from our memory.<br /><br />My final verdict? Avoid, unless you\\'re one of thoses people who enjoy such car crash cinema. As bad as Date Movie and Scary Movie 2 but not quite as bad as Meet the Spartans or Epic Movie. Super Villain.'\n",
            " ...\n",
            " b\"Most predicable movie I've ever seen...extremely boring, I feel like I've seen a hundred movies with the same storyline as this one. Acting is OK at best, there's no action really and there is definitely no thrills. Capable actors with terrible script i think it could have been written better by a 10th grader. Felt like more of a chore to watch because I was hoping that there would be something in this movie that was going to set it apart from all the other garbage but this fit right in on the heap. The whole movie I was waiting for something good to happen but it never came. I never rate movies and I never review movies but this movie was so bad that i had to log in here and post a review to try and save a few poor souls from wasting their time (and/or money) with this movie. I pirated it and wish I never even wasted the hard drive space. If I spent 10 bucks to see this in theaters I would kill myself.\"\n",
            " b\"It's exactly what I expected from it. Relaxing, humorous and entertaining. The acting couple was awesome, as well as the scene selection. I personally recommend this. It's kind of the movie that can be seen by whole family at the same time without anyone feeling uncomfortable or getting bored. This cute movie will make you smile, and laugh too. And the action scenes are tasty. Classics of modern american comedy. And very well done.\"\n",
            " b\"They just don't make cartoons like they used to. This one had wit, great characters, and the greatest ensemble of voice over artists ever assembled for a daytime cartoon show. This still remains as one of the highest rated daytime cartoon shows, and one of the most honored, winning several Emmy Awards.\"], shape=(25000,), dtype=string)\n"
          ],
          "name": "stdout"
        }
      ]
    },
    {
      "cell_type": "markdown",
      "metadata": {
        "id": "Bu8IT2JUQjKc"
      },
      "source": [
        "Optimize Data"
      ]
    },
    {
      "cell_type": "code",
      "metadata": {
        "id": "RYAHrfmgTwVD"
      },
      "source": [
        "AUTOTUNE = tf.data.AUTOTUNE\n",
        "batch_size = 32\n",
        "val_size = 15000\n",
        "test_size = 10"
      ],
      "execution_count": null,
      "outputs": []
    },
    {
      "cell_type": "code",
      "metadata": {
        "id": "Fl2wEMi3SB2z"
      },
      "source": [
        "raw_train_ds = tf.data.Dataset.from_tensor_slices((imdb_train['text'], imdb_train['label']))\n",
        "train_ds = raw_train_ds.batch(batch_size, drop_remainder=True).cache().prefetch(buffer_size=AUTOTUNE)\n",
        "\n",
        "raw_val_ds = tf.data.Dataset.from_tensor_slices((imdb_val['text'][:val_size], imdb_val['label'][:val_size]))\n",
        "val_ds = raw_val_ds.cache().batch(batch_size, drop_remainder=True).prefetch(buffer_size=AUTOTUNE)\n",
        "\n",
        "raw_eval_ds = tf.data.Dataset.from_tensor_slices((imdb_val['text'][val_size:], imdb_val['label'][val_size:]))\n",
        "eval_ds = raw_train_ds.cache().batch(batch_size, drop_remainder=True).prefetch(buffer_size=AUTOTUNE)\n",
        "\n",
        "raw_test_ds = tf.data.Dataset.from_tensor_slices((imdb_test['text'][:test_size], imdb_test['label'][:test_size]))\n",
        "test_ds = raw_train_ds.cache().prefetch(buffer_size=AUTOTUNE)"
      ],
      "execution_count": null,
      "outputs": []
    },
    {
      "cell_type": "code",
      "metadata": {
        "colab": {
          "base_uri": "https://localhost:8080/"
        },
        "id": "ygPL-KcdYNID",
        "outputId": "c1c4bfca-14f7-4517-c287-5e7c4a25921d"
      },
      "source": [
        "for text_batch, label_batch in train_ds.take(1):\n",
        "  for review, label in zip(text_batch[:5], label_batch[:5]):\n",
        "    print(f'Movie Review has sentiment {label} for input text {review}')"
      ],
      "execution_count": null,
      "outputs": [
        {
          "output_type": "stream",
          "text": [
            "Movie Review has sentiment 0 for input text b\"This was an absolutely terrible movie. Don't be lured in by Christopher Walken or Michael Ironside. Both are great actors, but this must simply be their worst role in history. Even their great acting could not redeem this movie's ridiculous storyline. This movie is an early nineties US propaganda piece. The most pathetic scenes were those when the Columbian rebels were making their cases for revolutions. Maria Conchita Alonso appeared phony, and her pseudo-love affair with Walken was nothing but a pathetic emotional plug in a movie that was devoid of any real meaning. I am disappointed that there are movies like this, ruining actor's like Christopher Walken's good name. I could barely sit through it.\"\n",
            "Movie Review has sentiment 0 for input text b'I have been known to fall asleep during films, but this is usually due to a combination of things including, really tired, being warm and comfortable on the sette and having just eaten a lot. However on this occasion I fell asleep because the film was rubbish. The plot development was constant. Constantly slow and boring. Things seemed to happen, but with no explanation of what was causing them or why. I admit, I may have missed part of the film, but i watched the majority of it and everything just seemed to happen of its own accord without any real concern for anything else. I cant recommend this film at all.'\n",
            "Movie Review has sentiment 0 for input text b'Mann photographs the Alberta Rocky Mountains in a superb fashion, and Jimmy Stewart and Walter Brennan give enjoyable performances as they always seem to do. <br /><br />But come on Hollywood - a Mountie telling the people of Dawson City, Yukon to elect themselves a marshal (yes a marshal!) and to enforce the law themselves, then gunfighters battling it out on the streets for control of the town? <br /><br />Nothing even remotely resembling that happened on the Canadian side of the border during the Klondike gold rush. Mr. Mann and company appear to have mistaken Dawson City for Deadwood, the Canadian North for the American Wild West.<br /><br />Canadian viewers be prepared for a Reefer Madness type of enjoyable howl with this ludicrous plot, or, to shake your head in disgust.'\n",
            "Movie Review has sentiment 1 for input text b'This is the kind of film for a snowy Sunday afternoon when the rest of the world can go ahead with its own business as you descend into a big arm-chair and mellow for a couple of hours. Wonderful performances from Cher and Nicolas Cage (as always) gently row the plot along. There are no rapids to cross, no dangerous waters, just a warm and witty paddle through New York life at its best. A family film in every sense and one that deserves the praise it received.'\n",
            "Movie Review has sentiment 1 for input text b'As others have mentioned, all the women that go nude in this film are mostly absolutely gorgeous. The plot very ably shows the hypocrisy of the female libido. When men are around they want to be pursued, but when no \"men\" are around, they become the pursuers of a 14 year old boy. And the boy becomes a man really fast (we should all be so lucky at this age!). He then gets up the courage to pursue his true love.'\n"
          ],
          "name": "stdout"
        }
      ]
    },
    {
      "cell_type": "markdown",
      "metadata": {
        "id": "7uueR6Fzj13C"
      },
      "source": [
        "**Preprocess the data**"
      ]
    },
    {
      "cell_type": "code",
      "metadata": {
        "id": "9PY861eHKvqg"
      },
      "source": [
        "bert_preprocess_model = hub.KerasLayer(tfhub_handle_preprocess)"
      ],
      "execution_count": null,
      "outputs": []
    },
    {
      "cell_type": "code",
      "metadata": {
        "colab": {
          "base_uri": "https://localhost:8080/"
        },
        "id": "Pz3mVb8JKj1F",
        "outputId": "62f96025-17a6-4721-8ab6-904a2bdb5dca"
      },
      "source": [
        "text_test = ['this is such an amazing movie!']\n",
        "text_preprocessed = bert_preprocess_model(text_test)\n",
        "\n",
        "print(f'Keys       : {list(text_preprocessed.keys())}')\n",
        "print(f'Shape      : {text_preprocessed[\"input_word_ids\"].shape}')\n",
        "print(f'Word Ids   : {text_preprocessed[\"input_word_ids\"][0, :12]}')\n",
        "print(f'Input Mask : {text_preprocessed[\"input_mask\"][0, :12]}')\n",
        "print(f'Type Ids   : {text_preprocessed[\"input_type_ids\"][0, :12]}')"
      ],
      "execution_count": null,
      "outputs": [
        {
          "output_type": "stream",
          "text": [
            "Keys       : ['input_word_ids', 'input_mask', 'input_type_ids']\n",
            "Shape      : (1, 128)\n",
            "Word Ids   : [ 101 2023 2003 2107 2019 6429 3185  999  102    0    0    0]\n",
            "Input Mask : [1 1 1 1 1 1 1 1 1 0 0 0]\n",
            "Type Ids   : [0 0 0 0 0 0 0 0 0 0 0 0]\n"
          ],
          "name": "stdout"
        }
      ]
    },
    {
      "cell_type": "markdown",
      "metadata": {
        "id": "EVV9irj0K8Dv"
      },
      "source": [
        "The 3 outputs from the preprocessing that a BERT model would use (input_words_id, input_mask and input_type_ids).\n",
        "\n",
        "The input_type_ids only have one value (0) because this is a single sentence input. For a multiple sentence input, it would have one number for each input."
      ]
    },
    {
      "cell_type": "markdown",
      "metadata": {
        "id": "FI82gGYNMUiT"
      },
      "source": [
        "**Use the BERT Model**"
      ]
    },
    {
      "cell_type": "code",
      "metadata": {
        "id": "KpjPjNblMSAc"
      },
      "source": [
        "bert_model = hub.KerasLayer(tfhub_handle_encoder)"
      ],
      "execution_count": null,
      "outputs": []
    },
    {
      "cell_type": "code",
      "metadata": {
        "colab": {
          "base_uri": "https://localhost:8080/"
        },
        "id": "YFdCYSDMMb_L",
        "outputId": "831b4d03-2ec0-4784-d5cf-a0834209a2a5"
      },
      "source": [
        "bert_results = bert_model(text_preprocessed)\n",
        "\n",
        "print(f'Loaded BERT: {tfhub_handle_encoder}')\n",
        "print(f'Pooled Outputs Shape:{bert_results[\"pooled_output\"].shape}')\n",
        "print(f'Pooled Outputs Values:{bert_results[\"pooled_output\"][0, :12]}')\n",
        "print(f'Sequence Outputs Shape:{bert_results[\"sequence_output\"].shape}')\n",
        "print(f'Sequence Outputs Values:{bert_results[\"sequence_output\"][0, :12]}')"
      ],
      "execution_count": null,
      "outputs": [
        {
          "output_type": "stream",
          "text": [
            "Loaded BERT: https://tfhub.dev/tensorflow/bert_en_uncased_L-12_H-768_A-12/3\n",
            "Pooled Outputs Shape:(1, 768)\n",
            "Pooled Outputs Values:[-0.9216989  -0.39353535 -0.5393206   0.68256295  0.43848675 -0.14021207\n",
            "  0.8774716   0.26043403 -0.63113207 -0.99996567 -0.26320213  0.851054  ]\n",
            "Sequence Outputs Shape:(1, 128, 768)\n",
            "Sequence Outputs Values:[[ 0.19451521  0.2514171   0.19074959 ... -0.24845052  0.38568553\n",
            "   0.13291009]\n",
            " [-0.59478754 -0.39420435  0.25245735 ... -0.76946807  1.1564162\n",
            "   0.32475716]\n",
            " [ 0.00641596 -0.15766442  0.54610294 ... -0.1745113   0.6028951\n",
            "   0.426723  ]\n",
            " ...\n",
            " [ 0.21948361 -0.20927043  0.5386834  ...  0.24693483  0.18250942\n",
            "  -0.44426998]\n",
            " [ 0.01080248 -0.44553173  0.35990965 ...  0.31722686  0.23562762\n",
            "  -0.6307051 ]\n",
            " [ 0.29321116 -0.1058189   0.6114756  ...  0.20745769  0.14494625\n",
            "  -0.35353318]]\n"
          ],
          "name": "stdout"
        }
      ]
    },
    {
      "cell_type": "markdown",
      "metadata": {
        "id": "eZfFiduSNJEs"
      },
      "source": [
        "**Define your model**\n",
        "\n",
        "Create a very simple fine-tuned model consisting of:\n",
        "\n",
        "*   The Preprocessing Model\n",
        "*   The Selected BERT model\n",
        "*   Dense Layer\n",
        "*   Dropout Layer"
      ]
    },
    {
      "cell_type": "code",
      "metadata": {
        "id": "7dzdbYK0jgZc"
      },
      "source": [
        "def build_classifier_model():\n",
        "  text_input = tf.keras.layers.Input(shape=(), dtype=tf.string, name='text')\n",
        "  preprocessing_layer = hub.KerasLayer(tfhub_handle_preprocess, name='preprocessing')\n",
        "  encoder_inputs = preprocessing_layer(text_input)\n",
        "  encoder = hub.KerasLayer(tfhub_handle_encoder, trainable=True, name='BERT_encoder')\n",
        "  outputs = encoder(encoder_inputs)\n",
        "  net = outputs['pooled_output']\n",
        "  net = tf.keras.layers.Dropout(0.1)(net)\n",
        "  net = tf.keras.layers.Dense(1, activation=None, name='classifier')(net)\n",
        "  return tf.keras.Model(text_input, net)"
      ],
      "execution_count": null,
      "outputs": []
    },
    {
      "cell_type": "markdown",
      "metadata": {
        "id": "nCyd0oi6N6vD"
      },
      "source": [
        "Quick sanity test"
      ]
    },
    {
      "cell_type": "code",
      "metadata": {
        "colab": {
          "base_uri": "https://localhost:8080/"
        },
        "id": "5YSeEZ3fN55A",
        "outputId": "7afff87f-cb51-43f4-ac09-7b5cdf955374"
      },
      "source": [
        "classifier_model = build_classifier_model()\n",
        "bert_raw_result = classifier_model(tf.constant(text_test))\n",
        "print(tf.sigmoid(bert_raw_result))"
      ],
      "execution_count": null,
      "outputs": [
        {
          "output_type": "stream",
          "text": [
            "tf.Tensor([[0.5593434]], shape=(1, 1), dtype=float32)\n"
          ],
          "name": "stdout"
        }
      ]
    },
    {
      "cell_type": "code",
      "metadata": {
        "colab": {
          "base_uri": "https://localhost:8080/",
          "height": 466
        },
        "id": "pQl8hkoKQV9-",
        "outputId": "6402f950-5b37-4a37-8b28-1867b0ae0527"
      },
      "source": [
        "tf.keras.utils.plot_model(classifier_model)\n"
      ],
      "execution_count": null,
      "outputs": [
        {
          "output_type": "execute_result",
          "data": {
            "image/png": "[encoded data removed]",
            "text/plain": [
              "<IPython.core.display.Image object>"
            ]
          },
          "metadata": {
            "tags": []
          },
          "execution_count": 20
        }
      ]
    },
    {
      "cell_type": "markdown",
      "metadata": {
        "id": "wiSWJ-v0OOjb"
      },
      "source": [
        "**Loss function**\n",
        "\n",
        "Since this is a binary classification problem and the model outputs a probability (a single-unit layer), you'll use losses.BinaryCrossentropy loss function."
      ]
    },
    {
      "cell_type": "code",
      "metadata": {
        "id": "eKMWs7ttOWwD"
      },
      "source": [
        "loss = tf.keras.losses.BinaryCrossentropy(from_logits=True)\n",
        "metrics = tf.metrics.BinaryAccuracy()"
      ],
      "execution_count": null,
      "outputs": []
    },
    {
      "cell_type": "markdown",
      "metadata": {
        "id": "azu1cMaLOjdt"
      },
      "source": [
        "**Optimizer**\n",
        "\n",
        "For fine-tuning, let's use the same optimizer that BERT was originally trained with: the \"Adaptive Moments\" (Adam). This optimizer minimizes the prediction loss and does regularization by weight decay (not using moments), which is also known as AdamW.\n",
        "\n",
        "For the learning rate (init_lr), we use the same schedule as BERT pre-training: linear decay of a notional initial learning rate, prefixed with a linear warm-up phase over the first 10% of training steps (num_warmup_steps). In line with the BERT paper, the initial learning rate is smaller for fine-tuning (best of 5e-5, 3e-5, 2e-5)."
      ]
    },
    {
      "cell_type": "code",
      "metadata": {
        "id": "g3kwrwI9Oohj"
      },
      "source": [
        "epochs = 5\n",
        "steps_per_epoch = tf.data.experimental.cardinality(train_ds).numpy()\n",
        "num_train_steps = steps_per_epoch * epochs\n",
        "num_warmup_steps = int(0.1*num_train_steps)\n",
        "\n",
        "init_lr = 3e-5\n",
        "optimizer = optimization.create_optimizer(init_lr=init_lr,\n",
        "                                          num_train_steps=num_train_steps,\n",
        "                                          num_warmup_steps=num_warmup_steps,\n",
        "                                          optimizer_type='adamw')"
      ],
      "execution_count": null,
      "outputs": []
    },
    {
      "cell_type": "markdown",
      "metadata": {
        "id": "fqb3lEUmRvqD"
      },
      "source": [
        "**Compile & Train Model**"
      ]
    },
    {
      "cell_type": "code",
      "metadata": {
        "id": "jwOGs6llRudY"
      },
      "source": [
        "classifier_model.compile(optimizer=optimizer,\n",
        "                         loss=loss,\n",
        "                         metrics=metrics)"
      ],
      "execution_count": null,
      "outputs": []
    },
    {
      "cell_type": "code",
      "metadata": {
        "colab": {
          "base_uri": "https://localhost:8080/"
        },
        "id": "h-4yM4DoRzHO",
        "outputId": "e6dfc0a7-7423-4c69-d925-88a5a084123d"
      },
      "source": [
        "print(f'Training model with {tfhub_handle_encoder}')\n",
        "history = classifier_model.fit(x=train_ds,\n",
        "                               validation_data=val_ds,\n",
        "                               epochs=epochs)"
      ],
      "execution_count": null,
      "outputs": [
        {
          "output_type": "stream",
          "text": [
            "Training model with https://tfhub.dev/tensorflow/bert_en_uncased_L-12_H-768_A-12/3\n",
            "Epoch 1/5\n",
            "781/781 [==============================] - 551s 682ms/step - loss: 0.4946 - binary_accuracy: 0.7079 - val_loss: 0.3080 - val_binary_accuracy: 0.8803\n",
            "Epoch 2/5\n",
            "781/781 [==============================] - 531s 680ms/step - loss: 0.2609 - binary_accuracy: 0.8900 - val_loss: 0.3206 - val_binary_accuracy: 0.8867\n",
            "Epoch 3/5\n",
            "781/781 [==============================] - 532s 681ms/step - loss: 0.1409 - binary_accuracy: 0.9506 - val_loss: 0.4201 - val_binary_accuracy: 0.8878\n",
            "Epoch 4/5\n",
            "781/781 [==============================] - 532s 681ms/step - loss: 0.0686 - binary_accuracy: 0.9800 - val_loss: 0.5659 - val_binary_accuracy: 0.8876\n",
            "Epoch 5/5\n",
            "781/781 [==============================] - 532s 681ms/step - loss: 0.0368 - binary_accuracy: 0.9897 - val_loss: 0.6272 - val_binary_accuracy: 0.8882\n"
          ],
          "name": "stdout"
        }
      ]
    },
    {
      "cell_type": "markdown",
      "metadata": {
        "id": "pSdwAKp3gbv6"
      },
      "source": [
        "**Evaluate the model**\n",
        "\n",
        "Two values will be returned. Loss (a number which represents the error, lower values are better), and accuracy."
      ]
    },
    {
      "cell_type": "code",
      "metadata": {
        "id": "2EkDvHfGg0Rr",
        "colab": {
          "base_uri": "https://localhost:8080/"
        },
        "outputId": "a5bf5ad5-7f99-4593-cd3b-0414e98c5e9a"
      },
      "source": [
        "print(eval_ds)"
      ],
      "execution_count": null,
      "outputs": [
        {
          "output_type": "stream",
          "text": [
            "<PrefetchDataset shapes: ((32,), (32,)), types: (tf.string, tf.int64)>\n"
          ],
          "name": "stdout"
        }
      ]
    },
    {
      "cell_type": "code",
      "metadata": {
        "id": "4pkCIsxdR3vp",
        "colab": {
          "base_uri": "https://localhost:8080/"
        },
        "outputId": "7d9da61f-3a00-431b-8058-b1baf164728f"
      },
      "source": [
        "loss, accuracy = classifier_model.evaluate(eval_ds)\n",
        "\n",
        "print(f'Loss: {loss}')\n",
        "print(f'Accuracy: {accuracy}')"
      ],
      "execution_count": null,
      "outputs": [
        {
          "output_type": "stream",
          "text": [
            "781/781 [==============================] - 173s 222ms/step - loss: 0.0124 - binary_accuracy: 0.9975\n",
            "Loss: 0.012366879731416702\n",
            "Accuracy: 0.9974792003631592\n"
          ],
          "name": "stdout"
        }
      ]
    },
    {
      "cell_type": "markdown",
      "metadata": {
        "id": "kxpdHedxgk14"
      },
      "source": [
        "**Plot the accuracy and loss over time**\n",
        "\n",
        "Based on the History object returned by model.fit(). You can plot the training and validation loss for comparison, as well as the training and validation accuracy:"
      ]
    },
    {
      "cell_type": "code",
      "metadata": {
        "id": "Dp3xrlGgghkc",
        "colab": {
          "base_uri": "https://localhost:8080/",
          "height": 438
        },
        "outputId": "94defb7e-b2b3-49fc-d364-e1a79c92019c"
      },
      "source": [
        "history_dict = history.history\n",
        "print(history_dict.keys())\n",
        "\n",
        "acc = history_dict['binary_accuracy']\n",
        "val_acc = history_dict['val_binary_accuracy']\n",
        "loss = history_dict['loss']\n",
        "val_loss = history_dict['val_loss']\n",
        "\n",
        "epochs = range(1, len(acc) + 1)\n",
        "fig = plt.figure(figsize=(10, 6))\n",
        "fig.tight_layout()\n",
        "\n",
        "plt.subplot(2, 1, 1)\n",
        "# \"bo\" is for \"blue dot\"\n",
        "plt.plot(epochs, loss, 'r', label='Training loss')\n",
        "# b is for \"solid blue line\"\n",
        "plt.plot(epochs, val_loss, 'b', label='Validation loss')\n",
        "plt.title('Training and validation loss')\n",
        "# plt.xlabel('Epochs')\n",
        "plt.ylabel('Loss')\n",
        "plt.legend()\n",
        "\n",
        "plt.subplot(2, 1, 2)\n",
        "plt.plot(epochs, acc, 'r', label='Training acc')\n",
        "plt.plot(epochs, val_acc, 'b', label='Validation acc')\n",
        "plt.title('Training and validation accuracy')\n",
        "plt.xlabel('Epochs')\n",
        "plt.ylabel('Accuracy')\n",
        "plt.legend(loc='lower right')"
      ],
      "execution_count": 43,
      "outputs": [
        {
          "output_type": "stream",
          "text": [
            "dict_keys(['loss', 'binary_accuracy', 'val_loss', 'val_binary_accuracy'])\n"
          ],
          "name": "stdout"
        },
        {
          "output_type": "execute_result",
          "data": {
            "text/plain": [
              "<matplotlib.legend.Legend at 0x7f5e55b146a0>"
            ]
          },
          "metadata": {
            "tags": []
          },
          "execution_count": 43
        },
        {
          "output_type": "display_data",
          "data": {
            "image/png": "[encoded data removed]",
            "text/plain": [
              "<Figure size 720x432 with 2 Axes>"
            ]
          },
          "metadata": {
            "tags": [],
            "needs_background": "light"
          }
        }
      ]
    },
    {
      "cell_type": "markdown",
      "metadata": {
        "id": "5jNFZtZchPOZ"
      },
      "source": [
        "**Export the Model for Future Use**"
      ]
    },
    {
      "cell_type": "code",
      "metadata": {
        "id": "gh1zOauDzbKq",
        "colab": {
          "base_uri": "https://localhost:8080/"
        },
        "outputId": "9f383549-4834-4c77-8192-fe84205708f3"
      },
      "source": [
        "version = 1\n",
        "dataset_name = 'imdb'\n",
        "cwd = os.getcwd()\n",
        "\n",
        "export_path = '{}/{}_bert'.format(cwd, dataset_name.replace('/', '_'))\n",
        "saved_model_path = export_path + '/' + str(version)\n",
        "print(f'export_path={export_path}, saved_model_path={saved_model_path}')"
      ],
      "execution_count": 44,
      "outputs": [
        {
          "output_type": "stream",
          "text": [
            "export_path=/content/imdb_bert, saved_model_path=/content/imdb_bert/1\n"
          ],
          "name": "stdout"
        }
      ]
    },
    {
      "cell_type": "code",
      "metadata": {
        "id": "mh6pAQi4hVsb",
        "colab": {
          "base_uri": "https://localhost:8080/"
        },
        "outputId": "3fefbd55-2413-4217-ce96-ecc2779bc366"
      },
      "source": [
        "classifier_model.save(saved_model_path, include_optimizer=True, overwrite=True)"
      ],
      "execution_count": 45,
      "outputs": [
        {
          "output_type": "stream",
          "text": [
            "WARNING:absl:Found untraced functions such as restored_function_body, restored_function_body, restored_function_body, restored_function_body, restored_function_body while saving (showing 5 of 910). These functions will not be directly callable after loading.\n",
            "WARNING:absl:Found untraced functions such as restored_function_body, restored_function_body, restored_function_body, restored_function_body, restored_function_body while saving (showing 5 of 910). These functions will not be directly callable after loading.\n"
          ],
          "name": "stderr"
        }
      ]
    },
    {
      "cell_type": "code",
      "metadata": {
        "id": "bMFelsS3hYev"
      },
      "source": [
        "# Reload the model\n",
        "reloaded_model = tf.saved_model.load(saved_model_path)"
      ],
      "execution_count": 46,
      "outputs": []
    },
    {
      "cell_type": "code",
      "metadata": {
        "id": "t4hgaAU0haKu",
        "colab": {
          "base_uri": "https://localhost:8080/"
        },
        "outputId": "03a1cd21-a5ce-47a4-f169-557d7d05f106"
      },
      "source": [
        "def print_my_examples(inputs, results):\n",
        "  result_for_printing = \\\n",
        "    [f'input: {inputs[i]:<30} : score: {results[i][0]:.6f}'\n",
        "                         for i in range(len(inputs))]\n",
        "  print(*result_for_printing, sep='\\n')\n",
        "  print()\n",
        "\n",
        "\n",
        "examples = [\n",
        "    'this is such an amazing movie!',  # this is the same sentence tried earlier\n",
        "    'The movie was great!',\n",
        "    'The movie was meh.',\n",
        "    'The movie was okish.',\n",
        "    'The movie was terrible...'\n",
        "]\n",
        "\n",
        "reloaded_results = tf.sigmoid(reloaded_model(tf.constant(examples)))\n",
        "original_results = tf.sigmoid(classifier_model(tf.constant(examples)))\n",
        "\n",
        "print('Results from the saved model:')\n",
        "print_my_examples(examples, reloaded_results)\n",
        "print('Results from the model in memory:')\n",
        "print_my_examples(examples, original_results)"
      ],
      "execution_count": 47,
      "outputs": [
        {
          "output_type": "stream",
          "text": [
            "Results from the saved model:\n",
            "input: this is such an amazing movie! : score: 0.998667\n",
            "input: The movie was great!           : score: 0.997542\n",
            "input: The movie was meh.             : score: 0.135683\n",
            "input: The movie was okish.           : score: 0.001024\n",
            "input: The movie was terrible...      : score: 0.000702\n",
            "\n",
            "Results from the model in memory:\n",
            "input: this is such an amazing movie! : score: 0.998667\n",
            "input: The movie was great!           : score: 0.997542\n",
            "input: The movie was meh.             : score: 0.135683\n",
            "input: The movie was okish.           : score: 0.001024\n",
            "input: The movie was terrible...      : score: 0.000702\n",
            "\n"
          ],
          "name": "stdout"
        }
      ]
    },
    {
      "cell_type": "markdown",
      "metadata": {
        "id": "SvfKxRWqhpCB"
      },
      "source": [
        "**Use TF Serving**\n",
        "\n",
        "TensorFlow Serving is a flexible, high-performance serving system for machine learning models, designed for production environments.\n",
        "\n",
        "Servables are the core abstraction in TensorFlow Serving and will represent out model. Apart from that, TF Serving provides Sources, Loaders and Managers that handle the actual serving, loading of new versions and unloading of old versions."
      ]
    },
    {
      "cell_type": "code",
      "metadata": {
        "id": "cRqC9l2ohv5M",
        "colab": {
          "base_uri": "https://localhost:8080/"
        },
        "outputId": "be3abce7-3d4e-40d4-e308-b45fb167080c"
      },
      "source": [
        "serving_results = reloaded_model \\\n",
        "            .signatures['serving_default'](tf.constant(examples))\n",
        "\n",
        "serving_results = tf.sigmoid(serving_results['classifier'])\n",
        "\n",
        "print_my_examples(examples, serving_results)"
      ],
      "execution_count": 48,
      "outputs": [
        {
          "output_type": "stream",
          "text": [
            "input: this is such an amazing movie! : score: 0.998667\n",
            "input: The movie was great!           : score: 0.997542\n",
            "input: The movie was meh.             : score: 0.135683\n",
            "input: The movie was okish.           : score: 0.001024\n",
            "input: The movie was terrible...      : score: 0.000702\n",
            "\n"
          ],
          "name": "stdout"
        }
      ]
    },
    {
      "cell_type": "markdown",
      "metadata": {
        "id": "FjtvqAjOnd9n"
      },
      "source": [
        "Another Serving Example"
      ]
    },
    {
      "cell_type": "code",
      "metadata": {
        "id": "rGxWpF6Qp_l5",
        "colab": {
          "base_uri": "https://localhost:8080/"
        },
        "outputId": "2c8064d3-71d6-4035-e071-1d54a89cae28"
      },
      "source": [
        "% ls /content/imdb_bert/1/"
      ],
      "execution_count": 49,
      "outputs": [
        {
          "output_type": "stream",
          "text": [
            "\u001b[0m\u001b[01;34massets\u001b[0m/  saved_model.pb  \u001b[01;34mvariables\u001b[0m/\n"
          ],
          "name": "stdout"
        }
      ]
    },
    {
      "cell_type": "code",
      "metadata": {
        "id": "uE1qyZ6Xq_TN",
        "colab": {
          "base_uri": "https://localhost:8080/"
        },
        "outputId": "031fbb03-1df1-4cab-876d-13b127bddafc"
      },
      "source": [
        "# This is the same as you would do from your command line, but without the [arch=amd64], and no sudo\n",
        "# You would instead do:\n",
        "# echo \"deb [arch=amd64] http://storage.googleapis.com/tensorflow-serving-apt stable tensorflow-model-server tensorflow-model-server-universal\" | sudo tee /etc/apt/sources.list.d/tensorflow-serving.list && \\\n",
        "# curl https://storage.googleapis.com/tensorflow-serving-apt/tensorflow-serving.release.pub.gpg | sudo apt-key add -\n",
        "\n",
        "!echo \"deb http://storage.googleapis.com/tensorflow-serving-apt stable tensorflow-model-server tensorflow-model-server-universal\" | tee /etc/apt/sources.list.d/tensorflow-serving.list && \\\n",
        "curl https://storage.googleapis.com/tensorflow-serving-apt/tensorflow-serving.release.pub.gpg | apt-key add -\n",
        "!apt update"
      ],
      "execution_count": 50,
      "outputs": [
        {
          "output_type": "stream",
          "text": [
            "deb http://storage.googleapis.com/tensorflow-serving-apt stable tensorflow-model-server tensorflow-model-server-universal\n",
            "  % Total    % Received % Xferd  Average Speed   Time    Time     Time  Current\n",
            "                                 Dload  Upload   Total   Spent    Left  Speed\n",
            "\r  0     0    0     0    0     0      0      0 --:--:-- --:--:-- --:--:--     0\r100  2943  100  2943    0     0   151k      0 --:--:-- --:--:-- --:--:--  151k\n",
            "OK\n",
            "Hit:1 http://storage.googleapis.com/tensorflow-serving-apt stable InRelease\n",
            "Ign:2 https://developer.download.nvidia.com/compute/cuda/repos/ubuntu1804/x86_64  InRelease\n",
            "Ign:3 https://developer.download.nvidia.com/compute/machine-learning/repos/ubuntu1804/x86_64  InRelease\n",
            "Hit:4 https://developer.download.nvidia.com/compute/cuda/repos/ubuntu1804/x86_64  Release\n",
            "Hit:5 http://security.ubuntu.com/ubuntu bionic-security InRelease\n",
            "Hit:6 https://developer.download.nvidia.com/compute/machine-learning/repos/ubuntu1804/x86_64  Release\n",
            "Hit:7 https://cloud.r-project.org/bin/linux/ubuntu bionic-cran40/ InRelease\n",
            "Hit:8 http://ppa.launchpad.net/c2d4u.team/c2d4u4.0+/ubuntu bionic InRelease\n",
            "Hit:9 http://archive.ubuntu.com/ubuntu bionic InRelease\n",
            "Hit:11 http://archive.ubuntu.com/ubuntu bionic-updates InRelease\n",
            "Hit:12 http://ppa.launchpad.net/cran/libgit2/ubuntu bionic InRelease\n",
            "Hit:13 http://archive.ubuntu.com/ubuntu bionic-backports InRelease\n",
            "Hit:15 http://ppa.launchpad.net/graphics-drivers/ppa/ubuntu bionic InRelease\n",
            "Reading package lists... Done\n",
            "Building dependency tree       \n",
            "Reading state information... Done\n",
            "19 packages can be upgraded. Run 'apt list --upgradable' to see them.\n"
          ],
          "name": "stdout"
        }
      ]
    },
    {
      "cell_type": "code",
      "metadata": {
        "id": "JV2S2Ninritk",
        "colab": {
          "base_uri": "https://localhost:8080/"
        },
        "outputId": "8eacd41e-9ab0-4436-cf32-628ef3549017"
      },
      "source": [
        "! apt-get install tensorflow-model-server"
      ],
      "execution_count": 51,
      "outputs": [
        {
          "output_type": "stream",
          "text": [
            "Reading package lists... Done\n",
            "Building dependency tree       \n",
            "Reading state information... Done\n",
            "tensorflow-model-server is already the newest version (2.4.1).\n",
            "0 upgraded, 0 newly installed, 0 to remove and 19 not upgraded.\n"
          ],
          "name": "stdout"
        }
      ]
    },
    {
      "cell_type": "code",
      "metadata": {
        "id": "S0_d8C_Qrycf",
        "colab": {
          "base_uri": "https://localhost:8080/"
        },
        "outputId": "c01dc76d-c1b5-4c17-f528-f5a9d209b09b"
      },
      "source": [
        "%%bash -s \"$export_path\" --bg \n",
        "nohup tensorflow_model_server \\\n",
        "  --rest_api_port=8501 \\\n",
        "  --model_name=imdb_bert \\\n",
        "  --model_base_path=$1 >server.log 2>&1"
      ],
      "execution_count": 52,
      "outputs": [
        {
          "output_type": "stream",
          "text": [
            "Starting job # 2 in a separate thread.\n"
          ],
          "name": "stdout"
        }
      ]
    },
    {
      "cell_type": "code",
      "metadata": {
        "id": "m_f9gU99sCP0",
        "colab": {
          "base_uri": "https://localhost:8080/"
        },
        "outputId": "ef2fb9e8-68c8-4e48-9b69-b92b4e04700f"
      },
      "source": [
        "! tail server.log"
      ],
      "execution_count": 53,
      "outputs": [
        {
          "output_type": "stream",
          "text": [
            "2021-02-19 19:03:20.569409: I tensorflow_serving/model_servers/server.cc:88] Building single TensorFlow model file config:  model_name: imdb_bert model_base_path: /content/imdb_bert\n",
            "2021-02-19 19:03:20.569695: I tensorflow_serving/model_servers/server_core.cc:464] Adding/updating models.\n",
            "2021-02-19 19:03:20.569734: I tensorflow_serving/model_servers/server_core.cc:587]  (Re-)adding model: imdb_bert\n"
          ],
          "name": "stdout"
        }
      ]
    },
    {
      "cell_type": "code",
      "metadata": {
        "id": "gcT8-O4gMr1a"
      },
      "source": [
        "!pip install -q requests"
      ],
      "execution_count": 54,
      "outputs": []
    },
    {
      "cell_type": "code",
      "metadata": {
        "id": "3zADNMvSO0UM"
      },
      "source": [
        "import requests\n",
        "import json"
      ],
      "execution_count": 55,
      "outputs": []
    },
    {
      "cell_type": "code",
      "metadata": {
        "id": "ft3Jl0BsPBxp",
        "colab": {
          "base_uri": "https://localhost:8080/"
        },
        "outputId": "f5d32607-9c66-4551-99fb-0d45429b80df"
      },
      "source": [
        "data = json.dumps({\"signature_name\": \"serving_default\", \"instances\": examples})\n",
        "print(data)"
      ],
      "execution_count": 56,
      "outputs": [
        {
          "output_type": "stream",
          "text": [
            "{\"signature_name\": \"serving_default\", \"instances\": [\"this is such an amazing movie!\", \"The movie was great!\", \"The movie was meh.\", \"The movie was okish.\", \"The movie was terrible...\"]}\n"
          ],
          "name": "stdout"
        }
      ]
    },
    {
      "cell_type": "code",
      "metadata": {
        "id": "mcMYcp_0Mq1D",
        "colab": {
          "base_uri": "https://localhost:8080/"
        },
        "outputId": "2e657081-9bbf-488e-bc9d-17b268fd6ba5"
      },
      "source": [
        "headers = {\"content-type\": \"application/json\"}\n",
        "url = 'http://localhost:8501/v1/models/imdb_bert:predict'\n",
        "\n",
        "try:\n",
        "  json_response = requests.post(url, data=data, headers=headers)\n",
        "  predictions = json.loads(json_response.text)['predictions']\n",
        "  predictions = tf.sigmoid(predictions)\n",
        "  print(predictions)\n",
        "except ValueError:  # includes simplejson.decoder.JSONDecodeError\n",
        "    print(f'Failed to fetch url {url} or predictions not a list of floating point numbers: {predictions}')"
      ],
      "execution_count": 57,
      "outputs": [
        {
          "output_type": "stream",
          "text": [
            "tf.Tensor(\n",
            "[[9.9866736e-01]\n",
            " [9.9754202e-01]\n",
            " [1.3568303e-01]\n",
            " [1.0240322e-03]\n",
            " [7.0240191e-04]], shape=(5, 1), dtype=float32)\n"
          ],
          "name": "stdout"
        }
      ]
    },
    {
      "cell_type": "code",
      "metadata": {
        "id": "TKLQBHN4sCYX",
        "colab": {
          "base_uri": "https://localhost:8080/"
        },
        "outputId": "711ca614-40fe-4996-95ea-75553810f59d"
      },
      "source": [
        "print_my_examples(examples, predictions)"
      ],
      "execution_count": 58,
      "outputs": [
        {
          "output_type": "stream",
          "text": [
            "input: this is such an amazing movie! : score: 0.998667\n",
            "input: The movie was great!           : score: 0.997542\n",
            "input: The movie was meh.             : score: 0.135683\n",
            "input: The movie was okish.           : score: 0.001024\n",
            "input: The movie was terrible...      : score: 0.000702\n",
            "\n"
          ],
          "name": "stdout"
        }
      ]
    }
  ]
}