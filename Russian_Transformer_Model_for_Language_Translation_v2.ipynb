{
  "nbformat": 4,
  "nbformat_minor": 0,
  "metadata": {
    "accelerator": "GPU",
    "colab": {
      "name": "Russian_Transformer_Model_for_Language_Translation_v2.ipynb",
      "provenance": [],
      "collapsed_sections": [],
      "machine_shape": "hm"
    },
    "kernelspec": {
      "display_name": "Python 3",
      "name": "python3"
    }
  },
  "cells": [
    {
      "cell_type": "markdown",
      "metadata": {
        "id": "J0Qjg6vuaHNt"
      },
      "source": [
        "# Transformer model for Russian Language Translation"
      ]
    },
    {
      "cell_type": "markdown",
      "metadata": {
        "id": "M-f8TnGpE_ex"
      },
      "source": [
        "### Introduction\n",
        "This walkthrough translates Russian to English. The purpose is to show a detailed low-level implementation of the original Transformer architecture as described in Vaswani, et al. 2017 from Google Brain (https://arxiv.org/abs/1706.03762). It also shows an implementation of Subword Tokenization using the BERT tokenizer. \n",
        "\n",
        "This implementation is modified from the following Google Tensorflow Tutorials: \n",
        "* https://www.tensorflow.org/tutorials/tensorflow_text/subwords_tokenizer\n",
        "* https://www.tensorflow.org/tutorials/text/transformer\n",
        "\n",
        "which are:\n",
        "* Copyright 2019 The TensorFlow Authors.\n",
        "* Licensed under the Apache License, Version 2.0 (the \"License\");\n",
        "\n",
        "In addition, the following modifications have been made by Hamilton Hitchigs:\n",
        "* Changed the source language from Portugese to Russian\n",
        "* Added Bleu & Rouge accuracy tests to the end \n",
        "* Merged Converter and Transformer examples\n",
        "* Changed code so it will save the converter and transformer model to Google drive and reuse if they already exist.\n",
        "* Various minor changes\n",
        "\n",
        "\n",
        "\n"
      ]
    },
    {
      "cell_type": "markdown",
      "metadata": {
        "id": "CXCxkADVwbEk"
      },
      "source": [
        "The core idea behind the Transformer model is *self-attention*—the ability to attend to different positions of the input sequence to compute a representation of that sequence. Transformer creates stacks of self-attention layers and is explained below in the sections *Scaled dot product attention* and *Multi-head attention*.\n",
        "\n",
        "A transformer model handles variable-sized input using stacks of self-attention layers instead of [RNNs](text_classification_rnn.ipynb) or [CNNs](../images/intro_to_cnns.ipynb). This general architecture has a number of advantages:\n",
        "\n",
        "* It makes no assumptions about the temporal/spatial relationships across the data. This is ideal for processing a set of objects (for example, [StarCraft units](https://deepmind.com/blog/alphastar-mastering-real-time-strategy-game-starcraft-ii/#block-8)).\n",
        "* Layer outputs can be calculated in parallel, instead of a series like an RNN.\n",
        "* Distant items can affect each other's output without passing through many RNN-steps, or convolution layers (see [Scene Memory Transformer](https://arxiv.org/pdf/1903.03878.pdf) for example).\n",
        "* It can learn long-range dependencies. This is a challenge in many sequence tasks.\n",
        "\n",
        "The downsides of this architecture are:\n",
        "\n",
        "* For a time-series, the output for a time-step is calculated from the *entire history* instead of only the inputs and current hidden-state. This _may_ be less efficient.   \n",
        "* If the input *does* have a  temporal/spatial relationship, like text, some positional encoding must be added or the model will effectively see a bag of words. \n",
        "\n",
        "After training the model in this notebook, you will be able to input a Portuguese sentence and return the English translation.\n",
        "\n",
        "<img src=\"https://www.tensorflow.org/images/tutorials/transformer/attention_map_portuguese.png\" width=\"800\" alt=\"Attention heatmap\">"
      ]
    },
    {
      "cell_type": "markdown",
      "metadata": {
        "id": "swymtxpl7W7w"
      },
      "source": [
        "## Setup"
      ]
    },
    {
      "cell_type": "code",
      "metadata": {
        "colab": {
          "base_uri": "https://localhost:8080/"
        },
        "id": "Y8bCdfgffWaI",
        "outputId": "fe891038-9cdd-4fd6-a645-877c5b6b25cf"
      },
      "source": [
        "from google.colab import drive # Load the Drive helper and mount\n",
        "\n",
        "drive.mount('/content/drive') # This will prompt for authorization"
      ],
      "execution_count": 71,
      "outputs": [
        {
          "output_type": "stream",
          "text": [
            "Drive already mounted at /content/drive; to attempt to forcibly remount, call drive.mount(\"/content/drive\", force_remount=True).\n"
          ],
          "name": "stdout"
        }
      ]
    },
    {
      "cell_type": "code",
      "metadata": {
        "id": "N7d-aQHe-Drc"
      },
      "source": [
        "BASE_MODEL_PATH = 'drive/MyDrive/models/transformer_ru_en_v2'\n",
        "BASE_DATA_PATH = 'drive/MyDrive/data/transformer_ru_en_v2'\n",
        "CONVERTER_MODEL_NAME = 'ted_hrlr_translate_ru_en_converter'\n",
        "build_tokenizer = False"
      ],
      "execution_count": 72,
      "outputs": []
    },
    {
      "cell_type": "code",
      "metadata": {
        "colab": {
          "base_uri": "https://localhost:8080/"
        },
        "id": "BQuJu_TSd1o7",
        "outputId": "bb0f6530-d329-4f1e-f995-ffed41666e73"
      },
      "source": [
        "!ls -l drive/MyDrive/models/transformer_ru_en_v2/"
      ],
      "execution_count": 73,
      "outputs": [
        {
          "output_type": "stream",
          "text": [
            "total 4\n",
            "drwx------ 4 root root 4096 Mar 28 02:16 ted_hrlr_translate_ru_en_converter\n"
          ],
          "name": "stdout"
        }
      ]
    },
    {
      "cell_type": "code",
      "metadata": {
        "id": "Jxltg25gGW4b"
      },
      "source": [
        "#Cleanup for a fresh start\n",
        "#!rm -rf drive/MyDrive/data/downloads/*\n",
        "#!rm $BASE_MODEL_PATH/ckpt*\n",
        "#!rm $BASE_MODEL_PATH/checkpoint\n",
        "#!rm -Rf $BASE_MODEL_PATH/ted_hrlr_translate_ru_en_converter\n",
        "#!rm -Rf $BASE_DATA_PATH/*"
      ],
      "execution_count": 74,
      "outputs": []
    },
    {
      "cell_type": "code",
      "metadata": {
        "id": "stbhlFyy8uAJ"
      },
      "source": [
        "import os.path\n",
        "from os import path"
      ],
      "execution_count": 75,
      "outputs": []
    },
    {
      "cell_type": "code",
      "metadata": {
        "id": "aT9KihWb8wYs"
      },
      "source": [
        "if not path.exists(BASE_MODEL_PATH):\n",
        "  os.mkdir(BASE_MODEL_PATH)\n",
        "  print(f'Created model directory {BASE_MODEL_PATH}')\n",
        "\n",
        "if not path.exists(BASE_DATA_PATH):\n",
        "  os.mkdir(BASE_DATA_PATH)\n",
        "  print(f'Created model directory {BASE_DATA_PATH}')"
      ],
      "execution_count": 76,
      "outputs": []
    },
    {
      "cell_type": "code",
      "metadata": {
        "colab": {
          "base_uri": "https://localhost:8080/"
        },
        "id": "N7EGyH-wUsD2",
        "outputId": "fe45b3c3-a89d-44b0-ccee-74edda74224d"
      },
      "source": [
        "print(BASE_MODEL_PATH)\n",
        "!ls $BASE_MODEL_PATH\n",
        "print(BASE_DATA_PATH)\n",
        "!ls $BASE_DATA_PATH"
      ],
      "execution_count": 77,
      "outputs": [
        {
          "output_type": "stream",
          "text": [
            "drive/MyDrive/models/transformer_ru_en_v2\n",
            "ted_hrlr_translate_ru_en_converter\n",
            "drive/MyDrive/data/transformer_ru_en_v2\n",
            "downloads  en_vocab.txt  ru_vocab.txt  ted_hrlr_translate\n"
          ],
          "name": "stdout"
        }
      ]
    },
    {
      "cell_type": "code",
      "metadata": {
        "id": "iokc5Qt9Bt88"
      },
      "source": [
        "import collections\n",
        "import logging\n",
        "import os\n",
        "import pathlib\n",
        "import re\n",
        "import string\n",
        "import sys\n",
        "import time\n",
        "\n",
        "import numpy as np\n",
        "import matplotlib.pyplot as plt"
      ],
      "execution_count": 78,
      "outputs": []
    },
    {
      "cell_type": "code",
      "metadata": {
        "colab": {
          "base_uri": "https://localhost:8080/"
        },
        "id": "_VKbZvJVaAgw",
        "outputId": "a02a00e1-e796-4a56-d432-27f6f18ffabf"
      },
      "source": [
        "pip install rouge"
      ],
      "execution_count": 79,
      "outputs": [
        {
          "output_type": "stream",
          "text": [
            "Requirement already satisfied: rouge in /usr/local/lib/python3.7/dist-packages (1.0.0)\n",
            "Requirement already satisfied: six in /usr/local/lib/python3.7/dist-packages (from rouge) (1.15.0)\n"
          ],
          "name": "stdout"
        }
      ]
    },
    {
      "cell_type": "code",
      "metadata": {
        "id": "V7iEz7pWZ-2k"
      },
      "source": [
        "import nltk\n",
        "from rouge import Rouge\n",
        "from nltk.translate.bleu_score import corpus_bleu\n",
        "from nltk.translate.bleu_score import sentence_bleu\n",
        "from nltk.translate.bleu_score import SmoothingFunction"
      ],
      "execution_count": 80,
      "outputs": []
    },
    {
      "cell_type": "code",
      "metadata": {
        "colab": {
          "base_uri": "https://localhost:8080/"
        },
        "id": "_fH1o90m-BUv",
        "outputId": "a949efd4-2611-4867-e1fb-8748b847acc7"
      },
      "source": [
        "if not path.exists(BASE_MODEL_PATH + '/' + CONVERTER_MODEL_NAME):\n",
        "  build_tokenizer = True\n",
        "  print(f\"Building tokenizer since not found at {BASE_MODEL_PATH}/{CONVERTER_MODEL_NAME}\")\n",
        "\n",
        "  # `BertTokenizer.detokenize` is not in `tf-text` stable yet (currently 2.4.3).\n",
        "  os.system(\"pip install -q tensorflow_text_nightly > /tmp/out.txt\")\n",
        "\n",
        "  # tf-text-nightly resquires tf-nightly\n",
        "  os.system(\"pip install -q tf-nightly >> /tmp/out.txt\")\n",
        "\n",
        "  # Generate the vocabulary\n",
        "  os.system(\"cat /tmp/out.txt\")\n",
        "else:\n",
        "  build_tokenizer = False\n",
        "  print(f\"Tokenizer already exists at {BASE_MODEL_PATH}/{CONVERTER_MODEL_NAME}\")\n",
        "  os.system(\"pip install -q tensorflow_text > /tmp/out.txt\")\n",
        "  os.system(\"cat /tmp/out.txt\")"
      ],
      "execution_count": 81,
      "outputs": [
        {
          "output_type": "stream",
          "text": [
            "Tokenizer already exists at drive/MyDrive/models/transformer_ru_en_v2/ted_hrlr_translate_ru_en_converter\n"
          ],
          "name": "stdout"
        }
      ]
    },
    {
      "cell_type": "code",
      "metadata": {
        "id": "JjJJyJTZYebt"
      },
      "source": [
        "import tensorflow as tf\n",
        "import tensorflow_datasets as tfds\n",
        "\n",
        "import tensorflow_text as text\n",
        "\n",
        "if build_tokenizer:\n",
        "  # Generate the vocabulary\n",
        "  from tensorflow_text.tools.wordpiece_vocab import bert_vocab_from_dataset as bert_vocab"
      ],
      "execution_count": 82,
      "outputs": []
    },
    {
      "cell_type": "code",
      "metadata": {
        "id": "pXzVhU34zWEU"
      },
      "source": [
        "logging.getLogger('tensorflow').setLevel(logging.ERROR)  # suppress warnings"
      ],
      "execution_count": 83,
      "outputs": []
    },
    {
      "cell_type": "markdown",
      "metadata": {
        "id": "-cCvXbPkccV1"
      },
      "source": [
        "## Download the Dataset"
      ]
    },
    {
      "cell_type": "markdown",
      "metadata": {
        "id": "t4_Qt8W1hJE_"
      },
      "source": [
        "Use [TensorFlow datasets](https://www.tensorflow.org/datasets) to load the [Portuguese-English translation dataset](https://github.com/neulab/word-embeddings-for-nmt) from the [TED Talks Open Translation Project](https://www.ted.com/participate/translate).\n",
        "\n",
        "This dataset contains approximately 50000 training examples, 1100 validation examples, and 2000 test examples."
      ]
    },
    {
      "cell_type": "code",
      "metadata": {
        "id": "8q9t4FmN96eN"
      },
      "source": [
        "examples, metadata = tfds.load('ted_hrlr_translate/ru_to_en', with_info=True,\n",
        "                               as_supervised=True, data_dir=BASE_DATA_PATH)\n",
        "train_examples, val_examples, test_examples = examples['train'], examples['validation'], examples['test']"
      ],
      "execution_count": 84,
      "outputs": []
    },
    {
      "cell_type": "markdown",
      "metadata": {
        "id": "1OnwQZ2IpTbl"
      },
      "source": [
        "The `tf.data.Dataset` object returned by TensorFlow datasets yields pairs of text examples:"
      ]
    },
    {
      "cell_type": "code",
      "metadata": {
        "id": "AtuMLTQGlHZ1",
        "colab": {
          "base_uri": "https://localhost:8080/"
        },
        "outputId": "3bec9e19-33e7-42e2-fdc9-2d2624f36342"
      },
      "source": [
        "for ru_examples, en_examples in train_examples.batch(3).take(1):\n",
        "  for ru in ru_examples.numpy():\n",
        "    print(ru.decode('utf-8'))\n",
        "\n",
        "  print()\n",
        "\n",
        "  for en in en_examples.numpy():\n",
        "    print(en.decode('utf-8'))"
      ],
      "execution_count": 85,
      "outputs": [
        {
          "output_type": "stream",
          "text": [
            "к : успех , перемены возможны только с оружием в руках .\n",
            "документация и методика практического обучения также доступна и выпущена creative commons .\n",
            "( видео ) диди пиклз : сейчас четыре часа утра .\n",
            "\n",
            "c : success , the change is only coming through the barrel of the gun .\n",
            "the documentation and the hands-on teaching methodology is also open-source and released as the creative commons .\n",
            "( video ) didi pickles : it 's four o'clock in the morning .\n"
          ],
          "name": "stdout"
        }
      ]
    },
    {
      "cell_type": "markdown",
      "metadata": {
        "id": "eJxTd6aVnZyh"
      },
      "source": [
        "## Text tokenization & detokenization\n",
        "\n",
        "For more detail on how to build the tokenizer and detokenizer see: https://www.tensorflow.org/tutorials/tensorflow_text/subwords_tokenizer"
      ]
    },
    {
      "cell_type": "markdown",
      "metadata": {
        "id": "WlHAFNaopq6U"
      },
      "source": [
        "You can't train a model directly on text. The text needs to be converted some numeric representation first. Typically you convert the text to sequences of token IDs, which are as indexes into an embedding."
      ]
    },
    {
      "cell_type": "markdown",
      "metadata": {
        "id": "2sPvbCEePzOC"
      },
      "source": [
        "START = tf.argmax(tf.constant(reserved_tokens) == \"[START]\")\n",
        "END = tf.argmax(tf.constant(reserved_tokens) == \"[END]\")\n",
        "\n",
        "def add_start_end(ragged):\n",
        "  count = ragged.bounding_shape()[0]\n",
        "  starts = tf.fill([count,1], START)\n",
        "  ends = tf.fill([count,1], END)\n",
        "  return tf.concat([starts, ragged, ends], axis=1)One popular implementation is demonstrated in the [Subword tokenizer tutorial](https://www.tensorflow.org/tutorials/tensorflow_text/subwords_tokenizer) builds subword tokenizers (`text.BertTokenizer`) optimized for this dataset and exports them in a [saved_model](https://www.tensorflow.org/guide/saved_model). \n",
        "\n",
        "Download and unzip and import the `saved_model`:"
      ]
    },
    {
      "cell_type": "code",
      "metadata": {
        "id": "o4hh67jg8RMs"
      },
      "source": [
        "reserved_tokens=[\"[PAD]\", \"[UNK]\", \"[START]\", \"[END]\"]\n",
        "\n",
        "START = tf.argmax(tf.constant(reserved_tokens) == \"[START]\")\n",
        "END = tf.argmax(tf.constant(reserved_tokens) == \"[END]\")\n",
        "\n",
        "def add_start_end(ragged):\n",
        "  global START, END\n",
        "  count = ragged.bounding_shape()[0]\n",
        "  starts = tf.fill([count,1], START)\n",
        "  ends = tf.fill([count,1], END)\n",
        "  return tf.concat([starts, ragged, ends], axis=1)\n",
        "\n",
        "def write_vocab_file(filepath, vocab):\n",
        "  global base_path\n",
        "  with open(BASE_DATA_PATH + '/' + filepath, 'w') as f:\n",
        "    for token in vocab:\n",
        "      print(token, file=f)\n",
        "\n",
        "def write_vocab_files():\n",
        "  global reserved_tokens, train_example\n",
        "  bert_tokenizer_params=dict(lower_case=True)\n",
        "\n",
        "  bert_vocab_args = dict(\n",
        "      # The target vocabulary size\n",
        "      vocab_size = 30000,\n",
        "      # Reserved tokens that must be included in the vocabulary\n",
        "      reserved_tokens=reserved_tokens,\n",
        "      # Arguments for `text.BertTokenizer`\n",
        "      bert_tokenizer_params=bert_tokenizer_params,\n",
        "      # Arguments for `wordpiece_vocab.wordpiece_tokenizer_learner_lib.learn`\n",
        "      learn_params={},\n",
        "  )\n",
        "\n",
        "  train_en = train_examples.map(lambda ru, en: en)\n",
        "  train_ru = train_examples.map(lambda ru, en: ru)\n",
        "\n",
        "  %%time\n",
        "  ru_vocab = bert_vocab.bert_vocab_from_dataset(\n",
        "      train_ru.batch(1000).prefetch(2),\n",
        "      **bert_vocab_args\n",
        "  )\n",
        "\n",
        "  print(f'ru_vocab with length={len(ru_vocab)}')\n",
        "  write_vocab_file('ru_vocab.txt', ru_vocab)\n",
        "\n",
        "  %%time\n",
        "  en_vocab = bert_vocab.bert_vocab_from_dataset(\n",
        "      train_en.batch(1000).prefetch(2),\n",
        "      **bert_vocab_args\n",
        "  )\n",
        "\n",
        "  print(f'en_vocab with length={len(en_vocab)}')\n",
        "  write_vocab_file('en_vocab.txt', en_vocab)\n",
        "\n",
        "def cleanup_text(reserved_tokens, token_txt):\n",
        "  # Generate clean text output, so drop reserved tokens like [START], [END] and [PAD].\n",
        "  # apply a string join along the words axis of the result.\n",
        "\n",
        "  # Drop the reserved tokens, except for \"[UNK]\".\n",
        "  bad_tokens = [re.escape(tok) for tok in reserved_tokens if tok != \"[UNK]\"]\n",
        "  bad_token_re = \"|\".join(bad_tokens)\n",
        "\n",
        "  bad_cells = tf.strings.regex_full_match(token_txt, bad_token_re)\n",
        "  result = tf.ragged.boolean_mask(token_txt, ~bad_cells)\n",
        "\n",
        "  # Join them into strings.\n",
        "  result = tf.strings.reduce_join(result, separator=' ', axis=-1)\n",
        "\n",
        "  return result\n",
        "\n",
        "def build_bert_tokenizer():\n",
        "  ru_tokenizer = text.BertTokenizer(BASE_DATA_PATH + '/' + 'ru_vocab.txt', **bert_tokenizer_params)\n",
        "  en_tokenizer = text.BertTokenizer(BASE_DATA_PATH + '/' + 'en_vocab.txt', **bert_tokenizer_params)\n",
        "\n",
        "  # Run it through the BertTokenizer.tokenize method. Initially, this returns a \n",
        "  # tf.RaggedTensor with axes (batch, word, word-piece):*italicized text*\n",
        "\n",
        "  # Custom detokenization\n",
        "  # Tokenize the examples -> (batch, word, word-piece)\n",
        "  # Merge the word and word-piece axes -> (batch, tokens)\n",
        "  token_batch = en_tokenizer.tokenize(en_examples).merge_dims(-2,-1)\n",
        "  words = en_tokenizer.detokenize(token_batch)"
      ],
      "execution_count": 86,
      "outputs": []
    },
    {
      "cell_type": "markdown",
      "metadata": {
        "id": "zo8zllGfBpVw"
      },
      "source": [
        "### Export Custom BERT Tokenizer\n",
        "The following code block builds a CustomTokenizer class to contain the text.BertTokenizer instances, the custom logic, and the @tf.function wrappers required for export."
      ]
    },
    {
      "cell_type": "code",
      "metadata": {
        "id": "WvLuOw9HBsR1"
      },
      "source": [
        "class CustomTokenizer(tf.Module):\n",
        "  def __init__(self, reserved_tokens, vocab_path):\n",
        "    self.tokenizer = text.BertTokenizer(vocab_path, lower_case=True)\n",
        "    self._reserved_tokens = reserved_tokens\n",
        "    self._vocab_path = tf.saved_model.Asset(vocab_path)\n",
        "\n",
        "    vocab = pathlib.Path(vocab_path).read_text().splitlines()\n",
        "    self.vocab = tf.Variable(vocab)\n",
        "\n",
        "    ## Create the signatures for export:   \n",
        "\n",
        "    # Include a tokenize signature for a batch of strings. \n",
        "    self.tokenize.get_concrete_function(\n",
        "        tf.TensorSpec(shape=[None], dtype=tf.string))\n",
        "\n",
        "    # Include `detokenize` and `lookup` signatures for:\n",
        "    #   * `Tensors` with shapes [tokens] and [batch, tokens]\n",
        "    #   * `RaggedTensors` with shape [batch, tokens]\n",
        "    self.detokenize.get_concrete_function(\n",
        "        tf.TensorSpec(shape=[None, None], dtype=tf.int64))\n",
        "    self.detokenize.get_concrete_function(\n",
        "          tf.RaggedTensorSpec(shape=[None, None], dtype=tf.int64))\n",
        "\n",
        "    self.lookup.get_concrete_function(\n",
        "        tf.TensorSpec(shape=[None, None], dtype=tf.int64))\n",
        "    self.lookup.get_concrete_function(\n",
        "          tf.RaggedTensorSpec(shape=[None, None], dtype=tf.int64))\n",
        "\n",
        "    # These `get_*` methods take no arguments\n",
        "    self.get_vocab_size.get_concrete_function()\n",
        "    self.get_vocab_path.get_concrete_function()\n",
        "    self.get_reserved_tokens.get_concrete_function()\n",
        "\n",
        "  @tf.function\n",
        "  def tokenize(self, strings):\n",
        "    enc = self.tokenizer.tokenize(strings)\n",
        "    # Merge the `word` and `word-piece` axes.\n",
        "    enc = enc.merge_dims(-2,-1)\n",
        "    enc = add_start_end(enc)\n",
        "    return enc\n",
        "\n",
        "  @tf.function\n",
        "  def detokenize(self, tokenized):\n",
        "    words = self.tokenizer.detokenize(tokenized)\n",
        "    return cleanup_text(self._reserved_tokens, words)\n",
        "\n",
        "  @tf.function\n",
        "  def lookup(self, token_ids):\n",
        "    return tf.gather(self.vocab, token_ids)\n",
        "\n",
        "  @tf.function\n",
        "  def get_vocab_size(self):\n",
        "    return tf.shape(self.vocab)[0]\n",
        "\n",
        "  @tf.function\n",
        "  def get_vocab_path(self):\n",
        "    return self._vocab_path\n",
        "\n",
        "  @tf.function\n",
        "  def get_reserved_tokens(self):\n",
        "    return tf.constant(self._reserved_tokens)"
      ],
      "execution_count": 87,
      "outputs": []
    },
    {
      "cell_type": "markdown",
      "metadata": {
        "id": "ApPdrUeICGhO"
      },
      "source": [
        "Build a CustomTokenizer for each language:"
      ]
    },
    {
      "cell_type": "code",
      "metadata": {
        "id": "uZxcjOoyCIXv"
      },
      "source": [
        "def build_custom_tokenizers():\n",
        "  tokenizers = tf.Module()\n",
        "  tokenizers.ru = CustomTokenizer(reserved_tokens, BASE_DATA_PATH + '/' + 'ru_vocab.txt')\n",
        "  tokenizers.en = CustomTokenizer(reserved_tokens, BASE_DATA_PATH + '/' + 'en_vocab.txt')\n",
        "\n",
        "  # Export the tokenizers as a saved_model:\n",
        "  tf.saved_model.save(tokenizers, BASE_MODEL_PATH + '/' + CONVERTER_MODEL_NAME)\n",
        "\n",
        "  # Generate the vocabulary\n",
        "  os.system(\"zip -r $BASE_MODEL_PATH/{BASE_MODEL_PATH}.zip $BASE_MODEL_PATH/{CONVERTER_MODEL_NAME} > /tmp/out.txt\")\n",
        "  os.system(\"cat /tmp/out.txt\")\n",
        "\n",
        "  return tokenizers"
      ],
      "execution_count": 88,
      "outputs": []
    },
    {
      "cell_type": "code",
      "metadata": {
        "colab": {
          "base_uri": "https://localhost:8080/"
        },
        "id": "8Lj7eBayXIUI",
        "outputId": "41064e94-1f84-4edf-d5a7-d640eee13468"
      },
      "source": [
        "if build_tokenizer:\n",
        "  global BASE_MODEL_PATH, CONVERTER_MODEL_NAME\n",
        "  print(\"writing vocab files\")\n",
        "  write_vocab_files()\n",
        "  print(\"building custom BERT tokenizer\")\n",
        "  tokenizers = build_custom_tokenizers()\n",
        "else:\n",
        "  tokenizers = reloaded_tokenizers = tf.saved_model.load(BASE_MODEL_PATH + '/' + CONVERTER_MODEL_NAME)\n",
        "  reloaded_tokenizers.en.get_vocab_size().numpy()\n",
        "  print(f\"Loaded custom BERT tokenizer from {BASE_MODEL_PATH}/{CONVERTER_MODEL_NAME}\")"
      ],
      "execution_count": 89,
      "outputs": [
        {
          "output_type": "stream",
          "text": [
            "Loaded custom BERT tokenizer from drive/MyDrive/models/transformer_ru_en_v2/ted_hrlr_translate_ru_en_converter\n"
          ],
          "name": "stdout"
        }
      ]
    },
    {
      "cell_type": "markdown",
      "metadata": {
        "id": "KQYc0CJTpnvg"
      },
      "source": [
        "The `tf.saved_model` contains two text tokenizers, one for English and one for Russian. Both have the same methods:"
      ]
    },
    {
      "cell_type": "code",
      "metadata": {
        "id": "s-PCJijfcZ9_",
        "colab": {
          "base_uri": "https://localhost:8080/"
        },
        "outputId": "2d9972f4-0ee6-445f-e130-ecd2fad30218"
      },
      "source": [
        "[item for item in dir(tokenizers.en) if not item.startswith('_')]"
      ],
      "execution_count": 90,
      "outputs": [
        {
          "output_type": "execute_result",
          "data": {
            "text/plain": [
              "['detokenize',\n",
              " 'get_reserved_tokens',\n",
              " 'get_vocab_path',\n",
              " 'get_vocab_size',\n",
              " 'lookup',\n",
              " 'tokenize',\n",
              " 'tokenizer',\n",
              " 'vocab']"
            ]
          },
          "metadata": {
            "tags": []
          },
          "execution_count": 90
        }
      ]
    },
    {
      "cell_type": "markdown",
      "metadata": {
        "id": "-pv_nc5lrAiD"
      },
      "source": [
        "The `tokenize` method converts a batch of strings to a padded-batch of token IDs. This method splits punctuation, lowercases and unicode-normalizes the input before tokenizing. That standardization is not visible here because the input data is already standardized."
      ]
    },
    {
      "cell_type": "code",
      "metadata": {
        "id": "0GV-smAAQJtM",
        "colab": {
          "base_uri": "https://localhost:8080/"
        },
        "outputId": "d85f9446-7059-42a6-c888-6b3491484bf6"
      },
      "source": [
        "for en in en_examples.numpy():\n",
        "  print(en.decode('utf-8'))"
      ],
      "execution_count": 91,
      "outputs": [
        {
          "output_type": "stream",
          "text": [
            "c : success , the change is only coming through the barrel of the gun .\n",
            "the documentation and the hands-on teaching methodology is also open-source and released as the creative commons .\n",
            "( video ) didi pickles : it 's four o'clock in the morning .\n"
          ],
          "name": "stdout"
        }
      ]
    },
    {
      "cell_type": "code",
      "metadata": {
        "id": "2fQJq1xB-tOn",
        "colab": {
          "base_uri": "https://localhost:8080/"
        },
        "outputId": "62df0631-a451-4f73-d13b-8e9f66b6ad9d"
      },
      "source": [
        "encoded = tokenizers.en.tokenize(en_examples)\n",
        "\n",
        "for row in encoded.to_list():\n",
        "  print(row)"
      ],
      "execution_count": 92,
      "outputs": [
        {
          "output_type": "stream",
          "text": [
            "[2, 41, 28, 1040, 14, 84, 238, 93, 197, 376, 214, 84, 5656, 87, 84, 2307, 16, 3]\n",
            "[2, 84, 10661, 85, 84, 672, 15, 103, 1405, 8003, 93, 185, 424, 15, 888, 85, 2360, 110, 84, 1005, 5132, 16, 3]\n",
            "[2, 10, 388, 11, 166, 655, 11892, 136, 28, 90, 9, 57, 307, 53, 9, 2330, 89, 84, 774, 16, 3]\n"
          ],
          "name": "stdout"
        }
      ]
    },
    {
      "cell_type": "markdown",
      "metadata": {
        "id": "dBRlikwDR2Lu"
      },
      "source": [
        "The `detokenize` method attempts to convert these token IDs back to human readable text: "
      ]
    },
    {
      "cell_type": "code",
      "metadata": {
        "id": "Tpqx1aug3W31",
        "colab": {
          "base_uri": "https://localhost:8080/"
        },
        "outputId": "1181299c-2f15-4284-96b4-97ac1c63f3b3"
      },
      "source": [
        "round_trip = tokenizers.en.detokenize(encoded)\n",
        "for line in round_trip.numpy():\n",
        "  print(line.decode('utf-8'))"
      ],
      "execution_count": 93,
      "outputs": [
        {
          "output_type": "stream",
          "text": [
            "c : success , the change is only coming through the barrel of the gun .\n",
            "the documentation and the hands - on teaching methodology is also open - source and released as the creative commons .\n",
            "( video ) didi pickles : it ' s four o ' clock in the morning .\n"
          ],
          "name": "stdout"
        }
      ]
    },
    {
      "cell_type": "markdown",
      "metadata": {
        "id": "e5mGvytArL9g"
      },
      "source": [
        "The lower level `lookup` method converts from token-IDs to token text:"
      ]
    },
    {
      "cell_type": "code",
      "metadata": {
        "id": "RpzRLzvIuN3R",
        "colab": {
          "base_uri": "https://localhost:8080/"
        },
        "outputId": "a5569e31-5610-456c-85f8-9aa2a73a4f1d"
      },
      "source": [
        "tokens = tokenizers.en.lookup(encoded)\n",
        "tokens"
      ],
      "execution_count": 94,
      "outputs": [
        {
          "output_type": "execute_result",
          "data": {
            "text/plain": [
              "<tf.RaggedTensor [[b'[START]', b'c', b':', b'success', b',', b'the', b'change', b'is', b'only', b'coming', b'through', b'the', b'barrel', b'of', b'the', b'gun', b'.', b'[END]'], [b'[START]', b'the', b'documentation', b'and', b'the', b'hands', b'-', b'on', b'teaching', b'methodology', b'is', b'also', b'open', b'-', b'source', b'and', b'released', b'as', b'the', b'creative', b'commons', b'.', b'[END]'], [b'[START]', b'(', b'video', b')', b'did', b'##i', b'pickle', b'##s', b':', b'it', b\"'\", b's', b'four', b'o', b\"'\", b'clock', b'in', b'the', b'morning', b'.', b'[END]']]>"
            ]
          },
          "metadata": {
            "tags": []
          },
          "execution_count": 94
        }
      ]
    },
    {
      "cell_type": "code",
      "metadata": {
        "id": "vwzGwX8hjdZQ"
      },
      "source": [
        "if build_tokenizer:\n",
        "  print(\"Recommend factory reset notebook and rerunning since training runs much slower with nightly build code\")"
      ],
      "execution_count": 95,
      "outputs": []
    },
    {
      "cell_type": "markdown",
      "metadata": {
        "id": "fd1NWMxjfsDd"
      },
      "source": [
        "## Setup input pipeline"
      ]
    },
    {
      "cell_type": "markdown",
      "metadata": {
        "id": "E7JHK7N7tNZy"
      },
      "source": [
        "To build an input pipeline suitable for training you'll apply some transformations to the dataset.\n",
        "\n",
        "This function will be used to encode the batches of raw text:"
      ]
    },
    {
      "cell_type": "code",
      "metadata": {
        "id": "6shgzEck3FiV"
      },
      "source": [
        "def tokenize_pairs(ru, en):\n",
        "    ru = tokenizers.ru.tokenize(ru)\n",
        "    # Convert from ragged to dense, padding with zeros.\n",
        "    ru = ru.to_tensor()\n",
        "\n",
        "    en = tokenizers.en.tokenize(en)\n",
        "    # Convert from ragged to dense, padding with zeros.\n",
        "    en = en.to_tensor()\n",
        "    return ru, en"
      ],
      "execution_count": 96,
      "outputs": []
    },
    {
      "cell_type": "markdown",
      "metadata": {
        "id": "cf2HwC_0wG0v"
      },
      "source": [
        "Here's a simple input pipeline that processes, shuffles and batches the data:"
      ]
    },
    {
      "cell_type": "code",
      "metadata": {
        "id": "bcRp7VcQ5m6g"
      },
      "source": [
        "BUFFER_SIZE = 20000\n",
        "BATCH_SIZE = 64"
      ],
      "execution_count": 97,
      "outputs": []
    },
    {
      "cell_type": "code",
      "metadata": {
        "id": "BUN_jLBTwNxk"
      },
      "source": [
        "def make_batches(ds):\n",
        "  return (\n",
        "      ds\n",
        "      .cache()\n",
        "      .shuffle(BUFFER_SIZE)\n",
        "      .batch(BATCH_SIZE, drop_remainder=True)\n",
        "      .map(tokenize_pairs, num_parallel_calls=tf.data.AUTOTUNE)\n",
        "      .prefetch(tf.data.AUTOTUNE))\n",
        "\n",
        "train_batches = make_batches(train_examples)\n",
        "val_batches = make_batches(val_examples)"
      ],
      "execution_count": 98,
      "outputs": []
    },
    {
      "cell_type": "markdown",
      "metadata": {
        "id": "nBQuibYA4n0n"
      },
      "source": [
        "## Positional encoding\n",
        "\n",
        "Since this model doesn't contain any recurrence or convolution, positional encoding is added to give the model some information about the relative position of the words in the sentence. \n",
        "\n",
        "The positional encoding vector is added to the embedding vector. Embeddings represent a token in a d-dimensional space where tokens with similar meaning will be closer to each other. But the embeddings do not encode the relative position of words in a sentence. So after adding the positional encoding, words will be closer to each other based on the *similarity of their meaning and their position in the sentence*, in the d-dimensional space.\n",
        "\n",
        "See the notebook on [positional encoding](https://github.com/tensorflow/examples/blob/master/community/en/position_encoding.ipynb) to learn more about it. The formula for calculating the positional encoding is as follows:\n",
        "\n",
        "$$\\Large{PE_{(pos, 2i)} = sin(pos / 10000^{2i / d_{model}})} $$\n",
        "$$\\Large{PE_{(pos, 2i+1)} = cos(pos / 10000^{2i / d_{model}})} $$"
      ]
    },
    {
      "cell_type": "code",
      "metadata": {
        "id": "WhIOZjMNKujn"
      },
      "source": [
        "def get_angles(pos, i, d_model):\n",
        "  angle_rates = 1 / np.power(10000, (2 * (i//2)) / np.float32(d_model))\n",
        "  return pos * angle_rates"
      ],
      "execution_count": 99,
      "outputs": []
    },
    {
      "cell_type": "code",
      "metadata": {
        "id": "1Rz82wEs5biZ"
      },
      "source": [
        "def positional_encoding(position, d_model):\n",
        "  angle_rads = get_angles(np.arange(position)[:, np.newaxis],\n",
        "                          np.arange(d_model)[np.newaxis, :],\n",
        "                          d_model)\n",
        "  \n",
        "  # apply sin to even indices in the array; 2i\n",
        "  angle_rads[:, 0::2] = np.sin(angle_rads[:, 0::2])\n",
        "  \n",
        "  # apply cos to odd indices in the array; 2i+1\n",
        "  angle_rads[:, 1::2] = np.cos(angle_rads[:, 1::2])\n",
        "    \n",
        "  pos_encoding = angle_rads[np.newaxis, ...]\n",
        "    \n",
        "  return tf.cast(pos_encoding, dtype=tf.float32)"
      ],
      "execution_count": 100,
      "outputs": []
    },
    {
      "cell_type": "code",
      "metadata": {
        "id": "1kLCla68EloE",
        "colab": {
          "base_uri": "https://localhost:8080/",
          "height": 300
        },
        "outputId": "5db94a8e-1a58-46e0-ec74-38bcdf41cce3"
      },
      "source": [
        "n, d = 2048, 512\n",
        "pos_encoding = positional_encoding(n, d)\n",
        "print(pos_encoding.shape)\n",
        "pos_encoding = pos_encoding[0]\n",
        "\n",
        "# Juggle the dimensions for the plot\n",
        "pos_encoding = tf.reshape(pos_encoding, (n, d//2, 2))\n",
        "pos_encoding = tf.transpose(pos_encoding, (2,1,0))\n",
        "pos_encoding = tf.reshape(pos_encoding, (d, n))\n",
        "\n",
        "plt.pcolormesh(pos_encoding, cmap='RdBu')\n",
        "plt.ylabel('Depth')\n",
        "plt.xlabel('Position')\n",
        "plt.colorbar()\n",
        "plt.show()"
      ],
      "execution_count": 101,
      "outputs": [
        {
          "output_type": "stream",
          "text": [
            "(1, 2048, 512)\n"
          ],
          "name": "stdout"
        },
        {
          "output_type": "display_data",
          "data": {
            "image/png": "[encoded data removed]",
            "text/plain": [
              "<Figure size 432x288 with 2 Axes>"
            ]
          },
          "metadata": {
            "tags": [],
            "needs_background": "light"
          }
        }
      ]
    },
    {
      "cell_type": "code",
      "metadata": {
        "colab": {
          "base_uri": "https://localhost:8080/"
        },
        "id": "0_ODDfLielfU",
        "outputId": "a13af80d-60cf-4424-e100-08fc58815065"
      },
      "source": [
        "pos_encoding.shape"
      ],
      "execution_count": 102,
      "outputs": [
        {
          "output_type": "execute_result",
          "data": {
            "text/plain": [
              "TensorShape([512, 2048])"
            ]
          },
          "metadata": {
            "tags": []
          },
          "execution_count": 102
        }
      ]
    },
    {
      "cell_type": "markdown",
      "metadata": {
        "id": "a_b4ou4TYqUN"
      },
      "source": [
        "## Masking"
      ]
    },
    {
      "cell_type": "markdown",
      "metadata": {
        "id": "s42Uydjkv0hF"
      },
      "source": [
        "Mask all the pad tokens in the batch of sequence. It ensures that the model does not treat padding as the input. The mask indicates where pad value `0` is present: it outputs a `1` at those locations, and a `0` otherwise."
      ]
    },
    {
      "cell_type": "code",
      "metadata": {
        "id": "U2i8-e1s8ti9"
      },
      "source": [
        "def create_padding_mask(seq):\n",
        "  seq = tf.cast(tf.math.equal(seq, 0), tf.float32)\n",
        "  \n",
        "  # add extra dimensions to add the padding\n",
        "  # to the attention logits.\n",
        "  return seq[:, tf.newaxis, tf.newaxis, :]  # (batch_size, 1, 1, seq_len)"
      ],
      "execution_count": 103,
      "outputs": []
    },
    {
      "cell_type": "code",
      "metadata": {
        "id": "A7BYeBCNvi7n",
        "colab": {
          "base_uri": "https://localhost:8080/"
        },
        "outputId": "94c57e68-807c-433d-fe85-1276658f4d9d"
      },
      "source": [
        "x = tf.constant([[7, 6, 0, 0, 1], [1, 2, 3, 0, 0], [0, 0, 0, 4, 5]])\n",
        "create_padding_mask(x)"
      ],
      "execution_count": 104,
      "outputs": [
        {
          "output_type": "execute_result",
          "data": {
            "text/plain": [
              "<tf.Tensor: shape=(3, 1, 1, 5), dtype=float32, numpy=\n",
              "array([[[[0., 0., 1., 1., 0.]]],\n",
              "\n",
              "\n",
              "       [[[0., 0., 0., 1., 1.]]],\n",
              "\n",
              "\n",
              "       [[[1., 1., 1., 0., 0.]]]], dtype=float32)>"
            ]
          },
          "metadata": {
            "tags": []
          },
          "execution_count": 104
        }
      ]
    },
    {
      "cell_type": "markdown",
      "metadata": {
        "id": "Z0hzukDBgVom"
      },
      "source": [
        "The look-ahead mask is used to mask the future tokens in a sequence. In other words, the mask indicates which entries should not be used.\n",
        "\n",
        "This means that to predict the third word, only the first and second word will be used. Similarly to predict the fourth word, only the first, second and the third word will be used and so on."
      ]
    },
    {
      "cell_type": "code",
      "metadata": {
        "id": "dVxS8OPI9uI0"
      },
      "source": [
        "def create_look_ahead_mask(size):\n",
        "  mask = 1 - tf.linalg.band_part(tf.ones((size, size)), -1, 0)\n",
        "  return mask  # (seq_len, seq_len)"
      ],
      "execution_count": 105,
      "outputs": []
    },
    {
      "cell_type": "code",
      "metadata": {
        "id": "yxKGuXxaBeeE",
        "colab": {
          "base_uri": "https://localhost:8080/"
        },
        "outputId": "97f3bb54-f865-43e8-c243-3c57619ba1ba"
      },
      "source": [
        "x = tf.random.uniform((1, 3))\n",
        "temp = create_look_ahead_mask(x.shape[1])\n",
        "temp"
      ],
      "execution_count": 106,
      "outputs": [
        {
          "output_type": "execute_result",
          "data": {
            "text/plain": [
              "<tf.Tensor: shape=(3, 3), dtype=float32, numpy=\n",
              "array([[0., 1., 1.],\n",
              "       [0., 0., 1.],\n",
              "       [0., 0., 0.]], dtype=float32)>"
            ]
          },
          "metadata": {
            "tags": []
          },
          "execution_count": 106
        }
      ]
    },
    {
      "cell_type": "markdown",
      "metadata": {
        "id": "xluDl5cXYy4y"
      },
      "source": [
        "## Scaled dot product attention\n",
        "\n"
      ]
    },
    {
      "cell_type": "markdown",
      "metadata": {
        "id": "vsxEE_-Wa1gF"
      },
      "source": [
        "<img src=\"https://www.tensorflow.org/images/tutorials/transformer/scaled_attention.png\" width=\"500\" alt=\"scaled_dot_product_attention\">\n",
        "\n",
        "The attention function used by the transformer takes three inputs: Q (query), K (key), V (value). The equation used to calculate the attention weights is:\n",
        "\n",
        "$$\\Large{Attention(Q, K, V) = softmax_k(\\frac{QK^T}{\\sqrt{d_k}}) V} $$\n",
        "\n",
        "The dot-product attention is scaled by a factor of square root of the depth. This is done because for large values of depth, the dot product grows large in magnitude pushing the softmax function where it has small gradients resulting in a very hard softmax. \n",
        "\n",
        "For example, consider that `Q` and `K` have a mean of 0 and variance of 1. Their matrix multiplication will have a mean of 0 and variance of `dk`. So the *square root of `dk`* is used for scaling so you get a consistent variance regardless of the value of `dk`. If the variance is too low the output may be too flat to optimize effectively. If the variance is too high the softmax may saturate at initilization making it dificult to learn. \n",
        "\n",
        "The mask is multiplied with -1e9 (close to negative infinity). This is done because the mask is summed with the scaled matrix multiplication of Q and K and is applied immediately before a softmax. The goal is to zero out these cells, and large negative inputs to softmax are near zero in the output."
      ]
    },
    {
      "cell_type": "code",
      "metadata": {
        "id": "LazzUq3bJ5SH"
      },
      "source": [
        "def scaled_dot_product_attention(q, k, v, mask):\n",
        "  \"\"\"Calculate the attention weights.\n",
        "  q, k, v must have matching leading dimensions.\n",
        "  k, v must have matching penultimate dimension, i.e.: seq_len_k = seq_len_v.\n",
        "  The mask has different shapes depending on its type(padding or look ahead) \n",
        "  but it must be broadcastable for addition.\n",
        "  \n",
        "  Args:\n",
        "    q: query shape == (..., seq_len_q, depth)\n",
        "    k: key shape == (..., seq_len_k, depth)\n",
        "    v: value shape == (..., seq_len_v, depth_v)\n",
        "    mask: Float tensor with shape broadcastable \n",
        "          to (..., seq_len_q, seq_len_k). Defaults to None.\n",
        "    \n",
        "  Returns:\n",
        "    output, attention_weights\n",
        "  \"\"\"\n",
        "\n",
        "  matmul_qk = tf.matmul(q, k, transpose_b=True)  # (..., seq_len_q, seq_len_k)\n",
        "  \n",
        "  # scale matmul_qk\n",
        "  dk = tf.cast(tf.shape(k)[-1], tf.float32)\n",
        "  scaled_attention_logits = matmul_qk / tf.math.sqrt(dk)\n",
        "\n",
        "  # add the mask to the scaled tensor.\n",
        "  if mask is not None:\n",
        "    scaled_attention_logits += (mask * -1e9)  \n",
        "\n",
        "  # softmax is normalized on the last axis (seq_len_k) so that the scores\n",
        "  # add up to 1.\n",
        "  attention_weights = tf.nn.softmax(scaled_attention_logits, axis=-1)  # (..., seq_len_q, seq_len_k)\n",
        "\n",
        "  output = tf.matmul(attention_weights, v)  # (..., seq_len_q, depth_v)\n",
        "\n",
        "  return output, attention_weights"
      ],
      "execution_count": 107,
      "outputs": []
    },
    {
      "cell_type": "markdown",
      "metadata": {
        "id": "FiqETnhCkoXh"
      },
      "source": [
        "As the softmax normalization is done on K, its values decide the amount of importance given to Q.\n",
        "\n",
        "The output represents the multiplication of the attention weights and the V (value) vector. This ensures that the words you want to focus on are kept as-is and the irrelevant words are flushed out."
      ]
    },
    {
      "cell_type": "code",
      "metadata": {
        "id": "n90YjClyInFy"
      },
      "source": [
        "def print_out(q, k, v):\n",
        "  temp_out, temp_attn = scaled_dot_product_attention(\n",
        "      q, k, v, None)\n",
        "  print ('Attention weights are:')\n",
        "  print (temp_attn)\n",
        "  print ('Output is:')\n",
        "  print (temp_out)"
      ],
      "execution_count": 108,
      "outputs": []
    },
    {
      "cell_type": "code",
      "metadata": {
        "id": "yAzUAf2DPlNt",
        "colab": {
          "base_uri": "https://localhost:8080/"
        },
        "outputId": "b9af2204-d511-4e7c-ee34-d53822cc73d9"
      },
      "source": [
        "np.set_printoptions(suppress=True)\n",
        "\n",
        "temp_k = tf.constant([[10,0,0],\n",
        "                      [0,10,0],\n",
        "                      [0,0,10],\n",
        "                      [0,0,10]], dtype=tf.float32)  # (4, 3)\n",
        "\n",
        "temp_v = tf.constant([[   1,0],\n",
        "                      [  10,0],\n",
        "                      [ 100,5],\n",
        "                      [1000,6]], dtype=tf.float32)  # (4, 2)\n",
        "\n",
        "# This `query` aligns with the second `key`,\n",
        "# so the second `value` is returned.\n",
        "temp_q = tf.constant([[0, 10, 0]], dtype=tf.float32)  # (1, 3)\n",
        "print_out(temp_q, temp_k, temp_v)"
      ],
      "execution_count": 109,
      "outputs": [
        {
          "output_type": "stream",
          "text": [
            "Attention weights are:\n",
            "tf.Tensor([[0. 1. 0. 0.]], shape=(1, 4), dtype=float32)\n",
            "Output is:\n",
            "tf.Tensor([[10.  0.]], shape=(1, 2), dtype=float32)\n"
          ],
          "name": "stdout"
        }
      ]
    },
    {
      "cell_type": "code",
      "metadata": {
        "id": "zg6k-fGhgXra",
        "colab": {
          "base_uri": "https://localhost:8080/"
        },
        "outputId": "ed9e65b5-83c6-4768-908b-263a387d84b9"
      },
      "source": [
        "# This query aligns with a repeated key (third and fourth), \n",
        "# so all associated values get averaged.\n",
        "temp_q = tf.constant([[0, 0, 10]], dtype=tf.float32)  # (1, 3)\n",
        "print_out(temp_q, temp_k, temp_v)"
      ],
      "execution_count": 110,
      "outputs": [
        {
          "output_type": "stream",
          "text": [
            "Attention weights are:\n",
            "tf.Tensor([[0.  0.  0.5 0.5]], shape=(1, 4), dtype=float32)\n",
            "Output is:\n",
            "tf.Tensor([[550.    5.5]], shape=(1, 2), dtype=float32)\n"
          ],
          "name": "stdout"
        }
      ]
    },
    {
      "cell_type": "code",
      "metadata": {
        "id": "UAq3YOzUgXhb",
        "colab": {
          "base_uri": "https://localhost:8080/"
        },
        "outputId": "f5897a2a-c2ae-4ae3-e8e6-3bef3a096605"
      },
      "source": [
        "# This query aligns equally with the first and second key, \n",
        "# so their values get averaged.\n",
        "temp_q = tf.constant([[10, 10, 0]], dtype=tf.float32)  # (1, 3)\n",
        "print_out(temp_q, temp_k, temp_v)"
      ],
      "execution_count": 111,
      "outputs": [
        {
          "output_type": "stream",
          "text": [
            "Attention weights are:\n",
            "tf.Tensor([[0.5 0.5 0.  0. ]], shape=(1, 4), dtype=float32)\n",
            "Output is:\n",
            "tf.Tensor([[5.5 0. ]], shape=(1, 2), dtype=float32)\n"
          ],
          "name": "stdout"
        }
      ]
    },
    {
      "cell_type": "markdown",
      "metadata": {
        "id": "aOz-4_XIhaTP"
      },
      "source": [
        "Pass all the queries together."
      ]
    },
    {
      "cell_type": "code",
      "metadata": {
        "id": "6dlU8Tm-hYrF",
        "colab": {
          "base_uri": "https://localhost:8080/"
        },
        "outputId": "e74534f3-d66a-4c5f-db91-65b92b7a3f26"
      },
      "source": [
        "temp_q = tf.constant([[0, 0, 10], [0, 10, 0], [10, 10, 0]], dtype=tf.float32)  # (3, 3)\n",
        "print_out(temp_q, temp_k, temp_v)"
      ],
      "execution_count": 112,
      "outputs": [
        {
          "output_type": "stream",
          "text": [
            "Attention weights are:\n",
            "tf.Tensor(\n",
            "[[0.  0.  0.5 0.5]\n",
            " [0.  1.  0.  0. ]\n",
            " [0.5 0.5 0.  0. ]], shape=(3, 4), dtype=float32)\n",
            "Output is:\n",
            "tf.Tensor(\n",
            "[[550.    5.5]\n",
            " [ 10.    0. ]\n",
            " [  5.5   0. ]], shape=(3, 2), dtype=float32)\n"
          ],
          "name": "stdout"
        }
      ]
    },
    {
      "cell_type": "markdown",
      "metadata": {
        "id": "kmzGPEy64qmA"
      },
      "source": [
        "## Multi-head attention"
      ]
    },
    {
      "cell_type": "markdown",
      "metadata": {
        "id": "fz5BMC8Kaoqo"
      },
      "source": [
        "<img src=\"https://www.tensorflow.org/images/tutorials/transformer/multi_head_attention.png\" width=\"500\" alt=\"multi-head attention\">\n",
        "\n",
        "\n",
        "Multi-head attention consists of four parts:\n",
        "*    Linear layers and split into heads.\n",
        "*    Scaled dot-product attention.\n",
        "*    Concatenation of heads.\n",
        "*    Final linear layer."
      ]
    },
    {
      "cell_type": "markdown",
      "metadata": {
        "id": "JPmbr6F1C-v_"
      },
      "source": [
        "Each multi-head attention block gets three inputs; Q (query), K (key), V (value). These are put through linear (Dense) layers and split up into multiple heads. \n",
        "\n",
        "The `scaled_dot_product_attention` defined above is applied to each head (broadcasted for efficiency). An appropriate mask must be used in the attention step.  The attention output for each head is then concatenated (using `tf.transpose`, and `tf.reshape`) and put through a final `Dense` layer.\n",
        "\n",
        "Instead of one single attention head, Q, K, and V are split into multiple heads because it allows the model to jointly attend to information at different positions from different representational spaces. After the split each head has a reduced dimensionality, so the total computation cost is the same as a single head attention with full dimensionality."
      ]
    },
    {
      "cell_type": "code",
      "metadata": {
        "id": "BSV3PPKsYecw"
      },
      "source": [
        "class MultiHeadAttention(tf.keras.layers.Layer):\n",
        "  def __init__(self, d_model, num_heads):\n",
        "    super(MultiHeadAttention, self).__init__()\n",
        "    self.num_heads = num_heads\n",
        "    self.d_model = d_model\n",
        "    \n",
        "    assert d_model % self.num_heads == 0\n",
        "    \n",
        "    self.depth = d_model // self.num_heads\n",
        "    \n",
        "    self.wq = tf.keras.layers.Dense(d_model)\n",
        "    self.wk = tf.keras.layers.Dense(d_model)\n",
        "    self.wv = tf.keras.layers.Dense(d_model)\n",
        "    \n",
        "    self.dense = tf.keras.layers.Dense(d_model)\n",
        "        \n",
        "  def split_heads(self, x, batch_size):\n",
        "    \"\"\"Split the last dimension into (num_heads, depth).\n",
        "    Transpose the result such that the shape is (batch_size, num_heads, seq_len, depth)\n",
        "    \"\"\"\n",
        "    x = tf.reshape(x, (batch_size, -1, self.num_heads, self.depth))\n",
        "    return tf.transpose(x, perm=[0, 2, 1, 3])\n",
        "    \n",
        "  def call(self, v, k, q, mask):\n",
        "    batch_size = tf.shape(q)[0]\n",
        "    \n",
        "    q = self.wq(q)  # (batch_size, seq_len, d_model)\n",
        "    k = self.wk(k)  # (batch_size, seq_len, d_model)\n",
        "    v = self.wv(v)  # (batch_size, seq_len, d_model)\n",
        "    \n",
        "    q = self.split_heads(q, batch_size)  # (batch_size, num_heads, seq_len_q, depth)\n",
        "    k = self.split_heads(k, batch_size)  # (batch_size, num_heads, seq_len_k, depth)\n",
        "    v = self.split_heads(v, batch_size)  # (batch_size, num_heads, seq_len_v, depth)\n",
        "    \n",
        "    # scaled_attention.shape == (batch_size, num_heads, seq_len_q, depth)\n",
        "    # attention_weights.shape == (batch_size, num_heads, seq_len_q, seq_len_k)\n",
        "    scaled_attention, attention_weights = scaled_dot_product_attention(\n",
        "        q, k, v, mask)\n",
        "    \n",
        "    scaled_attention = tf.transpose(scaled_attention, perm=[0, 2, 1, 3])  # (batch_size, seq_len_q, num_heads, depth)\n",
        "\n",
        "    concat_attention = tf.reshape(scaled_attention, \n",
        "                                  (batch_size, -1, self.d_model))  # (batch_size, seq_len_q, d_model)\n",
        "\n",
        "    output = self.dense(concat_attention)  # (batch_size, seq_len_q, d_model)\n",
        "        \n",
        "    return output, attention_weights"
      ],
      "execution_count": 113,
      "outputs": []
    },
    {
      "cell_type": "markdown",
      "metadata": {
        "id": "0D8FJue5lDyZ"
      },
      "source": [
        "Create a `MultiHeadAttention` layer to try out. At each location in the sequence, `y`, the `MultiHeadAttention` runs all 8 attention heads across all other locations in the sequence, returning a new vector of the same length at each location."
      ]
    },
    {
      "cell_type": "code",
      "metadata": {
        "id": "Hu94p-_-2_BX",
        "colab": {
          "base_uri": "https://localhost:8080/"
        },
        "outputId": "096e140b-03de-4501-ecbd-de53765c0983"
      },
      "source": [
        "temp_mha = MultiHeadAttention(d_model=512, num_heads=8)\n",
        "y = tf.random.uniform((1, 60, 512))  # (batch_size, encoder_sequence, d_model)\n",
        "out, attn = temp_mha(y, k=y, q=y, mask=None)\n",
        "out.shape, attn.shape"
      ],
      "execution_count": 114,
      "outputs": [
        {
          "output_type": "execute_result",
          "data": {
            "text/plain": [
              "(TensorShape([1, 60, 512]), TensorShape([1, 8, 60, 60]))"
            ]
          },
          "metadata": {
            "tags": []
          },
          "execution_count": 114
        }
      ]
    },
    {
      "cell_type": "markdown",
      "metadata": {
        "id": "RdDqGayx67vv"
      },
      "source": [
        "## Point wise feed forward network"
      ]
    },
    {
      "cell_type": "markdown",
      "metadata": {
        "id": "gBqzJXGfHK3X"
      },
      "source": [
        "Point wise feed forward network consists of two fully-connected layers with a ReLU activation in between."
      ]
    },
    {
      "cell_type": "code",
      "metadata": {
        "id": "ET7xLt0yCT6Z"
      },
      "source": [
        "def point_wise_feed_forward_network(d_model, dff):\n",
        "  return tf.keras.Sequential([\n",
        "      tf.keras.layers.Dense(dff, activation='relu'),  # (batch_size, seq_len, dff)\n",
        "      tf.keras.layers.Dense(d_model)  # (batch_size, seq_len, d_model)\n",
        "  ])"
      ],
      "execution_count": 115,
      "outputs": []
    },
    {
      "cell_type": "code",
      "metadata": {
        "id": "mytb1lPyOHLB",
        "colab": {
          "base_uri": "https://localhost:8080/"
        },
        "outputId": "22027908-afef-4e8b-d2a5-62dbb6571089"
      },
      "source": [
        "sample_ffn = point_wise_feed_forward_network(512, 2048)\n",
        "sample_ffn(tf.random.uniform((64, 50, 512))).shape"
      ],
      "execution_count": 116,
      "outputs": [
        {
          "output_type": "execute_result",
          "data": {
            "text/plain": [
              "TensorShape([64, 50, 512])"
            ]
          },
          "metadata": {
            "tags": []
          },
          "execution_count": 116
        }
      ]
    },
    {
      "cell_type": "markdown",
      "metadata": {
        "id": "7e7hKcxn6-zd"
      },
      "source": [
        "## Encoder and decoder"
      ]
    },
    {
      "cell_type": "markdown",
      "metadata": {
        "id": "yScbC0MUH8dS"
      },
      "source": [
        "<img src=\"https://www.tensorflow.org/images/tutorials/transformer/transformer.png\" width=\"600\" alt=\"transformer\">"
      ]
    },
    {
      "cell_type": "markdown",
      "metadata": {
        "id": "MfYJG-Kvgwy2"
      },
      "source": [
        "The transformer model follows the same general pattern as a standard [sequence to sequence with attention model](nmt_with_attention.ipynb). \n",
        "\n",
        "* The input sentence is passed through `N` encoder layers that generates an output for each word/token in the sequence.\n",
        "* The decoder attends on the encoder's output and its own input (self-attention) to predict the next word. "
      ]
    },
    {
      "cell_type": "markdown",
      "metadata": {
        "id": "QFv-FNYUmvpn"
      },
      "source": [
        "### Encoder layer\n",
        "\n",
        "Each encoder layer consists of sublayers:\n",
        "\n",
        "1.   Multi-head attention (with padding mask) \n",
        "2.    Point wise feed forward networks. \n",
        "\n",
        "Each of these sublayers has a residual connection around it followed by a layer normalization. Residual connections help in avoiding the vanishing gradient problem in deep networks.\n",
        "\n",
        "The output of each sublayer is `LayerNorm(x + Sublayer(x))`. The normalization is done on the `d_model` (last) axis. There are N encoder layers in the transformer."
      ]
    },
    {
      "cell_type": "code",
      "metadata": {
        "id": "ncyS-Ms3i2x_"
      },
      "source": [
        "class EncoderLayer(tf.keras.layers.Layer):\n",
        "  def __init__(self, d_model, num_heads, dff, rate=0.1):\n",
        "    super(EncoderLayer, self).__init__()\n",
        "\n",
        "    self.mha = MultiHeadAttention(d_model, num_heads)\n",
        "\n",
        "    self.ffn = point_wise_feed_forward_network(d_model, dff)\n",
        "\n",
        "    self.layernorm1 = tf.keras.layers.LayerNormalization(epsilon=1e-6)\n",
        "    self.layernorm2 = tf.keras.layers.LayerNormalization(epsilon=1e-6)\n",
        "    \n",
        "    self.dropout1 = tf.keras.layers.Dropout(rate)\n",
        "    self.dropout2 = tf.keras.layers.Dropout(rate)\n",
        "    \n",
        "  def call(self, x, training, mask):\n",
        "    attn_output, _ = self.mha(x, x, x, mask)  # (batch_size, input_seq_len, d_model)\n",
        "\n",
        "    attn_output = self.dropout1(attn_output, training=training)\n",
        "    out1 = self.layernorm1(x + attn_output)  # (batch_size, input_seq_len, d_model)\n",
        "    \n",
        "    ffn_output = self.ffn(out1)  # (batch_size, input_seq_len, d_model)\n",
        "    ffn_output = self.dropout2(ffn_output, training=training)\n",
        "    out2 = self.layernorm2(out1 + ffn_output)  # (batch_size, input_seq_len, d_model)\n",
        "    \n",
        "    return out2"
      ],
      "execution_count": 117,
      "outputs": []
    },
    {
      "cell_type": "code",
      "metadata": {
        "id": "AzZRXdO0mI48",
        "colab": {
          "base_uri": "https://localhost:8080/"
        },
        "outputId": "0d624ef2-77ba-4aff-a423-57263ecb7766"
      },
      "source": [
        "sample_encoder_layer = EncoderLayer(512, 8, 2048)\n",
        "\n",
        "sample_encoder_layer_output = sample_encoder_layer(\n",
        "    tf.random.uniform((64, 50, 512)), False, None)\n",
        "\n",
        "sample_encoder_layer_output.shape  # (batch_size, input_seq_len, d_model) ([64, 50, 512])\n",
        "# EncoderLayer:call entered for out2: [ 64  50 512] and value: [[[ 0.19326821 -1.7136104   0.69497544 ... -0.9291935  -0.57048583 -1.4038607 ]"
      ],
      "execution_count": 118,
      "outputs": [
        {
          "output_type": "execute_result",
          "data": {
            "text/plain": [
              "TensorShape([64, 50, 512])"
            ]
          },
          "metadata": {
            "tags": []
          },
          "execution_count": 118
        }
      ]
    },
    {
      "cell_type": "markdown",
      "metadata": {
        "id": "6LO_48Owmx_o"
      },
      "source": [
        "### Decoder layer\n",
        "\n",
        "Each decoder layer consists of sublayers:\n",
        "\n",
        "1.   Masked multi-head attention (with look ahead mask and padding mask)\n",
        "2.   Multi-head attention (with padding mask). V (value) and K (key) receive the *encoder output* as inputs. Q (query) receives the *output from the masked multi-head attention sublayer.*\n",
        "3.   Point wise feed forward networks\n",
        "\n",
        "Each of these sublayers has a residual connection around it followed by a layer normalization. The output of each sublayer is `LayerNorm(x + Sublayer(x))`. The normalization is done on the `d_model` (last) axis.\n",
        "\n",
        "There are N decoder layers in the transformer.\n",
        "\n",
        "As Q receives the output from decoder's first attention block, and K receives the encoder output, the attention weights represent the importance given to the decoder's input based on the encoder's output. In other words, the decoder predicts the next word by looking at the encoder output and self-attending to its own output. See the demonstration above in the scaled dot product attention section."
      ]
    },
    {
      "cell_type": "code",
      "metadata": {
        "id": "9SoX0-vd1hue"
      },
      "source": [
        "class DecoderLayer(tf.keras.layers.Layer):\n",
        "  def __init__(self, d_model, num_heads, dff, rate=0.1):\n",
        "    super(DecoderLayer, self).__init__()\n",
        "\n",
        "    self.mha1 = MultiHeadAttention(d_model, num_heads)\n",
        "    self.mha2 = MultiHeadAttention(d_model, num_heads)\n",
        "\n",
        "    self.ffn = point_wise_feed_forward_network(d_model, dff)\n",
        " \n",
        "    self.layernorm1 = tf.keras.layers.LayerNormalization(epsilon=1e-6)\n",
        "    self.layernorm2 = tf.keras.layers.LayerNormalization(epsilon=1e-6)\n",
        "    self.layernorm3 = tf.keras.layers.LayerNormalization(epsilon=1e-6)\n",
        "    \n",
        "    self.dropout1 = tf.keras.layers.Dropout(rate)\n",
        "    self.dropout2 = tf.keras.layers.Dropout(rate)\n",
        "    self.dropout3 = tf.keras.layers.Dropout(rate)\n",
        "    \n",
        "  def call(self, x, enc_output, training, \n",
        "           look_ahead_mask, padding_mask):\n",
        "    \n",
        "    # enc_output.shape == (batch_size, input_seq_len, d_model)\n",
        "    attn1, attn_weights_block1 = self.mha1(x, x, x, look_ahead_mask)  # (batch_size, target_seq_len, d_model)\n",
        "    attn1 = self.dropout1(attn1, training=training)\n",
        "    out1 = self.layernorm1(attn1 + x)\n",
        "\n",
        "    attn2, attn_weights_block2 = self.mha2(\n",
        "        enc_output, enc_output, out1, padding_mask)  # (batch_size, target_seq_len, d_model)\n",
        "\n",
        "    attn2 = self.dropout2(attn2, training=training)\n",
        "    out2 = self.layernorm2(attn2 + out1)  # (batch_size, target_seq_len, d_model)\n",
        "    \n",
        "    ffn_output = self.ffn(out2)  # (batch_size, target_seq_len, d_model)\n",
        "    ffn_output = self.dropout3(ffn_output, training=training)\n",
        "    out3 = self.layernorm3(ffn_output + out2)  # (batch_size, target_seq_len, d_model)\n",
        "    \n",
        "    return out3, attn_weights_block1, attn_weights_block2"
      ],
      "execution_count": 119,
      "outputs": []
    },
    {
      "cell_type": "code",
      "metadata": {
        "colab": {
          "base_uri": "https://localhost:8080/"
        },
        "id": "W8AgIAnKoc5k",
        "outputId": "68f7cc15-1245-44de-f53f-3ff8d14292d1"
      },
      "source": [
        "sample_decoder_layer = DecoderLayer(512, 8, 2048)\n",
        "sample_decoder_layer_output, attn_weights_block1, attn_weights_block2 = sample_decoder_layer(\n",
        "    tf.random.uniform((64, 74, 512)), sample_encoder_layer_output, \n",
        "    False, None, None)\n",
        "\n",
        "sample_decoder_layer_output.shape  # (batch_size, target_seq_len, d_model)"
      ],
      "execution_count": 120,
      "outputs": [
        {
          "output_type": "execute_result",
          "data": {
            "text/plain": [
              "TensorShape([64, 74, 512])"
            ]
          },
          "metadata": {
            "tags": []
          },
          "execution_count": 120
        }
      ]
    },
    {
      "cell_type": "markdown",
      "metadata": {
        "id": "SE1H51Ajm0q1"
      },
      "source": [
        "### Encoder\n",
        "\n",
        "The `Encoder` consists of:\n",
        "1.   Input Embedding\n",
        "2.   Positional Encoding\n",
        "3.   N encoder layers\n",
        "\n",
        "The input is put through an embedding which is summed with the positional encoding. The output of this summation is the input to the encoder layers. The output of the encoder is the input to the decoder."
      ]
    },
    {
      "cell_type": "code",
      "metadata": {
        "id": "jpEox7gJ8FCI"
      },
      "source": [
        "class Encoder(tf.keras.layers.Layer):\n",
        "  def __init__(self, num_layers, d_model, num_heads, dff, input_vocab_size,\n",
        "               maximum_position_encoding, rate=0.1):\n",
        "    super(Encoder, self).__init__()\n",
        "\n",
        "    self.d_model = d_model\n",
        "    self.num_layers = num_layers\n",
        "    \n",
        "    self.embedding = tf.keras.layers.Embedding(input_vocab_size, d_model)\n",
        "    self.pos_encoding = positional_encoding(maximum_position_encoding, \n",
        "                                            self.d_model)\n",
        "    \n",
        "    \n",
        "    self.enc_layers = [EncoderLayer(d_model, num_heads, dff, rate) \n",
        "                       for _ in range(num_layers)]\n",
        "  \n",
        "    self.dropout = tf.keras.layers.Dropout(rate)\n",
        "        \n",
        "  def call(self, x, training, mask):\n",
        "\n",
        "    seq_len = tf.shape(x)[1]\n",
        "    \n",
        "    # adding embedding and position encoding.\n",
        "    x = self.embedding(x)  # (batch_size, input_seq_len, d_model)\n",
        "\n",
        "    x *= tf.math.sqrt(tf.cast(self.d_model, tf.float32))\n",
        "    x += self.pos_encoding[:, :seq_len, :]\n",
        "\n",
        "    x = self.dropout(x, training=training)\n",
        "    \n",
        "    for i in range(self.num_layers):\n",
        "      x = self.enc_layers[i](x, training, mask)\n",
        "    \n",
        "    return x  # (batch_size, input_seq_len, d_model)"
      ],
      "execution_count": 121,
      "outputs": []
    },
    {
      "cell_type": "code",
      "metadata": {
        "id": "8QG9nueFQKXx",
        "colab": {
          "base_uri": "https://localhost:8080/"
        },
        "outputId": "2f36ef16-a805-4996-ff1f-3c232a490ae9"
      },
      "source": [
        "sample_encoder = Encoder(num_layers=2, d_model=512, num_heads=8, \n",
        "                         dff=2048, input_vocab_size=8500,\n",
        "                         maximum_position_encoding=10000)\n",
        "temp_input = tf.random.uniform((64, 62), dtype=tf.int64, minval=0, maxval=200)\n",
        "\n",
        "sample_encoder_output = sample_encoder(temp_input, training=False, mask=None)\n",
        "\n",
        "print (sample_encoder_output.shape)  # (batch_size, input_seq_len, d_model)"
      ],
      "execution_count": 122,
      "outputs": [
        {
          "output_type": "stream",
          "text": [
            "(64, 62, 512)\n"
          ],
          "name": "stdout"
        }
      ]
    },
    {
      "cell_type": "markdown",
      "metadata": {
        "id": "p-uO6ls8m2O5"
      },
      "source": [
        "### Decoder"
      ]
    },
    {
      "cell_type": "markdown",
      "metadata": {
        "id": "ZtT7PKzrXkNr"
      },
      "source": [
        " The `Decoder` consists of:\n",
        "1.   Output Embedding\n",
        "2.   Positional Encoding\n",
        "3.   N decoder layers\n",
        "\n",
        "The target is put through an embedding which is summed with the positional encoding. The output of this summation is the input to the decoder layers. The output of the decoder is the input to the final linear layer."
      ]
    },
    {
      "cell_type": "code",
      "metadata": {
        "id": "d5_d5-PLQXwY"
      },
      "source": [
        "class Decoder(tf.keras.layers.Layer):\n",
        "  def __init__(self, num_layers, d_model, num_heads, dff, target_vocab_size,\n",
        "               maximum_position_encoding, rate=0.1):\n",
        "    super(Decoder, self).__init__()\n",
        "\n",
        "    self.d_model = d_model\n",
        "    self.num_layers = num_layers\n",
        "    \n",
        "    self.embedding = tf.keras.layers.Embedding(target_vocab_size, d_model)\n",
        "    self.pos_encoding = positional_encoding(maximum_position_encoding, d_model)\n",
        "    \n",
        "    self.dec_layers = [DecoderLayer(d_model, num_heads, dff, rate) \n",
        "                       for _ in range(num_layers)]\n",
        "    self.dropout = tf.keras.layers.Dropout(rate)\n",
        "    \n",
        "  def call(self, x, enc_output, training, \n",
        "           look_ahead_mask, padding_mask):\n",
        "\n",
        "    seq_len = tf.shape(x)[1]\n",
        "    attention_weights = {}\n",
        "    \n",
        "    x = self.embedding(x)  # (batch_size, target_seq_len, d_model)\n",
        "    x *= tf.math.sqrt(tf.cast(self.d_model, tf.float32))\n",
        "    x += self.pos_encoding[:, :seq_len, :]\n",
        "    \n",
        "    x = self.dropout(x, training=training)\n",
        "\n",
        "    for i in range(self.num_layers):\n",
        "      x, block1, block2 = self.dec_layers[i](x, enc_output, training,\n",
        "                                             look_ahead_mask, padding_mask)\n",
        "      \n",
        "      attention_weights['decoder_layer{}_block1'.format(i+1)] = block1\n",
        "      attention_weights['decoder_layer{}_block2'.format(i+1)] = block2\n",
        "    \n",
        "    # x.shape == (batch_size, target_seq_len, d_model)\n",
        "    return x, attention_weights"
      ],
      "execution_count": 123,
      "outputs": []
    },
    {
      "cell_type": "code",
      "metadata": {
        "id": "a1jXoAMRZyvu",
        "colab": {
          "base_uri": "https://localhost:8080/"
        },
        "outputId": "35f4ec66-5eed-4c21-e269-9203cdb87947"
      },
      "source": [
        "sample_decoder = Decoder(num_layers=2, d_model=512, num_heads=8, \n",
        "                         dff=2048, target_vocab_size=8000,\n",
        "                         maximum_position_encoding=5000)\n",
        "temp_input = tf.random.uniform((64, 62), dtype=tf.int64, minval=0, maxval=200)\n",
        "\n",
        "output, attn = sample_decoder(temp_input, \n",
        "                              enc_output=sample_encoder_output, \n",
        "                              training=False,\n",
        "                              look_ahead_mask=None, \n",
        "                              padding_mask=None)\n",
        "\n",
        "output.shape, attn['decoder_layer2_block2'].shape"
      ],
      "execution_count": 124,
      "outputs": [
        {
          "output_type": "execute_result",
          "data": {
            "text/plain": [
              "(TensorShape([64, 62, 512]), TensorShape([64, 8, 62, 62]))"
            ]
          },
          "metadata": {
            "tags": []
          },
          "execution_count": 124
        }
      ]
    },
    {
      "cell_type": "markdown",
      "metadata": {
        "id": "y54xnJnuYgJ7"
      },
      "source": [
        "## Create the Transformer"
      ]
    },
    {
      "cell_type": "markdown",
      "metadata": {
        "id": "uERO1y54cOKq"
      },
      "source": [
        "Transformer consists of the encoder, decoder and a final linear layer. The output of the decoder is the input to the linear layer and its output is returned."
      ]
    },
    {
      "cell_type": "code",
      "metadata": {
        "id": "PED3bIpOYkBu"
      },
      "source": [
        "class Transformer(tf.keras.Model):\n",
        "  def __init__(self, num_layers, d_model, num_heads, dff, input_vocab_size, \n",
        "               target_vocab_size, pe_input, pe_target, rate=0.1):\n",
        "    super(Transformer, self).__init__()\n",
        "\n",
        "    self.tokenizer = Encoder(num_layers, d_model, num_heads, dff, \n",
        "                           input_vocab_size, pe_input, rate)\n",
        "\n",
        "    self.decoder = Decoder(num_layers, d_model, num_heads, dff, \n",
        "                           target_vocab_size, pe_target, rate)\n",
        "\n",
        "    self.final_layer = tf.keras.layers.Dense(target_vocab_size)\n",
        "    \n",
        "  def call(self, inp, tar, training, enc_padding_mask, \n",
        "           look_ahead_mask, dec_padding_mask):\n",
        "\n",
        "    enc_output = self.tokenizer(inp, training, enc_padding_mask)  # (batch_size, inp_seq_len, d_model)\n",
        "    \n",
        "    # dec_output.shape == (batch_size, tar_seq_len, d_model)\n",
        "    dec_output, attention_weights = self.decoder(\n",
        "        tar, enc_output, training, look_ahead_mask, dec_padding_mask)\n",
        "    \n",
        "    final_output = self.final_layer(dec_output)  # (batch_size, tar_seq_len, target_vocab_size)\n",
        "    \n",
        "    return final_output, attention_weights"
      ],
      "execution_count": 125,
      "outputs": []
    },
    {
      "cell_type": "code",
      "metadata": {
        "id": "tJ4fbQcIkHW1",
        "colab": {
          "base_uri": "https://localhost:8080/"
        },
        "outputId": "490a88c3-e359-4c88-8167-79d2807cc0ce"
      },
      "source": [
        "sample_transformer = Transformer(\n",
        "    num_layers=2, d_model=128, num_heads=4, dff=512, \n",
        "    input_vocab_size=20000, target_vocab_size=10000, \n",
        "    pe_input=10000, pe_target=6000)\n",
        "\n",
        "temp_input = tf.random.uniform((64, 38), dtype=tf.int64, minval=0, maxval=200)\n",
        "temp_target = tf.random.uniform((64, 36), dtype=tf.int64, minval=0, maxval=200)\n",
        "\n",
        "fn_out, _ = sample_transformer(temp_input, temp_target, training=False, \n",
        "                               enc_padding_mask=None, \n",
        "                               look_ahead_mask=None,\n",
        "                               dec_padding_mask=None)\n",
        "\n",
        "fn_out.shape  # (batch_size, tar_seq_len, target_vocab_size)"
      ],
      "execution_count": 126,
      "outputs": [
        {
          "output_type": "execute_result",
          "data": {
            "text/plain": [
              "TensorShape([64, 36, 10000])"
            ]
          },
          "metadata": {
            "tags": []
          },
          "execution_count": 126
        }
      ]
    },
    {
      "cell_type": "markdown",
      "metadata": {
        "id": "wsINyf1VEQLC"
      },
      "source": [
        "## Set hyperparameters"
      ]
    },
    {
      "cell_type": "markdown",
      "metadata": {
        "id": "zVjWCxFNcgbt"
      },
      "source": [
        "To keep this example small and relatively fast, the values for *num_layers, d_model, and dff* have been reduced. \n",
        "\n",
        "The values used in the base model of transformer were; *num_layers=6*, *d_model = 512*, *dff = 2048*. See the [paper](https://arxiv.org/abs/1706.03762) for all the other versions of the transformer.\n",
        "\n",
        "Note: By changing the values below, you can get the model that achieved state of the art on many tasks."
      ]
    },
    {
      "cell_type": "code",
      "metadata": {
        "id": "lnJn5SLA2ahP"
      },
      "source": [
        "num_layers = 4\n",
        "d_model = 128\n",
        "dff = 512\n",
        "num_heads = 8\n",
        "dropout_rate = 0.1"
      ],
      "execution_count": 127,
      "outputs": []
    },
    {
      "cell_type": "markdown",
      "metadata": {
        "id": "xYEGhEOtzn5W"
      },
      "source": [
        "## Optimizer"
      ]
    },
    {
      "cell_type": "markdown",
      "metadata": {
        "id": "GOmWW--yP3zx"
      },
      "source": [
        "Use the Adam optimizer with a custom learning rate scheduler according to the formula in the [paper](https://arxiv.org/abs/1706.03762).\n",
        "\n",
        "$$\\Large{lrate = d_{model}^{-0.5} * min(step{\\_}num^{-0.5}, step{\\_}num * warmup{\\_}steps^{-1.5})}$$\n"
      ]
    },
    {
      "cell_type": "code",
      "metadata": {
        "id": "iYQdOO1axwEI"
      },
      "source": [
        "class CustomSchedule(tf.keras.optimizers.schedules.LearningRateSchedule):\n",
        "  def __init__(self, d_model, warmup_steps=4000):\n",
        "    super(CustomSchedule, self).__init__()\n",
        "    \n",
        "    self.d_model = d_model\n",
        "    self.d_model = tf.cast(self.d_model, tf.float32)\n",
        "\n",
        "    self.warmup_steps = warmup_steps\n",
        "    \n",
        "  def __call__(self, step):\n",
        "    arg1 = tf.math.rsqrt(step)\n",
        "    arg2 = step * (self.warmup_steps ** -1.5)\n",
        "    \n",
        "    return tf.math.rsqrt(self.d_model) * tf.math.minimum(arg1, arg2)"
      ],
      "execution_count": 128,
      "outputs": []
    },
    {
      "cell_type": "code",
      "metadata": {
        "id": "7r4scdulztRx"
      },
      "source": [
        "learning_rate = CustomSchedule(d_model)\n",
        "\n",
        "optimizer = tf.keras.optimizers.Adam(learning_rate, beta_1=0.9, beta_2=0.98, \n",
        "                                     epsilon=1e-9)"
      ],
      "execution_count": 129,
      "outputs": []
    },
    {
      "cell_type": "code",
      "metadata": {
        "id": "f33ZCgvHpPdG",
        "colab": {
          "base_uri": "https://localhost:8080/",
          "height": 296
        },
        "outputId": "ddbe31a1-55e1-40fa-8baf-2740e8b12371"
      },
      "source": [
        "temp_learning_rate_schedule = CustomSchedule(d_model)\n",
        "\n",
        "plt.plot(temp_learning_rate_schedule(tf.range(40000, dtype=tf.float32)))\n",
        "plt.ylabel(\"Learning Rate\")\n",
        "plt.xlabel(\"Train Step\")"
      ],
      "execution_count": 130,
      "outputs": [
        {
          "output_type": "execute_result",
          "data": {
            "text/plain": [
              "Text(0.5, 0, 'Train Step')"
            ]
          },
          "metadata": {
            "tags": []
          },
          "execution_count": 130
        },
        {
          "output_type": "display_data",
          "data": {
            "image/png": "[encoded data removed]",
            "text/plain": [
              "<Figure size 432x288 with 1 Axes>"
            ]
          },
          "metadata": {
            "tags": [],
            "needs_background": "light"
          }
        }
      ]
    },
    {
      "cell_type": "markdown",
      "metadata": {
        "id": "YgkDE7hzo8r5"
      },
      "source": [
        "## Loss and metrics"
      ]
    },
    {
      "cell_type": "markdown",
      "metadata": {
        "id": "oxGJtoDuYIHL"
      },
      "source": [
        "Since the target sequences are padded, it is important to apply a padding mask when calculating the loss."
      ]
    },
    {
      "cell_type": "code",
      "metadata": {
        "id": "MlhsJMm0TW_B"
      },
      "source": [
        "loss_object = tf.keras.losses.SparseCategoricalCrossentropy(\n",
        "    from_logits=True, reduction='none')"
      ],
      "execution_count": 131,
      "outputs": []
    },
    {
      "cell_type": "code",
      "metadata": {
        "id": "67oqVHiT0Eiu"
      },
      "source": [
        "def loss_function(real, pred):\n",
        "  mask = tf.math.logical_not(tf.math.equal(real, 0))\n",
        "  loss_ = loss_object(real, pred)\n",
        "\n",
        "  mask = tf.cast(mask, dtype=loss_.dtype)\n",
        "  loss_ *= mask\n",
        "  \n",
        "  return tf.reduce_sum(loss_)/tf.reduce_sum(mask)\n",
        "\n",
        "\n",
        "def accuracy_function(real, pred):\n",
        "  accuracies = tf.equal(real, tf.argmax(pred, axis=2))\n",
        "  \n",
        "  mask = tf.math.logical_not(tf.math.equal(real, 0))\n",
        "  accuracies = tf.math.logical_and(mask, accuracies)\n",
        "\n",
        "  accuracies = tf.cast(accuracies, dtype=tf.float32)\n",
        "  mask = tf.cast(mask, dtype=tf.float32)\n",
        "  return tf.reduce_sum(accuracies)/tf.reduce_sum(mask)"
      ],
      "execution_count": 132,
      "outputs": []
    },
    {
      "cell_type": "code",
      "metadata": {
        "id": "phlyxMnm-Tpx"
      },
      "source": [
        "train_loss = tf.keras.metrics.Mean(name='train_loss')\n",
        "train_accuracy = tf.keras.metrics.Mean(name='train_accuracy')"
      ],
      "execution_count": 133,
      "outputs": []
    },
    {
      "cell_type": "markdown",
      "metadata": {
        "id": "aeHumfr7zmMa"
      },
      "source": [
        "## Training and checkpointing"
      ]
    },
    {
      "cell_type": "code",
      "metadata": {
        "id": "UiysUa--4tOU"
      },
      "source": [
        "transformer = Transformer(\n",
        "    num_layers=num_layers,\n",
        "    d_model=d_model,\n",
        "    num_heads=num_heads,\n",
        "    dff=dff,\n",
        "    input_vocab_size=tokenizers.ru.get_vocab_size(),\n",
        "    target_vocab_size=tokenizers.en.get_vocab_size(), \n",
        "    pe_input=1000, \n",
        "    pe_target=1000,\n",
        "    rate=dropout_rate)"
      ],
      "execution_count": 134,
      "outputs": []
    },
    {
      "cell_type": "code",
      "metadata": {
        "id": "ZOJUSB1T8GjM"
      },
      "source": [
        "def create_masks(inp, tar):\n",
        "  # Encoder padding mask\n",
        "  enc_padding_mask = create_padding_mask(inp)\n",
        "  \n",
        "  # Used in the 2nd attention block in the decoder.\n",
        "  # This padding mask is used to mask the encoder outputs.\n",
        "  dec_padding_mask = create_padding_mask(inp)\n",
        "  \n",
        "  # Used in the 1st attention block in the decoder.\n",
        "  # It is used to pad and mask future tokens in the input received by \n",
        "  # the decoder.\n",
        "  look_ahead_mask = create_look_ahead_mask(tf.shape(tar)[1])\n",
        "  dec_target_padding_mask = create_padding_mask(tar)\n",
        "  combined_mask = tf.maximum(dec_target_padding_mask, look_ahead_mask)\n",
        "  \n",
        "  return enc_padding_mask, combined_mask, dec_padding_mask"
      ],
      "execution_count": 135,
      "outputs": []
    },
    {
      "cell_type": "markdown",
      "metadata": {
        "id": "Fzuf06YZp66w"
      },
      "source": [
        "Create the checkpoint path and the checkpoint manager. This will be used to save checkpoints every `n` epochs."
      ]
    },
    {
      "cell_type": "code",
      "metadata": {
        "id": "hNhuYfllndLZ"
      },
      "source": [
        "checkpoint_path = BASE_MODEL_PATH\n",
        "\n",
        "ckpt = tf.train.Checkpoint(transformer=transformer,\n",
        "                           optimizer=optimizer)\n",
        "\n",
        "ckpt_manager = tf.train.CheckpointManager(ckpt, checkpoint_path, max_to_keep=2)\n",
        "\n",
        "model_already_built = False\n",
        "\n",
        "# if a checkpoint exists, restore the latest checkpoint.\n",
        "if ckpt_manager.latest_checkpoint:\n",
        "  ckpt.restore(ckpt_manager.latest_checkpoint)\n",
        "  print ('Latest checkpoint restored!!')\n",
        "  model_already_built = True"
      ],
      "execution_count": 136,
      "outputs": []
    },
    {
      "cell_type": "markdown",
      "metadata": {
        "id": "0Di_Yaa1gf9r"
      },
      "source": [
        "The target is divided into tar_inp and tar_real. tar_inp is passed as an input to the decoder. `tar_real` is that same input shifted by 1: At each location in `tar_input`, `tar_real` contains the  next token that should be predicted.\n",
        "\n",
        "For example, `sentence` = \"SOS A lion in the jungle is sleeping EOS\"\n",
        "\n",
        "`tar_inp` =  \"SOS A lion in the jungle is sleeping\"\n",
        "\n",
        "`tar_real` = \"A lion in the jungle is sleeping EOS\"\n",
        "\n",
        "The transformer is an auto-regressive model: it makes predictions one part at a time, and uses its output so far to decide what to do next. \n",
        "\n",
        "During training this example uses teacher-forcing (like in the [text generation tutorial](./text_generation.ipynb)). Teacher forcing is passing the true output to the next time step regardless of what the model predicts at the current time step.\n",
        "\n",
        "As the transformer predicts each word, *self-attention* allows it to look at the previous words in the input sequence to better predict the next word.\n",
        "\n",
        "To prevent the model from peeking at the expected output the model uses a look-ahead mask."
      ]
    },
    {
      "cell_type": "code",
      "metadata": {
        "id": "LKpoA6q1sJFj"
      },
      "source": [
        "EPOCHS = 20"
      ],
      "execution_count": 137,
      "outputs": []
    },
    {
      "cell_type": "code",
      "metadata": {
        "id": "iJwmp9OE29oj"
      },
      "source": [
        "# The @tf.function trace-compiles train_step into a TF graph for faster\n",
        "# execution. The function specializes to the precise shape of the argument\n",
        "# tensors. To avoid re-tracing due to the variable sequence lengths or variable\n",
        "# batch sizes (the last batch is smaller), use input_signature to specify\n",
        "# more generic shapes.\n",
        "\n",
        "train_step_signature = [\n",
        "    tf.TensorSpec(shape=(None, None), dtype=tf.int64),\n",
        "    tf.TensorSpec(shape=(None, None), dtype=tf.int64),\n",
        "]\n",
        "\n",
        "@tf.function(input_signature=train_step_signature)\n",
        "def train_step(inp, tar):\n",
        "  tar_inp = tar[:, :-1]\n",
        "  tar_real = tar[:, 1:]\n",
        "  \n",
        "  enc_padding_mask, combined_mask, dec_padding_mask = create_masks(inp, tar_inp)\n",
        "  \n",
        "  with tf.GradientTape() as tape:\n",
        "    predictions, _ = transformer(inp, tar_inp, \n",
        "                                 True, \n",
        "                                 enc_padding_mask, \n",
        "                                 combined_mask, \n",
        "                                 dec_padding_mask)\n",
        "    loss = loss_function(tar_real, predictions)\n",
        "\n",
        "  gradients = tape.gradient(loss, transformer.trainable_variables)    \n",
        "  optimizer.apply_gradients(zip(gradients, transformer.trainable_variables))\n",
        "  \n",
        "  train_loss(loss)\n",
        "  train_accuracy(accuracy_function(tar_real, predictions))"
      ],
      "execution_count": 138,
      "outputs": []
    },
    {
      "cell_type": "markdown",
      "metadata": {
        "id": "qM2PDWGDJ_8V"
      },
      "source": [
        "Russian is used as the input language and English is the target language."
      ]
    },
    {
      "cell_type": "code",
      "metadata": {
        "id": "l6_nfW4BlGYm"
      },
      "source": [
        "def train_model(epochs, train_batches, train_loss, train_accuracy, ckpt_manager):\n",
        "  for epoch in range(epochs):\n",
        "    start = time.time()\n",
        "      \n",
        "    train_loss.reset_states()\n",
        "    train_accuracy.reset_states()\n",
        "      \n",
        "    # inp -> portuguese, tar -> english\n",
        "    batch_start = time.time()\n",
        "    for (batch, (inp, tar)) in enumerate(train_batches):\n",
        "          \n",
        "      train_step(inp, tar)\n",
        "        \n",
        "      if batch % 50 == 0:\n",
        "        print(f'Epoch {epoch + 1} Batch {batch} Loss {train_loss.result():.4f} Accuracy {train_accuracy.result():.4f} with time taken {time.time() - batch_start:.2f} secs')\n",
        "        batch_start = time.time()\n",
        "\n",
        "    #if (epoch + 1) % 5 == 0:\n",
        "    ckpt_save_path = ckpt_manager.save()\n",
        "    print (f'Saving checkpoint for epoch {epoch+1} at {ckpt_save_path}')\n",
        "        \n",
        "    print(f'Epoch {epoch + 1} Loss {train_loss.result():.4f} Accuracy {train_accuracy.result():.4f}')\n",
        "\n",
        "    print(f'Time taken for 1 epoch: {time.time() - start:.2f} secs\\n')"
      ],
      "execution_count": 139,
      "outputs": []
    },
    {
      "cell_type": "code",
      "metadata": {
        "id": "r0OnGd5YlG1R",
        "colab": {
          "base_uri": "https://localhost:8080/"
        },
        "outputId": "c336f908-d7f8-4a9e-eed9-f1df39cc486c"
      },
      "source": [
        "if not model_already_built:\n",
        "  train_model(EPOCHS, train_batches, train_loss, train_accuracy, ckpt_manager)"
      ],
      "execution_count": 140,
      "outputs": [
        {
          "output_type": "stream",
          "text": [
            "Epoch 1 Batch 0 Loss 9.6973 Accuracy 0.0000 with time taken 13.39 secs\n",
            "Epoch 1 Batch 50 Loss 9.6583 Accuracy 0.0039 with time taken 4.32 secs\n",
            "Epoch 1 Batch 100 Loss 9.5742 Accuracy 0.0213 with time taken 4.32 secs\n",
            "Epoch 1 Batch 150 Loss 9.4538 Accuracy 0.0290 with time taken 4.25 secs\n",
            "Epoch 1 Batch 200 Loss 9.2950 Accuracy 0.0332 with time taken 4.39 secs\n",
            "Epoch 1 Batch 250 Loss 9.1008 Accuracy 0.0356 with time taken 4.31 secs\n",
            "Epoch 1 Batch 300 Loss 8.8788 Accuracy 0.0370 with time taken 4.24 secs\n",
            "Epoch 1 Batch 350 Loss 8.6398 Accuracy 0.0416 with time taken 4.20 secs\n",
            "Epoch 1 Batch 400 Loss 8.4004 Accuracy 0.0465 with time taken 4.22 secs\n",
            "Epoch 1 Batch 450 Loss 8.1798 Accuracy 0.0508 with time taken 4.19 secs\n",
            "Epoch 1 Batch 500 Loss 7.9860 Accuracy 0.0581 with time taken 4.25 secs\n",
            "Epoch 1 Batch 550 Loss 7.8165 Accuracy 0.0658 with time taken 4.30 secs\n",
            "Epoch 1 Batch 600 Loss 7.6585 Accuracy 0.0741 with time taken 4.17 secs\n",
            "Epoch 1 Batch 650 Loss 7.5124 Accuracy 0.0822 with time taken 4.20 secs\n",
            "Epoch 1 Batch 700 Loss 7.3755 Accuracy 0.0898 with time taken 4.22 secs\n",
            "Epoch 1 Batch 750 Loss 7.2499 Accuracy 0.0970 with time taken 4.25 secs\n",
            "Epoch 1 Batch 800 Loss 7.1343 Accuracy 0.1037 with time taken 4.37 secs\n",
            "Epoch 1 Batch 850 Loss 7.0289 Accuracy 0.1099 with time taken 4.32 secs\n",
            "Epoch 1 Batch 900 Loss 6.9307 Accuracy 0.1160 with time taken 4.44 secs\n",
            "Epoch 1 Batch 950 Loss 6.8406 Accuracy 0.1218 with time taken 4.34 secs\n",
            "Epoch 1 Batch 1000 Loss 6.7567 Accuracy 0.1273 with time taken 4.41 secs\n",
            "Epoch 1 Batch 1050 Loss 6.6791 Accuracy 0.1326 with time taken 4.34 secs\n",
            "Epoch 1 Batch 1100 Loss 6.6069 Accuracy 0.1375 with time taken 4.13 secs\n",
            "Epoch 1 Batch 1150 Loss 6.5380 Accuracy 0.1423 with time taken 4.33 secs\n",
            "Epoch 1 Batch 1200 Loss 6.4734 Accuracy 0.1468 with time taken 4.11 secs\n",
            "Epoch 1 Batch 1250 Loss 6.4138 Accuracy 0.1509 with time taken 4.22 secs\n",
            "Epoch 1 Batch 1300 Loss 6.3575 Accuracy 0.1549 with time taken 4.27 secs\n",
            "Epoch 1 Batch 1350 Loss 6.3028 Accuracy 0.1586 with time taken 4.36 secs\n",
            "Epoch 1 Batch 1400 Loss 6.2518 Accuracy 0.1622 with time taken 4.24 secs\n",
            "Epoch 1 Batch 1450 Loss 6.2052 Accuracy 0.1655 with time taken 4.25 secs\n",
            "Epoch 1 Batch 1500 Loss 6.1609 Accuracy 0.1685 with time taken 4.24 secs\n",
            "Epoch 1 Batch 1550 Loss 6.1174 Accuracy 0.1715 with time taken 4.25 secs\n",
            "Epoch 1 Batch 1600 Loss 6.0752 Accuracy 0.1746 with time taken 4.12 secs\n",
            "Epoch 1 Batch 1650 Loss 6.0361 Accuracy 0.1774 with time taken 4.11 secs\n",
            "Epoch 1 Batch 1700 Loss 5.9983 Accuracy 0.1800 with time taken 4.24 secs\n",
            "Epoch 1 Batch 1750 Loss 5.9620 Accuracy 0.1826 with time taken 4.29 secs\n",
            "Epoch 1 Batch 1800 Loss 5.9273 Accuracy 0.1851 with time taken 4.12 secs\n",
            "Epoch 1 Batch 1850 Loss 5.8939 Accuracy 0.1876 with time taken 4.22 secs\n",
            "Epoch 1 Batch 1900 Loss 5.8623 Accuracy 0.1898 with time taken 4.13 secs\n",
            "Epoch 1 Batch 1950 Loss 5.8314 Accuracy 0.1921 with time taken 4.22 secs\n",
            "Epoch 1 Batch 2000 Loss 5.8017 Accuracy 0.1942 with time taken 4.16 secs\n",
            "Epoch 1 Batch 2050 Loss 5.7725 Accuracy 0.1964 with time taken 4.29 secs\n",
            "Epoch 1 Batch 2100 Loss 5.7450 Accuracy 0.1984 with time taken 4.23 secs\n",
            "Epoch 1 Batch 2150 Loss 5.7183 Accuracy 0.2004 with time taken 4.12 secs\n",
            "Epoch 1 Batch 2200 Loss 5.6930 Accuracy 0.2022 with time taken 4.26 secs\n",
            "Epoch 1 Batch 2250 Loss 5.6685 Accuracy 0.2041 with time taken 4.32 secs\n",
            "Epoch 1 Batch 2300 Loss 5.6445 Accuracy 0.2058 with time taken 4.15 secs\n",
            "Epoch 1 Batch 2350 Loss 5.6212 Accuracy 0.2075 with time taken 4.12 secs\n",
            "Epoch 1 Batch 2400 Loss 5.5989 Accuracy 0.2091 with time taken 4.18 secs\n",
            "Epoch 1 Batch 2450 Loss 5.5769 Accuracy 0.2108 with time taken 4.11 secs\n",
            "Epoch 1 Batch 2500 Loss 5.5553 Accuracy 0.2124 with time taken 4.15 secs\n",
            "Epoch 1 Batch 2550 Loss 5.5336 Accuracy 0.2141 with time taken 4.18 secs\n",
            "Epoch 1 Batch 2600 Loss 5.5131 Accuracy 0.2157 with time taken 4.18 secs\n",
            "Epoch 1 Batch 2650 Loss 5.4927 Accuracy 0.2172 with time taken 4.18 secs\n",
            "Epoch 1 Batch 2700 Loss 5.4728 Accuracy 0.2188 with time taken 4.21 secs\n",
            "Epoch 1 Batch 2750 Loss 5.4529 Accuracy 0.2203 with time taken 4.23 secs\n",
            "Epoch 1 Batch 2800 Loss 5.4343 Accuracy 0.2217 with time taken 4.38 secs\n",
            "Epoch 1 Batch 2850 Loss 5.4160 Accuracy 0.2232 with time taken 4.15 secs\n",
            "Epoch 1 Batch 2900 Loss 5.3979 Accuracy 0.2246 with time taken 4.31 secs\n",
            "Epoch 1 Batch 2950 Loss 5.3797 Accuracy 0.2259 with time taken 4.19 secs\n",
            "Epoch 1 Batch 3000 Loss 5.3622 Accuracy 0.2273 with time taken 4.10 secs\n",
            "Epoch 1 Batch 3050 Loss 5.3454 Accuracy 0.2286 with time taken 4.33 secs\n",
            "Epoch 1 Batch 3100 Loss 5.3285 Accuracy 0.2300 with time taken 4.17 secs\n",
            "Epoch 1 Batch 3150 Loss 5.3114 Accuracy 0.2315 with time taken 4.21 secs\n",
            "Epoch 1 Batch 3200 Loss 5.2953 Accuracy 0.2328 with time taken 4.19 secs\n",
            "Epoch 1 Batch 3250 Loss 5.2795 Accuracy 0.2341 with time taken 4.34 secs\n",
            "Saving checkpoint for epoch 1 at drive/MyDrive/models/transformer_ru_en_v2/ckpt-1\n",
            "Epoch 1 Loss 5.2795 Accuracy 0.2341\n",
            "Time taken for 1 epoch: 289.20 secs\n",
            "\n",
            "Epoch 2 Batch 0 Loss 4.3099 Accuracy 0.3143 with time taken 0.53 secs\n",
            "Epoch 2 Batch 50 Loss 4.2462 Accuracy 0.3165 with time taken 4.18 secs\n",
            "Epoch 2 Batch 100 Loss 4.2459 Accuracy 0.3182 with time taken 4.20 secs\n",
            "Epoch 2 Batch 150 Loss 4.2319 Accuracy 0.3202 with time taken 4.24 secs\n",
            "Epoch 2 Batch 200 Loss 4.2169 Accuracy 0.3215 with time taken 4.26 secs\n",
            "Epoch 2 Batch 250 Loss 4.2087 Accuracy 0.3229 with time taken 4.23 secs\n",
            "Epoch 2 Batch 300 Loss 4.2010 Accuracy 0.3237 with time taken 4.18 secs\n",
            "Epoch 2 Batch 350 Loss 4.1967 Accuracy 0.3245 with time taken 4.26 secs\n",
            "Epoch 2 Batch 400 Loss 4.1871 Accuracy 0.3257 with time taken 4.20 secs\n",
            "Epoch 2 Batch 450 Loss 4.1778 Accuracy 0.3268 with time taken 4.21 secs\n",
            "Epoch 2 Batch 500 Loss 4.1744 Accuracy 0.3273 with time taken 4.19 secs\n",
            "Epoch 2 Batch 550 Loss 4.1702 Accuracy 0.3277 with time taken 4.18 secs\n",
            "Epoch 2 Batch 600 Loss 4.1629 Accuracy 0.3285 with time taken 4.06 secs\n",
            "Epoch 2 Batch 650 Loss 4.1543 Accuracy 0.3295 with time taken 4.10 secs\n",
            "Epoch 2 Batch 700 Loss 4.1458 Accuracy 0.3306 with time taken 4.21 secs\n",
            "Epoch 2 Batch 750 Loss 4.1392 Accuracy 0.3313 with time taken 4.29 secs\n",
            "Epoch 2 Batch 800 Loss 4.1340 Accuracy 0.3319 with time taken 4.31 secs\n",
            "Epoch 2 Batch 850 Loss 4.1274 Accuracy 0.3328 with time taken 4.08 secs\n",
            "Epoch 2 Batch 900 Loss 4.1174 Accuracy 0.3340 with time taken 4.05 secs\n",
            "Epoch 2 Batch 950 Loss 4.1117 Accuracy 0.3348 with time taken 4.14 secs\n",
            "Epoch 2 Batch 1000 Loss 4.1030 Accuracy 0.3359 with time taken 4.13 secs\n",
            "Epoch 2 Batch 1050 Loss 4.0969 Accuracy 0.3367 with time taken 4.09 secs\n",
            "Epoch 2 Batch 1100 Loss 4.0906 Accuracy 0.3376 with time taken 4.15 secs\n",
            "Epoch 2 Batch 1150 Loss 4.0830 Accuracy 0.3385 with time taken 4.06 secs\n",
            "Epoch 2 Batch 1200 Loss 4.0757 Accuracy 0.3394 with time taken 4.16 secs\n",
            "Epoch 2 Batch 1250 Loss 4.0678 Accuracy 0.3404 with time taken 4.20 secs\n",
            "Epoch 2 Batch 1300 Loss 4.0603 Accuracy 0.3413 with time taken 4.21 secs\n",
            "Epoch 2 Batch 1350 Loss 4.0528 Accuracy 0.3423 with time taken 4.19 secs\n",
            "Epoch 2 Batch 1400 Loss 4.0465 Accuracy 0.3431 with time taken 4.23 secs\n",
            "Epoch 2 Batch 1450 Loss 4.0394 Accuracy 0.3438 with time taken 4.18 secs\n",
            "Epoch 2 Batch 1500 Loss 4.0311 Accuracy 0.3449 with time taken 4.19 secs\n",
            "Epoch 2 Batch 1550 Loss 4.0253 Accuracy 0.3455 with time taken 4.32 secs\n",
            "Epoch 2 Batch 1600 Loss 4.0181 Accuracy 0.3464 with time taken 4.16 secs\n",
            "Epoch 2 Batch 1650 Loss 4.0116 Accuracy 0.3472 with time taken 4.28 secs\n",
            "Epoch 2 Batch 1700 Loss 4.0058 Accuracy 0.3479 with time taken 4.17 secs\n",
            "Epoch 2 Batch 1750 Loss 3.9996 Accuracy 0.3487 with time taken 4.22 secs\n",
            "Epoch 2 Batch 1800 Loss 3.9935 Accuracy 0.3494 with time taken 4.07 secs\n",
            "Epoch 2 Batch 1850 Loss 3.9873 Accuracy 0.3502 with time taken 4.11 secs\n",
            "Epoch 2 Batch 1900 Loss 3.9811 Accuracy 0.3509 with time taken 4.22 secs\n",
            "Epoch 2 Batch 1950 Loss 3.9755 Accuracy 0.3515 with time taken 4.26 secs\n",
            "Epoch 2 Batch 2000 Loss 3.9684 Accuracy 0.3524 with time taken 4.21 secs\n",
            "Epoch 2 Batch 2050 Loss 3.9615 Accuracy 0.3532 with time taken 4.11 secs\n",
            "Epoch 2 Batch 2100 Loss 3.9556 Accuracy 0.3539 with time taken 4.23 secs\n",
            "Epoch 2 Batch 2150 Loss 3.9492 Accuracy 0.3547 with time taken 4.18 secs\n",
            "Epoch 2 Batch 2200 Loss 3.9429 Accuracy 0.3555 with time taken 4.24 secs\n",
            "Epoch 2 Batch 2250 Loss 3.9361 Accuracy 0.3564 with time taken 4.19 secs\n",
            "Epoch 2 Batch 2300 Loss 3.9300 Accuracy 0.3571 with time taken 4.13 secs\n",
            "Epoch 2 Batch 2350 Loss 3.9239 Accuracy 0.3578 with time taken 4.22 secs\n",
            "Epoch 2 Batch 2400 Loss 3.9171 Accuracy 0.3586 with time taken 4.23 secs\n",
            "Epoch 2 Batch 2450 Loss 3.9110 Accuracy 0.3593 with time taken 4.28 secs\n",
            "Epoch 2 Batch 2500 Loss 3.9054 Accuracy 0.3600 with time taken 4.13 secs\n",
            "Epoch 2 Batch 2550 Loss 3.8990 Accuracy 0.3607 with time taken 4.11 secs\n",
            "Epoch 2 Batch 2600 Loss 3.8931 Accuracy 0.3615 with time taken 4.11 secs\n",
            "Epoch 2 Batch 2650 Loss 3.8868 Accuracy 0.3622 with time taken 4.09 secs\n",
            "Epoch 2 Batch 2700 Loss 3.8811 Accuracy 0.3629 with time taken 4.22 secs\n",
            "Epoch 2 Batch 2750 Loss 3.8749 Accuracy 0.3636 with time taken 4.13 secs\n",
            "Epoch 2 Batch 2800 Loss 3.8689 Accuracy 0.3644 with time taken 4.18 secs\n",
            "Epoch 2 Batch 2850 Loss 3.8636 Accuracy 0.3651 with time taken 4.22 secs\n",
            "Epoch 2 Batch 2900 Loss 3.8582 Accuracy 0.3656 with time taken 4.28 secs\n",
            "Epoch 2 Batch 2950 Loss 3.8524 Accuracy 0.3664 with time taken 4.07 secs\n",
            "Epoch 2 Batch 3000 Loss 3.8474 Accuracy 0.3670 with time taken 4.25 secs\n",
            "Epoch 2 Batch 3050 Loss 3.8416 Accuracy 0.3677 with time taken 4.01 secs\n",
            "Epoch 2 Batch 3100 Loss 3.8363 Accuracy 0.3683 with time taken 4.14 secs\n",
            "Epoch 2 Batch 3150 Loss 3.8310 Accuracy 0.3690 with time taken 4.33 secs\n",
            "Epoch 2 Batch 3200 Loss 3.8260 Accuracy 0.3696 with time taken 4.15 secs\n",
            "Epoch 2 Batch 3250 Loss 3.8207 Accuracy 0.3703 with time taken 4.19 secs\n",
            "Saving checkpoint for epoch 2 at drive/MyDrive/models/transformer_ru_en_v2/ckpt-2\n",
            "Epoch 2 Loss 3.8207 Accuracy 0.3703\n",
            "Time taken for 1 epoch: 272.84 secs\n",
            "\n",
            "Epoch 3 Batch 0 Loss 3.3182 Accuracy 0.4344 with time taken 0.55 secs\n",
            "Epoch 3 Batch 50 Loss 3.4446 Accuracy 0.4135 with time taken 4.24 secs\n",
            "Epoch 3 Batch 100 Loss 3.4510 Accuracy 0.4133 with time taken 4.04 secs\n",
            "Epoch 3 Batch 150 Loss 3.4439 Accuracy 0.4150 with time taken 4.26 secs\n",
            "Epoch 3 Batch 200 Loss 3.4395 Accuracy 0.4150 with time taken 4.19 secs\n",
            "Epoch 3 Batch 250 Loss 3.4360 Accuracy 0.4155 with time taken 4.17 secs\n",
            "Epoch 3 Batch 300 Loss 3.4338 Accuracy 0.4158 with time taken 4.17 secs\n",
            "Epoch 3 Batch 350 Loss 3.4308 Accuracy 0.4163 with time taken 4.20 secs\n",
            "Epoch 3 Batch 400 Loss 3.4280 Accuracy 0.4166 with time taken 4.21 secs\n",
            "Epoch 3 Batch 450 Loss 3.4228 Accuracy 0.4170 with time taken 4.22 secs\n",
            "Epoch 3 Batch 500 Loss 3.4212 Accuracy 0.4174 with time taken 4.37 secs\n",
            "Epoch 3 Batch 550 Loss 3.4182 Accuracy 0.4177 with time taken 4.24 secs\n",
            "Epoch 3 Batch 600 Loss 3.4150 Accuracy 0.4180 with time taken 4.27 secs\n",
            "Epoch 3 Batch 650 Loss 3.4081 Accuracy 0.4190 with time taken 4.08 secs\n",
            "Epoch 3 Batch 700 Loss 3.4005 Accuracy 0.4200 with time taken 4.15 secs\n",
            "Epoch 3 Batch 750 Loss 3.3975 Accuracy 0.4202 with time taken 4.25 secs\n",
            "Epoch 3 Batch 800 Loss 3.3917 Accuracy 0.4209 with time taken 4.00 secs\n",
            "Epoch 3 Batch 850 Loss 3.3877 Accuracy 0.4214 with time taken 4.03 secs\n",
            "Epoch 3 Batch 900 Loss 3.3845 Accuracy 0.4220 with time taken 4.10 secs\n",
            "Epoch 3 Batch 950 Loss 3.3803 Accuracy 0.4225 with time taken 4.18 secs\n",
            "Epoch 3 Batch 1000 Loss 3.3764 Accuracy 0.4231 with time taken 4.24 secs\n",
            "Epoch 3 Batch 1050 Loss 3.3726 Accuracy 0.4235 with time taken 4.17 secs\n",
            "Epoch 3 Batch 1100 Loss 3.3702 Accuracy 0.4239 with time taken 4.17 secs\n",
            "Epoch 3 Batch 1150 Loss 3.3659 Accuracy 0.4244 with time taken 4.28 secs\n",
            "Epoch 3 Batch 1200 Loss 3.3624 Accuracy 0.4250 with time taken 4.17 secs\n",
            "Epoch 3 Batch 1250 Loss 3.3587 Accuracy 0.4253 with time taken 4.21 secs\n",
            "Epoch 3 Batch 1300 Loss 3.3557 Accuracy 0.4257 with time taken 4.10 secs\n",
            "Epoch 3 Batch 1350 Loss 3.3520 Accuracy 0.4261 with time taken 4.11 secs\n",
            "Epoch 3 Batch 1400 Loss 3.3499 Accuracy 0.4265 with time taken 4.09 secs\n",
            "Epoch 3 Batch 1450 Loss 3.3472 Accuracy 0.4268 with time taken 4.16 secs\n",
            "Epoch 3 Batch 1500 Loss 3.3437 Accuracy 0.4273 with time taken 4.10 secs\n",
            "Epoch 3 Batch 1550 Loss 3.3405 Accuracy 0.4277 with time taken 4.24 secs\n",
            "Epoch 3 Batch 1600 Loss 3.3373 Accuracy 0.4281 with time taken 4.21 secs\n",
            "Epoch 3 Batch 1650 Loss 3.3339 Accuracy 0.4284 with time taken 4.17 secs\n",
            "Epoch 3 Batch 1700 Loss 3.3323 Accuracy 0.4286 with time taken 4.25 secs\n",
            "Epoch 3 Batch 1750 Loss 3.3287 Accuracy 0.4291 with time taken 4.31 secs\n",
            "Epoch 3 Batch 1800 Loss 3.3262 Accuracy 0.4294 with time taken 4.18 secs\n",
            "Epoch 3 Batch 1850 Loss 3.3225 Accuracy 0.4298 with time taken 4.24 secs\n",
            "Epoch 3 Batch 1900 Loss 3.3182 Accuracy 0.4304 with time taken 4.22 secs\n",
            "Epoch 3 Batch 1950 Loss 3.3152 Accuracy 0.4308 with time taken 4.18 secs\n",
            "Epoch 3 Batch 2000 Loss 3.3120 Accuracy 0.4312 with time taken 4.23 secs\n",
            "Epoch 3 Batch 2050 Loss 3.3089 Accuracy 0.4316 with time taken 4.04 secs\n",
            "Epoch 3 Batch 2100 Loss 3.3066 Accuracy 0.4319 with time taken 4.08 secs\n",
            "Epoch 3 Batch 2150 Loss 3.3039 Accuracy 0.4322 with time taken 4.29 secs\n",
            "Epoch 3 Batch 2200 Loss 3.3011 Accuracy 0.4326 with time taken 4.27 secs\n",
            "Epoch 3 Batch 2250 Loss 3.2983 Accuracy 0.4329 with time taken 4.13 secs\n",
            "Epoch 3 Batch 2300 Loss 3.2948 Accuracy 0.4333 with time taken 4.12 secs\n",
            "Epoch 3 Batch 2350 Loss 3.2920 Accuracy 0.4337 with time taken 4.22 secs\n",
            "Epoch 3 Batch 2400 Loss 3.2894 Accuracy 0.4340 with time taken 4.17 secs\n",
            "Epoch 3 Batch 2450 Loss 3.2864 Accuracy 0.4343 with time taken 4.24 secs\n",
            "Epoch 3 Batch 2500 Loss 3.2836 Accuracy 0.4347 with time taken 4.09 secs\n",
            "Epoch 3 Batch 2550 Loss 3.2807 Accuracy 0.4350 with time taken 4.07 secs\n",
            "Epoch 3 Batch 2600 Loss 3.2775 Accuracy 0.4354 with time taken 4.15 secs\n",
            "Epoch 3 Batch 2650 Loss 3.2748 Accuracy 0.4357 with time taken 4.08 secs\n",
            "Epoch 3 Batch 2700 Loss 3.2723 Accuracy 0.4360 with time taken 4.16 secs\n",
            "Epoch 3 Batch 2750 Loss 3.2699 Accuracy 0.4363 with time taken 4.14 secs\n",
            "Epoch 3 Batch 2800 Loss 3.2677 Accuracy 0.4366 with time taken 4.11 secs\n",
            "Epoch 3 Batch 2850 Loss 3.2653 Accuracy 0.4369 with time taken 4.29 secs\n",
            "Epoch 3 Batch 2900 Loss 3.2622 Accuracy 0.4373 with time taken 4.19 secs\n",
            "Epoch 3 Batch 2950 Loss 3.2595 Accuracy 0.4376 with time taken 4.17 secs\n",
            "Epoch 3 Batch 3000 Loss 3.2571 Accuracy 0.4379 with time taken 4.24 secs\n",
            "Epoch 3 Batch 3050 Loss 3.2552 Accuracy 0.4382 with time taken 4.09 secs\n",
            "Epoch 3 Batch 3100 Loss 3.2533 Accuracy 0.4385 with time taken 4.18 secs\n",
            "Epoch 3 Batch 3150 Loss 3.2510 Accuracy 0.4387 with time taken 4.22 secs\n",
            "Epoch 3 Batch 3200 Loss 3.2485 Accuracy 0.4390 with time taken 4.28 secs\n",
            "Epoch 3 Batch 3250 Loss 3.2461 Accuracy 0.4393 with time taken 3.99 secs\n",
            "Saving checkpoint for epoch 3 at drive/MyDrive/models/transformer_ru_en_v2/ckpt-3\n",
            "Epoch 3 Loss 3.2461 Accuracy 0.4393\n",
            "Time taken for 1 epoch: 272.47 secs\n",
            "\n",
            "Epoch 4 Batch 0 Loss 3.3108 Accuracy 0.4380 with time taken 0.56 secs\n",
            "Epoch 4 Batch 50 Loss 3.0804 Accuracy 0.4564 with time taken 4.27 secs\n",
            "Epoch 4 Batch 100 Loss 3.0803 Accuracy 0.4570 with time taken 4.10 secs\n",
            "Epoch 4 Batch 150 Loss 3.0749 Accuracy 0.4577 with time taken 4.28 secs\n",
            "Epoch 4 Batch 200 Loss 3.0678 Accuracy 0.4587 with time taken 4.24 secs\n",
            "Epoch 4 Batch 250 Loss 3.0689 Accuracy 0.4589 with time taken 4.16 secs\n",
            "Epoch 4 Batch 300 Loss 3.0639 Accuracy 0.4603 with time taken 4.12 secs\n",
            "Epoch 4 Batch 350 Loss 3.0657 Accuracy 0.4600 with time taken 4.11 secs\n",
            "Epoch 4 Batch 400 Loss 3.0639 Accuracy 0.4603 with time taken 4.16 secs\n",
            "Epoch 4 Batch 450 Loss 3.0609 Accuracy 0.4609 with time taken 4.22 secs\n",
            "Epoch 4 Batch 500 Loss 3.0568 Accuracy 0.4615 with time taken 4.13 secs\n",
            "Epoch 4 Batch 550 Loss 3.0569 Accuracy 0.4616 with time taken 4.17 secs\n",
            "Epoch 4 Batch 600 Loss 3.0523 Accuracy 0.4619 with time taken 4.21 secs\n",
            "Epoch 4 Batch 650 Loss 3.0522 Accuracy 0.4621 with time taken 4.28 secs\n",
            "Epoch 4 Batch 700 Loss 3.0470 Accuracy 0.4627 with time taken 4.15 secs\n",
            "Epoch 4 Batch 750 Loss 3.0450 Accuracy 0.4630 with time taken 4.14 secs\n",
            "Epoch 4 Batch 800 Loss 3.0429 Accuracy 0.4634 with time taken 4.12 secs\n",
            "Epoch 4 Batch 850 Loss 3.0396 Accuracy 0.4639 with time taken 4.20 secs\n",
            "Epoch 4 Batch 900 Loss 3.0361 Accuracy 0.4645 with time taken 4.12 secs\n",
            "Epoch 4 Batch 950 Loss 3.0358 Accuracy 0.4645 with time taken 4.14 secs\n",
            "Epoch 4 Batch 1000 Loss 3.0340 Accuracy 0.4647 with time taken 4.15 secs\n",
            "Epoch 4 Batch 1050 Loss 3.0319 Accuracy 0.4650 with time taken 4.25 secs\n",
            "Epoch 4 Batch 1100 Loss 3.0309 Accuracy 0.4652 with time taken 4.16 secs\n",
            "Epoch 4 Batch 1150 Loss 3.0291 Accuracy 0.4653 with time taken 4.08 secs\n",
            "Epoch 4 Batch 1200 Loss 3.0272 Accuracy 0.4657 with time taken 4.21 secs\n",
            "Epoch 4 Batch 1250 Loss 3.0246 Accuracy 0.4660 with time taken 4.06 secs\n",
            "Epoch 4 Batch 1300 Loss 3.0225 Accuracy 0.4663 with time taken 4.11 secs\n",
            "Epoch 4 Batch 1350 Loss 3.0212 Accuracy 0.4665 with time taken 4.18 secs\n",
            "Epoch 4 Batch 1400 Loss 3.0205 Accuracy 0.4667 with time taken 4.25 secs\n",
            "Epoch 4 Batch 1450 Loss 3.0188 Accuracy 0.4669 with time taken 4.06 secs\n",
            "Epoch 4 Batch 1500 Loss 3.0179 Accuracy 0.4670 with time taken 4.10 secs\n",
            "Epoch 4 Batch 1550 Loss 3.0168 Accuracy 0.4672 with time taken 4.10 secs\n",
            "Epoch 4 Batch 1600 Loss 3.0153 Accuracy 0.4673 with time taken 4.18 secs\n",
            "Epoch 4 Batch 1650 Loss 3.0137 Accuracy 0.4674 with time taken 4.23 secs\n",
            "Epoch 4 Batch 1700 Loss 3.0117 Accuracy 0.4676 with time taken 4.30 secs\n",
            "Epoch 4 Batch 1750 Loss 3.0100 Accuracy 0.4678 with time taken 4.12 secs\n",
            "Epoch 4 Batch 1800 Loss 3.0078 Accuracy 0.4681 with time taken 4.10 secs\n",
            "Epoch 4 Batch 1850 Loss 3.0063 Accuracy 0.4683 with time taken 4.26 secs\n",
            "Epoch 4 Batch 1900 Loss 3.0051 Accuracy 0.4684 with time taken 4.13 secs\n",
            "Epoch 4 Batch 1950 Loss 3.0033 Accuracy 0.4687 with time taken 4.09 secs\n",
            "Epoch 4 Batch 2000 Loss 3.0034 Accuracy 0.4688 with time taken 4.19 secs\n",
            "Epoch 4 Batch 2050 Loss 3.0023 Accuracy 0.4689 with time taken 4.13 secs\n",
            "Epoch 4 Batch 2100 Loss 3.0016 Accuracy 0.4690 with time taken 4.13 secs\n",
            "Epoch 4 Batch 2150 Loss 2.9984 Accuracy 0.4694 with time taken 4.10 secs\n",
            "Epoch 4 Batch 2200 Loss 2.9977 Accuracy 0.4694 with time taken 4.20 secs\n",
            "Epoch 4 Batch 2250 Loss 2.9961 Accuracy 0.4696 with time taken 4.23 secs\n",
            "Epoch 4 Batch 2300 Loss 2.9947 Accuracy 0.4698 with time taken 4.18 secs\n",
            "Epoch 4 Batch 2350 Loss 2.9924 Accuracy 0.4700 with time taken 4.21 secs\n",
            "Epoch 4 Batch 2400 Loss 2.9913 Accuracy 0.4701 with time taken 4.18 secs\n",
            "Epoch 4 Batch 2450 Loss 2.9899 Accuracy 0.4703 with time taken 4.12 secs\n",
            "Epoch 4 Batch 2500 Loss 2.9882 Accuracy 0.4705 with time taken 4.08 secs\n",
            "Epoch 4 Batch 2550 Loss 2.9870 Accuracy 0.4707 with time taken 4.07 secs\n",
            "Epoch 4 Batch 2600 Loss 2.9853 Accuracy 0.4710 with time taken 4.25 secs\n",
            "Epoch 4 Batch 2650 Loss 2.9838 Accuracy 0.4712 with time taken 4.33 secs\n",
            "Epoch 4 Batch 2700 Loss 2.9821 Accuracy 0.4713 with time taken 4.10 secs\n",
            "Epoch 4 Batch 2750 Loss 2.9803 Accuracy 0.4715 with time taken 4.45 secs\n",
            "Epoch 4 Batch 2800 Loss 2.9786 Accuracy 0.4717 with time taken 4.32 secs\n",
            "Epoch 4 Batch 2850 Loss 2.9771 Accuracy 0.4719 with time taken 4.19 secs\n",
            "Epoch 4 Batch 2900 Loss 2.9761 Accuracy 0.4720 with time taken 4.26 secs\n",
            "Epoch 4 Batch 2950 Loss 2.9752 Accuracy 0.4721 with time taken 4.43 secs\n",
            "Epoch 4 Batch 3000 Loss 2.9740 Accuracy 0.4723 with time taken 4.34 secs\n",
            "Epoch 4 Batch 3050 Loss 2.9725 Accuracy 0.4724 with time taken 4.19 secs\n",
            "Epoch 4 Batch 3100 Loss 2.9709 Accuracy 0.4727 with time taken 4.21 secs\n",
            "Epoch 4 Batch 3150 Loss 2.9697 Accuracy 0.4728 with time taken 4.27 secs\n",
            "Epoch 4 Batch 3200 Loss 2.9683 Accuracy 0.4730 with time taken 4.22 secs\n",
            "Epoch 4 Batch 3250 Loss 2.9672 Accuracy 0.4731 with time taken 4.23 secs\n",
            "Saving checkpoint for epoch 4 at drive/MyDrive/models/transformer_ru_en_v2/ckpt-4\n",
            "Epoch 4 Loss 2.9672 Accuracy 0.4731\n",
            "Time taken for 1 epoch: 273.15 secs\n",
            "\n",
            "Epoch 5 Batch 0 Loss 2.8706 Accuracy 0.4813 with time taken 0.56 secs\n",
            "Epoch 5 Batch 50 Loss 2.8457 Accuracy 0.4868 with time taken 4.18 secs\n",
            "Epoch 5 Batch 100 Loss 2.8637 Accuracy 0.4851 with time taken 4.22 secs\n",
            "Epoch 5 Batch 150 Loss 2.8499 Accuracy 0.4871 with time taken 4.14 secs\n",
            "Epoch 5 Batch 200 Loss 2.8473 Accuracy 0.4878 with time taken 4.17 secs\n",
            "Epoch 5 Batch 250 Loss 2.8431 Accuracy 0.4886 with time taken 4.14 secs\n",
            "Epoch 5 Batch 300 Loss 2.8482 Accuracy 0.4877 with time taken 4.26 secs\n",
            "Epoch 5 Batch 350 Loss 2.8505 Accuracy 0.4871 with time taken 4.29 secs\n",
            "Epoch 5 Batch 400 Loss 2.8536 Accuracy 0.4868 with time taken 4.24 secs\n",
            "Epoch 5 Batch 450 Loss 2.8556 Accuracy 0.4864 with time taken 4.25 secs\n",
            "Epoch 5 Batch 500 Loss 2.8567 Accuracy 0.4864 with time taken 4.15 secs\n",
            "Epoch 5 Batch 550 Loss 2.8555 Accuracy 0.4865 with time taken 4.16 secs\n",
            "Epoch 5 Batch 600 Loss 2.8547 Accuracy 0.4868 with time taken 4.16 secs\n",
            "Epoch 5 Batch 650 Loss 2.8527 Accuracy 0.4871 with time taken 4.27 secs\n",
            "Epoch 5 Batch 700 Loss 2.8506 Accuracy 0.4873 with time taken 4.13 secs\n",
            "Epoch 5 Batch 750 Loss 2.8510 Accuracy 0.4872 with time taken 4.19 secs\n",
            "Epoch 5 Batch 800 Loss 2.8474 Accuracy 0.4875 with time taken 4.16 secs\n",
            "Epoch 5 Batch 850 Loss 2.8455 Accuracy 0.4877 with time taken 4.12 secs\n",
            "Epoch 5 Batch 900 Loss 2.8447 Accuracy 0.4878 with time taken 4.07 secs\n",
            "Epoch 5 Batch 950 Loss 2.8436 Accuracy 0.4881 with time taken 4.24 secs\n",
            "Epoch 5 Batch 1000 Loss 2.8428 Accuracy 0.4881 with time taken 4.11 secs\n",
            "Epoch 5 Batch 1050 Loss 2.8421 Accuracy 0.4882 with time taken 4.20 secs\n",
            "Epoch 5 Batch 1100 Loss 2.8403 Accuracy 0.4886 with time taken 4.15 secs\n",
            "Epoch 5 Batch 1150 Loss 2.8390 Accuracy 0.4888 with time taken 4.15 secs\n",
            "Epoch 5 Batch 1200 Loss 2.8385 Accuracy 0.4889 with time taken 4.15 secs\n",
            "Epoch 5 Batch 1250 Loss 2.8393 Accuracy 0.4888 with time taken 4.32 secs\n",
            "Epoch 5 Batch 1300 Loss 2.8375 Accuracy 0.4892 with time taken 4.12 secs\n",
            "Epoch 5 Batch 1350 Loss 2.8364 Accuracy 0.4894 with time taken 4.17 secs\n",
            "Epoch 5 Batch 1400 Loss 2.8364 Accuracy 0.4894 with time taken 4.12 secs\n",
            "Epoch 5 Batch 1450 Loss 2.8343 Accuracy 0.4897 with time taken 4.13 secs\n",
            "Epoch 5 Batch 1500 Loss 2.8343 Accuracy 0.4897 with time taken 4.21 secs\n",
            "Epoch 5 Batch 1550 Loss 2.8332 Accuracy 0.4897 with time taken 4.15 secs\n",
            "Epoch 5 Batch 1600 Loss 2.8320 Accuracy 0.4898 with time taken 4.17 secs\n",
            "Epoch 5 Batch 1650 Loss 2.8320 Accuracy 0.4899 with time taken 4.24 secs\n",
            "Epoch 5 Batch 1700 Loss 2.8312 Accuracy 0.4901 with time taken 4.19 secs\n",
            "Epoch 5 Batch 1750 Loss 2.8303 Accuracy 0.4902 with time taken 4.19 secs\n",
            "Epoch 5 Batch 1800 Loss 2.8294 Accuracy 0.4903 with time taken 4.15 secs\n",
            "Epoch 5 Batch 1850 Loss 2.8278 Accuracy 0.4905 with time taken 4.22 secs\n",
            "Epoch 5 Batch 1900 Loss 2.8272 Accuracy 0.4906 with time taken 4.09 secs\n",
            "Epoch 5 Batch 1950 Loss 2.8266 Accuracy 0.4907 with time taken 4.33 secs\n",
            "Epoch 5 Batch 2000 Loss 2.8256 Accuracy 0.4908 with time taken 4.23 secs\n",
            "Epoch 5 Batch 2050 Loss 2.8248 Accuracy 0.4909 with time taken 4.17 secs\n",
            "Epoch 5 Batch 2100 Loss 2.8239 Accuracy 0.4910 with time taken 4.26 secs\n",
            "Epoch 5 Batch 2150 Loss 2.8226 Accuracy 0.4912 with time taken 4.25 secs\n",
            "Epoch 5 Batch 2200 Loss 2.8216 Accuracy 0.4914 with time taken 4.13 secs\n",
            "Epoch 5 Batch 2250 Loss 2.8208 Accuracy 0.4915 with time taken 4.17 secs\n",
            "Epoch 5 Batch 2300 Loss 2.8198 Accuracy 0.4916 with time taken 4.23 secs\n",
            "Epoch 5 Batch 2350 Loss 2.8186 Accuracy 0.4917 with time taken 4.23 secs\n",
            "Epoch 5 Batch 2400 Loss 2.8176 Accuracy 0.4919 with time taken 4.17 secs\n",
            "Epoch 5 Batch 2450 Loss 2.8161 Accuracy 0.4921 with time taken 4.15 secs\n",
            "Epoch 5 Batch 2500 Loss 2.8150 Accuracy 0.4923 with time taken 4.19 secs\n",
            "Epoch 5 Batch 2550 Loss 2.8146 Accuracy 0.4922 with time taken 4.20 secs\n",
            "Epoch 5 Batch 2600 Loss 2.8137 Accuracy 0.4924 with time taken 4.14 secs\n",
            "Epoch 5 Batch 2650 Loss 2.8126 Accuracy 0.4925 with time taken 4.18 secs\n",
            "Epoch 5 Batch 2700 Loss 2.8116 Accuracy 0.4927 with time taken 4.20 secs\n",
            "Epoch 5 Batch 2750 Loss 2.8107 Accuracy 0.4928 with time taken 4.35 secs\n",
            "Epoch 5 Batch 2800 Loss 2.8100 Accuracy 0.4928 with time taken 4.34 secs\n",
            "Epoch 5 Batch 2850 Loss 2.8088 Accuracy 0.4930 with time taken 4.22 secs\n",
            "Epoch 5 Batch 2900 Loss 2.8083 Accuracy 0.4931 with time taken 4.19 secs\n",
            "Epoch 5 Batch 2950 Loss 2.8078 Accuracy 0.4931 with time taken 4.23 secs\n",
            "Epoch 5 Batch 3000 Loss 2.8069 Accuracy 0.4933 with time taken 4.29 secs\n",
            "Epoch 5 Batch 3050 Loss 2.8063 Accuracy 0.4934 with time taken 4.12 secs\n",
            "Epoch 5 Batch 3100 Loss 2.8054 Accuracy 0.4935 with time taken 4.11 secs\n",
            "Epoch 5 Batch 3150 Loss 2.8045 Accuracy 0.4936 with time taken 4.14 secs\n",
            "Epoch 5 Batch 3200 Loss 2.8034 Accuracy 0.4938 with time taken 4.09 secs\n",
            "Epoch 5 Batch 3250 Loss 2.8026 Accuracy 0.4939 with time taken 4.08 secs\n",
            "Saving checkpoint for epoch 5 at drive/MyDrive/models/transformer_ru_en_v2/ckpt-5\n",
            "Epoch 5 Loss 2.8026 Accuracy 0.4939\n",
            "Time taken for 1 epoch: 273.27 secs\n",
            "\n",
            "Epoch 6 Batch 0 Loss 2.8445 Accuracy 0.4825 with time taken 0.60 secs\n",
            "Epoch 6 Batch 50 Loss 2.7341 Accuracy 0.5033 with time taken 4.21 secs\n",
            "Epoch 6 Batch 100 Loss 2.7471 Accuracy 0.5009 with time taken 4.27 secs\n",
            "Epoch 6 Batch 150 Loss 2.7368 Accuracy 0.5020 with time taken 4.20 secs\n",
            "Epoch 6 Batch 200 Loss 2.7314 Accuracy 0.5026 with time taken 4.16 secs\n",
            "Epoch 6 Batch 250 Loss 2.7285 Accuracy 0.5032 with time taken 4.20 secs\n",
            "Epoch 6 Batch 300 Loss 2.7318 Accuracy 0.5026 with time taken 4.15 secs\n",
            "Epoch 6 Batch 350 Loss 2.7306 Accuracy 0.5028 with time taken 4.09 secs\n",
            "Epoch 6 Batch 400 Loss 2.7282 Accuracy 0.5031 with time taken 4.21 secs\n",
            "Epoch 6 Batch 450 Loss 2.7279 Accuracy 0.5031 with time taken 4.11 secs\n",
            "Epoch 6 Batch 500 Loss 2.7280 Accuracy 0.5031 with time taken 4.15 secs\n",
            "Epoch 6 Batch 550 Loss 2.7273 Accuracy 0.5034 with time taken 4.22 secs\n",
            "Epoch 6 Batch 600 Loss 2.7285 Accuracy 0.5031 with time taken 4.18 secs\n",
            "Epoch 6 Batch 650 Loss 2.7227 Accuracy 0.5039 with time taken 4.10 secs\n",
            "Epoch 6 Batch 700 Loss 2.7249 Accuracy 0.5036 with time taken 4.11 secs\n",
            "Epoch 6 Batch 750 Loss 2.7211 Accuracy 0.5040 with time taken 4.17 secs\n",
            "Epoch 6 Batch 800 Loss 2.7203 Accuracy 0.5043 with time taken 4.07 secs\n",
            "Epoch 6 Batch 850 Loss 2.7170 Accuracy 0.5048 with time taken 4.13 secs\n",
            "Epoch 6 Batch 900 Loss 2.7176 Accuracy 0.5048 with time taken 4.25 secs\n",
            "Epoch 6 Batch 950 Loss 2.7176 Accuracy 0.5048 with time taken 4.07 secs\n",
            "Epoch 6 Batch 1000 Loss 2.7176 Accuracy 0.5048 with time taken 4.16 secs\n",
            "Epoch 6 Batch 1050 Loss 2.7180 Accuracy 0.5049 with time taken 4.30 secs\n",
            "Epoch 6 Batch 1100 Loss 2.7175 Accuracy 0.5050 with time taken 4.11 secs\n",
            "Epoch 6 Batch 1150 Loss 2.7165 Accuracy 0.5051 with time taken 4.24 secs\n",
            "Epoch 6 Batch 1200 Loss 2.7167 Accuracy 0.5050 with time taken 4.20 secs\n",
            "Epoch 6 Batch 1250 Loss 2.7163 Accuracy 0.5051 with time taken 4.22 secs\n",
            "Epoch 6 Batch 1300 Loss 2.7154 Accuracy 0.5052 with time taken 4.19 secs\n",
            "Epoch 6 Batch 1350 Loss 2.7143 Accuracy 0.5053 with time taken 4.14 secs\n",
            "Epoch 6 Batch 1400 Loss 2.7129 Accuracy 0.5055 with time taken 4.12 secs\n",
            "Epoch 6 Batch 1450 Loss 2.7123 Accuracy 0.5056 with time taken 4.10 secs\n",
            "Epoch 6 Batch 1500 Loss 2.7127 Accuracy 0.5055 with time taken 4.17 secs\n",
            "Epoch 6 Batch 1550 Loss 2.7118 Accuracy 0.5056 with time taken 4.19 secs\n",
            "Epoch 6 Batch 1600 Loss 2.7124 Accuracy 0.5055 with time taken 4.12 secs\n",
            "Epoch 6 Batch 1650 Loss 2.7120 Accuracy 0.5055 with time taken 4.29 secs\n",
            "Epoch 6 Batch 1700 Loss 2.7120 Accuracy 0.5055 with time taken 4.17 secs\n",
            "Epoch 6 Batch 1750 Loss 2.7116 Accuracy 0.5056 with time taken 4.12 secs\n",
            "Epoch 6 Batch 1800 Loss 2.7107 Accuracy 0.5057 with time taken 4.15 secs\n",
            "Epoch 6 Batch 1850 Loss 2.7098 Accuracy 0.5059 with time taken 4.18 secs\n",
            "Epoch 6 Batch 1900 Loss 2.7081 Accuracy 0.5061 with time taken 4.06 secs\n",
            "Epoch 6 Batch 1950 Loss 2.7077 Accuracy 0.5062 with time taken 4.11 secs\n",
            "Epoch 6 Batch 2000 Loss 2.7059 Accuracy 0.5064 with time taken 4.20 secs\n",
            "Epoch 6 Batch 2050 Loss 2.7055 Accuracy 0.5065 with time taken 4.19 secs\n",
            "Epoch 6 Batch 2100 Loss 2.7049 Accuracy 0.5066 with time taken 4.09 secs\n",
            "Epoch 6 Batch 2150 Loss 2.7041 Accuracy 0.5067 with time taken 4.26 secs\n",
            "Epoch 6 Batch 2200 Loss 2.7039 Accuracy 0.5068 with time taken 4.21 secs\n",
            "Epoch 6 Batch 2250 Loss 2.7033 Accuracy 0.5068 with time taken 4.19 secs\n",
            "Epoch 6 Batch 2300 Loss 2.7028 Accuracy 0.5069 with time taken 4.20 secs\n",
            "Epoch 6 Batch 2350 Loss 2.7027 Accuracy 0.5069 with time taken 4.17 secs\n",
            "Epoch 6 Batch 2400 Loss 2.7020 Accuracy 0.5070 with time taken 4.22 secs\n",
            "Epoch 6 Batch 2450 Loss 2.7017 Accuracy 0.5069 with time taken 4.13 secs\n",
            "Epoch 6 Batch 2500 Loss 2.7008 Accuracy 0.5071 with time taken 4.19 secs\n",
            "Epoch 6 Batch 2550 Loss 2.7003 Accuracy 0.5071 with time taken 4.02 secs\n",
            "Epoch 6 Batch 2600 Loss 2.6994 Accuracy 0.5073 with time taken 4.01 secs\n",
            "Epoch 6 Batch 2650 Loss 2.6990 Accuracy 0.5073 with time taken 4.17 secs\n",
            "Epoch 6 Batch 2700 Loss 2.6983 Accuracy 0.5075 with time taken 4.21 secs\n",
            "Epoch 6 Batch 2750 Loss 2.6976 Accuracy 0.5076 with time taken 4.20 secs\n",
            "Epoch 6 Batch 2800 Loss 2.6967 Accuracy 0.5077 with time taken 4.23 secs\n",
            "Epoch 6 Batch 2850 Loss 2.6961 Accuracy 0.5078 with time taken 4.29 secs\n",
            "Epoch 6 Batch 2900 Loss 2.6960 Accuracy 0.5078 with time taken 4.22 secs\n",
            "Epoch 6 Batch 2950 Loss 2.6953 Accuracy 0.5079 with time taken 4.22 secs\n",
            "Epoch 6 Batch 3000 Loss 2.6951 Accuracy 0.5079 with time taken 4.21 secs\n",
            "Epoch 6 Batch 3050 Loss 2.6944 Accuracy 0.5080 with time taken 4.13 secs\n",
            "Epoch 6 Batch 3100 Loss 2.6939 Accuracy 0.5081 with time taken 4.15 secs\n",
            "Epoch 6 Batch 3150 Loss 2.6931 Accuracy 0.5082 with time taken 4.15 secs\n",
            "Epoch 6 Batch 3200 Loss 2.6924 Accuracy 0.5083 with time taken 4.12 secs\n",
            "Epoch 6 Batch 3250 Loss 2.6922 Accuracy 0.5083 with time taken 4.17 secs\n",
            "Saving checkpoint for epoch 6 at drive/MyDrive/models/transformer_ru_en_v2/ckpt-6\n",
            "Epoch 6 Loss 2.6922 Accuracy 0.5083\n",
            "Time taken for 1 epoch: 272.11 secs\n",
            "\n",
            "Epoch 7 Batch 0 Loss 2.4236 Accuracy 0.5378 with time taken 0.55 secs\n",
            "Epoch 7 Batch 50 Loss 2.6501 Accuracy 0.5108 with time taken 4.24 secs\n",
            "Epoch 7 Batch 100 Loss 2.6325 Accuracy 0.5138 with time taken 4.21 secs\n",
            "Epoch 7 Batch 150 Loss 2.6312 Accuracy 0.5145 with time taken 4.21 secs\n",
            "Epoch 7 Batch 200 Loss 2.6336 Accuracy 0.5141 with time taken 4.22 secs\n",
            "Epoch 7 Batch 250 Loss 2.6330 Accuracy 0.5143 with time taken 4.19 secs\n",
            "Epoch 7 Batch 300 Loss 2.6317 Accuracy 0.5144 with time taken 4.27 secs\n",
            "Epoch 7 Batch 350 Loss 2.6329 Accuracy 0.5144 with time taken 4.14 secs\n",
            "Epoch 7 Batch 400 Loss 2.6353 Accuracy 0.5142 with time taken 4.22 secs\n",
            "Epoch 7 Batch 450 Loss 2.6360 Accuracy 0.5141 with time taken 4.27 secs\n",
            "Epoch 7 Batch 500 Loss 2.6321 Accuracy 0.5148 with time taken 4.17 secs\n",
            "Epoch 7 Batch 550 Loss 2.6310 Accuracy 0.5152 with time taken 4.18 secs\n",
            "Epoch 7 Batch 600 Loss 2.6312 Accuracy 0.5153 with time taken 4.15 secs\n",
            "Epoch 7 Batch 650 Loss 2.6321 Accuracy 0.5151 with time taken 4.14 secs\n",
            "Epoch 7 Batch 700 Loss 2.6318 Accuracy 0.5151 with time taken 4.15 secs\n",
            "Epoch 7 Batch 750 Loss 2.6309 Accuracy 0.5153 with time taken 4.15 secs\n",
            "Epoch 7 Batch 800 Loss 2.6303 Accuracy 0.5153 with time taken 4.26 secs\n",
            "Epoch 7 Batch 850 Loss 2.6277 Accuracy 0.5157 with time taken 4.17 secs\n",
            "Epoch 7 Batch 900 Loss 2.6265 Accuracy 0.5159 with time taken 4.12 secs\n",
            "Epoch 7 Batch 950 Loss 2.6280 Accuracy 0.5157 with time taken 4.02 secs\n",
            "Epoch 7 Batch 1000 Loss 2.6272 Accuracy 0.5159 with time taken 4.10 secs\n",
            "Epoch 7 Batch 1050 Loss 2.6268 Accuracy 0.5160 with time taken 4.15 secs\n",
            "Epoch 7 Batch 1100 Loss 2.6266 Accuracy 0.5161 with time taken 4.18 secs\n",
            "Epoch 7 Batch 1150 Loss 2.6268 Accuracy 0.5161 with time taken 4.23 secs\n",
            "Epoch 7 Batch 1200 Loss 2.6270 Accuracy 0.5161 with time taken 4.16 secs\n",
            "Epoch 7 Batch 1250 Loss 2.6258 Accuracy 0.5162 with time taken 4.26 secs\n",
            "Epoch 7 Batch 1300 Loss 2.6262 Accuracy 0.5162 with time taken 4.11 secs\n",
            "Epoch 7 Batch 1350 Loss 2.6252 Accuracy 0.5163 with time taken 4.06 secs\n",
            "Epoch 7 Batch 1400 Loss 2.6242 Accuracy 0.5164 with time taken 4.21 secs\n",
            "Epoch 7 Batch 1450 Loss 2.6247 Accuracy 0.5164 with time taken 4.10 secs\n",
            "Epoch 7 Batch 1500 Loss 2.6240 Accuracy 0.5164 with time taken 4.26 secs\n",
            "Epoch 7 Batch 1550 Loss 2.6236 Accuracy 0.5166 with time taken 4.15 secs\n",
            "Epoch 7 Batch 1600 Loss 2.6237 Accuracy 0.5166 with time taken 4.21 secs\n",
            "Epoch 7 Batch 1650 Loss 2.6227 Accuracy 0.5167 with time taken 4.19 secs\n",
            "Epoch 7 Batch 1700 Loss 2.6217 Accuracy 0.5168 with time taken 4.10 secs\n",
            "Epoch 7 Batch 1750 Loss 2.6217 Accuracy 0.5168 with time taken 4.11 secs\n",
            "Epoch 7 Batch 1800 Loss 2.6209 Accuracy 0.5169 with time taken 4.22 secs\n",
            "Epoch 7 Batch 1850 Loss 2.6200 Accuracy 0.5171 with time taken 4.11 secs\n",
            "Epoch 7 Batch 1900 Loss 2.6195 Accuracy 0.5172 with time taken 4.14 secs\n",
            "Epoch 7 Batch 1950 Loss 2.6186 Accuracy 0.5174 with time taken 4.23 secs\n",
            "Epoch 7 Batch 2000 Loss 2.6177 Accuracy 0.5175 with time taken 4.01 secs\n",
            "Epoch 7 Batch 2050 Loss 2.6178 Accuracy 0.5175 with time taken 4.13 secs\n",
            "Epoch 7 Batch 2100 Loss 2.6171 Accuracy 0.5176 with time taken 4.20 secs\n",
            "Epoch 7 Batch 2150 Loss 2.6173 Accuracy 0.5175 with time taken 4.16 secs\n",
            "Epoch 7 Batch 2200 Loss 2.6172 Accuracy 0.5176 with time taken 4.13 secs\n",
            "Epoch 7 Batch 2250 Loss 2.6172 Accuracy 0.5176 with time taken 4.17 secs\n",
            "Epoch 7 Batch 2300 Loss 2.6169 Accuracy 0.5176 with time taken 4.09 secs\n",
            "Epoch 7 Batch 2350 Loss 2.6165 Accuracy 0.5177 with time taken 4.17 secs\n",
            "Epoch 7 Batch 2400 Loss 2.6160 Accuracy 0.5177 with time taken 4.06 secs\n",
            "Epoch 7 Batch 2450 Loss 2.6147 Accuracy 0.5178 with time taken 4.14 secs\n",
            "Epoch 7 Batch 2500 Loss 2.6145 Accuracy 0.5179 with time taken 4.07 secs\n",
            "Epoch 7 Batch 2550 Loss 2.6142 Accuracy 0.5179 with time taken 4.20 secs\n",
            "Epoch 7 Batch 2600 Loss 2.6137 Accuracy 0.5180 with time taken 4.03 secs\n",
            "Epoch 7 Batch 2650 Loss 2.6123 Accuracy 0.5182 with time taken 4.11 secs\n",
            "Epoch 7 Batch 2700 Loss 2.6118 Accuracy 0.5183 with time taken 4.12 secs\n",
            "Epoch 7 Batch 2750 Loss 2.6108 Accuracy 0.5184 with time taken 4.07 secs\n",
            "Epoch 7 Batch 2800 Loss 2.6106 Accuracy 0.5185 with time taken 4.15 secs\n",
            "Epoch 7 Batch 2850 Loss 2.6101 Accuracy 0.5185 with time taken 4.14 secs\n",
            "Epoch 7 Batch 2900 Loss 2.6097 Accuracy 0.5186 with time taken 4.21 secs\n",
            "Epoch 7 Batch 2950 Loss 2.6092 Accuracy 0.5186 with time taken 4.16 secs\n",
            "Epoch 7 Batch 3000 Loss 2.6089 Accuracy 0.5187 with time taken 4.22 secs\n",
            "Epoch 7 Batch 3050 Loss 2.6084 Accuracy 0.5188 with time taken 4.20 secs\n",
            "Epoch 7 Batch 3100 Loss 2.6082 Accuracy 0.5188 with time taken 4.19 secs\n",
            "Epoch 7 Batch 3150 Loss 2.6083 Accuracy 0.5188 with time taken 4.09 secs\n",
            "Epoch 7 Batch 3200 Loss 2.6078 Accuracy 0.5189 with time taken 4.05 secs\n",
            "Epoch 7 Batch 3250 Loss 2.6075 Accuracy 0.5190 with time taken 4.24 secs\n",
            "Saving checkpoint for epoch 7 at drive/MyDrive/models/transformer_ru_en_v2/ckpt-7\n",
            "Epoch 7 Loss 2.6075 Accuracy 0.5190\n",
            "Time taken for 1 epoch: 271.33 secs\n",
            "\n",
            "Epoch 8 Batch 0 Loss 2.6464 Accuracy 0.5096 with time taken 0.57 secs\n",
            "Epoch 8 Batch 50 Loss 2.5831 Accuracy 0.5219 with time taken 4.12 secs\n",
            "Epoch 8 Batch 100 Loss 2.5811 Accuracy 0.5222 with time taken 4.18 secs\n",
            "Epoch 8 Batch 150 Loss 2.5826 Accuracy 0.5216 with time taken 4.23 secs\n",
            "Epoch 8 Batch 200 Loss 2.5705 Accuracy 0.5229 with time taken 4.15 secs\n",
            "Epoch 8 Batch 250 Loss 2.5636 Accuracy 0.5233 with time taken 4.18 secs\n",
            "Epoch 8 Batch 300 Loss 2.5659 Accuracy 0.5227 with time taken 4.13 secs\n",
            "Epoch 8 Batch 350 Loss 2.5685 Accuracy 0.5227 with time taken 4.11 secs\n",
            "Epoch 8 Batch 400 Loss 2.5661 Accuracy 0.5229 with time taken 4.27 secs\n",
            "Epoch 8 Batch 450 Loss 2.5670 Accuracy 0.5228 with time taken 4.26 secs\n",
            "Epoch 8 Batch 500 Loss 2.5653 Accuracy 0.5230 with time taken 4.20 secs\n",
            "Epoch 8 Batch 550 Loss 2.5635 Accuracy 0.5233 with time taken 4.12 secs\n",
            "Epoch 8 Batch 600 Loss 2.5628 Accuracy 0.5235 with time taken 4.07 secs\n",
            "Epoch 8 Batch 650 Loss 2.5617 Accuracy 0.5237 with time taken 4.09 secs\n",
            "Epoch 8 Batch 700 Loss 2.5597 Accuracy 0.5240 with time taken 4.11 secs\n",
            "Epoch 8 Batch 750 Loss 2.5588 Accuracy 0.5243 with time taken 4.11 secs\n",
            "Epoch 8 Batch 800 Loss 2.5573 Accuracy 0.5246 with time taken 4.11 secs\n",
            "Epoch 8 Batch 850 Loss 2.5589 Accuracy 0.5243 with time taken 4.20 secs\n",
            "Epoch 8 Batch 900 Loss 2.5580 Accuracy 0.5246 with time taken 4.07 secs\n",
            "Epoch 8 Batch 950 Loss 2.5576 Accuracy 0.5248 with time taken 4.07 secs\n",
            "Epoch 8 Batch 1000 Loss 2.5574 Accuracy 0.5248 with time taken 4.18 secs\n",
            "Epoch 8 Batch 1050 Loss 2.5562 Accuracy 0.5250 with time taken 4.13 secs\n",
            "Epoch 8 Batch 1100 Loss 2.5559 Accuracy 0.5251 with time taken 4.09 secs\n",
            "Epoch 8 Batch 1150 Loss 2.5555 Accuracy 0.5252 with time taken 4.26 secs\n",
            "Epoch 8 Batch 1200 Loss 2.5560 Accuracy 0.5251 with time taken 4.07 secs\n",
            "Epoch 8 Batch 1250 Loss 2.5552 Accuracy 0.5253 with time taken 4.05 secs\n",
            "Epoch 8 Batch 1300 Loss 2.5560 Accuracy 0.5252 with time taken 4.14 secs\n",
            "Epoch 8 Batch 1350 Loss 2.5548 Accuracy 0.5254 with time taken 4.15 secs\n",
            "Epoch 8 Batch 1400 Loss 2.5533 Accuracy 0.5256 with time taken 4.19 secs\n",
            "Epoch 8 Batch 1450 Loss 2.5543 Accuracy 0.5255 with time taken 4.19 secs\n",
            "Epoch 8 Batch 1500 Loss 2.5537 Accuracy 0.5256 with time taken 4.11 secs\n",
            "Epoch 8 Batch 1550 Loss 2.5539 Accuracy 0.5257 with time taken 4.12 secs\n",
            "Epoch 8 Batch 1600 Loss 2.5527 Accuracy 0.5259 with time taken 4.09 secs\n",
            "Epoch 8 Batch 1650 Loss 2.5531 Accuracy 0.5258 with time taken 3.99 secs\n",
            "Epoch 8 Batch 1700 Loss 2.5533 Accuracy 0.5257 with time taken 4.21 secs\n",
            "Epoch 8 Batch 1750 Loss 2.5522 Accuracy 0.5259 with time taken 4.29 secs\n",
            "Epoch 8 Batch 1800 Loss 2.5521 Accuracy 0.5259 with time taken 4.10 secs\n",
            "Epoch 8 Batch 1850 Loss 2.5521 Accuracy 0.5259 with time taken 4.27 secs\n",
            "Epoch 8 Batch 1900 Loss 2.5514 Accuracy 0.5260 with time taken 4.04 secs\n",
            "Epoch 8 Batch 1950 Loss 2.5510 Accuracy 0.5260 with time taken 4.20 secs\n",
            "Epoch 8 Batch 2000 Loss 2.5502 Accuracy 0.5261 with time taken 4.17 secs\n",
            "Epoch 8 Batch 2050 Loss 2.5500 Accuracy 0.5262 with time taken 4.14 secs\n",
            "Epoch 8 Batch 2100 Loss 2.5499 Accuracy 0.5262 with time taken 4.14 secs\n",
            "Epoch 8 Batch 2150 Loss 2.5496 Accuracy 0.5262 with time taken 4.16 secs\n",
            "Epoch 8 Batch 2200 Loss 2.5495 Accuracy 0.5263 with time taken 4.31 secs\n",
            "Epoch 8 Batch 2250 Loss 2.5489 Accuracy 0.5263 with time taken 4.07 secs\n",
            "Epoch 8 Batch 2300 Loss 2.5484 Accuracy 0.5264 with time taken 4.19 secs\n",
            "Epoch 8 Batch 2350 Loss 2.5480 Accuracy 0.5265 with time taken 4.19 secs\n",
            "Epoch 8 Batch 2400 Loss 2.5473 Accuracy 0.5266 with time taken 4.14 secs\n",
            "Epoch 8 Batch 2450 Loss 2.5467 Accuracy 0.5266 with time taken 4.09 secs\n",
            "Epoch 8 Batch 2500 Loss 2.5466 Accuracy 0.5266 with time taken 4.25 secs\n",
            "Epoch 8 Batch 2550 Loss 2.5459 Accuracy 0.5267 with time taken 4.36 secs\n",
            "Epoch 8 Batch 2600 Loss 2.5458 Accuracy 0.5268 with time taken 4.19 secs\n",
            "Epoch 8 Batch 2650 Loss 2.5451 Accuracy 0.5269 with time taken 4.18 secs\n",
            "Epoch 8 Batch 2700 Loss 2.5451 Accuracy 0.5269 with time taken 4.29 secs\n",
            "Epoch 8 Batch 2750 Loss 2.5445 Accuracy 0.5269 with time taken 4.09 secs\n",
            "Epoch 8 Batch 2800 Loss 2.5441 Accuracy 0.5270 with time taken 4.21 secs\n",
            "Epoch 8 Batch 2850 Loss 2.5440 Accuracy 0.5270 with time taken 4.27 secs\n",
            "Epoch 8 Batch 2900 Loss 2.5432 Accuracy 0.5271 with time taken 4.30 secs\n",
            "Epoch 8 Batch 2950 Loss 2.5438 Accuracy 0.5270 with time taken 4.29 secs\n",
            "Epoch 8 Batch 3000 Loss 2.5433 Accuracy 0.5271 with time taken 4.23 secs\n",
            "Epoch 8 Batch 3050 Loss 2.5425 Accuracy 0.5272 with time taken 4.21 secs\n",
            "Epoch 8 Batch 3100 Loss 2.5419 Accuracy 0.5273 with time taken 4.11 secs\n",
            "Epoch 8 Batch 3150 Loss 2.5418 Accuracy 0.5274 with time taken 4.16 secs\n",
            "Epoch 8 Batch 3200 Loss 2.5417 Accuracy 0.5274 with time taken 4.23 secs\n",
            "Epoch 8 Batch 3250 Loss 2.5411 Accuracy 0.5275 with time taken 4.16 secs\n",
            "Saving checkpoint for epoch 8 at drive/MyDrive/models/transformer_ru_en_v2/ckpt-8\n",
            "Epoch 8 Loss 2.5411 Accuracy 0.5275\n",
            "Time taken for 1 epoch: 271.87 secs\n",
            "\n",
            "Epoch 9 Batch 0 Loss 2.5124 Accuracy 0.5188 with time taken 0.56 secs\n",
            "Epoch 9 Batch 50 Loss 2.5097 Accuracy 0.5296 with time taken 4.19 secs\n",
            "Epoch 9 Batch 100 Loss 2.5187 Accuracy 0.5283 with time taken 4.14 secs\n",
            "Epoch 9 Batch 150 Loss 2.5115 Accuracy 0.5300 with time taken 4.28 secs\n",
            "Epoch 9 Batch 200 Loss 2.5070 Accuracy 0.5307 with time taken 4.13 secs\n",
            "Epoch 9 Batch 250 Loss 2.5121 Accuracy 0.5298 with time taken 4.17 secs\n",
            "Epoch 9 Batch 300 Loss 2.5103 Accuracy 0.5300 with time taken 4.18 secs\n",
            "Epoch 9 Batch 350 Loss 2.5036 Accuracy 0.5310 with time taken 4.05 secs\n",
            "Epoch 9 Batch 400 Loss 2.5057 Accuracy 0.5309 with time taken 4.27 secs\n",
            "Epoch 9 Batch 450 Loss 2.5055 Accuracy 0.5308 with time taken 4.07 secs\n",
            "Epoch 9 Batch 500 Loss 2.5033 Accuracy 0.5311 with time taken 4.28 secs\n",
            "Epoch 9 Batch 550 Loss 2.5059 Accuracy 0.5308 with time taken 4.04 secs\n",
            "Epoch 9 Batch 600 Loss 2.5067 Accuracy 0.5309 with time taken 4.10 secs\n",
            "Epoch 9 Batch 650 Loss 2.5087 Accuracy 0.5308 with time taken 4.25 secs\n",
            "Epoch 9 Batch 700 Loss 2.5082 Accuracy 0.5309 with time taken 4.20 secs\n",
            "Epoch 9 Batch 750 Loss 2.5064 Accuracy 0.5314 with time taken 4.17 secs\n",
            "Epoch 9 Batch 800 Loss 2.5048 Accuracy 0.5316 with time taken 4.19 secs\n",
            "Epoch 9 Batch 850 Loss 2.5040 Accuracy 0.5317 with time taken 4.19 secs\n",
            "Epoch 9 Batch 900 Loss 2.5027 Accuracy 0.5319 with time taken 4.22 secs\n",
            "Epoch 9 Batch 950 Loss 2.5016 Accuracy 0.5319 with time taken 4.31 secs\n",
            "Epoch 9 Batch 1000 Loss 2.5014 Accuracy 0.5319 with time taken 4.16 secs\n",
            "Epoch 9 Batch 1050 Loss 2.5001 Accuracy 0.5322 with time taken 4.16 secs\n",
            "Epoch 9 Batch 1100 Loss 2.4998 Accuracy 0.5323 with time taken 4.23 secs\n",
            "Epoch 9 Batch 1150 Loss 2.5004 Accuracy 0.5321 with time taken 4.13 secs\n",
            "Epoch 9 Batch 1200 Loss 2.5005 Accuracy 0.5320 with time taken 4.19 secs\n",
            "Epoch 9 Batch 1250 Loss 2.4996 Accuracy 0.5322 with time taken 4.16 secs\n",
            "Epoch 9 Batch 1300 Loss 2.4984 Accuracy 0.5324 with time taken 4.10 secs\n",
            "Epoch 9 Batch 1350 Loss 2.4983 Accuracy 0.5324 with time taken 4.17 secs\n",
            "Epoch 9 Batch 1400 Loss 2.4989 Accuracy 0.5323 with time taken 4.17 secs\n",
            "Epoch 9 Batch 1450 Loss 2.4976 Accuracy 0.5324 with time taken 4.12 secs\n",
            "Epoch 9 Batch 1500 Loss 2.4973 Accuracy 0.5325 with time taken 4.13 secs\n",
            "Epoch 9 Batch 1550 Loss 2.4969 Accuracy 0.5326 with time taken 4.20 secs\n",
            "Epoch 9 Batch 1600 Loss 2.4972 Accuracy 0.5325 with time taken 4.16 secs\n",
            "Epoch 9 Batch 1650 Loss 2.4966 Accuracy 0.5326 with time taken 4.24 secs\n",
            "Epoch 9 Batch 1700 Loss 2.4958 Accuracy 0.5326 with time taken 4.26 secs\n",
            "Epoch 9 Batch 1750 Loss 2.4954 Accuracy 0.5327 with time taken 4.14 secs\n",
            "Epoch 9 Batch 1800 Loss 2.4950 Accuracy 0.5328 with time taken 4.13 secs\n",
            "Epoch 9 Batch 1850 Loss 2.4946 Accuracy 0.5328 with time taken 4.20 secs\n",
            "Epoch 9 Batch 1900 Loss 2.4947 Accuracy 0.5328 with time taken 4.23 secs\n",
            "Epoch 9 Batch 1950 Loss 2.4945 Accuracy 0.5329 with time taken 4.10 secs\n",
            "Epoch 9 Batch 2000 Loss 2.4943 Accuracy 0.5329 with time taken 4.16 secs\n",
            "Epoch 9 Batch 2050 Loss 2.4947 Accuracy 0.5328 with time taken 4.19 secs\n",
            "Epoch 9 Batch 2100 Loss 2.4944 Accuracy 0.5328 with time taken 4.14 secs\n",
            "Epoch 9 Batch 2150 Loss 2.4939 Accuracy 0.5329 with time taken 4.14 secs\n",
            "Epoch 9 Batch 2200 Loss 2.4936 Accuracy 0.5329 with time taken 4.14 secs\n",
            "Epoch 9 Batch 2250 Loss 2.4935 Accuracy 0.5330 with time taken 4.16 secs\n",
            "Epoch 9 Batch 2300 Loss 2.4931 Accuracy 0.5330 with time taken 4.31 secs\n",
            "Epoch 9 Batch 2350 Loss 2.4927 Accuracy 0.5332 with time taken 4.21 secs\n",
            "Epoch 9 Batch 2400 Loss 2.4923 Accuracy 0.5332 with time taken 4.02 secs\n",
            "Epoch 9 Batch 2450 Loss 2.4918 Accuracy 0.5333 with time taken 4.08 secs\n",
            "Epoch 9 Batch 2500 Loss 2.4911 Accuracy 0.5334 with time taken 4.11 secs\n",
            "Epoch 9 Batch 2550 Loss 2.4900 Accuracy 0.5335 with time taken 4.09 secs\n",
            "Epoch 9 Batch 2600 Loss 2.4896 Accuracy 0.5335 with time taken 4.11 secs\n",
            "Epoch 9 Batch 2650 Loss 2.4892 Accuracy 0.5336 with time taken 4.03 secs\n",
            "Epoch 9 Batch 2700 Loss 2.4888 Accuracy 0.5336 with time taken 4.12 secs\n",
            "Epoch 9 Batch 2750 Loss 2.4889 Accuracy 0.5336 with time taken 4.09 secs\n",
            "Epoch 9 Batch 2800 Loss 2.4887 Accuracy 0.5336 with time taken 4.16 secs\n",
            "Epoch 9 Batch 2850 Loss 2.4882 Accuracy 0.5337 with time taken 4.31 secs\n",
            "Epoch 9 Batch 2900 Loss 2.4883 Accuracy 0.5337 with time taken 4.29 secs\n",
            "Epoch 9 Batch 2950 Loss 2.4880 Accuracy 0.5337 with time taken 4.14 secs\n",
            "Epoch 9 Batch 3000 Loss 2.4878 Accuracy 0.5338 with time taken 4.21 secs\n",
            "Epoch 9 Batch 3050 Loss 2.4872 Accuracy 0.5339 with time taken 4.03 secs\n",
            "Epoch 9 Batch 3100 Loss 2.4873 Accuracy 0.5339 with time taken 4.09 secs\n",
            "Epoch 9 Batch 3150 Loss 2.4870 Accuracy 0.5340 with time taken 4.15 secs\n",
            "Epoch 9 Batch 3200 Loss 2.4866 Accuracy 0.5341 with time taken 4.32 secs\n",
            "Epoch 9 Batch 3250 Loss 2.4865 Accuracy 0.5341 with time taken 4.18 secs\n",
            "Saving checkpoint for epoch 9 at drive/MyDrive/models/transformer_ru_en_v2/ckpt-9\n",
            "Epoch 9 Loss 2.4865 Accuracy 0.5341\n",
            "Time taken for 1 epoch: 271.87 secs\n",
            "\n",
            "Epoch 10 Batch 0 Loss 2.5051 Accuracy 0.5295 with time taken 0.55 secs\n",
            "Epoch 10 Batch 50 Loss 2.4296 Accuracy 0.5397 with time taken 4.21 secs\n",
            "Epoch 10 Batch 100 Loss 2.4521 Accuracy 0.5362 with time taken 4.15 secs\n",
            "Epoch 10 Batch 150 Loss 2.4678 Accuracy 0.5351 with time taken 4.24 secs\n",
            "Epoch 10 Batch 200 Loss 2.4652 Accuracy 0.5360 with time taken 4.06 secs\n",
            "Epoch 10 Batch 250 Loss 2.4635 Accuracy 0.5354 with time taken 4.37 secs\n",
            "Epoch 10 Batch 300 Loss 2.4621 Accuracy 0.5356 with time taken 4.17 secs\n",
            "Epoch 10 Batch 350 Loss 2.4598 Accuracy 0.5361 with time taken 4.17 secs\n",
            "Epoch 10 Batch 400 Loss 2.4570 Accuracy 0.5365 with time taken 4.13 secs\n",
            "Epoch 10 Batch 450 Loss 2.4564 Accuracy 0.5368 with time taken 4.31 secs\n",
            "Epoch 10 Batch 500 Loss 2.4582 Accuracy 0.5365 with time taken 4.29 secs\n",
            "Epoch 10 Batch 550 Loss 2.4587 Accuracy 0.5366 with time taken 4.39 secs\n",
            "Epoch 10 Batch 600 Loss 2.4567 Accuracy 0.5370 with time taken 4.07 secs\n",
            "Epoch 10 Batch 650 Loss 2.4531 Accuracy 0.5375 with time taken 4.10 secs\n",
            "Epoch 10 Batch 700 Loss 2.4516 Accuracy 0.5380 with time taken 4.23 secs\n",
            "Epoch 10 Batch 750 Loss 2.4525 Accuracy 0.5379 with time taken 4.17 secs\n",
            "Epoch 10 Batch 800 Loss 2.4505 Accuracy 0.5381 with time taken 4.18 secs\n",
            "Epoch 10 Batch 850 Loss 2.4506 Accuracy 0.5383 with time taken 4.03 secs\n",
            "Epoch 10 Batch 900 Loss 2.4520 Accuracy 0.5380 with time taken 4.21 secs\n",
            "Epoch 10 Batch 950 Loss 2.4506 Accuracy 0.5383 with time taken 4.03 secs\n",
            "Epoch 10 Batch 1000 Loss 2.4499 Accuracy 0.5384 with time taken 4.12 secs\n",
            "Epoch 10 Batch 1050 Loss 2.4486 Accuracy 0.5386 with time taken 4.10 secs\n",
            "Epoch 10 Batch 1100 Loss 2.4475 Accuracy 0.5388 with time taken 4.15 secs\n",
            "Epoch 10 Batch 1150 Loss 2.4480 Accuracy 0.5387 with time taken 4.14 secs\n",
            "Epoch 10 Batch 1200 Loss 2.4478 Accuracy 0.5387 with time taken 4.20 secs\n",
            "Epoch 10 Batch 1250 Loss 2.4484 Accuracy 0.5386 with time taken 4.15 secs\n",
            "Epoch 10 Batch 1300 Loss 2.4489 Accuracy 0.5386 with time taken 4.17 secs\n",
            "Epoch 10 Batch 1350 Loss 2.4488 Accuracy 0.5387 with time taken 4.27 secs\n",
            "Epoch 10 Batch 1400 Loss 2.4489 Accuracy 0.5387 with time taken 4.10 secs\n",
            "Epoch 10 Batch 1450 Loss 2.4481 Accuracy 0.5388 with time taken 4.12 secs\n",
            "Epoch 10 Batch 1500 Loss 2.4478 Accuracy 0.5388 with time taken 4.14 secs\n",
            "Epoch 10 Batch 1550 Loss 2.4478 Accuracy 0.5388 with time taken 4.08 secs\n",
            "Epoch 10 Batch 1600 Loss 2.4478 Accuracy 0.5388 with time taken 4.18 secs\n",
            "Epoch 10 Batch 1650 Loss 2.4477 Accuracy 0.5388 with time taken 4.13 secs\n",
            "Epoch 10 Batch 1700 Loss 2.4481 Accuracy 0.5387 with time taken 4.31 secs\n",
            "Epoch 10 Batch 1750 Loss 2.4480 Accuracy 0.5387 with time taken 4.08 secs\n",
            "Epoch 10 Batch 1800 Loss 2.4479 Accuracy 0.5387 with time taken 4.16 secs\n",
            "Epoch 10 Batch 1850 Loss 2.4479 Accuracy 0.5388 with time taken 4.10 secs\n",
            "Epoch 10 Batch 1900 Loss 2.4475 Accuracy 0.5389 with time taken 4.18 secs\n",
            "Epoch 10 Batch 1950 Loss 2.4475 Accuracy 0.5389 with time taken 4.26 secs\n",
            "Epoch 10 Batch 2000 Loss 2.4475 Accuracy 0.5389 with time taken 4.19 secs\n",
            "Epoch 10 Batch 2050 Loss 2.4471 Accuracy 0.5390 with time taken 4.26 secs\n",
            "Epoch 10 Batch 2100 Loss 2.4469 Accuracy 0.5390 with time taken 4.12 secs\n",
            "Epoch 10 Batch 2150 Loss 2.4465 Accuracy 0.5390 with time taken 4.19 secs\n",
            "Epoch 10 Batch 2200 Loss 2.4468 Accuracy 0.5390 with time taken 4.15 secs\n",
            "Epoch 10 Batch 2250 Loss 2.4464 Accuracy 0.5391 with time taken 4.19 secs\n",
            "Epoch 10 Batch 2300 Loss 2.4457 Accuracy 0.5392 with time taken 4.20 secs\n",
            "Epoch 10 Batch 2350 Loss 2.4447 Accuracy 0.5393 with time taken 4.20 secs\n",
            "Epoch 10 Batch 2400 Loss 2.4453 Accuracy 0.5392 with time taken 4.24 secs\n",
            "Epoch 10 Batch 2450 Loss 2.4452 Accuracy 0.5393 with time taken 4.07 secs\n",
            "Epoch 10 Batch 2500 Loss 2.4450 Accuracy 0.5393 with time taken 4.00 secs\n",
            "Epoch 10 Batch 2550 Loss 2.4444 Accuracy 0.5394 with time taken 4.19 secs\n",
            "Epoch 10 Batch 2600 Loss 2.4446 Accuracy 0.5394 with time taken 4.14 secs\n",
            "Epoch 10 Batch 2650 Loss 2.4440 Accuracy 0.5395 with time taken 4.05 secs\n",
            "Epoch 10 Batch 2700 Loss 2.4435 Accuracy 0.5396 with time taken 4.21 secs\n",
            "Epoch 10 Batch 2750 Loss 2.4427 Accuracy 0.5397 with time taken 4.13 secs\n",
            "Epoch 10 Batch 2800 Loss 2.4423 Accuracy 0.5397 with time taken 4.24 secs\n",
            "Epoch 10 Batch 2850 Loss 2.4423 Accuracy 0.5397 with time taken 4.15 secs\n",
            "Epoch 10 Batch 2900 Loss 2.4418 Accuracy 0.5397 with time taken 4.10 secs\n",
            "Epoch 10 Batch 2950 Loss 2.4413 Accuracy 0.5398 with time taken 4.11 secs\n",
            "Epoch 10 Batch 3000 Loss 2.4411 Accuracy 0.5398 with time taken 4.05 secs\n",
            "Epoch 10 Batch 3050 Loss 2.4406 Accuracy 0.5399 with time taken 4.06 secs\n",
            "Epoch 10 Batch 3100 Loss 2.4409 Accuracy 0.5399 with time taken 4.13 secs\n",
            "Epoch 10 Batch 3150 Loss 2.4407 Accuracy 0.5399 with time taken 4.04 secs\n",
            "Epoch 10 Batch 3200 Loss 2.4402 Accuracy 0.5400 with time taken 4.25 secs\n",
            "Epoch 10 Batch 3250 Loss 2.4401 Accuracy 0.5400 with time taken 4.35 secs\n",
            "Saving checkpoint for epoch 10 at drive/MyDrive/models/transformer_ru_en_v2/ckpt-10\n",
            "Epoch 10 Loss 2.4401 Accuracy 0.5400\n",
            "Time taken for 1 epoch: 271.75 secs\n",
            "\n",
            "Epoch 11 Batch 0 Loss 2.4355 Accuracy 0.5543 with time taken 0.55 secs\n",
            "Epoch 11 Batch 50 Loss 2.4299 Accuracy 0.5392 with time taken 4.25 secs\n",
            "Epoch 11 Batch 100 Loss 2.4293 Accuracy 0.5395 with time taken 4.08 secs\n",
            "Epoch 11 Batch 150 Loss 2.4210 Accuracy 0.5410 with time taken 4.23 secs\n",
            "Epoch 11 Batch 200 Loss 2.4161 Accuracy 0.5417 with time taken 4.04 secs\n",
            "Epoch 11 Batch 250 Loss 2.4166 Accuracy 0.5414 with time taken 4.20 secs\n",
            "Epoch 11 Batch 300 Loss 2.4124 Accuracy 0.5421 with time taken 4.00 secs\n",
            "Epoch 11 Batch 350 Loss 2.4119 Accuracy 0.5425 with time taken 4.34 secs\n",
            "Epoch 11 Batch 400 Loss 2.4129 Accuracy 0.5424 with time taken 4.19 secs\n",
            "Epoch 11 Batch 450 Loss 2.4143 Accuracy 0.5423 with time taken 4.15 secs\n",
            "Epoch 11 Batch 500 Loss 2.4180 Accuracy 0.5419 with time taken 4.11 secs\n",
            "Epoch 11 Batch 550 Loss 2.4197 Accuracy 0.5416 with time taken 4.11 secs\n",
            "Epoch 11 Batch 600 Loss 2.4203 Accuracy 0.5415 with time taken 4.05 secs\n",
            "Epoch 11 Batch 650 Loss 2.4202 Accuracy 0.5417 with time taken 4.12 secs\n",
            "Epoch 11 Batch 700 Loss 2.4198 Accuracy 0.5419 with time taken 4.05 secs\n",
            "Epoch 11 Batch 750 Loss 2.4185 Accuracy 0.5422 with time taken 4.27 secs\n",
            "Epoch 11 Batch 800 Loss 2.4179 Accuracy 0.5423 with time taken 4.12 secs\n",
            "Epoch 11 Batch 850 Loss 2.4177 Accuracy 0.5424 with time taken 4.18 secs\n",
            "Epoch 11 Batch 900 Loss 2.4156 Accuracy 0.5427 with time taken 4.11 secs\n",
            "Epoch 11 Batch 950 Loss 2.4149 Accuracy 0.5427 with time taken 4.02 secs\n",
            "Epoch 11 Batch 1000 Loss 2.4138 Accuracy 0.5430 with time taken 4.09 secs\n",
            "Epoch 11 Batch 1050 Loss 2.4131 Accuracy 0.5431 with time taken 3.98 secs\n",
            "Epoch 11 Batch 1100 Loss 2.4123 Accuracy 0.5432 with time taken 4.08 secs\n",
            "Epoch 11 Batch 1150 Loss 2.4125 Accuracy 0.5432 with time taken 4.19 secs\n",
            "Epoch 11 Batch 1200 Loss 2.4123 Accuracy 0.5433 with time taken 4.29 secs\n",
            "Epoch 11 Batch 1250 Loss 2.4103 Accuracy 0.5434 with time taken 4.13 secs\n",
            "Epoch 11 Batch 1300 Loss 2.4090 Accuracy 0.5436 with time taken 4.16 secs\n",
            "Epoch 11 Batch 1350 Loss 2.4092 Accuracy 0.5436 with time taken 4.25 secs\n",
            "Epoch 11 Batch 1400 Loss 2.4095 Accuracy 0.5436 with time taken 4.11 secs\n",
            "Epoch 11 Batch 1450 Loss 2.4080 Accuracy 0.5438 with time taken 4.13 secs\n",
            "Epoch 11 Batch 1500 Loss 2.4075 Accuracy 0.5439 with time taken 4.11 secs\n",
            "Epoch 11 Batch 1550 Loss 2.4066 Accuracy 0.5441 with time taken 4.20 secs\n",
            "Epoch 11 Batch 1600 Loss 2.4065 Accuracy 0.5441 with time taken 4.13 secs\n",
            "Epoch 11 Batch 1650 Loss 2.4070 Accuracy 0.5441 with time taken 4.18 secs\n",
            "Epoch 11 Batch 1700 Loss 2.4072 Accuracy 0.5440 with time taken 4.15 secs\n",
            "Epoch 11 Batch 1750 Loss 2.4069 Accuracy 0.5441 with time taken 4.04 secs\n",
            "Epoch 11 Batch 1800 Loss 2.4074 Accuracy 0.5440 with time taken 4.34 secs\n",
            "Epoch 11 Batch 1850 Loss 2.4080 Accuracy 0.5439 with time taken 4.16 secs\n",
            "Epoch 11 Batch 1900 Loss 2.4072 Accuracy 0.5440 with time taken 4.22 secs\n",
            "Epoch 11 Batch 1950 Loss 2.4073 Accuracy 0.5441 with time taken 4.20 secs\n",
            "Epoch 11 Batch 2000 Loss 2.4069 Accuracy 0.5442 with time taken 4.19 secs\n",
            "Epoch 11 Batch 2050 Loss 2.4066 Accuracy 0.5442 with time taken 4.03 secs\n",
            "Epoch 11 Batch 2100 Loss 2.4068 Accuracy 0.5442 with time taken 4.26 secs\n",
            "Epoch 11 Batch 2150 Loss 2.4070 Accuracy 0.5442 with time taken 4.17 secs\n",
            "Epoch 11 Batch 2200 Loss 2.4067 Accuracy 0.5442 with time taken 4.12 secs\n",
            "Epoch 11 Batch 2250 Loss 2.4065 Accuracy 0.5442 with time taken 4.11 secs\n",
            "Epoch 11 Batch 2300 Loss 2.4059 Accuracy 0.5443 with time taken 4.22 secs\n",
            "Epoch 11 Batch 2350 Loss 2.4061 Accuracy 0.5442 with time taken 4.11 secs\n",
            "Epoch 11 Batch 2400 Loss 2.4057 Accuracy 0.5443 with time taken 4.12 secs\n",
            "Epoch 11 Batch 2450 Loss 2.4052 Accuracy 0.5444 with time taken 4.08 secs\n",
            "Epoch 11 Batch 2500 Loss 2.4044 Accuracy 0.5445 with time taken 4.12 secs\n",
            "Epoch 11 Batch 2550 Loss 2.4047 Accuracy 0.5445 with time taken 4.14 secs\n",
            "Epoch 11 Batch 2600 Loss 2.4038 Accuracy 0.5446 with time taken 4.11 secs\n",
            "Epoch 11 Batch 2650 Loss 2.4039 Accuracy 0.5446 with time taken 4.03 secs\n",
            "Epoch 11 Batch 2700 Loss 2.4034 Accuracy 0.5446 with time taken 4.10 secs\n",
            "Epoch 11 Batch 2750 Loss 2.4028 Accuracy 0.5447 with time taken 4.10 secs\n",
            "Epoch 11 Batch 2800 Loss 2.4030 Accuracy 0.5448 with time taken 4.12 secs\n",
            "Epoch 11 Batch 2850 Loss 2.4024 Accuracy 0.5448 with time taken 4.16 secs\n",
            "Epoch 11 Batch 2900 Loss 2.4017 Accuracy 0.5449 with time taken 4.25 secs\n",
            "Epoch 11 Batch 2950 Loss 2.4010 Accuracy 0.5450 with time taken 4.23 secs\n",
            "Epoch 11 Batch 3000 Loss 2.4011 Accuracy 0.5450 with time taken 4.21 secs\n",
            "Epoch 11 Batch 3050 Loss 2.4013 Accuracy 0.5450 with time taken 4.08 secs\n",
            "Epoch 11 Batch 3100 Loss 2.4010 Accuracy 0.5450 with time taken 4.14 secs\n",
            "Epoch 11 Batch 3150 Loss 2.4009 Accuracy 0.5450 with time taken 4.11 secs\n",
            "Epoch 11 Batch 3200 Loss 2.4006 Accuracy 0.5451 with time taken 4.18 secs\n",
            "Epoch 11 Batch 3250 Loss 2.4008 Accuracy 0.5450 with time taken 4.08 secs\n",
            "Saving checkpoint for epoch 11 at drive/MyDrive/models/transformer_ru_en_v2/ckpt-11\n",
            "Epoch 11 Loss 2.4008 Accuracy 0.5450\n",
            "Time taken for 1 epoch: 270.44 secs\n",
            "\n",
            "Epoch 12 Batch 0 Loss 2.4279 Accuracy 0.5289 with time taken 0.57 secs\n",
            "Epoch 12 Batch 50 Loss 2.3721 Accuracy 0.5478 with time taken 4.13 secs\n",
            "Epoch 12 Batch 100 Loss 2.3802 Accuracy 0.5468 with time taken 4.22 secs\n",
            "Epoch 12 Batch 150 Loss 2.3755 Accuracy 0.5480 with time taken 4.29 secs\n",
            "Epoch 12 Batch 200 Loss 2.3694 Accuracy 0.5485 with time taken 4.16 secs\n",
            "Epoch 12 Batch 250 Loss 2.3720 Accuracy 0.5480 with time taken 4.24 secs\n",
            "Epoch 12 Batch 300 Loss 2.3735 Accuracy 0.5477 with time taken 4.15 secs\n",
            "Epoch 12 Batch 350 Loss 2.3724 Accuracy 0.5480 with time taken 4.11 secs\n",
            "Epoch 12 Batch 400 Loss 2.3721 Accuracy 0.5477 with time taken 4.18 secs\n",
            "Epoch 12 Batch 450 Loss 2.3736 Accuracy 0.5476 with time taken 4.07 secs\n",
            "Epoch 12 Batch 500 Loss 2.3765 Accuracy 0.5472 with time taken 4.17 secs\n",
            "Epoch 12 Batch 550 Loss 2.3778 Accuracy 0.5470 with time taken 4.11 secs\n",
            "Epoch 12 Batch 600 Loss 2.3764 Accuracy 0.5472 with time taken 4.20 secs\n",
            "Epoch 12 Batch 650 Loss 2.3771 Accuracy 0.5473 with time taken 4.05 secs\n",
            "Epoch 12 Batch 700 Loss 2.3774 Accuracy 0.5472 with time taken 4.19 secs\n",
            "Epoch 12 Batch 750 Loss 2.3773 Accuracy 0.5471 with time taken 4.18 secs\n",
            "Epoch 12 Batch 800 Loss 2.3768 Accuracy 0.5473 with time taken 4.12 secs\n",
            "Epoch 12 Batch 850 Loss 2.3752 Accuracy 0.5477 with time taken 4.15 secs\n",
            "Epoch 12 Batch 900 Loss 2.3751 Accuracy 0.5476 with time taken 4.24 secs\n",
            "Epoch 12 Batch 950 Loss 2.3754 Accuracy 0.5477 with time taken 4.14 secs\n",
            "Epoch 12 Batch 1000 Loss 2.3743 Accuracy 0.5478 with time taken 4.08 secs\n",
            "Epoch 12 Batch 1050 Loss 2.3742 Accuracy 0.5478 with time taken 4.08 secs\n",
            "Epoch 12 Batch 1100 Loss 2.3744 Accuracy 0.5480 with time taken 4.13 secs\n",
            "Epoch 12 Batch 1150 Loss 2.3743 Accuracy 0.5480 with time taken 4.11 secs\n",
            "Epoch 12 Batch 1200 Loss 2.3737 Accuracy 0.5481 with time taken 4.23 secs\n",
            "Epoch 12 Batch 1250 Loss 2.3746 Accuracy 0.5480 with time taken 4.10 secs\n",
            "Epoch 12 Batch 1300 Loss 2.3741 Accuracy 0.5481 with time taken 4.16 secs\n",
            "Epoch 12 Batch 1350 Loss 2.3742 Accuracy 0.5481 with time taken 4.15 secs\n",
            "Epoch 12 Batch 1400 Loss 2.3742 Accuracy 0.5481 with time taken 4.12 secs\n",
            "Epoch 12 Batch 1450 Loss 2.3745 Accuracy 0.5481 with time taken 4.17 secs\n",
            "Epoch 12 Batch 1500 Loss 2.3743 Accuracy 0.5482 with time taken 4.15 secs\n",
            "Epoch 12 Batch 1550 Loss 2.3733 Accuracy 0.5483 with time taken 4.10 secs\n",
            "Epoch 12 Batch 1600 Loss 2.3730 Accuracy 0.5482 with time taken 4.24 secs\n",
            "Epoch 12 Batch 1650 Loss 2.3730 Accuracy 0.5482 with time taken 4.09 secs\n",
            "Epoch 12 Batch 1700 Loss 2.3729 Accuracy 0.5483 with time taken 4.14 secs\n",
            "Epoch 12 Batch 1750 Loss 2.3739 Accuracy 0.5481 with time taken 4.16 secs\n",
            "Epoch 12 Batch 1800 Loss 2.3730 Accuracy 0.5483 with time taken 4.13 secs\n",
            "Epoch 12 Batch 1850 Loss 2.3723 Accuracy 0.5484 with time taken 4.20 secs\n",
            "Epoch 12 Batch 1900 Loss 2.3713 Accuracy 0.5485 with time taken 4.25 secs\n",
            "Epoch 12 Batch 1950 Loss 2.3713 Accuracy 0.5486 with time taken 4.05 secs\n",
            "Epoch 12 Batch 2000 Loss 2.3708 Accuracy 0.5487 with time taken 4.16 secs\n",
            "Epoch 12 Batch 2050 Loss 2.3706 Accuracy 0.5487 with time taken 4.13 secs\n",
            "Epoch 12 Batch 2100 Loss 2.3701 Accuracy 0.5488 with time taken 4.16 secs\n",
            "Epoch 12 Batch 2150 Loss 2.3700 Accuracy 0.5488 with time taken 4.14 secs\n",
            "Epoch 12 Batch 2200 Loss 2.3697 Accuracy 0.5488 with time taken 4.22 secs\n",
            "Epoch 12 Batch 2250 Loss 2.3693 Accuracy 0.5489 with time taken 4.18 secs\n",
            "Epoch 12 Batch 2300 Loss 2.3694 Accuracy 0.5489 with time taken 4.13 secs\n",
            "Epoch 12 Batch 2350 Loss 2.3691 Accuracy 0.5489 with time taken 4.09 secs\n",
            "Epoch 12 Batch 2400 Loss 2.3695 Accuracy 0.5489 with time taken 4.20 secs\n",
            "Epoch 12 Batch 2450 Loss 2.3695 Accuracy 0.5489 with time taken 4.07 secs\n",
            "Epoch 12 Batch 2500 Loss 2.3687 Accuracy 0.5490 with time taken 4.08 secs\n",
            "Epoch 12 Batch 2550 Loss 2.3681 Accuracy 0.5491 with time taken 4.19 secs\n",
            "Epoch 12 Batch 2600 Loss 2.3677 Accuracy 0.5491 with time taken 4.12 secs\n",
            "Epoch 12 Batch 2650 Loss 2.3672 Accuracy 0.5492 with time taken 4.09 secs\n",
            "Epoch 12 Batch 2700 Loss 2.3672 Accuracy 0.5492 with time taken 4.07 secs\n",
            "Epoch 12 Batch 2750 Loss 2.3668 Accuracy 0.5493 with time taken 4.10 secs\n",
            "Epoch 12 Batch 2800 Loss 2.3675 Accuracy 0.5491 with time taken 4.30 secs\n",
            "Epoch 12 Batch 2850 Loss 2.3672 Accuracy 0.5492 with time taken 4.19 secs\n",
            "Epoch 12 Batch 2900 Loss 2.3674 Accuracy 0.5492 with time taken 4.17 secs\n",
            "Epoch 12 Batch 2950 Loss 2.3674 Accuracy 0.5492 with time taken 4.06 secs\n",
            "Epoch 12 Batch 3000 Loss 2.3672 Accuracy 0.5492 with time taken 4.12 secs\n",
            "Epoch 12 Batch 3050 Loss 2.3671 Accuracy 0.5492 with time taken 4.17 secs\n",
            "Epoch 12 Batch 3100 Loss 2.3670 Accuracy 0.5493 with time taken 4.15 secs\n",
            "Epoch 12 Batch 3150 Loss 2.3669 Accuracy 0.5493 with time taken 4.12 secs\n",
            "Epoch 12 Batch 3200 Loss 2.3669 Accuracy 0.5493 with time taken 4.10 secs\n",
            "Epoch 12 Batch 3250 Loss 2.3669 Accuracy 0.5493 with time taken 4.17 secs\n",
            "Saving checkpoint for epoch 12 at drive/MyDrive/models/transformer_ru_en_v2/ckpt-12\n",
            "Epoch 12 Loss 2.3669 Accuracy 0.5493\n",
            "Time taken for 1 epoch: 270.69 secs\n",
            "\n",
            "Epoch 13 Batch 0 Loss 2.2443 Accuracy 0.5557 with time taken 0.57 secs\n",
            "Epoch 13 Batch 50 Loss 2.3590 Accuracy 0.5484 with time taken 4.18 secs\n",
            "Epoch 13 Batch 100 Loss 2.3548 Accuracy 0.5495 with time taken 4.12 secs\n",
            "Epoch 13 Batch 150 Loss 2.3564 Accuracy 0.5500 with time taken 4.28 secs\n",
            "Epoch 13 Batch 200 Loss 2.3548 Accuracy 0.5501 with time taken 4.20 secs\n",
            "Epoch 13 Batch 250 Loss 2.3516 Accuracy 0.5506 with time taken 4.09 secs\n",
            "Epoch 13 Batch 300 Loss 2.3484 Accuracy 0.5510 with time taken 4.05 secs\n",
            "Epoch 13 Batch 350 Loss 2.3432 Accuracy 0.5518 with time taken 4.11 secs\n",
            "Epoch 13 Batch 400 Loss 2.3434 Accuracy 0.5518 with time taken 4.26 secs\n",
            "Epoch 13 Batch 450 Loss 2.3434 Accuracy 0.5516 with time taken 4.17 secs\n",
            "Epoch 13 Batch 500 Loss 2.3450 Accuracy 0.5513 with time taken 4.11 secs\n",
            "Epoch 13 Batch 550 Loss 2.3472 Accuracy 0.5512 with time taken 4.14 secs\n",
            "Epoch 13 Batch 600 Loss 2.3478 Accuracy 0.5509 with time taken 4.16 secs\n",
            "Epoch 13 Batch 650 Loss 2.3479 Accuracy 0.5509 with time taken 4.10 secs\n",
            "Epoch 13 Batch 700 Loss 2.3453 Accuracy 0.5513 with time taken 4.02 secs\n",
            "Epoch 13 Batch 750 Loss 2.3478 Accuracy 0.5512 with time taken 4.18 secs\n",
            "Epoch 13 Batch 800 Loss 2.3467 Accuracy 0.5515 with time taken 4.12 secs\n",
            "Epoch 13 Batch 850 Loss 2.3445 Accuracy 0.5518 with time taken 4.05 secs\n",
            "Epoch 13 Batch 900 Loss 2.3444 Accuracy 0.5518 with time taken 4.09 secs\n",
            "Epoch 13 Batch 950 Loss 2.3436 Accuracy 0.5520 with time taken 4.06 secs\n",
            "Epoch 13 Batch 1000 Loss 2.3428 Accuracy 0.5521 with time taken 4.09 secs\n",
            "Epoch 13 Batch 1050 Loss 2.3427 Accuracy 0.5522 with time taken 4.10 secs\n",
            "Epoch 13 Batch 1100 Loss 2.3425 Accuracy 0.5523 with time taken 4.11 secs\n",
            "Epoch 13 Batch 1150 Loss 2.3415 Accuracy 0.5523 with time taken 4.10 secs\n",
            "Epoch 13 Batch 1200 Loss 2.3410 Accuracy 0.5525 with time taken 4.08 secs\n",
            "Epoch 13 Batch 1250 Loss 2.3415 Accuracy 0.5524 with time taken 4.24 secs\n",
            "Epoch 13 Batch 1300 Loss 2.3423 Accuracy 0.5523 with time taken 4.20 secs\n",
            "Epoch 13 Batch 1350 Loss 2.3410 Accuracy 0.5526 with time taken 4.11 secs\n",
            "Epoch 13 Batch 1400 Loss 2.3406 Accuracy 0.5527 with time taken 4.12 secs\n",
            "Epoch 13 Batch 1450 Loss 2.3410 Accuracy 0.5526 with time taken 4.08 secs\n",
            "Epoch 13 Batch 1500 Loss 2.3412 Accuracy 0.5526 with time taken 4.14 secs\n",
            "Epoch 13 Batch 1550 Loss 2.3415 Accuracy 0.5525 with time taken 4.24 secs\n",
            "Epoch 13 Batch 1600 Loss 2.3404 Accuracy 0.5527 with time taken 4.24 secs\n",
            "Epoch 13 Batch 1650 Loss 2.3402 Accuracy 0.5527 with time taken 4.08 secs\n",
            "Epoch 13 Batch 1700 Loss 2.3403 Accuracy 0.5528 with time taken 4.12 secs\n",
            "Epoch 13 Batch 1750 Loss 2.3410 Accuracy 0.5527 with time taken 4.17 secs\n",
            "Epoch 13 Batch 1800 Loss 2.3408 Accuracy 0.5527 with time taken 4.11 secs\n",
            "Epoch 13 Batch 1850 Loss 2.3407 Accuracy 0.5527 with time taken 4.03 secs\n",
            "Epoch 13 Batch 1900 Loss 2.3407 Accuracy 0.5528 with time taken 4.07 secs\n",
            "Epoch 13 Batch 1950 Loss 2.3396 Accuracy 0.5530 with time taken 4.00 secs\n",
            "Epoch 13 Batch 2000 Loss 2.3397 Accuracy 0.5529 with time taken 4.10 secs\n",
            "Epoch 13 Batch 2050 Loss 2.3400 Accuracy 0.5529 with time taken 4.23 secs\n",
            "Epoch 13 Batch 2100 Loss 2.3399 Accuracy 0.5529 with time taken 4.11 secs\n",
            "Epoch 13 Batch 2150 Loss 2.3397 Accuracy 0.5530 with time taken 4.14 secs\n",
            "Epoch 13 Batch 2200 Loss 2.3396 Accuracy 0.5530 with time taken 4.17 secs\n",
            "Epoch 13 Batch 2250 Loss 2.3397 Accuracy 0.5530 with time taken 4.24 secs\n",
            "Epoch 13 Batch 2300 Loss 2.3397 Accuracy 0.5530 with time taken 4.20 secs\n",
            "Epoch 13 Batch 2350 Loss 2.3394 Accuracy 0.5530 with time taken 4.18 secs\n",
            "Epoch 13 Batch 2400 Loss 2.3394 Accuracy 0.5530 with time taken 4.16 secs\n",
            "Epoch 13 Batch 2450 Loss 2.3391 Accuracy 0.5531 with time taken 4.10 secs\n",
            "Epoch 13 Batch 2500 Loss 2.3390 Accuracy 0.5531 with time taken 4.13 secs\n",
            "Epoch 13 Batch 2550 Loss 2.3388 Accuracy 0.5532 with time taken 4.22 secs\n",
            "Epoch 13 Batch 2600 Loss 2.3385 Accuracy 0.5532 with time taken 4.10 secs\n",
            "Epoch 13 Batch 2650 Loss 2.3378 Accuracy 0.5533 with time taken 4.05 secs\n",
            "Epoch 13 Batch 2700 Loss 2.3372 Accuracy 0.5534 with time taken 4.05 secs\n",
            "Epoch 13 Batch 2750 Loss 2.3373 Accuracy 0.5534 with time taken 4.11 secs\n",
            "Epoch 13 Batch 2800 Loss 2.3374 Accuracy 0.5534 with time taken 4.14 secs\n",
            "Epoch 13 Batch 2850 Loss 2.3374 Accuracy 0.5534 with time taken 4.36 secs\n",
            "Epoch 13 Batch 2900 Loss 2.3373 Accuracy 0.5534 with time taken 4.11 secs\n",
            "Epoch 13 Batch 2950 Loss 2.3371 Accuracy 0.5534 with time taken 4.15 secs\n",
            "Epoch 13 Batch 3000 Loss 2.3373 Accuracy 0.5533 with time taken 4.28 secs\n",
            "Epoch 13 Batch 3050 Loss 2.3371 Accuracy 0.5534 with time taken 4.08 secs\n",
            "Epoch 13 Batch 3100 Loss 2.3369 Accuracy 0.5534 with time taken 4.22 secs\n",
            "Epoch 13 Batch 3150 Loss 2.3365 Accuracy 0.5535 with time taken 4.09 secs\n",
            "Epoch 13 Batch 3200 Loss 2.3366 Accuracy 0.5535 with time taken 4.11 secs\n",
            "Epoch 13 Batch 3250 Loss 2.3365 Accuracy 0.5535 with time taken 4.36 secs\n",
            "Saving checkpoint for epoch 13 at drive/MyDrive/models/transformer_ru_en_v2/ckpt-13\n",
            "Epoch 13 Loss 2.3365 Accuracy 0.5535\n",
            "Time taken for 1 epoch: 270.21 secs\n",
            "\n",
            "Epoch 14 Batch 0 Loss 2.2790 Accuracy 0.5577 with time taken 0.56 secs\n",
            "Epoch 14 Batch 50 Loss 2.3142 Accuracy 0.5565 with time taken 4.06 secs\n",
            "Epoch 14 Batch 100 Loss 2.3089 Accuracy 0.5572 with time taken 4.06 secs\n",
            "Epoch 14 Batch 150 Loss 2.3138 Accuracy 0.5559 with time taken 4.28 secs\n",
            "Epoch 14 Batch 200 Loss 2.3147 Accuracy 0.5552 with time taken 4.17 secs\n",
            "Epoch 14 Batch 250 Loss 2.3214 Accuracy 0.5547 with time taken 4.17 secs\n",
            "Epoch 14 Batch 300 Loss 2.3216 Accuracy 0.5543 with time taken 4.21 secs\n",
            "Epoch 14 Batch 350 Loss 2.3216 Accuracy 0.5545 with time taken 4.19 secs\n",
            "Epoch 14 Batch 400 Loss 2.3224 Accuracy 0.5545 with time taken 4.20 secs\n",
            "Epoch 14 Batch 450 Loss 2.3249 Accuracy 0.5541 with time taken 4.35 secs\n",
            "Epoch 14 Batch 500 Loss 2.3252 Accuracy 0.5543 with time taken 4.25 secs\n",
            "Epoch 14 Batch 550 Loss 2.3236 Accuracy 0.5547 with time taken 4.29 secs\n",
            "Epoch 14 Batch 600 Loss 2.3218 Accuracy 0.5549 with time taken 4.10 secs\n",
            "Epoch 14 Batch 650 Loss 2.3196 Accuracy 0.5555 with time taken 4.17 secs\n",
            "Epoch 14 Batch 700 Loss 2.3198 Accuracy 0.5555 with time taken 4.01 secs\n",
            "Epoch 14 Batch 750 Loss 2.3183 Accuracy 0.5555 with time taken 4.11 secs\n",
            "Epoch 14 Batch 800 Loss 2.3169 Accuracy 0.5557 with time taken 4.12 secs\n",
            "Epoch 14 Batch 850 Loss 2.3173 Accuracy 0.5558 with time taken 4.16 secs\n",
            "Epoch 14 Batch 900 Loss 2.3159 Accuracy 0.5560 with time taken 4.14 secs\n",
            "Epoch 14 Batch 950 Loss 2.3159 Accuracy 0.5560 with time taken 4.10 secs\n",
            "Epoch 14 Batch 1000 Loss 2.3156 Accuracy 0.5561 with time taken 4.21 secs\n",
            "Epoch 14 Batch 1050 Loss 2.3152 Accuracy 0.5561 with time taken 4.15 secs\n",
            "Epoch 14 Batch 1100 Loss 2.3147 Accuracy 0.5563 with time taken 3.96 secs\n",
            "Epoch 14 Batch 1150 Loss 2.3143 Accuracy 0.5564 with time taken 4.14 secs\n",
            "Epoch 14 Batch 1200 Loss 2.3148 Accuracy 0.5562 with time taken 4.18 secs\n",
            "Epoch 14 Batch 1250 Loss 2.3148 Accuracy 0.5562 with time taken 4.10 secs\n",
            "Epoch 14 Batch 1300 Loss 2.3147 Accuracy 0.5562 with time taken 4.15 secs\n",
            "Epoch 14 Batch 1350 Loss 2.3157 Accuracy 0.5560 with time taken 4.20 secs\n",
            "Epoch 14 Batch 1400 Loss 2.3162 Accuracy 0.5561 with time taken 4.12 secs\n",
            "Epoch 14 Batch 1450 Loss 2.3149 Accuracy 0.5563 with time taken 4.21 secs\n",
            "Epoch 14 Batch 1500 Loss 2.3149 Accuracy 0.5563 with time taken 4.14 secs\n",
            "Epoch 14 Batch 1550 Loss 2.3145 Accuracy 0.5563 with time taken 4.30 secs\n",
            "Epoch 14 Batch 1600 Loss 2.3134 Accuracy 0.5565 with time taken 4.10 secs\n",
            "Epoch 14 Batch 1650 Loss 2.3133 Accuracy 0.5566 with time taken 4.16 secs\n",
            "Epoch 14 Batch 1700 Loss 2.3139 Accuracy 0.5565 with time taken 4.16 secs\n",
            "Epoch 14 Batch 1750 Loss 2.3135 Accuracy 0.5565 with time taken 4.24 secs\n",
            "Epoch 14 Batch 1800 Loss 2.3142 Accuracy 0.5564 with time taken 4.21 secs\n",
            "Epoch 14 Batch 1850 Loss 2.3143 Accuracy 0.5564 with time taken 4.20 secs\n",
            "Epoch 14 Batch 1900 Loss 2.3140 Accuracy 0.5565 with time taken 4.20 secs\n",
            "Epoch 14 Batch 1950 Loss 2.3137 Accuracy 0.5565 with time taken 3.99 secs\n",
            "Epoch 14 Batch 2000 Loss 2.3133 Accuracy 0.5566 with time taken 4.15 secs\n",
            "Epoch 14 Batch 2050 Loss 2.3140 Accuracy 0.5565 with time taken 4.09 secs\n",
            "Epoch 14 Batch 2100 Loss 2.3138 Accuracy 0.5565 with time taken 4.18 secs\n",
            "Epoch 14 Batch 2150 Loss 2.3142 Accuracy 0.5565 with time taken 4.11 secs\n",
            "Epoch 14 Batch 2200 Loss 2.3136 Accuracy 0.5566 with time taken 4.17 secs\n",
            "Epoch 14 Batch 2250 Loss 2.3135 Accuracy 0.5566 with time taken 4.22 secs\n",
            "Epoch 14 Batch 2300 Loss 2.3133 Accuracy 0.5567 with time taken 4.14 secs\n",
            "Epoch 14 Batch 2350 Loss 2.3137 Accuracy 0.5566 with time taken 4.19 secs\n",
            "Epoch 14 Batch 2400 Loss 2.3131 Accuracy 0.5566 with time taken 4.17 secs\n",
            "Epoch 14 Batch 2450 Loss 2.3132 Accuracy 0.5566 with time taken 4.19 secs\n",
            "Epoch 14 Batch 2500 Loss 2.3129 Accuracy 0.5567 with time taken 4.21 secs\n",
            "Epoch 14 Batch 2550 Loss 2.3122 Accuracy 0.5567 with time taken 4.01 secs\n",
            "Epoch 14 Batch 2600 Loss 2.3122 Accuracy 0.5567 with time taken 4.15 secs\n",
            "Epoch 14 Batch 2650 Loss 2.3116 Accuracy 0.5569 with time taken 4.09 secs\n",
            "Epoch 14 Batch 2700 Loss 2.3108 Accuracy 0.5570 with time taken 4.11 secs\n",
            "Epoch 14 Batch 2750 Loss 2.3106 Accuracy 0.5570 with time taken 4.20 secs\n",
            "Epoch 14 Batch 2800 Loss 2.3108 Accuracy 0.5570 with time taken 4.17 secs\n",
            "Epoch 14 Batch 2850 Loss 2.3109 Accuracy 0.5570 with time taken 4.22 secs\n",
            "Epoch 14 Batch 2900 Loss 2.3108 Accuracy 0.5570 with time taken 4.17 secs\n",
            "Epoch 14 Batch 2950 Loss 2.3109 Accuracy 0.5569 with time taken 4.23 secs\n",
            "Epoch 14 Batch 3000 Loss 2.3105 Accuracy 0.5570 with time taken 4.09 secs\n",
            "Epoch 14 Batch 3050 Loss 2.3098 Accuracy 0.5571 with time taken 4.10 secs\n",
            "Epoch 14 Batch 3100 Loss 2.3098 Accuracy 0.5571 with time taken 4.11 secs\n",
            "Epoch 14 Batch 3150 Loss 2.3098 Accuracy 0.5571 with time taken 4.16 secs\n",
            "Epoch 14 Batch 3200 Loss 2.3100 Accuracy 0.5570 with time taken 4.08 secs\n",
            "Epoch 14 Batch 3250 Loss 2.3102 Accuracy 0.5570 with time taken 4.15 secs\n",
            "Saving checkpoint for epoch 14 at drive/MyDrive/models/transformer_ru_en_v2/ckpt-14\n",
            "Epoch 14 Loss 2.3102 Accuracy 0.5570\n",
            "Time taken for 1 epoch: 271.27 secs\n",
            "\n",
            "Epoch 15 Batch 0 Loss 2.2773 Accuracy 0.5676 with time taken 0.58 secs\n",
            "Epoch 15 Batch 50 Loss 2.2814 Accuracy 0.5607 with time taken 4.19 secs\n",
            "Epoch 15 Batch 100 Loss 2.2814 Accuracy 0.5601 with time taken 4.17 secs\n",
            "Epoch 15 Batch 150 Loss 2.2881 Accuracy 0.5594 with time taken 4.22 secs\n",
            "Epoch 15 Batch 200 Loss 2.2905 Accuracy 0.5595 with time taken 4.26 secs\n",
            "Epoch 15 Batch 250 Loss 2.2923 Accuracy 0.5593 with time taken 4.14 secs\n",
            "Epoch 15 Batch 300 Loss 2.2924 Accuracy 0.5593 with time taken 4.26 secs\n",
            "Epoch 15 Batch 350 Loss 2.2895 Accuracy 0.5594 with time taken 4.24 secs\n",
            "Epoch 15 Batch 400 Loss 2.2892 Accuracy 0.5594 with time taken 4.08 secs\n",
            "Epoch 15 Batch 450 Loss 2.2887 Accuracy 0.5595 with time taken 4.26 secs\n",
            "Epoch 15 Batch 500 Loss 2.2880 Accuracy 0.5595 with time taken 4.10 secs\n",
            "Epoch 15 Batch 550 Loss 2.2894 Accuracy 0.5593 with time taken 4.27 secs\n",
            "Epoch 15 Batch 600 Loss 2.2900 Accuracy 0.5592 with time taken 4.20 secs\n",
            "Epoch 15 Batch 650 Loss 2.2923 Accuracy 0.5589 with time taken 4.13 secs\n",
            "Epoch 15 Batch 700 Loss 2.2929 Accuracy 0.5588 with time taken 4.21 secs\n",
            "Epoch 15 Batch 750 Loss 2.2925 Accuracy 0.5590 with time taken 4.05 secs\n",
            "Epoch 15 Batch 800 Loss 2.2919 Accuracy 0.5591 with time taken 4.28 secs\n",
            "Epoch 15 Batch 850 Loss 2.2898 Accuracy 0.5594 with time taken 4.17 secs\n",
            "Epoch 15 Batch 900 Loss 2.2899 Accuracy 0.5593 with time taken 4.06 secs\n",
            "Epoch 15 Batch 950 Loss 2.2907 Accuracy 0.5593 with time taken 4.04 secs\n",
            "Epoch 15 Batch 1000 Loss 2.2911 Accuracy 0.5593 with time taken 4.08 secs\n",
            "Epoch 15 Batch 1050 Loss 2.2894 Accuracy 0.5594 with time taken 4.17 secs\n",
            "Epoch 15 Batch 1100 Loss 2.2890 Accuracy 0.5594 with time taken 4.12 secs\n",
            "Epoch 15 Batch 1150 Loss 2.2882 Accuracy 0.5595 with time taken 4.19 secs\n",
            "Epoch 15 Batch 1200 Loss 2.2881 Accuracy 0.5596 with time taken 3.99 secs\n",
            "Epoch 15 Batch 1250 Loss 2.2884 Accuracy 0.5595 with time taken 4.15 secs\n",
            "Epoch 15 Batch 1300 Loss 2.2885 Accuracy 0.5594 with time taken 4.17 secs\n",
            "Epoch 15 Batch 1350 Loss 2.2883 Accuracy 0.5595 with time taken 3.99 secs\n",
            "Epoch 15 Batch 1400 Loss 2.2881 Accuracy 0.5596 with time taken 4.11 secs\n",
            "Epoch 15 Batch 1450 Loss 2.2888 Accuracy 0.5595 with time taken 4.07 secs\n",
            "Epoch 15 Batch 1500 Loss 2.2877 Accuracy 0.5597 with time taken 4.10 secs\n",
            "Epoch 15 Batch 1550 Loss 2.2882 Accuracy 0.5596 with time taken 4.28 secs\n",
            "Epoch 15 Batch 1600 Loss 2.2893 Accuracy 0.5595 with time taken 4.22 secs\n",
            "Epoch 15 Batch 1650 Loss 2.2889 Accuracy 0.5595 with time taken 4.11 secs\n",
            "Epoch 15 Batch 1700 Loss 2.2887 Accuracy 0.5595 with time taken 3.95 secs\n",
            "Epoch 15 Batch 1750 Loss 2.2882 Accuracy 0.5597 with time taken 4.22 secs\n",
            "Epoch 15 Batch 1800 Loss 2.2884 Accuracy 0.5596 with time taken 4.18 secs\n",
            "Epoch 15 Batch 1850 Loss 2.2884 Accuracy 0.5596 with time taken 4.21 secs\n",
            "Epoch 15 Batch 1900 Loss 2.2878 Accuracy 0.5597 with time taken 4.16 secs\n",
            "Epoch 15 Batch 1950 Loss 2.2869 Accuracy 0.5599 with time taken 4.10 secs\n",
            "Epoch 15 Batch 2000 Loss 2.2871 Accuracy 0.5599 with time taken 4.11 secs\n",
            "Epoch 15 Batch 2050 Loss 2.2865 Accuracy 0.5600 with time taken 4.17 secs\n",
            "Epoch 15 Batch 2100 Loss 2.2874 Accuracy 0.5599 with time taken 4.23 secs\n",
            "Epoch 15 Batch 2150 Loss 2.2872 Accuracy 0.5599 with time taken 4.24 secs\n",
            "Epoch 15 Batch 2200 Loss 2.2871 Accuracy 0.5599 with time taken 4.19 secs\n",
            "Epoch 15 Batch 2250 Loss 2.2869 Accuracy 0.5600 with time taken 4.17 secs\n",
            "Epoch 15 Batch 2300 Loss 2.2869 Accuracy 0.5600 with time taken 4.08 secs\n",
            "Epoch 15 Batch 2350 Loss 2.2871 Accuracy 0.5599 with time taken 4.16 secs\n",
            "Epoch 15 Batch 2400 Loss 2.2870 Accuracy 0.5599 with time taken 4.13 secs\n",
            "Epoch 15 Batch 2450 Loss 2.2864 Accuracy 0.5600 with time taken 4.02 secs\n",
            "Epoch 15 Batch 2500 Loss 2.2867 Accuracy 0.5599 with time taken 4.26 secs\n",
            "Epoch 15 Batch 2550 Loss 2.2870 Accuracy 0.5599 with time taken 4.11 secs\n",
            "Epoch 15 Batch 2600 Loss 2.2866 Accuracy 0.5600 with time taken 4.10 secs\n",
            "Epoch 15 Batch 2650 Loss 2.2864 Accuracy 0.5600 with time taken 4.04 secs\n",
            "Epoch 15 Batch 2700 Loss 2.2867 Accuracy 0.5600 with time taken 4.14 secs\n",
            "Epoch 15 Batch 2750 Loss 2.2863 Accuracy 0.5600 with time taken 4.08 secs\n",
            "Epoch 15 Batch 2800 Loss 2.2863 Accuracy 0.5600 with time taken 4.08 secs\n",
            "Epoch 15 Batch 2850 Loss 2.2865 Accuracy 0.5600 with time taken 4.28 secs\n",
            "Epoch 15 Batch 2900 Loss 2.2862 Accuracy 0.5600 with time taken 4.13 secs\n",
            "Epoch 15 Batch 2950 Loss 2.2864 Accuracy 0.5600 with time taken 4.20 secs\n",
            "Epoch 15 Batch 3000 Loss 2.2859 Accuracy 0.5601 with time taken 4.13 secs\n",
            "Epoch 15 Batch 3050 Loss 2.2856 Accuracy 0.5601 with time taken 4.22 secs\n",
            "Epoch 15 Batch 3100 Loss 2.2859 Accuracy 0.5601 with time taken 4.05 secs\n",
            "Epoch 15 Batch 3150 Loss 2.2855 Accuracy 0.5602 with time taken 4.10 secs\n",
            "Epoch 15 Batch 3200 Loss 2.2853 Accuracy 0.5602 with time taken 4.08 secs\n",
            "Epoch 15 Batch 3250 Loss 2.2854 Accuracy 0.5602 with time taken 4.13 secs\n",
            "Saving checkpoint for epoch 15 at drive/MyDrive/models/transformer_ru_en_v2/ckpt-15\n",
            "Epoch 15 Loss 2.2854 Accuracy 0.5602\n",
            "Time taken for 1 epoch: 270.63 secs\n",
            "\n",
            "Epoch 16 Batch 0 Loss 2.5361 Accuracy 0.5285 with time taken 0.56 secs\n",
            "Epoch 16 Batch 50 Loss 2.2846 Accuracy 0.5590 with time taken 4.16 secs\n",
            "Epoch 16 Batch 100 Loss 2.2819 Accuracy 0.5591 with time taken 4.16 secs\n",
            "Epoch 16 Batch 150 Loss 2.2807 Accuracy 0.5591 with time taken 4.22 secs\n",
            "Epoch 16 Batch 200 Loss 2.2751 Accuracy 0.5608 with time taken 4.11 secs\n",
            "Epoch 16 Batch 250 Loss 2.2772 Accuracy 0.5602 with time taken 4.06 secs\n",
            "Epoch 16 Batch 300 Loss 2.2722 Accuracy 0.5612 with time taken 4.11 secs\n",
            "Epoch 16 Batch 350 Loss 2.2707 Accuracy 0.5615 with time taken 4.12 secs\n",
            "Epoch 16 Batch 400 Loss 2.2722 Accuracy 0.5613 with time taken 4.15 secs\n",
            "Epoch 16 Batch 450 Loss 2.2723 Accuracy 0.5613 with time taken 4.14 secs\n",
            "Epoch 16 Batch 500 Loss 2.2719 Accuracy 0.5612 with time taken 4.19 secs\n",
            "Epoch 16 Batch 550 Loss 2.2743 Accuracy 0.5609 with time taken 4.18 secs\n",
            "Epoch 16 Batch 600 Loss 2.2729 Accuracy 0.5610 with time taken 4.33 secs\n",
            "Epoch 16 Batch 650 Loss 2.2703 Accuracy 0.5616 with time taken 4.20 secs\n",
            "Epoch 16 Batch 700 Loss 2.2712 Accuracy 0.5615 with time taken 4.19 secs\n",
            "Epoch 16 Batch 750 Loss 2.2702 Accuracy 0.5618 with time taken 4.14 secs\n",
            "Epoch 16 Batch 800 Loss 2.2698 Accuracy 0.5618 with time taken 4.17 secs\n",
            "Epoch 16 Batch 850 Loss 2.2687 Accuracy 0.5619 with time taken 4.02 secs\n",
            "Epoch 16 Batch 900 Loss 2.2694 Accuracy 0.5619 with time taken 4.17 secs\n",
            "Epoch 16 Batch 950 Loss 2.2691 Accuracy 0.5619 with time taken 4.12 secs\n",
            "Epoch 16 Batch 1000 Loss 2.2691 Accuracy 0.5619 with time taken 3.99 secs\n",
            "Epoch 16 Batch 1050 Loss 2.2685 Accuracy 0.5621 with time taken 3.97 secs\n",
            "Epoch 16 Batch 1100 Loss 2.2677 Accuracy 0.5622 with time taken 4.11 secs\n",
            "Epoch 16 Batch 1150 Loss 2.2677 Accuracy 0.5621 with time taken 4.06 secs\n",
            "Epoch 16 Batch 1200 Loss 2.2681 Accuracy 0.5621 with time taken 4.17 secs\n",
            "Epoch 16 Batch 1250 Loss 2.2672 Accuracy 0.5621 with time taken 4.10 secs\n",
            "Epoch 16 Batch 1300 Loss 2.2668 Accuracy 0.5622 with time taken 4.21 secs\n",
            "Epoch 16 Batch 1350 Loss 2.2669 Accuracy 0.5621 with time taken 4.12 secs\n",
            "Epoch 16 Batch 1400 Loss 2.2666 Accuracy 0.5622 with time taken 4.15 secs\n",
            "Epoch 16 Batch 1450 Loss 2.2667 Accuracy 0.5622 with time taken 4.05 secs\n",
            "Epoch 16 Batch 1500 Loss 2.2673 Accuracy 0.5623 with time taken 4.06 secs\n",
            "Epoch 16 Batch 1550 Loss 2.2671 Accuracy 0.5623 with time taken 4.11 secs\n",
            "Epoch 16 Batch 1600 Loss 2.2675 Accuracy 0.5623 with time taken 4.19 secs\n",
            "Epoch 16 Batch 1650 Loss 2.2674 Accuracy 0.5623 with time taken 4.17 secs\n",
            "Epoch 16 Batch 1700 Loss 2.2675 Accuracy 0.5622 with time taken 4.07 secs\n",
            "Epoch 16 Batch 1750 Loss 2.2665 Accuracy 0.5624 with time taken 4.12 secs\n",
            "Epoch 16 Batch 1800 Loss 2.2663 Accuracy 0.5624 with time taken 4.06 secs\n",
            "Epoch 16 Batch 1850 Loss 2.2663 Accuracy 0.5624 with time taken 4.08 secs\n",
            "Epoch 16 Batch 1900 Loss 2.2659 Accuracy 0.5624 with time taken 4.23 secs\n",
            "Epoch 16 Batch 1950 Loss 2.2657 Accuracy 0.5624 with time taken 4.35 secs\n",
            "Epoch 16 Batch 2000 Loss 2.2653 Accuracy 0.5625 with time taken 4.10 secs\n",
            "Epoch 16 Batch 2050 Loss 2.2660 Accuracy 0.5624 with time taken 4.08 secs\n",
            "Epoch 16 Batch 2100 Loss 2.2657 Accuracy 0.5625 with time taken 4.24 secs\n",
            "Epoch 16 Batch 2150 Loss 2.2656 Accuracy 0.5625 with time taken 4.25 secs\n",
            "Epoch 16 Batch 2200 Loss 2.2654 Accuracy 0.5625 with time taken 4.12 secs\n",
            "Epoch 16 Batch 2250 Loss 2.2646 Accuracy 0.5626 with time taken 4.14 secs\n",
            "Epoch 16 Batch 2300 Loss 2.2649 Accuracy 0.5625 with time taken 4.04 secs\n",
            "Epoch 16 Batch 2350 Loss 2.2651 Accuracy 0.5625 with time taken 4.31 secs\n",
            "Epoch 16 Batch 2400 Loss 2.2651 Accuracy 0.5625 with time taken 4.10 secs\n",
            "Epoch 16 Batch 2450 Loss 2.2648 Accuracy 0.5625 with time taken 4.05 secs\n",
            "Epoch 16 Batch 2500 Loss 2.2649 Accuracy 0.5625 with time taken 4.07 secs\n",
            "Epoch 16 Batch 2550 Loss 2.2649 Accuracy 0.5625 with time taken 3.99 secs\n",
            "Epoch 16 Batch 2600 Loss 2.2653 Accuracy 0.5625 with time taken 4.04 secs\n",
            "Epoch 16 Batch 2650 Loss 2.2645 Accuracy 0.5626 with time taken 4.03 secs\n",
            "Epoch 16 Batch 2700 Loss 2.2639 Accuracy 0.5626 with time taken 4.07 secs\n",
            "Epoch 16 Batch 2750 Loss 2.2638 Accuracy 0.5626 with time taken 4.15 secs\n",
            "Epoch 16 Batch 2800 Loss 2.2641 Accuracy 0.5626 with time taken 4.20 secs\n",
            "Epoch 16 Batch 2850 Loss 2.2641 Accuracy 0.5626 with time taken 4.18 secs\n",
            "Epoch 16 Batch 2900 Loss 2.2637 Accuracy 0.5626 with time taken 4.18 secs\n",
            "Epoch 16 Batch 2950 Loss 2.2638 Accuracy 0.5626 with time taken 4.12 secs\n",
            "Epoch 16 Batch 3000 Loss 2.2636 Accuracy 0.5627 with time taken 4.20 secs\n",
            "Epoch 16 Batch 3050 Loss 2.2633 Accuracy 0.5627 with time taken 4.10 secs\n",
            "Epoch 16 Batch 3100 Loss 2.2637 Accuracy 0.5627 with time taken 4.17 secs\n",
            "Epoch 16 Batch 3150 Loss 2.2635 Accuracy 0.5627 with time taken 4.23 secs\n",
            "Epoch 16 Batch 3200 Loss 2.2637 Accuracy 0.5627 with time taken 4.04 secs\n",
            "Epoch 16 Batch 3250 Loss 2.2636 Accuracy 0.5627 with time taken 4.16 secs\n",
            "Saving checkpoint for epoch 16 at drive/MyDrive/models/transformer_ru_en_v2/ckpt-16\n",
            "Epoch 16 Loss 2.2636 Accuracy 0.5627\n",
            "Time taken for 1 epoch: 269.73 secs\n",
            "\n",
            "Epoch 17 Batch 0 Loss 2.4880 Accuracy 0.5271 with time taken 0.60 secs\n",
            "Epoch 17 Batch 50 Loss 2.2420 Accuracy 0.5642 with time taken 4.05 secs\n",
            "Epoch 17 Batch 100 Loss 2.2393 Accuracy 0.5653 with time taken 4.15 secs\n",
            "Epoch 17 Batch 150 Loss 2.2440 Accuracy 0.5648 with time taken 4.24 secs\n",
            "Epoch 17 Batch 200 Loss 2.2464 Accuracy 0.5646 with time taken 4.17 secs\n",
            "Epoch 17 Batch 250 Loss 2.2503 Accuracy 0.5639 with time taken 4.21 secs\n",
            "Epoch 17 Batch 300 Loss 2.2458 Accuracy 0.5652 with time taken 4.12 secs\n",
            "Epoch 17 Batch 350 Loss 2.2485 Accuracy 0.5649 with time taken 4.19 secs\n",
            "Epoch 17 Batch 400 Loss 2.2507 Accuracy 0.5647 with time taken 4.09 secs\n",
            "Epoch 17 Batch 450 Loss 2.2516 Accuracy 0.5642 with time taken 4.26 secs\n",
            "Epoch 17 Batch 500 Loss 2.2529 Accuracy 0.5640 with time taken 4.12 secs\n",
            "Epoch 17 Batch 550 Loss 2.2526 Accuracy 0.5641 with time taken 4.19 secs\n",
            "Epoch 17 Batch 600 Loss 2.2502 Accuracy 0.5645 with time taken 4.15 secs\n",
            "Epoch 17 Batch 650 Loss 2.2495 Accuracy 0.5645 with time taken 4.09 secs\n",
            "Epoch 17 Batch 700 Loss 2.2495 Accuracy 0.5645 with time taken 3.96 secs\n",
            "Epoch 17 Batch 750 Loss 2.2482 Accuracy 0.5647 with time taken 4.18 secs\n",
            "Epoch 17 Batch 800 Loss 2.2487 Accuracy 0.5646 with time taken 4.08 secs\n",
            "Epoch 17 Batch 850 Loss 2.2482 Accuracy 0.5647 with time taken 4.07 secs\n",
            "Epoch 17 Batch 900 Loss 2.2472 Accuracy 0.5648 with time taken 4.15 secs\n",
            "Epoch 17 Batch 950 Loss 2.2480 Accuracy 0.5647 with time taken 4.13 secs\n",
            "Epoch 17 Batch 1000 Loss 2.2475 Accuracy 0.5648 with time taken 4.18 secs\n",
            "Epoch 17 Batch 1050 Loss 2.2471 Accuracy 0.5648 with time taken 4.28 secs\n",
            "Epoch 17 Batch 1100 Loss 2.2472 Accuracy 0.5648 with time taken 4.12 secs\n",
            "Epoch 17 Batch 1150 Loss 2.2474 Accuracy 0.5648 with time taken 4.10 secs\n",
            "Epoch 17 Batch 1200 Loss 2.2473 Accuracy 0.5649 with time taken 4.24 secs\n",
            "Epoch 17 Batch 1250 Loss 2.2466 Accuracy 0.5650 with time taken 4.17 secs\n",
            "Epoch 17 Batch 1300 Loss 2.2470 Accuracy 0.5650 with time taken 4.14 secs\n",
            "Epoch 17 Batch 1350 Loss 2.2460 Accuracy 0.5652 with time taken 4.13 secs\n",
            "Epoch 17 Batch 1400 Loss 2.2468 Accuracy 0.5651 with time taken 4.01 secs\n",
            "Epoch 17 Batch 1450 Loss 2.2472 Accuracy 0.5651 with time taken 4.10 secs\n",
            "Epoch 17 Batch 1500 Loss 2.2478 Accuracy 0.5650 with time taken 4.17 secs\n",
            "Epoch 17 Batch 1550 Loss 2.2475 Accuracy 0.5650 with time taken 4.11 secs\n",
            "Epoch 17 Batch 1600 Loss 2.2473 Accuracy 0.5651 with time taken 4.06 secs\n",
            "Epoch 17 Batch 1650 Loss 2.2471 Accuracy 0.5651 with time taken 4.10 secs\n",
            "Epoch 17 Batch 1700 Loss 2.2464 Accuracy 0.5651 with time taken 4.19 secs\n",
            "Epoch 17 Batch 1750 Loss 2.2462 Accuracy 0.5651 with time taken 4.27 secs\n",
            "Epoch 17 Batch 1800 Loss 2.2457 Accuracy 0.5652 with time taken 4.07 secs\n",
            "Epoch 17 Batch 1850 Loss 2.2452 Accuracy 0.5652 with time taken 4.05 secs\n",
            "Epoch 17 Batch 1900 Loss 2.2458 Accuracy 0.5652 with time taken 4.14 secs\n",
            "Epoch 17 Batch 1950 Loss 2.2465 Accuracy 0.5651 with time taken 4.10 secs\n",
            "Epoch 17 Batch 2000 Loss 2.2467 Accuracy 0.5650 with time taken 4.09 secs\n",
            "Epoch 17 Batch 2050 Loss 2.2465 Accuracy 0.5651 with time taken 4.23 secs\n",
            "Epoch 17 Batch 2100 Loss 2.2460 Accuracy 0.5652 with time taken 4.13 secs\n",
            "Epoch 17 Batch 2150 Loss 2.2466 Accuracy 0.5651 with time taken 4.25 secs\n",
            "Epoch 17 Batch 2200 Loss 2.2463 Accuracy 0.5651 with time taken 4.11 secs\n",
            "Epoch 17 Batch 2250 Loss 2.2463 Accuracy 0.5651 with time taken 4.26 secs\n",
            "Epoch 17 Batch 2300 Loss 2.2461 Accuracy 0.5652 with time taken 4.04 secs\n",
            "Epoch 17 Batch 2350 Loss 2.2456 Accuracy 0.5653 with time taken 4.09 secs\n",
            "Epoch 17 Batch 2400 Loss 2.2454 Accuracy 0.5653 with time taken 4.09 secs\n",
            "Epoch 17 Batch 2450 Loss 2.2453 Accuracy 0.5653 with time taken 4.10 secs\n",
            "Epoch 17 Batch 2500 Loss 2.2456 Accuracy 0.5652 with time taken 4.17 secs\n",
            "Epoch 17 Batch 2550 Loss 2.2456 Accuracy 0.5652 with time taken 4.28 secs\n",
            "Epoch 17 Batch 2600 Loss 2.2450 Accuracy 0.5654 with time taken 4.14 secs\n",
            "Epoch 17 Batch 2650 Loss 2.2449 Accuracy 0.5654 with time taken 4.07 secs\n",
            "Epoch 17 Batch 2700 Loss 2.2446 Accuracy 0.5655 with time taken 4.06 secs\n",
            "Epoch 17 Batch 2750 Loss 2.2445 Accuracy 0.5655 with time taken 4.14 secs\n",
            "Epoch 17 Batch 2800 Loss 2.2443 Accuracy 0.5655 with time taken 4.18 secs\n",
            "Epoch 17 Batch 2850 Loss 2.2441 Accuracy 0.5656 with time taken 4.18 secs\n",
            "Epoch 17 Batch 2900 Loss 2.2442 Accuracy 0.5655 with time taken 4.11 secs\n",
            "Epoch 17 Batch 2950 Loss 2.2444 Accuracy 0.5655 with time taken 4.22 secs\n",
            "Epoch 17 Batch 3000 Loss 2.2438 Accuracy 0.5656 with time taken 4.15 secs\n",
            "Epoch 17 Batch 3050 Loss 2.2438 Accuracy 0.5655 with time taken 4.27 secs\n",
            "Epoch 17 Batch 3100 Loss 2.2434 Accuracy 0.5656 with time taken 4.13 secs\n",
            "Epoch 17 Batch 3150 Loss 2.2438 Accuracy 0.5655 with time taken 4.19 secs\n",
            "Epoch 17 Batch 3200 Loss 2.2437 Accuracy 0.5655 with time taken 4.14 secs\n",
            "Epoch 17 Batch 3250 Loss 2.2435 Accuracy 0.5655 with time taken 4.10 secs\n",
            "Saving checkpoint for epoch 17 at drive/MyDrive/models/transformer_ru_en_v2/ckpt-17\n",
            "Epoch 17 Loss 2.2435 Accuracy 0.5655\n",
            "Time taken for 1 epoch: 270.33 secs\n",
            "\n",
            "Epoch 18 Batch 0 Loss 2.0165 Accuracy 0.6039 with time taken 0.58 secs\n",
            "Epoch 18 Batch 50 Loss 2.2643 Accuracy 0.5615 with time taken 4.09 secs\n",
            "Epoch 18 Batch 100 Loss 2.2541 Accuracy 0.5643 with time taken 4.29 secs\n",
            "Epoch 18 Batch 150 Loss 2.2415 Accuracy 0.5651 with time taken 4.22 secs\n",
            "Epoch 18 Batch 200 Loss 2.2377 Accuracy 0.5659 with time taken 4.03 secs\n",
            "Epoch 18 Batch 250 Loss 2.2402 Accuracy 0.5658 with time taken 4.08 secs\n",
            "Epoch 18 Batch 300 Loss 2.2379 Accuracy 0.5662 with time taken 4.10 secs\n",
            "Epoch 18 Batch 350 Loss 2.2339 Accuracy 0.5668 with time taken 4.09 secs\n",
            "Epoch 18 Batch 400 Loss 2.2342 Accuracy 0.5666 with time taken 4.14 secs\n",
            "Epoch 18 Batch 450 Loss 2.2369 Accuracy 0.5663 with time taken 4.08 secs\n",
            "Epoch 18 Batch 500 Loss 2.2363 Accuracy 0.5665 with time taken 4.13 secs\n",
            "Epoch 18 Batch 550 Loss 2.2349 Accuracy 0.5666 with time taken 4.21 secs\n",
            "Epoch 18 Batch 600 Loss 2.2362 Accuracy 0.5665 with time taken 4.11 secs\n",
            "Epoch 18 Batch 650 Loss 2.2343 Accuracy 0.5670 with time taken 4.11 secs\n",
            "Epoch 18 Batch 700 Loss 2.2330 Accuracy 0.5671 with time taken 4.21 secs\n",
            "Epoch 18 Batch 750 Loss 2.2310 Accuracy 0.5675 with time taken 4.21 secs\n",
            "Epoch 18 Batch 800 Loss 2.2311 Accuracy 0.5675 with time taken 4.03 secs\n",
            "Epoch 18 Batch 850 Loss 2.2300 Accuracy 0.5676 with time taken 4.17 secs\n",
            "Epoch 18 Batch 900 Loss 2.2301 Accuracy 0.5675 with time taken 4.00 secs\n",
            "Epoch 18 Batch 950 Loss 2.2282 Accuracy 0.5678 with time taken 4.22 secs\n",
            "Epoch 18 Batch 1000 Loss 2.2277 Accuracy 0.5680 with time taken 4.05 secs\n",
            "Epoch 18 Batch 1050 Loss 2.2288 Accuracy 0.5678 with time taken 4.19 secs\n",
            "Epoch 18 Batch 1100 Loss 2.2286 Accuracy 0.5679 with time taken 4.14 secs\n",
            "Epoch 18 Batch 1150 Loss 2.2287 Accuracy 0.5679 with time taken 4.11 secs\n",
            "Epoch 18 Batch 1200 Loss 2.2273 Accuracy 0.5679 with time taken 4.06 secs\n",
            "Epoch 18 Batch 1250 Loss 2.2262 Accuracy 0.5680 with time taken 4.16 secs\n",
            "Epoch 18 Batch 1300 Loss 2.2274 Accuracy 0.5678 with time taken 4.22 secs\n",
            "Epoch 18 Batch 1350 Loss 2.2279 Accuracy 0.5678 with time taken 4.22 secs\n",
            "Epoch 18 Batch 1400 Loss 2.2291 Accuracy 0.5676 with time taken 4.15 secs\n",
            "Epoch 18 Batch 1450 Loss 2.2285 Accuracy 0.5677 with time taken 4.20 secs\n",
            "Epoch 18 Batch 1500 Loss 2.2275 Accuracy 0.5679 with time taken 4.32 secs\n",
            "Epoch 18 Batch 1550 Loss 2.2278 Accuracy 0.5679 with time taken 4.18 secs\n",
            "Epoch 18 Batch 1600 Loss 2.2279 Accuracy 0.5678 with time taken 4.16 secs\n",
            "Epoch 18 Batch 1650 Loss 2.2282 Accuracy 0.5678 with time taken 3.98 secs\n",
            "Epoch 18 Batch 1700 Loss 2.2277 Accuracy 0.5678 with time taken 4.14 secs\n",
            "Epoch 18 Batch 1750 Loss 2.2280 Accuracy 0.5678 with time taken 4.13 secs\n",
            "Epoch 18 Batch 1800 Loss 2.2283 Accuracy 0.5677 with time taken 4.14 secs\n",
            "Epoch 18 Batch 1850 Loss 2.2283 Accuracy 0.5677 with time taken 4.10 secs\n",
            "Epoch 18 Batch 1900 Loss 2.2280 Accuracy 0.5677 with time taken 4.02 secs\n",
            "Epoch 18 Batch 1950 Loss 2.2281 Accuracy 0.5677 with time taken 4.19 secs\n",
            "Epoch 18 Batch 2000 Loss 2.2277 Accuracy 0.5677 with time taken 4.16 secs\n",
            "Epoch 18 Batch 2050 Loss 2.2278 Accuracy 0.5677 with time taken 4.07 secs\n",
            "Epoch 18 Batch 2100 Loss 2.2276 Accuracy 0.5678 with time taken 4.21 secs\n",
            "Epoch 18 Batch 2150 Loss 2.2275 Accuracy 0.5678 with time taken 4.13 secs\n",
            "Epoch 18 Batch 2200 Loss 2.2274 Accuracy 0.5679 with time taken 4.29 secs\n",
            "Epoch 18 Batch 2250 Loss 2.2280 Accuracy 0.5677 with time taken 4.11 secs\n",
            "Epoch 18 Batch 2300 Loss 2.2278 Accuracy 0.5677 with time taken 4.05 secs\n",
            "Epoch 18 Batch 2350 Loss 2.2280 Accuracy 0.5677 with time taken 4.10 secs\n",
            "Epoch 18 Batch 2400 Loss 2.2276 Accuracy 0.5678 with time taken 4.12 secs\n",
            "Epoch 18 Batch 2450 Loss 2.2275 Accuracy 0.5678 with time taken 4.20 secs\n",
            "Epoch 18 Batch 2500 Loss 2.2278 Accuracy 0.5678 with time taken 4.20 secs\n",
            "Epoch 18 Batch 2550 Loss 2.2276 Accuracy 0.5678 with time taken 4.11 secs\n",
            "Epoch 18 Batch 2600 Loss 2.2270 Accuracy 0.5679 with time taken 4.17 secs\n",
            "Epoch 18 Batch 2650 Loss 2.2271 Accuracy 0.5679 with time taken 4.16 secs\n",
            "Epoch 18 Batch 2700 Loss 2.2269 Accuracy 0.5679 with time taken 4.09 secs\n",
            "Epoch 18 Batch 2750 Loss 2.2270 Accuracy 0.5679 with time taken 4.17 secs\n",
            "Epoch 18 Batch 2800 Loss 2.2272 Accuracy 0.5679 with time taken 4.11 secs\n",
            "Epoch 18 Batch 2850 Loss 2.2271 Accuracy 0.5679 with time taken 4.17 secs\n",
            "Epoch 18 Batch 2900 Loss 2.2272 Accuracy 0.5678 with time taken 4.18 secs\n",
            "Epoch 18 Batch 2950 Loss 2.2267 Accuracy 0.5679 with time taken 4.16 secs\n",
            "Epoch 18 Batch 3000 Loss 2.2264 Accuracy 0.5680 with time taken 4.18 secs\n",
            "Epoch 18 Batch 3050 Loss 2.2266 Accuracy 0.5680 with time taken 4.11 secs\n",
            "Epoch 18 Batch 3100 Loss 2.2266 Accuracy 0.5680 with time taken 4.16 secs\n",
            "Epoch 18 Batch 3150 Loss 2.2267 Accuracy 0.5680 with time taken 4.18 secs\n",
            "Epoch 18 Batch 3200 Loss 2.2265 Accuracy 0.5680 with time taken 4.20 secs\n",
            "Epoch 18 Batch 3250 Loss 2.2262 Accuracy 0.5680 with time taken 4.10 secs\n",
            "Saving checkpoint for epoch 18 at drive/MyDrive/models/transformer_ru_en_v2/ckpt-18\n",
            "Epoch 18 Loss 2.2262 Accuracy 0.5680\n",
            "Time taken for 1 epoch: 270.36 secs\n",
            "\n",
            "Epoch 19 Batch 0 Loss 2.1587 Accuracy 0.5764 with time taken 0.56 secs\n",
            "Epoch 19 Batch 50 Loss 2.2056 Accuracy 0.5687 with time taken 4.14 secs\n",
            "Epoch 19 Batch 100 Loss 2.2133 Accuracy 0.5684 with time taken 4.31 secs\n",
            "Epoch 19 Batch 150 Loss 2.2204 Accuracy 0.5677 with time taken 4.30 secs\n",
            "Epoch 19 Batch 200 Loss 2.2222 Accuracy 0.5681 with time taken 4.13 secs\n",
            "Epoch 19 Batch 250 Loss 2.2232 Accuracy 0.5678 with time taken 4.05 secs\n",
            "Epoch 19 Batch 300 Loss 2.2179 Accuracy 0.5690 with time taken 4.09 secs\n",
            "Epoch 19 Batch 350 Loss 2.2194 Accuracy 0.5688 with time taken 4.25 secs\n",
            "Epoch 19 Batch 400 Loss 2.2195 Accuracy 0.5685 with time taken 4.15 secs\n",
            "Epoch 19 Batch 450 Loss 2.2179 Accuracy 0.5689 with time taken 4.10 secs\n",
            "Epoch 19 Batch 500 Loss 2.2196 Accuracy 0.5689 with time taken 4.13 secs\n",
            "Epoch 19 Batch 550 Loss 2.2211 Accuracy 0.5687 with time taken 4.23 secs\n",
            "Epoch 19 Batch 600 Loss 2.2207 Accuracy 0.5688 with time taken 4.06 secs\n",
            "Epoch 19 Batch 650 Loss 2.2195 Accuracy 0.5688 with time taken 4.09 secs\n",
            "Epoch 19 Batch 700 Loss 2.2164 Accuracy 0.5694 with time taken 4.18 secs\n",
            "Epoch 19 Batch 750 Loss 2.2150 Accuracy 0.5695 with time taken 4.19 secs\n",
            "Epoch 19 Batch 800 Loss 2.2149 Accuracy 0.5695 with time taken 3.98 secs\n",
            "Epoch 19 Batch 850 Loss 2.2156 Accuracy 0.5694 with time taken 4.11 secs\n",
            "Epoch 19 Batch 900 Loss 2.2145 Accuracy 0.5694 with time taken 4.19 secs\n",
            "Epoch 19 Batch 950 Loss 2.2137 Accuracy 0.5695 with time taken 4.20 secs\n",
            "Epoch 19 Batch 1000 Loss 2.2135 Accuracy 0.5694 with time taken 4.00 secs\n",
            "Epoch 19 Batch 1050 Loss 2.2124 Accuracy 0.5696 with time taken 4.21 secs\n",
            "Epoch 19 Batch 1100 Loss 2.2126 Accuracy 0.5696 with time taken 4.01 secs\n",
            "Epoch 19 Batch 1150 Loss 2.2114 Accuracy 0.5697 with time taken 4.04 secs\n",
            "Epoch 19 Batch 1200 Loss 2.2119 Accuracy 0.5696 with time taken 4.16 secs\n",
            "Epoch 19 Batch 1250 Loss 2.2104 Accuracy 0.5698 with time taken 4.10 secs\n",
            "Epoch 19 Batch 1300 Loss 2.2117 Accuracy 0.5697 with time taken 4.21 secs\n",
            "Epoch 19 Batch 1350 Loss 2.2106 Accuracy 0.5698 with time taken 4.14 secs\n",
            "Epoch 19 Batch 1400 Loss 2.2108 Accuracy 0.5699 with time taken 4.20 secs\n",
            "Epoch 19 Batch 1450 Loss 2.2117 Accuracy 0.5696 with time taken 4.09 secs\n",
            "Epoch 19 Batch 1500 Loss 2.2116 Accuracy 0.5697 with time taken 4.12 secs\n",
            "Epoch 19 Batch 1550 Loss 2.2107 Accuracy 0.5699 with time taken 4.06 secs\n",
            "Epoch 19 Batch 1600 Loss 2.2115 Accuracy 0.5697 with time taken 4.17 secs\n",
            "Epoch 19 Batch 1650 Loss 2.2117 Accuracy 0.5698 with time taken 4.13 secs\n",
            "Epoch 19 Batch 1700 Loss 2.2116 Accuracy 0.5698 with time taken 4.18 secs\n",
            "Epoch 19 Batch 1750 Loss 2.2117 Accuracy 0.5698 with time taken 4.07 secs\n",
            "Epoch 19 Batch 1800 Loss 2.2117 Accuracy 0.5698 with time taken 4.21 secs\n",
            "Epoch 19 Batch 1850 Loss 2.2122 Accuracy 0.5698 with time taken 4.19 secs\n",
            "Epoch 19 Batch 1900 Loss 2.2119 Accuracy 0.5698 with time taken 4.08 secs\n",
            "Epoch 19 Batch 1950 Loss 2.2111 Accuracy 0.5700 with time taken 4.10 secs\n",
            "Epoch 19 Batch 2000 Loss 2.2115 Accuracy 0.5700 with time taken 4.31 secs\n",
            "Epoch 19 Batch 2050 Loss 2.2122 Accuracy 0.5698 with time taken 4.23 secs\n",
            "Epoch 19 Batch 2100 Loss 2.2119 Accuracy 0.5699 with time taken 4.19 secs\n",
            "Epoch 19 Batch 2150 Loss 2.2121 Accuracy 0.5699 with time taken 4.21 secs\n",
            "Epoch 19 Batch 2200 Loss 2.2119 Accuracy 0.5699 with time taken 4.12 secs\n",
            "Epoch 19 Batch 2250 Loss 2.2117 Accuracy 0.5699 with time taken 4.09 secs\n",
            "Epoch 19 Batch 2300 Loss 2.2109 Accuracy 0.5700 with time taken 4.25 secs\n",
            "Epoch 19 Batch 2350 Loss 2.2108 Accuracy 0.5701 with time taken 4.13 secs\n",
            "Epoch 19 Batch 2400 Loss 2.2107 Accuracy 0.5701 with time taken 4.14 secs\n",
            "Epoch 19 Batch 2450 Loss 2.2102 Accuracy 0.5702 with time taken 4.18 secs\n",
            "Epoch 19 Batch 2500 Loss 2.2098 Accuracy 0.5702 with time taken 4.14 secs\n",
            "Epoch 19 Batch 2550 Loss 2.2096 Accuracy 0.5702 with time taken 4.09 secs\n",
            "Epoch 19 Batch 2600 Loss 2.2098 Accuracy 0.5702 with time taken 4.10 secs\n",
            "Epoch 19 Batch 2650 Loss 2.2092 Accuracy 0.5703 with time taken 4.02 secs\n",
            "Epoch 19 Batch 2700 Loss 2.2091 Accuracy 0.5703 with time taken 4.20 secs\n",
            "Epoch 19 Batch 2750 Loss 2.2091 Accuracy 0.5703 with time taken 4.09 secs\n",
            "Epoch 19 Batch 2800 Loss 2.2088 Accuracy 0.5703 with time taken 4.18 secs\n",
            "Epoch 19 Batch 2850 Loss 2.2091 Accuracy 0.5703 with time taken 4.12 secs\n",
            "Epoch 19 Batch 2900 Loss 2.2095 Accuracy 0.5703 with time taken 4.21 secs\n",
            "Epoch 19 Batch 2950 Loss 2.2091 Accuracy 0.5704 with time taken 4.12 secs\n",
            "Epoch 19 Batch 3000 Loss 2.2094 Accuracy 0.5704 with time taken 4.15 secs\n",
            "Epoch 19 Batch 3050 Loss 2.2090 Accuracy 0.5704 with time taken 4.22 secs\n",
            "Epoch 19 Batch 3100 Loss 2.2088 Accuracy 0.5704 with time taken 4.17 secs\n",
            "Epoch 19 Batch 3150 Loss 2.2084 Accuracy 0.5705 with time taken 4.04 secs\n",
            "Epoch 19 Batch 3200 Loss 2.2085 Accuracy 0.5705 with time taken 4.26 secs\n",
            "Epoch 19 Batch 3250 Loss 2.2087 Accuracy 0.5704 with time taken 4.09 secs\n",
            "Saving checkpoint for epoch 19 at drive/MyDrive/models/transformer_ru_en_v2/ckpt-19\n",
            "Epoch 19 Loss 2.2087 Accuracy 0.5704\n",
            "Time taken for 1 epoch: 270.54 secs\n",
            "\n",
            "Epoch 20 Batch 0 Loss 2.1980 Accuracy 0.5595 with time taken 0.56 secs\n",
            "Epoch 20 Batch 50 Loss 2.2381 Accuracy 0.5656 with time taken 4.19 secs\n",
            "Epoch 20 Batch 100 Loss 2.2250 Accuracy 0.5665 with time taken 4.10 secs\n",
            "Epoch 20 Batch 150 Loss 2.2126 Accuracy 0.5682 with time taken 4.37 secs\n",
            "Epoch 20 Batch 200 Loss 2.2100 Accuracy 0.5689 with time taken 4.16 secs\n",
            "Epoch 20 Batch 250 Loss 2.2100 Accuracy 0.5695 with time taken 4.03 secs\n",
            "Epoch 20 Batch 300 Loss 2.2070 Accuracy 0.5701 with time taken 4.08 secs\n",
            "Epoch 20 Batch 350 Loss 2.2036 Accuracy 0.5708 with time taken 4.10 secs\n",
            "Epoch 20 Batch 400 Loss 2.2036 Accuracy 0.5705 with time taken 4.11 secs\n",
            "Epoch 20 Batch 450 Loss 2.2013 Accuracy 0.5709 with time taken 4.12 secs\n",
            "Epoch 20 Batch 500 Loss 2.2012 Accuracy 0.5710 with time taken 4.15 secs\n",
            "Epoch 20 Batch 550 Loss 2.2021 Accuracy 0.5710 with time taken 4.12 secs\n",
            "Epoch 20 Batch 600 Loss 2.2028 Accuracy 0.5709 with time taken 4.20 secs\n",
            "Epoch 20 Batch 650 Loss 2.2030 Accuracy 0.5708 with time taken 4.14 secs\n",
            "Epoch 20 Batch 700 Loss 2.2014 Accuracy 0.5709 with time taken 4.19 secs\n",
            "Epoch 20 Batch 750 Loss 2.1996 Accuracy 0.5711 with time taken 4.18 secs\n",
            "Epoch 20 Batch 800 Loss 2.1975 Accuracy 0.5713 with time taken 4.13 secs\n",
            "Epoch 20 Batch 850 Loss 2.1964 Accuracy 0.5716 with time taken 4.23 secs\n",
            "Epoch 20 Batch 900 Loss 2.1972 Accuracy 0.5714 with time taken 4.10 secs\n",
            "Epoch 20 Batch 950 Loss 2.1976 Accuracy 0.5713 with time taken 4.12 secs\n",
            "Epoch 20 Batch 1000 Loss 2.1963 Accuracy 0.5715 with time taken 4.12 secs\n",
            "Epoch 20 Batch 1050 Loss 2.1974 Accuracy 0.5713 with time taken 4.09 secs\n",
            "Epoch 20 Batch 1100 Loss 2.1976 Accuracy 0.5713 with time taken 4.09 secs\n",
            "Epoch 20 Batch 1150 Loss 2.1977 Accuracy 0.5712 with time taken 4.18 secs\n",
            "Epoch 20 Batch 1200 Loss 2.1976 Accuracy 0.5714 with time taken 4.18 secs\n",
            "Epoch 20 Batch 1250 Loss 2.1975 Accuracy 0.5714 with time taken 4.18 secs\n",
            "Epoch 20 Batch 1300 Loss 2.1968 Accuracy 0.5715 with time taken 4.07 secs\n",
            "Epoch 20 Batch 1350 Loss 2.1969 Accuracy 0.5716 with time taken 4.10 secs\n",
            "Epoch 20 Batch 1400 Loss 2.1969 Accuracy 0.5716 with time taken 4.06 secs\n",
            "Epoch 20 Batch 1450 Loss 2.1969 Accuracy 0.5717 with time taken 4.17 secs\n",
            "Epoch 20 Batch 1500 Loss 2.1967 Accuracy 0.5717 with time taken 4.05 secs\n",
            "Epoch 20 Batch 1550 Loss 2.1963 Accuracy 0.5718 with time taken 4.15 secs\n",
            "Epoch 20 Batch 1600 Loss 2.1962 Accuracy 0.5719 with time taken 4.23 secs\n",
            "Epoch 20 Batch 1650 Loss 2.1968 Accuracy 0.5718 with time taken 4.34 secs\n",
            "Epoch 20 Batch 1700 Loss 2.1966 Accuracy 0.5718 with time taken 4.19 secs\n",
            "Epoch 20 Batch 1750 Loss 2.1970 Accuracy 0.5718 with time taken 4.15 secs\n",
            "Epoch 20 Batch 1800 Loss 2.1972 Accuracy 0.5718 with time taken 4.17 secs\n",
            "Epoch 20 Batch 1850 Loss 2.1971 Accuracy 0.5718 with time taken 4.17 secs\n",
            "Epoch 20 Batch 1900 Loss 2.1971 Accuracy 0.5717 with time taken 4.22 secs\n",
            "Epoch 20 Batch 1950 Loss 2.1967 Accuracy 0.5718 with time taken 4.11 secs\n",
            "Epoch 20 Batch 2000 Loss 2.1957 Accuracy 0.5719 with time taken 4.23 secs\n",
            "Epoch 20 Batch 2050 Loss 2.1963 Accuracy 0.5718 with time taken 4.17 secs\n",
            "Epoch 20 Batch 2100 Loss 2.1959 Accuracy 0.5719 with time taken 4.23 secs\n",
            "Epoch 20 Batch 2150 Loss 2.1956 Accuracy 0.5720 with time taken 4.20 secs\n",
            "Epoch 20 Batch 2200 Loss 2.1949 Accuracy 0.5721 with time taken 4.18 secs\n",
            "Epoch 20 Batch 2250 Loss 2.1955 Accuracy 0.5720 with time taken 4.18 secs\n",
            "Epoch 20 Batch 2300 Loss 2.1953 Accuracy 0.5720 with time taken 4.13 secs\n",
            "Epoch 20 Batch 2350 Loss 2.1943 Accuracy 0.5722 with time taken 4.31 secs\n",
            "Epoch 20 Batch 2400 Loss 2.1941 Accuracy 0.5722 with time taken 4.29 secs\n",
            "Epoch 20 Batch 2450 Loss 2.1944 Accuracy 0.5722 with time taken 4.23 secs\n",
            "Epoch 20 Batch 2500 Loss 2.1946 Accuracy 0.5721 with time taken 4.09 secs\n",
            "Epoch 20 Batch 2550 Loss 2.1945 Accuracy 0.5722 with time taken 4.14 secs\n",
            "Epoch 20 Batch 2600 Loss 2.1947 Accuracy 0.5721 with time taken 4.14 secs\n",
            "Epoch 20 Batch 2650 Loss 2.1945 Accuracy 0.5722 with time taken 4.13 secs\n",
            "Epoch 20 Batch 2700 Loss 2.1943 Accuracy 0.5722 with time taken 4.15 secs\n",
            "Epoch 20 Batch 2750 Loss 2.1943 Accuracy 0.5722 with time taken 4.13 secs\n",
            "Epoch 20 Batch 2800 Loss 2.1944 Accuracy 0.5722 with time taken 4.19 secs\n",
            "Epoch 20 Batch 2850 Loss 2.1944 Accuracy 0.5722 with time taken 4.15 secs\n",
            "Epoch 20 Batch 2900 Loss 2.1943 Accuracy 0.5722 with time taken 4.23 secs\n",
            "Epoch 20 Batch 2950 Loss 2.1943 Accuracy 0.5722 with time taken 4.18 secs\n",
            "Epoch 20 Batch 3000 Loss 2.1943 Accuracy 0.5722 with time taken 4.15 secs\n",
            "Epoch 20 Batch 3050 Loss 2.1942 Accuracy 0.5722 with time taken 4.13 secs\n",
            "Epoch 20 Batch 3100 Loss 2.1942 Accuracy 0.5722 with time taken 4.22 secs\n",
            "Epoch 20 Batch 3150 Loss 2.1942 Accuracy 0.5723 with time taken 4.07 secs\n",
            "Epoch 20 Batch 3200 Loss 2.1941 Accuracy 0.5723 with time taken 4.25 secs\n",
            "Epoch 20 Batch 3250 Loss 2.1942 Accuracy 0.5722 with time taken 4.12 secs\n",
            "Saving checkpoint for epoch 20 at drive/MyDrive/models/transformer_ru_en_v2/ckpt-20\n",
            "Epoch 20 Loss 2.1942 Accuracy 0.5722\n",
            "Time taken for 1 epoch: 271.55 secs\n",
            "\n"
          ],
          "name": "stdout"
        }
      ]
    },
    {
      "cell_type": "markdown",
      "metadata": {
        "id": "QfcsSWswSdGV"
      },
      "source": [
        "## Evaluate"
      ]
    },
    {
      "cell_type": "markdown",
      "metadata": {
        "id": "y6APsFrgImLW"
      },
      "source": [
        "The following steps are used for evaluation:\n",
        "\n",
        "* Encode the input sentence using the Portuguese tokenizer (`tokenizers.pt`). This is the encoder input.\n",
        "* The decoder input is initialized to the `[START]` token.\n",
        "* Calculate the padding masks and the look ahead masks.\n",
        "* The `decoder` then outputs the predictions by looking at the `encoder output` and its own output (self-attention).\n",
        "* The model makes predictions of the next word for each word in the output. Most of these are redundant. Use the predictrions from the last word.\n",
        "* Concatentate the predicted word to the decoder input and pass it to the decoder.\n",
        "* In this approach, the decoder predicts the next word based on the previous words it predicted.\n",
        "\n",
        "Note: The model used here has less capacity to keep the example relatively faster so the predictions maybe less right. To reproduce the results in the paper, use the entire dataset and base transformer model or transformer XL, by changing the hyperparameters above."
      ]
    },
    {
      "cell_type": "code",
      "metadata": {
        "id": "5buvMlnvyrFm"
      },
      "source": [
        "def evaluate(sentence, max_length=80):\n",
        "  # inp sentence is portuguese, hence adding the start and end token\n",
        "  sentence = tf.convert_to_tensor([sentence])\n",
        "  sentence = tokenizers.ru.tokenize(sentence).to_tensor()\n",
        "\n",
        "  encoder_input = sentence\n",
        "  \n",
        "  # as the target is english, the first word to the transformer should be the\n",
        "  # english start token.\n",
        "  start, end = tokenizers.en.tokenize([''])[0]\n",
        "  output = tf.convert_to_tensor([start])\n",
        "  output = tf.expand_dims(output, 0)\n",
        "    \n",
        "  for i in range(max_length):\n",
        "    enc_padding_mask, combined_mask, dec_padding_mask = create_masks(\n",
        "        encoder_input, output)\n",
        "  \n",
        "    # predictions.shape == (batch_size, seq_len, vocab_size)\n",
        "    predictions, attention_weights = transformer(encoder_input, \n",
        "                                                 output,\n",
        "                                                 False,\n",
        "                                                 enc_padding_mask,\n",
        "                                                 combined_mask,\n",
        "                                                 dec_padding_mask)\n",
        "    \n",
        "    # select the last word from the seq_len dimension\n",
        "    predictions = predictions[: ,-1:, :]  # (batch_size, 1, vocab_size)\n",
        "\n",
        "    predicted_id = tf.argmax(predictions, axis=-1)\n",
        "\n",
        "    # concatentate the predicted_id to the output which is given to the decoder\n",
        "    # as its input.\n",
        "    output = tf.concat([output, predicted_id], axis=-1)\n",
        "    \n",
        "    # return the result if the predicted_id is equal to the end token\n",
        "    if predicted_id == end:\n",
        "      break\n",
        "\n",
        "  # output.shape (1, tokens)\n",
        "  text = tokenizers.en.detokenize(output)[0] # shape: ()\n",
        "  \n",
        "  tokens = tokenizers.en.lookup(output)[0]\n",
        "  \n",
        "  return text, tokens, attention_weights"
      ],
      "execution_count": 141,
      "outputs": []
    },
    {
      "cell_type": "code",
      "metadata": {
        "id": "lU2_yG_vBGza"
      },
      "source": [
        "# Some quick cleanup code, not production thoroughness\n",
        "def cleanup_punctuation(txt):\n",
        "  txt = txt.replace('  ', ' ')\n",
        "  txt = txt.replace('`', '')\n",
        "  txt = txt.replace(\"' \", \"'\")\n",
        "  txt = txt.replace(\"''\", \"'\")\n",
        "  # txt = txt.replace(\" '\", \"'\")\n",
        "  txt = txt.replace(',', '')\n",
        "  txt = txt.replace(',', '')\n",
        "  txt = txt.replace(';', '')\n",
        "  txt = txt.replace('\\. ', '.')\n",
        "  txt = txt.replace('  ', ' ')\n",
        "  txt = txt.lstrip()\n",
        "  txt = txt.rstrip()\n",
        "  return txt\n",
        "\n",
        "def print_translation(sentence, translated_text, reference):\n",
        "\n",
        "  print(f'decoded translated_text={translated_text.numpy().decode(\"utf-8\")}')\n",
        "  translated_text = cleanup_punctuation(translated_text.numpy().decode(\"utf-8\")) \n",
        "\n",
        "  print(f'{\"Input:\":15s}: {sentence}')\n",
        "  print(f'{\"Reference\":15s}: {reference}')\n",
        "  print(f'{\"Prediction\":15s}: {translated_text}')\n",
        "\n",
        "  translated_text_split = translated_text.split(' ')\n",
        "  reference_split = reference.split(' ')\n",
        "\n",
        "  rouge = Rouge()\n",
        "  rouge_scores = rouge.get_scores(translated_text, reference)\n",
        "  print(f\"Rouge-l (f): {100*rouge_scores[0]['rouge-l']['f']:.2f}\")\n",
        "\n",
        "  smoothie = SmoothingFunction().method4\n",
        "\n",
        "  score = sentence_bleu([reference_split], translated_text_split, weights=(1.0,0,0,0), smoothing_function=smoothie)\n",
        "  print(f\"BLEU-1 score: {score*100:.2f}\")\n",
        "  score = sentence_bleu([reference_split], translated_text_split, weights=(0.5,0.5,0,0), smoothing_function=smoothie)\n",
        "  print(f\"BLEU-2 score: {score*100:.2f}\")\n",
        "  score = sentence_bleu([reference_split], translated_text_split, weights=(0.3,0.3,0.3,0), smoothing_function=smoothie)\n",
        "  print(f\"BLEU-3 score: {score*100:.2f}\")\n",
        "  score = sentence_bleu([reference_split], translated_text_split, weights=(0.25,0.25,0.25,0.25), smoothing_function=smoothie)\n",
        "  print(f\"BLEU-4 score: {score*100:.2f}\")\n"
      ],
      "execution_count": 142,
      "outputs": []
    },
    {
      "cell_type": "code",
      "metadata": {
        "id": "YsxrAlvFG8SZ",
        "colab": {
          "base_uri": "https://localhost:8080/"
        },
        "outputId": "cf878e29-5d64-4e3e-cccb-c47034bfea0d"
      },
      "source": [
        "input_sentence = \"У нас есть проблема, которую мы должны решить.\"\n",
        "reference = \"we have a problem that we have to solve .\"\n",
        "\n",
        "translated_text, translated_tokens, attention_weights = evaluate(input_sentence)\n",
        "print_translation(input_sentence, translated_text, reference)"
      ],
      "execution_count": 143,
      "outputs": [
        {
          "output_type": "stream",
          "text": [
            "decoded translated_text=we have a problem that we have to solve .\n",
            "Input:         : У нас есть проблема, которую мы должны решить.\n",
            "Reference      : we have a problem that we have to solve .\n",
            "Prediction     : we have a problem that we have to solve .\n",
            "Rouge-l (f): 100.00\n",
            "BLEU-1 score: 100.00\n",
            "BLEU-2 score: 100.00\n",
            "BLEU-3 score: 100.00\n",
            "BLEU-4 score: 100.00\n"
          ],
          "name": "stdout"
        }
      ]
    },
    {
      "cell_type": "code",
      "metadata": {
        "id": "M0gYQruNcD59",
        "colab": {
          "base_uri": "https://localhost:8080/"
        },
        "outputId": "10dae2a2-e3d1-4330-8508-1c461e3d778e"
      },
      "source": [
        "input_sentence = \"Какой ваш любимый фильм?\"\n",
        "reference = \"what is your favorite movie ?\"\n",
        "\n",
        "translated_text, translated_tokens, attention_weights = evaluate(input_sentence)\n",
        "print_translation(input_sentence, translated_text, reference)"
      ],
      "execution_count": 144,
      "outputs": [
        {
          "output_type": "stream",
          "text": [
            "decoded translated_text=what is your favorite movie ?\n",
            "Input:         : Какой ваш любимый фильм?\n",
            "Reference      : what is your favorite movie ?\n",
            "Prediction     : what is your favorite movie ?\n",
            "Rouge-l (f): 100.00\n",
            "BLEU-1 score: 100.00\n",
            "BLEU-2 score: 100.00\n",
            "BLEU-3 score: 100.00\n",
            "BLEU-4 score: 100.00\n"
          ],
          "name": "stdout"
        }
      ]
    },
    {
      "cell_type": "code",
      "metadata": {
        "id": "Bk0I1eEEOIaI",
        "colab": {
          "base_uri": "https://localhost:8080/"
        },
        "outputId": "426f357c-9dad-4538-c84a-25d1160587c8"
      },
      "source": [
        "input_sentence = \"Вы видели мой кошелек, который я потерял, когда был на работе?\"\n",
        "ground_truth = \"have you seen my wallet that i lost when i was at work ?\"\n",
        "\n",
        "translated_text, translated_tokens, attention_weights = evaluate(input_sentence)\n",
        "print_translation(input_sentence, translated_text, ground_truth)"
      ],
      "execution_count": 145,
      "outputs": [
        {
          "output_type": "stream",
          "text": [
            "decoded translated_text=have you seen my wallet that i lost when i was at work ?\n",
            "Input:         : Вы видели мой кошелек, который я потерял, когда был на работе?\n",
            "Reference      : have you seen my wallet that i lost when i was at work ?\n",
            "Prediction     : have you seen my wallet that i lost when i was at work ?\n",
            "Rouge-l (f): 100.00\n",
            "BLEU-1 score: 100.00\n",
            "BLEU-2 score: 100.00\n",
            "BLEU-3 score: 100.00\n",
            "BLEU-4 score: 100.00\n"
          ],
          "name": "stdout"
        }
      ]
    },
    {
      "cell_type": "code",
      "metadata": {
        "id": "7EH5y_aqI4t1",
        "colab": {
          "base_uri": "https://localhost:8080/"
        },
        "outputId": "8d843f0e-db05-40c2-efea-cb35586724a8"
      },
      "source": [
        "input_sentence = \"и мои соседние дома слышали об этой идее.\"\n",
        "reference = \"and my neighboring homes heard about this idea .\"\n",
        "\n",
        "translated_text, translated_tokens, attention_weights = evaluate(input_sentence)\n",
        "print_translation(input_sentence, translated_text, reference)"
      ],
      "execution_count": 146,
      "outputs": [
        {
          "output_type": "stream",
          "text": [
            "decoded translated_text=and my neighbors , i ' ve heard about this idea .\n",
            "Input:         : и мои соседние дома слышали об этой идее.\n",
            "Reference      : and my neighboring homes heard about this idea .\n",
            "Prediction     : and my neighbors i 've heard about this idea .\n",
            "Rouge-l (f): 70.59\n",
            "BLEU-1 score: 70.00\n",
            "BLEU-2 score: 62.36\n",
            "BLEU-3 score: 56.13\n",
            "BLEU-4 score: 45.18\n"
          ],
          "name": "stdout"
        }
      ]
    },
    {
      "cell_type": "code",
      "metadata": {
        "id": "1mrUG9HgJOI8",
        "colab": {
          "base_uri": "https://localhost:8080/"
        },
        "outputId": "101313f2-0020-4f62-af37-b820b297e8b6"
      },
      "source": [
        "input_sentence = \"Я пошел в магазин за продуктами.\"\n",
        "reference = \"i went to the store to buy some groceries .\"\n",
        "\n",
        "translated_text, translated_tokens, attention_weights = evaluate(input_sentence)\n",
        "print_translation(input_sentence, translated_text, reference)"
      ],
      "execution_count": 147,
      "outputs": [
        {
          "output_type": "stream",
          "text": [
            "decoded translated_text=i went to the store for the products .\n",
            "Input:         : Я пошел в магазин за продуктами.\n",
            "Reference      : i went to the store to buy some groceries .\n",
            "Prediction     : i went to the store for the products .\n",
            "Rouge-l (f): 66.67\n",
            "BLEU-1 score: 59.66\n",
            "BLEU-2 score: 51.66\n",
            "BLEU-3 score: 49.91\n",
            "BLEU-4 score: 41.80\n"
          ],
          "name": "stdout"
        }
      ]
    },
    {
      "cell_type": "markdown",
      "metadata": {
        "id": "_1MxkSZvz0jX"
      },
      "source": [
        "You can pass different layers and attention blocks of the decoder to the `plot` parameter."
      ]
    },
    {
      "cell_type": "markdown",
      "metadata": {
        "id": "S3EQiFUC--Ds"
      },
      "source": [
        "## Attention plots"
      ]
    },
    {
      "cell_type": "markdown",
      "metadata": {
        "id": "hHV2pdXHGz-0"
      },
      "source": [
        "The `evaluate` function also returns a dictionary of attention maps you can use to visualize the internal working of the model:"
      ]
    },
    {
      "cell_type": "code",
      "metadata": {
        "id": "t-kFyiOLH0xg",
        "colab": {
          "base_uri": "https://localhost:8080/"
        },
        "outputId": "4aba517a-55bc-4dda-d619-1e0115d4742e"
      },
      "source": [
        "sentence = \"это первая книга, которую я написал.\"\n",
        "ground_truth = \"this is the first book i ' ve ever done .\"\n",
        "\n",
        "translated_text, translated_tokens, attention_weights = evaluate(sentence)\n",
        "print_translation(sentence, translated_text, ground_truth)"
      ],
      "execution_count": 148,
      "outputs": [
        {
          "output_type": "stream",
          "text": [
            "decoded translated_text=this is the first book i wrote .\n",
            "Input:         : это первая книга, которую я написал.\n",
            "Reference      : this is the first book i ' ve ever done .\n",
            "Prediction     : this is the first book i wrote .\n",
            "Rouge-l (f): 70.59\n",
            "BLEU-1 score: 60.14\n",
            "BLEU-2 score: 54.33\n",
            "BLEU-3 score: 52.85\n",
            "BLEU-4 score: 48.60\n"
          ],
          "name": "stdout"
        }
      ]
    },
    {
      "cell_type": "code",
      "metadata": {
        "id": "CcI4DxAK5EHY"
      },
      "source": [
        "def plot_attention_head(in_tokens, translated_tokens, attention):\n",
        "  # The plot is of the attention when a token was generated.\n",
        "  # The model didn't generate `<START>` in the output. Skip it. \n",
        "  translated_tokens = translated_tokens[1:]\n",
        "\n",
        "  ax = plt.gca()\n",
        "  ax.matshow(attention)\n",
        "  ax.set_xticks(range(len(in_tokens)))\n",
        "  ax.set_yticks(range(len(translated_tokens)))\n",
        "\n",
        "  \n",
        "  labels = [label.decode('utf-8') for label in in_tokens.numpy()]\n",
        "  ax.set_xticklabels(\n",
        "      labels, rotation=90)\n",
        "  \n",
        "  labels = [label.decode('utf-8') for label in translated_tokens.numpy()]\n",
        "  ax.set_yticklabels(labels)"
      ],
      "execution_count": 149,
      "outputs": []
    },
    {
      "cell_type": "code",
      "metadata": {
        "id": "_KY4c2cryuxY",
        "colab": {
          "base_uri": "https://localhost:8080/"
        },
        "outputId": "aa9f1ea8-cfa2-45aa-80d8-e45983bd64ba"
      },
      "source": [
        "head = 0\n",
        "# shape: (batch=1, num_heads, seq_len_q, seq_len_k)\n",
        "attention_heads = tf.squeeze(\n",
        "  attention_weights['decoder_layer4_block2'], 0)\n",
        "attention = attention_heads[head]\n",
        "attention.shape  "
      ],
      "execution_count": 150,
      "outputs": [
        {
          "output_type": "execute_result",
          "data": {
            "text/plain": [
              "TensorShape([9, 10])"
            ]
          },
          "metadata": {
            "tags": []
          },
          "execution_count": 150
        }
      ]
    },
    {
      "cell_type": "code",
      "metadata": {
        "id": "XdxmakWE6Om3",
        "colab": {
          "base_uri": "https://localhost:8080/"
        },
        "outputId": "980c6d55-4e78-420e-f829-47871f14ec88"
      },
      "source": [
        "in_tokens = tf.convert_to_tensor([sentence])\n",
        "in_tokens = tokenizers.ru.tokenize(in_tokens).to_tensor()\n",
        "in_tokens = tokenizers.ru.lookup(in_tokens)[0]\n",
        "in_tokens"
      ],
      "execution_count": 151,
      "outputs": [
        {
          "output_type": "execute_result",
          "data": {
            "text/plain": [
              "<tf.Tensor: shape=(10,), dtype=string, numpy=\n",
              "array([b'[START]', b'\\xd1\\x8d\\xd1\\x82\\xd0\\xbe',\n",
              "       b'\\xd0\\xbf\\xd0\\xb5\\xd1\\x80\\xd0\\xb2\\xd0\\xb0\\xd1\\x8f',\n",
              "       b'\\xd0\\xba\\xd0\\xbd\\xd0\\xb8\\xd0\\xb3\\xd0\\xb0', b',',\n",
              "       b'\\xd0\\xba\\xd0\\xbe\\xd1\\x82\\xd0\\xbe\\xd1\\x80\\xd1\\x83\\xd1\\x8e',\n",
              "       b'\\xd1\\x8f',\n",
              "       b'\\xd0\\xbd\\xd0\\xb0\\xd0\\xbf\\xd0\\xb8\\xd1\\x81\\xd0\\xb0\\xd0\\xbb', b'.',\n",
              "       b'[END]'], dtype=object)>"
            ]
          },
          "metadata": {
            "tags": []
          },
          "execution_count": 151
        }
      ]
    },
    {
      "cell_type": "code",
      "metadata": {
        "id": "XtzyKCFamm4N",
        "colab": {
          "base_uri": "https://localhost:8080/",
          "height": 303
        },
        "outputId": "b4d261a8-5865-400e-9317-55ff927eebdf"
      },
      "source": [
        "plot_attention_head(in_tokens, translated_tokens, attention)"
      ],
      "execution_count": 152,
      "outputs": [
        {
          "output_type": "display_data",
          "data": {
            "image/png": "[encoded data removed]",
            "text/plain": [
              "<Figure size 432x288 with 1 Axes>"
            ]
          },
          "metadata": {
            "tags": [],
            "needs_background": "light"
          }
        }
      ]
    },
    {
      "cell_type": "code",
      "metadata": {
        "id": "MBliB-PCzNK3"
      },
      "source": [
        "def plot_attention_weights(sentence, translated_tokens, attention_heads):\n",
        "  in_tokens = tf.convert_to_tensor([sentence])\n",
        "  in_tokens = tokenizers.ru.tokenize(in_tokens).to_tensor()\n",
        "  in_tokens = tokenizers.ru.lookup(in_tokens)[0]\n",
        "  in_tokens\n",
        "  \n",
        "  fig = plt.figure(figsize=(16, 8))\n",
        "  \n",
        "  for h, head in enumerate(attention_heads):\n",
        "    ax = fig.add_subplot(2, 4, h+1)\n",
        "    \n",
        "    plot_attention_head(in_tokens, translated_tokens, head)\n",
        "    \n",
        "    ax.set_xlabel('Head {}'.format(h+1))\n",
        "  \n",
        "  plt.tight_layout()\n",
        "  plt.show()"
      ],
      "execution_count": 153,
      "outputs": []
    },
    {
      "cell_type": "code",
      "metadata": {
        "id": "pyRQi7944wru",
        "colab": {
          "base_uri": "https://localhost:8080/",
          "height": 511
        },
        "outputId": "cc7a6d6a-2eff-4c90-95de-c7063e33cabc"
      },
      "source": [
        "plot_attention_weights(sentence, translated_tokens,\n",
        "                       attention_weights['decoder_layer4_block2'][0])"
      ],
      "execution_count": 154,
      "outputs": [
        {
          "output_type": "display_data",
          "data": {
            "image/png": "[encoded data removed]",
            "text/plain": [
              "<Figure size 1152x576 with 8 Axes>"
            ]
          },
          "metadata": {
            "tags": [],
            "needs_background": "light"
          }
        }
      ]
    },
    {
      "cell_type": "markdown",
      "metadata": {
        "id": "MZJirKUtikTt"
      },
      "source": [
        "The model does okay on unfamiliar words. Neither \"triceratops\" or \"encyclopedia\" are in the input dataset and the model almost learns to transliterare them, even withoput a shared vocabulary:"
      ]
    },
    {
      "cell_type": "code",
      "metadata": {
        "id": "iIDoojHaqFkn",
        "colab": {
          "base_uri": "https://localhost:8080/"
        },
        "outputId": "40b6ed28-9a51-49da-cd06-118241592242"
      },
      "source": [
        "input_sentence = \"Я читал о трицератопсе в энциклопедии.\"\n",
        "reference = \"i read about triceratops in the encyclopedia .\"\n",
        "\n",
        "translated_text, translated_tokens, attention_weights = evaluate(input_sentence)\n",
        "print_translation(input_sentence, translated_text, reference)"
      ],
      "execution_count": 155,
      "outputs": [
        {
          "output_type": "stream",
          "text": [
            "decoded translated_text=i read about a triceplpsy in a encyclopedia .\n",
            "Input:         : Я читал о трицератопсе в энциклопедии.\n",
            "Reference      : i read about triceratops in the encyclopedia .\n",
            "Prediction     : i read about a triceplpsy in a encyclopedia .\n",
            "Rouge-l (f): 71.43\n",
            "BLEU-1 score: 66.67\n",
            "BLEU-2 score: 50.00\n",
            "BLEU-3 score: 36.80\n",
            "BLEU-4 score: 28.68\n"
          ],
          "name": "stdout"
        }
      ]
    },
    {
      "cell_type": "code",
      "metadata": {
        "id": "jD3kbPPNWCqD",
        "colab": {
          "base_uri": "https://localhost:8080/"
        },
        "outputId": "d1dfd251-9425-4173-de6e-508f294e414e"
      },
      "source": [
        "print(\"This will take a minute...\")\n",
        "references = []\n",
        "candidates = []\n",
        "\n",
        "TEST_SET_SIZE = 100\n",
        "MAX_SENTENCE_CHARS = 80\n",
        "\n",
        "i = 0\n",
        "for ru_example, en_example in test_examples.take(TEST_SET_SIZE * 5):\n",
        "  input_sentence = cleanup_punctuation(ru_example.numpy().decode('utf-8'))\n",
        "\n",
        "  # Skip long sentences of greater than 100 characters\n",
        "  if len(input_sentence) < MAX_SENTENCE_CHARS:\n",
        "\n",
        "    reference = cleanup_punctuation(en_example.numpy().decode('utf-8'))\n",
        "    reference_split = reference.split(' ')\n",
        "    candidate, translated_tokens, attention_weights = evaluate(input_sentence)\n",
        "    candidate_split = cleanup_punctuation(candidate.numpy().decode('utf-8')).split(' ')\n",
        "    references.append([reference_split])\n",
        "    candidates.append(candidate_split)\n",
        "\n",
        "    if i < 3:\n",
        "      print_translation(input_sentence, candidate, reference)\n",
        "      print(\"\")\n",
        "      #print(f'Input: {input_sentence}')\n",
        "      #print(f'Reference: {reference}')\n",
        "      #print(f'Candidate: {translated_text}\\n')\n",
        "\n",
        "    i += 1\n",
        "    if i == TEST_SET_SIZE:\n",
        "      print(f\"Evaluated test set with {i} sentences\")\n",
        "      break"
      ],
      "execution_count": 156,
      "outputs": [
        {
          "output_type": "stream",
          "text": [
            "This will take a minute...\n",
            "decoded translated_text=so it ' s literally more than the sum of its parts .\n",
            "Input:         : так что целое буквально больше чем сумма его частей .\n",
            "Reference      : so the whole is literally more than the sum of its parts .\n",
            "Prediction     : so it 's literally more than the sum of its parts .\n",
            "Rouge-l (f): 81.82\n",
            "BLEU-1 score: 76.67\n",
            "BLEU-2 score: 71.63\n",
            "BLEU-3 score: 71.14\n",
            "BLEU-4 score: 67.09\n",
            "\n",
            "decoded translated_text=( laughter ) okay , let me step back to the storewuin and thank you .\n",
            "Input:         : ( смех ) ладно позвольте мне отвлечься на секудну и поблагодарить команду .\n",
            "Reference      : ( laughter ) all right let me just take a moment and thank the team .\n",
            "Prediction     : ( laughter ) okay let me step back to the storewuin and thank you .\n",
            "Rouge-l (f): 48.28\n",
            "BLEU-1 score: 56.13\n",
            "BLEU-2 score: 38.73\n",
            "BLEU-3 score: 25.53\n",
            "BLEU-4 score: 21.37\n",
            "\n",
            "decoded translated_text=i ' m 27 years old .\n",
            "Input:         : мне 27 лет .\n",
            "Reference      : i 'm 27 years old .\n",
            "Prediction     : i 'm 27 years old .\n",
            "Rouge-l (f): 100.00\n",
            "BLEU-1 score: 100.00\n",
            "BLEU-2 score: 100.00\n",
            "BLEU-3 score: 100.00\n",
            "BLEU-4 score: 100.00\n",
            "\n",
            "Evaluated test set with 100 sentences\n"
          ],
          "name": "stdout"
        }
      ]
    },
    {
      "cell_type": "code",
      "metadata": {
        "id": "z7RPmi1gVMcz",
        "colab": {
          "base_uri": "https://localhost:8080/"
        },
        "outputId": "26153e94-de5f-4418-ef2c-92f8eac13913"
      },
      "source": [
        "#references = [[['this', 'is', 'a', 'test']]]\n",
        "#references = [[['this', 'is', 'a', 'test'], ['this', 'is' 'test']]]\n",
        "#candidates = [['this', 'is', 'a', 'test']]\n",
        "smoothie = SmoothingFunction().method4\n",
        "score = corpus_bleu(references, candidates, smoothing_function=smoothie)\n",
        "print(f'Bleu Corpus score: {score:.2}')"
      ],
      "execution_count": 157,
      "outputs": [
        {
          "output_type": "stream",
          "text": [
            "Bleu Corpus score: 0.21\n"
          ],
          "name": "stdout"
        }
      ]
    }
  ]
}