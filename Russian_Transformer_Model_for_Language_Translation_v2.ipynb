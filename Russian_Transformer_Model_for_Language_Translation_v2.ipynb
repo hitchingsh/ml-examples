{
  "nbformat": 4,
  "nbformat_minor": 0,
  "metadata": {
    "accelerator": "GPU",
    "colab": {
      "name": "Russian_Transformer_Model_for_Language_Translation_v2.ipynb",
      "provenance": [],
      "collapsed_sections": [],
      "machine_shape": "hm"
    },
    "kernelspec": {
      "display_name": "Python 3",
      "name": "python3"
    }
  },
  "cells": [
    {
      "cell_type": "markdown",
      "metadata": {
        "id": "J0Qjg6vuaHNt"
      },
      "source": [
        "# Transformer model for Russian Language Translation"
      ]
    },
    {
      "cell_type": "markdown",
      "metadata": {
        "id": "M-f8TnGpE_ex"
      },
      "source": [
        "### Introduction\n",
        "This walkthrough translates Russian to English. The purpose is to show a detailed low-level implementation of the original Transformer architecture as described in Vaswani, et al. 2017 from Google Brain (https://arxiv.org/abs/1706.03762). It also shows an implementation of Subword Tokenization using the BERT tokenizer. \n",
        "\n",
        "This implementation is modified from the following Google Tensorflow Tutorials: \n",
        "* https://www.tensorflow.org/tutorials/tensorflow_text/subwords_tokenizer\n",
        "* https://www.tensorflow.org/tutorials/text/transformer\n",
        "\n",
        "which are:\n",
        "* Copyright 2019 The TensorFlow Authors.\n",
        "* Licensed under the Apache License, Version 2.0 (the \"License\");\n",
        "\n",
        "In addition, the following modifications have been made by Hamilton Hitchigs:\n",
        "* Changed the source language from Portugese to Russian\n",
        "* Added Bleu & Rouge accuracy tests to the end \n",
        "* Merged Converter and Transformer examples\n",
        "* Changed code so it will save the converter and transformer model to Google drive and reuse if they already exist.\n",
        "* Various minor changes\n",
        "\n",
        "\n",
        "\n"
      ]
    },
    {
      "cell_type": "markdown",
      "metadata": {
        "id": "CXCxkADVwbEk"
      },
      "source": [
        "The core idea behind the Transformer model is *self-attention*—the ability to attend to different positions of the input sequence to compute a representation of that sequence. Transformer creates stacks of self-attention layers and is explained below in the sections *Scaled dot product attention* and *Multi-head attention*.\n",
        "\n",
        "A transformer model handles variable-sized input using stacks of self-attention layers instead of [RNNs](text_classification_rnn.ipynb) or [CNNs](../images/intro_to_cnns.ipynb). This general architecture has a number of advantages:\n",
        "\n",
        "* It makes no assumptions about the temporal/spatial relationships across the data. This is ideal for processing a set of objects (for example, [StarCraft units](https://deepmind.com/blog/alphastar-mastering-real-time-strategy-game-starcraft-ii/#block-8)).\n",
        "* Layer outputs can be calculated in parallel, instead of a series like an RNN.\n",
        "* Distant items can affect each other's output without passing through many RNN-steps, or convolution layers (see [Scene Memory Transformer](https://arxiv.org/pdf/1903.03878.pdf) for example).\n",
        "* It can learn long-range dependencies. This is a challenge in many sequence tasks.\n",
        "\n",
        "The downsides of this architecture are:\n",
        "\n",
        "* For a time-series, the output for a time-step is calculated from the *entire history* instead of only the inputs and current hidden-state. This _may_ be less efficient.   \n",
        "* If the input *does* have a  temporal/spatial relationship, like text, some positional encoding must be added or the model will effectively see a bag of words. \n",
        "\n",
        "After training the model in this notebook, you will be able to input a Russian sentence and return the English translation.\n",
        "\n",
        "<img src=\"https://www.tensorflow.org/images/tutorials/transformer/attention_map_portuguese.png\" width=\"800\" alt=\"Attention heatmap\">"
      ]
    },
    {
      "cell_type": "markdown",
      "metadata": {
        "id": "swymtxpl7W7w"
      },
      "source": [
        "## Setup"
      ]
    },
    {
      "cell_type": "code",
      "metadata": {
        "colab": {
          "base_uri": "https://localhost:8080/"
        },
        "id": "Y8bCdfgffWaI",
        "outputId": "28778b36-2dfa-4718-a68b-ca6b372a7b84"
      },
      "source": [
        "from google.colab import drive # Load the Drive helper and mount\n",
        "\n",
        "drive.mount('/content/drive') # This will prompt for authorization"
      ],
      "execution_count": 2,
      "outputs": [
        {
          "output_type": "stream",
          "text": [
            "Mounted at /content/drive\n"
          ],
          "name": "stdout"
        }
      ]
    },
    {
      "cell_type": "code",
      "metadata": {
        "id": "N7d-aQHe-Drc"
      },
      "source": [
        "BASE_MODEL_PATH = 'drive/MyDrive/models/transformer_ru_en_v2'\n",
        "BASE_DATA_PATH = 'drive/MyDrive/data/transformer_ru_en_v2'\n",
        "CONVERTER_MODEL_NAME = 'ted_hrlr_translate_ru_en_converter'\n",
        "build_tokenizer = False"
      ],
      "execution_count": 3,
      "outputs": []
    },
    {
      "cell_type": "code",
      "metadata": {
        "colab": {
          "base_uri": "https://localhost:8080/"
        },
        "id": "BQuJu_TSd1o7",
        "outputId": "0cf13595-15ce-46cb-8bd0-db3e04bcc79d"
      },
      "source": [
        "!ls -l drive/MyDrive/models/transformer_ru_en_v2/"
      ],
      "execution_count": 4,
      "outputs": [
        {
          "output_type": "stream",
          "text": [
            "total 4\n",
            "drwx------ 2 root root 4096 Mar 28 02:16 ted_hrlr_translate_ru_en_converter\n"
          ],
          "name": "stdout"
        }
      ]
    },
    {
      "cell_type": "code",
      "metadata": {
        "id": "Jxltg25gGW4b"
      },
      "source": [
        "#Cleanup for a fresh start\n",
        "#!rm -rf drive/MyDrive/data/downloads/*\n",
        "#!rm $BASE_MODEL_PATH/ckpt*\n",
        "#!rm $BASE_MODEL_PATH/checkpoint\n",
        "#!rm -Rf $BASE_MODEL_PATH/ted_hrlr_translate_ru_en_converter\n",
        "#!rm -Rf $BASE_DATA_PATH/*"
      ],
      "execution_count": 5,
      "outputs": []
    },
    {
      "cell_type": "code",
      "metadata": {
        "id": "stbhlFyy8uAJ"
      },
      "source": [
        "import os.path\n",
        "from os import path"
      ],
      "execution_count": 6,
      "outputs": []
    },
    {
      "cell_type": "code",
      "metadata": {
        "id": "aT9KihWb8wYs"
      },
      "source": [
        "if not path.exists(BASE_MODEL_PATH):\n",
        "  os.mkdir(BASE_MODEL_PATH)\n",
        "  print(f'Created model directory {BASE_MODEL_PATH}')\n",
        "\n",
        "if not path.exists(BASE_DATA_PATH):\n",
        "  os.mkdir(BASE_DATA_PATH)\n",
        "  print(f'Created model directory {BASE_DATA_PATH}')"
      ],
      "execution_count": 7,
      "outputs": []
    },
    {
      "cell_type": "code",
      "metadata": {
        "colab": {
          "base_uri": "https://localhost:8080/"
        },
        "id": "N7EGyH-wUsD2",
        "outputId": "7ec54d36-8fa8-46ee-ea6c-e8449fd8dea5"
      },
      "source": [
        "print(BASE_MODEL_PATH)\n",
        "!ls $BASE_MODEL_PATH\n",
        "print(BASE_DATA_PATH)\n",
        "!ls $BASE_DATA_PATH"
      ],
      "execution_count": 8,
      "outputs": [
        {
          "output_type": "stream",
          "text": [
            "drive/MyDrive/models/transformer_ru_en_v2\n",
            "ted_hrlr_translate_ru_en_converter\n",
            "drive/MyDrive/data/transformer_ru_en_v2\n",
            "downloads  en_vocab.txt  ru_vocab.txt  ted_hrlr_translate\n"
          ],
          "name": "stdout"
        }
      ]
    },
    {
      "cell_type": "code",
      "metadata": {
        "id": "iokc5Qt9Bt88"
      },
      "source": [
        "import collections\n",
        "import logging\n",
        "import os\n",
        "import pathlib\n",
        "import re\n",
        "import string\n",
        "import sys\n",
        "import time\n",
        "\n",
        "import numpy as np\n",
        "import matplotlib.pyplot as plt"
      ],
      "execution_count": 9,
      "outputs": []
    },
    {
      "cell_type": "code",
      "metadata": {
        "colab": {
          "base_uri": "https://localhost:8080/"
        },
        "id": "_VKbZvJVaAgw",
        "outputId": "e4932b20-b3d2-402d-8ed8-dada813fe363"
      },
      "source": [
        "pip install rouge"
      ],
      "execution_count": 10,
      "outputs": [
        {
          "output_type": "stream",
          "text": [
            "Collecting rouge\n",
            "  Downloading https://files.pythonhosted.org/packages/43/cc/e18e33be20971ff73a056ebdb023476b5a545e744e3fc22acd8c758f1e0d/rouge-1.0.0-py3-none-any.whl\n",
            "Requirement already satisfied: six in /usr/local/lib/python3.7/dist-packages (from rouge) (1.15.0)\n",
            "Installing collected packages: rouge\n",
            "Successfully installed rouge-1.0.0\n"
          ],
          "name": "stdout"
        }
      ]
    },
    {
      "cell_type": "code",
      "metadata": {
        "id": "V7iEz7pWZ-2k"
      },
      "source": [
        "import nltk\n",
        "from rouge import Rouge\n",
        "from nltk.translate.bleu_score import corpus_bleu\n",
        "from nltk.translate.bleu_score import sentence_bleu\n",
        "from nltk.translate.bleu_score import SmoothingFunction"
      ],
      "execution_count": 11,
      "outputs": []
    },
    {
      "cell_type": "code",
      "metadata": {
        "colab": {
          "base_uri": "https://localhost:8080/"
        },
        "id": "_fH1o90m-BUv",
        "outputId": "ac34ecd9-0f2e-4165-cf91-fd0855858d0b"
      },
      "source": [
        "if not path.exists(BASE_MODEL_PATH + '/' + CONVERTER_MODEL_NAME):\n",
        "  build_tokenizer = True\n",
        "  print(f\"Building tokenizer since not found at {BASE_MODEL_PATH}/{CONVERTER_MODEL_NAME}\")\n",
        "\n",
        "  # `BertTokenizer.detokenize` is not in `tf-text` stable yet (currently 2.4.3).\n",
        "  os.system(\"pip install -q tensorflow_text_nightly > /tmp/out.txt\")\n",
        "\n",
        "  # tf-text-nightly resquires tf-nightly\n",
        "  os.system(\"pip install -q tf-nightly >> /tmp/out.txt\")\n",
        "\n",
        "  # Generate the vocabulary\n",
        "  os.system(\"cat /tmp/out.txt\")\n",
        "else:\n",
        "  build_tokenizer = False\n",
        "  print(f\"Tokenizer already exists at {BASE_MODEL_PATH}/{CONVERTER_MODEL_NAME}\")\n",
        "  os.system(\"pip install -q tensorflow_text > /tmp/out.txt\")\n",
        "  os.system(\"cat /tmp/out.txt\")"
      ],
      "execution_count": 12,
      "outputs": [
        {
          "output_type": "stream",
          "text": [
            "Tokenizer already exists at drive/MyDrive/models/transformer_ru_en_v2/ted_hrlr_translate_ru_en_converter\n"
          ],
          "name": "stdout"
        }
      ]
    },
    {
      "cell_type": "code",
      "metadata": {
        "id": "JjJJyJTZYebt"
      },
      "source": [
        "import tensorflow as tf\n",
        "import tensorflow_datasets as tfds\n",
        "\n",
        "import tensorflow_text as text\n",
        "\n",
        "if build_tokenizer:\n",
        "  # Generate the vocabulary\n",
        "  from tensorflow_text.tools.wordpiece_vocab import bert_vocab_from_dataset as bert_vocab"
      ],
      "execution_count": 13,
      "outputs": []
    },
    {
      "cell_type": "code",
      "metadata": {
        "id": "pXzVhU34zWEU"
      },
      "source": [
        "logging.getLogger('tensorflow').setLevel(logging.ERROR)  # suppress warnings"
      ],
      "execution_count": 14,
      "outputs": []
    },
    {
      "cell_type": "markdown",
      "metadata": {
        "id": "-cCvXbPkccV1"
      },
      "source": [
        "## Download the Dataset"
      ]
    },
    {
      "cell_type": "markdown",
      "metadata": {
        "id": "t4_Qt8W1hJE_"
      },
      "source": [
        "Use [TensorFlow datasets](https://www.tensorflow.org/datasets) to load the [Russian-English translation dataset](https://github.com/neulab/word-embeddings-for-nmt) from the [TED Talks Open Translation Project](https://www.ted.com/participate/translate).\n",
        "\n",
        "This dataset contains approximately 50000 training examples, 1100 validation examples, and 2000 test examples."
      ]
    },
    {
      "cell_type": "code",
      "metadata": {
        "id": "8q9t4FmN96eN"
      },
      "source": [
        "examples, metadata = tfds.load('ted_hrlr_translate/ru_to_en', with_info=True,\n",
        "                               as_supervised=True, data_dir=BASE_DATA_PATH)\n",
        "train_examples, val_examples, test_examples = examples['train'], examples['validation'], examples['test']"
      ],
      "execution_count": 15,
      "outputs": []
    },
    {
      "cell_type": "markdown",
      "metadata": {
        "id": "1OnwQZ2IpTbl"
      },
      "source": [
        "The `tf.data.Dataset` object returned by TensorFlow datasets yields pairs of text examples:"
      ]
    },
    {
      "cell_type": "code",
      "metadata": {
        "id": "AtuMLTQGlHZ1",
        "colab": {
          "base_uri": "https://localhost:8080/"
        },
        "outputId": "40d15f99-3281-47e5-b2be-efb6579c2178"
      },
      "source": [
        "for ru_examples, en_examples in train_examples.batch(3).take(1):\n",
        "  for ru in ru_examples.numpy():\n",
        "    print(ru.decode('utf-8'))\n",
        "\n",
        "  print()\n",
        "\n",
        "  for en in en_examples.numpy():\n",
        "    print(en.decode('utf-8'))"
      ],
      "execution_count": 16,
      "outputs": [
        {
          "output_type": "stream",
          "text": [
            "к : успех , перемены возможны только с оружием в руках .\n",
            "документация и методика практического обучения также доступна и выпущена creative commons .\n",
            "( видео ) диди пиклз : сейчас четыре часа утра .\n",
            "\n",
            "c : success , the change is only coming through the barrel of the gun .\n",
            "the documentation and the hands-on teaching methodology is also open-source and released as the creative commons .\n",
            "( video ) didi pickles : it 's four o'clock in the morning .\n"
          ],
          "name": "stdout"
        }
      ]
    },
    {
      "cell_type": "markdown",
      "metadata": {
        "id": "eJxTd6aVnZyh"
      },
      "source": [
        "## Text tokenization & detokenization\n",
        "\n",
        "For more detail on how to build the tokenizer and detokenizer see: https://www.tensorflow.org/tutorials/tensorflow_text/subwords_tokenizer"
      ]
    },
    {
      "cell_type": "markdown",
      "metadata": {
        "id": "WlHAFNaopq6U"
      },
      "source": [
        "You can't train a model directly on text. The text needs to be converted some numeric representation first. Typically you convert the text to sequences of token IDs, which are as indexes into an embedding."
      ]
    },
    {
      "cell_type": "markdown",
      "metadata": {
        "id": "2sPvbCEePzOC"
      },
      "source": [
        "START = tf.argmax(tf.constant(reserved_tokens) == \"[START]\")\n",
        "END = tf.argmax(tf.constant(reserved_tokens) == \"[END]\")\n",
        "\n",
        "def add_start_end(ragged):\n",
        "  count = ragged.bounding_shape()[0]\n",
        "  starts = tf.fill([count,1], START)\n",
        "  ends = tf.fill([count,1], END)\n",
        "  return tf.concat([starts, ragged, ends], axis=1)One popular implementation is demonstrated in the [Subword tokenizer tutorial](https://www.tensorflow.org/tutorials/tensorflow_text/subwords_tokenizer) builds subword tokenizers (`text.BertTokenizer`) optimized for this dataset and exports them in a [saved_model](https://www.tensorflow.org/guide/saved_model). \n",
        "\n",
        "Download and unzip and import the `saved_model`:"
      ]
    },
    {
      "cell_type": "code",
      "metadata": {
        "id": "o4hh67jg8RMs"
      },
      "source": [
        "reserved_tokens=[\"[PAD]\", \"[UNK]\", \"[START]\", \"[END]\"]\n",
        "\n",
        "START = tf.argmax(tf.constant(reserved_tokens) == \"[START]\")\n",
        "END = tf.argmax(tf.constant(reserved_tokens) == \"[END]\")\n",
        "\n",
        "def add_start_end(ragged):\n",
        "  global START, END\n",
        "  count = ragged.bounding_shape()[0]\n",
        "  starts = tf.fill([count,1], START)\n",
        "  ends = tf.fill([count,1], END)\n",
        "  return tf.concat([starts, ragged, ends], axis=1)\n",
        "\n",
        "def write_vocab_file(filepath, vocab):\n",
        "  global base_path\n",
        "  with open(BASE_DATA_PATH + '/' + filepath, 'w') as f:\n",
        "    for token in vocab:\n",
        "      print(token, file=f)\n",
        "\n",
        "def write_vocab_files():\n",
        "  global reserved_tokens, train_example\n",
        "  bert_tokenizer_params=dict(lower_case=True)\n",
        "\n",
        "  bert_vocab_args = dict(\n",
        "      # The target vocabulary size\n",
        "      vocab_size = 30000,\n",
        "      # Reserved tokens that must be included in the vocabulary\n",
        "      reserved_tokens=reserved_tokens,\n",
        "      # Arguments for `text.BertTokenizer`\n",
        "      bert_tokenizer_params=bert_tokenizer_params,\n",
        "      # Arguments for `wordpiece_vocab.wordpiece_tokenizer_learner_lib.learn`\n",
        "      learn_params={},\n",
        "  )\n",
        "\n",
        "  train_en = train_examples.map(lambda ru, en: en)\n",
        "  train_ru = train_examples.map(lambda ru, en: ru)\n",
        "\n",
        "  %%time\n",
        "  ru_vocab = bert_vocab.bert_vocab_from_dataset(\n",
        "      train_ru.batch(1000).prefetch(2),\n",
        "      **bert_vocab_args\n",
        "  )\n",
        "\n",
        "  print(f'ru_vocab with length={len(ru_vocab)}')\n",
        "  write_vocab_file('ru_vocab.txt', ru_vocab)\n",
        "\n",
        "  %%time\n",
        "  en_vocab = bert_vocab.bert_vocab_from_dataset(\n",
        "      train_en.batch(1000).prefetch(2),\n",
        "      **bert_vocab_args\n",
        "  )\n",
        "\n",
        "  print(f'en_vocab with length={len(en_vocab)}')\n",
        "  write_vocab_file('en_vocab.txt', en_vocab)\n",
        "\n",
        "def cleanup_text(reserved_tokens, token_txt):\n",
        "  # Generate clean text output, so drop reserved tokens like [START], [END] and [PAD].\n",
        "  # apply a string join along the words axis of the result.\n",
        "\n",
        "  # Drop the reserved tokens, except for \"[UNK]\".\n",
        "  bad_tokens = [re.escape(tok) for tok in reserved_tokens if tok != \"[UNK]\"]\n",
        "  bad_token_re = \"|\".join(bad_tokens)\n",
        "\n",
        "  bad_cells = tf.strings.regex_full_match(token_txt, bad_token_re)\n",
        "  result = tf.ragged.boolean_mask(token_txt, ~bad_cells)\n",
        "\n",
        "  # Join them into strings.\n",
        "  result = tf.strings.reduce_join(result, separator=' ', axis=-1)\n",
        "\n",
        "  return result\n",
        "\n",
        "def build_bert_tokenizer():\n",
        "  ru_tokenizer = text.BertTokenizer(BASE_DATA_PATH + '/' + 'ru_vocab.txt', **bert_tokenizer_params)\n",
        "  en_tokenizer = text.BertTokenizer(BASE_DATA_PATH + '/' + 'en_vocab.txt', **bert_tokenizer_params)\n",
        "\n",
        "  # Run it through the BertTokenizer.tokenize method. Initially, this returns a \n",
        "  # tf.RaggedTensor with axes (batch, word, word-piece):*italicized text*\n",
        "\n",
        "  # Custom detokenization\n",
        "  # Tokenize the examples -> (batch, word, word-piece)\n",
        "  # Merge the word and word-piece axes -> (batch, tokens)\n",
        "  token_batch = en_tokenizer.tokenize(en_examples).merge_dims(-2,-1)\n",
        "  words = en_tokenizer.detokenize(token_batch)"
      ],
      "execution_count": 17,
      "outputs": []
    },
    {
      "cell_type": "markdown",
      "metadata": {
        "id": "zo8zllGfBpVw"
      },
      "source": [
        "### Export Custom BERT Tokenizer\n",
        "The following code block builds a CustomTokenizer class to contain the text.BertTokenizer instances, the custom logic, and the @tf.function wrappers required for export."
      ]
    },
    {
      "cell_type": "code",
      "metadata": {
        "id": "WvLuOw9HBsR1"
      },
      "source": [
        "class CustomTokenizer(tf.Module):\n",
        "  def __init__(self, reserved_tokens, vocab_path):\n",
        "    self.tokenizer = text.BertTokenizer(vocab_path, lower_case=True)\n",
        "    self._reserved_tokens = reserved_tokens\n",
        "    self._vocab_path = tf.saved_model.Asset(vocab_path)\n",
        "\n",
        "    vocab = pathlib.Path(vocab_path).read_text().splitlines()\n",
        "    self.vocab = tf.Variable(vocab)\n",
        "\n",
        "    ## Create the signatures for export:   \n",
        "\n",
        "    # Include a tokenize signature for a batch of strings. \n",
        "    self.tokenize.get_concrete_function(\n",
        "        tf.TensorSpec(shape=[None], dtype=tf.string))\n",
        "\n",
        "    # Include `detokenize` and `lookup` signatures for:\n",
        "    #   * `Tensors` with shapes [tokens] and [batch, tokens]\n",
        "    #   * `RaggedTensors` with shape [batch, tokens]\n",
        "    self.detokenize.get_concrete_function(\n",
        "        tf.TensorSpec(shape=[None, None], dtype=tf.int64))\n",
        "    self.detokenize.get_concrete_function(\n",
        "          tf.RaggedTensorSpec(shape=[None, None], dtype=tf.int64))\n",
        "\n",
        "    self.lookup.get_concrete_function(\n",
        "        tf.TensorSpec(shape=[None, None], dtype=tf.int64))\n",
        "    self.lookup.get_concrete_function(\n",
        "          tf.RaggedTensorSpec(shape=[None, None], dtype=tf.int64))\n",
        "\n",
        "    # These `get_*` methods take no arguments\n",
        "    self.get_vocab_size.get_concrete_function()\n",
        "    self.get_vocab_path.get_concrete_function()\n",
        "    self.get_reserved_tokens.get_concrete_function()\n",
        "\n",
        "  @tf.function\n",
        "  def tokenize(self, strings):\n",
        "    enc = self.tokenizer.tokenize(strings)\n",
        "    # Merge the `word` and `word-piece` axes.\n",
        "    enc = enc.merge_dims(-2,-1)\n",
        "    enc = add_start_end(enc)\n",
        "    return enc\n",
        "\n",
        "  @tf.function\n",
        "  def detokenize(self, tokenized):\n",
        "    words = self.tokenizer.detokenize(tokenized)\n",
        "    return cleanup_text(self._reserved_tokens, words)\n",
        "\n",
        "  @tf.function\n",
        "  def lookup(self, token_ids):\n",
        "    return tf.gather(self.vocab, token_ids)\n",
        "\n",
        "  @tf.function\n",
        "  def get_vocab_size(self):\n",
        "    return tf.shape(self.vocab)[0]\n",
        "\n",
        "  @tf.function\n",
        "  def get_vocab_path(self):\n",
        "    return self._vocab_path\n",
        "\n",
        "  @tf.function\n",
        "  def get_reserved_tokens(self):\n",
        "    return tf.constant(self._reserved_tokens)"
      ],
      "execution_count": 18,
      "outputs": []
    },
    {
      "cell_type": "markdown",
      "metadata": {
        "id": "ApPdrUeICGhO"
      },
      "source": [
        "Build a CustomTokenizer for each language:"
      ]
    },
    {
      "cell_type": "code",
      "metadata": {
        "id": "uZxcjOoyCIXv"
      },
      "source": [
        "def build_custom_tokenizers():\n",
        "  tokenizers = tf.Module()\n",
        "  tokenizers.ru = CustomTokenizer(reserved_tokens, BASE_DATA_PATH + '/' + 'ru_vocab.txt')\n",
        "  tokenizers.en = CustomTokenizer(reserved_tokens, BASE_DATA_PATH + '/' + 'en_vocab.txt')\n",
        "\n",
        "  # Export the tokenizers as a saved_model:\n",
        "  tf.saved_model.save(tokenizers, BASE_MODEL_PATH + '/' + CONVERTER_MODEL_NAME)\n",
        "\n",
        "  # Generate the vocabulary\n",
        "  os.system(\"zip -r $BASE_MODEL_PATH/{BASE_MODEL_PATH}.zip $BASE_MODEL_PATH/{CONVERTER_MODEL_NAME} > /tmp/out.txt\")\n",
        "  os.system(\"cat /tmp/out.txt\")\n",
        "\n",
        "  return tokenizers"
      ],
      "execution_count": 19,
      "outputs": []
    },
    {
      "cell_type": "code",
      "metadata": {
        "colab": {
          "base_uri": "https://localhost:8080/"
        },
        "id": "8Lj7eBayXIUI",
        "outputId": "ec3cf6b5-20b2-4b4f-9206-bcc6688b1493"
      },
      "source": [
        "if build_tokenizer:\n",
        "  global BASE_MODEL_PATH, CONVERTER_MODEL_NAME\n",
        "  print(\"writing vocab files\")\n",
        "  write_vocab_files()\n",
        "  print(\"building custom BERT tokenizer\")\n",
        "  tokenizers = build_custom_tokenizers()\n",
        "else:\n",
        "  tokenizers = reloaded_tokenizers = tf.saved_model.load(BASE_MODEL_PATH + '/' + CONVERTER_MODEL_NAME)\n",
        "  reloaded_tokenizers.en.get_vocab_size().numpy()\n",
        "  print(f\"Loaded custom BERT tokenizer from {BASE_MODEL_PATH}/{CONVERTER_MODEL_NAME}\")"
      ],
      "execution_count": 20,
      "outputs": [
        {
          "output_type": "stream",
          "text": [
            "Loaded custom BERT tokenizer from drive/MyDrive/models/transformer_ru_en_v2/ted_hrlr_translate_ru_en_converter\n"
          ],
          "name": "stdout"
        }
      ]
    },
    {
      "cell_type": "markdown",
      "metadata": {
        "id": "KQYc0CJTpnvg"
      },
      "source": [
        "The `tf.saved_model` contains two text tokenizers, one for English and one for Russian. Both have the same methods:"
      ]
    },
    {
      "cell_type": "code",
      "metadata": {
        "id": "s-PCJijfcZ9_",
        "colab": {
          "base_uri": "https://localhost:8080/"
        },
        "outputId": "aa0482da-ede6-4c7b-fef4-c62edccd2570"
      },
      "source": [
        "[item for item in dir(tokenizers.en) if not item.startswith('_')]"
      ],
      "execution_count": 21,
      "outputs": [
        {
          "output_type": "execute_result",
          "data": {
            "text/plain": [
              "['detokenize',\n",
              " 'get_reserved_tokens',\n",
              " 'get_vocab_path',\n",
              " 'get_vocab_size',\n",
              " 'lookup',\n",
              " 'tokenize',\n",
              " 'tokenizer',\n",
              " 'vocab']"
            ]
          },
          "metadata": {
            "tags": []
          },
          "execution_count": 21
        }
      ]
    },
    {
      "cell_type": "markdown",
      "metadata": {
        "id": "-pv_nc5lrAiD"
      },
      "source": [
        "The `tokenize` method converts a batch of strings to a padded-batch of token IDs. This method splits punctuation, lowercases and unicode-normalizes the input before tokenizing. That standardization is not visible here because the input data is already standardized."
      ]
    },
    {
      "cell_type": "code",
      "metadata": {
        "id": "0GV-smAAQJtM",
        "colab": {
          "base_uri": "https://localhost:8080/"
        },
        "outputId": "6b70a7e2-b1be-4532-ebdb-bd112a5e8c3a"
      },
      "source": [
        "for en in en_examples.numpy():\n",
        "  print(en.decode('utf-8'))"
      ],
      "execution_count": 22,
      "outputs": [
        {
          "output_type": "stream",
          "text": [
            "c : success , the change is only coming through the barrel of the gun .\n",
            "the documentation and the hands-on teaching methodology is also open-source and released as the creative commons .\n",
            "( video ) didi pickles : it 's four o'clock in the morning .\n"
          ],
          "name": "stdout"
        }
      ]
    },
    {
      "cell_type": "code",
      "metadata": {
        "id": "2fQJq1xB-tOn",
        "colab": {
          "base_uri": "https://localhost:8080/"
        },
        "outputId": "3da8d4f3-dbc3-47bf-b0b1-20d0e1bcedec"
      },
      "source": [
        "encoded = tokenizers.en.tokenize(en_examples)\n",
        "\n",
        "for row in encoded.to_list():\n",
        "  print(row)"
      ],
      "execution_count": 23,
      "outputs": [
        {
          "output_type": "stream",
          "text": [
            "[2, 41, 28, 1040, 14, 84, 238, 93, 197, 376, 214, 84, 5656, 87, 84, 2307, 16, 3]\n",
            "[2, 84, 10661, 85, 84, 672, 15, 103, 1405, 8003, 93, 185, 424, 15, 888, 85, 2360, 110, 84, 1005, 5132, 16, 3]\n",
            "[2, 10, 388, 11, 166, 655, 11892, 136, 28, 90, 9, 57, 307, 53, 9, 2330, 89, 84, 774, 16, 3]\n"
          ],
          "name": "stdout"
        }
      ]
    },
    {
      "cell_type": "markdown",
      "metadata": {
        "id": "dBRlikwDR2Lu"
      },
      "source": [
        "The `detokenize` method attempts to convert these token IDs back to human readable text: "
      ]
    },
    {
      "cell_type": "code",
      "metadata": {
        "id": "Tpqx1aug3W31",
        "colab": {
          "base_uri": "https://localhost:8080/"
        },
        "outputId": "70513a1b-187c-40e1-81a9-9fe9dd5277d4"
      },
      "source": [
        "round_trip = tokenizers.en.detokenize(encoded)\n",
        "for line in round_trip.numpy():\n",
        "  print(line.decode('utf-8'))"
      ],
      "execution_count": 24,
      "outputs": [
        {
          "output_type": "stream",
          "text": [
            "c : success , the change is only coming through the barrel of the gun .\n",
            "the documentation and the hands - on teaching methodology is also open - source and released as the creative commons .\n",
            "( video ) didi pickles : it ' s four o ' clock in the morning .\n"
          ],
          "name": "stdout"
        }
      ]
    },
    {
      "cell_type": "markdown",
      "metadata": {
        "id": "e5mGvytArL9g"
      },
      "source": [
        "The lower level `lookup` method converts from token-IDs to token text:"
      ]
    },
    {
      "cell_type": "code",
      "metadata": {
        "id": "RpzRLzvIuN3R",
        "colab": {
          "base_uri": "https://localhost:8080/"
        },
        "outputId": "a8d89c2b-e79f-4642-de66-0597d6b641a5"
      },
      "source": [
        "tokens = tokenizers.en.lookup(encoded)\n",
        "tokens"
      ],
      "execution_count": 25,
      "outputs": [
        {
          "output_type": "execute_result",
          "data": {
            "text/plain": [
              "<tf.RaggedTensor [[b'[START]', b'c', b':', b'success', b',', b'the', b'change', b'is', b'only', b'coming', b'through', b'the', b'barrel', b'of', b'the', b'gun', b'.', b'[END]'], [b'[START]', b'the', b'documentation', b'and', b'the', b'hands', b'-', b'on', b'teaching', b'methodology', b'is', b'also', b'open', b'-', b'source', b'and', b'released', b'as', b'the', b'creative', b'commons', b'.', b'[END]'], [b'[START]', b'(', b'video', b')', b'did', b'##i', b'pickle', b'##s', b':', b'it', b\"'\", b's', b'four', b'o', b\"'\", b'clock', b'in', b'the', b'morning', b'.', b'[END]']]>"
            ]
          },
          "metadata": {
            "tags": []
          },
          "execution_count": 25
        }
      ]
    },
    {
      "cell_type": "code",
      "metadata": {
        "id": "vwzGwX8hjdZQ"
      },
      "source": [
        "if build_tokenizer:\n",
        "  print(\"Recommend factory reset notebook and rerunning since training runs much slower with nightly build code\")"
      ],
      "execution_count": 26,
      "outputs": []
    },
    {
      "cell_type": "markdown",
      "metadata": {
        "id": "fd1NWMxjfsDd"
      },
      "source": [
        "## Setup input pipeline"
      ]
    },
    {
      "cell_type": "markdown",
      "metadata": {
        "id": "E7JHK7N7tNZy"
      },
      "source": [
        "To build an input pipeline suitable for training you'll apply some transformations to the dataset.\n",
        "\n",
        "This function will be used to encode the batches of raw text:"
      ]
    },
    {
      "cell_type": "code",
      "metadata": {
        "id": "6shgzEck3FiV"
      },
      "source": [
        "def tokenize_pairs(ru, en):\n",
        "    ru = tokenizers.ru.tokenize(ru)\n",
        "    # Convert from ragged to dense, padding with zeros.\n",
        "    ru = ru.to_tensor()\n",
        "\n",
        "    en = tokenizers.en.tokenize(en)\n",
        "    # Convert from ragged to dense, padding with zeros.\n",
        "    en = en.to_tensor()\n",
        "    return ru, en"
      ],
      "execution_count": 27,
      "outputs": []
    },
    {
      "cell_type": "markdown",
      "metadata": {
        "id": "cf2HwC_0wG0v"
      },
      "source": [
        "Here's a simple input pipeline that processes, shuffles and batches the data:"
      ]
    },
    {
      "cell_type": "code",
      "metadata": {
        "id": "bcRp7VcQ5m6g"
      },
      "source": [
        "BUFFER_SIZE = 20000\n",
        "BATCH_SIZE = 64"
      ],
      "execution_count": 28,
      "outputs": []
    },
    {
      "cell_type": "code",
      "metadata": {
        "id": "BUN_jLBTwNxk"
      },
      "source": [
        "def make_batches(ds):\n",
        "  return (\n",
        "      ds\n",
        "      .cache()\n",
        "      .shuffle(BUFFER_SIZE)\n",
        "      .batch(BATCH_SIZE, drop_remainder=True)\n",
        "      .map(tokenize_pairs, num_parallel_calls=tf.data.AUTOTUNE)\n",
        "      .prefetch(tf.data.AUTOTUNE))\n",
        "\n",
        "train_batches = make_batches(train_examples)\n",
        "val_batches = make_batches(val_examples)"
      ],
      "execution_count": 29,
      "outputs": []
    },
    {
      "cell_type": "markdown",
      "metadata": {
        "id": "nBQuibYA4n0n"
      },
      "source": [
        "## Positional encoding\n",
        "\n",
        "Since this model doesn't contain any recurrence or convolution, positional encoding is added to give the model some information about the relative position of the words in the sentence. \n",
        "\n",
        "The positional encoding vector is added to the embedding vector. Embeddings represent a token in a d-dimensional space where tokens with similar meaning will be closer to each other. But the embeddings do not encode the relative position of words in a sentence. So after adding the positional encoding, words will be closer to each other based on the *similarity of their meaning and their position in the sentence*, in the d-dimensional space.\n",
        "\n",
        "See the notebook on [positional encoding](https://github.com/tensorflow/examples/blob/master/community/en/position_encoding.ipynb) to learn more about it. The formula for calculating the positional encoding is as follows:\n",
        "\n",
        "$$\\Large{PE_{(pos, 2i)} = sin(pos / 10000^{2i / d_{model}})} $$\n",
        "$$\\Large{PE_{(pos, 2i+1)} = cos(pos / 10000^{2i / d_{model}})} $$"
      ]
    },
    {
      "cell_type": "code",
      "metadata": {
        "id": "WhIOZjMNKujn"
      },
      "source": [
        "def get_angles(pos, i, d_model):\n",
        "  angle_rates = 1 / np.power(10000, (2 * (i//2)) / np.float32(d_model))\n",
        "  return pos * angle_rates"
      ],
      "execution_count": 30,
      "outputs": []
    },
    {
      "cell_type": "code",
      "metadata": {
        "id": "1Rz82wEs5biZ"
      },
      "source": [
        "def positional_encoding(position, d_model):\n",
        "  angle_rads = get_angles(np.arange(position)[:, np.newaxis],\n",
        "                          np.arange(d_model)[np.newaxis, :],\n",
        "                          d_model)\n",
        "  \n",
        "  # apply sin to even indices in the array; 2i\n",
        "  angle_rads[:, 0::2] = np.sin(angle_rads[:, 0::2])\n",
        "  \n",
        "  # apply cos to odd indices in the array; 2i+1\n",
        "  angle_rads[:, 1::2] = np.cos(angle_rads[:, 1::2])\n",
        "    \n",
        "  pos_encoding = angle_rads[np.newaxis, ...]\n",
        "    \n",
        "  return tf.cast(pos_encoding, dtype=tf.float32)"
      ],
      "execution_count": 31,
      "outputs": []
    },
    {
      "cell_type": "code",
      "metadata": {
        "id": "1kLCla68EloE",
        "colab": {
          "base_uri": "https://localhost:8080/",
          "height": 300
        },
        "outputId": "f0dac0d1-4764-4392-942f-ae7559034a0a"
      },
      "source": [
        "n, d = 2048, 512\n",
        "pos_encoding = positional_encoding(n, d)\n",
        "print(pos_encoding.shape)\n",
        "pos_encoding = pos_encoding[0]\n",
        "\n",
        "# Juggle the dimensions for the plot\n",
        "pos_encoding = tf.reshape(pos_encoding, (n, d//2, 2))\n",
        "pos_encoding = tf.transpose(pos_encoding, (2,1,0))\n",
        "pos_encoding = tf.reshape(pos_encoding, (d, n))\n",
        "\n",
        "plt.pcolormesh(pos_encoding, cmap='RdBu')\n",
        "plt.ylabel('Depth')\n",
        "plt.xlabel('Position')\n",
        "plt.colorbar()\n",
        "plt.show()"
      ],
      "execution_count": 32,
      "outputs": [
        {
          "output_type": "stream",
          "text": [
            "(1, 2048, 512)\n"
          ],
          "name": "stdout"
        },
        {
          "output_type": "display_data",
          "data": {
            "image/png": "[encoded data removed]",
            "text/plain": [
              "<Figure size 432x288 with 2 Axes>"
            ]
          },
          "metadata": {
            "tags": [],
            "needs_background": "light"
          }
        }
      ]
    },
    {
      "cell_type": "code",
      "metadata": {
        "colab": {
          "base_uri": "https://localhost:8080/"
        },
        "id": "0_ODDfLielfU",
        "outputId": "2bc1cdbc-6a32-405c-96c7-8305221a3ef4"
      },
      "source": [
        "pos_encoding.shape"
      ],
      "execution_count": 33,
      "outputs": [
        {
          "output_type": "execute_result",
          "data": {
            "text/plain": [
              "TensorShape([512, 2048])"
            ]
          },
          "metadata": {
            "tags": []
          },
          "execution_count": 33
        }
      ]
    },
    {
      "cell_type": "markdown",
      "metadata": {
        "id": "a_b4ou4TYqUN"
      },
      "source": [
        "## Masking"
      ]
    },
    {
      "cell_type": "markdown",
      "metadata": {
        "id": "s42Uydjkv0hF"
      },
      "source": [
        "Mask all the pad tokens in the batch of sequence. It ensures that the model does not treat padding as the input. The mask indicates where pad value `0` is present: it outputs a `1` at those locations, and a `0` otherwise."
      ]
    },
    {
      "cell_type": "code",
      "metadata": {
        "id": "U2i8-e1s8ti9"
      },
      "source": [
        "def create_padding_mask(seq):\n",
        "  seq = tf.cast(tf.math.equal(seq, 0), tf.float32)\n",
        "  \n",
        "  # add extra dimensions to add the padding\n",
        "  # to the attention logits.\n",
        "  return seq[:, tf.newaxis, tf.newaxis, :]  # (batch_size, 1, 1, seq_len)"
      ],
      "execution_count": 34,
      "outputs": []
    },
    {
      "cell_type": "code",
      "metadata": {
        "id": "A7BYeBCNvi7n",
        "colab": {
          "base_uri": "https://localhost:8080/"
        },
        "outputId": "96348dbe-8673-45cb-d113-64dec403e93b"
      },
      "source": [
        "x = tf.constant([[7, 6, 0, 0, 1], [1, 2, 3, 0, 0], [0, 0, 0, 4, 5]])\n",
        "create_padding_mask(x)"
      ],
      "execution_count": 35,
      "outputs": [
        {
          "output_type": "execute_result",
          "data": {
            "text/plain": [
              "<tf.Tensor: shape=(3, 1, 1, 5), dtype=float32, numpy=\n",
              "array([[[[0., 0., 1., 1., 0.]]],\n",
              "\n",
              "\n",
              "       [[[0., 0., 0., 1., 1.]]],\n",
              "\n",
              "\n",
              "       [[[1., 1., 1., 0., 0.]]]], dtype=float32)>"
            ]
          },
          "metadata": {
            "tags": []
          },
          "execution_count": 35
        }
      ]
    },
    {
      "cell_type": "markdown",
      "metadata": {
        "id": "Z0hzukDBgVom"
      },
      "source": [
        "The look-ahead mask is used to mask the future tokens in a sequence. In other words, the mask indicates which entries should not be used.\n",
        "\n",
        "This means that to predict the third word, only the first and second word will be used. Similarly to predict the fourth word, only the first, second and the third word will be used and so on."
      ]
    },
    {
      "cell_type": "code",
      "metadata": {
        "id": "dVxS8OPI9uI0"
      },
      "source": [
        "def create_look_ahead_mask(size):\n",
        "  mask = 1 - tf.linalg.band_part(tf.ones((size, size)), -1, 0)\n",
        "  return mask  # (seq_len, seq_len)"
      ],
      "execution_count": 36,
      "outputs": []
    },
    {
      "cell_type": "code",
      "metadata": {
        "id": "yxKGuXxaBeeE",
        "colab": {
          "base_uri": "https://localhost:8080/"
        },
        "outputId": "a8e7e3da-602e-4b18-f3b6-a69d7c080c5a"
      },
      "source": [
        "x = tf.random.uniform((1, 3))\n",
        "temp = create_look_ahead_mask(x.shape[1])\n",
        "temp"
      ],
      "execution_count": 37,
      "outputs": [
        {
          "output_type": "execute_result",
          "data": {
            "text/plain": [
              "<tf.Tensor: shape=(3, 3), dtype=float32, numpy=\n",
              "array([[0., 1., 1.],\n",
              "       [0., 0., 1.],\n",
              "       [0., 0., 0.]], dtype=float32)>"
            ]
          },
          "metadata": {
            "tags": []
          },
          "execution_count": 37
        }
      ]
    },
    {
      "cell_type": "markdown",
      "metadata": {
        "id": "xluDl5cXYy4y"
      },
      "source": [
        "## Scaled dot product attention\n",
        "\n"
      ]
    },
    {
      "cell_type": "markdown",
      "metadata": {
        "id": "vsxEE_-Wa1gF"
      },
      "source": [
        "<img src=\"https://www.tensorflow.org/images/tutorials/transformer/scaled_attention.png\" width=\"500\" alt=\"scaled_dot_product_attention\">\n",
        "\n",
        "The attention function used by the transformer takes three inputs: Q (query), K (key), V (value). The equation used to calculate the attention weights is:\n",
        "\n",
        "$$\\Large{Attention(Q, K, V) = softmax_k(\\frac{QK^T}{\\sqrt{d_k}}) V} $$\n",
        "\n",
        "The dot-product attention is scaled by a factor of square root of the depth. This is done because for large values of depth, the dot product grows large in magnitude pushing the softmax function where it has small gradients resulting in a very hard softmax. \n",
        "\n",
        "For example, consider that `Q` and `K` have a mean of 0 and variance of 1. Their matrix multiplication will have a mean of 0 and variance of `dk`. So the *square root of `dk`* is used for scaling so you get a consistent variance regardless of the value of `dk`. If the variance is too low the output may be too flat to optimize effectively. If the variance is too high the softmax may saturate at initilization making it dificult to learn. \n",
        "\n",
        "The mask is multiplied with -1e9 (close to negative infinity). This is done because the mask is summed with the scaled matrix multiplication of Q and K and is applied immediately before a softmax. The goal is to zero out these cells, and large negative inputs to softmax are near zero in the output."
      ]
    },
    {
      "cell_type": "code",
      "metadata": {
        "id": "LazzUq3bJ5SH"
      },
      "source": [
        "def scaled_dot_product_attention(q, k, v, mask):\n",
        "  \"\"\"Calculate the attention weights.\n",
        "  q, k, v must have matching leading dimensions.\n",
        "  k, v must have matching penultimate dimension, i.e.: seq_len_k = seq_len_v.\n",
        "  The mask has different shapes depending on its type(padding or look ahead) \n",
        "  but it must be broadcastable for addition.\n",
        "  \n",
        "  Args:\n",
        "    q: query shape == (..., seq_len_q, depth)\n",
        "    k: key shape == (..., seq_len_k, depth)\n",
        "    v: value shape == (..., seq_len_v, depth_v)\n",
        "    mask: Float tensor with shape broadcastable \n",
        "          to (..., seq_len_q, seq_len_k). Defaults to None.\n",
        "    \n",
        "  Returns:\n",
        "    output, attention_weights\n",
        "  \"\"\"\n",
        "\n",
        "  matmul_qk = tf.matmul(q, k, transpose_b=True)  # (..., seq_len_q, seq_len_k)\n",
        "  \n",
        "  # scale matmul_qk\n",
        "  dk = tf.cast(tf.shape(k)[-1], tf.float32)\n",
        "  scaled_attention_logits = matmul_qk / tf.math.sqrt(dk)\n",
        "\n",
        "  # add the mask to the scaled tensor.\n",
        "  if mask is not None:\n",
        "    scaled_attention_logits += (mask * -1e9)  \n",
        "\n",
        "  # softmax is normalized on the last axis (seq_len_k) so that the scores\n",
        "  # add up to 1.\n",
        "  attention_weights = tf.nn.softmax(scaled_attention_logits, axis=-1)  # (..., seq_len_q, seq_len_k)\n",
        "\n",
        "  output = tf.matmul(attention_weights, v)  # (..., seq_len_q, depth_v)\n",
        "\n",
        "  return output, attention_weights"
      ],
      "execution_count": 38,
      "outputs": []
    },
    {
      "cell_type": "markdown",
      "metadata": {
        "id": "FiqETnhCkoXh"
      },
      "source": [
        "As the softmax normalization is done on K, its values decide the amount of importance given to Q.\n",
        "\n",
        "The output represents the multiplication of the attention weights and the V (value) vector. This ensures that the words you want to focus on are kept as-is and the irrelevant words are flushed out."
      ]
    },
    {
      "cell_type": "code",
      "metadata": {
        "id": "n90YjClyInFy"
      },
      "source": [
        "def print_out(q, k, v):\n",
        "  temp_out, temp_attn = scaled_dot_product_attention(\n",
        "      q, k, v, None)\n",
        "  print ('Attention weights are:')\n",
        "  print (temp_attn)\n",
        "  print ('Output is:')\n",
        "  print (temp_out)"
      ],
      "execution_count": 39,
      "outputs": []
    },
    {
      "cell_type": "code",
      "metadata": {
        "id": "yAzUAf2DPlNt",
        "colab": {
          "base_uri": "https://localhost:8080/"
        },
        "outputId": "c97d3f21-4d04-49d4-eee4-fc79d493f0bb"
      },
      "source": [
        "np.set_printoptions(suppress=True)\n",
        "\n",
        "temp_k = tf.constant([[10,0,0],\n",
        "                      [0,10,0],\n",
        "                      [0,0,10],\n",
        "                      [0,0,10]], dtype=tf.float32)  # (4, 3)\n",
        "\n",
        "temp_v = tf.constant([[   1,0],\n",
        "                      [  10,0],\n",
        "                      [ 100,5],\n",
        "                      [1000,6]], dtype=tf.float32)  # (4, 2)\n",
        "\n",
        "# This `query` aligns with the second `key`,\n",
        "# so the second `value` is returned.\n",
        "temp_q = tf.constant([[0, 10, 0]], dtype=tf.float32)  # (1, 3)\n",
        "print_out(temp_q, temp_k, temp_v)"
      ],
      "execution_count": 40,
      "outputs": [
        {
          "output_type": "stream",
          "text": [
            "Attention weights are:\n",
            "tf.Tensor([[0. 1. 0. 0.]], shape=(1, 4), dtype=float32)\n",
            "Output is:\n",
            "tf.Tensor([[10.  0.]], shape=(1, 2), dtype=float32)\n"
          ],
          "name": "stdout"
        }
      ]
    },
    {
      "cell_type": "code",
      "metadata": {
        "id": "zg6k-fGhgXra",
        "colab": {
          "base_uri": "https://localhost:8080/"
        },
        "outputId": "41924fce-89d4-4d12-c085-6159f3e234f0"
      },
      "source": [
        "# This query aligns with a repeated key (third and fourth), \n",
        "# so all associated values get averaged.\n",
        "temp_q = tf.constant([[0, 0, 10]], dtype=tf.float32)  # (1, 3)\n",
        "print_out(temp_q, temp_k, temp_v)"
      ],
      "execution_count": 41,
      "outputs": [
        {
          "output_type": "stream",
          "text": [
            "Attention weights are:\n",
            "tf.Tensor([[0.  0.  0.5 0.5]], shape=(1, 4), dtype=float32)\n",
            "Output is:\n",
            "tf.Tensor([[550.    5.5]], shape=(1, 2), dtype=float32)\n"
          ],
          "name": "stdout"
        }
      ]
    },
    {
      "cell_type": "code",
      "metadata": {
        "id": "UAq3YOzUgXhb",
        "colab": {
          "base_uri": "https://localhost:8080/"
        },
        "outputId": "5463a8d5-dfc0-45fe-e69f-d18ca19bcbe1"
      },
      "source": [
        "# This query aligns equally with the first and second key, \n",
        "# so their values get averaged.\n",
        "temp_q = tf.constant([[10, 10, 0]], dtype=tf.float32)  # (1, 3)\n",
        "print_out(temp_q, temp_k, temp_v)"
      ],
      "execution_count": 42,
      "outputs": [
        {
          "output_type": "stream",
          "text": [
            "Attention weights are:\n",
            "tf.Tensor([[0.5 0.5 0.  0. ]], shape=(1, 4), dtype=float32)\n",
            "Output is:\n",
            "tf.Tensor([[5.5 0. ]], shape=(1, 2), dtype=float32)\n"
          ],
          "name": "stdout"
        }
      ]
    },
    {
      "cell_type": "markdown",
      "metadata": {
        "id": "aOz-4_XIhaTP"
      },
      "source": [
        "Pass all the queries together."
      ]
    },
    {
      "cell_type": "code",
      "metadata": {
        "id": "6dlU8Tm-hYrF",
        "colab": {
          "base_uri": "https://localhost:8080/"
        },
        "outputId": "27ae333d-a2c8-4af8-e916-d23ebd0a9104"
      },
      "source": [
        "temp_q = tf.constant([[0, 0, 10], [0, 10, 0], [10, 10, 0]], dtype=tf.float32)  # (3, 3)\n",
        "print_out(temp_q, temp_k, temp_v)"
      ],
      "execution_count": 43,
      "outputs": [
        {
          "output_type": "stream",
          "text": [
            "Attention weights are:\n",
            "tf.Tensor(\n",
            "[[0.  0.  0.5 0.5]\n",
            " [0.  1.  0.  0. ]\n",
            " [0.5 0.5 0.  0. ]], shape=(3, 4), dtype=float32)\n",
            "Output is:\n",
            "tf.Tensor(\n",
            "[[550.    5.5]\n",
            " [ 10.    0. ]\n",
            " [  5.5   0. ]], shape=(3, 2), dtype=float32)\n"
          ],
          "name": "stdout"
        }
      ]
    },
    {
      "cell_type": "markdown",
      "metadata": {
        "id": "kmzGPEy64qmA"
      },
      "source": [
        "## Multi-head attention"
      ]
    },
    {
      "cell_type": "markdown",
      "metadata": {
        "id": "fz5BMC8Kaoqo"
      },
      "source": [
        "<img src=\"https://www.tensorflow.org/images/tutorials/transformer/multi_head_attention.png\" width=\"500\" alt=\"multi-head attention\">\n",
        "\n",
        "\n",
        "Multi-head attention consists of four parts:\n",
        "*    Linear layers and split into heads.\n",
        "*    Scaled dot-product attention.\n",
        "*    Concatenation of heads.\n",
        "*    Final linear layer."
      ]
    },
    {
      "cell_type": "markdown",
      "metadata": {
        "id": "JPmbr6F1C-v_"
      },
      "source": [
        "Each multi-head attention block gets three inputs; Q (query), K (key), V (value). These are put through linear (Dense) layers and split up into multiple heads. \n",
        "\n",
        "The `scaled_dot_product_attention` defined above is applied to each head (broadcasted for efficiency). An appropriate mask must be used in the attention step.  The attention output for each head is then concatenated (using `tf.transpose`, and `tf.reshape`) and put through a final `Dense` layer.\n",
        "\n",
        "Instead of one single attention head, Q, K, and V are split into multiple heads because it allows the model to jointly attend to information at different positions from different representational spaces. After the split each head has a reduced dimensionality, so the total computation cost is the same as a single head attention with full dimensionality."
      ]
    },
    {
      "cell_type": "code",
      "metadata": {
        "id": "BSV3PPKsYecw"
      },
      "source": [
        "class MultiHeadAttention(tf.keras.layers.Layer):\n",
        "  def __init__(self, d_model, num_heads):\n",
        "    super(MultiHeadAttention, self).__init__()\n",
        "    self.num_heads = num_heads\n",
        "    self.d_model = d_model\n",
        "    \n",
        "    assert d_model % self.num_heads == 0\n",
        "    \n",
        "    self.depth = d_model // self.num_heads\n",
        "    \n",
        "    self.wq = tf.keras.layers.Dense(d_model)\n",
        "    self.wk = tf.keras.layers.Dense(d_model)\n",
        "    self.wv = tf.keras.layers.Dense(d_model)\n",
        "    \n",
        "    self.dense = tf.keras.layers.Dense(d_model)\n",
        "        \n",
        "  def split_heads(self, x, batch_size):\n",
        "    \"\"\"Split the last dimension into (num_heads, depth).\n",
        "    Transpose the result such that the shape is (batch_size, num_heads, seq_len, depth)\n",
        "    \"\"\"\n",
        "    x = tf.reshape(x, (batch_size, -1, self.num_heads, self.depth))\n",
        "    return tf.transpose(x, perm=[0, 2, 1, 3])\n",
        "    \n",
        "  def call(self, v, k, q, mask):\n",
        "    batch_size = tf.shape(q)[0]\n",
        "    \n",
        "    q = self.wq(q)  # (batch_size, seq_len, d_model)\n",
        "    k = self.wk(k)  # (batch_size, seq_len, d_model)\n",
        "    v = self.wv(v)  # (batch_size, seq_len, d_model)\n",
        "    \n",
        "    q = self.split_heads(q, batch_size)  # (batch_size, num_heads, seq_len_q, depth)\n",
        "    k = self.split_heads(k, batch_size)  # (batch_size, num_heads, seq_len_k, depth)\n",
        "    v = self.split_heads(v, batch_size)  # (batch_size, num_heads, seq_len_v, depth)\n",
        "    \n",
        "    # scaled_attention.shape == (batch_size, num_heads, seq_len_q, depth)\n",
        "    # attention_weights.shape == (batch_size, num_heads, seq_len_q, seq_len_k)\n",
        "    scaled_attention, attention_weights = scaled_dot_product_attention(\n",
        "        q, k, v, mask)\n",
        "    \n",
        "    scaled_attention = tf.transpose(scaled_attention, perm=[0, 2, 1, 3])  # (batch_size, seq_len_q, num_heads, depth)\n",
        "\n",
        "    concat_attention = tf.reshape(scaled_attention, \n",
        "                                  (batch_size, -1, self.d_model))  # (batch_size, seq_len_q, d_model)\n",
        "\n",
        "    output = self.dense(concat_attention)  # (batch_size, seq_len_q, d_model)\n",
        "        \n",
        "    return output, attention_weights"
      ],
      "execution_count": 44,
      "outputs": []
    },
    {
      "cell_type": "markdown",
      "metadata": {
        "id": "0D8FJue5lDyZ"
      },
      "source": [
        "Create a `MultiHeadAttention` layer to try out. At each location in the sequence, `y`, the `MultiHeadAttention` runs all 8 attention heads across all other locations in the sequence, returning a new vector of the same length at each location."
      ]
    },
    {
      "cell_type": "code",
      "metadata": {
        "id": "Hu94p-_-2_BX",
        "colab": {
          "base_uri": "https://localhost:8080/"
        },
        "outputId": "84494320-780c-47ee-d8ef-83f3e6b8ec73"
      },
      "source": [
        "temp_mha = MultiHeadAttention(d_model=512, num_heads=8)\n",
        "y = tf.random.uniform((1, 60, 512))  # (batch_size, encoder_sequence, d_model)\n",
        "out, attn = temp_mha(y, k=y, q=y, mask=None)\n",
        "out.shape, attn.shape"
      ],
      "execution_count": 45,
      "outputs": [
        {
          "output_type": "execute_result",
          "data": {
            "text/plain": [
              "(TensorShape([1, 60, 512]), TensorShape([1, 8, 60, 60]))"
            ]
          },
          "metadata": {
            "tags": []
          },
          "execution_count": 45
        }
      ]
    },
    {
      "cell_type": "markdown",
      "metadata": {
        "id": "RdDqGayx67vv"
      },
      "source": [
        "## Point wise feed forward network"
      ]
    },
    {
      "cell_type": "markdown",
      "metadata": {
        "id": "gBqzJXGfHK3X"
      },
      "source": [
        "Point wise feed forward network consists of two fully-connected layers with a ReLU activation in between."
      ]
    },
    {
      "cell_type": "code",
      "metadata": {
        "id": "ET7xLt0yCT6Z"
      },
      "source": [
        "def point_wise_feed_forward_network(d_model, dff):\n",
        "  return tf.keras.Sequential([\n",
        "      tf.keras.layers.Dense(dff, activation='relu'),  # (batch_size, seq_len, dff)\n",
        "      tf.keras.layers.Dense(d_model)  # (batch_size, seq_len, d_model)\n",
        "  ])"
      ],
      "execution_count": 46,
      "outputs": []
    },
    {
      "cell_type": "code",
      "metadata": {
        "id": "mytb1lPyOHLB",
        "colab": {
          "base_uri": "https://localhost:8080/"
        },
        "outputId": "ff5da3c3-515e-4523-f03c-99eb662c3741"
      },
      "source": [
        "sample_ffn = point_wise_feed_forward_network(512, 2048)\n",
        "sample_ffn(tf.random.uniform((64, 50, 512))).shape"
      ],
      "execution_count": 47,
      "outputs": [
        {
          "output_type": "execute_result",
          "data": {
            "text/plain": [
              "TensorShape([64, 50, 512])"
            ]
          },
          "metadata": {
            "tags": []
          },
          "execution_count": 47
        }
      ]
    },
    {
      "cell_type": "markdown",
      "metadata": {
        "id": "7e7hKcxn6-zd"
      },
      "source": [
        "## Encoder and decoder"
      ]
    },
    {
      "cell_type": "markdown",
      "metadata": {
        "id": "yScbC0MUH8dS"
      },
      "source": [
        "<img src=\"https://www.tensorflow.org/images/tutorials/transformer/transformer.png\" width=\"600\" alt=\"transformer\">"
      ]
    },
    {
      "cell_type": "markdown",
      "metadata": {
        "id": "MfYJG-Kvgwy2"
      },
      "source": [
        "The transformer model follows the same general pattern as a standard [sequence to sequence with attention model](nmt_with_attention.ipynb). \n",
        "\n",
        "* The input sentence is passed through `N` encoder layers that generates an output for each word/token in the sequence.\n",
        "* The decoder attends on the encoder's output and its own input (self-attention) to predict the next word. "
      ]
    },
    {
      "cell_type": "markdown",
      "metadata": {
        "id": "QFv-FNYUmvpn"
      },
      "source": [
        "### Encoder layer\n",
        "\n",
        "Each encoder layer consists of sublayers:\n",
        "\n",
        "1.   Multi-head attention (with padding mask) \n",
        "2.    Point wise feed forward networks. \n",
        "\n",
        "Each of these sublayers has a residual connection around it followed by a layer normalization. Residual connections help in avoiding the vanishing gradient problem in deep networks.\n",
        "\n",
        "The output of each sublayer is `LayerNorm(x + Sublayer(x))`. The normalization is done on the `d_model` (last) axis. There are N encoder layers in the transformer."
      ]
    },
    {
      "cell_type": "code",
      "metadata": {
        "id": "ncyS-Ms3i2x_"
      },
      "source": [
        "class EncoderLayer(tf.keras.layers.Layer):\n",
        "  def __init__(self, d_model, num_heads, dff, rate=0.1):\n",
        "    super(EncoderLayer, self).__init__()\n",
        "\n",
        "    self.mha = MultiHeadAttention(d_model, num_heads)\n",
        "\n",
        "    self.ffn = point_wise_feed_forward_network(d_model, dff)\n",
        "\n",
        "    self.layernorm1 = tf.keras.layers.LayerNormalization(epsilon=1e-6)\n",
        "    self.layernorm2 = tf.keras.layers.LayerNormalization(epsilon=1e-6)\n",
        "    \n",
        "    self.dropout1 = tf.keras.layers.Dropout(rate)\n",
        "    self.dropout2 = tf.keras.layers.Dropout(rate)\n",
        "    \n",
        "  def call(self, x, training, mask):\n",
        "    attn_output, _ = self.mha(x, x, x, mask)  # (batch_size, input_seq_len, d_model)\n",
        "\n",
        "    attn_output = self.dropout1(attn_output, training=training)\n",
        "    out1 = self.layernorm1(x + attn_output)  # (batch_size, input_seq_len, d_model)\n",
        "    \n",
        "    ffn_output = self.ffn(out1)  # (batch_size, input_seq_len, d_model)\n",
        "    ffn_output = self.dropout2(ffn_output, training=training)\n",
        "    out2 = self.layernorm2(out1 + ffn_output)  # (batch_size, input_seq_len, d_model)\n",
        "    \n",
        "    return out2"
      ],
      "execution_count": 48,
      "outputs": []
    },
    {
      "cell_type": "code",
      "metadata": {
        "id": "AzZRXdO0mI48",
        "colab": {
          "base_uri": "https://localhost:8080/"
        },
        "outputId": "b2b9161f-b4c7-42ca-b0a0-30dcfa85dd64"
      },
      "source": [
        "sample_encoder_layer = EncoderLayer(512, 8, 2048)\n",
        "\n",
        "sample_encoder_layer_output = sample_encoder_layer(\n",
        "    tf.random.uniform((64, 50, 512)), False, None)\n",
        "\n",
        "sample_encoder_layer_output.shape  # (batch_size, input_seq_len, d_model) ([64, 50, 512])\n",
        "# EncoderLayer:call entered for out2: [ 64  50 512] and value: [[[ 0.19326821 -1.7136104   0.69497544 ... -0.9291935  -0.57048583 -1.4038607 ]"
      ],
      "execution_count": 49,
      "outputs": [
        {
          "output_type": "execute_result",
          "data": {
            "text/plain": [
              "TensorShape([64, 50, 512])"
            ]
          },
          "metadata": {
            "tags": []
          },
          "execution_count": 49
        }
      ]
    },
    {
      "cell_type": "markdown",
      "metadata": {
        "id": "6LO_48Owmx_o"
      },
      "source": [
        "### Decoder layer\n",
        "\n",
        "Each decoder layer consists of sublayers:\n",
        "\n",
        "1.   Masked multi-head attention (with look ahead mask and padding mask)\n",
        "2.   Multi-head attention (with padding mask). V (value) and K (key) receive the *encoder output* as inputs. Q (query) receives the *output from the masked multi-head attention sublayer.*\n",
        "3.   Point wise feed forward networks\n",
        "\n",
        "Each of these sublayers has a residual connection around it followed by a layer normalization. The output of each sublayer is `LayerNorm(x + Sublayer(x))`. The normalization is done on the `d_model` (last) axis.\n",
        "\n",
        "There are N decoder layers in the transformer.\n",
        "\n",
        "As Q receives the output from decoder's first attention block, and K receives the encoder output, the attention weights represent the importance given to the decoder's input based on the encoder's output. In other words, the decoder predicts the next word by looking at the encoder output and self-attending to its own output. See the demonstration above in the scaled dot product attention section."
      ]
    },
    {
      "cell_type": "code",
      "metadata": {
        "id": "9SoX0-vd1hue"
      },
      "source": [
        "class DecoderLayer(tf.keras.layers.Layer):\n",
        "  def __init__(self, d_model, num_heads, dff, rate=0.1):\n",
        "    super(DecoderLayer, self).__init__()\n",
        "\n",
        "    self.mha1 = MultiHeadAttention(d_model, num_heads)\n",
        "    self.mha2 = MultiHeadAttention(d_model, num_heads)\n",
        "\n",
        "    self.ffn = point_wise_feed_forward_network(d_model, dff)\n",
        " \n",
        "    self.layernorm1 = tf.keras.layers.LayerNormalization(epsilon=1e-6)\n",
        "    self.layernorm2 = tf.keras.layers.LayerNormalization(epsilon=1e-6)\n",
        "    self.layernorm3 = tf.keras.layers.LayerNormalization(epsilon=1e-6)\n",
        "    \n",
        "    self.dropout1 = tf.keras.layers.Dropout(rate)\n",
        "    self.dropout2 = tf.keras.layers.Dropout(rate)\n",
        "    self.dropout3 = tf.keras.layers.Dropout(rate)\n",
        "    \n",
        "  def call(self, x, enc_output, training, \n",
        "           look_ahead_mask, padding_mask):\n",
        "    \n",
        "    # enc_output.shape == (batch_size, input_seq_len, d_model)\n",
        "    attn1, attn_weights_block1 = self.mha1(x, x, x, look_ahead_mask)  # (batch_size, target_seq_len, d_model)\n",
        "    attn1 = self.dropout1(attn1, training=training)\n",
        "    out1 = self.layernorm1(attn1 + x)\n",
        "\n",
        "    attn2, attn_weights_block2 = self.mha2(\n",
        "        enc_output, enc_output, out1, padding_mask)  # (batch_size, target_seq_len, d_model)\n",
        "\n",
        "    attn2 = self.dropout2(attn2, training=training)\n",
        "    out2 = self.layernorm2(attn2 + out1)  # (batch_size, target_seq_len, d_model)\n",
        "    \n",
        "    ffn_output = self.ffn(out2)  # (batch_size, target_seq_len, d_model)\n",
        "    ffn_output = self.dropout3(ffn_output, training=training)\n",
        "    out3 = self.layernorm3(ffn_output + out2)  # (batch_size, target_seq_len, d_model)\n",
        "    \n",
        "    return out3, attn_weights_block1, attn_weights_block2"
      ],
      "execution_count": 50,
      "outputs": []
    },
    {
      "cell_type": "code",
      "metadata": {
        "colab": {
          "base_uri": "https://localhost:8080/"
        },
        "id": "W8AgIAnKoc5k",
        "outputId": "f56b1c7d-f1a5-4a56-90e9-7c39697b5859"
      },
      "source": [
        "sample_decoder_layer = DecoderLayer(512, 8, 2048)\n",
        "sample_decoder_layer_output, attn_weights_block1, attn_weights_block2 = sample_decoder_layer(\n",
        "    tf.random.uniform((64, 74, 512)), sample_encoder_layer_output, \n",
        "    False, None, None)\n",
        "\n",
        "sample_decoder_layer_output.shape  # (batch_size, target_seq_len, d_model)"
      ],
      "execution_count": 51,
      "outputs": [
        {
          "output_type": "execute_result",
          "data": {
            "text/plain": [
              "TensorShape([64, 74, 512])"
            ]
          },
          "metadata": {
            "tags": []
          },
          "execution_count": 51
        }
      ]
    },
    {
      "cell_type": "markdown",
      "metadata": {
        "id": "SE1H51Ajm0q1"
      },
      "source": [
        "### Encoder\n",
        "\n",
        "The `Encoder` consists of:\n",
        "1.   Input Embedding\n",
        "2.   Positional Encoding\n",
        "3.   N encoder layers\n",
        "\n",
        "The input is put through an embedding which is summed with the positional encoding. The output of this summation is the input to the encoder layers. The output of the encoder is the input to the decoder."
      ]
    },
    {
      "cell_type": "code",
      "metadata": {
        "id": "jpEox7gJ8FCI"
      },
      "source": [
        "class Encoder(tf.keras.layers.Layer):\n",
        "  def __init__(self, num_layers, d_model, num_heads, dff, input_vocab_size,\n",
        "               maximum_position_encoding, rate=0.1):\n",
        "    super(Encoder, self).__init__()\n",
        "\n",
        "    self.d_model = d_model\n",
        "    self.num_layers = num_layers\n",
        "    \n",
        "    self.embedding = tf.keras.layers.Embedding(input_vocab_size, d_model)\n",
        "    self.pos_encoding = positional_encoding(maximum_position_encoding, \n",
        "                                            self.d_model)\n",
        "    \n",
        "    \n",
        "    self.enc_layers = [EncoderLayer(d_model, num_heads, dff, rate) \n",
        "                       for _ in range(num_layers)]\n",
        "  \n",
        "    self.dropout = tf.keras.layers.Dropout(rate)\n",
        "        \n",
        "  def call(self, x, training, mask):\n",
        "\n",
        "    seq_len = tf.shape(x)[1]\n",
        "    \n",
        "    # adding embedding and position encoding.\n",
        "    x = self.embedding(x)  # (batch_size, input_seq_len, d_model)\n",
        "\n",
        "    x *= tf.math.sqrt(tf.cast(self.d_model, tf.float32))\n",
        "    x += self.pos_encoding[:, :seq_len, :]\n",
        "\n",
        "    x = self.dropout(x, training=training)\n",
        "    \n",
        "    for i in range(self.num_layers):\n",
        "      x = self.enc_layers[i](x, training, mask)\n",
        "    \n",
        "    return x  # (batch_size, input_seq_len, d_model)"
      ],
      "execution_count": 52,
      "outputs": []
    },
    {
      "cell_type": "code",
      "metadata": {
        "id": "8QG9nueFQKXx",
        "colab": {
          "base_uri": "https://localhost:8080/"
        },
        "outputId": "e6bcc9ac-2940-4c70-9340-3188679d7407"
      },
      "source": [
        "sample_encoder = Encoder(num_layers=2, d_model=512, num_heads=8, \n",
        "                         dff=2048, input_vocab_size=8500,\n",
        "                         maximum_position_encoding=10000)\n",
        "temp_input = tf.random.uniform((64, 62), dtype=tf.int64, minval=0, maxval=200)\n",
        "\n",
        "sample_encoder_output = sample_encoder(temp_input, training=False, mask=None)\n",
        "\n",
        "print (sample_encoder_output.shape)  # (batch_size, input_seq_len, d_model)"
      ],
      "execution_count": 53,
      "outputs": [
        {
          "output_type": "stream",
          "text": [
            "(64, 62, 512)\n"
          ],
          "name": "stdout"
        }
      ]
    },
    {
      "cell_type": "markdown",
      "metadata": {
        "id": "p-uO6ls8m2O5"
      },
      "source": [
        "### Decoder"
      ]
    },
    {
      "cell_type": "markdown",
      "metadata": {
        "id": "ZtT7PKzrXkNr"
      },
      "source": [
        " The `Decoder` consists of:\n",
        "1.   Output Embedding\n",
        "2.   Positional Encoding\n",
        "3.   N decoder layers\n",
        "\n",
        "The target is put through an embedding which is summed with the positional encoding. The output of this summation is the input to the decoder layers. The output of the decoder is the input to the final linear layer."
      ]
    },
    {
      "cell_type": "code",
      "metadata": {
        "id": "d5_d5-PLQXwY"
      },
      "source": [
        "class Decoder(tf.keras.layers.Layer):\n",
        "  def __init__(self, num_layers, d_model, num_heads, dff, target_vocab_size,\n",
        "               maximum_position_encoding, rate=0.1):\n",
        "    super(Decoder, self).__init__()\n",
        "\n",
        "    self.d_model = d_model\n",
        "    self.num_layers = num_layers\n",
        "    \n",
        "    self.embedding = tf.keras.layers.Embedding(target_vocab_size, d_model)\n",
        "    self.pos_encoding = positional_encoding(maximum_position_encoding, d_model)\n",
        "    \n",
        "    self.dec_layers = [DecoderLayer(d_model, num_heads, dff, rate) \n",
        "                       for _ in range(num_layers)]\n",
        "    self.dropout = tf.keras.layers.Dropout(rate)\n",
        "    \n",
        "  def call(self, x, enc_output, training, \n",
        "           look_ahead_mask, padding_mask):\n",
        "\n",
        "    seq_len = tf.shape(x)[1]\n",
        "    attention_weights = {}\n",
        "    \n",
        "    x = self.embedding(x)  # (batch_size, target_seq_len, d_model)\n",
        "    x *= tf.math.sqrt(tf.cast(self.d_model, tf.float32))\n",
        "    x += self.pos_encoding[:, :seq_len, :]\n",
        "    \n",
        "    x = self.dropout(x, training=training)\n",
        "\n",
        "    for i in range(self.num_layers):\n",
        "      x, block1, block2 = self.dec_layers[i](x, enc_output, training,\n",
        "                                             look_ahead_mask, padding_mask)\n",
        "      \n",
        "      attention_weights['decoder_layer{}_block1'.format(i+1)] = block1\n",
        "      attention_weights['decoder_layer{}_block2'.format(i+1)] = block2\n",
        "    \n",
        "    # x.shape == (batch_size, target_seq_len, d_model)\n",
        "    return x, attention_weights"
      ],
      "execution_count": 54,
      "outputs": []
    },
    {
      "cell_type": "code",
      "metadata": {
        "id": "a1jXoAMRZyvu",
        "colab": {
          "base_uri": "https://localhost:8080/"
        },
        "outputId": "9870e429-906c-4628-cfce-00889a145c12"
      },
      "source": [
        "sample_decoder = Decoder(num_layers=2, d_model=512, num_heads=8, \n",
        "                         dff=2048, target_vocab_size=8000,\n",
        "                         maximum_position_encoding=5000)\n",
        "temp_input = tf.random.uniform((64, 62), dtype=tf.int64, minval=0, maxval=200)\n",
        "\n",
        "output, attn = sample_decoder(temp_input, \n",
        "                              enc_output=sample_encoder_output, \n",
        "                              training=False,\n",
        "                              look_ahead_mask=None, \n",
        "                              padding_mask=None)\n",
        "\n",
        "output.shape, attn['decoder_layer2_block2'].shape"
      ],
      "execution_count": 55,
      "outputs": [
        {
          "output_type": "execute_result",
          "data": {
            "text/plain": [
              "(TensorShape([64, 62, 512]), TensorShape([64, 8, 62, 62]))"
            ]
          },
          "metadata": {
            "tags": []
          },
          "execution_count": 55
        }
      ]
    },
    {
      "cell_type": "markdown",
      "metadata": {
        "id": "y54xnJnuYgJ7"
      },
      "source": [
        "## Create the Transformer"
      ]
    },
    {
      "cell_type": "markdown",
      "metadata": {
        "id": "uERO1y54cOKq"
      },
      "source": [
        "Transformer consists of the encoder, decoder and a final linear layer. The output of the decoder is the input to the linear layer and its output is returned."
      ]
    },
    {
      "cell_type": "code",
      "metadata": {
        "id": "PED3bIpOYkBu"
      },
      "source": [
        "class Transformer(tf.keras.Model):\n",
        "  def __init__(self, num_layers, d_model, num_heads, dff, input_vocab_size, \n",
        "               target_vocab_size, pe_input, pe_target, rate=0.1):\n",
        "    super(Transformer, self).__init__()\n",
        "\n",
        "    self.tokenizer = Encoder(num_layers, d_model, num_heads, dff, \n",
        "                           input_vocab_size, pe_input, rate)\n",
        "\n",
        "    self.decoder = Decoder(num_layers, d_model, num_heads, dff, \n",
        "                           target_vocab_size, pe_target, rate)\n",
        "\n",
        "    self.final_layer = tf.keras.layers.Dense(target_vocab_size)\n",
        "    \n",
        "  def call(self, inp, tar, training, enc_padding_mask, \n",
        "           look_ahead_mask, dec_padding_mask):\n",
        "\n",
        "    enc_output = self.tokenizer(inp, training, enc_padding_mask)  # (batch_size, inp_seq_len, d_model)\n",
        "    \n",
        "    # dec_output.shape == (batch_size, tar_seq_len, d_model)\n",
        "    dec_output, attention_weights = self.decoder(\n",
        "        tar, enc_output, training, look_ahead_mask, dec_padding_mask)\n",
        "    \n",
        "    final_output = self.final_layer(dec_output)  # (batch_size, tar_seq_len, target_vocab_size)\n",
        "    \n",
        "    return final_output, attention_weights"
      ],
      "execution_count": 56,
      "outputs": []
    },
    {
      "cell_type": "code",
      "metadata": {
        "id": "tJ4fbQcIkHW1",
        "colab": {
          "base_uri": "https://localhost:8080/"
        },
        "outputId": "37ea7660-2a17-435d-ab3a-e450e242bae1"
      },
      "source": [
        "sample_transformer = Transformer(\n",
        "    num_layers=2, d_model=128, num_heads=4, dff=512, \n",
        "    input_vocab_size=20000, target_vocab_size=10000, \n",
        "    pe_input=10000, pe_target=6000)\n",
        "\n",
        "temp_input = tf.random.uniform((64, 38), dtype=tf.int64, minval=0, maxval=200)\n",
        "temp_target = tf.random.uniform((64, 36), dtype=tf.int64, minval=0, maxval=200)\n",
        "\n",
        "fn_out, _ = sample_transformer(temp_input, temp_target, training=False, \n",
        "                               enc_padding_mask=None, \n",
        "                               look_ahead_mask=None,\n",
        "                               dec_padding_mask=None)\n",
        "\n",
        "fn_out.shape  # (batch_size, tar_seq_len, target_vocab_size)"
      ],
      "execution_count": 57,
      "outputs": [
        {
          "output_type": "execute_result",
          "data": {
            "text/plain": [
              "TensorShape([64, 36, 10000])"
            ]
          },
          "metadata": {
            "tags": []
          },
          "execution_count": 57
        }
      ]
    },
    {
      "cell_type": "markdown",
      "metadata": {
        "id": "wsINyf1VEQLC"
      },
      "source": [
        "## Set hyperparameters"
      ]
    },
    {
      "cell_type": "markdown",
      "metadata": {
        "id": "zVjWCxFNcgbt"
      },
      "source": [
        "To keep this example small and relatively fast, the values for *num_layers, d_model, and dff* have been reduced. \n",
        "\n",
        "The values used in the base model of transformer were; *num_layers=6*, *d_model = 512*, *dff = 2048*. See the [paper](https://arxiv.org/abs/1706.03762) for all the other versions of the transformer.\n",
        "\n",
        "Note: By changing the values below, you can get the model that achieved state of the art on many tasks."
      ]
    },
    {
      "cell_type": "code",
      "metadata": {
        "id": "lnJn5SLA2ahP"
      },
      "source": [
        "num_layers = 4\n",
        "d_model = 128\n",
        "dff = 512\n",
        "num_heads = 8\n",
        "dropout_rate = 0.1"
      ],
      "execution_count": 58,
      "outputs": []
    },
    {
      "cell_type": "markdown",
      "metadata": {
        "id": "xYEGhEOtzn5W"
      },
      "source": [
        "## Optimizer"
      ]
    },
    {
      "cell_type": "markdown",
      "metadata": {
        "id": "GOmWW--yP3zx"
      },
      "source": [
        "Use the Adam optimizer with a custom learning rate scheduler according to the formula in the [paper](https://arxiv.org/abs/1706.03762).\n",
        "\n",
        "$$\\Large{lrate = d_{model}^{-0.5} * min(step{\\_}num^{-0.5}, step{\\_}num * warmup{\\_}steps^{-1.5})}$$\n"
      ]
    },
    {
      "cell_type": "code",
      "metadata": {
        "id": "iYQdOO1axwEI"
      },
      "source": [
        "class CustomSchedule(tf.keras.optimizers.schedules.LearningRateSchedule):\n",
        "  def __init__(self, d_model, warmup_steps=4000):\n",
        "    super(CustomSchedule, self).__init__()\n",
        "    \n",
        "    self.d_model = d_model\n",
        "    self.d_model = tf.cast(self.d_model, tf.float32)\n",
        "\n",
        "    self.warmup_steps = warmup_steps\n",
        "    \n",
        "  def __call__(self, step):\n",
        "    arg1 = tf.math.rsqrt(step)\n",
        "    arg2 = step * (self.warmup_steps ** -1.5)\n",
        "    \n",
        "    return tf.math.rsqrt(self.d_model) * tf.math.minimum(arg1, arg2)"
      ],
      "execution_count": 59,
      "outputs": []
    },
    {
      "cell_type": "code",
      "metadata": {
        "id": "7r4scdulztRx"
      },
      "source": [
        "learning_rate = CustomSchedule(d_model)\n",
        "\n",
        "optimizer = tf.keras.optimizers.Adam(learning_rate, beta_1=0.9, beta_2=0.98, \n",
        "                                     epsilon=1e-9)"
      ],
      "execution_count": 60,
      "outputs": []
    },
    {
      "cell_type": "code",
      "metadata": {
        "id": "f33ZCgvHpPdG",
        "colab": {
          "base_uri": "https://localhost:8080/",
          "height": 296
        },
        "outputId": "3ca4b8e9-f974-43c1-c406-f93332f5fe86"
      },
      "source": [
        "temp_learning_rate_schedule = CustomSchedule(d_model)\n",
        "\n",
        "plt.plot(temp_learning_rate_schedule(tf.range(40000, dtype=tf.float32)))\n",
        "plt.ylabel(\"Learning Rate\")\n",
        "plt.xlabel(\"Train Step\")"
      ],
      "execution_count": 61,
      "outputs": [
        {
          "output_type": "execute_result",
          "data": {
            "text/plain": [
              "Text(0.5, 0, 'Train Step')"
            ]
          },
          "metadata": {
            "tags": []
          },
          "execution_count": 61
        },
        {
          "output_type": "display_data",
          "data": {
            "image/png": "[encoded data removed]",
            "text/plain": [
              "<Figure size 432x288 with 1 Axes>"
            ]
          },
          "metadata": {
            "tags": [],
            "needs_background": "light"
          }
        }
      ]
    },
    {
      "cell_type": "markdown",
      "metadata": {
        "id": "YgkDE7hzo8r5"
      },
      "source": [
        "## Loss and metrics"
      ]
    },
    {
      "cell_type": "markdown",
      "metadata": {
        "id": "oxGJtoDuYIHL"
      },
      "source": [
        "Since the target sequences are padded, it is important to apply a padding mask when calculating the loss."
      ]
    },
    {
      "cell_type": "code",
      "metadata": {
        "id": "MlhsJMm0TW_B"
      },
      "source": [
        "loss_object = tf.keras.losses.SparseCategoricalCrossentropy(\n",
        "    from_logits=True, reduction='none')"
      ],
      "execution_count": 62,
      "outputs": []
    },
    {
      "cell_type": "code",
      "metadata": {
        "id": "67oqVHiT0Eiu"
      },
      "source": [
        "def loss_function(real, pred):\n",
        "  mask = tf.math.logical_not(tf.math.equal(real, 0))\n",
        "  loss_ = loss_object(real, pred)\n",
        "\n",
        "  mask = tf.cast(mask, dtype=loss_.dtype)\n",
        "  loss_ *= mask\n",
        "  \n",
        "  return tf.reduce_sum(loss_)/tf.reduce_sum(mask)\n",
        "\n",
        "\n",
        "def accuracy_function(real, pred):\n",
        "  accuracies = tf.equal(real, tf.argmax(pred, axis=2))\n",
        "  \n",
        "  mask = tf.math.logical_not(tf.math.equal(real, 0))\n",
        "  accuracies = tf.math.logical_and(mask, accuracies)\n",
        "\n",
        "  accuracies = tf.cast(accuracies, dtype=tf.float32)\n",
        "  mask = tf.cast(mask, dtype=tf.float32)\n",
        "  return tf.reduce_sum(accuracies)/tf.reduce_sum(mask)"
      ],
      "execution_count": 63,
      "outputs": []
    },
    {
      "cell_type": "code",
      "metadata": {
        "id": "phlyxMnm-Tpx"
      },
      "source": [
        "train_loss = tf.keras.metrics.Mean(name='train_loss')\n",
        "train_accuracy = tf.keras.metrics.Mean(name='train_accuracy')"
      ],
      "execution_count": 64,
      "outputs": []
    },
    {
      "cell_type": "markdown",
      "metadata": {
        "id": "aeHumfr7zmMa"
      },
      "source": [
        "## Training and checkpointing"
      ]
    },
    {
      "cell_type": "code",
      "metadata": {
        "id": "UiysUa--4tOU"
      },
      "source": [
        "transformer = Transformer(\n",
        "    num_layers=num_layers,\n",
        "    d_model=d_model,\n",
        "    num_heads=num_heads,\n",
        "    dff=dff,\n",
        "    input_vocab_size=tokenizers.ru.get_vocab_size(),\n",
        "    target_vocab_size=tokenizers.en.get_vocab_size(), \n",
        "    pe_input=1000, \n",
        "    pe_target=1000,\n",
        "    rate=dropout_rate)"
      ],
      "execution_count": 65,
      "outputs": []
    },
    {
      "cell_type": "code",
      "metadata": {
        "id": "ZOJUSB1T8GjM"
      },
      "source": [
        "def create_masks(inp, tar):\n",
        "  # Encoder padding mask\n",
        "  enc_padding_mask = create_padding_mask(inp)\n",
        "  \n",
        "  # Used in the 2nd attention block in the decoder.\n",
        "  # This padding mask is used to mask the encoder outputs.\n",
        "  dec_padding_mask = create_padding_mask(inp)\n",
        "  \n",
        "  # Used in the 1st attention block in the decoder.\n",
        "  # It is used to pad and mask future tokens in the input received by \n",
        "  # the decoder.\n",
        "  look_ahead_mask = create_look_ahead_mask(tf.shape(tar)[1])\n",
        "  dec_target_padding_mask = create_padding_mask(tar)\n",
        "  combined_mask = tf.maximum(dec_target_padding_mask, look_ahead_mask)\n",
        "  \n",
        "  return enc_padding_mask, combined_mask, dec_padding_mask"
      ],
      "execution_count": 66,
      "outputs": []
    },
    {
      "cell_type": "markdown",
      "metadata": {
        "id": "Fzuf06YZp66w"
      },
      "source": [
        "Create the checkpoint path and the checkpoint manager. This will be used to save checkpoints every `n` epochs."
      ]
    },
    {
      "cell_type": "code",
      "metadata": {
        "id": "hNhuYfllndLZ"
      },
      "source": [
        "checkpoint_path = BASE_MODEL_PATH\n",
        "\n",
        "ckpt = tf.train.Checkpoint(transformer=transformer,\n",
        "                           optimizer=optimizer)\n",
        "\n",
        "ckpt_manager = tf.train.CheckpointManager(ckpt, checkpoint_path, max_to_keep=2)\n",
        "\n",
        "model_already_built = False\n",
        "\n",
        "# if a checkpoint exists, restore the latest checkpoint.\n",
        "if ckpt_manager.latest_checkpoint:\n",
        "  ckpt.restore(ckpt_manager.latest_checkpoint)\n",
        "  print ('Latest checkpoint restored!!')\n",
        "  model_already_built = True"
      ],
      "execution_count": 67,
      "outputs": []
    },
    {
      "cell_type": "markdown",
      "metadata": {
        "id": "0Di_Yaa1gf9r"
      },
      "source": [
        "The target is divided into tar_inp and tar_real. tar_inp is passed as an input to the decoder. `tar_real` is that same input shifted by 1: At each location in `tar_input`, `tar_real` contains the  next token that should be predicted.\n",
        "\n",
        "For example, `sentence` = \"SOS A lion in the jungle is sleeping EOS\"\n",
        "\n",
        "`tar_inp` =  \"SOS A lion in the jungle is sleeping\"\n",
        "\n",
        "`tar_real` = \"A lion in the jungle is sleeping EOS\"\n",
        "\n",
        "The transformer is an auto-regressive model: it makes predictions one part at a time, and uses its output so far to decide what to do next. \n",
        "\n",
        "During training this example uses teacher-forcing (like in the [text generation tutorial](./text_generation.ipynb)). Teacher forcing is passing the true output to the next time step regardless of what the model predicts at the current time step.\n",
        "\n",
        "As the transformer predicts each word, *self-attention* allows it to look at the previous words in the input sequence to better predict the next word.\n",
        "\n",
        "To prevent the model from peeking at the expected output the model uses a look-ahead mask."
      ]
    },
    {
      "cell_type": "code",
      "metadata": {
        "id": "LKpoA6q1sJFj"
      },
      "source": [
        "EPOCHS = 20"
      ],
      "execution_count": 68,
      "outputs": []
    },
    {
      "cell_type": "code",
      "metadata": {
        "id": "iJwmp9OE29oj"
      },
      "source": [
        "# The @tf.function trace-compiles train_step into a TF graph for faster\n",
        "# execution. The function specializes to the precise shape of the argument\n",
        "# tensors. To avoid re-tracing due to the variable sequence lengths or variable\n",
        "# batch sizes (the last batch is smaller), use input_signature to specify\n",
        "# more generic shapes.\n",
        "\n",
        "train_step_signature = [\n",
        "    tf.TensorSpec(shape=(None, None), dtype=tf.int64),\n",
        "    tf.TensorSpec(shape=(None, None), dtype=tf.int64),\n",
        "]\n",
        "\n",
        "@tf.function(input_signature=train_step_signature)\n",
        "def train_step(inp, tar):\n",
        "  tar_inp = tar[:, :-1]\n",
        "  tar_real = tar[:, 1:]\n",
        "  \n",
        "  enc_padding_mask, combined_mask, dec_padding_mask = create_masks(inp, tar_inp)\n",
        "  \n",
        "  with tf.GradientTape() as tape:\n",
        "    predictions, _ = transformer(inp, tar_inp, \n",
        "                                 True, \n",
        "                                 enc_padding_mask, \n",
        "                                 combined_mask, \n",
        "                                 dec_padding_mask)\n",
        "    loss = loss_function(tar_real, predictions)\n",
        "\n",
        "  gradients = tape.gradient(loss, transformer.trainable_variables)    \n",
        "  optimizer.apply_gradients(zip(gradients, transformer.trainable_variables))\n",
        "  \n",
        "  train_loss(loss)\n",
        "  train_accuracy(accuracy_function(tar_real, predictions))"
      ],
      "execution_count": 69,
      "outputs": []
    },
    {
      "cell_type": "markdown",
      "metadata": {
        "id": "qM2PDWGDJ_8V"
      },
      "source": [
        "Russian is used as the input language and English is the target language."
      ]
    },
    {
      "cell_type": "code",
      "metadata": {
        "id": "l6_nfW4BlGYm"
      },
      "source": [
        "def train_model(epochs, train_batches, train_loss, train_accuracy, ckpt_manager):\n",
        "  for epoch in range(epochs):\n",
        "    start = time.time()\n",
        "      \n",
        "    train_loss.reset_states()\n",
        "    train_accuracy.reset_states()\n",
        "      \n",
        "    # inp -> russian, tar -> english\n",
        "    batch_start = time.time()\n",
        "    for (batch, (inp, tar)) in enumerate(train_batches):\n",
        "          \n",
        "      train_step(inp, tar)\n",
        "        \n",
        "      if batch % 50 == 0:\n",
        "        print(f'Epoch {epoch + 1} Batch {batch} Loss {train_loss.result():.4f} Accuracy {train_accuracy.result():.4f} with time taken {time.time() - batch_start:.2f} secs')\n",
        "        batch_start = time.time()\n",
        "\n",
        "    #if (epoch + 1) % 5 == 0:\n",
        "    ckpt_save_path = ckpt_manager.save()\n",
        "    print (f'Saving checkpoint for epoch {epoch+1} at {ckpt_save_path}')\n",
        "        \n",
        "    print(f'Epoch {epoch + 1} Loss {train_loss.result():.4f} Accuracy {train_accuracy.result():.4f}')\n",
        "\n",
        "    print(f'Time taken for 1 epoch: {time.time() - start:.2f} secs\\n')"
      ],
      "execution_count": 70,
      "outputs": []
    },
    {
      "cell_type": "code",
      "metadata": {
        "id": "r0OnGd5YlG1R",
        "colab": {
          "base_uri": "https://localhost:8080/"
        },
        "outputId": "f621b3d6-e003-49db-981d-408d4c95d40b"
      },
      "source": [
        "if not model_already_built:\n",
        "  train_model(EPOCHS, train_batches, train_loss, train_accuracy, ckpt_manager)"
      ],
      "execution_count": 71,
      "outputs": [
        {
          "output_type": "stream",
          "text": [
            "Epoch 1 Batch 0 Loss 9.7016 Accuracy 0.0000 with time taken 12.97 secs\n",
            "Epoch 1 Batch 50 Loss 9.6495 Accuracy 0.0070 with time taken 7.64 secs\n",
            "Epoch 1 Batch 100 Loss 9.5579 Accuracy 0.0244 with time taken 7.56 secs\n",
            "Epoch 1 Batch 150 Loss 9.4372 Accuracy 0.0339 with time taken 7.41 secs\n",
            "Epoch 1 Batch 200 Loss 9.2792 Accuracy 0.0396 with time taken 7.10 secs\n",
            "Epoch 1 Batch 250 Loss 9.0874 Accuracy 0.0435 with time taken 7.23 secs\n",
            "Epoch 1 Batch 300 Loss 8.8660 Accuracy 0.0460 with time taken 7.01 secs\n",
            "Epoch 1 Batch 350 Loss 8.6294 Accuracy 0.0500 with time taken 7.26 secs\n",
            "Epoch 1 Batch 400 Loss 8.3922 Accuracy 0.0554 with time taken 7.30 secs\n",
            "Epoch 1 Batch 450 Loss 8.1704 Accuracy 0.0607 with time taken 7.24 secs\n",
            "Epoch 1 Batch 500 Loss 7.9750 Accuracy 0.0678 with time taken 7.61 secs\n",
            "Epoch 1 Batch 550 Loss 7.8045 Accuracy 0.0749 with time taken 7.42 secs\n",
            "Epoch 1 Batch 600 Loss 7.6481 Accuracy 0.0823 with time taken 7.16 secs\n",
            "Epoch 1 Batch 650 Loss 7.5051 Accuracy 0.0893 with time taken 7.19 secs\n",
            "Epoch 1 Batch 700 Loss 7.3721 Accuracy 0.0962 with time taken 7.15 secs\n",
            "Epoch 1 Batch 750 Loss 7.2481 Accuracy 0.1028 with time taken 7.33 secs\n",
            "Epoch 1 Batch 800 Loss 7.1355 Accuracy 0.1090 with time taken 7.22 secs\n",
            "Epoch 1 Batch 850 Loss 7.0305 Accuracy 0.1147 with time taken 7.27 secs\n",
            "Epoch 1 Batch 900 Loss 6.9344 Accuracy 0.1203 with time taken 7.23 secs\n",
            "Epoch 1 Batch 950 Loss 6.8433 Accuracy 0.1259 with time taken 7.11 secs\n",
            "Epoch 1 Batch 1000 Loss 6.7595 Accuracy 0.1313 with time taken 7.02 secs\n",
            "Epoch 1 Batch 1050 Loss 6.6797 Accuracy 0.1365 with time taken 7.52 secs\n",
            "Epoch 1 Batch 1100 Loss 6.6063 Accuracy 0.1414 with time taken 7.13 secs\n",
            "Epoch 1 Batch 1150 Loss 6.5372 Accuracy 0.1461 with time taken 7.25 secs\n",
            "Epoch 1 Batch 1200 Loss 6.4731 Accuracy 0.1506 with time taken 7.01 secs\n",
            "Epoch 1 Batch 1250 Loss 6.4131 Accuracy 0.1547 with time taken 7.11 secs\n",
            "Epoch 1 Batch 1300 Loss 6.3575 Accuracy 0.1585 with time taken 7.33 secs\n",
            "Epoch 1 Batch 1350 Loss 6.3043 Accuracy 0.1621 with time taken 7.13 secs\n",
            "Epoch 1 Batch 1400 Loss 6.2536 Accuracy 0.1655 with time taken 7.22 secs\n",
            "Epoch 1 Batch 1450 Loss 6.2060 Accuracy 0.1688 with time taken 7.17 secs\n",
            "Epoch 1 Batch 1500 Loss 6.1600 Accuracy 0.1719 with time taken 7.27 secs\n",
            "Epoch 1 Batch 1550 Loss 6.1164 Accuracy 0.1749 with time taken 7.35 secs\n",
            "Epoch 1 Batch 1600 Loss 6.0751 Accuracy 0.1777 with time taken 7.41 secs\n",
            "Epoch 1 Batch 1650 Loss 6.0360 Accuracy 0.1804 with time taken 7.58 secs\n",
            "Epoch 1 Batch 1700 Loss 5.9986 Accuracy 0.1830 with time taken 7.14 secs\n",
            "Epoch 1 Batch 1750 Loss 5.9632 Accuracy 0.1854 with time taken 7.22 secs\n",
            "Epoch 1 Batch 1800 Loss 5.9289 Accuracy 0.1878 with time taken 7.35 secs\n",
            "Epoch 1 Batch 1850 Loss 5.8957 Accuracy 0.1901 with time taken 7.24 secs\n",
            "Epoch 1 Batch 1900 Loss 5.8637 Accuracy 0.1924 with time taken 7.32 secs\n",
            "Epoch 1 Batch 1950 Loss 5.8330 Accuracy 0.1946 with time taken 7.37 secs\n",
            "Epoch 1 Batch 2000 Loss 5.8029 Accuracy 0.1967 with time taken 7.10 secs\n",
            "Epoch 1 Batch 2050 Loss 5.7747 Accuracy 0.1987 with time taken 7.16 secs\n",
            "Epoch 1 Batch 2100 Loss 5.7468 Accuracy 0.2008 with time taken 7.18 secs\n",
            "Epoch 1 Batch 2150 Loss 5.7204 Accuracy 0.2026 with time taken 7.28 secs\n",
            "Epoch 1 Batch 2200 Loss 5.6948 Accuracy 0.2044 with time taken 7.25 secs\n",
            "Epoch 1 Batch 2250 Loss 5.6700 Accuracy 0.2061 with time taken 7.18 secs\n",
            "Epoch 1 Batch 2300 Loss 5.6456 Accuracy 0.2078 with time taken 7.53 secs\n",
            "Epoch 1 Batch 2350 Loss 5.6223 Accuracy 0.2095 with time taken 7.36 secs\n",
            "Epoch 1 Batch 2400 Loss 5.5987 Accuracy 0.2112 with time taken 7.35 secs\n",
            "Epoch 1 Batch 2450 Loss 5.5764 Accuracy 0.2129 with time taken 6.97 secs\n",
            "Epoch 1 Batch 2500 Loss 5.5547 Accuracy 0.2145 with time taken 7.17 secs\n",
            "Epoch 1 Batch 2550 Loss 5.5333 Accuracy 0.2160 with time taken 6.91 secs\n",
            "Epoch 1 Batch 2600 Loss 5.5123 Accuracy 0.2176 with time taken 7.28 secs\n",
            "Epoch 1 Batch 2650 Loss 5.4916 Accuracy 0.2191 with time taken 7.10 secs\n",
            "Epoch 1 Batch 2700 Loss 5.4720 Accuracy 0.2205 with time taken 6.98 secs\n",
            "Epoch 1 Batch 2750 Loss 5.4531 Accuracy 0.2220 with time taken 7.38 secs\n",
            "Epoch 1 Batch 2800 Loss 5.4341 Accuracy 0.2234 with time taken 7.27 secs\n",
            "Epoch 1 Batch 2850 Loss 5.4157 Accuracy 0.2248 with time taken 7.51 secs\n",
            "Epoch 1 Batch 2900 Loss 5.3974 Accuracy 0.2262 with time taken 7.27 secs\n",
            "Epoch 1 Batch 2950 Loss 5.3793 Accuracy 0.2276 with time taken 7.07 secs\n",
            "Epoch 1 Batch 3000 Loss 5.3615 Accuracy 0.2290 with time taken 7.29 secs\n",
            "Epoch 1 Batch 3050 Loss 5.3447 Accuracy 0.2303 with time taken 7.08 secs\n",
            "Epoch 1 Batch 3100 Loss 5.3277 Accuracy 0.2316 with time taken 7.29 secs\n",
            "Epoch 1 Batch 3150 Loss 5.3118 Accuracy 0.2328 with time taken 7.08 secs\n",
            "Epoch 1 Batch 3200 Loss 5.2960 Accuracy 0.2341 with time taken 7.02 secs\n",
            "Epoch 1 Batch 3250 Loss 5.2796 Accuracy 0.2354 with time taken 7.23 secs\n",
            "Saving checkpoint for epoch 1 at drive/MyDrive/models/transformer_ru_en_v2/ckpt-1\n",
            "Epoch 1 Loss 5.2796 Accuracy 0.2354\n",
            "Time taken for 1 epoch: 484.34 secs\n",
            "\n",
            "Epoch 2 Batch 0 Loss 4.2424 Accuracy 0.3232 with time taken 0.59 secs\n",
            "Epoch 2 Batch 50 Loss 4.2387 Accuracy 0.3193 with time taken 7.24 secs\n",
            "Epoch 2 Batch 100 Loss 4.2043 Accuracy 0.3225 with time taken 7.42 secs\n",
            "Epoch 2 Batch 150 Loss 4.1967 Accuracy 0.3240 with time taken 7.40 secs\n",
            "Epoch 2 Batch 200 Loss 4.1953 Accuracy 0.3245 with time taken 7.32 secs\n",
            "Epoch 2 Batch 250 Loss 4.1897 Accuracy 0.3256 with time taken 7.13 secs\n",
            "Epoch 2 Batch 300 Loss 4.1864 Accuracy 0.3257 with time taken 7.64 secs\n",
            "Epoch 2 Batch 350 Loss 4.1800 Accuracy 0.3264 with time taken 6.98 secs\n",
            "Epoch 2 Batch 400 Loss 4.1724 Accuracy 0.3271 with time taken 7.35 secs\n",
            "Epoch 2 Batch 450 Loss 4.1656 Accuracy 0.3279 with time taken 6.75 secs\n",
            "Epoch 2 Batch 500 Loss 4.1589 Accuracy 0.3287 with time taken 7.21 secs\n",
            "Epoch 2 Batch 550 Loss 4.1549 Accuracy 0.3294 with time taken 7.47 secs\n",
            "Epoch 2 Batch 600 Loss 4.1480 Accuracy 0.3302 with time taken 7.13 secs\n",
            "Epoch 2 Batch 650 Loss 4.1423 Accuracy 0.3308 with time taken 7.21 secs\n",
            "Epoch 2 Batch 700 Loss 4.1380 Accuracy 0.3313 with time taken 7.02 secs\n",
            "Epoch 2 Batch 750 Loss 4.1303 Accuracy 0.3324 with time taken 6.82 secs\n",
            "Epoch 2 Batch 800 Loss 4.1248 Accuracy 0.3331 with time taken 7.13 secs\n",
            "Epoch 2 Batch 850 Loss 4.1199 Accuracy 0.3339 with time taken 7.23 secs\n",
            "Epoch 2 Batch 900 Loss 4.1117 Accuracy 0.3349 with time taken 7.17 secs\n",
            "Epoch 2 Batch 950 Loss 4.1027 Accuracy 0.3360 with time taken 7.11 secs\n",
            "Epoch 2 Batch 1000 Loss 4.0966 Accuracy 0.3368 with time taken 7.36 secs\n",
            "Epoch 2 Batch 1050 Loss 4.0889 Accuracy 0.3378 with time taken 7.26 secs\n",
            "Epoch 2 Batch 1100 Loss 4.0802 Accuracy 0.3388 with time taken 7.10 secs\n",
            "Epoch 2 Batch 1150 Loss 4.0728 Accuracy 0.3398 with time taken 7.19 secs\n",
            "Epoch 2 Batch 1200 Loss 4.0664 Accuracy 0.3406 with time taken 7.18 secs\n",
            "Epoch 2 Batch 1250 Loss 4.0600 Accuracy 0.3414 with time taken 7.08 secs\n",
            "Epoch 2 Batch 1300 Loss 4.0525 Accuracy 0.3423 with time taken 6.89 secs\n",
            "Epoch 2 Batch 1350 Loss 4.0464 Accuracy 0.3431 with time taken 7.03 secs\n",
            "Epoch 2 Batch 1400 Loss 4.0396 Accuracy 0.3439 with time taken 7.17 secs\n",
            "Epoch 2 Batch 1450 Loss 4.0333 Accuracy 0.3446 with time taken 7.46 secs\n",
            "Epoch 2 Batch 1500 Loss 4.0268 Accuracy 0.3454 with time taken 7.32 secs\n",
            "Epoch 2 Batch 1550 Loss 4.0208 Accuracy 0.3460 with time taken 7.51 secs\n",
            "Epoch 2 Batch 1600 Loss 4.0131 Accuracy 0.3470 with time taken 7.29 secs\n",
            "Epoch 2 Batch 1650 Loss 4.0070 Accuracy 0.3477 with time taken 7.29 secs\n",
            "Epoch 2 Batch 1700 Loss 4.0017 Accuracy 0.3484 with time taken 7.18 secs\n",
            "Epoch 2 Batch 1750 Loss 3.9952 Accuracy 0.3491 with time taken 7.09 secs\n",
            "Epoch 2 Batch 1800 Loss 3.9890 Accuracy 0.3499 with time taken 7.16 secs\n",
            "Epoch 2 Batch 1850 Loss 3.9820 Accuracy 0.3507 with time taken 7.13 secs\n",
            "Epoch 2 Batch 1900 Loss 3.9752 Accuracy 0.3515 with time taken 7.26 secs\n",
            "Epoch 2 Batch 1950 Loss 3.9686 Accuracy 0.3523 with time taken 7.19 secs\n",
            "Epoch 2 Batch 2000 Loss 3.9627 Accuracy 0.3530 with time taken 7.26 secs\n",
            "Epoch 2 Batch 2050 Loss 3.9573 Accuracy 0.3537 with time taken 7.06 secs\n",
            "Epoch 2 Batch 2100 Loss 3.9511 Accuracy 0.3545 with time taken 7.09 secs\n",
            "Epoch 2 Batch 2150 Loss 3.9455 Accuracy 0.3551 with time taken 7.44 secs\n",
            "Epoch 2 Batch 2200 Loss 3.9393 Accuracy 0.3559 with time taken 7.07 secs\n",
            "Epoch 2 Batch 2250 Loss 3.9338 Accuracy 0.3564 with time taken 7.52 secs\n",
            "Epoch 2 Batch 2300 Loss 3.9265 Accuracy 0.3573 with time taken 7.17 secs\n",
            "Epoch 2 Batch 2350 Loss 3.9208 Accuracy 0.3580 with time taken 7.25 secs\n",
            "Epoch 2 Batch 2400 Loss 3.9143 Accuracy 0.3588 with time taken 6.86 secs\n",
            "Epoch 2 Batch 2450 Loss 3.9089 Accuracy 0.3594 with time taken 7.28 secs\n",
            "Epoch 2 Batch 2500 Loss 3.9033 Accuracy 0.3601 with time taken 7.16 secs\n",
            "Epoch 2 Batch 2550 Loss 3.8980 Accuracy 0.3607 with time taken 7.26 secs\n",
            "Epoch 2 Batch 2600 Loss 3.8919 Accuracy 0.3614 with time taken 7.20 secs\n",
            "Epoch 2 Batch 2650 Loss 3.8862 Accuracy 0.3621 with time taken 6.88 secs\n",
            "Epoch 2 Batch 2700 Loss 3.8800 Accuracy 0.3628 with time taken 7.14 secs\n",
            "Epoch 2 Batch 2750 Loss 3.8741 Accuracy 0.3635 with time taken 7.14 secs\n",
            "Epoch 2 Batch 2800 Loss 3.8678 Accuracy 0.3642 with time taken 7.20 secs\n",
            "Epoch 2 Batch 2850 Loss 3.8621 Accuracy 0.3649 with time taken 7.32 secs\n",
            "Epoch 2 Batch 2900 Loss 3.8570 Accuracy 0.3655 with time taken 7.41 secs\n",
            "Epoch 2 Batch 2950 Loss 3.8513 Accuracy 0.3662 with time taken 7.44 secs\n",
            "Epoch 2 Batch 3000 Loss 3.8460 Accuracy 0.3668 with time taken 7.16 secs\n",
            "Epoch 2 Batch 3050 Loss 3.8404 Accuracy 0.3675 with time taken 7.04 secs\n",
            "Epoch 2 Batch 3100 Loss 3.8355 Accuracy 0.3681 with time taken 7.37 secs\n",
            "Epoch 2 Batch 3150 Loss 3.8308 Accuracy 0.3687 with time taken 7.19 secs\n",
            "Epoch 2 Batch 3200 Loss 3.8256 Accuracy 0.3694 with time taken 7.10 secs\n",
            "Epoch 2 Batch 3250 Loss 3.8201 Accuracy 0.3700 with time taken 7.18 secs\n",
            "Saving checkpoint for epoch 2 at drive/MyDrive/models/transformer_ru_en_v2/ckpt-2\n",
            "Epoch 2 Loss 3.8201 Accuracy 0.3700\n",
            "Time taken for 1 epoch: 469.12 secs\n",
            "\n",
            "Epoch 3 Batch 0 Loss 3.2214 Accuracy 0.4605 with time taken 0.60 secs\n",
            "Epoch 3 Batch 50 Loss 3.4429 Accuracy 0.4119 with time taken 6.92 secs\n",
            "Epoch 3 Batch 100 Loss 3.4601 Accuracy 0.4104 with time taken 7.23 secs\n",
            "Epoch 3 Batch 150 Loss 3.4580 Accuracy 0.4108 with time taken 6.90 secs\n",
            "Epoch 3 Batch 200 Loss 3.4453 Accuracy 0.4130 with time taken 7.23 secs\n",
            "Epoch 3 Batch 250 Loss 3.4398 Accuracy 0.4136 with time taken 7.43 secs\n",
            "Epoch 3 Batch 300 Loss 3.4393 Accuracy 0.4144 with time taken 7.17 secs\n",
            "Epoch 3 Batch 350 Loss 3.4369 Accuracy 0.4144 with time taken 7.24 secs\n",
            "Epoch 3 Batch 400 Loss 3.4368 Accuracy 0.4146 with time taken 7.36 secs\n",
            "Epoch 3 Batch 450 Loss 3.4328 Accuracy 0.4150 with time taken 7.33 secs\n",
            "Epoch 3 Batch 500 Loss 3.4263 Accuracy 0.4159 with time taken 6.91 secs\n",
            "Epoch 3 Batch 550 Loss 3.4250 Accuracy 0.4161 with time taken 7.32 secs\n",
            "Epoch 3 Batch 600 Loss 3.4202 Accuracy 0.4168 with time taken 7.03 secs\n",
            "Epoch 3 Batch 650 Loss 3.4152 Accuracy 0.4173 with time taken 6.95 secs\n",
            "Epoch 3 Batch 700 Loss 3.4119 Accuracy 0.4176 with time taken 7.16 secs\n",
            "Epoch 3 Batch 750 Loss 3.4055 Accuracy 0.4183 with time taken 7.41 secs\n",
            "Epoch 3 Batch 800 Loss 3.4038 Accuracy 0.4188 with time taken 6.97 secs\n",
            "Epoch 3 Batch 850 Loss 3.4004 Accuracy 0.4194 with time taken 7.25 secs\n",
            "Epoch 3 Batch 900 Loss 3.3957 Accuracy 0.4201 with time taken 7.15 secs\n",
            "Epoch 3 Batch 950 Loss 3.3916 Accuracy 0.4206 with time taken 7.08 secs\n",
            "Epoch 3 Batch 1000 Loss 3.3895 Accuracy 0.4208 with time taken 7.28 secs\n",
            "Epoch 3 Batch 1050 Loss 3.3850 Accuracy 0.4215 with time taken 7.10 secs\n",
            "Epoch 3 Batch 1100 Loss 3.3821 Accuracy 0.4220 with time taken 6.99 secs\n",
            "Epoch 3 Batch 1150 Loss 3.3797 Accuracy 0.4223 with time taken 6.95 secs\n",
            "Epoch 3 Batch 1200 Loss 3.3771 Accuracy 0.4226 with time taken 7.11 secs\n",
            "Epoch 3 Batch 1250 Loss 3.3739 Accuracy 0.4231 with time taken 7.36 secs\n",
            "Epoch 3 Batch 1300 Loss 3.3709 Accuracy 0.4234 with time taken 7.34 secs\n",
            "Epoch 3 Batch 1350 Loss 3.3669 Accuracy 0.4240 with time taken 7.19 secs\n",
            "Epoch 3 Batch 1400 Loss 3.3631 Accuracy 0.4244 with time taken 7.22 secs\n",
            "Epoch 3 Batch 1450 Loss 3.3601 Accuracy 0.4247 with time taken 7.46 secs\n",
            "Epoch 3 Batch 1500 Loss 3.3565 Accuracy 0.4252 with time taken 7.13 secs\n",
            "Epoch 3 Batch 1550 Loss 3.3540 Accuracy 0.4255 with time taken 7.39 secs\n",
            "Epoch 3 Batch 1600 Loss 3.3494 Accuracy 0.4260 with time taken 7.01 secs\n",
            "Epoch 3 Batch 1650 Loss 3.3457 Accuracy 0.4265 with time taken 7.04 secs\n",
            "Epoch 3 Batch 1700 Loss 3.3421 Accuracy 0.4269 with time taken 6.99 secs\n",
            "Epoch 3 Batch 1750 Loss 3.3388 Accuracy 0.4273 with time taken 7.29 secs\n",
            "Epoch 3 Batch 1800 Loss 3.3360 Accuracy 0.4277 with time taken 7.22 secs\n",
            "Epoch 3 Batch 1850 Loss 3.3327 Accuracy 0.4281 with time taken 7.09 secs\n",
            "Epoch 3 Batch 1900 Loss 3.3293 Accuracy 0.4285 with time taken 7.30 secs\n",
            "Epoch 3 Batch 1950 Loss 3.3262 Accuracy 0.4289 with time taken 7.23 secs\n",
            "Epoch 3 Batch 2000 Loss 3.3230 Accuracy 0.4293 with time taken 7.17 secs\n",
            "Epoch 3 Batch 2050 Loss 3.3203 Accuracy 0.4297 with time taken 7.01 secs\n",
            "Epoch 3 Batch 2100 Loss 3.3175 Accuracy 0.4301 with time taken 7.00 secs\n",
            "Epoch 3 Batch 2150 Loss 3.3147 Accuracy 0.4305 with time taken 7.10 secs\n",
            "Epoch 3 Batch 2200 Loss 3.3113 Accuracy 0.4309 with time taken 7.26 secs\n",
            "Epoch 3 Batch 2250 Loss 3.3077 Accuracy 0.4314 with time taken 7.37 secs\n",
            "Epoch 3 Batch 2300 Loss 3.3049 Accuracy 0.4318 with time taken 7.20 secs\n",
            "Epoch 3 Batch 2350 Loss 3.3020 Accuracy 0.4321 with time taken 7.31 secs\n",
            "Epoch 3 Batch 2400 Loss 3.2992 Accuracy 0.4325 with time taken 6.89 secs\n",
            "Epoch 3 Batch 2450 Loss 3.2966 Accuracy 0.4328 with time taken 7.17 secs\n",
            "Epoch 3 Batch 2500 Loss 3.2934 Accuracy 0.4332 with time taken 7.10 secs\n",
            "Epoch 3 Batch 2550 Loss 3.2911 Accuracy 0.4335 with time taken 7.12 secs\n",
            "Epoch 3 Batch 2600 Loss 3.2882 Accuracy 0.4339 with time taken 7.12 secs\n",
            "Epoch 3 Batch 2650 Loss 3.2855 Accuracy 0.4342 with time taken 6.91 secs\n",
            "Epoch 3 Batch 2700 Loss 3.2829 Accuracy 0.4345 with time taken 7.12 secs\n",
            "Epoch 3 Batch 2750 Loss 3.2797 Accuracy 0.4349 with time taken 7.16 secs\n",
            "Epoch 3 Batch 2800 Loss 3.2775 Accuracy 0.4352 with time taken 7.13 secs\n",
            "Epoch 3 Batch 2850 Loss 3.2751 Accuracy 0.4355 with time taken 7.08 secs\n",
            "Epoch 3 Batch 2900 Loss 3.2729 Accuracy 0.4358 with time taken 6.80 secs\n",
            "Epoch 3 Batch 2950 Loss 3.2707 Accuracy 0.4360 with time taken 7.45 secs\n",
            "Epoch 3 Batch 3000 Loss 3.2688 Accuracy 0.4363 with time taken 7.37 secs\n",
            "Epoch 3 Batch 3050 Loss 3.2660 Accuracy 0.4366 with time taken 7.02 secs\n",
            "Epoch 3 Batch 3100 Loss 3.2633 Accuracy 0.4369 with time taken 7.41 secs\n",
            "Epoch 3 Batch 3150 Loss 3.2608 Accuracy 0.4372 with time taken 7.30 secs\n",
            "Epoch 3 Batch 3200 Loss 3.2589 Accuracy 0.4375 with time taken 7.26 secs\n",
            "Epoch 3 Batch 3250 Loss 3.2562 Accuracy 0.4378 with time taken 7.12 secs\n",
            "Saving checkpoint for epoch 3 at drive/MyDrive/models/transformer_ru_en_v2/ckpt-3\n",
            "Epoch 3 Loss 3.2562 Accuracy 0.4378\n",
            "Time taken for 1 epoch: 466.79 secs\n",
            "\n",
            "Epoch 4 Batch 0 Loss 3.1607 Accuracy 0.4451 with time taken 0.62 secs\n",
            "Epoch 4 Batch 50 Loss 3.0760 Accuracy 0.4583 with time taken 7.12 secs\n",
            "Epoch 4 Batch 100 Loss 3.0689 Accuracy 0.4608 with time taken 7.16 secs\n",
            "Epoch 4 Batch 150 Loss 3.0729 Accuracy 0.4602 with time taken 7.27 secs\n",
            "Epoch 4 Batch 200 Loss 3.0701 Accuracy 0.4604 with time taken 7.19 secs\n",
            "Epoch 4 Batch 250 Loss 3.0687 Accuracy 0.4606 with time taken 7.48 secs\n",
            "Epoch 4 Batch 300 Loss 3.0665 Accuracy 0.4610 with time taken 6.99 secs\n",
            "Epoch 4 Batch 350 Loss 3.0681 Accuracy 0.4611 with time taken 7.45 secs\n",
            "Epoch 4 Batch 400 Loss 3.0685 Accuracy 0.4605 with time taken 7.28 secs\n",
            "Epoch 4 Batch 450 Loss 3.0654 Accuracy 0.4608 with time taken 7.27 secs\n",
            "Epoch 4 Batch 500 Loss 3.0597 Accuracy 0.4615 with time taken 7.23 secs\n",
            "Epoch 4 Batch 550 Loss 3.0605 Accuracy 0.4615 with time taken 7.26 secs\n",
            "Epoch 4 Batch 600 Loss 3.0604 Accuracy 0.4613 with time taken 6.96 secs\n",
            "Epoch 4 Batch 650 Loss 3.0579 Accuracy 0.4618 with time taken 6.87 secs\n",
            "Epoch 4 Batch 700 Loss 3.0546 Accuracy 0.4622 with time taken 7.25 secs\n",
            "Epoch 4 Batch 750 Loss 3.0517 Accuracy 0.4626 with time taken 7.20 secs\n",
            "Epoch 4 Batch 800 Loss 3.0493 Accuracy 0.4629 with time taken 7.21 secs\n",
            "Epoch 4 Batch 850 Loss 3.0484 Accuracy 0.4629 with time taken 7.09 secs\n",
            "Epoch 4 Batch 900 Loss 3.0461 Accuracy 0.4632 with time taken 7.13 secs\n",
            "Epoch 4 Batch 950 Loss 3.0459 Accuracy 0.4633 with time taken 7.08 secs\n",
            "Epoch 4 Batch 1000 Loss 3.0438 Accuracy 0.4636 with time taken 6.93 secs\n",
            "Epoch 4 Batch 1050 Loss 3.0410 Accuracy 0.4640 with time taken 6.99 secs\n",
            "Epoch 4 Batch 1100 Loss 3.0380 Accuracy 0.4644 with time taken 7.03 secs\n",
            "Epoch 4 Batch 1150 Loss 3.0363 Accuracy 0.4645 with time taken 7.37 secs\n",
            "Epoch 4 Batch 1200 Loss 3.0344 Accuracy 0.4647 with time taken 7.20 secs\n",
            "Epoch 4 Batch 1250 Loss 3.0326 Accuracy 0.4650 with time taken 7.02 secs\n",
            "Epoch 4 Batch 1300 Loss 3.0319 Accuracy 0.4651 with time taken 7.09 secs\n",
            "Epoch 4 Batch 1350 Loss 3.0311 Accuracy 0.4653 with time taken 7.38 secs\n",
            "Epoch 4 Batch 1400 Loss 3.0298 Accuracy 0.4656 with time taken 7.30 secs\n",
            "Epoch 4 Batch 1450 Loss 3.0294 Accuracy 0.4655 with time taken 7.26 secs\n",
            "Epoch 4 Batch 1500 Loss 3.0266 Accuracy 0.4659 with time taken 7.01 secs\n",
            "Epoch 4 Batch 1550 Loss 3.0254 Accuracy 0.4660 with time taken 7.48 secs\n",
            "Epoch 4 Batch 1600 Loss 3.0246 Accuracy 0.4661 with time taken 7.15 secs\n",
            "Epoch 4 Batch 1650 Loss 3.0228 Accuracy 0.4663 with time taken 7.38 secs\n",
            "Epoch 4 Batch 1700 Loss 3.0220 Accuracy 0.4664 with time taken 7.21 secs\n",
            "Epoch 4 Batch 1750 Loss 3.0217 Accuracy 0.4665 with time taken 7.30 secs\n",
            "Epoch 4 Batch 1800 Loss 3.0202 Accuracy 0.4667 with time taken 7.09 secs\n",
            "Epoch 4 Batch 1850 Loss 3.0172 Accuracy 0.4671 with time taken 7.07 secs\n",
            "Epoch 4 Batch 1900 Loss 3.0160 Accuracy 0.4673 with time taken 7.16 secs\n",
            "Epoch 4 Batch 1950 Loss 3.0148 Accuracy 0.4674 with time taken 7.33 secs\n",
            "Epoch 4 Batch 2000 Loss 3.0131 Accuracy 0.4677 with time taken 7.19 secs\n",
            "Epoch 4 Batch 2050 Loss 3.0113 Accuracy 0.4679 with time taken 7.17 secs\n",
            "Epoch 4 Batch 2100 Loss 3.0093 Accuracy 0.4681 with time taken 7.18 secs\n",
            "Epoch 4 Batch 2150 Loss 3.0076 Accuracy 0.4684 with time taken 7.34 secs\n",
            "Epoch 4 Batch 2200 Loss 3.0071 Accuracy 0.4685 with time taken 7.11 secs\n",
            "Epoch 4 Batch 2250 Loss 3.0058 Accuracy 0.4686 with time taken 7.21 secs\n",
            "Epoch 4 Batch 2300 Loss 3.0032 Accuracy 0.4689 with time taken 7.47 secs\n",
            "Epoch 4 Batch 2350 Loss 3.0014 Accuracy 0.4691 with time taken 7.34 secs\n",
            "Epoch 4 Batch 2400 Loss 2.9998 Accuracy 0.4693 with time taken 7.12 secs\n",
            "Epoch 4 Batch 2450 Loss 2.9985 Accuracy 0.4695 with time taken 7.03 secs\n",
            "Epoch 4 Batch 2500 Loss 2.9973 Accuracy 0.4696 with time taken 7.17 secs\n",
            "Epoch 4 Batch 2550 Loss 2.9959 Accuracy 0.4698 with time taken 7.18 secs\n",
            "Epoch 4 Batch 2600 Loss 2.9942 Accuracy 0.4700 with time taken 7.07 secs\n",
            "Epoch 4 Batch 2650 Loss 2.9923 Accuracy 0.4702 with time taken 7.38 secs\n",
            "Epoch 4 Batch 2700 Loss 2.9907 Accuracy 0.4704 with time taken 7.32 secs\n",
            "Epoch 4 Batch 2750 Loss 2.9892 Accuracy 0.4706 with time taken 7.23 secs\n",
            "Epoch 4 Batch 2800 Loss 2.9878 Accuracy 0.4708 with time taken 7.22 secs\n",
            "Epoch 4 Batch 2850 Loss 2.9862 Accuracy 0.4710 with time taken 6.97 secs\n",
            "Epoch 4 Batch 2900 Loss 2.9848 Accuracy 0.4712 with time taken 7.32 secs\n",
            "Epoch 4 Batch 2950 Loss 2.9840 Accuracy 0.4713 with time taken 7.14 secs\n",
            "Epoch 4 Batch 3000 Loss 2.9828 Accuracy 0.4715 with time taken 7.11 secs\n",
            "Epoch 4 Batch 3050 Loss 2.9817 Accuracy 0.4717 with time taken 7.36 secs\n",
            "Epoch 4 Batch 3100 Loss 2.9799 Accuracy 0.4719 with time taken 6.92 secs\n",
            "Epoch 4 Batch 3150 Loss 2.9785 Accuracy 0.4721 with time taken 7.24 secs\n",
            "Epoch 4 Batch 3200 Loss 2.9775 Accuracy 0.4722 with time taken 7.36 secs\n",
            "Epoch 4 Batch 3250 Loss 2.9764 Accuracy 0.4724 with time taken 7.09 secs\n",
            "Saving checkpoint for epoch 4 at drive/MyDrive/models/transformer_ru_en_v2/ckpt-4\n",
            "Epoch 4 Loss 2.9764 Accuracy 0.4724\n",
            "Time taken for 1 epoch: 468.68 secs\n",
            "\n",
            "Epoch 5 Batch 0 Loss 2.9216 Accuracy 0.4716 with time taken 0.68 secs\n",
            "Epoch 5 Batch 50 Loss 2.8399 Accuracy 0.4887 with time taken 7.09 secs\n",
            "Epoch 5 Batch 100 Loss 2.8633 Accuracy 0.4857 with time taken 7.35 secs\n",
            "Epoch 5 Batch 150 Loss 2.8716 Accuracy 0.4843 with time taken 7.22 secs\n",
            "Epoch 5 Batch 200 Loss 2.8745 Accuracy 0.4844 with time taken 7.23 secs\n",
            "Epoch 5 Batch 250 Loss 2.8683 Accuracy 0.4853 with time taken 7.39 secs\n",
            "Epoch 5 Batch 300 Loss 2.8669 Accuracy 0.4855 with time taken 7.18 secs\n",
            "Epoch 5 Batch 350 Loss 2.8675 Accuracy 0.4856 with time taken 7.33 secs\n",
            "Epoch 5 Batch 400 Loss 2.8710 Accuracy 0.4852 with time taken 7.28 secs\n",
            "Epoch 5 Batch 450 Loss 2.8694 Accuracy 0.4855 with time taken 7.24 secs\n",
            "Epoch 5 Batch 500 Loss 2.8682 Accuracy 0.4859 with time taken 7.21 secs\n",
            "Epoch 5 Batch 550 Loss 2.8718 Accuracy 0.4853 with time taken 7.29 secs\n",
            "Epoch 5 Batch 600 Loss 2.8678 Accuracy 0.4858 with time taken 7.22 secs\n",
            "Epoch 5 Batch 650 Loss 2.8674 Accuracy 0.4855 with time taken 7.12 secs\n",
            "Epoch 5 Batch 700 Loss 2.8641 Accuracy 0.4859 with time taken 7.18 secs\n",
            "Epoch 5 Batch 750 Loss 2.8613 Accuracy 0.4862 with time taken 7.44 secs\n",
            "Epoch 5 Batch 800 Loss 2.8588 Accuracy 0.4865 with time taken 7.17 secs\n",
            "Epoch 5 Batch 850 Loss 2.8567 Accuracy 0.4868 with time taken 7.13 secs\n",
            "Epoch 5 Batch 900 Loss 2.8541 Accuracy 0.4872 with time taken 6.95 secs\n",
            "Epoch 5 Batch 950 Loss 2.8532 Accuracy 0.4874 with time taken 6.94 secs\n",
            "Epoch 5 Batch 1000 Loss 2.8527 Accuracy 0.4875 with time taken 7.12 secs\n",
            "Epoch 5 Batch 1050 Loss 2.8509 Accuracy 0.4877 with time taken 7.22 secs\n",
            "Epoch 5 Batch 1100 Loss 2.8498 Accuracy 0.4879 with time taken 7.15 secs\n",
            "Epoch 5 Batch 1150 Loss 2.8487 Accuracy 0.4880 with time taken 7.15 secs\n",
            "Epoch 5 Batch 1200 Loss 2.8477 Accuracy 0.4881 with time taken 7.15 secs\n",
            "Epoch 5 Batch 1250 Loss 2.8472 Accuracy 0.4882 with time taken 7.46 secs\n",
            "Epoch 5 Batch 1300 Loss 2.8456 Accuracy 0.4885 with time taken 6.92 secs\n",
            "Epoch 5 Batch 1350 Loss 2.8430 Accuracy 0.4889 with time taken 7.24 secs\n",
            "Epoch 5 Batch 1400 Loss 2.8417 Accuracy 0.4890 with time taken 7.42 secs\n",
            "Epoch 5 Batch 1450 Loss 2.8414 Accuracy 0.4891 with time taken 7.21 secs\n",
            "Epoch 5 Batch 1500 Loss 2.8410 Accuracy 0.4892 with time taken 7.28 secs\n",
            "Epoch 5 Batch 1550 Loss 2.8403 Accuracy 0.4892 with time taken 7.45 secs\n",
            "Epoch 5 Batch 1600 Loss 2.8397 Accuracy 0.4893 with time taken 7.20 secs\n",
            "Epoch 5 Batch 1650 Loss 2.8394 Accuracy 0.4893 with time taken 7.29 secs\n",
            "Epoch 5 Batch 1700 Loss 2.8389 Accuracy 0.4894 with time taken 7.09 secs\n",
            "Epoch 5 Batch 1750 Loss 2.8382 Accuracy 0.4895 with time taken 7.13 secs\n",
            "Epoch 5 Batch 1800 Loss 2.8375 Accuracy 0.4896 with time taken 7.36 secs\n",
            "Epoch 5 Batch 1850 Loss 2.8374 Accuracy 0.4896 with time taken 7.33 secs\n",
            "Epoch 5 Batch 1900 Loss 2.8357 Accuracy 0.4899 with time taken 7.40 secs\n",
            "Epoch 5 Batch 1950 Loss 2.8353 Accuracy 0.4900 with time taken 6.93 secs\n",
            "Epoch 5 Batch 2000 Loss 2.8347 Accuracy 0.4900 with time taken 7.36 secs\n",
            "Epoch 5 Batch 2050 Loss 2.8333 Accuracy 0.4902 with time taken 6.90 secs\n",
            "Epoch 5 Batch 2100 Loss 2.8323 Accuracy 0.4903 with time taken 7.30 secs\n",
            "Epoch 5 Batch 2150 Loss 2.8322 Accuracy 0.4903 with time taken 7.41 secs\n",
            "Epoch 5 Batch 2200 Loss 2.8310 Accuracy 0.4905 with time taken 6.98 secs\n",
            "Epoch 5 Batch 2250 Loss 2.8305 Accuracy 0.4905 with time taken 7.16 secs\n",
            "Epoch 5 Batch 2300 Loss 2.8288 Accuracy 0.4908 with time taken 7.15 secs\n",
            "Epoch 5 Batch 2350 Loss 2.8274 Accuracy 0.4910 with time taken 7.14 secs\n",
            "Epoch 5 Batch 2400 Loss 2.8266 Accuracy 0.4911 with time taken 7.15 secs\n",
            "Epoch 5 Batch 2450 Loss 2.8252 Accuracy 0.4913 with time taken 7.04 secs\n",
            "Epoch 5 Batch 2500 Loss 2.8246 Accuracy 0.4914 with time taken 7.07 secs\n",
            "Epoch 5 Batch 2550 Loss 2.8235 Accuracy 0.4915 with time taken 6.93 secs\n",
            "Epoch 5 Batch 2600 Loss 2.8230 Accuracy 0.4915 with time taken 7.07 secs\n",
            "Epoch 5 Batch 2650 Loss 2.8221 Accuracy 0.4916 with time taken 7.05 secs\n",
            "Epoch 5 Batch 2700 Loss 2.8212 Accuracy 0.4917 with time taken 7.22 secs\n",
            "Epoch 5 Batch 2750 Loss 2.8205 Accuracy 0.4918 with time taken 7.46 secs\n",
            "Epoch 5 Batch 2800 Loss 2.8195 Accuracy 0.4919 with time taken 7.14 secs\n",
            "Epoch 5 Batch 2850 Loss 2.8180 Accuracy 0.4921 with time taken 7.03 secs\n",
            "Epoch 5 Batch 2900 Loss 2.8171 Accuracy 0.4923 with time taken 7.32 secs\n",
            "Epoch 5 Batch 2950 Loss 2.8163 Accuracy 0.4923 with time taken 7.34 secs\n",
            "Epoch 5 Batch 3000 Loss 2.8158 Accuracy 0.4924 with time taken 7.06 secs\n",
            "Epoch 5 Batch 3050 Loss 2.8147 Accuracy 0.4926 with time taken 7.31 secs\n",
            "Epoch 5 Batch 3100 Loss 2.8139 Accuracy 0.4927 with time taken 7.31 secs\n",
            "Epoch 5 Batch 3150 Loss 2.8135 Accuracy 0.4927 with time taken 7.17 secs\n",
            "Epoch 5 Batch 3200 Loss 2.8123 Accuracy 0.4929 with time taken 7.30 secs\n",
            "Epoch 5 Batch 3250 Loss 2.8121 Accuracy 0.4930 with time taken 7.17 secs\n",
            "Saving checkpoint for epoch 5 at drive/MyDrive/models/transformer_ru_en_v2/ckpt-5\n",
            "Epoch 5 Loss 2.8121 Accuracy 0.4930\n",
            "Time taken for 1 epoch: 469.20 secs\n",
            "\n",
            "Epoch 6 Batch 0 Loss 2.4702 Accuracy 0.5412 with time taken 0.63 secs\n",
            "Epoch 6 Batch 50 Loss 2.7474 Accuracy 0.4989 with time taken 6.99 secs\n",
            "Epoch 6 Batch 100 Loss 2.7510 Accuracy 0.4983 with time taken 7.06 secs\n",
            "Epoch 6 Batch 150 Loss 2.7479 Accuracy 0.4989 with time taken 6.86 secs\n",
            "Epoch 6 Batch 200 Loss 2.7435 Accuracy 0.5000 with time taken 7.58 secs\n",
            "Epoch 6 Batch 250 Loss 2.7443 Accuracy 0.5004 with time taken 7.18 secs\n",
            "Epoch 6 Batch 300 Loss 2.7421 Accuracy 0.5012 with time taken 7.28 secs\n",
            "Epoch 6 Batch 350 Loss 2.7430 Accuracy 0.5009 with time taken 7.15 secs\n",
            "Epoch 6 Batch 400 Loss 2.7409 Accuracy 0.5013 with time taken 7.05 secs\n",
            "Epoch 6 Batch 450 Loss 2.7398 Accuracy 0.5014 with time taken 7.14 secs\n",
            "Epoch 6 Batch 500 Loss 2.7369 Accuracy 0.5021 with time taken 6.91 secs\n",
            "Epoch 6 Batch 550 Loss 2.7384 Accuracy 0.5019 with time taken 7.07 secs\n",
            "Epoch 6 Batch 600 Loss 2.7384 Accuracy 0.5018 with time taken 7.03 secs\n",
            "Epoch 6 Batch 650 Loss 2.7354 Accuracy 0.5022 with time taken 7.33 secs\n",
            "Epoch 6 Batch 700 Loss 2.7317 Accuracy 0.5026 with time taken 7.01 secs\n",
            "Epoch 6 Batch 750 Loss 2.7304 Accuracy 0.5028 with time taken 7.36 secs\n",
            "Epoch 6 Batch 800 Loss 2.7295 Accuracy 0.5030 with time taken 7.40 secs\n",
            "Epoch 6 Batch 850 Loss 2.7295 Accuracy 0.5031 with time taken 7.49 secs\n",
            "Epoch 6 Batch 900 Loss 2.7283 Accuracy 0.5033 with time taken 7.02 secs\n",
            "Epoch 6 Batch 950 Loss 2.7283 Accuracy 0.5033 with time taken 7.34 secs\n",
            "Epoch 6 Batch 1000 Loss 2.7286 Accuracy 0.5033 with time taken 7.03 secs\n",
            "Epoch 6 Batch 1050 Loss 2.7278 Accuracy 0.5034 with time taken 7.01 secs\n",
            "Epoch 6 Batch 1100 Loss 2.7275 Accuracy 0.5033 with time taken 7.24 secs\n",
            "Epoch 6 Batch 1150 Loss 2.7273 Accuracy 0.5035 with time taken 7.13 secs\n",
            "Epoch 6 Batch 1200 Loss 2.7256 Accuracy 0.5037 with time taken 6.98 secs\n",
            "Epoch 6 Batch 1250 Loss 2.7250 Accuracy 0.5038 with time taken 7.06 secs\n",
            "Epoch 6 Batch 1300 Loss 2.7244 Accuracy 0.5040 with time taken 7.06 secs\n",
            "Epoch 6 Batch 1350 Loss 2.7232 Accuracy 0.5041 with time taken 7.17 secs\n",
            "Epoch 6 Batch 1400 Loss 2.7213 Accuracy 0.5043 with time taken 6.82 secs\n",
            "Epoch 6 Batch 1450 Loss 2.7214 Accuracy 0.5043 with time taken 7.20 secs\n",
            "Epoch 6 Batch 1500 Loss 2.7213 Accuracy 0.5043 with time taken 7.06 secs\n",
            "Epoch 6 Batch 1550 Loss 2.7225 Accuracy 0.5041 with time taken 7.30 secs\n",
            "Epoch 6 Batch 1600 Loss 2.7216 Accuracy 0.5042 with time taken 7.24 secs\n",
            "Epoch 6 Batch 1650 Loss 2.7203 Accuracy 0.5043 with time taken 7.14 secs\n",
            "Epoch 6 Batch 1700 Loss 2.7204 Accuracy 0.5043 with time taken 7.12 secs\n",
            "Epoch 6 Batch 1750 Loss 2.7201 Accuracy 0.5044 with time taken 7.42 secs\n",
            "Epoch 6 Batch 1800 Loss 2.7201 Accuracy 0.5043 with time taken 7.12 secs\n",
            "Epoch 6 Batch 1850 Loss 2.7184 Accuracy 0.5045 with time taken 7.27 secs\n",
            "Epoch 6 Batch 1900 Loss 2.7179 Accuracy 0.5046 with time taken 7.23 secs\n",
            "Epoch 6 Batch 1950 Loss 2.7178 Accuracy 0.5047 with time taken 7.04 secs\n",
            "Epoch 6 Batch 2000 Loss 2.7169 Accuracy 0.5048 with time taken 7.25 secs\n",
            "Epoch 6 Batch 2050 Loss 2.7156 Accuracy 0.5050 with time taken 7.22 secs\n",
            "Epoch 6 Batch 2100 Loss 2.7149 Accuracy 0.5051 with time taken 6.93 secs\n",
            "Epoch 6 Batch 2150 Loss 2.7143 Accuracy 0.5052 with time taken 7.17 secs\n",
            "Epoch 6 Batch 2200 Loss 2.7142 Accuracy 0.5052 with time taken 7.34 secs\n",
            "Epoch 6 Batch 2250 Loss 2.7136 Accuracy 0.5053 with time taken 7.25 secs\n",
            "Epoch 6 Batch 2300 Loss 2.7132 Accuracy 0.5054 with time taken 6.93 secs\n",
            "Epoch 6 Batch 2350 Loss 2.7131 Accuracy 0.5053 with time taken 7.28 secs\n",
            "Epoch 6 Batch 2400 Loss 2.7125 Accuracy 0.5054 with time taken 7.16 secs\n",
            "Epoch 6 Batch 2450 Loss 2.7119 Accuracy 0.5055 with time taken 7.33 secs\n",
            "Epoch 6 Batch 2500 Loss 2.7105 Accuracy 0.5057 with time taken 7.05 secs\n",
            "Epoch 6 Batch 2550 Loss 2.7099 Accuracy 0.5058 with time taken 6.98 secs\n",
            "Epoch 6 Batch 2600 Loss 2.7090 Accuracy 0.5059 with time taken 7.41 secs\n",
            "Epoch 6 Batch 2650 Loss 2.7081 Accuracy 0.5060 with time taken 7.39 secs\n",
            "Epoch 6 Batch 2700 Loss 2.7071 Accuracy 0.5061 with time taken 7.19 secs\n",
            "Epoch 6 Batch 2750 Loss 2.7069 Accuracy 0.5061 with time taken 7.05 secs\n",
            "Epoch 6 Batch 2800 Loss 2.7060 Accuracy 0.5063 with time taken 7.05 secs\n",
            "Epoch 6 Batch 2850 Loss 2.7058 Accuracy 0.5063 with time taken 6.95 secs\n",
            "Epoch 6 Batch 2900 Loss 2.7052 Accuracy 0.5064 with time taken 7.09 secs\n",
            "Epoch 6 Batch 2950 Loss 2.7041 Accuracy 0.5066 with time taken 7.15 secs\n",
            "Epoch 6 Batch 3000 Loss 2.7035 Accuracy 0.5067 with time taken 7.01 secs\n",
            "Epoch 6 Batch 3050 Loss 2.7031 Accuracy 0.5068 with time taken 7.16 secs\n",
            "Epoch 6 Batch 3100 Loss 2.7030 Accuracy 0.5067 with time taken 7.52 secs\n",
            "Epoch 6 Batch 3150 Loss 2.7025 Accuracy 0.5068 with time taken 7.33 secs\n",
            "Epoch 6 Batch 3200 Loss 2.7020 Accuracy 0.5069 with time taken 7.31 secs\n",
            "Epoch 6 Batch 3250 Loss 2.7011 Accuracy 0.5071 with time taken 6.95 secs\n",
            "Saving checkpoint for epoch 6 at drive/MyDrive/models/transformer_ru_en_v2/ckpt-6\n",
            "Epoch 6 Loss 2.7011 Accuracy 0.5071\n",
            "Time taken for 1 epoch: 466.48 secs\n",
            "\n",
            "Epoch 7 Batch 0 Loss 2.4959 Accuracy 0.5343 with time taken 0.63 secs\n",
            "Epoch 7 Batch 50 Loss 2.6816 Accuracy 0.5092 with time taken 7.12 secs\n",
            "Epoch 7 Batch 100 Loss 2.6717 Accuracy 0.5087 with time taken 7.37 secs\n",
            "Epoch 7 Batch 150 Loss 2.6669 Accuracy 0.5096 with time taken 7.04 secs\n",
            "Epoch 7 Batch 200 Loss 2.6597 Accuracy 0.5114 with time taken 7.40 secs\n",
            "Epoch 7 Batch 250 Loss 2.6570 Accuracy 0.5118 with time taken 7.19 secs\n",
            "Epoch 7 Batch 300 Loss 2.6566 Accuracy 0.5117 with time taken 6.93 secs\n",
            "Epoch 7 Batch 350 Loss 2.6508 Accuracy 0.5122 with time taken 7.09 secs\n",
            "Epoch 7 Batch 400 Loss 2.6500 Accuracy 0.5124 with time taken 7.24 secs\n",
            "Epoch 7 Batch 450 Loss 2.6520 Accuracy 0.5120 with time taken 7.25 secs\n",
            "Epoch 7 Batch 500 Loss 2.6489 Accuracy 0.5127 with time taken 7.26 secs\n",
            "Epoch 7 Batch 550 Loss 2.6482 Accuracy 0.5129 with time taken 6.97 secs\n",
            "Epoch 7 Batch 600 Loss 2.6508 Accuracy 0.5125 with time taken 7.22 secs\n",
            "Epoch 7 Batch 650 Loss 2.6487 Accuracy 0.5129 with time taken 7.21 secs\n",
            "Epoch 7 Batch 700 Loss 2.6465 Accuracy 0.5132 with time taken 7.21 secs\n",
            "Epoch 7 Batch 750 Loss 2.6453 Accuracy 0.5134 with time taken 7.49 secs\n",
            "Epoch 7 Batch 800 Loss 2.6429 Accuracy 0.5137 with time taken 7.09 secs\n",
            "Epoch 7 Batch 850 Loss 2.6422 Accuracy 0.5137 with time taken 7.15 secs\n",
            "Epoch 7 Batch 900 Loss 2.6440 Accuracy 0.5133 with time taken 7.30 secs\n",
            "Epoch 7 Batch 950 Loss 2.6428 Accuracy 0.5134 with time taken 7.24 secs\n",
            "Epoch 7 Batch 1000 Loss 2.6420 Accuracy 0.5137 with time taken 6.93 secs\n",
            "Epoch 7 Batch 1050 Loss 2.6414 Accuracy 0.5139 with time taken 7.18 secs\n",
            "Epoch 7 Batch 1100 Loss 2.6397 Accuracy 0.5141 with time taken 7.17 secs\n",
            "Epoch 7 Batch 1150 Loss 2.6383 Accuracy 0.5142 with time taken 7.04 secs\n",
            "Epoch 7 Batch 1200 Loss 2.6376 Accuracy 0.5143 with time taken 7.05 secs\n",
            "Epoch 7 Batch 1250 Loss 2.6373 Accuracy 0.5143 with time taken 6.95 secs\n",
            "Epoch 7 Batch 1300 Loss 2.6371 Accuracy 0.5144 with time taken 7.10 secs\n",
            "Epoch 7 Batch 1350 Loss 2.6369 Accuracy 0.5145 with time taken 7.24 secs\n",
            "Epoch 7 Batch 1400 Loss 2.6366 Accuracy 0.5145 with time taken 7.15 secs\n",
            "Epoch 7 Batch 1450 Loss 2.6359 Accuracy 0.5147 with time taken 6.90 secs\n",
            "Epoch 7 Batch 1500 Loss 2.6350 Accuracy 0.5148 with time taken 7.23 secs\n",
            "Epoch 7 Batch 1550 Loss 2.6351 Accuracy 0.5148 with time taken 7.36 secs\n",
            "Epoch 7 Batch 1600 Loss 2.6344 Accuracy 0.5148 with time taken 7.40 secs\n",
            "Epoch 7 Batch 1650 Loss 2.6345 Accuracy 0.5149 with time taken 7.35 secs\n",
            "Epoch 7 Batch 1700 Loss 2.6351 Accuracy 0.5148 with time taken 7.33 secs\n",
            "Epoch 7 Batch 1750 Loss 2.6333 Accuracy 0.5150 with time taken 6.86 secs\n",
            "Epoch 7 Batch 1800 Loss 2.6319 Accuracy 0.5152 with time taken 7.28 secs\n",
            "Epoch 7 Batch 1850 Loss 2.6317 Accuracy 0.5152 with time taken 6.83 secs\n",
            "Epoch 7 Batch 1900 Loss 2.6317 Accuracy 0.5153 with time taken 7.37 secs\n",
            "Epoch 7 Batch 1950 Loss 2.6309 Accuracy 0.5154 with time taken 7.14 secs\n",
            "Epoch 7 Batch 2000 Loss 2.6301 Accuracy 0.5155 with time taken 7.01 secs\n",
            "Epoch 7 Batch 2050 Loss 2.6296 Accuracy 0.5156 with time taken 7.22 secs\n",
            "Epoch 7 Batch 2100 Loss 2.6286 Accuracy 0.5158 with time taken 6.98 secs\n",
            "Epoch 7 Batch 2150 Loss 2.6287 Accuracy 0.5157 with time taken 7.24 secs\n",
            "Epoch 7 Batch 2200 Loss 2.6286 Accuracy 0.5158 with time taken 7.28 secs\n",
            "Epoch 7 Batch 2250 Loss 2.6278 Accuracy 0.5159 with time taken 7.23 secs\n",
            "Epoch 7 Batch 2300 Loss 2.6278 Accuracy 0.5159 with time taken 7.25 secs\n",
            "Epoch 7 Batch 2350 Loss 2.6274 Accuracy 0.5159 with time taken 7.30 secs\n",
            "Epoch 7 Batch 2400 Loss 2.6270 Accuracy 0.5160 with time taken 7.31 secs\n",
            "Epoch 7 Batch 2450 Loss 2.6265 Accuracy 0.5161 with time taken 6.95 secs\n",
            "Epoch 7 Batch 2500 Loss 2.6259 Accuracy 0.5161 with time taken 7.08 secs\n",
            "Epoch 7 Batch 2550 Loss 2.6251 Accuracy 0.5162 with time taken 7.09 secs\n",
            "Epoch 7 Batch 2600 Loss 2.6238 Accuracy 0.5164 with time taken 7.01 secs\n",
            "Epoch 7 Batch 2650 Loss 2.6231 Accuracy 0.5165 with time taken 7.07 secs\n",
            "Epoch 7 Batch 2700 Loss 2.6220 Accuracy 0.5167 with time taken 7.11 secs\n",
            "Epoch 7 Batch 2750 Loss 2.6220 Accuracy 0.5166 with time taken 7.19 secs\n",
            "Epoch 7 Batch 2800 Loss 2.6218 Accuracy 0.5166 with time taken 7.25 secs\n",
            "Epoch 7 Batch 2850 Loss 2.6213 Accuracy 0.5167 with time taken 7.16 secs\n",
            "Epoch 7 Batch 2900 Loss 2.6211 Accuracy 0.5168 with time taken 7.39 secs\n",
            "Epoch 7 Batch 2950 Loss 2.6205 Accuracy 0.5169 with time taken 6.96 secs\n",
            "Epoch 7 Batch 3000 Loss 2.6202 Accuracy 0.5169 with time taken 7.47 secs\n",
            "Epoch 7 Batch 3050 Loss 2.6203 Accuracy 0.5169 with time taken 7.26 secs\n",
            "Epoch 7 Batch 3100 Loss 2.6199 Accuracy 0.5170 with time taken 7.20 secs\n",
            "Epoch 7 Batch 3150 Loss 2.6195 Accuracy 0.5171 with time taken 6.98 secs\n",
            "Epoch 7 Batch 3200 Loss 2.6190 Accuracy 0.5171 with time taken 7.11 secs\n",
            "Epoch 7 Batch 3250 Loss 2.6189 Accuracy 0.5171 with time taken 7.18 secs\n",
            "Saving checkpoint for epoch 7 at drive/MyDrive/models/transformer_ru_en_v2/ckpt-7\n",
            "Epoch 7 Loss 2.6189 Accuracy 0.5171\n",
            "Time taken for 1 epoch: 467.06 secs\n",
            "\n",
            "Epoch 8 Batch 0 Loss 2.4166 Accuracy 0.5422 with time taken 0.60 secs\n",
            "Epoch 8 Batch 50 Loss 2.5873 Accuracy 0.5209 with time taken 7.32 secs\n",
            "Epoch 8 Batch 100 Loss 2.5686 Accuracy 0.5231 with time taken 7.27 secs\n",
            "Epoch 8 Batch 150 Loss 2.5661 Accuracy 0.5237 with time taken 7.19 secs\n",
            "Epoch 8 Batch 200 Loss 2.5636 Accuracy 0.5235 with time taken 7.02 secs\n",
            "Epoch 8 Batch 250 Loss 2.5684 Accuracy 0.5234 with time taken 7.46 secs\n",
            "Epoch 8 Batch 300 Loss 2.5679 Accuracy 0.5233 with time taken 6.98 secs\n",
            "Epoch 8 Batch 350 Loss 2.5717 Accuracy 0.5230 with time taken 7.20 secs\n",
            "Epoch 8 Batch 400 Loss 2.5730 Accuracy 0.5226 with time taken 7.16 secs\n",
            "Epoch 8 Batch 450 Loss 2.5728 Accuracy 0.5229 with time taken 7.03 secs\n",
            "Epoch 8 Batch 500 Loss 2.5752 Accuracy 0.5226 with time taken 7.40 secs\n",
            "Epoch 8 Batch 550 Loss 2.5733 Accuracy 0.5230 with time taken 7.05 secs\n",
            "Epoch 8 Batch 600 Loss 2.5759 Accuracy 0.5227 with time taken 7.00 secs\n",
            "Epoch 8 Batch 650 Loss 2.5755 Accuracy 0.5226 with time taken 7.28 secs\n",
            "Epoch 8 Batch 700 Loss 2.5748 Accuracy 0.5227 with time taken 6.94 secs\n",
            "Epoch 8 Batch 750 Loss 2.5743 Accuracy 0.5229 with time taken 7.46 secs\n",
            "Epoch 8 Batch 800 Loss 2.5729 Accuracy 0.5232 with time taken 7.06 secs\n",
            "Epoch 8 Batch 850 Loss 2.5722 Accuracy 0.5233 with time taken 7.17 secs\n",
            "Epoch 8 Batch 900 Loss 2.5703 Accuracy 0.5234 with time taken 7.07 secs\n",
            "Epoch 8 Batch 950 Loss 2.5704 Accuracy 0.5235 with time taken 7.04 secs\n",
            "Epoch 8 Batch 1000 Loss 2.5701 Accuracy 0.5235 with time taken 7.13 secs\n",
            "Epoch 8 Batch 1050 Loss 2.5700 Accuracy 0.5235 with time taken 7.03 secs\n",
            "Epoch 8 Batch 1100 Loss 2.5691 Accuracy 0.5236 with time taken 7.34 secs\n",
            "Epoch 8 Batch 1150 Loss 2.5684 Accuracy 0.5236 with time taken 6.82 secs\n",
            "Epoch 8 Batch 1200 Loss 2.5681 Accuracy 0.5237 with time taken 7.32 secs\n",
            "Epoch 8 Batch 1250 Loss 2.5665 Accuracy 0.5239 with time taken 6.97 secs\n",
            "Epoch 8 Batch 1300 Loss 2.5670 Accuracy 0.5237 with time taken 7.14 secs\n",
            "Epoch 8 Batch 1350 Loss 2.5660 Accuracy 0.5239 with time taken 7.12 secs\n",
            "Epoch 8 Batch 1400 Loss 2.5666 Accuracy 0.5238 with time taken 7.14 secs\n",
            "Epoch 8 Batch 1450 Loss 2.5653 Accuracy 0.5240 with time taken 7.20 secs\n",
            "Epoch 8 Batch 1500 Loss 2.5643 Accuracy 0.5242 with time taken 7.15 secs\n",
            "Epoch 8 Batch 1550 Loss 2.5635 Accuracy 0.5243 with time taken 7.22 secs\n",
            "Epoch 8 Batch 1600 Loss 2.5636 Accuracy 0.5243 with time taken 6.80 secs\n",
            "Epoch 8 Batch 1650 Loss 2.5634 Accuracy 0.5243 with time taken 7.10 secs\n",
            "Epoch 8 Batch 1700 Loss 2.5627 Accuracy 0.5244 with time taken 7.16 secs\n",
            "Epoch 8 Batch 1750 Loss 2.5624 Accuracy 0.5244 with time taken 7.10 secs\n",
            "Epoch 8 Batch 1800 Loss 2.5617 Accuracy 0.5245 with time taken 7.11 secs\n",
            "Epoch 8 Batch 1850 Loss 2.5614 Accuracy 0.5246 with time taken 7.17 secs\n",
            "Epoch 8 Batch 1900 Loss 2.5612 Accuracy 0.5247 with time taken 7.30 secs\n",
            "Epoch 8 Batch 1950 Loss 2.5602 Accuracy 0.5248 with time taken 7.15 secs\n",
            "Epoch 8 Batch 2000 Loss 2.5604 Accuracy 0.5248 with time taken 7.04 secs\n",
            "Epoch 8 Batch 2050 Loss 2.5601 Accuracy 0.5249 with time taken 7.24 secs\n",
            "Epoch 8 Batch 2100 Loss 2.5599 Accuracy 0.5249 with time taken 7.16 secs\n",
            "Epoch 8 Batch 2150 Loss 2.5587 Accuracy 0.5251 with time taken 7.37 secs\n",
            "Epoch 8 Batch 2200 Loss 2.5584 Accuracy 0.5252 with time taken 7.14 secs\n",
            "Epoch 8 Batch 2250 Loss 2.5584 Accuracy 0.5252 with time taken 7.13 secs\n",
            "Epoch 8 Batch 2300 Loss 2.5583 Accuracy 0.5251 with time taken 7.03 secs\n",
            "Epoch 8 Batch 2350 Loss 2.5581 Accuracy 0.5252 with time taken 7.27 secs\n",
            "Epoch 8 Batch 2400 Loss 2.5581 Accuracy 0.5252 with time taken 7.15 secs\n",
            "Epoch 8 Batch 2450 Loss 2.5578 Accuracy 0.5253 with time taken 7.15 secs\n",
            "Epoch 8 Batch 2500 Loss 2.5577 Accuracy 0.5252 with time taken 7.17 secs\n",
            "Epoch 8 Batch 2550 Loss 2.5572 Accuracy 0.5253 with time taken 7.25 secs\n",
            "Epoch 8 Batch 2600 Loss 2.5569 Accuracy 0.5254 with time taken 7.16 secs\n",
            "Epoch 8 Batch 2650 Loss 2.5566 Accuracy 0.5254 with time taken 7.19 secs\n",
            "Epoch 8 Batch 2700 Loss 2.5574 Accuracy 0.5253 with time taken 7.18 secs\n",
            "Epoch 8 Batch 2750 Loss 2.5562 Accuracy 0.5255 with time taken 7.21 secs\n",
            "Epoch 8 Batch 2800 Loss 2.5555 Accuracy 0.5255 with time taken 7.43 secs\n",
            "Epoch 8 Batch 2850 Loss 2.5549 Accuracy 0.5257 with time taken 7.23 secs\n",
            "Epoch 8 Batch 2900 Loss 2.5547 Accuracy 0.5257 with time taken 7.33 secs\n",
            "Epoch 8 Batch 2950 Loss 2.5545 Accuracy 0.5257 with time taken 7.02 secs\n",
            "Epoch 8 Batch 3000 Loss 2.5544 Accuracy 0.5257 with time taken 7.12 secs\n",
            "Epoch 8 Batch 3050 Loss 2.5541 Accuracy 0.5258 with time taken 7.36 secs\n",
            "Epoch 8 Batch 3100 Loss 2.5537 Accuracy 0.5259 with time taken 6.96 secs\n",
            "Epoch 8 Batch 3150 Loss 2.5534 Accuracy 0.5259 with time taken 7.29 secs\n",
            "Epoch 8 Batch 3200 Loss 2.5535 Accuracy 0.5259 with time taken 7.37 secs\n",
            "Epoch 8 Batch 3250 Loss 2.5530 Accuracy 0.5259 with time taken 7.33 secs\n",
            "Saving checkpoint for epoch 8 at drive/MyDrive/models/transformer_ru_en_v2/ckpt-8\n",
            "Epoch 8 Loss 2.5530 Accuracy 0.5259\n",
            "Time taken for 1 epoch: 466.89 secs\n",
            "\n",
            "Epoch 9 Batch 0 Loss 2.6438 Accuracy 0.5181 with time taken 0.61 secs\n",
            "Epoch 9 Batch 50 Loss 2.5371 Accuracy 0.5264 with time taken 7.34 secs\n",
            "Epoch 9 Batch 100 Loss 2.5068 Accuracy 0.5299 with time taken 7.10 secs\n",
            "Epoch 9 Batch 150 Loss 2.5148 Accuracy 0.5290 with time taken 7.06 secs\n",
            "Epoch 9 Batch 200 Loss 2.5138 Accuracy 0.5290 with time taken 7.13 secs\n",
            "Epoch 9 Batch 250 Loss 2.5113 Accuracy 0.5300 with time taken 7.50 secs\n",
            "Epoch 9 Batch 300 Loss 2.5130 Accuracy 0.5301 with time taken 7.10 secs\n",
            "Epoch 9 Batch 350 Loss 2.5132 Accuracy 0.5301 with time taken 6.96 secs\n",
            "Epoch 9 Batch 400 Loss 2.5112 Accuracy 0.5305 with time taken 7.20 secs\n",
            "Epoch 9 Batch 450 Loss 2.5111 Accuracy 0.5305 with time taken 7.04 secs\n",
            "Epoch 9 Batch 500 Loss 2.5113 Accuracy 0.5305 with time taken 7.25 secs\n",
            "Epoch 9 Batch 550 Loss 2.5138 Accuracy 0.5302 with time taken 7.03 secs\n",
            "Epoch 9 Batch 600 Loss 2.5141 Accuracy 0.5300 with time taken 7.62 secs\n",
            "Epoch 9 Batch 650 Loss 2.5110 Accuracy 0.5304 with time taken 7.13 secs\n",
            "Epoch 9 Batch 700 Loss 2.5101 Accuracy 0.5307 with time taken 7.23 secs\n",
            "Epoch 9 Batch 750 Loss 2.5090 Accuracy 0.5309 with time taken 7.10 secs\n",
            "Epoch 9 Batch 800 Loss 2.5116 Accuracy 0.5306 with time taken 7.17 secs\n",
            "Epoch 9 Batch 850 Loss 2.5117 Accuracy 0.5307 with time taken 7.18 secs\n",
            "Epoch 9 Batch 900 Loss 2.5117 Accuracy 0.5307 with time taken 6.89 secs\n",
            "Epoch 9 Batch 950 Loss 2.5106 Accuracy 0.5309 with time taken 7.29 secs\n",
            "Epoch 9 Batch 1000 Loss 2.5111 Accuracy 0.5308 with time taken 7.21 secs\n",
            "Epoch 9 Batch 1050 Loss 2.5095 Accuracy 0.5310 with time taken 6.97 secs\n",
            "Epoch 9 Batch 1100 Loss 2.5092 Accuracy 0.5310 with time taken 7.24 secs\n",
            "Epoch 9 Batch 1150 Loss 2.5095 Accuracy 0.5309 with time taken 7.42 secs\n",
            "Epoch 9 Batch 1200 Loss 2.5083 Accuracy 0.5311 with time taken 7.06 secs\n",
            "Epoch 9 Batch 1250 Loss 2.5077 Accuracy 0.5311 with time taken 7.02 secs\n",
            "Epoch 9 Batch 1300 Loss 2.5074 Accuracy 0.5312 with time taken 7.04 secs\n",
            "Epoch 9 Batch 1350 Loss 2.5067 Accuracy 0.5313 with time taken 7.15 secs\n",
            "Epoch 9 Batch 1400 Loss 2.5065 Accuracy 0.5313 with time taken 6.95 secs\n",
            "Epoch 9 Batch 1450 Loss 2.5067 Accuracy 0.5313 with time taken 7.31 secs\n",
            "Epoch 9 Batch 1500 Loss 2.5060 Accuracy 0.5314 with time taken 7.11 secs\n",
            "Epoch 9 Batch 1550 Loss 2.5059 Accuracy 0.5314 with time taken 7.29 secs\n",
            "Epoch 9 Batch 1600 Loss 2.5059 Accuracy 0.5314 with time taken 7.21 secs\n",
            "Epoch 9 Batch 1650 Loss 2.5052 Accuracy 0.5315 with time taken 7.19 secs\n",
            "Epoch 9 Batch 1700 Loss 2.5052 Accuracy 0.5315 with time taken 7.03 secs\n",
            "Epoch 9 Batch 1750 Loss 2.5056 Accuracy 0.5314 with time taken 7.07 secs\n",
            "Epoch 9 Batch 1800 Loss 2.5056 Accuracy 0.5314 with time taken 7.16 secs\n",
            "Epoch 9 Batch 1850 Loss 2.5051 Accuracy 0.5315 with time taken 7.03 secs\n",
            "Epoch 9 Batch 1900 Loss 2.5055 Accuracy 0.5314 with time taken 7.24 secs\n",
            "Epoch 9 Batch 1950 Loss 2.5060 Accuracy 0.5314 with time taken 7.19 secs\n",
            "Epoch 9 Batch 2000 Loss 2.5051 Accuracy 0.5315 with time taken 6.92 secs\n",
            "Epoch 9 Batch 2050 Loss 2.5044 Accuracy 0.5316 with time taken 7.13 secs\n",
            "Epoch 9 Batch 2100 Loss 2.5034 Accuracy 0.5318 with time taken 7.29 secs\n",
            "Epoch 9 Batch 2150 Loss 2.5035 Accuracy 0.5318 with time taken 7.39 secs\n",
            "Epoch 9 Batch 2200 Loss 2.5026 Accuracy 0.5320 with time taken 7.02 secs\n",
            "Epoch 9 Batch 2250 Loss 2.5023 Accuracy 0.5320 with time taken 7.06 secs\n",
            "Epoch 9 Batch 2300 Loss 2.5021 Accuracy 0.5321 with time taken 7.15 secs\n",
            "Epoch 9 Batch 2350 Loss 2.5018 Accuracy 0.5321 with time taken 7.30 secs\n",
            "Epoch 9 Batch 2400 Loss 2.5012 Accuracy 0.5321 with time taken 7.13 secs\n",
            "Epoch 9 Batch 2450 Loss 2.5009 Accuracy 0.5321 with time taken 7.33 secs\n",
            "Epoch 9 Batch 2500 Loss 2.5008 Accuracy 0.5322 with time taken 6.84 secs\n",
            "Epoch 9 Batch 2550 Loss 2.5002 Accuracy 0.5323 with time taken 7.11 secs\n",
            "Epoch 9 Batch 2600 Loss 2.4998 Accuracy 0.5324 with time taken 7.22 secs\n",
            "Epoch 9 Batch 2650 Loss 2.4988 Accuracy 0.5325 with time taken 7.23 secs\n",
            "Epoch 9 Batch 2700 Loss 2.4984 Accuracy 0.5326 with time taken 7.07 secs\n",
            "Epoch 9 Batch 2750 Loss 2.4983 Accuracy 0.5325 with time taken 7.09 secs\n",
            "Epoch 9 Batch 2800 Loss 2.4981 Accuracy 0.5326 with time taken 6.94 secs\n",
            "Epoch 9 Batch 2850 Loss 2.4980 Accuracy 0.5326 with time taken 7.13 secs\n",
            "Epoch 9 Batch 2900 Loss 2.4975 Accuracy 0.5326 with time taken 7.42 secs\n",
            "Epoch 9 Batch 2950 Loss 2.4975 Accuracy 0.5326 with time taken 7.39 secs\n",
            "Epoch 9 Batch 3000 Loss 2.4966 Accuracy 0.5327 with time taken 6.90 secs\n",
            "Epoch 9 Batch 3050 Loss 2.4969 Accuracy 0.5327 with time taken 7.15 secs\n",
            "Epoch 9 Batch 3100 Loss 2.4963 Accuracy 0.5328 with time taken 6.92 secs\n",
            "Epoch 9 Batch 3150 Loss 2.4965 Accuracy 0.5327 with time taken 7.35 secs\n",
            "Epoch 9 Batch 3200 Loss 2.4967 Accuracy 0.5327 with time taken 7.07 secs\n",
            "Epoch 9 Batch 3250 Loss 2.4967 Accuracy 0.5328 with time taken 7.32 secs\n",
            "Saving checkpoint for epoch 9 at drive/MyDrive/models/transformer_ru_en_v2/ckpt-9\n",
            "Epoch 9 Loss 2.4967 Accuracy 0.5328\n",
            "Time taken for 1 epoch: 466.25 secs\n",
            "\n",
            "Epoch 10 Batch 0 Loss 2.4573 Accuracy 0.5334 with time taken 0.61 secs\n",
            "Epoch 10 Batch 50 Loss 2.4693 Accuracy 0.5353 with time taken 7.10 secs\n",
            "Epoch 10 Batch 100 Loss 2.4625 Accuracy 0.5362 with time taken 7.36 secs\n",
            "Epoch 10 Batch 150 Loss 2.4790 Accuracy 0.5344 with time taken 7.31 secs\n",
            "Epoch 10 Batch 200 Loss 2.4758 Accuracy 0.5344 with time taken 7.22 secs\n",
            "Epoch 10 Batch 250 Loss 2.4699 Accuracy 0.5356 with time taken 7.23 secs\n",
            "Epoch 10 Batch 300 Loss 2.4703 Accuracy 0.5354 with time taken 7.07 secs\n",
            "Epoch 10 Batch 350 Loss 2.4705 Accuracy 0.5356 with time taken 7.26 secs\n",
            "Epoch 10 Batch 400 Loss 2.4702 Accuracy 0.5356 with time taken 7.15 secs\n",
            "Epoch 10 Batch 450 Loss 2.4712 Accuracy 0.5355 with time taken 7.08 secs\n",
            "Epoch 10 Batch 500 Loss 2.4702 Accuracy 0.5356 with time taken 7.23 secs\n",
            "Epoch 10 Batch 550 Loss 2.4713 Accuracy 0.5354 with time taken 7.08 secs\n",
            "Epoch 10 Batch 600 Loss 2.4697 Accuracy 0.5356 with time taken 7.08 secs\n",
            "Epoch 10 Batch 650 Loss 2.4699 Accuracy 0.5355 with time taken 7.02 secs\n",
            "Epoch 10 Batch 700 Loss 2.4675 Accuracy 0.5358 with time taken 6.97 secs\n",
            "Epoch 10 Batch 750 Loss 2.4667 Accuracy 0.5361 with time taken 7.12 secs\n",
            "Epoch 10 Batch 800 Loss 2.4655 Accuracy 0.5364 with time taken 7.20 secs\n",
            "Epoch 10 Batch 850 Loss 2.4652 Accuracy 0.5365 with time taken 7.07 secs\n",
            "Epoch 10 Batch 900 Loss 2.4639 Accuracy 0.5367 with time taken 7.31 secs\n",
            "Epoch 10 Batch 950 Loss 2.4628 Accuracy 0.5369 with time taken 7.16 secs\n",
            "Epoch 10 Batch 1000 Loss 2.4616 Accuracy 0.5371 with time taken 6.86 secs\n",
            "Epoch 10 Batch 1050 Loss 2.4600 Accuracy 0.5372 with time taken 7.16 secs\n",
            "Epoch 10 Batch 1100 Loss 2.4595 Accuracy 0.5373 with time taken 7.00 secs\n",
            "Epoch 10 Batch 1150 Loss 2.4597 Accuracy 0.5373 with time taken 7.18 secs\n",
            "Epoch 10 Batch 1200 Loss 2.4587 Accuracy 0.5374 with time taken 7.23 secs\n",
            "Epoch 10 Batch 1250 Loss 2.4583 Accuracy 0.5374 with time taken 7.01 secs\n",
            "Epoch 10 Batch 1300 Loss 2.4587 Accuracy 0.5374 with time taken 7.14 secs\n",
            "Epoch 10 Batch 1350 Loss 2.4586 Accuracy 0.5375 with time taken 7.04 secs\n",
            "Epoch 10 Batch 1400 Loss 2.4590 Accuracy 0.5373 with time taken 7.18 secs\n",
            "Epoch 10 Batch 1450 Loss 2.4586 Accuracy 0.5375 with time taken 6.82 secs\n",
            "Epoch 10 Batch 1500 Loss 2.4582 Accuracy 0.5376 with time taken 7.34 secs\n",
            "Epoch 10 Batch 1550 Loss 2.4575 Accuracy 0.5376 with time taken 6.80 secs\n",
            "Epoch 10 Batch 1600 Loss 2.4580 Accuracy 0.5375 with time taken 7.27 secs\n",
            "Epoch 10 Batch 1650 Loss 2.4581 Accuracy 0.5375 with time taken 7.26 secs\n",
            "Epoch 10 Batch 1700 Loss 2.4577 Accuracy 0.5375 with time taken 7.48 secs\n",
            "Epoch 10 Batch 1750 Loss 2.4578 Accuracy 0.5375 with time taken 7.24 secs\n",
            "Epoch 10 Batch 1800 Loss 2.4581 Accuracy 0.5374 with time taken 7.07 secs\n",
            "Epoch 10 Batch 1850 Loss 2.4576 Accuracy 0.5376 with time taken 7.30 secs\n",
            "Epoch 10 Batch 1900 Loss 2.4570 Accuracy 0.5376 with time taken 7.11 secs\n",
            "Epoch 10 Batch 1950 Loss 2.4560 Accuracy 0.5378 with time taken 7.17 secs\n",
            "Epoch 10 Batch 2000 Loss 2.4557 Accuracy 0.5378 with time taken 7.38 secs\n",
            "Epoch 10 Batch 2050 Loss 2.4553 Accuracy 0.5379 with time taken 7.17 secs\n",
            "Epoch 10 Batch 2100 Loss 2.4552 Accuracy 0.5379 with time taken 7.05 secs\n",
            "Epoch 10 Batch 2150 Loss 2.4552 Accuracy 0.5380 with time taken 7.04 secs\n",
            "Epoch 10 Batch 2200 Loss 2.4556 Accuracy 0.5379 with time taken 7.36 secs\n",
            "Epoch 10 Batch 2250 Loss 2.4550 Accuracy 0.5379 with time taken 7.18 secs\n",
            "Epoch 10 Batch 2300 Loss 2.4545 Accuracy 0.5381 with time taken 7.36 secs\n",
            "Epoch 10 Batch 2350 Loss 2.4550 Accuracy 0.5380 with time taken 7.23 secs\n",
            "Epoch 10 Batch 2400 Loss 2.4544 Accuracy 0.5381 with time taken 7.03 secs\n",
            "Epoch 10 Batch 2450 Loss 2.4540 Accuracy 0.5382 with time taken 7.22 secs\n",
            "Epoch 10 Batch 2500 Loss 2.4536 Accuracy 0.5382 with time taken 7.07 secs\n",
            "Epoch 10 Batch 2550 Loss 2.4533 Accuracy 0.5383 with time taken 6.88 secs\n",
            "Epoch 10 Batch 2600 Loss 2.4529 Accuracy 0.5383 with time taken 7.20 secs\n",
            "Epoch 10 Batch 2650 Loss 2.4524 Accuracy 0.5384 with time taken 7.36 secs\n",
            "Epoch 10 Batch 2700 Loss 2.4518 Accuracy 0.5385 with time taken 6.89 secs\n",
            "Epoch 10 Batch 2750 Loss 2.4514 Accuracy 0.5385 with time taken 7.18 secs\n",
            "Epoch 10 Batch 2800 Loss 2.4512 Accuracy 0.5386 with time taken 6.99 secs\n",
            "Epoch 10 Batch 2850 Loss 2.4521 Accuracy 0.5384 with time taken 7.25 secs\n",
            "Epoch 10 Batch 2900 Loss 2.4517 Accuracy 0.5385 with time taken 7.13 secs\n",
            "Epoch 10 Batch 2950 Loss 2.4517 Accuracy 0.5385 with time taken 6.96 secs\n",
            "Epoch 10 Batch 3000 Loss 2.4512 Accuracy 0.5386 with time taken 7.18 secs\n",
            "Epoch 10 Batch 3050 Loss 2.4509 Accuracy 0.5386 with time taken 7.03 secs\n",
            "Epoch 10 Batch 3100 Loss 2.4504 Accuracy 0.5387 with time taken 7.13 secs\n",
            "Epoch 10 Batch 3150 Loss 2.4506 Accuracy 0.5386 with time taken 6.96 secs\n",
            "Epoch 10 Batch 3200 Loss 2.4507 Accuracy 0.5386 with time taken 7.44 secs\n",
            "Epoch 10 Batch 3250 Loss 2.4507 Accuracy 0.5386 with time taken 7.48 secs\n",
            "Saving checkpoint for epoch 10 at drive/MyDrive/models/transformer_ru_en_v2/ckpt-10\n",
            "Epoch 10 Loss 2.4507 Accuracy 0.5386\n",
            "Time taken for 1 epoch: 465.95 secs\n",
            "\n",
            "Epoch 11 Batch 0 Loss 2.4824 Accuracy 0.5316 with time taken 0.62 secs\n",
            "Epoch 11 Batch 50 Loss 2.4484 Accuracy 0.5382 with time taken 7.21 secs\n",
            "Epoch 11 Batch 100 Loss 2.4287 Accuracy 0.5409 with time taken 7.47 secs\n",
            "Epoch 11 Batch 150 Loss 2.4292 Accuracy 0.5409 with time taken 7.03 secs\n",
            "Epoch 11 Batch 200 Loss 2.4274 Accuracy 0.5411 with time taken 7.35 secs\n",
            "Epoch 11 Batch 250 Loss 2.4329 Accuracy 0.5400 with time taken 7.03 secs\n",
            "Epoch 11 Batch 300 Loss 2.4293 Accuracy 0.5406 with time taken 7.08 secs\n",
            "Epoch 11 Batch 350 Loss 2.4247 Accuracy 0.5413 with time taken 7.30 secs\n",
            "Epoch 11 Batch 400 Loss 2.4241 Accuracy 0.5415 with time taken 7.06 secs\n",
            "Epoch 11 Batch 450 Loss 2.4229 Accuracy 0.5420 with time taken 7.28 secs\n",
            "Epoch 11 Batch 500 Loss 2.4235 Accuracy 0.5419 with time taken 7.15 secs\n",
            "Epoch 11 Batch 550 Loss 2.4242 Accuracy 0.5418 with time taken 7.28 secs\n",
            "Epoch 11 Batch 600 Loss 2.4216 Accuracy 0.5422 with time taken 7.06 secs\n",
            "Epoch 11 Batch 650 Loss 2.4216 Accuracy 0.5421 with time taken 7.22 secs\n",
            "Epoch 11 Batch 700 Loss 2.4219 Accuracy 0.5420 with time taken 7.01 secs\n",
            "Epoch 11 Batch 750 Loss 2.4204 Accuracy 0.5423 with time taken 7.04 secs\n",
            "Epoch 11 Batch 800 Loss 2.4196 Accuracy 0.5425 with time taken 7.17 secs\n",
            "Epoch 11 Batch 850 Loss 2.4194 Accuracy 0.5425 with time taken 6.95 secs\n",
            "Epoch 11 Batch 900 Loss 2.4202 Accuracy 0.5425 with time taken 6.97 secs\n",
            "Epoch 11 Batch 950 Loss 2.4207 Accuracy 0.5424 with time taken 6.92 secs\n",
            "Epoch 11 Batch 1000 Loss 2.4209 Accuracy 0.5424 with time taken 7.29 secs\n",
            "Epoch 11 Batch 1050 Loss 2.4195 Accuracy 0.5424 with time taken 7.10 secs\n",
            "Epoch 11 Batch 1100 Loss 2.4179 Accuracy 0.5427 with time taken 6.83 secs\n",
            "Epoch 11 Batch 1150 Loss 2.4175 Accuracy 0.5430 with time taken 6.89 secs\n",
            "Epoch 11 Batch 1200 Loss 2.4179 Accuracy 0.5430 with time taken 7.05 secs\n",
            "Epoch 11 Batch 1250 Loss 2.4176 Accuracy 0.5431 with time taken 7.34 secs\n",
            "Epoch 11 Batch 1300 Loss 2.4172 Accuracy 0.5432 with time taken 6.96 secs\n",
            "Epoch 11 Batch 1350 Loss 2.4174 Accuracy 0.5432 with time taken 7.18 secs\n",
            "Epoch 11 Batch 1400 Loss 2.4176 Accuracy 0.5432 with time taken 7.24 secs\n",
            "Epoch 11 Batch 1450 Loss 2.4168 Accuracy 0.5433 with time taken 7.19 secs\n",
            "Epoch 11 Batch 1500 Loss 2.4170 Accuracy 0.5433 with time taken 7.21 secs\n",
            "Epoch 11 Batch 1550 Loss 2.4167 Accuracy 0.5433 with time taken 7.36 secs\n",
            "Epoch 11 Batch 1600 Loss 2.4166 Accuracy 0.5433 with time taken 7.39 secs\n",
            "Epoch 11 Batch 1650 Loss 2.4168 Accuracy 0.5432 with time taken 7.16 secs\n",
            "Epoch 11 Batch 1700 Loss 2.4176 Accuracy 0.5430 with time taken 7.49 secs\n",
            "Epoch 11 Batch 1750 Loss 2.4176 Accuracy 0.5430 with time taken 7.05 secs\n",
            "Epoch 11 Batch 1800 Loss 2.4173 Accuracy 0.5431 with time taken 7.14 secs\n",
            "Epoch 11 Batch 1850 Loss 2.4171 Accuracy 0.5431 with time taken 7.08 secs\n",
            "Epoch 11 Batch 1900 Loss 2.4169 Accuracy 0.5432 with time taken 7.22 secs\n",
            "Epoch 11 Batch 1950 Loss 2.4167 Accuracy 0.5432 with time taken 7.28 secs\n",
            "Epoch 11 Batch 2000 Loss 2.4166 Accuracy 0.5432 with time taken 6.93 secs\n",
            "Epoch 11 Batch 2050 Loss 2.4165 Accuracy 0.5433 with time taken 7.21 secs\n",
            "Epoch 11 Batch 2100 Loss 2.4163 Accuracy 0.5432 with time taken 7.08 secs\n",
            "Epoch 11 Batch 2150 Loss 2.4157 Accuracy 0.5433 with time taken 7.39 secs\n",
            "Epoch 11 Batch 2200 Loss 2.4152 Accuracy 0.5434 with time taken 7.17 secs\n",
            "Epoch 11 Batch 2250 Loss 2.4153 Accuracy 0.5434 with time taken 7.02 secs\n",
            "Epoch 11 Batch 2300 Loss 2.4150 Accuracy 0.5434 with time taken 7.25 secs\n",
            "Epoch 11 Batch 2350 Loss 2.4148 Accuracy 0.5434 with time taken 7.12 secs\n",
            "Epoch 11 Batch 2400 Loss 2.4146 Accuracy 0.5434 with time taken 7.09 secs\n",
            "Epoch 11 Batch 2450 Loss 2.4147 Accuracy 0.5435 with time taken 7.17 secs\n",
            "Epoch 11 Batch 2500 Loss 2.4147 Accuracy 0.5435 with time taken 6.95 secs\n",
            "Epoch 11 Batch 2550 Loss 2.4141 Accuracy 0.5436 with time taken 6.94 secs\n",
            "Epoch 11 Batch 2600 Loss 2.4139 Accuracy 0.5436 with time taken 7.10 secs\n",
            "Epoch 11 Batch 2650 Loss 2.4138 Accuracy 0.5436 with time taken 7.14 secs\n",
            "Epoch 11 Batch 2700 Loss 2.4134 Accuracy 0.5436 with time taken 7.21 secs\n",
            "Epoch 11 Batch 2750 Loss 2.4123 Accuracy 0.5437 with time taken 6.95 secs\n",
            "Epoch 11 Batch 2800 Loss 2.4127 Accuracy 0.5437 with time taken 7.33 secs\n",
            "Epoch 11 Batch 2850 Loss 2.4128 Accuracy 0.5437 with time taken 7.31 secs\n",
            "Epoch 11 Batch 2900 Loss 2.4121 Accuracy 0.5438 with time taken 7.25 secs\n",
            "Epoch 11 Batch 2950 Loss 2.4120 Accuracy 0.5438 with time taken 7.12 secs\n",
            "Epoch 11 Batch 3000 Loss 2.4117 Accuracy 0.5439 with time taken 7.07 secs\n",
            "Epoch 11 Batch 3050 Loss 2.4118 Accuracy 0.5439 with time taken 7.31 secs\n",
            "Epoch 11 Batch 3100 Loss 2.4113 Accuracy 0.5440 with time taken 7.30 secs\n",
            "Epoch 11 Batch 3150 Loss 2.4115 Accuracy 0.5439 with time taken 7.08 secs\n",
            "Epoch 11 Batch 3200 Loss 2.4113 Accuracy 0.5439 with time taken 7.02 secs\n",
            "Epoch 11 Batch 3250 Loss 2.4113 Accuracy 0.5440 with time taken 7.11 secs\n",
            "Saving checkpoint for epoch 11 at drive/MyDrive/models/transformer_ru_en_v2/ckpt-11\n",
            "Epoch 11 Loss 2.4113 Accuracy 0.5440\n",
            "Time taken for 1 epoch: 465.78 secs\n",
            "\n",
            "Epoch 12 Batch 0 Loss 2.3678 Accuracy 0.5375 with time taken 0.59 secs\n",
            "Epoch 12 Batch 50 Loss 2.3959 Accuracy 0.5455 with time taken 7.31 secs\n",
            "Epoch 12 Batch 100 Loss 2.3880 Accuracy 0.5451 with time taken 7.50 secs\n",
            "Epoch 12 Batch 150 Loss 2.3847 Accuracy 0.5459 with time taken 7.19 secs\n",
            "Epoch 12 Batch 200 Loss 2.3817 Accuracy 0.5460 with time taken 7.19 secs\n",
            "Epoch 12 Batch 250 Loss 2.3844 Accuracy 0.5461 with time taken 7.05 secs\n",
            "Epoch 12 Batch 300 Loss 2.3838 Accuracy 0.5463 with time taken 7.04 secs\n",
            "Epoch 12 Batch 350 Loss 2.3861 Accuracy 0.5463 with time taken 7.29 secs\n",
            "Epoch 12 Batch 400 Loss 2.3879 Accuracy 0.5462 with time taken 7.30 secs\n",
            "Epoch 12 Batch 450 Loss 2.3930 Accuracy 0.5457 with time taken 7.19 secs\n",
            "Epoch 12 Batch 500 Loss 2.3914 Accuracy 0.5461 with time taken 7.25 secs\n",
            "Epoch 12 Batch 550 Loss 2.3918 Accuracy 0.5461 with time taken 6.95 secs\n",
            "Epoch 12 Batch 600 Loss 2.3916 Accuracy 0.5461 with time taken 7.38 secs\n",
            "Epoch 12 Batch 650 Loss 2.3906 Accuracy 0.5462 with time taken 7.28 secs\n",
            "Epoch 12 Batch 700 Loss 2.3879 Accuracy 0.5466 with time taken 6.96 secs\n",
            "Epoch 12 Batch 750 Loss 2.3854 Accuracy 0.5470 with time taken 6.94 secs\n",
            "Epoch 12 Batch 800 Loss 2.3861 Accuracy 0.5469 with time taken 7.37 secs\n",
            "Epoch 12 Batch 850 Loss 2.3849 Accuracy 0.5471 with time taken 7.01 secs\n",
            "Epoch 12 Batch 900 Loss 2.3851 Accuracy 0.5469 with time taken 7.20 secs\n",
            "Epoch 12 Batch 950 Loss 2.3854 Accuracy 0.5471 with time taken 6.93 secs\n",
            "Epoch 12 Batch 1000 Loss 2.3857 Accuracy 0.5470 with time taken 6.99 secs\n",
            "Epoch 12 Batch 1050 Loss 2.3848 Accuracy 0.5471 with time taken 6.85 secs\n",
            "Epoch 12 Batch 1100 Loss 2.3831 Accuracy 0.5473 with time taken 7.17 secs\n",
            "Epoch 12 Batch 1150 Loss 2.3834 Accuracy 0.5472 with time taken 7.02 secs\n",
            "Epoch 12 Batch 1200 Loss 2.3832 Accuracy 0.5472 with time taken 6.98 secs\n",
            "Epoch 12 Batch 1250 Loss 2.3829 Accuracy 0.5472 with time taken 7.21 secs\n",
            "Epoch 12 Batch 1300 Loss 2.3815 Accuracy 0.5475 with time taken 7.03 secs\n",
            "Epoch 12 Batch 1350 Loss 2.3801 Accuracy 0.5477 with time taken 6.89 secs\n",
            "Epoch 12 Batch 1400 Loss 2.3803 Accuracy 0.5477 with time taken 7.35 secs\n",
            "Epoch 12 Batch 1450 Loss 2.3813 Accuracy 0.5476 with time taken 7.10 secs\n",
            "Epoch 12 Batch 1500 Loss 2.3807 Accuracy 0.5476 with time taken 7.44 secs\n",
            "Epoch 12 Batch 1550 Loss 2.3799 Accuracy 0.5476 with time taken 7.26 secs\n",
            "Epoch 12 Batch 1600 Loss 2.3804 Accuracy 0.5476 with time taken 7.26 secs\n",
            "Epoch 12 Batch 1650 Loss 2.3820 Accuracy 0.5474 with time taken 7.22 secs\n",
            "Epoch 12 Batch 1700 Loss 2.3824 Accuracy 0.5473 with time taken 7.16 secs\n",
            "Epoch 12 Batch 1750 Loss 2.3823 Accuracy 0.5473 with time taken 7.29 secs\n",
            "Epoch 12 Batch 1800 Loss 2.3814 Accuracy 0.5474 with time taken 7.13 secs\n",
            "Epoch 12 Batch 1850 Loss 2.3819 Accuracy 0.5474 with time taken 7.47 secs\n",
            "Epoch 12 Batch 1900 Loss 2.3822 Accuracy 0.5475 with time taken 7.07 secs\n",
            "Epoch 12 Batch 1950 Loss 2.3823 Accuracy 0.5475 with time taken 7.20 secs\n",
            "Epoch 12 Batch 2000 Loss 2.3818 Accuracy 0.5476 with time taken 7.10 secs\n",
            "Epoch 12 Batch 2050 Loss 2.3818 Accuracy 0.5476 with time taken 7.07 secs\n",
            "Epoch 12 Batch 2100 Loss 2.3812 Accuracy 0.5477 with time taken 7.12 secs\n",
            "Epoch 12 Batch 2150 Loss 2.3811 Accuracy 0.5477 with time taken 6.96 secs\n",
            "Epoch 12 Batch 2200 Loss 2.3805 Accuracy 0.5478 with time taken 7.31 secs\n",
            "Epoch 12 Batch 2250 Loss 2.3806 Accuracy 0.5478 with time taken 7.04 secs\n",
            "Epoch 12 Batch 2300 Loss 2.3794 Accuracy 0.5479 with time taken 7.03 secs\n",
            "Epoch 12 Batch 2350 Loss 2.3797 Accuracy 0.5479 with time taken 7.04 secs\n",
            "Epoch 12 Batch 2400 Loss 2.3806 Accuracy 0.5478 with time taken 7.28 secs\n",
            "Epoch 12 Batch 2450 Loss 2.3807 Accuracy 0.5477 with time taken 7.15 secs\n",
            "Epoch 12 Batch 2500 Loss 2.3803 Accuracy 0.5478 with time taken 7.30 secs\n",
            "Epoch 12 Batch 2550 Loss 2.3797 Accuracy 0.5479 with time taken 7.08 secs\n",
            "Epoch 12 Batch 2600 Loss 2.3792 Accuracy 0.5480 with time taken 7.08 secs\n",
            "Epoch 12 Batch 2650 Loss 2.3788 Accuracy 0.5480 with time taken 6.86 secs\n",
            "Epoch 12 Batch 2700 Loss 2.3785 Accuracy 0.5481 with time taken 7.08 secs\n",
            "Epoch 12 Batch 2750 Loss 2.3782 Accuracy 0.5481 with time taken 7.12 secs\n",
            "Epoch 12 Batch 2800 Loss 2.3776 Accuracy 0.5481 with time taken 7.27 secs\n",
            "Epoch 12 Batch 2850 Loss 2.3775 Accuracy 0.5481 with time taken 7.22 secs\n",
            "Epoch 12 Batch 2900 Loss 2.3778 Accuracy 0.5481 with time taken 7.14 secs\n",
            "Epoch 12 Batch 2950 Loss 2.3782 Accuracy 0.5481 with time taken 7.36 secs\n",
            "Epoch 12 Batch 3000 Loss 2.3774 Accuracy 0.5482 with time taken 6.94 secs\n",
            "Epoch 12 Batch 3050 Loss 2.3771 Accuracy 0.5482 with time taken 7.16 secs\n",
            "Epoch 12 Batch 3100 Loss 2.3769 Accuracy 0.5483 with time taken 7.23 secs\n",
            "Epoch 12 Batch 3150 Loss 2.3772 Accuracy 0.5482 with time taken 7.27 secs\n",
            "Epoch 12 Batch 3200 Loss 2.3768 Accuracy 0.5483 with time taken 7.19 secs\n",
            "Epoch 12 Batch 3250 Loss 2.3770 Accuracy 0.5483 with time taken 7.12 secs\n",
            "Saving checkpoint for epoch 12 at drive/MyDrive/models/transformer_ru_en_v2/ckpt-12\n",
            "Epoch 12 Loss 2.3770 Accuracy 0.5483\n",
            "Time taken for 1 epoch: 466.08 secs\n",
            "\n",
            "Epoch 13 Batch 0 Loss 2.5338 Accuracy 0.5163 with time taken 0.64 secs\n",
            "Epoch 13 Batch 50 Loss 2.3797 Accuracy 0.5464 with time taken 7.11 secs\n",
            "Epoch 13 Batch 100 Loss 2.3625 Accuracy 0.5482 with time taken 7.28 secs\n",
            "Epoch 13 Batch 150 Loss 2.3492 Accuracy 0.5508 with time taken 7.36 secs\n",
            "Epoch 13 Batch 200 Loss 2.3617 Accuracy 0.5493 with time taken 7.03 secs\n",
            "Epoch 13 Batch 250 Loss 2.3594 Accuracy 0.5497 with time taken 7.23 secs\n",
            "Epoch 13 Batch 300 Loss 2.3596 Accuracy 0.5501 with time taken 7.13 secs\n",
            "Epoch 13 Batch 350 Loss 2.3585 Accuracy 0.5504 with time taken 7.23 secs\n",
            "Epoch 13 Batch 400 Loss 2.3535 Accuracy 0.5509 with time taken 7.04 secs\n",
            "Epoch 13 Batch 450 Loss 2.3548 Accuracy 0.5507 with time taken 7.15 secs\n",
            "Epoch 13 Batch 500 Loss 2.3580 Accuracy 0.5503 with time taken 7.14 secs\n",
            "Epoch 13 Batch 550 Loss 2.3570 Accuracy 0.5506 with time taken 7.09 secs\n",
            "Epoch 13 Batch 600 Loss 2.3580 Accuracy 0.5506 with time taken 7.14 secs\n",
            "Epoch 13 Batch 650 Loss 2.3576 Accuracy 0.5506 with time taken 7.12 secs\n",
            "Epoch 13 Batch 700 Loss 2.3575 Accuracy 0.5507 with time taken 6.99 secs\n",
            "Epoch 13 Batch 750 Loss 2.3561 Accuracy 0.5508 with time taken 7.20 secs\n",
            "Epoch 13 Batch 800 Loss 2.3543 Accuracy 0.5511 with time taken 7.09 secs\n",
            "Epoch 13 Batch 850 Loss 2.3527 Accuracy 0.5513 with time taken 7.11 secs\n",
            "Epoch 13 Batch 900 Loss 2.3519 Accuracy 0.5513 with time taken 7.23 secs\n",
            "Epoch 13 Batch 950 Loss 2.3530 Accuracy 0.5511 with time taken 7.11 secs\n",
            "Epoch 13 Batch 1000 Loss 2.3510 Accuracy 0.5515 with time taken 7.05 secs\n",
            "Epoch 13 Batch 1050 Loss 2.3495 Accuracy 0.5517 with time taken 7.11 secs\n",
            "Epoch 13 Batch 1100 Loss 2.3497 Accuracy 0.5516 with time taken 7.27 secs\n",
            "Epoch 13 Batch 1150 Loss 2.3506 Accuracy 0.5516 with time taken 7.13 secs\n",
            "Epoch 13 Batch 1200 Loss 2.3505 Accuracy 0.5517 with time taken 6.89 secs\n",
            "Epoch 13 Batch 1250 Loss 2.3508 Accuracy 0.5516 with time taken 7.23 secs\n",
            "Epoch 13 Batch 1300 Loss 2.3500 Accuracy 0.5517 with time taken 7.11 secs\n",
            "Epoch 13 Batch 1350 Loss 2.3493 Accuracy 0.5518 with time taken 7.24 secs\n",
            "Epoch 13 Batch 1400 Loss 2.3503 Accuracy 0.5517 with time taken 7.03 secs\n",
            "Epoch 13 Batch 1450 Loss 2.3500 Accuracy 0.5518 with time taken 7.27 secs\n",
            "Epoch 13 Batch 1500 Loss 2.3503 Accuracy 0.5517 with time taken 7.19 secs\n",
            "Epoch 13 Batch 1550 Loss 2.3497 Accuracy 0.5518 with time taken 7.15 secs\n",
            "Epoch 13 Batch 1600 Loss 2.3503 Accuracy 0.5518 with time taken 7.29 secs\n",
            "Epoch 13 Batch 1650 Loss 2.3505 Accuracy 0.5518 with time taken 7.14 secs\n",
            "Epoch 13 Batch 1700 Loss 2.3507 Accuracy 0.5517 with time taken 7.44 secs\n",
            "Epoch 13 Batch 1750 Loss 2.3509 Accuracy 0.5517 with time taken 7.33 secs\n",
            "Epoch 13 Batch 1800 Loss 2.3516 Accuracy 0.5516 with time taken 7.11 secs\n",
            "Epoch 13 Batch 1850 Loss 2.3514 Accuracy 0.5516 with time taken 7.23 secs\n",
            "Epoch 13 Batch 1900 Loss 2.3511 Accuracy 0.5517 with time taken 7.05 secs\n",
            "Epoch 13 Batch 1950 Loss 2.3507 Accuracy 0.5517 with time taken 7.23 secs\n",
            "Epoch 13 Batch 2000 Loss 2.3508 Accuracy 0.5518 with time taken 7.20 secs\n",
            "Epoch 13 Batch 2050 Loss 2.3509 Accuracy 0.5518 with time taken 6.91 secs\n",
            "Epoch 13 Batch 2100 Loss 2.3506 Accuracy 0.5518 with time taken 7.23 secs\n",
            "Epoch 13 Batch 2150 Loss 2.3503 Accuracy 0.5518 with time taken 7.24 secs\n",
            "Epoch 13 Batch 2200 Loss 2.3507 Accuracy 0.5518 with time taken 7.09 secs\n",
            "Epoch 13 Batch 2250 Loss 2.3510 Accuracy 0.5517 with time taken 7.35 secs\n",
            "Epoch 13 Batch 2300 Loss 2.3507 Accuracy 0.5517 with time taken 7.15 secs\n",
            "Epoch 13 Batch 2350 Loss 2.3507 Accuracy 0.5518 with time taken 7.42 secs\n",
            "Epoch 13 Batch 2400 Loss 2.3506 Accuracy 0.5518 with time taken 6.91 secs\n",
            "Epoch 13 Batch 2450 Loss 2.3508 Accuracy 0.5517 with time taken 7.32 secs\n",
            "Epoch 13 Batch 2500 Loss 2.3501 Accuracy 0.5518 with time taken 6.73 secs\n",
            "Epoch 13 Batch 2550 Loss 2.3495 Accuracy 0.5519 with time taken 6.91 secs\n",
            "Epoch 13 Batch 2600 Loss 2.3492 Accuracy 0.5519 with time taken 7.03 secs\n",
            "Epoch 13 Batch 2650 Loss 2.3489 Accuracy 0.5519 with time taken 6.91 secs\n",
            "Epoch 13 Batch 2700 Loss 2.3484 Accuracy 0.5519 with time taken 7.05 secs\n",
            "Epoch 13 Batch 2750 Loss 2.3490 Accuracy 0.5519 with time taken 7.16 secs\n",
            "Epoch 13 Batch 2800 Loss 2.3489 Accuracy 0.5519 with time taken 7.25 secs\n",
            "Epoch 13 Batch 2850 Loss 2.3485 Accuracy 0.5520 with time taken 7.25 secs\n",
            "Epoch 13 Batch 2900 Loss 2.3489 Accuracy 0.5520 with time taken 7.33 secs\n",
            "Epoch 13 Batch 2950 Loss 2.3483 Accuracy 0.5521 with time taken 7.12 secs\n",
            "Epoch 13 Batch 3000 Loss 2.3480 Accuracy 0.5521 with time taken 7.13 secs\n",
            "Epoch 13 Batch 3050 Loss 2.3481 Accuracy 0.5521 with time taken 7.01 secs\n",
            "Epoch 13 Batch 3100 Loss 2.3481 Accuracy 0.5521 with time taken 6.86 secs\n",
            "Epoch 13 Batch 3150 Loss 2.3481 Accuracy 0.5521 with time taken 7.13 secs\n",
            "Epoch 13 Batch 3200 Loss 2.3478 Accuracy 0.5521 with time taken 7.15 secs\n",
            "Epoch 13 Batch 3250 Loss 2.3476 Accuracy 0.5522 with time taken 7.30 secs\n",
            "Saving checkpoint for epoch 13 at drive/MyDrive/models/transformer_ru_en_v2/ckpt-13\n",
            "Epoch 13 Loss 2.3476 Accuracy 0.5522\n",
            "Time taken for 1 epoch: 465.67 secs\n",
            "\n",
            "Epoch 14 Batch 0 Loss 2.4982 Accuracy 0.5452 with time taken 0.63 secs\n",
            "Epoch 14 Batch 50 Loss 2.3234 Accuracy 0.5551 with time taken 6.89 secs\n",
            "Epoch 14 Batch 100 Loss 2.3145 Accuracy 0.5574 with time taken 7.03 secs\n",
            "Epoch 14 Batch 150 Loss 2.3274 Accuracy 0.5549 with time taken 7.20 secs\n",
            "Epoch 14 Batch 200 Loss 2.3215 Accuracy 0.5555 with time taken 7.07 secs\n",
            "Epoch 14 Batch 250 Loss 2.3277 Accuracy 0.5546 with time taken 7.48 secs\n",
            "Epoch 14 Batch 300 Loss 2.3232 Accuracy 0.5550 with time taken 7.19 secs\n",
            "Epoch 14 Batch 350 Loss 2.3213 Accuracy 0.5555 with time taken 7.08 secs\n",
            "Epoch 14 Batch 400 Loss 2.3234 Accuracy 0.5550 with time taken 7.20 secs\n",
            "Epoch 14 Batch 450 Loss 2.3233 Accuracy 0.5551 with time taken 7.15 secs\n",
            "Epoch 14 Batch 500 Loss 2.3280 Accuracy 0.5546 with time taken 7.31 secs\n",
            "Epoch 14 Batch 550 Loss 2.3275 Accuracy 0.5546 with time taken 6.97 secs\n",
            "Epoch 14 Batch 600 Loss 2.3291 Accuracy 0.5542 with time taken 6.97 secs\n",
            "Epoch 14 Batch 650 Loss 2.3268 Accuracy 0.5547 with time taken 7.29 secs\n",
            "Epoch 14 Batch 700 Loss 2.3266 Accuracy 0.5549 with time taken 7.01 secs\n",
            "Epoch 14 Batch 750 Loss 2.3267 Accuracy 0.5546 with time taken 7.32 secs\n",
            "Epoch 14 Batch 800 Loss 2.3260 Accuracy 0.5548 with time taken 7.20 secs\n",
            "Epoch 14 Batch 850 Loss 2.3277 Accuracy 0.5546 with time taken 7.32 secs\n",
            "Epoch 14 Batch 900 Loss 2.3280 Accuracy 0.5546 with time taken 7.05 secs\n",
            "Epoch 14 Batch 950 Loss 2.3271 Accuracy 0.5549 with time taken 7.00 secs\n",
            "Epoch 14 Batch 1000 Loss 2.3263 Accuracy 0.5549 with time taken 6.94 secs\n",
            "Epoch 14 Batch 1050 Loss 2.3251 Accuracy 0.5551 with time taken 7.08 secs\n",
            "Epoch 14 Batch 1100 Loss 2.3246 Accuracy 0.5551 with time taken 7.12 secs\n",
            "Epoch 14 Batch 1150 Loss 2.3239 Accuracy 0.5552 with time taken 7.18 secs\n",
            "Epoch 14 Batch 1200 Loss 2.3233 Accuracy 0.5553 with time taken 7.22 secs\n",
            "Epoch 14 Batch 1250 Loss 2.3233 Accuracy 0.5553 with time taken 7.13 secs\n",
            "Epoch 14 Batch 1300 Loss 2.3227 Accuracy 0.5553 with time taken 7.20 secs\n",
            "Epoch 14 Batch 1350 Loss 2.3230 Accuracy 0.5553 with time taken 7.00 secs\n",
            "Epoch 14 Batch 1400 Loss 2.3230 Accuracy 0.5553 with time taken 6.90 secs\n",
            "Epoch 14 Batch 1450 Loss 2.3237 Accuracy 0.5552 with time taken 7.31 secs\n",
            "Epoch 14 Batch 1500 Loss 2.3241 Accuracy 0.5551 with time taken 7.24 secs\n",
            "Epoch 14 Batch 1550 Loss 2.3250 Accuracy 0.5551 with time taken 6.92 secs\n",
            "Epoch 14 Batch 1600 Loss 2.3242 Accuracy 0.5551 with time taken 7.45 secs\n",
            "Epoch 14 Batch 1650 Loss 2.3237 Accuracy 0.5552 with time taken 7.24 secs\n",
            "Epoch 14 Batch 1700 Loss 2.3238 Accuracy 0.5552 with time taken 6.97 secs\n",
            "Epoch 14 Batch 1750 Loss 2.3246 Accuracy 0.5551 with time taken 7.25 secs\n",
            "Epoch 14 Batch 1800 Loss 2.3247 Accuracy 0.5550 with time taken 7.22 secs\n",
            "Epoch 14 Batch 1850 Loss 2.3239 Accuracy 0.5552 with time taken 7.17 secs\n",
            "Epoch 14 Batch 1900 Loss 2.3233 Accuracy 0.5553 with time taken 7.20 secs\n",
            "Epoch 14 Batch 1950 Loss 2.3233 Accuracy 0.5554 with time taken 7.17 secs\n",
            "Epoch 14 Batch 2000 Loss 2.3230 Accuracy 0.5554 with time taken 7.11 secs\n",
            "Epoch 14 Batch 2050 Loss 2.3227 Accuracy 0.5555 with time taken 7.31 secs\n",
            "Epoch 14 Batch 2100 Loss 2.3226 Accuracy 0.5555 with time taken 7.23 secs\n",
            "Epoch 14 Batch 2150 Loss 2.3233 Accuracy 0.5554 with time taken 7.27 secs\n",
            "Epoch 14 Batch 2200 Loss 2.3229 Accuracy 0.5554 with time taken 7.18 secs\n",
            "Epoch 14 Batch 2250 Loss 2.3231 Accuracy 0.5554 with time taken 7.42 secs\n",
            "Epoch 14 Batch 2300 Loss 2.3224 Accuracy 0.5555 with time taken 7.10 secs\n",
            "Epoch 14 Batch 2350 Loss 2.3224 Accuracy 0.5555 with time taken 7.25 secs\n",
            "Epoch 14 Batch 2400 Loss 2.3231 Accuracy 0.5554 with time taken 7.06 secs\n",
            "Epoch 14 Batch 2450 Loss 2.3237 Accuracy 0.5553 with time taken 7.16 secs\n",
            "Epoch 14 Batch 2500 Loss 2.3238 Accuracy 0.5553 with time taken 7.19 secs\n",
            "Epoch 14 Batch 2550 Loss 2.3233 Accuracy 0.5554 with time taken 7.06 secs\n",
            "Epoch 14 Batch 2600 Loss 2.3228 Accuracy 0.5554 with time taken 6.89 secs\n",
            "Epoch 14 Batch 2650 Loss 2.3222 Accuracy 0.5555 with time taken 7.41 secs\n",
            "Epoch 14 Batch 2700 Loss 2.3218 Accuracy 0.5555 with time taken 6.94 secs\n",
            "Epoch 14 Batch 2750 Loss 2.3215 Accuracy 0.5556 with time taken 7.18 secs\n",
            "Epoch 14 Batch 2800 Loss 2.3211 Accuracy 0.5557 with time taken 7.22 secs\n",
            "Epoch 14 Batch 2850 Loss 2.3209 Accuracy 0.5557 with time taken 7.09 secs\n",
            "Epoch 14 Batch 2900 Loss 2.3204 Accuracy 0.5558 with time taken 7.09 secs\n",
            "Epoch 14 Batch 2950 Loss 2.3204 Accuracy 0.5558 with time taken 7.03 secs\n",
            "Epoch 14 Batch 3000 Loss 2.3205 Accuracy 0.5558 with time taken 7.26 secs\n",
            "Epoch 14 Batch 3050 Loss 2.3206 Accuracy 0.5558 with time taken 7.16 secs\n",
            "Epoch 14 Batch 3100 Loss 2.3208 Accuracy 0.5558 with time taken 7.35 secs\n",
            "Epoch 14 Batch 3150 Loss 2.3205 Accuracy 0.5558 with time taken 7.16 secs\n",
            "Epoch 14 Batch 3200 Loss 2.3210 Accuracy 0.5558 with time taken 6.99 secs\n",
            "Epoch 14 Batch 3250 Loss 2.3210 Accuracy 0.5557 with time taken 7.11 secs\n",
            "Saving checkpoint for epoch 14 at drive/MyDrive/models/transformer_ru_en_v2/ckpt-14\n",
            "Epoch 14 Loss 2.3210 Accuracy 0.5557\n",
            "Time taken for 1 epoch: 465.97 secs\n",
            "\n",
            "Epoch 15 Batch 0 Loss 2.5547 Accuracy 0.5054 with time taken 0.62 secs\n",
            "Epoch 15 Batch 50 Loss 2.3053 Accuracy 0.5567 with time taken 7.16 secs\n",
            "Epoch 15 Batch 100 Loss 2.3019 Accuracy 0.5577 with time taken 7.32 secs\n",
            "Epoch 15 Batch 150 Loss 2.3067 Accuracy 0.5565 with time taken 7.05 secs\n",
            "Epoch 15 Batch 200 Loss 2.3034 Accuracy 0.5574 with time taken 6.88 secs\n",
            "Epoch 15 Batch 250 Loss 2.3010 Accuracy 0.5573 with time taken 7.39 secs\n",
            "Epoch 15 Batch 300 Loss 2.3007 Accuracy 0.5572 with time taken 7.11 secs\n",
            "Epoch 15 Batch 350 Loss 2.3026 Accuracy 0.5568 with time taken 6.85 secs\n",
            "Epoch 15 Batch 400 Loss 2.3042 Accuracy 0.5568 with time taken 7.37 secs\n",
            "Epoch 15 Batch 450 Loss 2.3000 Accuracy 0.5575 with time taken 7.48 secs\n",
            "Epoch 15 Batch 500 Loss 2.3024 Accuracy 0.5574 with time taken 7.16 secs\n",
            "Epoch 15 Batch 550 Loss 2.3039 Accuracy 0.5570 with time taken 7.38 secs\n",
            "Epoch 15 Batch 600 Loss 2.3024 Accuracy 0.5573 with time taken 6.99 secs\n",
            "Epoch 15 Batch 650 Loss 2.3023 Accuracy 0.5574 with time taken 6.99 secs\n",
            "Epoch 15 Batch 700 Loss 2.3023 Accuracy 0.5575 with time taken 7.12 secs\n",
            "Epoch 15 Batch 750 Loss 2.3035 Accuracy 0.5573 with time taken 7.50 secs\n",
            "Epoch 15 Batch 800 Loss 2.3046 Accuracy 0.5573 with time taken 7.18 secs\n",
            "Epoch 15 Batch 850 Loss 2.3031 Accuracy 0.5576 with time taken 7.06 secs\n",
            "Epoch 15 Batch 900 Loss 2.3018 Accuracy 0.5577 with time taken 7.08 secs\n",
            "Epoch 15 Batch 950 Loss 2.3028 Accuracy 0.5575 with time taken 7.16 secs\n",
            "Epoch 15 Batch 1000 Loss 2.3015 Accuracy 0.5577 with time taken 7.03 secs\n",
            "Epoch 15 Batch 1050 Loss 2.3008 Accuracy 0.5578 with time taken 7.31 secs\n",
            "Epoch 15 Batch 1100 Loss 2.2999 Accuracy 0.5580 with time taken 7.16 secs\n",
            "Epoch 15 Batch 1150 Loss 2.3004 Accuracy 0.5580 with time taken 7.04 secs\n",
            "Epoch 15 Batch 1200 Loss 2.2994 Accuracy 0.5583 with time taken 7.04 secs\n",
            "Epoch 15 Batch 1250 Loss 2.3003 Accuracy 0.5582 with time taken 7.05 secs\n",
            "Epoch 15 Batch 1300 Loss 2.2998 Accuracy 0.5583 with time taken 7.31 secs\n",
            "Epoch 15 Batch 1350 Loss 2.2991 Accuracy 0.5584 with time taken 6.95 secs\n",
            "Epoch 15 Batch 1400 Loss 2.2997 Accuracy 0.5582 with time taken 7.12 secs\n",
            "Epoch 15 Batch 1450 Loss 2.2987 Accuracy 0.5584 with time taken 7.07 secs\n",
            "Epoch 15 Batch 1500 Loss 2.2995 Accuracy 0.5583 with time taken 7.22 secs\n",
            "Epoch 15 Batch 1550 Loss 2.3000 Accuracy 0.5581 with time taken 7.22 secs\n",
            "Epoch 15 Batch 1600 Loss 2.2998 Accuracy 0.5582 with time taken 7.23 secs\n",
            "Epoch 15 Batch 1650 Loss 2.2999 Accuracy 0.5581 with time taken 7.29 secs\n",
            "Epoch 15 Batch 1700 Loss 2.3006 Accuracy 0.5580 with time taken 7.13 secs\n",
            "Epoch 15 Batch 1750 Loss 2.3008 Accuracy 0.5580 with time taken 6.97 secs\n",
            "Epoch 15 Batch 1800 Loss 2.3007 Accuracy 0.5580 with time taken 7.33 secs\n",
            "Epoch 15 Batch 1850 Loss 2.3002 Accuracy 0.5581 with time taken 6.93 secs\n",
            "Epoch 15 Batch 1900 Loss 2.2996 Accuracy 0.5583 with time taken 6.99 secs\n",
            "Epoch 15 Batch 1950 Loss 2.2988 Accuracy 0.5584 with time taken 6.92 secs\n",
            "Epoch 15 Batch 2000 Loss 2.2995 Accuracy 0.5583 with time taken 7.21 secs\n",
            "Epoch 15 Batch 2050 Loss 2.2993 Accuracy 0.5584 with time taken 6.85 secs\n",
            "Epoch 15 Batch 2100 Loss 2.2987 Accuracy 0.5584 with time taken 7.03 secs\n",
            "Epoch 15 Batch 2150 Loss 2.2995 Accuracy 0.5583 with time taken 7.33 secs\n",
            "Epoch 15 Batch 2200 Loss 2.2997 Accuracy 0.5582 with time taken 7.24 secs\n",
            "Epoch 15 Batch 2250 Loss 2.2989 Accuracy 0.5583 with time taken 6.92 secs\n",
            "Epoch 15 Batch 2300 Loss 2.2986 Accuracy 0.5584 with time taken 7.25 secs\n",
            "Epoch 15 Batch 2350 Loss 2.2985 Accuracy 0.5584 with time taken 7.21 secs\n",
            "Epoch 15 Batch 2400 Loss 2.2979 Accuracy 0.5585 with time taken 7.06 secs\n",
            "Epoch 15 Batch 2450 Loss 2.2979 Accuracy 0.5585 with time taken 7.24 secs\n",
            "Epoch 15 Batch 2500 Loss 2.2976 Accuracy 0.5585 with time taken 7.23 secs\n",
            "Epoch 15 Batch 2550 Loss 2.2973 Accuracy 0.5585 with time taken 7.04 secs\n",
            "Epoch 15 Batch 2600 Loss 2.2973 Accuracy 0.5586 with time taken 7.10 secs\n",
            "Epoch 15 Batch 2650 Loss 2.2968 Accuracy 0.5586 with time taken 7.26 secs\n",
            "Epoch 15 Batch 2700 Loss 2.2963 Accuracy 0.5587 with time taken 7.26 secs\n",
            "Epoch 15 Batch 2750 Loss 2.2962 Accuracy 0.5587 with time taken 7.32 secs\n",
            "Epoch 15 Batch 2800 Loss 2.2959 Accuracy 0.5587 with time taken 7.17 secs\n",
            "Epoch 15 Batch 2850 Loss 2.2965 Accuracy 0.5587 with time taken 7.05 secs\n",
            "Epoch 15 Batch 2900 Loss 2.2962 Accuracy 0.5587 with time taken 7.30 secs\n",
            "Epoch 15 Batch 2950 Loss 2.2970 Accuracy 0.5586 with time taken 7.42 secs\n",
            "Epoch 15 Batch 3000 Loss 2.2968 Accuracy 0.5587 with time taken 7.21 secs\n",
            "Epoch 15 Batch 3050 Loss 2.2967 Accuracy 0.5587 with time taken 7.09 secs\n",
            "Epoch 15 Batch 3100 Loss 2.2965 Accuracy 0.5588 with time taken 7.51 secs\n",
            "Epoch 15 Batch 3150 Loss 2.2967 Accuracy 0.5587 with time taken 6.87 secs\n",
            "Epoch 15 Batch 3200 Loss 2.2968 Accuracy 0.5587 with time taken 7.08 secs\n",
            "Epoch 15 Batch 3250 Loss 2.2967 Accuracy 0.5587 with time taken 7.06 secs\n",
            "Saving checkpoint for epoch 15 at drive/MyDrive/models/transformer_ru_en_v2/ckpt-15\n",
            "Epoch 15 Loss 2.2967 Accuracy 0.5587\n",
            "Time taken for 1 epoch: 465.99 secs\n",
            "\n",
            "Epoch 16 Batch 0 Loss 2.5244 Accuracy 0.5453 with time taken 0.58 secs\n",
            "Epoch 16 Batch 50 Loss 2.2802 Accuracy 0.5594 with time taken 7.01 secs\n",
            "Epoch 16 Batch 100 Loss 2.2755 Accuracy 0.5615 with time taken 7.20 secs\n",
            "Epoch 16 Batch 150 Loss 2.2800 Accuracy 0.5607 with time taken 7.24 secs\n",
            "Epoch 16 Batch 200 Loss 2.2745 Accuracy 0.5615 with time taken 6.88 secs\n",
            "Epoch 16 Batch 250 Loss 2.2781 Accuracy 0.5605 with time taken 7.02 secs\n",
            "Epoch 16 Batch 300 Loss 2.2792 Accuracy 0.5604 with time taken 7.43 secs\n",
            "Epoch 16 Batch 350 Loss 2.2817 Accuracy 0.5601 with time taken 7.17 secs\n",
            "Epoch 16 Batch 400 Loss 2.2825 Accuracy 0.5603 with time taken 7.18 secs\n",
            "Epoch 16 Batch 450 Loss 2.2811 Accuracy 0.5607 with time taken 7.10 secs\n",
            "Epoch 16 Batch 500 Loss 2.2813 Accuracy 0.5605 with time taken 7.05 secs\n",
            "Epoch 16 Batch 550 Loss 2.2819 Accuracy 0.5604 with time taken 7.10 secs\n",
            "Epoch 16 Batch 600 Loss 2.2819 Accuracy 0.5604 with time taken 7.23 secs\n",
            "Epoch 16 Batch 650 Loss 2.2809 Accuracy 0.5605 with time taken 7.25 secs\n",
            "Epoch 16 Batch 700 Loss 2.2817 Accuracy 0.5602 with time taken 7.06 secs\n",
            "Epoch 16 Batch 750 Loss 2.2819 Accuracy 0.5602 with time taken 7.22 secs\n",
            "Epoch 16 Batch 800 Loss 2.2811 Accuracy 0.5604 with time taken 7.23 secs\n",
            "Epoch 16 Batch 850 Loss 2.2813 Accuracy 0.5605 with time taken 7.31 secs\n",
            "Epoch 16 Batch 900 Loss 2.2814 Accuracy 0.5603 with time taken 7.40 secs\n",
            "Epoch 16 Batch 950 Loss 2.2801 Accuracy 0.5605 with time taken 6.93 secs\n",
            "Epoch 16 Batch 1000 Loss 2.2798 Accuracy 0.5605 with time taken 6.97 secs\n",
            "Epoch 16 Batch 1050 Loss 2.2792 Accuracy 0.5605 with time taken 7.24 secs\n",
            "Epoch 16 Batch 1100 Loss 2.2801 Accuracy 0.5605 with time taken 6.94 secs\n",
            "Epoch 16 Batch 1150 Loss 2.2797 Accuracy 0.5606 with time taken 6.99 secs\n",
            "Epoch 16 Batch 1200 Loss 2.2804 Accuracy 0.5606 with time taken 7.55 secs\n",
            "Epoch 16 Batch 1250 Loss 2.2811 Accuracy 0.5605 with time taken 7.19 secs\n",
            "Epoch 16 Batch 1300 Loss 2.2804 Accuracy 0.5607 with time taken 7.14 secs\n",
            "Epoch 16 Batch 1350 Loss 2.2815 Accuracy 0.5607 with time taken 7.00 secs\n",
            "Epoch 16 Batch 1400 Loss 2.2810 Accuracy 0.5608 with time taken 7.22 secs\n",
            "Epoch 16 Batch 1450 Loss 2.2803 Accuracy 0.5609 with time taken 7.16 secs\n",
            "Epoch 16 Batch 1500 Loss 2.2798 Accuracy 0.5610 with time taken 7.19 secs\n",
            "Epoch 16 Batch 1550 Loss 2.2804 Accuracy 0.5609 with time taken 7.06 secs\n",
            "Epoch 16 Batch 1600 Loss 2.2804 Accuracy 0.5609 with time taken 6.97 secs\n",
            "Epoch 16 Batch 1650 Loss 2.2801 Accuracy 0.5610 with time taken 7.22 secs\n",
            "Epoch 16 Batch 1700 Loss 2.2794 Accuracy 0.5611 with time taken 6.96 secs\n",
            "Epoch 16 Batch 1750 Loss 2.2794 Accuracy 0.5611 with time taken 7.34 secs\n",
            "Epoch 16 Batch 1800 Loss 2.2792 Accuracy 0.5611 with time taken 7.23 secs\n",
            "Epoch 16 Batch 1850 Loss 2.2792 Accuracy 0.5611 with time taken 7.15 secs\n",
            "Epoch 16 Batch 1900 Loss 2.2792 Accuracy 0.5611 with time taken 7.23 secs\n",
            "Epoch 16 Batch 1950 Loss 2.2785 Accuracy 0.5612 with time taken 7.34 secs\n",
            "Epoch 16 Batch 2000 Loss 2.2783 Accuracy 0.5613 with time taken 7.16 secs\n",
            "Epoch 16 Batch 2050 Loss 2.2777 Accuracy 0.5613 with time taken 7.10 secs\n",
            "Epoch 16 Batch 2100 Loss 2.2776 Accuracy 0.5614 with time taken 7.16 secs\n",
            "Epoch 16 Batch 2150 Loss 2.2775 Accuracy 0.5614 with time taken 7.10 secs\n",
            "Epoch 16 Batch 2200 Loss 2.2778 Accuracy 0.5613 with time taken 7.12 secs\n",
            "Epoch 16 Batch 2250 Loss 2.2782 Accuracy 0.5613 with time taken 7.25 secs\n",
            "Epoch 16 Batch 2300 Loss 2.2780 Accuracy 0.5613 with time taken 7.06 secs\n",
            "Epoch 16 Batch 2350 Loss 2.2778 Accuracy 0.5614 with time taken 7.13 secs\n",
            "Epoch 16 Batch 2400 Loss 2.2781 Accuracy 0.5613 with time taken 7.15 secs\n",
            "Epoch 16 Batch 2450 Loss 2.2774 Accuracy 0.5614 with time taken 7.01 secs\n",
            "Epoch 16 Batch 2500 Loss 2.2773 Accuracy 0.5614 with time taken 7.02 secs\n",
            "Epoch 16 Batch 2550 Loss 2.2775 Accuracy 0.5614 with time taken 6.87 secs\n",
            "Epoch 16 Batch 2600 Loss 2.2767 Accuracy 0.5616 with time taken 7.08 secs\n",
            "Epoch 16 Batch 2650 Loss 2.2766 Accuracy 0.5615 with time taken 7.18 secs\n",
            "Epoch 16 Batch 2700 Loss 2.2764 Accuracy 0.5616 with time taken 7.43 secs\n",
            "Epoch 16 Batch 2750 Loss 2.2760 Accuracy 0.5617 with time taken 7.03 secs\n",
            "Epoch 16 Batch 2800 Loss 2.2762 Accuracy 0.5616 with time taken 7.34 secs\n",
            "Epoch 16 Batch 2850 Loss 2.2766 Accuracy 0.5616 with time taken 7.08 secs\n",
            "Epoch 16 Batch 2900 Loss 2.2766 Accuracy 0.5616 with time taken 7.31 secs\n",
            "Epoch 16 Batch 2950 Loss 2.2768 Accuracy 0.5616 with time taken 6.98 secs\n",
            "Epoch 16 Batch 3000 Loss 2.2766 Accuracy 0.5616 with time taken 7.12 secs\n",
            "Epoch 16 Batch 3050 Loss 2.2769 Accuracy 0.5615 with time taken 7.36 secs\n",
            "Epoch 16 Batch 3100 Loss 2.2770 Accuracy 0.5615 with time taken 7.14 secs\n",
            "Epoch 16 Batch 3150 Loss 2.2766 Accuracy 0.5615 with time taken 7.25 secs\n",
            "Epoch 16 Batch 3200 Loss 2.2765 Accuracy 0.5616 with time taken 7.09 secs\n",
            "Epoch 16 Batch 3250 Loss 2.2763 Accuracy 0.5616 with time taken 7.47 secs\n",
            "Saving checkpoint for epoch 16 at drive/MyDrive/models/transformer_ru_en_v2/ckpt-16\n",
            "Epoch 16 Loss 2.2763 Accuracy 0.5616\n",
            "Time taken for 1 epoch: 466.18 secs\n",
            "\n",
            "Epoch 17 Batch 0 Loss 2.4047 Accuracy 0.5386 with time taken 0.60 secs\n",
            "Epoch 17 Batch 50 Loss 2.2619 Accuracy 0.5634 with time taken 7.06 secs\n",
            "Epoch 17 Batch 100 Loss 2.2725 Accuracy 0.5621 with time taken 7.32 secs\n",
            "Epoch 17 Batch 150 Loss 2.2664 Accuracy 0.5631 with time taken 6.98 secs\n",
            "Epoch 17 Batch 200 Loss 2.2673 Accuracy 0.5630 with time taken 7.01 secs\n",
            "Epoch 17 Batch 250 Loss 2.2666 Accuracy 0.5626 with time taken 7.52 secs\n",
            "Epoch 17 Batch 300 Loss 2.2665 Accuracy 0.5627 with time taken 7.09 secs\n",
            "Epoch 17 Batch 350 Loss 2.2652 Accuracy 0.5629 with time taken 7.15 secs\n",
            "Epoch 17 Batch 400 Loss 2.2621 Accuracy 0.5630 with time taken 7.10 secs\n",
            "Epoch 17 Batch 450 Loss 2.2614 Accuracy 0.5630 with time taken 7.00 secs\n",
            "Epoch 17 Batch 500 Loss 2.2611 Accuracy 0.5631 with time taken 7.28 secs\n",
            "Epoch 17 Batch 550 Loss 2.2618 Accuracy 0.5629 with time taken 7.30 secs\n",
            "Epoch 17 Batch 600 Loss 2.2600 Accuracy 0.5633 with time taken 7.09 secs\n",
            "Epoch 17 Batch 650 Loss 2.2610 Accuracy 0.5630 with time taken 7.21 secs\n",
            "Epoch 17 Batch 700 Loss 2.2592 Accuracy 0.5633 with time taken 6.94 secs\n",
            "Epoch 17 Batch 750 Loss 2.2577 Accuracy 0.5637 with time taken 7.41 secs\n",
            "Epoch 17 Batch 800 Loss 2.2576 Accuracy 0.5638 with time taken 7.16 secs\n",
            "Epoch 17 Batch 850 Loss 2.2581 Accuracy 0.5638 with time taken 7.23 secs\n",
            "Epoch 17 Batch 900 Loss 2.2587 Accuracy 0.5637 with time taken 7.13 secs\n",
            "Epoch 17 Batch 950 Loss 2.2581 Accuracy 0.5638 with time taken 7.07 secs\n",
            "Epoch 17 Batch 1000 Loss 2.2589 Accuracy 0.5637 with time taken 7.18 secs\n",
            "Epoch 17 Batch 1050 Loss 2.2587 Accuracy 0.5638 with time taken 7.14 secs\n",
            "Epoch 17 Batch 1100 Loss 2.2601 Accuracy 0.5635 with time taken 7.32 secs\n",
            "Epoch 17 Batch 1150 Loss 2.2591 Accuracy 0.5636 with time taken 6.99 secs\n",
            "Epoch 17 Batch 1200 Loss 2.2599 Accuracy 0.5636 with time taken 7.39 secs\n",
            "Epoch 17 Batch 1250 Loss 2.2590 Accuracy 0.5638 with time taken 6.95 secs\n",
            "Epoch 17 Batch 1300 Loss 2.2587 Accuracy 0.5639 with time taken 6.97 secs\n",
            "Epoch 17 Batch 1350 Loss 2.2591 Accuracy 0.5639 with time taken 6.87 secs\n",
            "Epoch 17 Batch 1400 Loss 2.2590 Accuracy 0.5639 with time taken 7.14 secs\n",
            "Epoch 17 Batch 1450 Loss 2.2580 Accuracy 0.5640 with time taken 7.17 secs\n",
            "Epoch 17 Batch 1500 Loss 2.2579 Accuracy 0.5640 with time taken 7.02 secs\n",
            "Epoch 17 Batch 1550 Loss 2.2576 Accuracy 0.5640 with time taken 7.15 secs\n",
            "Epoch 17 Batch 1600 Loss 2.2582 Accuracy 0.5639 with time taken 7.34 secs\n",
            "Epoch 17 Batch 1650 Loss 2.2584 Accuracy 0.5639 with time taken 7.20 secs\n",
            "Epoch 17 Batch 1700 Loss 2.2575 Accuracy 0.5641 with time taken 7.15 secs\n",
            "Epoch 17 Batch 1750 Loss 2.2576 Accuracy 0.5641 with time taken 7.17 secs\n",
            "Epoch 17 Batch 1800 Loss 2.2584 Accuracy 0.5640 with time taken 7.11 secs\n",
            "Epoch 17 Batch 1850 Loss 2.2580 Accuracy 0.5641 with time taken 7.06 secs\n",
            "Epoch 17 Batch 1900 Loss 2.2578 Accuracy 0.5641 with time taken 7.14 secs\n",
            "Epoch 17 Batch 1950 Loss 2.2579 Accuracy 0.5640 with time taken 7.15 secs\n",
            "Epoch 17 Batch 2000 Loss 2.2583 Accuracy 0.5640 with time taken 7.22 secs\n",
            "Epoch 17 Batch 2050 Loss 2.2587 Accuracy 0.5639 with time taken 7.04 secs\n",
            "Epoch 17 Batch 2100 Loss 2.2586 Accuracy 0.5639 with time taken 6.95 secs\n",
            "Epoch 17 Batch 2150 Loss 2.2578 Accuracy 0.5640 with time taken 6.88 secs\n",
            "Epoch 17 Batch 2200 Loss 2.2575 Accuracy 0.5640 with time taken 7.18 secs\n",
            "Epoch 17 Batch 2250 Loss 2.2573 Accuracy 0.5640 with time taken 6.97 secs\n",
            "Epoch 17 Batch 2300 Loss 2.2577 Accuracy 0.5639 with time taken 7.21 secs\n",
            "Epoch 17 Batch 2350 Loss 2.2581 Accuracy 0.5639 with time taken 7.23 secs\n",
            "Epoch 17 Batch 2400 Loss 2.2580 Accuracy 0.5639 with time taken 7.21 secs\n",
            "Epoch 17 Batch 2450 Loss 2.2578 Accuracy 0.5639 with time taken 7.35 secs\n",
            "Epoch 17 Batch 2500 Loss 2.2575 Accuracy 0.5640 with time taken 7.16 secs\n",
            "Epoch 17 Batch 2550 Loss 2.2575 Accuracy 0.5639 with time taken 6.98 secs\n",
            "Epoch 17 Batch 2600 Loss 2.2573 Accuracy 0.5640 with time taken 7.13 secs\n",
            "Epoch 17 Batch 2650 Loss 2.2570 Accuracy 0.5641 with time taken 7.20 secs\n",
            "Epoch 17 Batch 2700 Loss 2.2561 Accuracy 0.5642 with time taken 7.29 secs\n",
            "Epoch 17 Batch 2750 Loss 2.2561 Accuracy 0.5642 with time taken 7.33 secs\n",
            "Epoch 17 Batch 2800 Loss 2.2563 Accuracy 0.5641 with time taken 7.15 secs\n",
            "Epoch 17 Batch 2850 Loss 2.2560 Accuracy 0.5642 with time taken 7.01 secs\n",
            "Epoch 17 Batch 2900 Loss 2.2558 Accuracy 0.5642 with time taken 7.33 secs\n",
            "Epoch 17 Batch 2950 Loss 2.2556 Accuracy 0.5642 with time taken 7.27 secs\n",
            "Epoch 17 Batch 3000 Loss 2.2557 Accuracy 0.5642 with time taken 7.32 secs\n",
            "Epoch 17 Batch 3050 Loss 2.2556 Accuracy 0.5642 with time taken 7.20 secs\n",
            "Epoch 17 Batch 3100 Loss 2.2559 Accuracy 0.5642 with time taken 7.39 secs\n",
            "Epoch 17 Batch 3150 Loss 2.2559 Accuracy 0.5642 with time taken 7.22 secs\n",
            "Epoch 17 Batch 3200 Loss 2.2561 Accuracy 0.5642 with time taken 7.05 secs\n",
            "Epoch 17 Batch 3250 Loss 2.2560 Accuracy 0.5642 with time taken 7.00 secs\n",
            "Saving checkpoint for epoch 17 at drive/MyDrive/models/transformer_ru_en_v2/ckpt-17\n",
            "Epoch 17 Loss 2.2560 Accuracy 0.5642\n",
            "Time taken for 1 epoch: 466.05 secs\n",
            "\n",
            "Epoch 18 Batch 0 Loss 2.5049 Accuracy 0.5141 with time taken 0.60 secs\n",
            "Epoch 18 Batch 50 Loss 2.2529 Accuracy 0.5659 with time taken 7.23 secs\n",
            "Epoch 18 Batch 100 Loss 2.2365 Accuracy 0.5670 with time taken 6.95 secs\n",
            "Epoch 18 Batch 150 Loss 2.2436 Accuracy 0.5661 with time taken 7.05 secs\n",
            "Epoch 18 Batch 200 Loss 2.2417 Accuracy 0.5663 with time taken 7.11 secs\n",
            "Epoch 18 Batch 250 Loss 2.2405 Accuracy 0.5663 with time taken 7.28 secs\n",
            "Epoch 18 Batch 300 Loss 2.2435 Accuracy 0.5657 with time taken 7.25 secs\n",
            "Epoch 18 Batch 350 Loss 2.2404 Accuracy 0.5662 with time taken 7.14 secs\n",
            "Epoch 18 Batch 400 Loss 2.2390 Accuracy 0.5664 with time taken 7.26 secs\n",
            "Epoch 18 Batch 450 Loss 2.2392 Accuracy 0.5664 with time taken 7.07 secs\n",
            "Epoch 18 Batch 500 Loss 2.2435 Accuracy 0.5658 with time taken 7.02 secs\n",
            "Epoch 18 Batch 550 Loss 2.2426 Accuracy 0.5660 with time taken 7.29 secs\n",
            "Epoch 18 Batch 600 Loss 2.2442 Accuracy 0.5659 with time taken 7.23 secs\n",
            "Epoch 18 Batch 650 Loss 2.2448 Accuracy 0.5657 with time taken 7.15 secs\n",
            "Epoch 18 Batch 700 Loss 2.2429 Accuracy 0.5661 with time taken 6.98 secs\n",
            "Epoch 18 Batch 750 Loss 2.2432 Accuracy 0.5659 with time taken 7.22 secs\n",
            "Epoch 18 Batch 800 Loss 2.2408 Accuracy 0.5663 with time taken 6.93 secs\n",
            "Epoch 18 Batch 850 Loss 2.2408 Accuracy 0.5664 with time taken 7.18 secs\n",
            "Epoch 18 Batch 900 Loss 2.2406 Accuracy 0.5663 with time taken 6.96 secs\n",
            "Epoch 18 Batch 950 Loss 2.2413 Accuracy 0.5662 with time taken 7.08 secs\n",
            "Epoch 18 Batch 1000 Loss 2.2405 Accuracy 0.5662 with time taken 7.33 secs\n",
            "Epoch 18 Batch 1050 Loss 2.2390 Accuracy 0.5664 with time taken 7.26 secs\n",
            "Epoch 18 Batch 1100 Loss 2.2393 Accuracy 0.5663 with time taken 7.13 secs\n",
            "Epoch 18 Batch 1150 Loss 2.2388 Accuracy 0.5663 with time taken 7.00 secs\n",
            "Epoch 18 Batch 1200 Loss 2.2388 Accuracy 0.5664 with time taken 6.91 secs\n",
            "Epoch 18 Batch 1250 Loss 2.2394 Accuracy 0.5662 with time taken 7.05 secs\n",
            "Epoch 18 Batch 1300 Loss 2.2399 Accuracy 0.5662 with time taken 7.13 secs\n",
            "Epoch 18 Batch 1350 Loss 2.2407 Accuracy 0.5660 with time taken 7.23 secs\n",
            "Epoch 18 Batch 1400 Loss 2.2404 Accuracy 0.5661 with time taken 6.99 secs\n",
            "Epoch 18 Batch 1450 Loss 2.2393 Accuracy 0.5661 with time taken 7.15 secs\n",
            "Epoch 18 Batch 1500 Loss 2.2407 Accuracy 0.5660 with time taken 7.41 secs\n",
            "Epoch 18 Batch 1550 Loss 2.2400 Accuracy 0.5661 with time taken 7.30 secs\n",
            "Epoch 18 Batch 1600 Loss 2.2402 Accuracy 0.5662 with time taken 7.25 secs\n",
            "Epoch 18 Batch 1650 Loss 2.2403 Accuracy 0.5661 with time taken 7.24 secs\n",
            "Epoch 18 Batch 1700 Loss 2.2404 Accuracy 0.5661 with time taken 7.19 secs\n",
            "Epoch 18 Batch 1750 Loss 2.2406 Accuracy 0.5661 with time taken 7.23 secs\n",
            "Epoch 18 Batch 1800 Loss 2.2403 Accuracy 0.5661 with time taken 7.28 secs\n",
            "Epoch 18 Batch 1850 Loss 2.2402 Accuracy 0.5661 with time taken 7.16 secs\n",
            "Epoch 18 Batch 1900 Loss 2.2390 Accuracy 0.5663 with time taken 7.28 secs\n",
            "Epoch 18 Batch 1950 Loss 2.2388 Accuracy 0.5663 with time taken 7.29 secs\n",
            "Epoch 18 Batch 2000 Loss 2.2387 Accuracy 0.5663 with time taken 7.00 secs\n",
            "Epoch 18 Batch 2050 Loss 2.2386 Accuracy 0.5664 with time taken 7.09 secs\n",
            "Epoch 18 Batch 2100 Loss 2.2383 Accuracy 0.5665 with time taken 7.10 secs\n",
            "Epoch 18 Batch 2150 Loss 2.2389 Accuracy 0.5665 with time taken 7.14 secs\n",
            "Epoch 18 Batch 2200 Loss 2.2390 Accuracy 0.5665 with time taken 7.07 secs\n",
            "Epoch 18 Batch 2250 Loss 2.2391 Accuracy 0.5665 with time taken 7.13 secs\n",
            "Epoch 18 Batch 2300 Loss 2.2389 Accuracy 0.5665 with time taken 7.08 secs\n",
            "Epoch 18 Batch 2350 Loss 2.2386 Accuracy 0.5665 with time taken 7.33 secs\n",
            "Epoch 18 Batch 2400 Loss 2.2388 Accuracy 0.5664 with time taken 7.19 secs\n",
            "Epoch 18 Batch 2450 Loss 2.2389 Accuracy 0.5664 with time taken 6.94 secs\n",
            "Epoch 18 Batch 2500 Loss 2.2387 Accuracy 0.5664 with time taken 7.10 secs\n",
            "Epoch 18 Batch 2550 Loss 2.2387 Accuracy 0.5664 with time taken 7.35 secs\n",
            "Epoch 18 Batch 2600 Loss 2.2383 Accuracy 0.5665 with time taken 7.04 secs\n",
            "Epoch 18 Batch 2650 Loss 2.2381 Accuracy 0.5665 with time taken 6.96 secs\n",
            "Epoch 18 Batch 2700 Loss 2.2380 Accuracy 0.5664 with time taken 7.17 secs\n",
            "Epoch 18 Batch 2750 Loss 2.2380 Accuracy 0.5665 with time taken 7.30 secs\n",
            "Epoch 18 Batch 2800 Loss 2.2383 Accuracy 0.5665 with time taken 7.14 secs\n",
            "Epoch 18 Batch 2850 Loss 2.2386 Accuracy 0.5664 with time taken 7.27 secs\n",
            "Epoch 18 Batch 2900 Loss 2.2385 Accuracy 0.5664 with time taken 7.28 secs\n",
            "Epoch 18 Batch 2950 Loss 2.2389 Accuracy 0.5664 with time taken 7.18 secs\n",
            "Epoch 18 Batch 3000 Loss 2.2388 Accuracy 0.5664 with time taken 7.21 secs\n",
            "Epoch 18 Batch 3050 Loss 2.2386 Accuracy 0.5664 with time taken 7.28 secs\n",
            "Epoch 18 Batch 3100 Loss 2.2388 Accuracy 0.5664 with time taken 7.19 secs\n",
            "Epoch 18 Batch 3150 Loss 2.2383 Accuracy 0.5665 with time taken 7.05 secs\n",
            "Epoch 18 Batch 3200 Loss 2.2379 Accuracy 0.5666 with time taken 7.10 secs\n",
            "Epoch 18 Batch 3250 Loss 2.2381 Accuracy 0.5666 with time taken 7.07 secs\n",
            "Saving checkpoint for epoch 18 at drive/MyDrive/models/transformer_ru_en_v2/ckpt-18\n",
            "Epoch 18 Loss 2.2381 Accuracy 0.5666\n",
            "Time taken for 1 epoch: 466.04 secs\n",
            "\n",
            "Epoch 19 Batch 0 Loss 2.1417 Accuracy 0.5847 with time taken 0.57 secs\n",
            "Epoch 19 Batch 50 Loss 2.2149 Accuracy 0.5703 with time taken 7.27 secs\n",
            "Epoch 19 Batch 100 Loss 2.2173 Accuracy 0.5696 with time taken 7.44 secs\n",
            "Epoch 19 Batch 150 Loss 2.2171 Accuracy 0.5696 with time taken 7.06 secs\n",
            "Epoch 19 Batch 200 Loss 2.2198 Accuracy 0.5692 with time taken 7.10 secs\n",
            "Epoch 19 Batch 250 Loss 2.2254 Accuracy 0.5679 with time taken 7.04 secs\n",
            "Epoch 19 Batch 300 Loss 2.2252 Accuracy 0.5676 with time taken 6.99 secs\n",
            "Epoch 19 Batch 350 Loss 2.2237 Accuracy 0.5679 with time taken 7.03 secs\n",
            "Epoch 19 Batch 400 Loss 2.2277 Accuracy 0.5673 with time taken 7.14 secs\n",
            "Epoch 19 Batch 450 Loss 2.2246 Accuracy 0.5678 with time taken 7.11 secs\n",
            "Epoch 19 Batch 500 Loss 2.2216 Accuracy 0.5683 with time taken 7.07 secs\n",
            "Epoch 19 Batch 550 Loss 2.2238 Accuracy 0.5681 with time taken 7.34 secs\n",
            "Epoch 19 Batch 600 Loss 2.2250 Accuracy 0.5680 with time taken 7.41 secs\n",
            "Epoch 19 Batch 650 Loss 2.2216 Accuracy 0.5685 with time taken 7.04 secs\n",
            "Epoch 19 Batch 700 Loss 2.2223 Accuracy 0.5682 with time taken 7.23 secs\n",
            "Epoch 19 Batch 750 Loss 2.2201 Accuracy 0.5685 with time taken 7.30 secs\n",
            "Epoch 19 Batch 800 Loss 2.2197 Accuracy 0.5686 with time taken 7.02 secs\n",
            "Epoch 19 Batch 850 Loss 2.2206 Accuracy 0.5686 with time taken 7.25 secs\n",
            "Epoch 19 Batch 900 Loss 2.2219 Accuracy 0.5684 with time taken 7.08 secs\n",
            "Epoch 19 Batch 950 Loss 2.2215 Accuracy 0.5684 with time taken 7.00 secs\n",
            "Epoch 19 Batch 1000 Loss 2.2219 Accuracy 0.5684 with time taken 6.92 secs\n",
            "Epoch 19 Batch 1050 Loss 2.2224 Accuracy 0.5682 with time taken 7.69 secs\n",
            "Epoch 19 Batch 1100 Loss 2.2211 Accuracy 0.5685 with time taken 6.58 secs\n",
            "Epoch 19 Batch 1150 Loss 2.2213 Accuracy 0.5685 with time taken 7.13 secs\n",
            "Epoch 19 Batch 1200 Loss 2.2216 Accuracy 0.5685 with time taken 7.01 secs\n",
            "Epoch 19 Batch 1250 Loss 2.2225 Accuracy 0.5684 with time taken 7.15 secs\n",
            "Epoch 19 Batch 1300 Loss 2.2216 Accuracy 0.5685 with time taken 7.16 secs\n",
            "Epoch 19 Batch 1350 Loss 2.2218 Accuracy 0.5685 with time taken 7.13 secs\n",
            "Epoch 19 Batch 1400 Loss 2.2222 Accuracy 0.5685 with time taken 7.40 secs\n",
            "Epoch 19 Batch 1450 Loss 2.2216 Accuracy 0.5685 with time taken 6.93 secs\n",
            "Epoch 19 Batch 1500 Loss 2.2213 Accuracy 0.5685 with time taken 7.20 secs\n",
            "Epoch 19 Batch 1550 Loss 2.2220 Accuracy 0.5684 with time taken 7.00 secs\n",
            "Epoch 19 Batch 1600 Loss 2.2217 Accuracy 0.5684 with time taken 7.18 secs\n",
            "Epoch 19 Batch 1650 Loss 2.2217 Accuracy 0.5684 with time taken 7.06 secs\n",
            "Epoch 19 Batch 1700 Loss 2.2219 Accuracy 0.5684 with time taken 7.11 secs\n",
            "Epoch 19 Batch 1750 Loss 2.2217 Accuracy 0.5685 with time taken 7.10 secs\n",
            "Epoch 19 Batch 1800 Loss 2.2210 Accuracy 0.5686 with time taken 7.34 secs\n",
            "Epoch 19 Batch 1850 Loss 2.2212 Accuracy 0.5685 with time taken 7.13 secs\n",
            "Epoch 19 Batch 1900 Loss 2.2216 Accuracy 0.5685 with time taken 7.10 secs\n",
            "Epoch 19 Batch 1950 Loss 2.2222 Accuracy 0.5685 with time taken 7.36 secs\n",
            "Epoch 19 Batch 2000 Loss 2.2222 Accuracy 0.5685 with time taken 7.12 secs\n",
            "Epoch 19 Batch 2050 Loss 2.2226 Accuracy 0.5685 with time taken 7.39 secs\n",
            "Epoch 19 Batch 2100 Loss 2.2223 Accuracy 0.5686 with time taken 7.01 secs\n",
            "Epoch 19 Batch 2150 Loss 2.2219 Accuracy 0.5686 with time taken 7.20 secs\n",
            "Epoch 19 Batch 2200 Loss 2.2221 Accuracy 0.5686 with time taken 7.03 secs\n",
            "Epoch 19 Batch 2250 Loss 2.2218 Accuracy 0.5686 with time taken 7.23 secs\n",
            "Epoch 19 Batch 2300 Loss 2.2212 Accuracy 0.5687 with time taken 7.17 secs\n",
            "Epoch 19 Batch 2350 Loss 2.2213 Accuracy 0.5687 with time taken 7.13 secs\n",
            "Epoch 19 Batch 2400 Loss 2.2212 Accuracy 0.5687 with time taken 7.01 secs\n",
            "Epoch 19 Batch 2450 Loss 2.2209 Accuracy 0.5688 with time taken 7.00 secs\n",
            "Epoch 19 Batch 2500 Loss 2.2210 Accuracy 0.5688 with time taken 7.25 secs\n",
            "Epoch 19 Batch 2550 Loss 2.2212 Accuracy 0.5688 with time taken 7.15 secs\n",
            "Epoch 19 Batch 2600 Loss 2.2208 Accuracy 0.5688 with time taken 6.84 secs\n",
            "Epoch 19 Batch 2650 Loss 2.2211 Accuracy 0.5688 with time taken 7.41 secs\n",
            "Epoch 19 Batch 2700 Loss 2.2207 Accuracy 0.5689 with time taken 7.05 secs\n",
            "Epoch 19 Batch 2750 Loss 2.2204 Accuracy 0.5689 with time taken 7.03 secs\n",
            "Epoch 19 Batch 2800 Loss 2.2207 Accuracy 0.5689 with time taken 7.15 secs\n",
            "Epoch 19 Batch 2850 Loss 2.2205 Accuracy 0.5689 with time taken 6.72 secs\n",
            "Epoch 19 Batch 2900 Loss 2.2211 Accuracy 0.5688 with time taken 7.40 secs\n",
            "Epoch 19 Batch 2950 Loss 2.2208 Accuracy 0.5689 with time taken 7.28 secs\n",
            "Epoch 19 Batch 3000 Loss 2.2207 Accuracy 0.5689 with time taken 7.09 secs\n",
            "Epoch 19 Batch 3050 Loss 2.2203 Accuracy 0.5689 with time taken 7.16 secs\n",
            "Epoch 19 Batch 3100 Loss 2.2203 Accuracy 0.5689 with time taken 7.31 secs\n",
            "Epoch 19 Batch 3150 Loss 2.2204 Accuracy 0.5689 with time taken 7.28 secs\n",
            "Epoch 19 Batch 3200 Loss 2.2205 Accuracy 0.5689 with time taken 7.27 secs\n",
            "Epoch 19 Batch 3250 Loss 2.2207 Accuracy 0.5689 with time taken 7.26 secs\n",
            "Saving checkpoint for epoch 19 at drive/MyDrive/models/transformer_ru_en_v2/ckpt-19\n",
            "Epoch 19 Loss 2.2207 Accuracy 0.5689\n",
            "Time taken for 1 epoch: 465.60 secs\n",
            "\n",
            "Epoch 20 Batch 0 Loss 2.2318 Accuracy 0.5586 with time taken 0.67 secs\n",
            "Epoch 20 Batch 50 Loss 2.2110 Accuracy 0.5681 with time taken 7.15 secs\n",
            "Epoch 20 Batch 100 Loss 2.2031 Accuracy 0.5702 with time taken 6.99 secs\n",
            "Epoch 20 Batch 150 Loss 2.2135 Accuracy 0.5685 with time taken 7.24 secs\n",
            "Epoch 20 Batch 200 Loss 2.2124 Accuracy 0.5691 with time taken 6.94 secs\n",
            "Epoch 20 Batch 250 Loss 2.2027 Accuracy 0.5701 with time taken 7.64 secs\n",
            "Epoch 20 Batch 300 Loss 2.2005 Accuracy 0.5708 with time taken 7.22 secs\n",
            "Epoch 20 Batch 350 Loss 2.2028 Accuracy 0.5705 with time taken 7.42 secs\n",
            "Epoch 20 Batch 400 Loss 2.2034 Accuracy 0.5706 with time taken 7.18 secs\n",
            "Epoch 20 Batch 450 Loss 2.2070 Accuracy 0.5704 with time taken 7.06 secs\n",
            "Epoch 20 Batch 500 Loss 2.2054 Accuracy 0.5706 with time taken 7.20 secs\n",
            "Epoch 20 Batch 550 Loss 2.2045 Accuracy 0.5708 with time taken 7.24 secs\n",
            "Epoch 20 Batch 600 Loss 2.2044 Accuracy 0.5709 with time taken 7.17 secs\n",
            "Epoch 20 Batch 650 Loss 2.2032 Accuracy 0.5710 with time taken 7.23 secs\n",
            "Epoch 20 Batch 700 Loss 2.2037 Accuracy 0.5711 with time taken 7.16 secs\n",
            "Epoch 20 Batch 750 Loss 2.2020 Accuracy 0.5714 with time taken 6.88 secs\n",
            "Epoch 20 Batch 800 Loss 2.2044 Accuracy 0.5710 with time taken 7.20 secs\n",
            "Epoch 20 Batch 850 Loss 2.2044 Accuracy 0.5711 with time taken 6.96 secs\n",
            "Epoch 20 Batch 900 Loss 2.2049 Accuracy 0.5709 with time taken 7.00 secs\n",
            "Epoch 20 Batch 950 Loss 2.2047 Accuracy 0.5708 with time taken 7.10 secs\n",
            "Epoch 20 Batch 1000 Loss 2.2058 Accuracy 0.5706 with time taken 7.01 secs\n",
            "Epoch 20 Batch 1050 Loss 2.2046 Accuracy 0.5707 with time taken 6.98 secs\n",
            "Epoch 20 Batch 1100 Loss 2.2051 Accuracy 0.5708 with time taken 7.03 secs\n",
            "Epoch 20 Batch 1150 Loss 2.2044 Accuracy 0.5709 with time taken 6.93 secs\n",
            "Epoch 20 Batch 1200 Loss 2.2048 Accuracy 0.5709 with time taken 6.99 secs\n",
            "Epoch 20 Batch 1250 Loss 2.2055 Accuracy 0.5709 with time taken 6.95 secs\n",
            "Epoch 20 Batch 1300 Loss 2.2047 Accuracy 0.5712 with time taken 7.16 secs\n",
            "Epoch 20 Batch 1350 Loss 2.2049 Accuracy 0.5712 with time taken 6.96 secs\n",
            "Epoch 20 Batch 1400 Loss 2.2052 Accuracy 0.5712 with time taken 6.83 secs\n",
            "Epoch 20 Batch 1450 Loss 2.2063 Accuracy 0.5710 with time taken 7.60 secs\n",
            "Epoch 20 Batch 1500 Loss 2.2064 Accuracy 0.5710 with time taken 7.00 secs\n",
            "Epoch 20 Batch 1550 Loss 2.2063 Accuracy 0.5710 with time taken 7.13 secs\n",
            "Epoch 20 Batch 1600 Loss 2.2054 Accuracy 0.5711 with time taken 7.11 secs\n",
            "Epoch 20 Batch 1650 Loss 2.2053 Accuracy 0.5711 with time taken 7.30 secs\n",
            "Epoch 20 Batch 1700 Loss 2.2053 Accuracy 0.5711 with time taken 7.29 secs\n",
            "Epoch 20 Batch 1750 Loss 2.2060 Accuracy 0.5710 with time taken 7.31 secs\n",
            "Epoch 20 Batch 1800 Loss 2.2058 Accuracy 0.5710 with time taken 7.24 secs\n",
            "Epoch 20 Batch 1850 Loss 2.2055 Accuracy 0.5710 with time taken 7.36 secs\n",
            "Epoch 20 Batch 1900 Loss 2.2053 Accuracy 0.5711 with time taken 7.04 secs\n",
            "Epoch 20 Batch 1950 Loss 2.2048 Accuracy 0.5711 with time taken 7.21 secs\n",
            "Epoch 20 Batch 2000 Loss 2.2045 Accuracy 0.5712 with time taken 7.06 secs\n",
            "Epoch 20 Batch 2050 Loss 2.2053 Accuracy 0.5711 with time taken 7.34 secs\n",
            "Epoch 20 Batch 2100 Loss 2.2050 Accuracy 0.5711 with time taken 7.35 secs\n",
            "Epoch 20 Batch 2150 Loss 2.2053 Accuracy 0.5710 with time taken 7.22 secs\n",
            "Epoch 20 Batch 2200 Loss 2.2052 Accuracy 0.5711 with time taken 7.02 secs\n",
            "Epoch 20 Batch 2250 Loss 2.2043 Accuracy 0.5712 with time taken 7.19 secs\n",
            "Epoch 20 Batch 2300 Loss 2.2042 Accuracy 0.5711 with time taken 7.07 secs\n",
            "Epoch 20 Batch 2350 Loss 2.2045 Accuracy 0.5711 with time taken 7.32 secs\n",
            "Epoch 20 Batch 2400 Loss 2.2042 Accuracy 0.5712 with time taken 7.04 secs\n",
            "Epoch 20 Batch 2450 Loss 2.2042 Accuracy 0.5712 with time taken 7.42 secs\n",
            "Epoch 20 Batch 2500 Loss 2.2044 Accuracy 0.5712 with time taken 7.11 secs\n",
            "Epoch 20 Batch 2550 Loss 2.2042 Accuracy 0.5712 with time taken 7.07 secs\n",
            "Epoch 20 Batch 2600 Loss 2.2043 Accuracy 0.5711 with time taken 7.35 secs\n",
            "Epoch 20 Batch 2650 Loss 2.2039 Accuracy 0.5712 with time taken 7.10 secs\n",
            "Epoch 20 Batch 2700 Loss 2.2042 Accuracy 0.5711 with time taken 7.02 secs\n",
            "Epoch 20 Batch 2750 Loss 2.2040 Accuracy 0.5711 with time taken 7.15 secs\n",
            "Epoch 20 Batch 2800 Loss 2.2042 Accuracy 0.5711 with time taken 7.36 secs\n",
            "Epoch 20 Batch 2850 Loss 2.2043 Accuracy 0.5711 with time taken 7.34 secs\n",
            "Epoch 20 Batch 2900 Loss 2.2045 Accuracy 0.5711 with time taken 7.03 secs\n",
            "Epoch 20 Batch 2950 Loss 2.2042 Accuracy 0.5711 with time taken 7.24 secs\n",
            "Epoch 20 Batch 3000 Loss 2.2043 Accuracy 0.5711 with time taken 6.95 secs\n",
            "Epoch 20 Batch 3050 Loss 2.2048 Accuracy 0.5710 with time taken 7.07 secs\n",
            "Epoch 20 Batch 3100 Loss 2.2048 Accuracy 0.5710 with time taken 7.60 secs\n",
            "Epoch 20 Batch 3150 Loss 2.2051 Accuracy 0.5710 with time taken 6.95 secs\n",
            "Epoch 20 Batch 3200 Loss 2.2048 Accuracy 0.5710 with time taken 7.11 secs\n",
            "Epoch 20 Batch 3250 Loss 2.2047 Accuracy 0.5710 with time taken 7.17 secs\n",
            "Saving checkpoint for epoch 20 at drive/MyDrive/models/transformer_ru_en_v2/ckpt-20\n",
            "Epoch 20 Loss 2.2047 Accuracy 0.5710\n",
            "Time taken for 1 epoch: 466.20 secs\n",
            "\n"
          ],
          "name": "stdout"
        }
      ]
    },
    {
      "cell_type": "markdown",
      "metadata": {
        "id": "QfcsSWswSdGV"
      },
      "source": [
        "## Evaluate"
      ]
    },
    {
      "cell_type": "markdown",
      "metadata": {
        "id": "y6APsFrgImLW"
      },
      "source": [
        "The following steps are used for evaluation:\n",
        "\n",
        "* Encode the input sentence using the Russian tokenizer (`tokenizers.ru`). This is the encoder input.\n",
        "* The decoder input is initialized to the `[START]` token.\n",
        "* Calculate the padding masks and the look ahead masks.\n",
        "* The `decoder` then outputs the predictions by looking at the `encoder output` and its own output (self-attention).\n",
        "* The model makes predictions of the next word for each word in the output. Most of these are redundant. Use the predictrions from the last word.\n",
        "* Concatentate the predicted word to the decoder input and pass it to the decoder.\n",
        "* In this approach, the decoder predicts the next word based on the previous words it predicted.\n",
        "\n",
        "Note: The model used here has less capacity to keep the example relatively faster so the predictions maybe less right. To reproduce the results in the paper, use the entire dataset and base transformer model or transformer XL, by changing the hyperparameters above."
      ]
    },
    {
      "cell_type": "code",
      "metadata": {
        "id": "5buvMlnvyrFm"
      },
      "source": [
        "def evaluate(sentence, max_length=80):\n",
        "  # inp sentence is Russian, hence adding the start and end token\n",
        "  sentence = tf.convert_to_tensor([sentence])\n",
        "  sentence = tokenizers.ru.tokenize(sentence).to_tensor()\n",
        "\n",
        "  encoder_input = sentence\n",
        "  \n",
        "  # as the target is english, the first word to the transformer should be the\n",
        "  # english start token.\n",
        "  start, end = tokenizers.en.tokenize([''])[0]\n",
        "  output = tf.convert_to_tensor([start])\n",
        "  output = tf.expand_dims(output, 0)\n",
        "    \n",
        "  for i in range(max_length):\n",
        "    enc_padding_mask, combined_mask, dec_padding_mask = create_masks(\n",
        "        encoder_input, output)\n",
        "  \n",
        "    # predictions.shape == (batch_size, seq_len, vocab_size)\n",
        "    predictions, attention_weights = transformer(encoder_input, \n",
        "                                                 output,\n",
        "                                                 False,\n",
        "                                                 enc_padding_mask,\n",
        "                                                 combined_mask,\n",
        "                                                 dec_padding_mask)\n",
        "    \n",
        "    # select the last word from the seq_len dimension\n",
        "    predictions = predictions[: ,-1:, :]  # (batch_size, 1, vocab_size)\n",
        "\n",
        "    predicted_id = tf.argmax(predictions, axis=-1)\n",
        "\n",
        "    # concatentate the predicted_id to the output which is given to the decoder\n",
        "    # as its input.\n",
        "    output = tf.concat([output, predicted_id], axis=-1)\n",
        "    \n",
        "    # return the result if the predicted_id is equal to the end token\n",
        "    if predicted_id == end:\n",
        "      break\n",
        "\n",
        "  # output.shape (1, tokens)\n",
        "  text = tokenizers.en.detokenize(output)[0] # shape: ()\n",
        "  \n",
        "  tokens = tokenizers.en.lookup(output)[0]\n",
        "  \n",
        "  return text, tokens, attention_weights"
      ],
      "execution_count": 72,
      "outputs": []
    },
    {
      "cell_type": "code",
      "metadata": {
        "id": "lU2_yG_vBGza"
      },
      "source": [
        "# Some quick cleanup code, not production thoroughness\n",
        "def cleanup_punctuation(txt):\n",
        "  txt = txt.replace('  ', ' ')\n",
        "  txt = txt.replace('`', '')\n",
        "  txt = txt.replace(\"' \", \"'\")\n",
        "  txt = txt.replace(\"''\", \"'\")\n",
        "  # txt = txt.replace(\" '\", \"'\")\n",
        "  txt = txt.replace(',', '')\n",
        "  txt = txt.replace(',', '')\n",
        "  txt = txt.replace(';', '')\n",
        "  txt = txt.replace('\\. ', '.')\n",
        "  txt = txt.replace('  ', ' ')\n",
        "  txt = txt.lstrip()\n",
        "  txt = txt.rstrip()\n",
        "  return txt\n",
        "\n",
        "def print_translation(sentence, translated_text, reference):\n",
        "\n",
        "  print(f'decoded translated_text={translated_text.numpy().decode(\"utf-8\")}')\n",
        "  translated_text = cleanup_punctuation(translated_text.numpy().decode(\"utf-8\")) \n",
        "\n",
        "  print(f'{\"Input:\":15s}: {sentence}')\n",
        "  print(f'{\"Reference\":15s}: {reference}')\n",
        "  print(f'{\"Prediction\":15s}: {translated_text}')\n",
        "\n",
        "  translated_text_split = translated_text.split(' ')\n",
        "  reference_split = reference.split(' ')\n",
        "\n",
        "  rouge = Rouge()\n",
        "  rouge_scores = rouge.get_scores(translated_text, reference)\n",
        "  print(f\"Rouge-l (f): {100*rouge_scores[0]['rouge-l']['f']:.2f}\")\n",
        "\n",
        "  smoothie = SmoothingFunction().method4\n",
        "\n",
        "  score = sentence_bleu([reference_split], translated_text_split, weights=(1.0,0,0,0), smoothing_function=smoothie)\n",
        "  print(f\"BLEU-1 score: {score*100:.2f}\")\n",
        "  score = sentence_bleu([reference_split], translated_text_split, weights=(0.5,0.5,0,0), smoothing_function=smoothie)\n",
        "  print(f\"BLEU-2 score: {score*100:.2f}\")\n",
        "  score = sentence_bleu([reference_split], translated_text_split, weights=(0.3,0.3,0.3,0), smoothing_function=smoothie)\n",
        "  print(f\"BLEU-3 score: {score*100:.2f}\")\n",
        "  score = sentence_bleu([reference_split], translated_text_split, weights=(0.25,0.25,0.25,0.25), smoothing_function=smoothie)\n",
        "  print(f\"BLEU-4 score: {score*100:.2f}\")\n"
      ],
      "execution_count": 73,
      "outputs": []
    },
    {
      "cell_type": "code",
      "metadata": {
        "id": "YsxrAlvFG8SZ",
        "colab": {
          "base_uri": "https://localhost:8080/"
        },
        "outputId": "c0120195-c504-48e0-f877-b8b4d87301c1"
      },
      "source": [
        "input_sentence = \"У нас есть проблема, которую мы должны решить.\"\n",
        "reference = \"we have a problem that we have to solve .\"\n",
        "\n",
        "translated_text, translated_tokens, attention_weights = evaluate(input_sentence)\n",
        "print_translation(input_sentence, translated_text, reference)"
      ],
      "execution_count": 74,
      "outputs": [
        {
          "output_type": "stream",
          "text": [
            "decoded translated_text=we have a problem that we have to solve .\n",
            "Input:         : У нас есть проблема, которую мы должны решить.\n",
            "Reference      : we have a problem that we have to solve .\n",
            "Prediction     : we have a problem that we have to solve .\n",
            "Rouge-l (f): 100.00\n",
            "BLEU-1 score: 100.00\n",
            "BLEU-2 score: 100.00\n",
            "BLEU-3 score: 100.00\n",
            "BLEU-4 score: 100.00\n"
          ],
          "name": "stdout"
        }
      ]
    },
    {
      "cell_type": "code",
      "metadata": {
        "id": "M0gYQruNcD59",
        "colab": {
          "base_uri": "https://localhost:8080/"
        },
        "outputId": "c6b286ec-e225-45e6-a406-0d913114907f"
      },
      "source": [
        "input_sentence = \"Какой ваш любимый фильм?\"\n",
        "reference = \"what is your favorite movie ?\"\n",
        "\n",
        "translated_text, translated_tokens, attention_weights = evaluate(input_sentence)\n",
        "print_translation(input_sentence, translated_text, reference)"
      ],
      "execution_count": 75,
      "outputs": [
        {
          "output_type": "stream",
          "text": [
            "decoded translated_text=what your favorite film is ?\n",
            "Input:         : Какой ваш любимый фильм?\n",
            "Reference      : what is your favorite movie ?\n",
            "Prediction     : what your favorite film is ?\n",
            "Rouge-l (f): 66.67\n",
            "BLEU-1 score: 83.33\n",
            "BLEU-2 score: 40.82\n",
            "BLEU-3 score: 36.51\n",
            "BLEU-4 score: 27.84\n"
          ],
          "name": "stdout"
        }
      ]
    },
    {
      "cell_type": "code",
      "metadata": {
        "id": "Bk0I1eEEOIaI",
        "colab": {
          "base_uri": "https://localhost:8080/"
        },
        "outputId": "75701e07-e59a-4b1e-f93b-433a8e14d7ef"
      },
      "source": [
        "input_sentence = \"Вы видели мой кошелек, который я потерял, когда был на работе?\"\n",
        "ground_truth = \"have you seen my wallet that i lost when i was at work ?\"\n",
        "\n",
        "translated_text, translated_tokens, attention_weights = evaluate(input_sentence)\n",
        "print_translation(input_sentence, translated_text, ground_truth)"
      ],
      "execution_count": 76,
      "outputs": [
        {
          "output_type": "stream",
          "text": [
            "decoded translated_text=did you see my wallet that i lost when i was at work ?\n",
            "Input:         : Вы видели мой кошелек, который я потерял, когда был на работе?\n",
            "Reference      : have you seen my wallet that i lost when i was at work ?\n",
            "Prediction     : did you see my wallet that i lost when i was at work ?\n",
            "Rouge-l (f): 84.62\n",
            "BLEU-1 score: 85.71\n",
            "BLEU-2 score: 81.20\n",
            "BLEU-3 score: 80.96\n",
            "BLEU-4 score: 77.44\n"
          ],
          "name": "stdout"
        }
      ]
    },
    {
      "cell_type": "code",
      "metadata": {
        "id": "7EH5y_aqI4t1",
        "colab": {
          "base_uri": "https://localhost:8080/"
        },
        "outputId": "b7a5f422-ceea-444e-efb9-0ef133c9ab04"
      },
      "source": [
        "input_sentence = \"и мои соседние дома слышали об этой идее.\"\n",
        "reference = \"and my neighboring homes heard about this idea .\"\n",
        "\n",
        "translated_text, translated_tokens, attention_weights = evaluate(input_sentence)\n",
        "print_translation(input_sentence, translated_text, reference)"
      ],
      "execution_count": 77,
      "outputs": [
        {
          "output_type": "stream",
          "text": [
            "decoded translated_text=and my neighbors were hearing about this idea .\n",
            "Input:         : и мои соседние дома слышали об этой идее.\n",
            "Reference      : and my neighboring homes heard about this idea .\n",
            "Prediction     : and my neighbors were hearing about this idea .\n",
            "Rouge-l (f): 62.50\n",
            "BLEU-1 score: 66.67\n",
            "BLEU-2 score: 57.74\n",
            "BLEU-3 score: 49.39\n",
            "BLEU-4 score: 35.49\n"
          ],
          "name": "stdout"
        }
      ]
    },
    {
      "cell_type": "code",
      "metadata": {
        "id": "1mrUG9HgJOI8",
        "colab": {
          "base_uri": "https://localhost:8080/"
        },
        "outputId": "b36cd9a2-c354-4ac8-961f-24c09dfcad80"
      },
      "source": [
        "input_sentence = \"Я пошел в магазин за продуктами.\"\n",
        "reference = \"i went to the store to buy some groceries .\"\n",
        "\n",
        "translated_text, translated_tokens, attention_weights = evaluate(input_sentence)\n",
        "print_translation(input_sentence, translated_text, reference)"
      ],
      "execution_count": 78,
      "outputs": [
        {
          "output_type": "stream",
          "text": [
            "decoded translated_text=i went to the grocery store .\n",
            "Input:         : Я пошел в магазин за продуктами.\n",
            "Reference      : i went to the store to buy some groceries .\n",
            "Prediction     : i went to the grocery store .\n",
            "Rouge-l (f): 71.43\n",
            "BLEU-1 score: 55.84\n",
            "BLEU-2 score: 42.65\n",
            "BLEU-3 score: 38.38\n",
            "BLEU-4 score: 29.64\n"
          ],
          "name": "stdout"
        }
      ]
    },
    {
      "cell_type": "markdown",
      "metadata": {
        "id": "_1MxkSZvz0jX"
      },
      "source": [
        "You can pass different layers and attention blocks of the decoder to the `plot` parameter."
      ]
    },
    {
      "cell_type": "markdown",
      "metadata": {
        "id": "S3EQiFUC--Ds"
      },
      "source": [
        "## Attention plots"
      ]
    },
    {
      "cell_type": "markdown",
      "metadata": {
        "id": "hHV2pdXHGz-0"
      },
      "source": [
        "The `evaluate` function also returns a dictionary of attention maps you can use to visualize the internal working of the model:"
      ]
    },
    {
      "cell_type": "code",
      "metadata": {
        "id": "t-kFyiOLH0xg",
        "colab": {
          "base_uri": "https://localhost:8080/"
        },
        "outputId": "4fe7fdcd-743e-47ad-da2c-6ba386963b51"
      },
      "source": [
        "sentence = \"это первая книга, которую я написал.\"\n",
        "ground_truth = \"this is the first book i ' ve ever done .\"\n",
        "\n",
        "translated_text, translated_tokens, attention_weights = evaluate(sentence)\n",
        "print_translation(sentence, translated_text, ground_truth)"
      ],
      "execution_count": 79,
      "outputs": [
        {
          "output_type": "stream",
          "text": [
            "decoded translated_text=this is the first book i wrote .\n",
            "Input:         : это первая книга, которую я написал.\n",
            "Reference      : this is the first book i ' ve ever done .\n",
            "Prediction     : this is the first book i wrote .\n",
            "Rouge-l (f): 70.59\n",
            "BLEU-1 score: 60.14\n",
            "BLEU-2 score: 54.33\n",
            "BLEU-3 score: 52.85\n",
            "BLEU-4 score: 48.60\n"
          ],
          "name": "stdout"
        }
      ]
    },
    {
      "cell_type": "code",
      "metadata": {
        "id": "CcI4DxAK5EHY"
      },
      "source": [
        "def plot_attention_head(in_tokens, translated_tokens, attention):\n",
        "  # The plot is of the attention when a token was generated.\n",
        "  # The model didn't generate `<START>` in the output. Skip it. \n",
        "  translated_tokens = translated_tokens[1:]\n",
        "\n",
        "  ax = plt.gca()\n",
        "  ax.matshow(attention)\n",
        "  ax.set_xticks(range(len(in_tokens)))\n",
        "  ax.set_yticks(range(len(translated_tokens)))\n",
        "\n",
        "  \n",
        "  labels = [label.decode('utf-8') for label in in_tokens.numpy()]\n",
        "  ax.set_xticklabels(\n",
        "      labels, rotation=90)\n",
        "  \n",
        "  labels = [label.decode('utf-8') for label in translated_tokens.numpy()]\n",
        "  ax.set_yticklabels(labels)"
      ],
      "execution_count": 80,
      "outputs": []
    },
    {
      "cell_type": "code",
      "metadata": {
        "id": "_KY4c2cryuxY",
        "colab": {
          "base_uri": "https://localhost:8080/"
        },
        "outputId": "1cfd8815-0196-4ea2-e81d-a270abf1b42f"
      },
      "source": [
        "head = 0\n",
        "# shape: (batch=1, num_heads, seq_len_q, seq_len_k)\n",
        "attention_heads = tf.squeeze(\n",
        "  attention_weights['decoder_layer4_block2'], 0)\n",
        "attention = attention_heads[head]\n",
        "attention.shape  "
      ],
      "execution_count": 81,
      "outputs": [
        {
          "output_type": "execute_result",
          "data": {
            "text/plain": [
              "TensorShape([9, 10])"
            ]
          },
          "metadata": {
            "tags": []
          },
          "execution_count": 81
        }
      ]
    },
    {
      "cell_type": "code",
      "metadata": {
        "id": "XdxmakWE6Om3",
        "colab": {
          "base_uri": "https://localhost:8080/"
        },
        "outputId": "eecdd1a7-10bf-467f-b1f5-c88c652ec151"
      },
      "source": [
        "in_tokens = tf.convert_to_tensor([sentence])\n",
        "in_tokens = tokenizers.ru.tokenize(in_tokens).to_tensor()\n",
        "in_tokens = tokenizers.ru.lookup(in_tokens)[0]\n",
        "in_tokens"
      ],
      "execution_count": 82,
      "outputs": [
        {
          "output_type": "execute_result",
          "data": {
            "text/plain": [
              "<tf.Tensor: shape=(10,), dtype=string, numpy=\n",
              "array([b'[START]', b'\\xd1\\x8d\\xd1\\x82\\xd0\\xbe',\n",
              "       b'\\xd0\\xbf\\xd0\\xb5\\xd1\\x80\\xd0\\xb2\\xd0\\xb0\\xd1\\x8f',\n",
              "       b'\\xd0\\xba\\xd0\\xbd\\xd0\\xb8\\xd0\\xb3\\xd0\\xb0', b',',\n",
              "       b'\\xd0\\xba\\xd0\\xbe\\xd1\\x82\\xd0\\xbe\\xd1\\x80\\xd1\\x83\\xd1\\x8e',\n",
              "       b'\\xd1\\x8f',\n",
              "       b'\\xd0\\xbd\\xd0\\xb0\\xd0\\xbf\\xd0\\xb8\\xd1\\x81\\xd0\\xb0\\xd0\\xbb', b'.',\n",
              "       b'[END]'], dtype=object)>"
            ]
          },
          "metadata": {
            "tags": []
          },
          "execution_count": 82
        }
      ]
    },
    {
      "cell_type": "code",
      "metadata": {
        "id": "XtzyKCFamm4N",
        "colab": {
          "base_uri": "https://localhost:8080/",
          "height": 303
        },
        "outputId": "e4c8c0b9-1210-4d85-930c-b329e51fa0b3"
      },
      "source": [
        "plot_attention_head(in_tokens, translated_tokens, attention)"
      ],
      "execution_count": 83,
      "outputs": [
        {
          "output_type": "display_data",
          "data": {
            "image/png": "[encoded data removed]",
            "text/plain": [
              "<Figure size 432x288 with 1 Axes>"
            ]
          },
          "metadata": {
            "tags": [],
            "needs_background": "light"
          }
        }
      ]
    },
    {
      "cell_type": "code",
      "metadata": {
        "id": "MBliB-PCzNK3"
      },
      "source": [
        "def plot_attention_weights(sentence, translated_tokens, attention_heads):\n",
        "  in_tokens = tf.convert_to_tensor([sentence])\n",
        "  in_tokens = tokenizers.ru.tokenize(in_tokens).to_tensor()\n",
        "  in_tokens = tokenizers.ru.lookup(in_tokens)[0]\n",
        "  in_tokens\n",
        "  \n",
        "  fig = plt.figure(figsize=(16, 8))\n",
        "  \n",
        "  for h, head in enumerate(attention_heads):\n",
        "    ax = fig.add_subplot(2, 4, h+1)\n",
        "    \n",
        "    plot_attention_head(in_tokens, translated_tokens, head)\n",
        "    \n",
        "    ax.set_xlabel('Head {}'.format(h+1))\n",
        "  \n",
        "  plt.tight_layout()\n",
        "  plt.show()"
      ],
      "execution_count": 84,
      "outputs": []
    },
    {
      "cell_type": "code",
      "metadata": {
        "id": "pyRQi7944wru",
        "colab": {
          "base_uri": "https://localhost:8080/",
          "height": 593
        },
        "outputId": "0364ebd6-d304-4b13-efba-ee5601a6bf25"
      },
      "source": [
        "plot_attention_weights(sentence, translated_tokens,\n",
        "                       attention_weights['decoder_layer4_block2'][0])"
      ],
      "execution_count": 85,
      "outputs": [
        {
          "output_type": "display_data",
          "data": {
            "image/png": "[encoded data removed]",
            "text/plain": [
              "<Figure size 1152x576 with 8 Axes>"
            ]
          },
          "metadata": {
            "tags": [],
            "needs_background": "light"
          }
        }
      ]
    },
    {
      "cell_type": "markdown",
      "metadata": {
        "id": "MZJirKUtikTt"
      },
      "source": [
        "The model does okay on unfamiliar words. Neither \"triceratops\" or \"encyclopedia\" are in the input dataset and the model almost learns to transliterare them, even withoput a shared vocabulary:"
      ]
    },
    {
      "cell_type": "code",
      "metadata": {
        "id": "iIDoojHaqFkn",
        "colab": {
          "base_uri": "https://localhost:8080/"
        },
        "outputId": "5a1f05dd-951a-4600-88a4-baf6710d6818"
      },
      "source": [
        "input_sentence = \"Я читал о трицератопсе в энциклопедии.\"\n",
        "reference = \"i read about triceratops in the encyclopedia .\"\n",
        "\n",
        "translated_text, translated_tokens, attention_weights = evaluate(input_sentence)\n",
        "print_translation(input_sentence, translated_text, reference)"
      ],
      "execution_count": 86,
      "outputs": [
        {
          "output_type": "stream",
          "text": [
            "decoded translated_text=i read about the three - year - olds in the encyclopedia .\n",
            "Input:         : Я читал о трицератопсе в энциклопедии.\n",
            "Reference      : i read about triceratops in the encyclopedia .\n",
            "Prediction     : i read about the three - year - olds in the encyclopedia .\n",
            "Rouge-l (f): 70.59\n",
            "BLEU-1 score: 53.85\n",
            "BLEU-2 score: 47.37\n",
            "BLEU-3 score: 43.25\n",
            "BLEU-4 score: 27.97\n"
          ],
          "name": "stdout"
        }
      ]
    },
    {
      "cell_type": "code",
      "metadata": {
        "id": "jD3kbPPNWCqD",
        "colab": {
          "base_uri": "https://localhost:8080/"
        },
        "outputId": "c707530c-b3f9-4a49-d9da-50479a8238ee"
      },
      "source": [
        "print(\"This will take a minute...\")\n",
        "references = []\n",
        "candidates = []\n",
        "\n",
        "TEST_SET_SIZE = 100\n",
        "MAX_SENTENCE_CHARS = 80\n",
        "\n",
        "i = 0\n",
        "for ru_example, en_example in test_examples.take(TEST_SET_SIZE * 5):\n",
        "  input_sentence = cleanup_punctuation(ru_example.numpy().decode('utf-8'))\n",
        "\n",
        "  # Skip long sentences of greater than 100 characters\n",
        "  if len(input_sentence) < MAX_SENTENCE_CHARS:\n",
        "\n",
        "    reference = cleanup_punctuation(en_example.numpy().decode('utf-8'))\n",
        "    reference_split = reference.split(' ')\n",
        "    candidate, translated_tokens, attention_weights = evaluate(input_sentence)\n",
        "    candidate_split = cleanup_punctuation(candidate.numpy().decode('utf-8')).split(' ')\n",
        "    references.append([reference_split])\n",
        "    candidates.append(candidate_split)\n",
        "\n",
        "    if i < 3:\n",
        "      print_translation(input_sentence, candidate, reference)\n",
        "      print(\"\")\n",
        "      #print(f'Input: {input_sentence}')\n",
        "      #print(f'Reference: {reference}')\n",
        "      #print(f'Candidate: {translated_text}\\n')\n",
        "\n",
        "    i += 1\n",
        "    if i == TEST_SET_SIZE:\n",
        "      print(f\"Evaluated test set with {i} sentences\")\n",
        "      break"
      ],
      "execution_count": 87,
      "outputs": [
        {
          "output_type": "stream",
          "text": [
            "This will take a minute...\n",
            "decoded translated_text=so it ' s literally more than the sum of its parts .\n",
            "Input:         : так что целое буквально больше чем сумма его частей .\n",
            "Reference      : so the whole is literally more than the sum of its parts .\n",
            "Prediction     : so it 's literally more than the sum of its parts .\n",
            "Rouge-l (f): 81.82\n",
            "BLEU-1 score: 76.67\n",
            "BLEU-2 score: 71.63\n",
            "BLEU-3 score: 71.14\n",
            "BLEU-4 score: 67.09\n",
            "\n",
            "decoded translated_text=( laughter ) okay , let me step back to the sclack and thank you .\n",
            "Input:         : ( смех ) ладно позвольте мне отвлечься на секудну и поблагодарить команду .\n",
            "Reference      : ( laughter ) all right let me just take a moment and thank the team .\n",
            "Prediction     : ( laughter ) okay let me step back to the sclack and thank you .\n",
            "Rouge-l (f): 48.28\n",
            "BLEU-1 score: 56.13\n",
            "BLEU-2 score: 38.73\n",
            "BLEU-3 score: 25.53\n",
            "BLEU-4 score: 21.37\n",
            "\n",
            "decoded translated_text=i ' m 27 years old .\n",
            "Input:         : мне 27 лет .\n",
            "Reference      : i 'm 27 years old .\n",
            "Prediction     : i 'm 27 years old .\n",
            "Rouge-l (f): 100.00\n",
            "BLEU-1 score: 100.00\n",
            "BLEU-2 score: 100.00\n",
            "BLEU-3 score: 100.00\n",
            "BLEU-4 score: 100.00\n",
            "\n",
            "Evaluated test set with 100 sentences\n"
          ],
          "name": "stdout"
        }
      ]
    },
    {
      "cell_type": "code",
      "metadata": {
        "id": "z7RPmi1gVMcz",
        "colab": {
          "base_uri": "https://localhost:8080/"
        },
        "outputId": "1d5840ee-3846-4ad3-94ca-d004578f2b6b"
      },
      "source": [
        "#references = [[['this', 'is', 'a', 'test']]]\n",
        "#references = [[['this', 'is', 'a', 'test'], ['this', 'is' 'test']]]\n",
        "#candidates = [['this', 'is', 'a', 'test']]\n",
        "smoothie = SmoothingFunction().method4\n",
        "score = corpus_bleu(references, candidates, smoothing_function=smoothie)\n",
        "print(f'Bleu Corpus score: {score:.2}')"
      ],
      "execution_count": 88,
      "outputs": [
        {
          "output_type": "stream",
          "text": [
            "Bleu Corpus score: 0.2\n"
          ],
          "name": "stdout"
        }
      ]
    }
  ]
}