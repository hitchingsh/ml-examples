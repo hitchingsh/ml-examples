{
  "nbformat": 4,
  "nbformat_minor": 0,
  "metadata": {
    "accelerator": "GPU",
    "colab": {
      "name": "Russian_Transformer_Model_for_Language_Translation_v2.ipynb",
      "provenance": [],
      "collapsed_sections": [],
      "machine_shape": "hm"
    },
    "kernelspec": {
      "display_name": "Python 3",
      "name": "python3"
    }
  },
  "cells": [
    {
      "cell_type": "markdown",
      "metadata": {
        "id": "J0Qjg6vuaHNt"
      },
      "source": [
        "# Transformer model for Russian Language Translation"
      ]
    },
    {
      "cell_type": "markdown",
      "metadata": {
        "id": "M-f8TnGpE_ex"
      },
      "source": [
        "### Introduction\n",
        "This walkthrough translates Russian to English. The purpose is to show a detailed low-level implementation of the original Transformer architecture as described in Vaswani, et al. 2017 from Google Brain (https://arxiv.org/abs/1706.03762). It also shows an implementation of Subword Tokenization using the BERT tokenizer. \n",
        "\n",
        "This implementation is modified from the following Google Tensorflow Tutorials: \n",
        "* https://www.tensorflow.org/tutorials/tensorflow_text/subwords_tokenizer\n",
        "* https://www.tensorflow.org/tutorials/text/transformer\n",
        "\n",
        "which are:\n",
        "* Copyright 2019 The TensorFlow Authors.\n",
        "* Licensed under the Apache License, Version 2.0 (the \"License\");\n",
        "\n",
        "In addition, the following modifications have been made by Hamilton Hitchigs:\n",
        "* Changed the source language from Portugese to Russian\n",
        "* Added accuracy tests to the end such as Bleu\n",
        "* Changed code so it will save the converter and transformer model to Google drive and reuse if they already exist.\n",
        "\n",
        "\n"
      ]
    },
    {
      "cell_type": "markdown",
      "metadata": {
        "id": "CXCxkADVwbEk"
      },
      "source": [
        "The core idea behind the Transformer model is *self-attention*—the ability to attend to different positions of the input sequence to compute a representation of that sequence. Transformer creates stacks of self-attention layers and is explained below in the sections *Scaled dot product attention* and *Multi-head attention*.\n",
        "\n",
        "A transformer model handles variable-sized input using stacks of self-attention layers instead of [RNNs](text_classification_rnn.ipynb) or [CNNs](../images/intro_to_cnns.ipynb). This general architecture has a number of advantages:\n",
        "\n",
        "* It makes no assumptions about the temporal/spatial relationships across the data. This is ideal for processing a set of objects (for example, [StarCraft units](https://deepmind.com/blog/alphastar-mastering-real-time-strategy-game-starcraft-ii/#block-8)).\n",
        "* Layer outputs can be calculated in parallel, instead of a series like an RNN.\n",
        "* Distant items can affect each other's output without passing through many RNN-steps, or convolution layers (see [Scene Memory Transformer](https://arxiv.org/pdf/1903.03878.pdf) for example).\n",
        "* It can learn long-range dependencies. This is a challenge in many sequence tasks.\n",
        "\n",
        "The downsides of this architecture are:\n",
        "\n",
        "* For a time-series, the output for a time-step is calculated from the *entire history* instead of only the inputs and current hidden-state. This _may_ be less efficient.   \n",
        "* If the input *does* have a  temporal/spatial relationship, like text, some positional encoding must be added or the model will effectively see a bag of words. \n",
        "\n",
        "After training the model in this notebook, you will be able to input a Portuguese sentence and return the English translation.\n",
        "\n",
        "<img src=\"https://www.tensorflow.org/images/tutorials/transformer/attention_map_portuguese.png\" width=\"800\" alt=\"Attention heatmap\">"
      ]
    },
    {
      "cell_type": "markdown",
      "metadata": {
        "id": "swymtxpl7W7w"
      },
      "source": [
        "## Setup"
      ]
    },
    {
      "cell_type": "code",
      "metadata": {
        "colab": {
          "base_uri": "https://localhost:8080/"
        },
        "id": "Y8bCdfgffWaI",
        "outputId": "17168fc1-e7c5-4055-a47d-6c2db6ef4e53"
      },
      "source": [
        "from google.colab import drive # Load the Drive helper and mount\n",
        "\n",
        "drive.mount('/content/drive') # This will prompt for authorization"
      ],
      "execution_count": 5,
      "outputs": [
        {
          "output_type": "stream",
          "text": [
            "Drive already mounted at /content/drive; to attempt to forcibly remount, call drive.mount(\"/content/drive\", force_remount=True).\n"
          ],
          "name": "stdout"
        }
      ]
    },
    {
      "cell_type": "code",
      "metadata": {
        "id": "N7d-aQHe-Drc"
      },
      "source": [
        "BASE_MODEL_PATH = 'drive/MyDrive/models/transformer_ru_en_v2'\n",
        "BASE_DATA_PATH = 'drive/MyDrive/data/transformer_ru_en_v2'\n",
        "CONVERTER_MODEL_NAME = 'ted_hrlr_translate_ru_en_converter'\n",
        "build_tokenizer = False"
      ],
      "execution_count": 6,
      "outputs": []
    },
    {
      "cell_type": "code",
      "metadata": {
        "colab": {
          "base_uri": "https://localhost:8080/"
        },
        "id": "BQuJu_TSd1o7",
        "outputId": "f9d29a24-2337-4917-cf8d-a07645883695"
      },
      "source": [
        "!ls drive/MyDrive/models/transformer_ru_en_v2/"
      ],
      "execution_count": 7,
      "outputs": [
        {
          "output_type": "stream",
          "text": [
            "ted_hrlr_translate_ru_en_converter\n"
          ],
          "name": "stdout"
        }
      ]
    },
    {
      "cell_type": "code",
      "metadata": {
        "id": "Jxltg25gGW4b"
      },
      "source": [
        "#Cleanup for a fresh start\n",
        "#!rm -rf drive/MyDrive/data/downloads/*\n",
        "#!rm -Rf $BASE_MODEL_PATH/*\n",
        "#!rm -Rf $BASE_DATA_PATH/*"
      ],
      "execution_count": 8,
      "outputs": []
    },
    {
      "cell_type": "code",
      "metadata": {
        "id": "stbhlFyy8uAJ"
      },
      "source": [
        "import os.path\n",
        "from os import path"
      ],
      "execution_count": 9,
      "outputs": []
    },
    {
      "cell_type": "code",
      "metadata": {
        "id": "aT9KihWb8wYs"
      },
      "source": [
        "if not path.exists(BASE_MODEL_PATH):\n",
        "  os.mkdir(BASE_MODEL_PATH)\n",
        "  print(f'Created model directory {BASE_MODEL_PATH}')\n",
        "\n",
        "if not path.exists(BASE_DATA_PATH):\n",
        "  os.mkdir(BASE_DATA_PATH)\n",
        "  print(f'Created model directory {BASE_DATA_PATH}')"
      ],
      "execution_count": 10,
      "outputs": []
    },
    {
      "cell_type": "code",
      "metadata": {
        "colab": {
          "base_uri": "https://localhost:8080/"
        },
        "id": "N7EGyH-wUsD2",
        "outputId": "52714847-f405-4d63-d3da-6aca2804ef1f"
      },
      "source": [
        "print(BASE_MODEL_PATH)\n",
        "!ls $BASE_MODEL_PATH\n",
        "print(BASE_DATA_PATH)\n",
        "!ls $BASE_DATA_PATH"
      ],
      "execution_count": 11,
      "outputs": [
        {
          "output_type": "stream",
          "text": [
            "drive/MyDrive/models/transformer_ru_en_v2\n",
            "ted_hrlr_translate_ru_en_converter\n",
            "drive/MyDrive/data/transformer_ru_en_v2\n",
            "downloads  en_vocab.txt  ru_vocab.txt  ted_hrlr_translate\n"
          ],
          "name": "stdout"
        }
      ]
    },
    {
      "cell_type": "code",
      "metadata": {
        "id": "iokc5Qt9Bt88"
      },
      "source": [
        "import collections\n",
        "import logging\n",
        "import os\n",
        "import pathlib\n",
        "import re\n",
        "import string\n",
        "import sys\n",
        "import time\n",
        "\n",
        "import numpy as np\n",
        "import matplotlib.pyplot as plt"
      ],
      "execution_count": 12,
      "outputs": []
    },
    {
      "cell_type": "code",
      "metadata": {
        "colab": {
          "base_uri": "https://localhost:8080/"
        },
        "id": "_VKbZvJVaAgw",
        "outputId": "1b274fe8-3271-41e4-a427-0d0524f5094c"
      },
      "source": [
        "pip install rouge"
      ],
      "execution_count": 13,
      "outputs": [
        {
          "output_type": "stream",
          "text": [
            "Requirement already satisfied: rouge in /usr/local/lib/python3.7/dist-packages (1.0.0)\n",
            "Requirement already satisfied: six in /usr/local/lib/python3.7/dist-packages (from rouge) (1.15.0)\n"
          ],
          "name": "stdout"
        }
      ]
    },
    {
      "cell_type": "code",
      "metadata": {
        "id": "V7iEz7pWZ-2k"
      },
      "source": [
        "import nltk\n",
        "from rouge import Rouge\n",
        "from nltk.translate.bleu_score import corpus_bleu\n",
        "from nltk.translate.bleu_score import sentence_bleu\n",
        "from nltk.translate.bleu_score import SmoothingFunction"
      ],
      "execution_count": 14,
      "outputs": []
    },
    {
      "cell_type": "code",
      "metadata": {
        "colab": {
          "base_uri": "https://localhost:8080/"
        },
        "id": "_fH1o90m-BUv",
        "outputId": "65454216-46ee-4e31-a336-26cf2bfe7138"
      },
      "source": [
        "if not path.exists(BASE_MODEL_PATH + '/' + CONVERTER_MODEL_NAME):\n",
        "  build_tokenizer = True\n",
        "  print(f\"Building tokenizer since not found at {BASE_MODEL_PATH}/{CONVERTER_MODEL_NAME}\")\n",
        "\n",
        "  # `BertTokenizer.detokenize` is not in `tf-text` stable yet (currently 2.4.3).\n",
        "  os.system(\"pip install -q tensorflow_text_nightly > /tmp/out.txt\")\n",
        "\n",
        "  # tf-text-nightly resquires tf-nightly\n",
        "  os.system(\"pip install -q tf-nightly >> /tmp/out.txt\")\n",
        "\n",
        "  # Generate the vocabulary\n",
        "  os.system(\"cat /tmp/out.txt\")\n",
        "else:\n",
        "  build_tokenizer = False\n",
        "  print(f\"Tokenizer already exists at {BASE_MODEL_PATH}/{CONVERTER_MODEL_NAME}\")\n",
        "  os.system(\"pip install -q tensorflow_text > /tmp/out.txt\")\n",
        "  os.system(\"cat /tmp/out.txt\")"
      ],
      "execution_count": 15,
      "outputs": [
        {
          "output_type": "stream",
          "text": [
            "Tokenizer already exists at drive/MyDrive/models/transformer_ru_en_v2/ted_hrlr_translate_ru_en_converter\n"
          ],
          "name": "stdout"
        }
      ]
    },
    {
      "cell_type": "code",
      "metadata": {
        "id": "JjJJyJTZYebt"
      },
      "source": [
        "import tensorflow as tf\n",
        "import tensorflow_datasets as tfds\n",
        "\n",
        "import tensorflow_text as text\n",
        "\n",
        "if build_tokenizer:\n",
        "  # Generate the vocabulary\n",
        "  from tensorflow_text.tools.wordpiece_vocab import bert_vocab_from_dataset as bert_vocab"
      ],
      "execution_count": 16,
      "outputs": []
    },
    {
      "cell_type": "code",
      "metadata": {
        "id": "pXzVhU34zWEU"
      },
      "source": [
        "logging.getLogger('tensorflow').setLevel(logging.ERROR)  # suppress warnings"
      ],
      "execution_count": 17,
      "outputs": []
    },
    {
      "cell_type": "markdown",
      "metadata": {
        "id": "-cCvXbPkccV1"
      },
      "source": [
        "## Download the Dataset"
      ]
    },
    {
      "cell_type": "markdown",
      "metadata": {
        "id": "t4_Qt8W1hJE_"
      },
      "source": [
        "Use [TensorFlow datasets](https://www.tensorflow.org/datasets) to load the [Portuguese-English translation dataset](https://github.com/neulab/word-embeddings-for-nmt) from the [TED Talks Open Translation Project](https://www.ted.com/participate/translate).\n",
        "\n",
        "This dataset contains approximately 50000 training examples, 1100 validation examples, and 2000 test examples."
      ]
    },
    {
      "cell_type": "code",
      "metadata": {
        "id": "8q9t4FmN96eN"
      },
      "source": [
        "examples, metadata = tfds.load('ted_hrlr_translate/ru_to_en', with_info=True,\n",
        "                               as_supervised=True, data_dir=BASE_DATA_PATH)\n",
        "train_examples, val_examples, test_examples = examples['train'], examples['validation'], examples['test']"
      ],
      "execution_count": 18,
      "outputs": []
    },
    {
      "cell_type": "markdown",
      "metadata": {
        "id": "1OnwQZ2IpTbl"
      },
      "source": [
        "The `tf.data.Dataset` object returned by TensorFlow datasets yields pairs of text examples:"
      ]
    },
    {
      "cell_type": "code",
      "metadata": {
        "id": "AtuMLTQGlHZ1",
        "colab": {
          "base_uri": "https://localhost:8080/"
        },
        "outputId": "5b850987-64b0-4d28-b47a-c83df19e53a0"
      },
      "source": [
        "for ru_examples, en_examples in train_examples.batch(3).take(1):\n",
        "  for ru in ru_examples.numpy():\n",
        "    print(ru.decode('utf-8'))\n",
        "\n",
        "  print()\n",
        "\n",
        "  for en in en_examples.numpy():\n",
        "    print(en.decode('utf-8'))"
      ],
      "execution_count": 19,
      "outputs": [
        {
          "output_type": "stream",
          "text": [
            "к : успех , перемены возможны только с оружием в руках .\n",
            "документация и методика практического обучения также доступна и выпущена creative commons .\n",
            "( видео ) диди пиклз : сейчас четыре часа утра .\n",
            "\n",
            "c : success , the change is only coming through the barrel of the gun .\n",
            "the documentation and the hands-on teaching methodology is also open-source and released as the creative commons .\n",
            "( video ) didi pickles : it 's four o'clock in the morning .\n"
          ],
          "name": "stdout"
        }
      ]
    },
    {
      "cell_type": "markdown",
      "metadata": {
        "id": "eJxTd6aVnZyh"
      },
      "source": [
        "## Text tokenization & detokenization\n",
        "\n",
        "For more detail on how to build the tokenizer and detokenizer see: https://www.tensorflow.org/tutorials/tensorflow_text/subwords_tokenizer"
      ]
    },
    {
      "cell_type": "markdown",
      "metadata": {
        "id": "WlHAFNaopq6U"
      },
      "source": [
        "You can't train a model directly on text. The text needs to be converted some numeric representation first. Typically you convert the text to sequences of token IDs, which are as indexes into an embedding."
      ]
    },
    {
      "cell_type": "markdown",
      "metadata": {
        "id": "2sPvbCEePzOC"
      },
      "source": [
        "START = tf.argmax(tf.constant(reserved_tokens) == \"[START]\")\n",
        "END = tf.argmax(tf.constant(reserved_tokens) == \"[END]\")\n",
        "\n",
        "def add_start_end(ragged):\n",
        "  count = ragged.bounding_shape()[0]\n",
        "  starts = tf.fill([count,1], START)\n",
        "  ends = tf.fill([count,1], END)\n",
        "  return tf.concat([starts, ragged, ends], axis=1)One popular implementation is demonstrated in the [Subword tokenizer tutorial](https://www.tensorflow.org/tutorials/tensorflow_text/subwords_tokenizer) builds subword tokenizers (`text.BertTokenizer`) optimized for this dataset and exports them in a [saved_model](https://www.tensorflow.org/guide/saved_model). \n",
        "\n",
        "Download and unzip and import the `saved_model`:"
      ]
    },
    {
      "cell_type": "code",
      "metadata": {
        "id": "o4hh67jg8RMs"
      },
      "source": [
        "reserved_tokens=[\"[PAD]\", \"[UNK]\", \"[START]\", \"[END]\"]\n",
        "\n",
        "START = tf.argmax(tf.constant(reserved_tokens) == \"[START]\")\n",
        "END = tf.argmax(tf.constant(reserved_tokens) == \"[END]\")\n",
        "\n",
        "def add_start_end(ragged):\n",
        "  global START, END\n",
        "  count = ragged.bounding_shape()[0]\n",
        "  starts = tf.fill([count,1], START)\n",
        "  ends = tf.fill([count,1], END)\n",
        "  return tf.concat([starts, ragged, ends], axis=1)\n",
        "\n",
        "def write_vocab_file(filepath, vocab):\n",
        "  global base_path\n",
        "  with open(BASE_DATA_PATH + '/' + filepath, 'w') as f:\n",
        "    for token in vocab:\n",
        "      print(token, file=f)\n",
        "\n",
        "def write_vocab_files():\n",
        "  global reserved_tokens, train_example\n",
        "  bert_tokenizer_params=dict(lower_case=True)\n",
        "\n",
        "  bert_vocab_args = dict(\n",
        "      # The target vocabulary size\n",
        "      vocab_size = 30000,\n",
        "      # Reserved tokens that must be included in the vocabulary\n",
        "      reserved_tokens=reserved_tokens,\n",
        "      # Arguments for `text.BertTokenizer`\n",
        "      bert_tokenizer_params=bert_tokenizer_params,\n",
        "      # Arguments for `wordpiece_vocab.wordpiece_tokenizer_learner_lib.learn`\n",
        "      learn_params={},\n",
        "  )\n",
        "\n",
        "  train_en = train_examples.map(lambda ru, en: en)\n",
        "  train_ru = train_examples.map(lambda ru, en: ru)\n",
        "\n",
        "  %%time\n",
        "  ru_vocab = bert_vocab.bert_vocab_from_dataset(\n",
        "      train_ru.batch(1000).prefetch(2),\n",
        "      **bert_vocab_args\n",
        "  )\n",
        "\n",
        "  print(f'ru_vocab with length={len(ru_vocab)}')\n",
        "  write_vocab_file('ru_vocab.txt', ru_vocab)\n",
        "\n",
        "  %%time\n",
        "  en_vocab = bert_vocab.bert_vocab_from_dataset(\n",
        "      train_en.batch(1000).prefetch(2),\n",
        "      **bert_vocab_args\n",
        "  )\n",
        "\n",
        "  print(f'en_vocab with length={len(en_vocab)}')\n",
        "  write_vocab_file('en_vocab.txt', en_vocab)\n",
        "\n",
        "def cleanup_text(reserved_tokens, token_txt):\n",
        "  # Generate clean text output, so drop reserved tokens like [START], [END] and [PAD].\n",
        "  # apply a string join along the words axis of the result.\n",
        "\n",
        "  # Drop the reserved tokens, except for \"[UNK]\".\n",
        "  bad_tokens = [re.escape(tok) for tok in reserved_tokens if tok != \"[UNK]\"]\n",
        "  bad_token_re = \"|\".join(bad_tokens)\n",
        "\n",
        "  bad_cells = tf.strings.regex_full_match(token_txt, bad_token_re)\n",
        "  result = tf.ragged.boolean_mask(token_txt, ~bad_cells)\n",
        "\n",
        "  # Join them into strings.\n",
        "  result = tf.strings.reduce_join(result, separator=' ', axis=-1)\n",
        "\n",
        "  return result\n",
        "\n",
        "def build_bert_tokenizer():\n",
        "  ru_tokenizer = text.BertTokenizer(BASE_DATA_PATH + '/' + 'ru_vocab.txt', **bert_tokenizer_params)\n",
        "  en_tokenizer = text.BertTokenizer(BASE_DATA_PATH + '/' + 'en_vocab.txt', **bert_tokenizer_params)\n",
        "\n",
        "  # Run it through the BertTokenizer.tokenize method. Initially, this returns a \n",
        "  # tf.RaggedTensor with axes (batch, word, word-piece):*italicized text*\n",
        "\n",
        "  # Custom detokenization\n",
        "  # Tokenize the examples -> (batch, word, word-piece)\n",
        "  # Merge the word and word-piece axes -> (batch, tokens)\n",
        "  token_batch = en_tokenizer.tokenize(en_examples).merge_dims(-2,-1)\n",
        "  words = en_tokenizer.detokenize(token_batch)"
      ],
      "execution_count": 20,
      "outputs": []
    },
    {
      "cell_type": "markdown",
      "metadata": {
        "id": "zo8zllGfBpVw"
      },
      "source": [
        "### Export Custom BERT Tokenizer\n",
        "The following code block builds a CustomTokenizer class to contain the text.BertTokenizer instances, the custom logic, and the @tf.function wrappers required for export."
      ]
    },
    {
      "cell_type": "code",
      "metadata": {
        "id": "WvLuOw9HBsR1"
      },
      "source": [
        "class CustomTokenizer(tf.Module):\n",
        "  def __init__(self, reserved_tokens, vocab_path):\n",
        "    self.tokenizer = text.BertTokenizer(vocab_path, lower_case=True)\n",
        "    self._reserved_tokens = reserved_tokens\n",
        "    self._vocab_path = tf.saved_model.Asset(vocab_path)\n",
        "\n",
        "    vocab = pathlib.Path(vocab_path).read_text().splitlines()\n",
        "    self.vocab = tf.Variable(vocab)\n",
        "\n",
        "    ## Create the signatures for export:   \n",
        "\n",
        "    # Include a tokenize signature for a batch of strings. \n",
        "    self.tokenize.get_concrete_function(\n",
        "        tf.TensorSpec(shape=[None], dtype=tf.string))\n",
        "\n",
        "    # Include `detokenize` and `lookup` signatures for:\n",
        "    #   * `Tensors` with shapes [tokens] and [batch, tokens]\n",
        "    #   * `RaggedTensors` with shape [batch, tokens]\n",
        "    self.detokenize.get_concrete_function(\n",
        "        tf.TensorSpec(shape=[None, None], dtype=tf.int64))\n",
        "    self.detokenize.get_concrete_function(\n",
        "          tf.RaggedTensorSpec(shape=[None, None], dtype=tf.int64))\n",
        "\n",
        "    self.lookup.get_concrete_function(\n",
        "        tf.TensorSpec(shape=[None, None], dtype=tf.int64))\n",
        "    self.lookup.get_concrete_function(\n",
        "          tf.RaggedTensorSpec(shape=[None, None], dtype=tf.int64))\n",
        "\n",
        "    # These `get_*` methods take no arguments\n",
        "    self.get_vocab_size.get_concrete_function()\n",
        "    self.get_vocab_path.get_concrete_function()\n",
        "    self.get_reserved_tokens.get_concrete_function()\n",
        "\n",
        "  @tf.function\n",
        "  def tokenize(self, strings):\n",
        "    enc = self.tokenizer.tokenize(strings)\n",
        "    # Merge the `word` and `word-piece` axes.\n",
        "    enc = enc.merge_dims(-2,-1)\n",
        "    enc = add_start_end(enc)\n",
        "    return enc\n",
        "\n",
        "  @tf.function\n",
        "  def detokenize(self, tokenized):\n",
        "    words = self.tokenizer.detokenize(tokenized)\n",
        "    return cleanup_text(self._reserved_tokens, words)\n",
        "\n",
        "  @tf.function\n",
        "  def lookup(self, token_ids):\n",
        "    return tf.gather(self.vocab, token_ids)\n",
        "\n",
        "  @tf.function\n",
        "  def get_vocab_size(self):\n",
        "    return tf.shape(self.vocab)[0]\n",
        "\n",
        "  @tf.function\n",
        "  def get_vocab_path(self):\n",
        "    return self._vocab_path\n",
        "\n",
        "  @tf.function\n",
        "  def get_reserved_tokens(self):\n",
        "    return tf.constant(self._reserved_tokens)"
      ],
      "execution_count": 21,
      "outputs": []
    },
    {
      "cell_type": "markdown",
      "metadata": {
        "id": "ApPdrUeICGhO"
      },
      "source": [
        "Build a CustomTokenizer for each language:"
      ]
    },
    {
      "cell_type": "code",
      "metadata": {
        "id": "uZxcjOoyCIXv"
      },
      "source": [
        "def build_custom_tokenizers():\n",
        "  tokenizers = tf.Module()\n",
        "  tokenizers.ru = CustomTokenizer(reserved_tokens, BASE_DATA_PATH + '/' + 'ru_vocab.txt')\n",
        "  tokenizers.en = CustomTokenizer(reserved_tokens, BASE_DATA_PATH + '/' + 'en_vocab.txt')\n",
        "\n",
        "  # Export the tokenizers as a saved_model:\n",
        "  tf.saved_model.save(tokenizers, BASE_MODEL_PATH + '/' + CONVERTER_MODEL_NAME)\n",
        "\n",
        "  # Generate the vocabulary\n",
        "  os.system(\"zip -r $BASE_MODEL_PATH/{BASE_MODEL_PATH}.zip $BASE_MODEL_PATH/{CONVERTER_MODEL_NAME} > /tmp/out.txt\")\n",
        "  os.system(\"cat /tmp/out.txt\")\n",
        "\n",
        "  return tokenizers"
      ],
      "execution_count": 22,
      "outputs": []
    },
    {
      "cell_type": "code",
      "metadata": {
        "colab": {
          "base_uri": "https://localhost:8080/"
        },
        "id": "8Lj7eBayXIUI",
        "outputId": "57950413-f511-4b98-9aac-0e5c10d2c82c"
      },
      "source": [
        "if build_tokenizer:\n",
        "  global BASE_MODEL_PATH, CONVERTER_MODEL_NAME\n",
        "  print(\"writing vocab files\")\n",
        "  write_vocab_files()\n",
        "  print(\"building custom BERT tokenizer\")\n",
        "  tokenizers = build_custom_tokenizers()\n",
        "else:\n",
        "  tokenizers = reloaded_tokenizers = tf.saved_model.load(BASE_MODEL_PATH + '/' + CONVERTER_MODEL_NAME)\n",
        "  reloaded_tokenizers.en.get_vocab_size().numpy()\n",
        "  print(f\"Loaded custom BERT tokenizer from {BASE_MODEL_PATH}/{CONVERTER_MODEL_NAME}\")"
      ],
      "execution_count": 23,
      "outputs": [
        {
          "output_type": "stream",
          "text": [
            "Loaded custom BERT tokenizer from drive/MyDrive/models/transformer_ru_en_v2/ted_hrlr_translate_ru_en_converter\n"
          ],
          "name": "stdout"
        }
      ]
    },
    {
      "cell_type": "code",
      "metadata": {
        "colab": {
          "base_uri": "https://localhost:8080/"
        },
        "id": "B5upfRpqKPoD",
        "outputId": "c610debb-11bc-4acf-8e36-052aad838abe"
      },
      "source": [
        "!ls -l $BASE_MODEL_PATH"
      ],
      "execution_count": 24,
      "outputs": [
        {
          "output_type": "stream",
          "text": [
            "total 4\n",
            "drwx------ 4 root root 4096 Mar 28 02:16 ted_hrlr_translate_ru_en_converter\n"
          ],
          "name": "stdout"
        }
      ]
    },
    {
      "cell_type": "markdown",
      "metadata": {
        "id": "KQYc0CJTpnvg"
      },
      "source": [
        "The `tf.saved_model` contains two text tokenizers, one for English and one for Portugese. Both have the same methods:"
      ]
    },
    {
      "cell_type": "code",
      "metadata": {
        "id": "s-PCJijfcZ9_",
        "colab": {
          "base_uri": "https://localhost:8080/"
        },
        "outputId": "ecf68df0-d7e9-4ab3-de9f-339d8f36baae"
      },
      "source": [
        "[item for item in dir(tokenizers.en) if not item.startswith('_')]"
      ],
      "execution_count": 25,
      "outputs": [
        {
          "output_type": "execute_result",
          "data": {
            "text/plain": [
              "['detokenize',\n",
              " 'get_reserved_tokens',\n",
              " 'get_vocab_path',\n",
              " 'get_vocab_size',\n",
              " 'lookup',\n",
              " 'tokenize',\n",
              " 'tokenizer',\n",
              " 'vocab']"
            ]
          },
          "metadata": {
            "tags": []
          },
          "execution_count": 25
        }
      ]
    },
    {
      "cell_type": "markdown",
      "metadata": {
        "id": "-pv_nc5lrAiD"
      },
      "source": [
        "The `tokenize` method converts a batch of strings to a padded-batch of token IDs. This method splits punctuation, lowercases and unicode-normalizes the input before tokenizing. That standardization is not visible here because the input data is already standardized."
      ]
    },
    {
      "cell_type": "code",
      "metadata": {
        "id": "0GV-smAAQJtM",
        "colab": {
          "base_uri": "https://localhost:8080/"
        },
        "outputId": "a6df8b70-e21c-42f5-fe1d-aed8c5206401"
      },
      "source": [
        "for en in en_examples.numpy():\n",
        "  print(en.decode('utf-8'))"
      ],
      "execution_count": 26,
      "outputs": [
        {
          "output_type": "stream",
          "text": [
            "c : success , the change is only coming through the barrel of the gun .\n",
            "the documentation and the hands-on teaching methodology is also open-source and released as the creative commons .\n",
            "( video ) didi pickles : it 's four o'clock in the morning .\n"
          ],
          "name": "stdout"
        }
      ]
    },
    {
      "cell_type": "code",
      "metadata": {
        "id": "2fQJq1xB-tOn",
        "colab": {
          "base_uri": "https://localhost:8080/"
        },
        "outputId": "438b63e8-bdf7-4433-81c8-11e4b865c296"
      },
      "source": [
        "encoded = tokenizers.en.tokenize(en_examples)\n",
        "\n",
        "for row in encoded.to_list():\n",
        "  print(row)"
      ],
      "execution_count": 27,
      "outputs": [
        {
          "output_type": "stream",
          "text": [
            "[2, 41, 28, 1040, 14, 84, 238, 93, 197, 376, 214, 84, 5656, 87, 84, 2307, 16, 3]\n",
            "[2, 84, 10661, 85, 84, 672, 15, 103, 1405, 8003, 93, 185, 424, 15, 888, 85, 2360, 110, 84, 1005, 5132, 16, 3]\n",
            "[2, 10, 388, 11, 166, 655, 11892, 136, 28, 90, 9, 57, 307, 53, 9, 2330, 89, 84, 774, 16, 3]\n"
          ],
          "name": "stdout"
        }
      ]
    },
    {
      "cell_type": "markdown",
      "metadata": {
        "id": "dBRlikwDR2Lu"
      },
      "source": [
        "The `detokenize` method attempts to convert these token IDs back to human readable text: "
      ]
    },
    {
      "cell_type": "code",
      "metadata": {
        "id": "Tpqx1aug3W31",
        "colab": {
          "base_uri": "https://localhost:8080/"
        },
        "outputId": "f8b9a723-7dbd-42b9-f28e-81cb79c5367e"
      },
      "source": [
        "round_trip = tokenizers.en.detokenize(encoded)\n",
        "for line in round_trip.numpy():\n",
        "  print(line.decode('utf-8'))"
      ],
      "execution_count": 28,
      "outputs": [
        {
          "output_type": "stream",
          "text": [
            "c : success , the change is only coming through the barrel of the gun .\n",
            "the documentation and the hands - on teaching methodology is also open - source and released as the creative commons .\n",
            "( video ) didi pickles : it ' s four o ' clock in the morning .\n"
          ],
          "name": "stdout"
        }
      ]
    },
    {
      "cell_type": "markdown",
      "metadata": {
        "id": "e5mGvytArL9g"
      },
      "source": [
        "The lower level `lookup` method converts from token-IDs to token text:"
      ]
    },
    {
      "cell_type": "code",
      "metadata": {
        "id": "RpzRLzvIuN3R",
        "colab": {
          "base_uri": "https://localhost:8080/"
        },
        "outputId": "64e9e2b2-6920-42ac-8085-2e78550310cb"
      },
      "source": [
        "tokens = tokenizers.en.lookup(encoded)\n",
        "tokens"
      ],
      "execution_count": 29,
      "outputs": [
        {
          "output_type": "execute_result",
          "data": {
            "text/plain": [
              "<tf.RaggedTensor [[b'[START]', b'c', b':', b'success', b',', b'the', b'change', b'is', b'only', b'coming', b'through', b'the', b'barrel', b'of', b'the', b'gun', b'.', b'[END]'], [b'[START]', b'the', b'documentation', b'and', b'the', b'hands', b'-', b'on', b'teaching', b'methodology', b'is', b'also', b'open', b'-', b'source', b'and', b'released', b'as', b'the', b'creative', b'commons', b'.', b'[END]'], [b'[START]', b'(', b'video', b')', b'did', b'##i', b'pickle', b'##s', b':', b'it', b\"'\", b's', b'four', b'o', b\"'\", b'clock', b'in', b'the', b'morning', b'.', b'[END]']]>"
            ]
          },
          "metadata": {
            "tags": []
          },
          "execution_count": 29
        }
      ]
    },
    {
      "cell_type": "markdown",
      "metadata": {
        "id": "5V8Ix_PNSfhV"
      },
      "source": [
        "Here you can see the \"subword\" aspect of the tokenizers. The word \"searchability\" is decomposed into \"search ##ability\" and the word \"serindipity\" into \"s ##ere ##nd ##ip ##ity\""
      ]
    },
    {
      "cell_type": "code",
      "metadata": {
        "id": "vwzGwX8hjdZQ"
      },
      "source": [
        "if build_tokenizer:\n",
        "  print(\"Recommend factory reset notebook and rerunning since training runs much slower with nightly build code\")"
      ],
      "execution_count": 30,
      "outputs": []
    },
    {
      "cell_type": "markdown",
      "metadata": {
        "id": "fd1NWMxjfsDd"
      },
      "source": [
        "## Setup input pipeline"
      ]
    },
    {
      "cell_type": "markdown",
      "metadata": {
        "id": "E7JHK7N7tNZy"
      },
      "source": [
        "To build an input pipeline suitable for training you'll apply some transformations to the dataset.\n",
        "\n",
        "This function will be used to encode the batches of raw text:"
      ]
    },
    {
      "cell_type": "code",
      "metadata": {
        "id": "6shgzEck3FiV"
      },
      "source": [
        "def tokenize_pairs(ru, en):\n",
        "    ru = tokenizers.ru.tokenize(ru)\n",
        "    # Convert from ragged to dense, padding with zeros.\n",
        "    ru = ru.to_tensor()\n",
        "\n",
        "    en = tokenizers.en.tokenize(en)\n",
        "    # Convert from ragged to dense, padding with zeros.\n",
        "    en = en.to_tensor()\n",
        "    return ru, en"
      ],
      "execution_count": 31,
      "outputs": []
    },
    {
      "cell_type": "markdown",
      "metadata": {
        "id": "cf2HwC_0wG0v"
      },
      "source": [
        "Here's a simple input pipeline that processes, shuffles and batches the data:"
      ]
    },
    {
      "cell_type": "code",
      "metadata": {
        "id": "bcRp7VcQ5m6g"
      },
      "source": [
        "BUFFER_SIZE = 20000\n",
        "BATCH_SIZE = 64"
      ],
      "execution_count": 32,
      "outputs": []
    },
    {
      "cell_type": "code",
      "metadata": {
        "id": "BUN_jLBTwNxk"
      },
      "source": [
        "def make_batches(ds):\n",
        "  return (\n",
        "      ds\n",
        "      .cache()\n",
        "      .shuffle(BUFFER_SIZE)\n",
        "      .batch(BATCH_SIZE, drop_remainder=True)\n",
        "      .map(tokenize_pairs, num_parallel_calls=tf.data.AUTOTUNE)\n",
        "      .prefetch(tf.data.AUTOTUNE))\n",
        "\n",
        "train_batches = make_batches(train_examples)\n",
        "val_batches = make_batches(val_examples)"
      ],
      "execution_count": 33,
      "outputs": []
    },
    {
      "cell_type": "markdown",
      "metadata": {
        "id": "nBQuibYA4n0n"
      },
      "source": [
        "## Positional encoding\n",
        "\n",
        "Since this model doesn't contain any recurrence or convolution, positional encoding is added to give the model some information about the relative position of the words in the sentence. \n",
        "\n",
        "The positional encoding vector is added to the embedding vector. Embeddings represent a token in a d-dimensional space where tokens with similar meaning will be closer to each other. But the embeddings do not encode the relative position of words in a sentence. So after adding the positional encoding, words will be closer to each other based on the *similarity of their meaning and their position in the sentence*, in the d-dimensional space.\n",
        "\n",
        "See the notebook on [positional encoding](https://github.com/tensorflow/examples/blob/master/community/en/position_encoding.ipynb) to learn more about it. The formula for calculating the positional encoding is as follows:\n",
        "\n",
        "$$\\Large{PE_{(pos, 2i)} = sin(pos / 10000^{2i / d_{model}})} $$\n",
        "$$\\Large{PE_{(pos, 2i+1)} = cos(pos / 10000^{2i / d_{model}})} $$"
      ]
    },
    {
      "cell_type": "code",
      "metadata": {
        "id": "WhIOZjMNKujn"
      },
      "source": [
        "def get_angles(pos, i, d_model):\n",
        "  angle_rates = 1 / np.power(10000, (2 * (i//2)) / np.float32(d_model))\n",
        "  return pos * angle_rates"
      ],
      "execution_count": 34,
      "outputs": []
    },
    {
      "cell_type": "code",
      "metadata": {
        "id": "1Rz82wEs5biZ"
      },
      "source": [
        "def positional_encoding(position, d_model):\n",
        "  angle_rads = get_angles(np.arange(position)[:, np.newaxis],\n",
        "                          np.arange(d_model)[np.newaxis, :],\n",
        "                          d_model)\n",
        "  \n",
        "  # apply sin to even indices in the array; 2i\n",
        "  angle_rads[:, 0::2] = np.sin(angle_rads[:, 0::2])\n",
        "  \n",
        "  # apply cos to odd indices in the array; 2i+1\n",
        "  angle_rads[:, 1::2] = np.cos(angle_rads[:, 1::2])\n",
        "    \n",
        "  pos_encoding = angle_rads[np.newaxis, ...]\n",
        "    \n",
        "  return tf.cast(pos_encoding, dtype=tf.float32)"
      ],
      "execution_count": 35,
      "outputs": []
    },
    {
      "cell_type": "code",
      "metadata": {
        "id": "1kLCla68EloE",
        "colab": {
          "base_uri": "https://localhost:8080/",
          "height": 300
        },
        "outputId": "53533342-c2d3-427c-b0af-46b01f32485a"
      },
      "source": [
        "n, d = 2048, 512\n",
        "pos_encoding = positional_encoding(n, d)\n",
        "print(pos_encoding.shape)\n",
        "pos_encoding = pos_encoding[0]\n",
        "\n",
        "# Juggle the dimensions for the plot\n",
        "pos_encoding = tf.reshape(pos_encoding, (n, d//2, 2))\n",
        "pos_encoding = tf.transpose(pos_encoding, (2,1,0))\n",
        "pos_encoding = tf.reshape(pos_encoding, (d, n))\n",
        "\n",
        "plt.pcolormesh(pos_encoding, cmap='RdBu')\n",
        "plt.ylabel('Depth')\n",
        "plt.xlabel('Position')\n",
        "plt.colorbar()\n",
        "plt.show()"
      ],
      "execution_count": 36,
      "outputs": [
        {
          "output_type": "stream",
          "text": [
            "(1, 2048, 512)\n"
          ],
          "name": "stdout"
        },
        {
          "output_type": "display_data",
          "data": {
            "image/png": "[encoded data removed]",
            "text/plain": [
              "<Figure size 432x288 with 2 Axes>"
            ]
          },
          "metadata": {
            "tags": [],
            "needs_background": "light"
          }
        }
      ]
    },
    {
      "cell_type": "code",
      "metadata": {
        "colab": {
          "base_uri": "https://localhost:8080/"
        },
        "id": "0_ODDfLielfU",
        "outputId": "59fa7143-0f33-4260-e8c6-e187ea73282e"
      },
      "source": [
        "pos_encoding.shape"
      ],
      "execution_count": 37,
      "outputs": [
        {
          "output_type": "execute_result",
          "data": {
            "text/plain": [
              "TensorShape([512, 2048])"
            ]
          },
          "metadata": {
            "tags": []
          },
          "execution_count": 37
        }
      ]
    },
    {
      "cell_type": "markdown",
      "metadata": {
        "id": "a_b4ou4TYqUN"
      },
      "source": [
        "## Masking"
      ]
    },
    {
      "cell_type": "markdown",
      "metadata": {
        "id": "s42Uydjkv0hF"
      },
      "source": [
        "Mask all the pad tokens in the batch of sequence. It ensures that the model does not treat padding as the input. The mask indicates where pad value `0` is present: it outputs a `1` at those locations, and a `0` otherwise."
      ]
    },
    {
      "cell_type": "code",
      "metadata": {
        "id": "U2i8-e1s8ti9"
      },
      "source": [
        "def create_padding_mask(seq):\n",
        "  seq = tf.cast(tf.math.equal(seq, 0), tf.float32)\n",
        "  \n",
        "  # add extra dimensions to add the padding\n",
        "  # to the attention logits.\n",
        "  return seq[:, tf.newaxis, tf.newaxis, :]  # (batch_size, 1, 1, seq_len)"
      ],
      "execution_count": 38,
      "outputs": []
    },
    {
      "cell_type": "code",
      "metadata": {
        "id": "A7BYeBCNvi7n",
        "colab": {
          "base_uri": "https://localhost:8080/"
        },
        "outputId": "791349fe-1503-452e-cffc-619045d4b329"
      },
      "source": [
        "x = tf.constant([[7, 6, 0, 0, 1], [1, 2, 3, 0, 0], [0, 0, 0, 4, 5]])\n",
        "create_padding_mask(x)"
      ],
      "execution_count": 39,
      "outputs": [
        {
          "output_type": "execute_result",
          "data": {
            "text/plain": [
              "<tf.Tensor: shape=(3, 1, 1, 5), dtype=float32, numpy=\n",
              "array([[[[0., 0., 1., 1., 0.]]],\n",
              "\n",
              "\n",
              "       [[[0., 0., 0., 1., 1.]]],\n",
              "\n",
              "\n",
              "       [[[1., 1., 1., 0., 0.]]]], dtype=float32)>"
            ]
          },
          "metadata": {
            "tags": []
          },
          "execution_count": 39
        }
      ]
    },
    {
      "cell_type": "markdown",
      "metadata": {
        "id": "Z0hzukDBgVom"
      },
      "source": [
        "The look-ahead mask is used to mask the future tokens in a sequence. In other words, the mask indicates which entries should not be used.\n",
        "\n",
        "This means that to predict the third word, only the first and second word will be used. Similarly to predict the fourth word, only the first, second and the third word will be used and so on."
      ]
    },
    {
      "cell_type": "code",
      "metadata": {
        "id": "dVxS8OPI9uI0"
      },
      "source": [
        "def create_look_ahead_mask(size):\n",
        "  mask = 1 - tf.linalg.band_part(tf.ones((size, size)), -1, 0)\n",
        "  return mask  # (seq_len, seq_len)"
      ],
      "execution_count": 40,
      "outputs": []
    },
    {
      "cell_type": "code",
      "metadata": {
        "id": "yxKGuXxaBeeE",
        "colab": {
          "base_uri": "https://localhost:8080/"
        },
        "outputId": "8d830aae-9281-4537-f16a-8ca19a3f9f42"
      },
      "source": [
        "x = tf.random.uniform((1, 3))\n",
        "temp = create_look_ahead_mask(x.shape[1])\n",
        "temp"
      ],
      "execution_count": 41,
      "outputs": [
        {
          "output_type": "execute_result",
          "data": {
            "text/plain": [
              "<tf.Tensor: shape=(3, 3), dtype=float32, numpy=\n",
              "array([[0., 1., 1.],\n",
              "       [0., 0., 1.],\n",
              "       [0., 0., 0.]], dtype=float32)>"
            ]
          },
          "metadata": {
            "tags": []
          },
          "execution_count": 41
        }
      ]
    },
    {
      "cell_type": "markdown",
      "metadata": {
        "id": "xluDl5cXYy4y"
      },
      "source": [
        "## Scaled dot product attention\n",
        "\n"
      ]
    },
    {
      "cell_type": "markdown",
      "metadata": {
        "id": "vsxEE_-Wa1gF"
      },
      "source": [
        "<img src=\"https://www.tensorflow.org/images/tutorials/transformer/scaled_attention.png\" width=\"500\" alt=\"scaled_dot_product_attention\">\n",
        "\n",
        "The attention function used by the transformer takes three inputs: Q (query), K (key), V (value). The equation used to calculate the attention weights is:\n",
        "\n",
        "$$\\Large{Attention(Q, K, V) = softmax_k(\\frac{QK^T}{\\sqrt{d_k}}) V} $$\n",
        "\n",
        "The dot-product attention is scaled by a factor of square root of the depth. This is done because for large values of depth, the dot product grows large in magnitude pushing the softmax function where it has small gradients resulting in a very hard softmax. \n",
        "\n",
        "For example, consider that `Q` and `K` have a mean of 0 and variance of 1. Their matrix multiplication will have a mean of 0 and variance of `dk`. So the *square root of `dk`* is used for scaling so you get a consistent variance regardless of the value of `dk`. If the variance is too low the output may be too flat to optimize effectively. If the variance is too high the softmax may saturate at initilization making it dificult to learn. \n",
        "\n",
        "The mask is multiplied with -1e9 (close to negative infinity). This is done because the mask is summed with the scaled matrix multiplication of Q and K and is applied immediately before a softmax. The goal is to zero out these cells, and large negative inputs to softmax are near zero in the output."
      ]
    },
    {
      "cell_type": "code",
      "metadata": {
        "id": "LazzUq3bJ5SH"
      },
      "source": [
        "def scaled_dot_product_attention(q, k, v, mask):\n",
        "  \"\"\"Calculate the attention weights.\n",
        "  q, k, v must have matching leading dimensions.\n",
        "  k, v must have matching penultimate dimension, i.e.: seq_len_k = seq_len_v.\n",
        "  The mask has different shapes depending on its type(padding or look ahead) \n",
        "  but it must be broadcastable for addition.\n",
        "  \n",
        "  Args:\n",
        "    q: query shape == (..., seq_len_q, depth)\n",
        "    k: key shape == (..., seq_len_k, depth)\n",
        "    v: value shape == (..., seq_len_v, depth_v)\n",
        "    mask: Float tensor with shape broadcastable \n",
        "          to (..., seq_len_q, seq_len_k). Defaults to None.\n",
        "    \n",
        "  Returns:\n",
        "    output, attention_weights\n",
        "  \"\"\"\n",
        "\n",
        "  matmul_qk = tf.matmul(q, k, transpose_b=True)  # (..., seq_len_q, seq_len_k)\n",
        "  \n",
        "  # scale matmul_qk\n",
        "  dk = tf.cast(tf.shape(k)[-1], tf.float32)\n",
        "  scaled_attention_logits = matmul_qk / tf.math.sqrt(dk)\n",
        "\n",
        "  # add the mask to the scaled tensor.\n",
        "  if mask is not None:\n",
        "    scaled_attention_logits += (mask * -1e9)  \n",
        "\n",
        "  # softmax is normalized on the last axis (seq_len_k) so that the scores\n",
        "  # add up to 1.\n",
        "  attention_weights = tf.nn.softmax(scaled_attention_logits, axis=-1)  # (..., seq_len_q, seq_len_k)\n",
        "\n",
        "  output = tf.matmul(attention_weights, v)  # (..., seq_len_q, depth_v)\n",
        "\n",
        "  return output, attention_weights"
      ],
      "execution_count": 42,
      "outputs": []
    },
    {
      "cell_type": "markdown",
      "metadata": {
        "id": "FiqETnhCkoXh"
      },
      "source": [
        "As the softmax normalization is done on K, its values decide the amount of importance given to Q.\n",
        "\n",
        "The output represents the multiplication of the attention weights and the V (value) vector. This ensures that the words you want to focus on are kept as-is and the irrelevant words are flushed out."
      ]
    },
    {
      "cell_type": "code",
      "metadata": {
        "id": "n90YjClyInFy"
      },
      "source": [
        "def print_out(q, k, v):\n",
        "  temp_out, temp_attn = scaled_dot_product_attention(\n",
        "      q, k, v, None)\n",
        "  print ('Attention weights are:')\n",
        "  print (temp_attn)\n",
        "  print ('Output is:')\n",
        "  print (temp_out)"
      ],
      "execution_count": 43,
      "outputs": []
    },
    {
      "cell_type": "code",
      "metadata": {
        "id": "yAzUAf2DPlNt",
        "colab": {
          "base_uri": "https://localhost:8080/"
        },
        "outputId": "1deb74af-946e-4b3a-fca0-89ad83226ab3"
      },
      "source": [
        "np.set_printoptions(suppress=True)\n",
        "\n",
        "temp_k = tf.constant([[10,0,0],\n",
        "                      [0,10,0],\n",
        "                      [0,0,10],\n",
        "                      [0,0,10]], dtype=tf.float32)  # (4, 3)\n",
        "\n",
        "temp_v = tf.constant([[   1,0],\n",
        "                      [  10,0],\n",
        "                      [ 100,5],\n",
        "                      [1000,6]], dtype=tf.float32)  # (4, 2)\n",
        "\n",
        "# This `query` aligns with the second `key`,\n",
        "# so the second `value` is returned.\n",
        "temp_q = tf.constant([[0, 10, 0]], dtype=tf.float32)  # (1, 3)\n",
        "print_out(temp_q, temp_k, temp_v)"
      ],
      "execution_count": 44,
      "outputs": [
        {
          "output_type": "stream",
          "text": [
            "Attention weights are:\n",
            "tf.Tensor([[0. 1. 0. 0.]], shape=(1, 4), dtype=float32)\n",
            "Output is:\n",
            "tf.Tensor([[10.  0.]], shape=(1, 2), dtype=float32)\n"
          ],
          "name": "stdout"
        }
      ]
    },
    {
      "cell_type": "code",
      "metadata": {
        "id": "zg6k-fGhgXra",
        "colab": {
          "base_uri": "https://localhost:8080/"
        },
        "outputId": "95d67402-c18f-4318-f53f-dbad669fbf00"
      },
      "source": [
        "# This query aligns with a repeated key (third and fourth), \n",
        "# so all associated values get averaged.\n",
        "temp_q = tf.constant([[0, 0, 10]], dtype=tf.float32)  # (1, 3)\n",
        "print_out(temp_q, temp_k, temp_v)"
      ],
      "execution_count": 45,
      "outputs": [
        {
          "output_type": "stream",
          "text": [
            "Attention weights are:\n",
            "tf.Tensor([[0.  0.  0.5 0.5]], shape=(1, 4), dtype=float32)\n",
            "Output is:\n",
            "tf.Tensor([[550.    5.5]], shape=(1, 2), dtype=float32)\n"
          ],
          "name": "stdout"
        }
      ]
    },
    {
      "cell_type": "code",
      "metadata": {
        "id": "UAq3YOzUgXhb",
        "colab": {
          "base_uri": "https://localhost:8080/"
        },
        "outputId": "f31e77be-526f-4619-d987-1e31ba936505"
      },
      "source": [
        "# This query aligns equally with the first and second key, \n",
        "# so their values get averaged.\n",
        "temp_q = tf.constant([[10, 10, 0]], dtype=tf.float32)  # (1, 3)\n",
        "print_out(temp_q, temp_k, temp_v)"
      ],
      "execution_count": 46,
      "outputs": [
        {
          "output_type": "stream",
          "text": [
            "Attention weights are:\n",
            "tf.Tensor([[0.5 0.5 0.  0. ]], shape=(1, 4), dtype=float32)\n",
            "Output is:\n",
            "tf.Tensor([[5.5 0. ]], shape=(1, 2), dtype=float32)\n"
          ],
          "name": "stdout"
        }
      ]
    },
    {
      "cell_type": "markdown",
      "metadata": {
        "id": "aOz-4_XIhaTP"
      },
      "source": [
        "Pass all the queries together."
      ]
    },
    {
      "cell_type": "code",
      "metadata": {
        "id": "6dlU8Tm-hYrF",
        "colab": {
          "base_uri": "https://localhost:8080/"
        },
        "outputId": "6a31b134-80ee-437f-821a-eea88c796551"
      },
      "source": [
        "temp_q = tf.constant([[0, 0, 10], [0, 10, 0], [10, 10, 0]], dtype=tf.float32)  # (3, 3)\n",
        "print_out(temp_q, temp_k, temp_v)"
      ],
      "execution_count": 47,
      "outputs": [
        {
          "output_type": "stream",
          "text": [
            "Attention weights are:\n",
            "tf.Tensor(\n",
            "[[0.  0.  0.5 0.5]\n",
            " [0.  1.  0.  0. ]\n",
            " [0.5 0.5 0.  0. ]], shape=(3, 4), dtype=float32)\n",
            "Output is:\n",
            "tf.Tensor(\n",
            "[[550.    5.5]\n",
            " [ 10.    0. ]\n",
            " [  5.5   0. ]], shape=(3, 2), dtype=float32)\n"
          ],
          "name": "stdout"
        }
      ]
    },
    {
      "cell_type": "markdown",
      "metadata": {
        "id": "kmzGPEy64qmA"
      },
      "source": [
        "## Multi-head attention"
      ]
    },
    {
      "cell_type": "markdown",
      "metadata": {
        "id": "fz5BMC8Kaoqo"
      },
      "source": [
        "<img src=\"https://www.tensorflow.org/images/tutorials/transformer/multi_head_attention.png\" width=\"500\" alt=\"multi-head attention\">\n",
        "\n",
        "\n",
        "Multi-head attention consists of four parts:\n",
        "*    Linear layers and split into heads.\n",
        "*    Scaled dot-product attention.\n",
        "*    Concatenation of heads.\n",
        "*    Final linear layer."
      ]
    },
    {
      "cell_type": "markdown",
      "metadata": {
        "id": "JPmbr6F1C-v_"
      },
      "source": [
        "Each multi-head attention block gets three inputs; Q (query), K (key), V (value). These are put through linear (Dense) layers and split up into multiple heads. \n",
        "\n",
        "The `scaled_dot_product_attention` defined above is applied to each head (broadcasted for efficiency). An appropriate mask must be used in the attention step.  The attention output for each head is then concatenated (using `tf.transpose`, and `tf.reshape`) and put through a final `Dense` layer.\n",
        "\n",
        "Instead of one single attention head, Q, K, and V are split into multiple heads because it allows the model to jointly attend to information at different positions from different representational spaces. After the split each head has a reduced dimensionality, so the total computation cost is the same as a single head attention with full dimensionality."
      ]
    },
    {
      "cell_type": "code",
      "metadata": {
        "id": "BSV3PPKsYecw"
      },
      "source": [
        "class MultiHeadAttention(tf.keras.layers.Layer):\n",
        "  def __init__(self, d_model, num_heads):\n",
        "    super(MultiHeadAttention, self).__init__()\n",
        "    self.num_heads = num_heads\n",
        "    self.d_model = d_model\n",
        "    \n",
        "    assert d_model % self.num_heads == 0\n",
        "    \n",
        "    self.depth = d_model // self.num_heads\n",
        "    \n",
        "    self.wq = tf.keras.layers.Dense(d_model)\n",
        "    self.wk = tf.keras.layers.Dense(d_model)\n",
        "    self.wv = tf.keras.layers.Dense(d_model)\n",
        "    \n",
        "    self.dense = tf.keras.layers.Dense(d_model)\n",
        "        \n",
        "  def split_heads(self, x, batch_size):\n",
        "    \"\"\"Split the last dimension into (num_heads, depth).\n",
        "    Transpose the result such that the shape is (batch_size, num_heads, seq_len, depth)\n",
        "    \"\"\"\n",
        "    x = tf.reshape(x, (batch_size, -1, self.num_heads, self.depth))\n",
        "    return tf.transpose(x, perm=[0, 2, 1, 3])\n",
        "    \n",
        "  def call(self, v, k, q, mask):\n",
        "    batch_size = tf.shape(q)[0]\n",
        "    \n",
        "    q = self.wq(q)  # (batch_size, seq_len, d_model)\n",
        "    k = self.wk(k)  # (batch_size, seq_len, d_model)\n",
        "    v = self.wv(v)  # (batch_size, seq_len, d_model)\n",
        "    \n",
        "    q = self.split_heads(q, batch_size)  # (batch_size, num_heads, seq_len_q, depth)\n",
        "    k = self.split_heads(k, batch_size)  # (batch_size, num_heads, seq_len_k, depth)\n",
        "    v = self.split_heads(v, batch_size)  # (batch_size, num_heads, seq_len_v, depth)\n",
        "    \n",
        "    # scaled_attention.shape == (batch_size, num_heads, seq_len_q, depth)\n",
        "    # attention_weights.shape == (batch_size, num_heads, seq_len_q, seq_len_k)\n",
        "    scaled_attention, attention_weights = scaled_dot_product_attention(\n",
        "        q, k, v, mask)\n",
        "    \n",
        "    scaled_attention = tf.transpose(scaled_attention, perm=[0, 2, 1, 3])  # (batch_size, seq_len_q, num_heads, depth)\n",
        "\n",
        "    concat_attention = tf.reshape(scaled_attention, \n",
        "                                  (batch_size, -1, self.d_model))  # (batch_size, seq_len_q, d_model)\n",
        "\n",
        "    output = self.dense(concat_attention)  # (batch_size, seq_len_q, d_model)\n",
        "        \n",
        "    return output, attention_weights"
      ],
      "execution_count": 48,
      "outputs": []
    },
    {
      "cell_type": "markdown",
      "metadata": {
        "id": "0D8FJue5lDyZ"
      },
      "source": [
        "Create a `MultiHeadAttention` layer to try out. At each location in the sequence, `y`, the `MultiHeadAttention` runs all 8 attention heads across all other locations in the sequence, returning a new vector of the same length at each location."
      ]
    },
    {
      "cell_type": "code",
      "metadata": {
        "id": "Hu94p-_-2_BX",
        "colab": {
          "base_uri": "https://localhost:8080/"
        },
        "outputId": "3e55f37d-f76d-4dec-8a50-ff54eb11ac00"
      },
      "source": [
        "temp_mha = MultiHeadAttention(d_model=512, num_heads=8)\n",
        "y = tf.random.uniform((1, 60, 512))  # (batch_size, encoder_sequence, d_model)\n",
        "out, attn = temp_mha(y, k=y, q=y, mask=None)\n",
        "out.shape, attn.shape"
      ],
      "execution_count": 49,
      "outputs": [
        {
          "output_type": "execute_result",
          "data": {
            "text/plain": [
              "(TensorShape([1, 60, 512]), TensorShape([1, 8, 60, 60]))"
            ]
          },
          "metadata": {
            "tags": []
          },
          "execution_count": 49
        }
      ]
    },
    {
      "cell_type": "markdown",
      "metadata": {
        "id": "RdDqGayx67vv"
      },
      "source": [
        "## Point wise feed forward network"
      ]
    },
    {
      "cell_type": "markdown",
      "metadata": {
        "id": "gBqzJXGfHK3X"
      },
      "source": [
        "Point wise feed forward network consists of two fully-connected layers with a ReLU activation in between."
      ]
    },
    {
      "cell_type": "code",
      "metadata": {
        "id": "ET7xLt0yCT6Z"
      },
      "source": [
        "def point_wise_feed_forward_network(d_model, dff):\n",
        "  return tf.keras.Sequential([\n",
        "      tf.keras.layers.Dense(dff, activation='relu'),  # (batch_size, seq_len, dff)\n",
        "      tf.keras.layers.Dense(d_model)  # (batch_size, seq_len, d_model)\n",
        "  ])"
      ],
      "execution_count": 50,
      "outputs": []
    },
    {
      "cell_type": "code",
      "metadata": {
        "id": "mytb1lPyOHLB",
        "colab": {
          "base_uri": "https://localhost:8080/"
        },
        "outputId": "d7da5f8c-d3ad-4fe2-e7ee-971944c6c2f9"
      },
      "source": [
        "sample_ffn = point_wise_feed_forward_network(512, 2048)\n",
        "sample_ffn(tf.random.uniform((64, 50, 512))).shape"
      ],
      "execution_count": 51,
      "outputs": [
        {
          "output_type": "execute_result",
          "data": {
            "text/plain": [
              "TensorShape([64, 50, 512])"
            ]
          },
          "metadata": {
            "tags": []
          },
          "execution_count": 51
        }
      ]
    },
    {
      "cell_type": "markdown",
      "metadata": {
        "id": "7e7hKcxn6-zd"
      },
      "source": [
        "## Encoder and decoder"
      ]
    },
    {
      "cell_type": "markdown",
      "metadata": {
        "id": "yScbC0MUH8dS"
      },
      "source": [
        "<img src=\"https://www.tensorflow.org/images/tutorials/transformer/transformer.png\" width=\"600\" alt=\"transformer\">"
      ]
    },
    {
      "cell_type": "markdown",
      "metadata": {
        "id": "MfYJG-Kvgwy2"
      },
      "source": [
        "The transformer model follows the same general pattern as a standard [sequence to sequence with attention model](nmt_with_attention.ipynb). \n",
        "\n",
        "* The input sentence is passed through `N` encoder layers that generates an output for each word/token in the sequence.\n",
        "* The decoder attends on the encoder's output and its own input (self-attention) to predict the next word. "
      ]
    },
    {
      "cell_type": "markdown",
      "metadata": {
        "id": "QFv-FNYUmvpn"
      },
      "source": [
        "### Encoder layer\n",
        "\n",
        "Each encoder layer consists of sublayers:\n",
        "\n",
        "1.   Multi-head attention (with padding mask) \n",
        "2.    Point wise feed forward networks. \n",
        "\n",
        "Each of these sublayers has a residual connection around it followed by a layer normalization. Residual connections help in avoiding the vanishing gradient problem in deep networks.\n",
        "\n",
        "The output of each sublayer is `LayerNorm(x + Sublayer(x))`. The normalization is done on the `d_model` (last) axis. There are N encoder layers in the transformer."
      ]
    },
    {
      "cell_type": "code",
      "metadata": {
        "id": "ncyS-Ms3i2x_"
      },
      "source": [
        "class EncoderLayer(tf.keras.layers.Layer):\n",
        "  def __init__(self, d_model, num_heads, dff, rate=0.1):\n",
        "    super(EncoderLayer, self).__init__()\n",
        "\n",
        "    self.mha = MultiHeadAttention(d_model, num_heads)\n",
        "    self.ffn = point_wise_feed_forward_network(d_model, dff)\n",
        "\n",
        "    self.layernorm1 = tf.keras.layers.LayerNormalization(epsilon=1e-6)\n",
        "    self.layernorm2 = tf.keras.layers.LayerNormalization(epsilon=1e-6)\n",
        "    \n",
        "    self.dropout1 = tf.keras.layers.Dropout(rate)\n",
        "    self.dropout2 = tf.keras.layers.Dropout(rate)\n",
        "    \n",
        "  def call(self, x, training, mask):\n",
        "\n",
        "    attn_output, _ = self.mha(x, x, x, mask)  # (batch_size, input_seq_len, d_model)\n",
        "    attn_output = self.dropout1(attn_output, training=training)\n",
        "    out1 = self.layernorm1(x + attn_output)  # (batch_size, input_seq_len, d_model)\n",
        "    \n",
        "    ffn_output = self.ffn(out1)  # (batch_size, input_seq_len, d_model)\n",
        "    ffn_output = self.dropout2(ffn_output, training=training)\n",
        "    out2 = self.layernorm2(out1 + ffn_output)  # (batch_size, input_seq_len, d_model)\n",
        "    \n",
        "    return out2"
      ],
      "execution_count": 52,
      "outputs": []
    },
    {
      "cell_type": "code",
      "metadata": {
        "id": "AzZRXdO0mI48",
        "colab": {
          "base_uri": "https://localhost:8080/"
        },
        "outputId": "90ea8717-57f6-4afd-9a01-0013a159df3a"
      },
      "source": [
        "sample_encoder_layer = EncoderLayer(512, 8, 2048)\n",
        "\n",
        "sample_encoder_layer_output = sample_encoder_layer(\n",
        "    tf.random.uniform((64, 43, 512)), False, None)\n",
        "\n",
        "sample_encoder_layer_output.shape  # (batch_size, input_seq_len, d_model)"
      ],
      "execution_count": 53,
      "outputs": [
        {
          "output_type": "execute_result",
          "data": {
            "text/plain": [
              "TensorShape([64, 43, 512])"
            ]
          },
          "metadata": {
            "tags": []
          },
          "execution_count": 53
        }
      ]
    },
    {
      "cell_type": "markdown",
      "metadata": {
        "id": "6LO_48Owmx_o"
      },
      "source": [
        "### Decoder layer\n",
        "\n",
        "Each decoder layer consists of sublayers:\n",
        "\n",
        "1.   Masked multi-head attention (with look ahead mask and padding mask)\n",
        "2.   Multi-head attention (with padding mask). V (value) and K (key) receive the *encoder output* as inputs. Q (query) receives the *output from the masked multi-head attention sublayer.*\n",
        "3.   Point wise feed forward networks\n",
        "\n",
        "Each of these sublayers has a residual connection around it followed by a layer normalization. The output of each sublayer is `LayerNorm(x + Sublayer(x))`. The normalization is done on the `d_model` (last) axis.\n",
        "\n",
        "There are N decoder layers in the transformer.\n",
        "\n",
        "As Q receives the output from decoder's first attention block, and K receives the encoder output, the attention weights represent the importance given to the decoder's input based on the encoder's output. In other words, the decoder predicts the next word by looking at the encoder output and self-attending to its own output. See the demonstration above in the scaled dot product attention section."
      ]
    },
    {
      "cell_type": "code",
      "metadata": {
        "id": "9SoX0-vd1hue"
      },
      "source": [
        "class DecoderLayer(tf.keras.layers.Layer):\n",
        "  def __init__(self, d_model, num_heads, dff, rate=0.1):\n",
        "    super(DecoderLayer, self).__init__()\n",
        "\n",
        "    self.mha1 = MultiHeadAttention(d_model, num_heads)\n",
        "    self.mha2 = MultiHeadAttention(d_model, num_heads)\n",
        "\n",
        "    self.ffn = point_wise_feed_forward_network(d_model, dff)\n",
        " \n",
        "    self.layernorm1 = tf.keras.layers.LayerNormalization(epsilon=1e-6)\n",
        "    self.layernorm2 = tf.keras.layers.LayerNormalization(epsilon=1e-6)\n",
        "    self.layernorm3 = tf.keras.layers.LayerNormalization(epsilon=1e-6)\n",
        "    \n",
        "    self.dropout1 = tf.keras.layers.Dropout(rate)\n",
        "    self.dropout2 = tf.keras.layers.Dropout(rate)\n",
        "    self.dropout3 = tf.keras.layers.Dropout(rate)\n",
        "    \n",
        "    \n",
        "  def call(self, x, enc_output, training, \n",
        "           look_ahead_mask, padding_mask):\n",
        "    # enc_output.shape == (batch_size, input_seq_len, d_model)\n",
        "\n",
        "    attn1, attn_weights_block1 = self.mha1(x, x, x, look_ahead_mask)  # (batch_size, target_seq_len, d_model)\n",
        "    attn1 = self.dropout1(attn1, training=training)\n",
        "    out1 = self.layernorm1(attn1 + x)\n",
        "    \n",
        "    attn2, attn_weights_block2 = self.mha2(\n",
        "        enc_output, enc_output, out1, padding_mask)  # (batch_size, target_seq_len, d_model)\n",
        "    attn2 = self.dropout2(attn2, training=training)\n",
        "    out2 = self.layernorm2(attn2 + out1)  # (batch_size, target_seq_len, d_model)\n",
        "    \n",
        "    ffn_output = self.ffn(out2)  # (batch_size, target_seq_len, d_model)\n",
        "    ffn_output = self.dropout3(ffn_output, training=training)\n",
        "    out3 = self.layernorm3(ffn_output + out2)  # (batch_size, target_seq_len, d_model)\n",
        "    \n",
        "    return out3, attn_weights_block1, attn_weights_block2"
      ],
      "execution_count": 54,
      "outputs": []
    },
    {
      "cell_type": "code",
      "metadata": {
        "id": "Ne2Bqx8k71l0",
        "colab": {
          "base_uri": "https://localhost:8080/"
        },
        "outputId": "380212a8-fde4-4e1b-ed0c-63fbd86d8546"
      },
      "source": [
        "sample_decoder_layer = DecoderLayer(512, 8, 2048)\n",
        "\n",
        "sample_decoder_layer_output, _, _ = sample_decoder_layer(\n",
        "    tf.random.uniform((64, 50, 512)), sample_encoder_layer_output, \n",
        "    False, None, None)\n",
        "\n",
        "sample_decoder_layer_output.shape  # (batch_size, target_seq_len, d_model)"
      ],
      "execution_count": 55,
      "outputs": [
        {
          "output_type": "execute_result",
          "data": {
            "text/plain": [
              "TensorShape([64, 50, 512])"
            ]
          },
          "metadata": {
            "tags": []
          },
          "execution_count": 55
        }
      ]
    },
    {
      "cell_type": "markdown",
      "metadata": {
        "id": "SE1H51Ajm0q1"
      },
      "source": [
        "### Encoder\n",
        "\n",
        "The `Encoder` consists of:\n",
        "1.   Input Embedding\n",
        "2.   Positional Encoding\n",
        "3.   N encoder layers\n",
        "\n",
        "The input is put through an embedding which is summed with the positional encoding. The output of this summation is the input to the encoder layers. The output of the encoder is the input to the decoder."
      ]
    },
    {
      "cell_type": "code",
      "metadata": {
        "id": "jpEox7gJ8FCI"
      },
      "source": [
        "class Encoder(tf.keras.layers.Layer):\n",
        "  def __init__(self, num_layers, d_model, num_heads, dff, input_vocab_size,\n",
        "               maximum_position_encoding, rate=0.1):\n",
        "    super(Encoder, self).__init__()\n",
        "\n",
        "    self.d_model = d_model\n",
        "    self.num_layers = num_layers\n",
        "    \n",
        "    print(f'Port Encoder::init input_vocab_size={input_vocab_size}, d_model={d_model}')\n",
        "    self.embedding = tf.keras.layers.Embedding(input_vocab_size, d_model)\n",
        "    self.pos_encoding = positional_encoding(maximum_position_encoding, \n",
        "                                            self.d_model)\n",
        "    \n",
        "    \n",
        "    self.enc_layers = [EncoderLayer(d_model, num_heads, dff, rate) \n",
        "                       for _ in range(num_layers)]\n",
        "  \n",
        "    self.dropout = tf.keras.layers.Dropout(rate)\n",
        "        \n",
        "  def call(self, x, training, mask):\n",
        "\n",
        "    seq_len = tf.shape(x)[1]\n",
        "    \n",
        "    # adding embedding and position encoding.\n",
        "    x = self.embedding(x)  # (batch_size, input_seq_len, d_model)\n",
        "\n",
        "    x *= tf.math.sqrt(tf.cast(self.d_model, tf.float32))\n",
        "    x += self.pos_encoding[:, :seq_len, :]\n",
        "\n",
        "    x = self.dropout(x, training=training)\n",
        "    \n",
        "    for i in range(self.num_layers):\n",
        "      x = self.enc_layers[i](x, training, mask)\n",
        "    \n",
        "    return x  # (batch_size, input_seq_len, d_model)"
      ],
      "execution_count": 56,
      "outputs": []
    },
    {
      "cell_type": "code",
      "metadata": {
        "id": "8QG9nueFQKXx",
        "colab": {
          "base_uri": "https://localhost:8080/"
        },
        "outputId": "e863b3ad-0b00-4b9d-fa0d-0a63f979ebc7"
      },
      "source": [
        "sample_encoder = Encoder(num_layers=2, d_model=512, num_heads=8, \n",
        "                         dff=2048, input_vocab_size=8500,\n",
        "                         maximum_position_encoding=10000)\n",
        "temp_input = tf.random.uniform((64, 62), dtype=tf.int64, minval=0, maxval=200)\n",
        "\n",
        "sample_encoder_output = sample_encoder(temp_input, training=False, mask=None)\n",
        "\n",
        "print (sample_encoder_output.shape)  # (batch_size, input_seq_len, d_model)"
      ],
      "execution_count": 57,
      "outputs": [
        {
          "output_type": "stream",
          "text": [
            "Port Encoder::init input_vocab_size=8500, d_model=512\n",
            "(64, 62, 512)\n"
          ],
          "name": "stdout"
        }
      ]
    },
    {
      "cell_type": "markdown",
      "metadata": {
        "id": "p-uO6ls8m2O5"
      },
      "source": [
        "### Decoder"
      ]
    },
    {
      "cell_type": "markdown",
      "metadata": {
        "id": "ZtT7PKzrXkNr"
      },
      "source": [
        " The `Decoder` consists of:\n",
        "1.   Output Embedding\n",
        "2.   Positional Encoding\n",
        "3.   N decoder layers\n",
        "\n",
        "The target is put through an embedding which is summed with the positional encoding. The output of this summation is the input to the decoder layers. The output of the decoder is the input to the final linear layer."
      ]
    },
    {
      "cell_type": "code",
      "metadata": {
        "id": "d5_d5-PLQXwY"
      },
      "source": [
        "class Decoder(tf.keras.layers.Layer):\n",
        "  def __init__(self, num_layers, d_model, num_heads, dff, target_vocab_size,\n",
        "               maximum_position_encoding, rate=0.1):\n",
        "    super(Decoder, self).__init__()\n",
        "\n",
        "    self.d_model = d_model\n",
        "    self.num_layers = num_layers\n",
        "    \n",
        "    self.embedding = tf.keras.layers.Embedding(target_vocab_size, d_model)\n",
        "    self.pos_encoding = positional_encoding(maximum_position_encoding, d_model)\n",
        "    \n",
        "    self.dec_layers = [DecoderLayer(d_model, num_heads, dff, rate) \n",
        "                       for _ in range(num_layers)]\n",
        "    self.dropout = tf.keras.layers.Dropout(rate)\n",
        "    \n",
        "  def call(self, x, enc_output, training, \n",
        "           look_ahead_mask, padding_mask):\n",
        "\n",
        "    seq_len = tf.shape(x)[1]\n",
        "    attention_weights = {}\n",
        "    \n",
        "    x = self.embedding(x)  # (batch_size, target_seq_len, d_model)\n",
        "    x *= tf.math.sqrt(tf.cast(self.d_model, tf.float32))\n",
        "    x += self.pos_encoding[:, :seq_len, :]\n",
        "    \n",
        "    x = self.dropout(x, training=training)\n",
        "\n",
        "    for i in range(self.num_layers):\n",
        "      x, block1, block2 = self.dec_layers[i](x, enc_output, training,\n",
        "                                             look_ahead_mask, padding_mask)\n",
        "      \n",
        "      attention_weights['decoder_layer{}_block1'.format(i+1)] = block1\n",
        "      attention_weights['decoder_layer{}_block2'.format(i+1)] = block2\n",
        "    \n",
        "    # x.shape == (batch_size, target_seq_len, d_model)\n",
        "    return x, attention_weights"
      ],
      "execution_count": 58,
      "outputs": []
    },
    {
      "cell_type": "code",
      "metadata": {
        "id": "a1jXoAMRZyvu",
        "colab": {
          "base_uri": "https://localhost:8080/"
        },
        "outputId": "3c0db599-890b-425f-9f76-e4249c7abcc0"
      },
      "source": [
        "sample_decoder = Decoder(num_layers=2, d_model=512, num_heads=8, \n",
        "                         dff=2048, target_vocab_size=8000,\n",
        "                         maximum_position_encoding=5000)\n",
        "temp_input = tf.random.uniform((64, 26), dtype=tf.int64, minval=0, maxval=200)\n",
        "\n",
        "output, attn = sample_decoder(temp_input, \n",
        "                              enc_output=sample_encoder_output, \n",
        "                              training=False,\n",
        "                              look_ahead_mask=None, \n",
        "                              padding_mask=None)\n",
        "\n",
        "output.shape, attn['decoder_layer2_block2'].shape"
      ],
      "execution_count": 59,
      "outputs": [
        {
          "output_type": "execute_result",
          "data": {
            "text/plain": [
              "(TensorShape([64, 26, 512]), TensorShape([64, 8, 26, 62]))"
            ]
          },
          "metadata": {
            "tags": []
          },
          "execution_count": 59
        }
      ]
    },
    {
      "cell_type": "markdown",
      "metadata": {
        "id": "y54xnJnuYgJ7"
      },
      "source": [
        "## Create the Transformer"
      ]
    },
    {
      "cell_type": "markdown",
      "metadata": {
        "id": "uERO1y54cOKq"
      },
      "source": [
        "Transformer consists of the encoder, decoder and a final linear layer. The output of the decoder is the input to the linear layer and its output is returned."
      ]
    },
    {
      "cell_type": "code",
      "metadata": {
        "id": "PED3bIpOYkBu"
      },
      "source": [
        "class Transformer(tf.keras.Model):\n",
        "  def __init__(self, num_layers, d_model, num_heads, dff, input_vocab_size, \n",
        "               target_vocab_size, pe_input, pe_target, rate=0.1):\n",
        "    super(Transformer, self).__init__()\n",
        "\n",
        "    self.tokenizer = Encoder(num_layers, d_model, num_heads, dff, \n",
        "                           input_vocab_size, pe_input, rate)\n",
        "\n",
        "    self.decoder = Decoder(num_layers, d_model, num_heads, dff, \n",
        "                           target_vocab_size, pe_target, rate)\n",
        "\n",
        "    self.final_layer = tf.keras.layers.Dense(target_vocab_size)\n",
        "    \n",
        "  def call(self, inp, tar, training, enc_padding_mask, \n",
        "           look_ahead_mask, dec_padding_mask):\n",
        "\n",
        "    enc_output = self.tokenizer(inp, training, enc_padding_mask)  # (batch_size, inp_seq_len, d_model)\n",
        "    \n",
        "    # dec_output.shape == (batch_size, tar_seq_len, d_model)\n",
        "    dec_output, attention_weights = self.decoder(\n",
        "        tar, enc_output, training, look_ahead_mask, dec_padding_mask)\n",
        "    \n",
        "    final_output = self.final_layer(dec_output)  # (batch_size, tar_seq_len, target_vocab_size)\n",
        "    \n",
        "    return final_output, attention_weights"
      ],
      "execution_count": 60,
      "outputs": []
    },
    {
      "cell_type": "code",
      "metadata": {
        "id": "tJ4fbQcIkHW1",
        "colab": {
          "base_uri": "https://localhost:8080/"
        },
        "outputId": "2c1cac64-a903-4e85-c12c-03ffb2e76180"
      },
      "source": [
        "sample_transformer = Transformer(\n",
        "    num_layers=2, d_model=512, num_heads=8, dff=2048, \n",
        "    input_vocab_size=29900, target_vocab_size=16000, \n",
        "    pe_input=10000, pe_target=6000)\n",
        "\n",
        "temp_input = tf.random.uniform((64, 38), dtype=tf.int64, minval=0, maxval=200)\n",
        "temp_target = tf.random.uniform((64, 36), dtype=tf.int64, minval=0, maxval=200)\n",
        "\n",
        "fn_out, _ = sample_transformer(temp_input, temp_target, training=False, \n",
        "                               enc_padding_mask=None, \n",
        "                               look_ahead_mask=None,\n",
        "                               dec_padding_mask=None)\n",
        "\n",
        "fn_out.shape  # (batch_size, tar_seq_len, target_vocab_size)"
      ],
      "execution_count": 61,
      "outputs": [
        {
          "output_type": "stream",
          "text": [
            "Port Encoder::init input_vocab_size=29900, d_model=512\n"
          ],
          "name": "stdout"
        },
        {
          "output_type": "execute_result",
          "data": {
            "text/plain": [
              "TensorShape([64, 36, 16000])"
            ]
          },
          "metadata": {
            "tags": []
          },
          "execution_count": 61
        }
      ]
    },
    {
      "cell_type": "markdown",
      "metadata": {
        "id": "wsINyf1VEQLC"
      },
      "source": [
        "## Set hyperparameters"
      ]
    },
    {
      "cell_type": "markdown",
      "metadata": {
        "id": "zVjWCxFNcgbt"
      },
      "source": [
        "To keep this example small and relatively fast, the values for *num_layers, d_model, and dff* have been reduced. \n",
        "\n",
        "The values used in the base model of transformer were; *num_layers=6*, *d_model = 512*, *dff = 2048*. See the [paper](https://arxiv.org/abs/1706.03762) for all the other versions of the transformer.\n",
        "\n",
        "Note: By changing the values below, you can get the model that achieved state of the art on many tasks."
      ]
    },
    {
      "cell_type": "code",
      "metadata": {
        "id": "lnJn5SLA2ahP"
      },
      "source": [
        "num_layers = 4\n",
        "d_model = 128\n",
        "dff = 512\n",
        "num_heads = 8\n",
        "dropout_rate = 0.1"
      ],
      "execution_count": 62,
      "outputs": []
    },
    {
      "cell_type": "markdown",
      "metadata": {
        "id": "xYEGhEOtzn5W"
      },
      "source": [
        "## Optimizer"
      ]
    },
    {
      "cell_type": "markdown",
      "metadata": {
        "id": "GOmWW--yP3zx"
      },
      "source": [
        "Use the Adam optimizer with a custom learning rate scheduler according to the formula in the [paper](https://arxiv.org/abs/1706.03762).\n",
        "\n",
        "$$\\Large{lrate = d_{model}^{-0.5} * min(step{\\_}num^{-0.5}, step{\\_}num * warmup{\\_}steps^{-1.5})}$$\n"
      ]
    },
    {
      "cell_type": "code",
      "metadata": {
        "id": "iYQdOO1axwEI"
      },
      "source": [
        "class CustomSchedule(tf.keras.optimizers.schedules.LearningRateSchedule):\n",
        "  def __init__(self, d_model, warmup_steps=4000):\n",
        "    super(CustomSchedule, self).__init__()\n",
        "    \n",
        "    self.d_model = d_model\n",
        "    self.d_model = tf.cast(self.d_model, tf.float32)\n",
        "\n",
        "    self.warmup_steps = warmup_steps\n",
        "    \n",
        "  def __call__(self, step):\n",
        "    arg1 = tf.math.rsqrt(step)\n",
        "    arg2 = step * (self.warmup_steps ** -1.5)\n",
        "    \n",
        "    return tf.math.rsqrt(self.d_model) * tf.math.minimum(arg1, arg2)"
      ],
      "execution_count": 63,
      "outputs": []
    },
    {
      "cell_type": "code",
      "metadata": {
        "id": "7r4scdulztRx"
      },
      "source": [
        "learning_rate = CustomSchedule(d_model)\n",
        "\n",
        "optimizer = tf.keras.optimizers.Adam(learning_rate, beta_1=0.9, beta_2=0.98, \n",
        "                                     epsilon=1e-9)"
      ],
      "execution_count": 64,
      "outputs": []
    },
    {
      "cell_type": "code",
      "metadata": {
        "id": "f33ZCgvHpPdG",
        "colab": {
          "base_uri": "https://localhost:8080/",
          "height": 296
        },
        "outputId": "fe4b97f7-1d7e-4faf-d3ab-d517eead1ba0"
      },
      "source": [
        "temp_learning_rate_schedule = CustomSchedule(d_model)\n",
        "\n",
        "plt.plot(temp_learning_rate_schedule(tf.range(40000, dtype=tf.float32)))\n",
        "plt.ylabel(\"Learning Rate\")\n",
        "plt.xlabel(\"Train Step\")"
      ],
      "execution_count": 65,
      "outputs": [
        {
          "output_type": "execute_result",
          "data": {
            "text/plain": [
              "Text(0.5, 0, 'Train Step')"
            ]
          },
          "metadata": {
            "tags": []
          },
          "execution_count": 65
        },
        {
          "output_type": "display_data",
          "data": {
            "image/png": "[encoded data removed]",
            "text/plain": [
              "<Figure size 432x288 with 1 Axes>"
            ]
          },
          "metadata": {
            "tags": [],
            "needs_background": "light"
          }
        }
      ]
    },
    {
      "cell_type": "markdown",
      "metadata": {
        "id": "YgkDE7hzo8r5"
      },
      "source": [
        "## Loss and metrics"
      ]
    },
    {
      "cell_type": "markdown",
      "metadata": {
        "id": "oxGJtoDuYIHL"
      },
      "source": [
        "Since the target sequences are padded, it is important to apply a padding mask when calculating the loss."
      ]
    },
    {
      "cell_type": "code",
      "metadata": {
        "id": "MlhsJMm0TW_B"
      },
      "source": [
        "loss_object = tf.keras.losses.SparseCategoricalCrossentropy(\n",
        "    from_logits=True, reduction='none')"
      ],
      "execution_count": 66,
      "outputs": []
    },
    {
      "cell_type": "code",
      "metadata": {
        "id": "67oqVHiT0Eiu"
      },
      "source": [
        "def loss_function(real, pred):\n",
        "  mask = tf.math.logical_not(tf.math.equal(real, 0))\n",
        "  loss_ = loss_object(real, pred)\n",
        "\n",
        "  mask = tf.cast(mask, dtype=loss_.dtype)\n",
        "  loss_ *= mask\n",
        "  \n",
        "  return tf.reduce_sum(loss_)/tf.reduce_sum(mask)\n",
        "\n",
        "\n",
        "def accuracy_function(real, pred):\n",
        "  accuracies = tf.equal(real, tf.argmax(pred, axis=2))\n",
        "  \n",
        "  mask = tf.math.logical_not(tf.math.equal(real, 0))\n",
        "  accuracies = tf.math.logical_and(mask, accuracies)\n",
        "\n",
        "  accuracies = tf.cast(accuracies, dtype=tf.float32)\n",
        "  mask = tf.cast(mask, dtype=tf.float32)\n",
        "  return tf.reduce_sum(accuracies)/tf.reduce_sum(mask)"
      ],
      "execution_count": 67,
      "outputs": []
    },
    {
      "cell_type": "code",
      "metadata": {
        "id": "phlyxMnm-Tpx"
      },
      "source": [
        "train_loss = tf.keras.metrics.Mean(name='train_loss')\n",
        "train_accuracy = tf.keras.metrics.Mean(name='train_accuracy')"
      ],
      "execution_count": 68,
      "outputs": []
    },
    {
      "cell_type": "markdown",
      "metadata": {
        "id": "aeHumfr7zmMa"
      },
      "source": [
        "## Training and checkpointing"
      ]
    },
    {
      "cell_type": "code",
      "metadata": {
        "id": "UiysUa--4tOU",
        "colab": {
          "base_uri": "https://localhost:8080/"
        },
        "outputId": "be59ccc8-e2ff-4538-e92d-37752750436b"
      },
      "source": [
        "transformer = Transformer(\n",
        "    num_layers=num_layers,\n",
        "    d_model=d_model,\n",
        "    num_heads=num_heads,\n",
        "    dff=dff,\n",
        "    input_vocab_size=tokenizers.ru.get_vocab_size(),\n",
        "    target_vocab_size=tokenizers.en.get_vocab_size(), \n",
        "    pe_input=1000, \n",
        "    pe_target=1000,\n",
        "    rate=dropout_rate)"
      ],
      "execution_count": 69,
      "outputs": [
        {
          "output_type": "stream",
          "text": [
            "Port Encoder::init input_vocab_size=29970, d_model=128\n"
          ],
          "name": "stdout"
        }
      ]
    },
    {
      "cell_type": "code",
      "metadata": {
        "id": "ZOJUSB1T8GjM"
      },
      "source": [
        "def create_masks(inp, tar):\n",
        "  # Encoder padding mask\n",
        "  enc_padding_mask = create_padding_mask(inp)\n",
        "  \n",
        "  # Used in the 2nd attention block in the decoder.\n",
        "  # This padding mask is used to mask the encoder outputs.\n",
        "  dec_padding_mask = create_padding_mask(inp)\n",
        "  \n",
        "  # Used in the 1st attention block in the decoder.\n",
        "  # It is used to pad and mask future tokens in the input received by \n",
        "  # the decoder.\n",
        "  look_ahead_mask = create_look_ahead_mask(tf.shape(tar)[1])\n",
        "  dec_target_padding_mask = create_padding_mask(tar)\n",
        "  combined_mask = tf.maximum(dec_target_padding_mask, look_ahead_mask)\n",
        "  \n",
        "  return enc_padding_mask, combined_mask, dec_padding_mask"
      ],
      "execution_count": 70,
      "outputs": []
    },
    {
      "cell_type": "markdown",
      "metadata": {
        "id": "Fzuf06YZp66w"
      },
      "source": [
        "Create the checkpoint path and the checkpoint manager. This will be used to save checkpoints every `n` epochs."
      ]
    },
    {
      "cell_type": "code",
      "metadata": {
        "id": "hNhuYfllndLZ"
      },
      "source": [
        "checkpoint_path = BASE_MODEL_PATH\n",
        "\n",
        "ckpt = tf.train.Checkpoint(transformer=transformer,\n",
        "                           optimizer=optimizer)\n",
        "\n",
        "ckpt_manager = tf.train.CheckpointManager(ckpt, checkpoint_path, max_to_keep=2)\n",
        "\n",
        "model_already_built = False\n",
        "\n",
        "# if a checkpoint exists, restore the latest checkpoint.\n",
        "if ckpt_manager.latest_checkpoint:\n",
        "  ckpt.restore(ckpt_manager.latest_checkpoint)\n",
        "  print ('Latest checkpoint restored!!')\n",
        "  model_already_built = True"
      ],
      "execution_count": 71,
      "outputs": []
    },
    {
      "cell_type": "markdown",
      "metadata": {
        "id": "0Di_Yaa1gf9r"
      },
      "source": [
        "The target is divided into tar_inp and tar_real. tar_inp is passed as an input to the decoder. `tar_real` is that same input shifted by 1: At each location in `tar_input`, `tar_real` contains the  next token that should be predicted.\n",
        "\n",
        "For example, `sentence` = \"SOS A lion in the jungle is sleeping EOS\"\n",
        "\n",
        "`tar_inp` =  \"SOS A lion in the jungle is sleeping\"\n",
        "\n",
        "`tar_real` = \"A lion in the jungle is sleeping EOS\"\n",
        "\n",
        "The transformer is an auto-regressive model: it makes predictions one part at a time, and uses its output so far to decide what to do next. \n",
        "\n",
        "During training this example uses teacher-forcing (like in the [text generation tutorial](./text_generation.ipynb)). Teacher forcing is passing the true output to the next time step regardless of what the model predicts at the current time step.\n",
        "\n",
        "As the transformer predicts each word, *self-attention* allows it to look at the previous words in the input sequence to better predict the next word.\n",
        "\n",
        "To prevent the model from peeking at the expected output the model uses a look-ahead mask."
      ]
    },
    {
      "cell_type": "code",
      "metadata": {
        "id": "LKpoA6q1sJFj"
      },
      "source": [
        "EPOCHS = 20"
      ],
      "execution_count": 72,
      "outputs": []
    },
    {
      "cell_type": "code",
      "metadata": {
        "id": "iJwmp9OE29oj"
      },
      "source": [
        "# The @tf.function trace-compiles train_step into a TF graph for faster\n",
        "# execution. The function specializes to the precise shape of the argument\n",
        "# tensors. To avoid re-tracing due to the variable sequence lengths or variable\n",
        "# batch sizes (the last batch is smaller), use input_signature to specify\n",
        "# more generic shapes.\n",
        "\n",
        "train_step_signature = [\n",
        "    tf.TensorSpec(shape=(None, None), dtype=tf.int64),\n",
        "    tf.TensorSpec(shape=(None, None), dtype=tf.int64),\n",
        "]\n",
        "\n",
        "@tf.function(input_signature=train_step_signature)\n",
        "def train_step(inp, tar):\n",
        "  tar_inp = tar[:, :-1]\n",
        "  tar_real = tar[:, 1:]\n",
        "  \n",
        "  enc_padding_mask, combined_mask, dec_padding_mask = create_masks(inp, tar_inp)\n",
        "  \n",
        "  with tf.GradientTape() as tape:\n",
        "    predictions, _ = transformer(inp, tar_inp, \n",
        "                                 True, \n",
        "                                 enc_padding_mask, \n",
        "                                 combined_mask, \n",
        "                                 dec_padding_mask)\n",
        "    loss = loss_function(tar_real, predictions)\n",
        "\n",
        "  gradients = tape.gradient(loss, transformer.trainable_variables)    \n",
        "  optimizer.apply_gradients(zip(gradients, transformer.trainable_variables))\n",
        "  \n",
        "  train_loss(loss)\n",
        "  train_accuracy(accuracy_function(tar_real, predictions))"
      ],
      "execution_count": 73,
      "outputs": []
    },
    {
      "cell_type": "markdown",
      "metadata": {
        "id": "qM2PDWGDJ_8V"
      },
      "source": [
        "Portuguese is used as the input language and English is the target language."
      ]
    },
    {
      "cell_type": "code",
      "metadata": {
        "id": "l6_nfW4BlGYm"
      },
      "source": [
        "def train_model(epochs, train_batches, train_loss, train_accuracy, ckpt_manager):\n",
        "  for epoch in range(epochs):\n",
        "    start = time.time()\n",
        "    \n",
        "    train_loss.reset_states()\n",
        "    train_accuracy.reset_states()\n",
        "    \n",
        "    # inp -> portuguese, tar -> english\n",
        "    batch_start = time.time()\n",
        "    for (batch, (inp, tar)) in enumerate(train_batches):\n",
        "        \n",
        "      train_step(inp, tar)\n",
        "      \n",
        "      if batch % 50 == 0:\n",
        "        print(f'Epoch {epoch + 1} Batch {batch} Loss {train_loss.result():.4f} Accuracy {train_accuracy.result():.4f} with time taken {time.time() - batch_start:.2f} secs')\n",
        "        batch_start = time.time()\n",
        "\n",
        "    #if (epoch + 1) % 5 == 0:\n",
        "    ckpt_save_path = ckpt_manager.save()\n",
        "    print (f'Saving checkpoint for epoch {epoch+1} at {ckpt_save_path}')\n",
        "      \n",
        "    print(f'Epoch {epoch + 1} Loss {train_loss.result():.4f} Accuracy {train_accuracy.result():.4f}')\n",
        "\n",
        "    print(f'Time taken for 1 epoch: {time.time() - start:.2f} secs\\n')"
      ],
      "execution_count": 74,
      "outputs": []
    },
    {
      "cell_type": "code",
      "metadata": {
        "colab": {
          "base_uri": "https://localhost:8080/"
        },
        "id": "r0OnGd5YlG1R",
        "outputId": "79c78283-7e4b-4781-90c6-e4d0254bc841"
      },
      "source": [
        "if not model_already_built:\n",
        "  train_model(EPOCHS, train_batches, train_loss, train_accuracy, ckpt_manager)"
      ],
      "execution_count": 75,
      "outputs": [
        {
          "output_type": "stream",
          "text": [
            "Epoch 1 Batch 0 Loss 9.7155 Accuracy 0.0000 with time taken 14.90 secs\n",
            "Epoch 1 Batch 50 Loss 9.6599 Accuracy 0.0026 with time taken 4.64 secs\n",
            "Epoch 1 Batch 100 Loss 9.5676 Accuracy 0.0235 with time taken 4.43 secs\n",
            "Epoch 1 Batch 150 Loss 9.4477 Accuracy 0.0324 with time taken 4.47 secs\n",
            "Epoch 1 Batch 200 Loss 9.2898 Accuracy 0.0367 with time taken 4.42 secs\n",
            "Epoch 1 Batch 250 Loss 9.0959 Accuracy 0.0396 with time taken 4.49 secs\n",
            "Epoch 1 Batch 300 Loss 8.8744 Accuracy 0.0434 with time taken 4.51 secs\n",
            "Epoch 1 Batch 350 Loss 8.6338 Accuracy 0.0495 with time taken 4.55 secs\n",
            "Epoch 1 Batch 400 Loss 8.3959 Accuracy 0.0546 with time taken 4.57 secs\n",
            "Epoch 1 Batch 450 Loss 8.1757 Accuracy 0.0596 with time taken 4.54 secs\n",
            "Epoch 1 Batch 500 Loss 7.9833 Accuracy 0.0661 with time taken 4.47 secs\n",
            "Epoch 1 Batch 550 Loss 7.8124 Accuracy 0.0736 with time taken 4.51 secs\n",
            "Epoch 1 Batch 600 Loss 7.6549 Accuracy 0.0813 with time taken 4.59 secs\n",
            "Epoch 1 Batch 650 Loss 7.5104 Accuracy 0.0885 with time taken 4.46 secs\n",
            "Epoch 1 Batch 700 Loss 7.3759 Accuracy 0.0955 with time taken 4.42 secs\n",
            "Epoch 1 Batch 750 Loss 7.2510 Accuracy 0.1020 with time taken 4.55 secs\n",
            "Epoch 1 Batch 800 Loss 7.1351 Accuracy 0.1083 with time taken 4.54 secs\n",
            "Epoch 1 Batch 850 Loss 7.0297 Accuracy 0.1142 with time taken 4.54 secs\n",
            "Epoch 1 Batch 900 Loss 6.9319 Accuracy 0.1198 with time taken 4.45 secs\n",
            "Epoch 1 Batch 950 Loss 6.8415 Accuracy 0.1252 with time taken 4.51 secs\n",
            "Epoch 1 Batch 1000 Loss 6.7570 Accuracy 0.1306 with time taken 4.46 secs\n",
            "Epoch 1 Batch 1050 Loss 6.6790 Accuracy 0.1357 with time taken 4.55 secs\n",
            "Epoch 1 Batch 1100 Loss 6.6067 Accuracy 0.1405 with time taken 4.54 secs\n",
            "Epoch 1 Batch 1150 Loss 6.5381 Accuracy 0.1451 with time taken 4.48 secs\n",
            "Epoch 1 Batch 1200 Loss 6.4740 Accuracy 0.1495 with time taken 4.44 secs\n",
            "Epoch 1 Batch 1250 Loss 6.4133 Accuracy 0.1537 with time taken 4.49 secs\n",
            "Epoch 1 Batch 1300 Loss 6.3571 Accuracy 0.1576 with time taken 4.51 secs\n",
            "Epoch 1 Batch 1350 Loss 6.3043 Accuracy 0.1612 with time taken 4.52 secs\n",
            "Epoch 1 Batch 1400 Loss 6.2545 Accuracy 0.1646 with time taken 4.45 secs\n",
            "Epoch 1 Batch 1450 Loss 6.2059 Accuracy 0.1680 with time taken 4.45 secs\n",
            "Epoch 1 Batch 1500 Loss 6.1608 Accuracy 0.1711 with time taken 4.53 secs\n",
            "Epoch 1 Batch 1550 Loss 6.1174 Accuracy 0.1741 with time taken 4.45 secs\n",
            "Epoch 1 Batch 1600 Loss 6.0766 Accuracy 0.1769 with time taken 4.57 secs\n",
            "Epoch 1 Batch 1650 Loss 6.0371 Accuracy 0.1797 with time taken 4.54 secs\n",
            "Epoch 1 Batch 1700 Loss 5.9993 Accuracy 0.1823 with time taken 4.56 secs\n",
            "Epoch 1 Batch 1750 Loss 5.9638 Accuracy 0.1847 with time taken 4.50 secs\n",
            "Epoch 1 Batch 1800 Loss 5.9289 Accuracy 0.1872 with time taken 4.51 secs\n",
            "Epoch 1 Batch 1850 Loss 5.8959 Accuracy 0.1895 with time taken 4.51 secs\n",
            "Epoch 1 Batch 1900 Loss 5.8646 Accuracy 0.1917 with time taken 4.46 secs\n",
            "Epoch 1 Batch 1950 Loss 5.8340 Accuracy 0.1939 with time taken 4.45 secs\n",
            "Epoch 1 Batch 2000 Loss 5.8040 Accuracy 0.1960 with time taken 4.56 secs\n",
            "Epoch 1 Batch 2050 Loss 5.7755 Accuracy 0.1981 with time taken 4.44 secs\n",
            "Epoch 1 Batch 2100 Loss 5.7483 Accuracy 0.2000 with time taken 4.52 secs\n",
            "Epoch 1 Batch 2150 Loss 5.7212 Accuracy 0.2020 with time taken 4.46 secs\n",
            "Epoch 1 Batch 2200 Loss 5.6951 Accuracy 0.2039 with time taken 4.42 secs\n",
            "Epoch 1 Batch 2250 Loss 5.6710 Accuracy 0.2056 with time taken 4.43 secs\n",
            "Epoch 1 Batch 2300 Loss 5.6466 Accuracy 0.2074 with time taken 4.64 secs\n",
            "Epoch 1 Batch 2350 Loss 5.6231 Accuracy 0.2091 with time taken 4.46 secs\n",
            "Epoch 1 Batch 2400 Loss 5.6005 Accuracy 0.2107 with time taken 4.54 secs\n",
            "Epoch 1 Batch 2450 Loss 5.5784 Accuracy 0.2123 with time taken 4.50 secs\n",
            "Epoch 1 Batch 2500 Loss 5.5576 Accuracy 0.2138 with time taken 4.39 secs\n",
            "Epoch 1 Batch 2550 Loss 5.5368 Accuracy 0.2152 with time taken 4.44 secs\n",
            "Epoch 1 Batch 2600 Loss 5.5158 Accuracy 0.2168 with time taken 4.40 secs\n",
            "Epoch 1 Batch 2650 Loss 5.4961 Accuracy 0.2182 with time taken 4.42 secs\n",
            "Epoch 1 Batch 2700 Loss 5.4762 Accuracy 0.2197 with time taken 4.49 secs\n",
            "Epoch 1 Batch 2750 Loss 5.4566 Accuracy 0.2212 with time taken 4.55 secs\n",
            "Epoch 1 Batch 2800 Loss 5.4382 Accuracy 0.2226 with time taken 4.52 secs\n",
            "Epoch 1 Batch 2850 Loss 5.4203 Accuracy 0.2239 with time taken 4.58 secs\n",
            "Epoch 1 Batch 2900 Loss 5.4025 Accuracy 0.2252 with time taken 4.61 secs\n",
            "Epoch 1 Batch 2950 Loss 5.3848 Accuracy 0.2266 with time taken 4.46 secs\n",
            "Epoch 1 Batch 3000 Loss 5.3677 Accuracy 0.2279 with time taken 4.41 secs\n",
            "Epoch 1 Batch 3050 Loss 5.3508 Accuracy 0.2292 with time taken 4.37 secs\n",
            "Epoch 1 Batch 3100 Loss 5.3342 Accuracy 0.2305 with time taken 4.34 secs\n",
            "Epoch 1 Batch 3150 Loss 5.3175 Accuracy 0.2318 with time taken 4.43 secs\n",
            "Epoch 1 Batch 3200 Loss 5.3014 Accuracy 0.2331 with time taken 4.31 secs\n",
            "Epoch 1 Batch 3250 Loss 5.2856 Accuracy 0.2343 with time taken 4.42 secs\n",
            "Saving checkpoint for epoch 1 at drive/MyDrive/models/transformer_ru_en_v2/ckpt-1\n",
            "Epoch 1 Loss 5.2856 Accuracy 0.2343\n",
            "Time taken for 1 epoch: 307.21 secs\n",
            "\n",
            "Epoch 2 Batch 0 Loss 4.3570 Accuracy 0.2882 with time taken 0.67 secs\n",
            "Epoch 2 Batch 50 Loss 4.2766 Accuracy 0.3134 with time taken 4.58 secs\n",
            "Epoch 2 Batch 100 Loss 4.2571 Accuracy 0.3155 with time taken 4.42 secs\n",
            "Epoch 2 Batch 150 Loss 4.2364 Accuracy 0.3177 with time taken 4.52 secs\n",
            "Epoch 2 Batch 200 Loss 4.2289 Accuracy 0.3188 with time taken 4.38 secs\n",
            "Epoch 2 Batch 250 Loss 4.2170 Accuracy 0.3203 with time taken 4.41 secs\n",
            "Epoch 2 Batch 300 Loss 4.2075 Accuracy 0.3219 with time taken 4.57 secs\n",
            "Epoch 2 Batch 350 Loss 4.1994 Accuracy 0.3229 with time taken 4.46 secs\n",
            "Epoch 2 Batch 400 Loss 4.1985 Accuracy 0.3231 with time taken 4.43 secs\n",
            "Epoch 2 Batch 450 Loss 4.1953 Accuracy 0.3236 with time taken 4.46 secs\n",
            "Epoch 2 Batch 500 Loss 4.1894 Accuracy 0.3243 with time taken 4.41 secs\n",
            "Epoch 2 Batch 550 Loss 4.1819 Accuracy 0.3253 with time taken 4.52 secs\n",
            "Epoch 2 Batch 600 Loss 4.1755 Accuracy 0.3260 with time taken 4.49 secs\n",
            "Epoch 2 Batch 650 Loss 4.1702 Accuracy 0.3268 with time taken 4.42 secs\n",
            "Epoch 2 Batch 700 Loss 4.1635 Accuracy 0.3276 with time taken 4.36 secs\n",
            "Epoch 2 Batch 750 Loss 4.1567 Accuracy 0.3285 with time taken 4.38 secs\n",
            "Epoch 2 Batch 800 Loss 4.1498 Accuracy 0.3294 with time taken 4.39 secs\n",
            "Epoch 2 Batch 850 Loss 4.1436 Accuracy 0.3302 with time taken 4.44 secs\n",
            "Epoch 2 Batch 900 Loss 4.1373 Accuracy 0.3308 with time taken 4.36 secs\n",
            "Epoch 2 Batch 950 Loss 4.1304 Accuracy 0.3318 with time taken 4.42 secs\n",
            "Epoch 2 Batch 1000 Loss 4.1235 Accuracy 0.3326 with time taken 4.46 secs\n",
            "Epoch 2 Batch 1050 Loss 4.1146 Accuracy 0.3338 with time taken 4.40 secs\n",
            "Epoch 2 Batch 1100 Loss 4.1075 Accuracy 0.3347 with time taken 4.41 secs\n",
            "Epoch 2 Batch 1150 Loss 4.1007 Accuracy 0.3357 with time taken 4.42 secs\n",
            "Epoch 2 Batch 1200 Loss 4.0941 Accuracy 0.3367 with time taken 4.34 secs\n",
            "Epoch 2 Batch 1250 Loss 4.0863 Accuracy 0.3376 with time taken 4.47 secs\n",
            "Epoch 2 Batch 1300 Loss 4.0804 Accuracy 0.3385 with time taken 4.35 secs\n",
            "Epoch 2 Batch 1350 Loss 4.0731 Accuracy 0.3393 with time taken 4.29 secs\n",
            "Epoch 2 Batch 1400 Loss 4.0662 Accuracy 0.3401 with time taken 4.40 secs\n",
            "Epoch 2 Batch 1450 Loss 4.0599 Accuracy 0.3408 with time taken 4.39 secs\n",
            "Epoch 2 Batch 1500 Loss 4.0536 Accuracy 0.3416 with time taken 4.40 secs\n",
            "Epoch 2 Batch 1550 Loss 4.0470 Accuracy 0.3425 with time taken 4.45 secs\n",
            "Epoch 2 Batch 1600 Loss 4.0401 Accuracy 0.3434 with time taken 4.43 secs\n",
            "Epoch 2 Batch 1650 Loss 4.0334 Accuracy 0.3441 with time taken 4.39 secs\n",
            "Epoch 2 Batch 1700 Loss 4.0268 Accuracy 0.3449 with time taken 4.46 secs\n",
            "Epoch 2 Batch 1750 Loss 4.0202 Accuracy 0.3457 with time taken 4.50 secs\n",
            "Epoch 2 Batch 1800 Loss 4.0133 Accuracy 0.3466 with time taken 4.40 secs\n",
            "Epoch 2 Batch 1850 Loss 4.0063 Accuracy 0.3474 with time taken 4.46 secs\n",
            "Epoch 2 Batch 1900 Loss 4.0007 Accuracy 0.3481 with time taken 4.50 secs\n",
            "Epoch 2 Batch 1950 Loss 3.9942 Accuracy 0.3489 with time taken 4.43 secs\n",
            "Epoch 2 Batch 2000 Loss 3.9879 Accuracy 0.3496 with time taken 4.42 secs\n",
            "Epoch 2 Batch 2050 Loss 3.9812 Accuracy 0.3505 with time taken 4.38 secs\n",
            "Epoch 2 Batch 2100 Loss 3.9753 Accuracy 0.3511 with time taken 4.45 secs\n",
            "Epoch 2 Batch 2150 Loss 3.9682 Accuracy 0.3520 with time taken 4.54 secs\n",
            "Epoch 2 Batch 2200 Loss 3.9621 Accuracy 0.3527 with time taken 4.39 secs\n",
            "Epoch 2 Batch 2250 Loss 3.9546 Accuracy 0.3537 with time taken 4.38 secs\n",
            "Epoch 2 Batch 2300 Loss 3.9487 Accuracy 0.3544 with time taken 4.42 secs\n",
            "Epoch 2 Batch 2350 Loss 3.9435 Accuracy 0.3550 with time taken 4.50 secs\n",
            "Epoch 2 Batch 2400 Loss 3.9373 Accuracy 0.3557 with time taken 4.38 secs\n",
            "Epoch 2 Batch 2450 Loss 3.9318 Accuracy 0.3564 with time taken 4.39 secs\n",
            "Epoch 2 Batch 2500 Loss 3.9259 Accuracy 0.3571 with time taken 4.30 secs\n",
            "Epoch 2 Batch 2550 Loss 3.9194 Accuracy 0.3579 with time taken 4.39 secs\n",
            "Epoch 2 Batch 2600 Loss 3.9141 Accuracy 0.3585 with time taken 4.36 secs\n",
            "Epoch 2 Batch 2650 Loss 3.9081 Accuracy 0.3592 with time taken 4.37 secs\n",
            "Epoch 2 Batch 2700 Loss 3.9013 Accuracy 0.3601 with time taken 4.31 secs\n",
            "Epoch 2 Batch 2750 Loss 3.8956 Accuracy 0.3607 with time taken 4.50 secs\n",
            "Epoch 2 Batch 2800 Loss 3.8897 Accuracy 0.3614 with time taken 4.42 secs\n",
            "Epoch 2 Batch 2850 Loss 3.8839 Accuracy 0.3621 with time taken 4.41 secs\n",
            "Epoch 2 Batch 2900 Loss 3.8781 Accuracy 0.3628 with time taken 4.46 secs\n",
            "Epoch 2 Batch 2950 Loss 3.8719 Accuracy 0.3636 with time taken 4.34 secs\n",
            "Epoch 2 Batch 3000 Loss 3.8661 Accuracy 0.3643 with time taken 4.50 secs\n",
            "Epoch 2 Batch 3050 Loss 3.8606 Accuracy 0.3650 with time taken 4.40 secs\n",
            "Epoch 2 Batch 3100 Loss 3.8548 Accuracy 0.3657 with time taken 4.35 secs\n",
            "Epoch 2 Batch 3150 Loss 3.8498 Accuracy 0.3663 with time taken 4.38 secs\n",
            "Epoch 2 Batch 3200 Loss 3.8448 Accuracy 0.3670 with time taken 4.39 secs\n",
            "Epoch 2 Batch 3250 Loss 3.8392 Accuracy 0.3677 with time taken 4.32 secs\n",
            "Saving checkpoint for epoch 2 at drive/MyDrive/models/transformer_ru_en_v2/ckpt-2\n",
            "Epoch 2 Loss 3.8392 Accuracy 0.3677\n",
            "Time taken for 1 epoch: 288.42 secs\n",
            "\n",
            "Epoch 3 Batch 0 Loss 3.1500 Accuracy 0.4663 with time taken 0.67 secs\n",
            "Epoch 3 Batch 50 Loss 3.4542 Accuracy 0.4129 with time taken 4.31 secs\n",
            "Epoch 3 Batch 100 Loss 3.4411 Accuracy 0.4160 with time taken 4.41 secs\n",
            "Epoch 3 Batch 150 Loss 3.4485 Accuracy 0.4147 with time taken 4.59 secs\n",
            "Epoch 3 Batch 200 Loss 3.4562 Accuracy 0.4126 with time taken 4.49 secs\n",
            "Epoch 3 Batch 250 Loss 3.4534 Accuracy 0.4129 with time taken 4.57 secs\n",
            "Epoch 3 Batch 300 Loss 3.4475 Accuracy 0.4136 with time taken 4.44 secs\n",
            "Epoch 3 Batch 350 Loss 3.4426 Accuracy 0.4144 with time taken 4.37 secs\n",
            "Epoch 3 Batch 400 Loss 3.4375 Accuracy 0.4151 with time taken 4.41 secs\n",
            "Epoch 3 Batch 450 Loss 3.4364 Accuracy 0.4150 with time taken 4.45 secs\n",
            "Epoch 3 Batch 500 Loss 3.4352 Accuracy 0.4152 with time taken 4.48 secs\n",
            "Epoch 3 Batch 550 Loss 3.4336 Accuracy 0.4154 with time taken 4.40 secs\n",
            "Epoch 3 Batch 600 Loss 3.4271 Accuracy 0.4163 with time taken 4.41 secs\n",
            "Epoch 3 Batch 650 Loss 3.4218 Accuracy 0.4170 with time taken 4.45 secs\n",
            "Epoch 3 Batch 700 Loss 3.4193 Accuracy 0.4172 with time taken 4.31 secs\n",
            "Epoch 3 Batch 750 Loss 3.4164 Accuracy 0.4175 with time taken 4.42 secs\n",
            "Epoch 3 Batch 800 Loss 3.4110 Accuracy 0.4183 with time taken 4.39 secs\n",
            "Epoch 3 Batch 850 Loss 3.4051 Accuracy 0.4189 with time taken 4.38 secs\n",
            "Epoch 3 Batch 900 Loss 3.4016 Accuracy 0.4193 with time taken 4.47 secs\n",
            "Epoch 3 Batch 950 Loss 3.3978 Accuracy 0.4200 with time taken 4.36 secs\n",
            "Epoch 3 Batch 1000 Loss 3.3933 Accuracy 0.4205 with time taken 4.34 secs\n",
            "Epoch 3 Batch 1050 Loss 3.3900 Accuracy 0.4209 with time taken 4.51 secs\n",
            "Epoch 3 Batch 1100 Loss 3.3869 Accuracy 0.4213 with time taken 4.42 secs\n",
            "Epoch 3 Batch 1150 Loss 3.3828 Accuracy 0.4218 with time taken 4.48 secs\n",
            "Epoch 3 Batch 1200 Loss 3.3791 Accuracy 0.4223 with time taken 4.48 secs\n",
            "Epoch 3 Batch 1250 Loss 3.3748 Accuracy 0.4229 with time taken 4.53 secs\n",
            "Epoch 3 Batch 1300 Loss 3.3714 Accuracy 0.4233 with time taken 4.37 secs\n",
            "Epoch 3 Batch 1350 Loss 3.3685 Accuracy 0.4237 with time taken 4.39 secs\n",
            "Epoch 3 Batch 1400 Loss 3.3663 Accuracy 0.4240 with time taken 4.46 secs\n",
            "Epoch 3 Batch 1450 Loss 3.3629 Accuracy 0.4245 with time taken 4.43 secs\n",
            "Epoch 3 Batch 1500 Loss 3.3591 Accuracy 0.4249 with time taken 4.52 secs\n",
            "Epoch 3 Batch 1550 Loss 3.3564 Accuracy 0.4252 with time taken 4.47 secs\n",
            "Epoch 3 Batch 1600 Loss 3.3534 Accuracy 0.4256 with time taken 4.41 secs\n",
            "Epoch 3 Batch 1650 Loss 3.3496 Accuracy 0.4261 with time taken 4.59 secs\n",
            "Epoch 3 Batch 1700 Loss 3.3457 Accuracy 0.4265 with time taken 4.42 secs\n",
            "Epoch 3 Batch 1750 Loss 3.3433 Accuracy 0.4270 with time taken 4.46 secs\n",
            "Epoch 3 Batch 1800 Loss 3.3395 Accuracy 0.4275 with time taken 4.52 secs\n",
            "Epoch 3 Batch 1850 Loss 3.3364 Accuracy 0.4279 with time taken 4.47 secs\n",
            "Epoch 3 Batch 1900 Loss 3.3328 Accuracy 0.4283 with time taken 4.32 secs\n",
            "Epoch 3 Batch 1950 Loss 3.3298 Accuracy 0.4287 with time taken 4.46 secs\n",
            "Epoch 3 Batch 2000 Loss 3.3271 Accuracy 0.4290 with time taken 4.37 secs\n",
            "Epoch 3 Batch 2050 Loss 3.3237 Accuracy 0.4295 with time taken 4.47 secs\n",
            "Epoch 3 Batch 2100 Loss 3.3213 Accuracy 0.4298 with time taken 4.56 secs\n",
            "Epoch 3 Batch 2150 Loss 3.3184 Accuracy 0.4301 with time taken 4.39 secs\n",
            "Epoch 3 Batch 2200 Loss 3.3158 Accuracy 0.4305 with time taken 4.32 secs\n",
            "Epoch 3 Batch 2250 Loss 3.3133 Accuracy 0.4308 with time taken 4.37 secs\n",
            "Epoch 3 Batch 2300 Loss 3.3102 Accuracy 0.4312 with time taken 4.49 secs\n",
            "Epoch 3 Batch 2350 Loss 3.3070 Accuracy 0.4316 with time taken 4.49 secs\n",
            "Epoch 3 Batch 2400 Loss 3.3044 Accuracy 0.4319 with time taken 4.40 secs\n",
            "Epoch 3 Batch 2450 Loss 3.3018 Accuracy 0.4322 with time taken 4.42 secs\n",
            "Epoch 3 Batch 2500 Loss 3.2993 Accuracy 0.4325 with time taken 4.36 secs\n",
            "Epoch 3 Batch 2550 Loss 3.2966 Accuracy 0.4329 with time taken 4.42 secs\n",
            "Epoch 3 Batch 2600 Loss 3.2938 Accuracy 0.4332 with time taken 4.45 secs\n",
            "Epoch 3 Batch 2650 Loss 3.2908 Accuracy 0.4336 with time taken 4.34 secs\n",
            "Epoch 3 Batch 2700 Loss 3.2875 Accuracy 0.4340 with time taken 4.38 secs\n",
            "Epoch 3 Batch 2750 Loss 3.2846 Accuracy 0.4343 with time taken 4.28 secs\n",
            "Epoch 3 Batch 2800 Loss 3.2823 Accuracy 0.4346 with time taken 4.45 secs\n",
            "Epoch 3 Batch 2850 Loss 3.2798 Accuracy 0.4349 with time taken 4.59 secs\n",
            "Epoch 3 Batch 2900 Loss 3.2776 Accuracy 0.4352 with time taken 4.50 secs\n",
            "Epoch 3 Batch 2950 Loss 3.2748 Accuracy 0.4355 with time taken 4.46 secs\n",
            "Epoch 3 Batch 3000 Loss 3.2719 Accuracy 0.4359 with time taken 4.30 secs\n",
            "Epoch 3 Batch 3050 Loss 3.2689 Accuracy 0.4363 with time taken 4.36 secs\n",
            "Epoch 3 Batch 3100 Loss 3.2667 Accuracy 0.4365 with time taken 4.48 secs\n",
            "Epoch 3 Batch 3150 Loss 3.2649 Accuracy 0.4368 with time taken 4.48 secs\n",
            "Epoch 3 Batch 3200 Loss 3.2617 Accuracy 0.4371 with time taken 4.45 secs\n",
            "Epoch 3 Batch 3250 Loss 3.2596 Accuracy 0.4375 with time taken 4.44 secs\n",
            "Saving checkpoint for epoch 3 at drive/MyDrive/models/transformer_ru_en_v2/ckpt-3\n",
            "Epoch 3 Loss 3.2596 Accuracy 0.4375\n",
            "Time taken for 1 epoch: 289.47 secs\n",
            "\n",
            "Epoch 4 Batch 0 Loss 3.0457 Accuracy 0.4515 with time taken 0.69 secs\n",
            "Epoch 4 Batch 50 Loss 3.0649 Accuracy 0.4578 with time taken 4.40 secs\n",
            "Epoch 4 Batch 100 Loss 3.0780 Accuracy 0.4573 with time taken 4.46 secs\n",
            "Epoch 4 Batch 150 Loss 3.0753 Accuracy 0.4584 with time taken 4.48 secs\n",
            "Epoch 4 Batch 200 Loss 3.0714 Accuracy 0.4587 with time taken 4.33 secs\n",
            "Epoch 4 Batch 250 Loss 3.0661 Accuracy 0.4596 with time taken 4.44 secs\n",
            "Epoch 4 Batch 300 Loss 3.0600 Accuracy 0.4603 with time taken 4.35 secs\n",
            "Epoch 4 Batch 350 Loss 3.0631 Accuracy 0.4597 with time taken 4.46 secs\n",
            "Epoch 4 Batch 400 Loss 3.0622 Accuracy 0.4600 with time taken 4.49 secs\n",
            "Epoch 4 Batch 450 Loss 3.0624 Accuracy 0.4602 with time taken 4.49 secs\n",
            "Epoch 4 Batch 500 Loss 3.0607 Accuracy 0.4606 with time taken 4.51 secs\n",
            "Epoch 4 Batch 550 Loss 3.0604 Accuracy 0.4608 with time taken 4.59 secs\n",
            "Epoch 4 Batch 600 Loss 3.0605 Accuracy 0.4609 with time taken 4.46 secs\n",
            "Epoch 4 Batch 650 Loss 3.0589 Accuracy 0.4611 with time taken 4.40 secs\n",
            "Epoch 4 Batch 700 Loss 3.0572 Accuracy 0.4612 with time taken 4.37 secs\n",
            "Epoch 4 Batch 750 Loss 3.0545 Accuracy 0.4616 with time taken 4.38 secs\n",
            "Epoch 4 Batch 800 Loss 3.0518 Accuracy 0.4620 with time taken 4.29 secs\n",
            "Epoch 4 Batch 850 Loss 3.0505 Accuracy 0.4622 with time taken 4.42 secs\n",
            "Epoch 4 Batch 900 Loss 3.0466 Accuracy 0.4627 with time taken 4.46 secs\n",
            "Epoch 4 Batch 950 Loss 3.0452 Accuracy 0.4628 with time taken 4.39 secs\n",
            "Epoch 4 Batch 1000 Loss 3.0425 Accuracy 0.4632 with time taken 4.36 secs\n",
            "Epoch 4 Batch 1050 Loss 3.0410 Accuracy 0.4634 with time taken 4.47 secs\n",
            "Epoch 4 Batch 1100 Loss 3.0386 Accuracy 0.4637 with time taken 4.46 secs\n",
            "Epoch 4 Batch 1150 Loss 3.0367 Accuracy 0.4640 with time taken 4.49 secs\n",
            "Epoch 4 Batch 1200 Loss 3.0349 Accuracy 0.4643 with time taken 4.40 secs\n",
            "Epoch 4 Batch 1250 Loss 3.0349 Accuracy 0.4643 with time taken 4.49 secs\n",
            "Epoch 4 Batch 1300 Loss 3.0336 Accuracy 0.4645 with time taken 4.37 secs\n",
            "Epoch 4 Batch 1350 Loss 3.0318 Accuracy 0.4647 with time taken 4.38 secs\n",
            "Epoch 4 Batch 1400 Loss 3.0298 Accuracy 0.4650 with time taken 4.40 secs\n",
            "Epoch 4 Batch 1450 Loss 3.0275 Accuracy 0.4653 with time taken 4.35 secs\n",
            "Epoch 4 Batch 1500 Loss 3.0247 Accuracy 0.4657 with time taken 4.52 secs\n",
            "Epoch 4 Batch 1550 Loss 3.0229 Accuracy 0.4659 with time taken 4.48 secs\n",
            "Epoch 4 Batch 1600 Loss 3.0221 Accuracy 0.4661 with time taken 4.46 secs\n",
            "Epoch 4 Batch 1650 Loss 3.0209 Accuracy 0.4662 with time taken 4.46 secs\n",
            "Epoch 4 Batch 1700 Loss 3.0198 Accuracy 0.4663 with time taken 4.46 secs\n",
            "Epoch 4 Batch 1750 Loss 3.0184 Accuracy 0.4665 with time taken 4.31 secs\n",
            "Epoch 4 Batch 1800 Loss 3.0165 Accuracy 0.4667 with time taken 4.41 secs\n",
            "Epoch 4 Batch 1850 Loss 3.0150 Accuracy 0.4669 with time taken 4.45 secs\n",
            "Epoch 4 Batch 1900 Loss 3.0130 Accuracy 0.4672 with time taken 4.39 secs\n",
            "Epoch 4 Batch 1950 Loss 3.0122 Accuracy 0.4673 with time taken 4.61 secs\n",
            "Epoch 4 Batch 2000 Loss 3.0110 Accuracy 0.4675 with time taken 4.41 secs\n",
            "Epoch 4 Batch 2050 Loss 3.0087 Accuracy 0.4678 with time taken 4.38 secs\n",
            "Epoch 4 Batch 2100 Loss 3.0082 Accuracy 0.4679 with time taken 4.39 secs\n",
            "Epoch 4 Batch 2150 Loss 3.0063 Accuracy 0.4682 with time taken 4.41 secs\n",
            "Epoch 4 Batch 2200 Loss 3.0046 Accuracy 0.4684 with time taken 4.42 secs\n",
            "Epoch 4 Batch 2250 Loss 3.0034 Accuracy 0.4686 with time taken 4.51 secs\n",
            "Epoch 4 Batch 2300 Loss 3.0018 Accuracy 0.4687 with time taken 4.38 secs\n",
            "Epoch 4 Batch 2350 Loss 3.0002 Accuracy 0.4689 with time taken 4.46 secs\n",
            "Epoch 4 Batch 2400 Loss 2.9988 Accuracy 0.4691 with time taken 4.43 secs\n",
            "Epoch 4 Batch 2450 Loss 2.9968 Accuracy 0.4693 with time taken 4.39 secs\n",
            "Epoch 4 Batch 2500 Loss 2.9956 Accuracy 0.4695 with time taken 4.45 secs\n",
            "Epoch 4 Batch 2550 Loss 2.9936 Accuracy 0.4698 with time taken 4.31 secs\n",
            "Epoch 4 Batch 2600 Loss 2.9919 Accuracy 0.4700 with time taken 4.35 secs\n",
            "Epoch 4 Batch 2650 Loss 2.9903 Accuracy 0.4702 with time taken 4.42 secs\n",
            "Epoch 4 Batch 2700 Loss 2.9892 Accuracy 0.4703 with time taken 4.36 secs\n",
            "Epoch 4 Batch 2750 Loss 2.9874 Accuracy 0.4706 with time taken 4.40 secs\n",
            "Epoch 4 Batch 2800 Loss 2.9858 Accuracy 0.4708 with time taken 4.42 secs\n",
            "Epoch 4 Batch 2850 Loss 2.9848 Accuracy 0.4709 with time taken 4.53 secs\n",
            "Epoch 4 Batch 2900 Loss 2.9839 Accuracy 0.4710 with time taken 4.48 secs\n",
            "Epoch 4 Batch 2950 Loss 2.9827 Accuracy 0.4711 with time taken 4.43 secs\n",
            "Epoch 4 Batch 3000 Loss 2.9809 Accuracy 0.4713 with time taken 4.31 secs\n",
            "Epoch 4 Batch 3050 Loss 2.9799 Accuracy 0.4715 with time taken 4.43 secs\n",
            "Epoch 4 Batch 3100 Loss 2.9785 Accuracy 0.4717 with time taken 4.44 secs\n",
            "Epoch 4 Batch 3150 Loss 2.9773 Accuracy 0.4718 with time taken 4.35 secs\n",
            "Epoch 4 Batch 3200 Loss 2.9762 Accuracy 0.4720 with time taken 4.43 secs\n",
            "Epoch 4 Batch 3250 Loss 2.9750 Accuracy 0.4721 with time taken 4.42 secs\n",
            "Saving checkpoint for epoch 4 at drive/MyDrive/models/transformer_ru_en_v2/ckpt-4\n",
            "Epoch 4 Loss 2.9750 Accuracy 0.4721\n",
            "Time taken for 1 epoch: 288.81 secs\n",
            "\n",
            "Epoch 5 Batch 0 Loss 2.7388 Accuracy 0.5018 with time taken 0.67 secs\n",
            "Epoch 5 Batch 50 Loss 2.8619 Accuracy 0.4843 with time taken 4.47 secs\n",
            "Epoch 5 Batch 100 Loss 2.8722 Accuracy 0.4830 with time taken 4.53 secs\n",
            "Epoch 5 Batch 150 Loss 2.8756 Accuracy 0.4834 with time taken 4.51 secs\n",
            "Epoch 5 Batch 200 Loss 2.8681 Accuracy 0.4848 with time taken 4.41 secs\n",
            "Epoch 5 Batch 250 Loss 2.8718 Accuracy 0.4848 with time taken 4.38 secs\n",
            "Epoch 5 Batch 300 Loss 2.8730 Accuracy 0.4845 with time taken 4.38 secs\n",
            "Epoch 5 Batch 350 Loss 2.8710 Accuracy 0.4849 with time taken 4.45 secs\n",
            "Epoch 5 Batch 400 Loss 2.8669 Accuracy 0.4851 with time taken 4.43 secs\n",
            "Epoch 5 Batch 450 Loss 2.8655 Accuracy 0.4853 with time taken 4.33 secs\n",
            "Epoch 5 Batch 500 Loss 2.8644 Accuracy 0.4855 with time taken 4.44 secs\n",
            "Epoch 5 Batch 550 Loss 2.8661 Accuracy 0.4853 with time taken 4.38 secs\n",
            "Epoch 5 Batch 600 Loss 2.8654 Accuracy 0.4853 with time taken 4.55 secs\n",
            "Epoch 5 Batch 650 Loss 2.8599 Accuracy 0.4859 with time taken 4.35 secs\n",
            "Epoch 5 Batch 700 Loss 2.8591 Accuracy 0.4861 with time taken 4.41 secs\n",
            "Epoch 5 Batch 750 Loss 2.8588 Accuracy 0.4863 with time taken 4.38 secs\n",
            "Epoch 5 Batch 800 Loss 2.8568 Accuracy 0.4864 with time taken 4.36 secs\n",
            "Epoch 5 Batch 850 Loss 2.8548 Accuracy 0.4867 with time taken 4.40 secs\n",
            "Epoch 5 Batch 900 Loss 2.8522 Accuracy 0.4870 with time taken 4.52 secs\n",
            "Epoch 5 Batch 950 Loss 2.8518 Accuracy 0.4870 with time taken 4.34 secs\n",
            "Epoch 5 Batch 1000 Loss 2.8506 Accuracy 0.4872 with time taken 4.37 secs\n",
            "Epoch 5 Batch 1050 Loss 2.8505 Accuracy 0.4872 with time taken 4.45 secs\n",
            "Epoch 5 Batch 1100 Loss 2.8491 Accuracy 0.4874 with time taken 4.35 secs\n",
            "Epoch 5 Batch 1150 Loss 2.8487 Accuracy 0.4873 with time taken 4.31 secs\n",
            "Epoch 5 Batch 1200 Loss 2.8471 Accuracy 0.4876 with time taken 4.48 secs\n",
            "Epoch 5 Batch 1250 Loss 2.8460 Accuracy 0.4878 with time taken 4.24 secs\n",
            "Epoch 5 Batch 1300 Loss 2.8454 Accuracy 0.4879 with time taken 4.34 secs\n",
            "Epoch 5 Batch 1350 Loss 2.8431 Accuracy 0.4882 with time taken 4.43 secs\n",
            "Epoch 5 Batch 1400 Loss 2.8420 Accuracy 0.4883 with time taken 4.39 secs\n",
            "Epoch 5 Batch 1450 Loss 2.8408 Accuracy 0.4885 with time taken 4.45 secs\n",
            "Epoch 5 Batch 1500 Loss 2.8397 Accuracy 0.4887 with time taken 4.36 secs\n",
            "Epoch 5 Batch 1550 Loss 2.8383 Accuracy 0.4888 with time taken 4.37 secs\n",
            "Epoch 5 Batch 1600 Loss 2.8378 Accuracy 0.4889 with time taken 4.29 secs\n",
            "Epoch 5 Batch 1650 Loss 2.8369 Accuracy 0.4891 with time taken 4.47 secs\n",
            "Epoch 5 Batch 1700 Loss 2.8356 Accuracy 0.4892 with time taken 4.44 secs\n",
            "Epoch 5 Batch 1750 Loss 2.8341 Accuracy 0.4895 with time taken 4.36 secs\n",
            "Epoch 5 Batch 1800 Loss 2.8331 Accuracy 0.4897 with time taken 4.42 secs\n",
            "Epoch 5 Batch 1850 Loss 2.8320 Accuracy 0.4899 with time taken 4.39 secs\n",
            "Epoch 5 Batch 1900 Loss 2.8315 Accuracy 0.4900 with time taken 4.49 secs\n",
            "Epoch 5 Batch 1950 Loss 2.8302 Accuracy 0.4901 with time taken 4.37 secs\n",
            "Epoch 5 Batch 2000 Loss 2.8299 Accuracy 0.4902 with time taken 4.37 secs\n",
            "Epoch 5 Batch 2050 Loss 2.8298 Accuracy 0.4902 with time taken 4.39 secs\n",
            "Epoch 5 Batch 2100 Loss 2.8282 Accuracy 0.4904 with time taken 4.36 secs\n",
            "Epoch 5 Batch 2150 Loss 2.8278 Accuracy 0.4905 with time taken 4.52 secs\n",
            "Epoch 5 Batch 2200 Loss 2.8266 Accuracy 0.4907 with time taken 4.51 secs\n",
            "Epoch 5 Batch 2250 Loss 2.8258 Accuracy 0.4908 with time taken 4.43 secs\n",
            "Epoch 5 Batch 2300 Loss 2.8250 Accuracy 0.4909 with time taken 4.31 secs\n",
            "Epoch 5 Batch 2350 Loss 2.8240 Accuracy 0.4910 with time taken 4.34 secs\n",
            "Epoch 5 Batch 2400 Loss 2.8233 Accuracy 0.4911 with time taken 4.40 secs\n",
            "Epoch 5 Batch 2450 Loss 2.8232 Accuracy 0.4911 with time taken 4.37 secs\n",
            "Epoch 5 Batch 2500 Loss 2.8219 Accuracy 0.4912 with time taken 4.39 secs\n",
            "Epoch 5 Batch 2550 Loss 2.8206 Accuracy 0.4914 with time taken 4.42 secs\n",
            "Epoch 5 Batch 2600 Loss 2.8197 Accuracy 0.4916 with time taken 4.52 secs\n",
            "Epoch 5 Batch 2650 Loss 2.8181 Accuracy 0.4917 with time taken 4.39 secs\n",
            "Epoch 5 Batch 2700 Loss 2.8171 Accuracy 0.4918 with time taken 4.43 secs\n",
            "Epoch 5 Batch 2750 Loss 2.8166 Accuracy 0.4919 with time taken 4.32 secs\n",
            "Epoch 5 Batch 2800 Loss 2.8160 Accuracy 0.4920 with time taken 4.31 secs\n",
            "Epoch 5 Batch 2850 Loss 2.8147 Accuracy 0.4921 with time taken 4.44 secs\n",
            "Epoch 5 Batch 2900 Loss 2.8137 Accuracy 0.4923 with time taken 4.45 secs\n",
            "Epoch 5 Batch 2950 Loss 2.8128 Accuracy 0.4924 with time taken 4.52 secs\n",
            "Epoch 5 Batch 3000 Loss 2.8121 Accuracy 0.4925 with time taken 4.46 secs\n",
            "Epoch 5 Batch 3050 Loss 2.8119 Accuracy 0.4925 with time taken 4.59 secs\n",
            "Epoch 5 Batch 3100 Loss 2.8106 Accuracy 0.4926 with time taken 4.30 secs\n",
            "Epoch 5 Batch 3150 Loss 2.8098 Accuracy 0.4928 with time taken 4.31 secs\n",
            "Epoch 5 Batch 3200 Loss 2.8089 Accuracy 0.4929 with time taken 4.36 secs\n",
            "Epoch 5 Batch 3250 Loss 2.8088 Accuracy 0.4930 with time taken 4.37 secs\n",
            "Saving checkpoint for epoch 5 at drive/MyDrive/models/transformer_ru_en_v2/ckpt-5\n",
            "Epoch 5 Loss 2.8088 Accuracy 0.4930\n",
            "Time taken for 1 epoch: 287.59 secs\n",
            "\n",
            "Epoch 6 Batch 0 Loss 2.7418 Accuracy 0.4839 with time taken 0.71 secs\n",
            "Epoch 6 Batch 50 Loss 2.7859 Accuracy 0.4926 with time taken 4.53 secs\n",
            "Epoch 6 Batch 100 Loss 2.7266 Accuracy 0.5027 with time taken 4.29 secs\n",
            "Epoch 6 Batch 150 Loss 2.7296 Accuracy 0.5020 with time taken 4.63 secs\n",
            "Epoch 6 Batch 200 Loss 2.7343 Accuracy 0.5018 with time taken 4.38 secs\n",
            "Epoch 6 Batch 250 Loss 2.7275 Accuracy 0.5024 with time taken 4.41 secs\n",
            "Epoch 6 Batch 300 Loss 2.7271 Accuracy 0.5026 with time taken 4.46 secs\n",
            "Epoch 6 Batch 350 Loss 2.7292 Accuracy 0.5026 with time taken 4.45 secs\n",
            "Epoch 6 Batch 400 Loss 2.7321 Accuracy 0.5023 with time taken 4.40 secs\n",
            "Epoch 6 Batch 450 Loss 2.7341 Accuracy 0.5021 with time taken 4.42 secs\n",
            "Epoch 6 Batch 500 Loss 2.7339 Accuracy 0.5021 with time taken 4.39 secs\n",
            "Epoch 6 Batch 550 Loss 2.7368 Accuracy 0.5018 with time taken 4.46 secs\n",
            "Epoch 6 Batch 600 Loss 2.7349 Accuracy 0.5020 with time taken 4.42 secs\n",
            "Epoch 6 Batch 650 Loss 2.7346 Accuracy 0.5019 with time taken 4.40 secs\n",
            "Epoch 6 Batch 700 Loss 2.7334 Accuracy 0.5020 with time taken 4.30 secs\n",
            "Epoch 6 Batch 750 Loss 2.7318 Accuracy 0.5023 with time taken 4.40 secs\n",
            "Epoch 6 Batch 800 Loss 2.7310 Accuracy 0.5025 with time taken 4.37 secs\n",
            "Epoch 6 Batch 850 Loss 2.7289 Accuracy 0.5029 with time taken 4.52 secs\n",
            "Epoch 6 Batch 900 Loss 2.7268 Accuracy 0.5032 with time taken 4.25 secs\n",
            "Epoch 6 Batch 950 Loss 2.7264 Accuracy 0.5034 with time taken 4.49 secs\n",
            "Epoch 6 Batch 1000 Loss 2.7261 Accuracy 0.5034 with time taken 4.43 secs\n",
            "Epoch 6 Batch 1050 Loss 2.7252 Accuracy 0.5035 with time taken 4.52 secs\n",
            "Epoch 6 Batch 1100 Loss 2.7231 Accuracy 0.5039 with time taken 4.40 secs\n",
            "Epoch 6 Batch 1150 Loss 2.7228 Accuracy 0.5040 with time taken 4.28 secs\n",
            "Epoch 6 Batch 1200 Loss 2.7220 Accuracy 0.5041 with time taken 4.32 secs\n",
            "Epoch 6 Batch 1250 Loss 2.7214 Accuracy 0.5041 with time taken 4.42 secs\n",
            "Epoch 6 Batch 1300 Loss 2.7202 Accuracy 0.5043 with time taken 4.34 secs\n",
            "Epoch 6 Batch 1350 Loss 2.7193 Accuracy 0.5044 with time taken 4.38 secs\n",
            "Epoch 6 Batch 1400 Loss 2.7190 Accuracy 0.5045 with time taken 4.43 secs\n",
            "Epoch 6 Batch 1450 Loss 2.7176 Accuracy 0.5048 with time taken 4.36 secs\n",
            "Epoch 6 Batch 1500 Loss 2.7171 Accuracy 0.5049 with time taken 4.46 secs\n",
            "Epoch 6 Batch 1550 Loss 2.7159 Accuracy 0.5050 with time taken 4.44 secs\n",
            "Epoch 6 Batch 1600 Loss 2.7164 Accuracy 0.5049 with time taken 4.44 secs\n",
            "Epoch 6 Batch 1650 Loss 2.7165 Accuracy 0.5049 with time taken 4.41 secs\n",
            "Epoch 6 Batch 1700 Loss 2.7153 Accuracy 0.5051 with time taken 4.54 secs\n",
            "Epoch 6 Batch 1750 Loss 2.7152 Accuracy 0.5051 with time taken 4.41 secs\n",
            "Epoch 6 Batch 1800 Loss 2.7141 Accuracy 0.5052 with time taken 4.47 secs\n",
            "Epoch 6 Batch 1850 Loss 2.7143 Accuracy 0.5052 with time taken 4.49 secs\n",
            "Epoch 6 Batch 1900 Loss 2.7136 Accuracy 0.5053 with time taken 4.32 secs\n",
            "Epoch 6 Batch 1950 Loss 2.7123 Accuracy 0.5055 with time taken 4.40 secs\n",
            "Epoch 6 Batch 2000 Loss 2.7110 Accuracy 0.5057 with time taken 4.40 secs\n",
            "Epoch 6 Batch 2050 Loss 2.7109 Accuracy 0.5057 with time taken 4.51 secs\n",
            "Epoch 6 Batch 2100 Loss 2.7104 Accuracy 0.5057 with time taken 4.41 secs\n",
            "Epoch 6 Batch 2150 Loss 2.7103 Accuracy 0.5057 with time taken 4.44 secs\n",
            "Epoch 6 Batch 2200 Loss 2.7105 Accuracy 0.5057 with time taken 4.50 secs\n",
            "Epoch 6 Batch 2250 Loss 2.7094 Accuracy 0.5058 with time taken 4.39 secs\n",
            "Epoch 6 Batch 2300 Loss 2.7084 Accuracy 0.5060 with time taken 4.36 secs\n",
            "Epoch 6 Batch 2350 Loss 2.7081 Accuracy 0.5060 with time taken 4.47 secs\n",
            "Epoch 6 Batch 2400 Loss 2.7069 Accuracy 0.5061 with time taken 4.43 secs\n",
            "Epoch 6 Batch 2450 Loss 2.7062 Accuracy 0.5062 with time taken 4.42 secs\n",
            "Epoch 6 Batch 2500 Loss 2.7056 Accuracy 0.5063 with time taken 4.45 secs\n",
            "Epoch 6 Batch 2550 Loss 2.7054 Accuracy 0.5062 with time taken 4.41 secs\n",
            "Epoch 6 Batch 2600 Loss 2.7041 Accuracy 0.5064 with time taken 4.19 secs\n",
            "Epoch 6 Batch 2650 Loss 2.7034 Accuracy 0.5065 with time taken 4.22 secs\n",
            "Epoch 6 Batch 2700 Loss 2.7024 Accuracy 0.5066 with time taken 4.32 secs\n",
            "Epoch 6 Batch 2750 Loss 2.7026 Accuracy 0.5066 with time taken 4.43 secs\n",
            "Epoch 6 Batch 2800 Loss 2.7022 Accuracy 0.5067 with time taken 4.43 secs\n",
            "Epoch 6 Batch 2850 Loss 2.7015 Accuracy 0.5068 with time taken 4.43 secs\n",
            "Epoch 6 Batch 2900 Loss 2.7010 Accuracy 0.5068 with time taken 4.37 secs\n",
            "Epoch 6 Batch 2950 Loss 2.7002 Accuracy 0.5069 with time taken 4.43 secs\n",
            "Epoch 6 Batch 3000 Loss 2.6999 Accuracy 0.5069 with time taken 4.52 secs\n",
            "Epoch 6 Batch 3050 Loss 2.6988 Accuracy 0.5071 with time taken 4.40 secs\n",
            "Epoch 6 Batch 3100 Loss 2.6983 Accuracy 0.5071 with time taken 4.38 secs\n",
            "Epoch 6 Batch 3150 Loss 2.6975 Accuracy 0.5073 with time taken 4.49 secs\n",
            "Epoch 6 Batch 3200 Loss 2.6974 Accuracy 0.5073 with time taken 4.49 secs\n",
            "Epoch 6 Batch 3250 Loss 2.6966 Accuracy 0.5074 with time taken 4.41 secs\n",
            "Saving checkpoint for epoch 6 at drive/MyDrive/models/transformer_ru_en_v2/ckpt-6\n",
            "Epoch 6 Loss 2.6966 Accuracy 0.5074\n",
            "Time taken for 1 epoch: 288.15 secs\n",
            "\n",
            "Epoch 7 Batch 0 Loss 2.4453 Accuracy 0.5438 with time taken 0.70 secs\n",
            "Epoch 7 Batch 50 Loss 2.5924 Accuracy 0.5179 with time taken 4.47 secs\n",
            "Epoch 7 Batch 100 Loss 2.6199 Accuracy 0.5154 with time taken 4.38 secs\n",
            "Epoch 7 Batch 150 Loss 2.6213 Accuracy 0.5159 with time taken 4.43 secs\n",
            "Epoch 7 Batch 200 Loss 2.6312 Accuracy 0.5152 with time taken 4.36 secs\n",
            "Epoch 7 Batch 250 Loss 2.6352 Accuracy 0.5150 with time taken 4.35 secs\n",
            "Epoch 7 Batch 300 Loss 2.6398 Accuracy 0.5144 with time taken 4.39 secs\n",
            "Epoch 7 Batch 350 Loss 2.6442 Accuracy 0.5140 with time taken 4.41 secs\n",
            "Epoch 7 Batch 400 Loss 2.6422 Accuracy 0.5141 with time taken 4.32 secs\n",
            "Epoch 7 Batch 450 Loss 2.6424 Accuracy 0.5143 with time taken 4.46 secs\n",
            "Epoch 7 Batch 500 Loss 2.6416 Accuracy 0.5144 with time taken 4.43 secs\n",
            "Epoch 7 Batch 550 Loss 2.6416 Accuracy 0.5143 with time taken 4.44 secs\n",
            "Epoch 7 Batch 600 Loss 2.6403 Accuracy 0.5146 with time taken 4.41 secs\n",
            "Epoch 7 Batch 650 Loss 2.6410 Accuracy 0.5145 with time taken 4.44 secs\n",
            "Epoch 7 Batch 700 Loss 2.6389 Accuracy 0.5149 with time taken 4.39 secs\n",
            "Epoch 7 Batch 750 Loss 2.6377 Accuracy 0.5151 with time taken 4.30 secs\n",
            "Epoch 7 Batch 800 Loss 2.6378 Accuracy 0.5151 with time taken 4.49 secs\n",
            "Epoch 7 Batch 850 Loss 2.6357 Accuracy 0.5153 with time taken 4.33 secs\n",
            "Epoch 7 Batch 900 Loss 2.6355 Accuracy 0.5152 with time taken 4.39 secs\n",
            "Epoch 7 Batch 950 Loss 2.6348 Accuracy 0.5153 with time taken 4.37 secs\n",
            "Epoch 7 Batch 1000 Loss 2.6341 Accuracy 0.5154 with time taken 4.27 secs\n",
            "Epoch 7 Batch 1050 Loss 2.6331 Accuracy 0.5155 with time taken 4.47 secs\n",
            "Epoch 7 Batch 1100 Loss 2.6335 Accuracy 0.5155 with time taken 4.45 secs\n",
            "Epoch 7 Batch 1150 Loss 2.6310 Accuracy 0.5159 with time taken 4.35 secs\n",
            "Epoch 7 Batch 1200 Loss 2.6306 Accuracy 0.5159 with time taken 4.46 secs\n",
            "Epoch 7 Batch 1250 Loss 2.6287 Accuracy 0.5162 with time taken 4.43 secs\n",
            "Epoch 7 Batch 1300 Loss 2.6295 Accuracy 0.5160 with time taken 4.59 secs\n",
            "Epoch 7 Batch 1350 Loss 2.6281 Accuracy 0.5161 with time taken 4.42 secs\n",
            "Epoch 7 Batch 1400 Loss 2.6276 Accuracy 0.5162 with time taken 4.36 secs\n",
            "Epoch 7 Batch 1450 Loss 2.6281 Accuracy 0.5162 with time taken 4.36 secs\n",
            "Epoch 7 Batch 1500 Loss 2.6269 Accuracy 0.5164 with time taken 4.40 secs\n",
            "Epoch 7 Batch 1550 Loss 2.6258 Accuracy 0.5166 with time taken 4.37 secs\n",
            "Epoch 7 Batch 1600 Loss 2.6260 Accuracy 0.5166 with time taken 4.32 secs\n",
            "Epoch 7 Batch 1650 Loss 2.6261 Accuracy 0.5165 with time taken 4.46 secs\n",
            "Epoch 7 Batch 1700 Loss 2.6256 Accuracy 0.5166 with time taken 4.39 secs\n",
            "Epoch 7 Batch 1750 Loss 2.6244 Accuracy 0.5167 with time taken 4.48 secs\n",
            "Epoch 7 Batch 1800 Loss 2.6245 Accuracy 0.5167 with time taken 4.38 secs\n",
            "Epoch 7 Batch 1850 Loss 2.6239 Accuracy 0.5169 with time taken 4.35 secs\n",
            "Epoch 7 Batch 1900 Loss 2.6234 Accuracy 0.5169 with time taken 4.49 secs\n",
            "Epoch 7 Batch 1950 Loss 2.6225 Accuracy 0.5171 with time taken 4.41 secs\n",
            "Epoch 7 Batch 2000 Loss 2.6226 Accuracy 0.5171 with time taken 4.37 secs\n",
            "Epoch 7 Batch 2050 Loss 2.6220 Accuracy 0.5171 with time taken 4.33 secs\n",
            "Epoch 7 Batch 2100 Loss 2.6216 Accuracy 0.5173 with time taken 4.28 secs\n",
            "Epoch 7 Batch 2150 Loss 2.6218 Accuracy 0.5172 with time taken 4.47 secs\n",
            "Epoch 7 Batch 2200 Loss 2.6214 Accuracy 0.5173 with time taken 4.33 secs\n",
            "Epoch 7 Batch 2250 Loss 2.6212 Accuracy 0.5174 with time taken 4.47 secs\n",
            "Epoch 7 Batch 2300 Loss 2.6207 Accuracy 0.5174 with time taken 4.39 secs\n",
            "Epoch 7 Batch 2350 Loss 2.6197 Accuracy 0.5175 with time taken 4.34 secs\n",
            "Epoch 7 Batch 2400 Loss 2.6194 Accuracy 0.5175 with time taken 4.35 secs\n",
            "Epoch 7 Batch 2450 Loss 2.6187 Accuracy 0.5176 with time taken 4.43 secs\n",
            "Epoch 7 Batch 2500 Loss 2.6180 Accuracy 0.5177 with time taken 4.34 secs\n",
            "Epoch 7 Batch 2550 Loss 2.6170 Accuracy 0.5178 with time taken 4.42 secs\n",
            "Epoch 7 Batch 2600 Loss 2.6164 Accuracy 0.5179 with time taken 4.39 secs\n",
            "Epoch 7 Batch 2650 Loss 2.6153 Accuracy 0.5181 with time taken 4.28 secs\n",
            "Epoch 7 Batch 2700 Loss 2.6148 Accuracy 0.5182 with time taken 4.36 secs\n",
            "Epoch 7 Batch 2750 Loss 2.6145 Accuracy 0.5182 with time taken 4.39 secs\n",
            "Epoch 7 Batch 2800 Loss 2.6144 Accuracy 0.5183 with time taken 4.36 secs\n",
            "Epoch 7 Batch 2850 Loss 2.6140 Accuracy 0.5183 with time taken 4.45 secs\n",
            "Epoch 7 Batch 2900 Loss 2.6139 Accuracy 0.5183 with time taken 4.55 secs\n",
            "Epoch 7 Batch 2950 Loss 2.6137 Accuracy 0.5184 with time taken 4.46 secs\n",
            "Epoch 7 Batch 3000 Loss 2.6130 Accuracy 0.5184 with time taken 4.33 secs\n",
            "Epoch 7 Batch 3050 Loss 2.6125 Accuracy 0.5185 with time taken 4.30 secs\n",
            "Epoch 7 Batch 3100 Loss 2.6124 Accuracy 0.5185 with time taken 4.34 secs\n",
            "Epoch 7 Batch 3150 Loss 2.6121 Accuracy 0.5185 with time taken 4.36 secs\n",
            "Epoch 7 Batch 3200 Loss 2.6123 Accuracy 0.5185 with time taken 4.38 secs\n",
            "Epoch 7 Batch 3250 Loss 2.6117 Accuracy 0.5185 with time taken 4.47 secs\n",
            "Saving checkpoint for epoch 7 at drive/MyDrive/models/transformer_ru_en_v2/ckpt-7\n",
            "Epoch 7 Loss 2.6117 Accuracy 0.5185\n",
            "Time taken for 1 epoch: 286.94 secs\n",
            "\n",
            "Epoch 8 Batch 0 Loss 2.6213 Accuracy 0.5006 with time taken 0.73 secs\n",
            "Epoch 8 Batch 50 Loss 2.5865 Accuracy 0.5202 with time taken 4.46 secs\n",
            "Epoch 8 Batch 100 Loss 2.5809 Accuracy 0.5210 with time taken 4.40 secs\n",
            "Epoch 8 Batch 150 Loss 2.5887 Accuracy 0.5204 with time taken 4.62 secs\n",
            "Epoch 8 Batch 200 Loss 2.5800 Accuracy 0.5215 with time taken 4.31 secs\n",
            "Epoch 8 Batch 250 Loss 2.5818 Accuracy 0.5214 with time taken 4.44 secs\n",
            "Epoch 8 Batch 300 Loss 2.5776 Accuracy 0.5224 with time taken 4.45 secs\n",
            "Epoch 8 Batch 350 Loss 2.5759 Accuracy 0.5228 with time taken 4.33 secs\n",
            "Epoch 8 Batch 400 Loss 2.5761 Accuracy 0.5226 with time taken 4.40 secs\n",
            "Epoch 8 Batch 450 Loss 2.5765 Accuracy 0.5225 with time taken 4.47 secs\n",
            "Epoch 8 Batch 500 Loss 2.5740 Accuracy 0.5226 with time taken 4.39 secs\n",
            "Epoch 8 Batch 550 Loss 2.5744 Accuracy 0.5225 with time taken 4.38 secs\n",
            "Epoch 8 Batch 600 Loss 2.5720 Accuracy 0.5229 with time taken 4.29 secs\n",
            "Epoch 8 Batch 650 Loss 2.5716 Accuracy 0.5229 with time taken 4.30 secs\n",
            "Epoch 8 Batch 700 Loss 2.5708 Accuracy 0.5233 with time taken 4.43 secs\n",
            "Epoch 8 Batch 750 Loss 2.5708 Accuracy 0.5232 with time taken 4.40 secs\n",
            "Epoch 8 Batch 800 Loss 2.5697 Accuracy 0.5234 with time taken 4.45 secs\n",
            "Epoch 8 Batch 850 Loss 2.5691 Accuracy 0.5235 with time taken 4.34 secs\n",
            "Epoch 8 Batch 900 Loss 2.5673 Accuracy 0.5237 with time taken 4.34 secs\n",
            "Epoch 8 Batch 950 Loss 2.5648 Accuracy 0.5240 with time taken 4.33 secs\n",
            "Epoch 8 Batch 1000 Loss 2.5634 Accuracy 0.5242 with time taken 4.37 secs\n",
            "Epoch 8 Batch 1050 Loss 2.5617 Accuracy 0.5244 with time taken 4.57 secs\n",
            "Epoch 8 Batch 1100 Loss 2.5608 Accuracy 0.5244 with time taken 4.37 secs\n",
            "Epoch 8 Batch 1150 Loss 2.5598 Accuracy 0.5247 with time taken 4.44 secs\n",
            "Epoch 8 Batch 1200 Loss 2.5601 Accuracy 0.5247 with time taken 4.54 secs\n",
            "Epoch 8 Batch 1250 Loss 2.5587 Accuracy 0.5249 with time taken 4.35 secs\n",
            "Epoch 8 Batch 1300 Loss 2.5583 Accuracy 0.5250 with time taken 4.41 secs\n",
            "Epoch 8 Batch 1350 Loss 2.5575 Accuracy 0.5251 with time taken 4.37 secs\n",
            "Epoch 8 Batch 1400 Loss 2.5566 Accuracy 0.5253 with time taken 4.40 secs\n",
            "Epoch 8 Batch 1450 Loss 2.5564 Accuracy 0.5253 with time taken 4.33 secs\n",
            "Epoch 8 Batch 1500 Loss 2.5565 Accuracy 0.5253 with time taken 4.49 secs\n",
            "Epoch 8 Batch 1550 Loss 2.5557 Accuracy 0.5254 with time taken 4.43 secs\n",
            "Epoch 8 Batch 1600 Loss 2.5555 Accuracy 0.5254 with time taken 4.59 secs\n",
            "Epoch 8 Batch 1650 Loss 2.5559 Accuracy 0.5254 with time taken 4.50 secs\n",
            "Epoch 8 Batch 1700 Loss 2.5552 Accuracy 0.5255 with time taken 4.38 secs\n",
            "Epoch 8 Batch 1750 Loss 2.5544 Accuracy 0.5257 with time taken 4.32 secs\n",
            "Epoch 8 Batch 1800 Loss 2.5539 Accuracy 0.5257 with time taken 4.41 secs\n",
            "Epoch 8 Batch 1850 Loss 2.5539 Accuracy 0.5257 with time taken 4.29 secs\n",
            "Epoch 8 Batch 1900 Loss 2.5538 Accuracy 0.5258 with time taken 4.40 secs\n",
            "Epoch 8 Batch 1950 Loss 2.5533 Accuracy 0.5258 with time taken 4.40 secs\n",
            "Epoch 8 Batch 2000 Loss 2.5538 Accuracy 0.5257 with time taken 4.43 secs\n",
            "Epoch 8 Batch 2050 Loss 2.5539 Accuracy 0.5257 with time taken 4.37 secs\n",
            "Epoch 8 Batch 2100 Loss 2.5539 Accuracy 0.5256 with time taken 4.53 secs\n",
            "Epoch 8 Batch 2150 Loss 2.5537 Accuracy 0.5258 with time taken 4.48 secs\n",
            "Epoch 8 Batch 2200 Loss 2.5534 Accuracy 0.5258 with time taken 4.46 secs\n",
            "Epoch 8 Batch 2250 Loss 2.5533 Accuracy 0.5258 with time taken 4.48 secs\n",
            "Epoch 8 Batch 2300 Loss 2.5520 Accuracy 0.5260 with time taken 4.41 secs\n",
            "Epoch 8 Batch 2350 Loss 2.5516 Accuracy 0.5260 with time taken 4.32 secs\n",
            "Epoch 8 Batch 2400 Loss 2.5517 Accuracy 0.5260 with time taken 4.40 secs\n",
            "Epoch 8 Batch 2450 Loss 2.5508 Accuracy 0.5261 with time taken 4.31 secs\n",
            "Epoch 8 Batch 2500 Loss 2.5507 Accuracy 0.5262 with time taken 4.48 secs\n",
            "Epoch 8 Batch 2550 Loss 2.5499 Accuracy 0.5263 with time taken 4.42 secs\n",
            "Epoch 8 Batch 2600 Loss 2.5499 Accuracy 0.5263 with time taken 4.55 secs\n",
            "Epoch 8 Batch 2650 Loss 2.5491 Accuracy 0.5264 with time taken 4.33 secs\n",
            "Epoch 8 Batch 2700 Loss 2.5486 Accuracy 0.5265 with time taken 4.37 secs\n",
            "Epoch 8 Batch 2750 Loss 2.5482 Accuracy 0.5265 with time taken 4.35 secs\n",
            "Epoch 8 Batch 2800 Loss 2.5481 Accuracy 0.5265 with time taken 4.40 secs\n",
            "Epoch 8 Batch 2850 Loss 2.5473 Accuracy 0.5266 with time taken 4.56 secs\n",
            "Epoch 8 Batch 2900 Loss 2.5469 Accuracy 0.5266 with time taken 4.42 secs\n",
            "Epoch 8 Batch 2950 Loss 2.5460 Accuracy 0.5267 with time taken 4.41 secs\n",
            "Epoch 8 Batch 3000 Loss 2.5459 Accuracy 0.5268 with time taken 4.42 secs\n",
            "Epoch 8 Batch 3050 Loss 2.5456 Accuracy 0.5268 with time taken 4.29 secs\n",
            "Epoch 8 Batch 3100 Loss 2.5453 Accuracy 0.5269 with time taken 4.38 secs\n",
            "Epoch 8 Batch 3150 Loss 2.5456 Accuracy 0.5269 with time taken 4.41 secs\n",
            "Epoch 8 Batch 3200 Loss 2.5455 Accuracy 0.5269 with time taken 4.43 secs\n",
            "Epoch 8 Batch 3250 Loss 2.5455 Accuracy 0.5269 with time taken 4.43 secs\n",
            "Saving checkpoint for epoch 8 at drive/MyDrive/models/transformer_ru_en_v2/ckpt-8\n",
            "Epoch 8 Loss 2.5455 Accuracy 0.5269\n",
            "Time taken for 1 epoch: 288.04 secs\n",
            "\n",
            "Epoch 9 Batch 0 Loss 2.3812 Accuracy 0.5510 with time taken 0.71 secs\n",
            "Epoch 9 Batch 50 Loss 2.5111 Accuracy 0.5304 with time taken 4.38 secs\n",
            "Epoch 9 Batch 100 Loss 2.5168 Accuracy 0.5299 with time taken 4.47 secs\n",
            "Epoch 9 Batch 150 Loss 2.5226 Accuracy 0.5291 with time taken 4.54 secs\n",
            "Epoch 9 Batch 200 Loss 2.5204 Accuracy 0.5300 with time taken 4.26 secs\n",
            "Epoch 9 Batch 250 Loss 2.5152 Accuracy 0.5305 with time taken 4.53 secs\n",
            "Epoch 9 Batch 300 Loss 2.5143 Accuracy 0.5303 with time taken 4.50 secs\n",
            "Epoch 9 Batch 350 Loss 2.5117 Accuracy 0.5307 with time taken 4.45 secs\n",
            "Epoch 9 Batch 400 Loss 2.5124 Accuracy 0.5307 with time taken 4.42 secs\n",
            "Epoch 9 Batch 450 Loss 2.5112 Accuracy 0.5307 with time taken 4.50 secs\n",
            "Epoch 9 Batch 500 Loss 2.5100 Accuracy 0.5308 with time taken 4.53 secs\n",
            "Epoch 9 Batch 550 Loss 2.5118 Accuracy 0.5309 with time taken 4.48 secs\n",
            "Epoch 9 Batch 600 Loss 2.5127 Accuracy 0.5308 with time taken 4.55 secs\n",
            "Epoch 9 Batch 650 Loss 2.5104 Accuracy 0.5312 with time taken 4.42 secs\n",
            "Epoch 9 Batch 700 Loss 2.5093 Accuracy 0.5316 with time taken 4.29 secs\n",
            "Epoch 9 Batch 750 Loss 2.5075 Accuracy 0.5319 with time taken 4.39 secs\n",
            "Epoch 9 Batch 800 Loss 2.5059 Accuracy 0.5320 with time taken 4.45 secs\n",
            "Epoch 9 Batch 850 Loss 2.5063 Accuracy 0.5321 with time taken 4.34 secs\n",
            "Epoch 9 Batch 900 Loss 2.5072 Accuracy 0.5320 with time taken 4.34 secs\n",
            "Epoch 9 Batch 950 Loss 2.5062 Accuracy 0.5320 with time taken 4.31 secs\n",
            "Epoch 9 Batch 1000 Loss 2.5058 Accuracy 0.5321 with time taken 4.42 secs\n",
            "Epoch 9 Batch 1050 Loss 2.5038 Accuracy 0.5324 with time taken 4.38 secs\n",
            "Epoch 9 Batch 1100 Loss 2.5042 Accuracy 0.5323 with time taken 4.44 secs\n",
            "Epoch 9 Batch 1150 Loss 2.5038 Accuracy 0.5324 with time taken 4.38 secs\n",
            "Epoch 9 Batch 1200 Loss 2.5036 Accuracy 0.5325 with time taken 4.33 secs\n",
            "Epoch 9 Batch 1250 Loss 2.5026 Accuracy 0.5326 with time taken 4.43 secs\n",
            "Epoch 9 Batch 1300 Loss 2.5017 Accuracy 0.5327 with time taken 4.40 secs\n",
            "Epoch 9 Batch 1350 Loss 2.5024 Accuracy 0.5326 with time taken 4.53 secs\n",
            "Epoch 9 Batch 1400 Loss 2.5013 Accuracy 0.5327 with time taken 4.43 secs\n",
            "Epoch 9 Batch 1450 Loss 2.5004 Accuracy 0.5329 with time taken 4.34 secs\n",
            "Epoch 9 Batch 1500 Loss 2.5001 Accuracy 0.5329 with time taken 4.39 secs\n",
            "Epoch 9 Batch 1550 Loss 2.5004 Accuracy 0.5329 with time taken 4.37 secs\n",
            "Epoch 9 Batch 1600 Loss 2.5003 Accuracy 0.5329 with time taken 4.54 secs\n",
            "Epoch 9 Batch 1650 Loss 2.5007 Accuracy 0.5328 with time taken 4.42 secs\n",
            "Epoch 9 Batch 1700 Loss 2.5006 Accuracy 0.5327 with time taken 4.42 secs\n",
            "Epoch 9 Batch 1750 Loss 2.5001 Accuracy 0.5328 with time taken 4.29 secs\n",
            "Epoch 9 Batch 1800 Loss 2.4999 Accuracy 0.5328 with time taken 4.38 secs\n",
            "Epoch 9 Batch 1850 Loss 2.4997 Accuracy 0.5328 with time taken 4.42 secs\n",
            "Epoch 9 Batch 1900 Loss 2.4987 Accuracy 0.5330 with time taken 4.55 secs\n",
            "Epoch 9 Batch 1950 Loss 2.4977 Accuracy 0.5331 with time taken 4.47 secs\n",
            "Epoch 9 Batch 2000 Loss 2.4977 Accuracy 0.5331 with time taken 4.41 secs\n",
            "Epoch 9 Batch 2050 Loss 2.4972 Accuracy 0.5332 with time taken 4.42 secs\n",
            "Epoch 9 Batch 2100 Loss 2.4966 Accuracy 0.5333 with time taken 4.49 secs\n",
            "Epoch 9 Batch 2150 Loss 2.4964 Accuracy 0.5333 with time taken 4.39 secs\n",
            "Epoch 9 Batch 2200 Loss 2.4956 Accuracy 0.5333 with time taken 4.34 secs\n",
            "Epoch 9 Batch 2250 Loss 2.4952 Accuracy 0.5334 with time taken 4.43 secs\n",
            "Epoch 9 Batch 2300 Loss 2.4949 Accuracy 0.5334 with time taken 4.54 secs\n",
            "Epoch 9 Batch 2350 Loss 2.4947 Accuracy 0.5335 with time taken 4.43 secs\n",
            "Epoch 9 Batch 2400 Loss 2.4946 Accuracy 0.5335 with time taken 4.46 secs\n",
            "Epoch 9 Batch 2450 Loss 2.4940 Accuracy 0.5335 with time taken 4.48 secs\n",
            "Epoch 9 Batch 2500 Loss 2.4935 Accuracy 0.5336 with time taken 4.30 secs\n",
            "Epoch 9 Batch 2550 Loss 2.4930 Accuracy 0.5337 with time taken 4.52 secs\n",
            "Epoch 9 Batch 2600 Loss 2.4928 Accuracy 0.5338 with time taken 4.50 secs\n",
            "Epoch 9 Batch 2650 Loss 2.4928 Accuracy 0.5338 with time taken 4.48 secs\n",
            "Epoch 9 Batch 2700 Loss 2.4927 Accuracy 0.5338 with time taken 4.36 secs\n",
            "Epoch 9 Batch 2750 Loss 2.4927 Accuracy 0.5337 with time taken 4.54 secs\n",
            "Epoch 9 Batch 2800 Loss 2.4927 Accuracy 0.5337 with time taken 4.40 secs\n",
            "Epoch 9 Batch 2850 Loss 2.4926 Accuracy 0.5337 with time taken 4.38 secs\n",
            "Epoch 9 Batch 2900 Loss 2.4925 Accuracy 0.5337 with time taken 4.39 secs\n",
            "Epoch 9 Batch 2950 Loss 2.4923 Accuracy 0.5337 with time taken 4.40 secs\n",
            "Epoch 9 Batch 3000 Loss 2.4913 Accuracy 0.5339 with time taken 4.42 secs\n",
            "Epoch 9 Batch 3050 Loss 2.4908 Accuracy 0.5340 with time taken 4.41 secs\n",
            "Epoch 9 Batch 3100 Loss 2.4903 Accuracy 0.5341 with time taken 4.50 secs\n",
            "Epoch 9 Batch 3150 Loss 2.4904 Accuracy 0.5340 with time taken 4.38 secs\n",
            "Epoch 9 Batch 3200 Loss 2.4900 Accuracy 0.5341 with time taken 4.39 secs\n",
            "Epoch 9 Batch 3250 Loss 2.4901 Accuracy 0.5341 with time taken 4.39 secs\n",
            "Saving checkpoint for epoch 9 at drive/MyDrive/models/transformer_ru_en_v2/ckpt-9\n",
            "Epoch 9 Loss 2.4901 Accuracy 0.5341\n",
            "Time taken for 1 epoch: 288.87 secs\n",
            "\n",
            "Epoch 10 Batch 0 Loss 2.4358 Accuracy 0.5428 with time taken 0.70 secs\n",
            "Epoch 10 Batch 50 Loss 2.4314 Accuracy 0.5414 with time taken 4.34 secs\n",
            "Epoch 10 Batch 100 Loss 2.4434 Accuracy 0.5404 with time taken 4.47 secs\n",
            "Epoch 10 Batch 150 Loss 2.4532 Accuracy 0.5391 with time taken 4.53 secs\n",
            "Epoch 10 Batch 200 Loss 2.4528 Accuracy 0.5388 with time taken 4.44 secs\n",
            "Epoch 10 Batch 250 Loss 2.4539 Accuracy 0.5390 with time taken 4.45 secs\n",
            "Epoch 10 Batch 300 Loss 2.4562 Accuracy 0.5387 with time taken 4.42 secs\n",
            "Epoch 10 Batch 350 Loss 2.4545 Accuracy 0.5387 with time taken 4.45 secs\n",
            "Epoch 10 Batch 400 Loss 2.4556 Accuracy 0.5386 with time taken 4.47 secs\n",
            "Epoch 10 Batch 450 Loss 2.4559 Accuracy 0.5385 with time taken 4.40 secs\n",
            "Epoch 10 Batch 500 Loss 2.4599 Accuracy 0.5379 with time taken 4.48 secs\n",
            "Epoch 10 Batch 550 Loss 2.4597 Accuracy 0.5377 with time taken 4.42 secs\n",
            "Epoch 10 Batch 600 Loss 2.4634 Accuracy 0.5371 with time taken 4.41 secs\n",
            "Epoch 10 Batch 650 Loss 2.4606 Accuracy 0.5374 with time taken 4.37 secs\n",
            "Epoch 10 Batch 700 Loss 2.4588 Accuracy 0.5375 with time taken 4.43 secs\n",
            "Epoch 10 Batch 750 Loss 2.4597 Accuracy 0.5373 with time taken 4.51 secs\n",
            "Epoch 10 Batch 800 Loss 2.4572 Accuracy 0.5377 with time taken 4.50 secs\n",
            "Epoch 10 Batch 850 Loss 2.4573 Accuracy 0.5377 with time taken 4.52 secs\n",
            "Epoch 10 Batch 900 Loss 2.4556 Accuracy 0.5379 with time taken 4.40 secs\n",
            "Epoch 10 Batch 950 Loss 2.4550 Accuracy 0.5381 with time taken 4.35 secs\n",
            "Epoch 10 Batch 1000 Loss 2.4566 Accuracy 0.5379 with time taken 4.33 secs\n",
            "Epoch 10 Batch 1050 Loss 2.4559 Accuracy 0.5378 with time taken 4.37 secs\n",
            "Epoch 10 Batch 1100 Loss 2.4554 Accuracy 0.5381 with time taken 4.39 secs\n",
            "Epoch 10 Batch 1150 Loss 2.4563 Accuracy 0.5379 with time taken 4.45 secs\n",
            "Epoch 10 Batch 1200 Loss 2.4553 Accuracy 0.5380 with time taken 4.44 secs\n",
            "Epoch 10 Batch 1250 Loss 2.4543 Accuracy 0.5380 with time taken 4.36 secs\n",
            "Epoch 10 Batch 1300 Loss 2.4534 Accuracy 0.5382 with time taken 4.51 secs\n",
            "Epoch 10 Batch 1350 Loss 2.4529 Accuracy 0.5383 with time taken 4.38 secs\n",
            "Epoch 10 Batch 1400 Loss 2.4519 Accuracy 0.5386 with time taken 4.28 secs\n",
            "Epoch 10 Batch 1450 Loss 2.4527 Accuracy 0.5384 with time taken 4.40 secs\n",
            "Epoch 10 Batch 1500 Loss 2.4522 Accuracy 0.5384 with time taken 4.37 secs\n",
            "Epoch 10 Batch 1550 Loss 2.4527 Accuracy 0.5383 with time taken 4.47 secs\n",
            "Epoch 10 Batch 1600 Loss 2.4529 Accuracy 0.5384 with time taken 4.38 secs\n",
            "Epoch 10 Batch 1650 Loss 2.4512 Accuracy 0.5386 with time taken 4.47 secs\n",
            "Epoch 10 Batch 1700 Loss 2.4513 Accuracy 0.5385 with time taken 4.43 secs\n",
            "Epoch 10 Batch 1750 Loss 2.4510 Accuracy 0.5386 with time taken 4.50 secs\n",
            "Epoch 10 Batch 1800 Loss 2.4504 Accuracy 0.5387 with time taken 4.34 secs\n",
            "Epoch 10 Batch 1850 Loss 2.4497 Accuracy 0.5388 with time taken 4.35 secs\n",
            "Epoch 10 Batch 1900 Loss 2.4490 Accuracy 0.5390 with time taken 4.44 secs\n",
            "Epoch 10 Batch 1950 Loss 2.4481 Accuracy 0.5391 with time taken 4.50 secs\n",
            "Epoch 10 Batch 2000 Loss 2.4473 Accuracy 0.5392 with time taken 4.51 secs\n",
            "Epoch 10 Batch 2050 Loss 2.4476 Accuracy 0.5392 with time taken 4.47 secs\n",
            "Epoch 10 Batch 2100 Loss 2.4470 Accuracy 0.5393 with time taken 4.53 secs\n",
            "Epoch 10 Batch 2150 Loss 2.4476 Accuracy 0.5392 with time taken 4.45 secs\n",
            "Epoch 10 Batch 2200 Loss 2.4479 Accuracy 0.5391 with time taken 4.45 secs\n",
            "Epoch 10 Batch 2250 Loss 2.4476 Accuracy 0.5391 with time taken 4.40 secs\n",
            "Epoch 10 Batch 2300 Loss 2.4466 Accuracy 0.5392 with time taken 4.33 secs\n",
            "Epoch 10 Batch 2350 Loss 2.4466 Accuracy 0.5393 with time taken 4.35 secs\n",
            "Epoch 10 Batch 2400 Loss 2.4466 Accuracy 0.5393 with time taken 4.38 secs\n",
            "Epoch 10 Batch 2450 Loss 2.4464 Accuracy 0.5393 with time taken 4.43 secs\n",
            "Epoch 10 Batch 2500 Loss 2.4459 Accuracy 0.5393 with time taken 4.42 secs\n",
            "Epoch 10 Batch 2550 Loss 2.4461 Accuracy 0.5393 with time taken 4.48 secs\n",
            "Epoch 10 Batch 2600 Loss 2.4457 Accuracy 0.5393 with time taken 4.31 secs\n",
            "Epoch 10 Batch 2650 Loss 2.4455 Accuracy 0.5393 with time taken 4.45 secs\n",
            "Epoch 10 Batch 2700 Loss 2.4449 Accuracy 0.5394 with time taken 4.32 secs\n",
            "Epoch 10 Batch 2750 Loss 2.4442 Accuracy 0.5396 with time taken 4.42 secs\n",
            "Epoch 10 Batch 2800 Loss 2.4440 Accuracy 0.5396 with time taken 4.52 secs\n",
            "Epoch 10 Batch 2850 Loss 2.4438 Accuracy 0.5397 with time taken 4.40 secs\n",
            "Epoch 10 Batch 2900 Loss 2.4438 Accuracy 0.5396 with time taken 4.37 secs\n",
            "Epoch 10 Batch 2950 Loss 2.4433 Accuracy 0.5397 with time taken 4.42 secs\n",
            "Epoch 10 Batch 3000 Loss 2.4433 Accuracy 0.5398 with time taken 4.39 secs\n",
            "Epoch 10 Batch 3050 Loss 2.4433 Accuracy 0.5398 with time taken 4.53 secs\n",
            "Epoch 10 Batch 3100 Loss 2.4433 Accuracy 0.5397 with time taken 4.45 secs\n",
            "Epoch 10 Batch 3150 Loss 2.4431 Accuracy 0.5398 with time taken 4.33 secs\n",
            "Epoch 10 Batch 3200 Loss 2.4430 Accuracy 0.5398 with time taken 4.47 secs\n",
            "Epoch 10 Batch 3250 Loss 2.4429 Accuracy 0.5398 with time taken 4.46 secs\n",
            "Saving checkpoint for epoch 10 at drive/MyDrive/models/transformer_ru_en_v2/ckpt-10\n",
            "Epoch 10 Loss 2.4429 Accuracy 0.5398\n",
            "Time taken for 1 epoch: 288.81 secs\n",
            "\n",
            "Epoch 11 Batch 0 Loss 2.2671 Accuracy 0.5679 with time taken 0.69 secs\n",
            "Epoch 11 Batch 50 Loss 2.4099 Accuracy 0.5439 with time taken 4.36 secs\n",
            "Epoch 11 Batch 100 Loss 2.3994 Accuracy 0.5447 with time taken 4.39 secs\n",
            "Epoch 11 Batch 150 Loss 2.4076 Accuracy 0.5441 with time taken 4.53 secs\n",
            "Epoch 11 Batch 200 Loss 2.4019 Accuracy 0.5449 with time taken 4.45 secs\n",
            "Epoch 11 Batch 250 Loss 2.4018 Accuracy 0.5446 with time taken 4.54 secs\n",
            "Epoch 11 Batch 300 Loss 2.4017 Accuracy 0.5446 with time taken 4.49 secs\n",
            "Epoch 11 Batch 350 Loss 2.4034 Accuracy 0.5443 with time taken 4.32 secs\n",
            "Epoch 11 Batch 400 Loss 2.4054 Accuracy 0.5441 with time taken 4.35 secs\n",
            "Epoch 11 Batch 450 Loss 2.4087 Accuracy 0.5438 with time taken 4.48 secs\n",
            "Epoch 11 Batch 500 Loss 2.4091 Accuracy 0.5439 with time taken 4.46 secs\n",
            "Epoch 11 Batch 550 Loss 2.4123 Accuracy 0.5436 with time taken 4.35 secs\n",
            "Epoch 11 Batch 600 Loss 2.4144 Accuracy 0.5434 with time taken 4.58 secs\n",
            "Epoch 11 Batch 650 Loss 2.4143 Accuracy 0.5437 with time taken 4.29 secs\n",
            "Epoch 11 Batch 700 Loss 2.4129 Accuracy 0.5438 with time taken 4.45 secs\n",
            "Epoch 11 Batch 750 Loss 2.4130 Accuracy 0.5439 with time taken 4.51 secs\n",
            "Epoch 11 Batch 800 Loss 2.4130 Accuracy 0.5439 with time taken 4.32 secs\n",
            "Epoch 11 Batch 850 Loss 2.4129 Accuracy 0.5440 with time taken 4.48 secs\n",
            "Epoch 11 Batch 900 Loss 2.4125 Accuracy 0.5441 with time taken 4.29 secs\n",
            "Epoch 11 Batch 950 Loss 2.4109 Accuracy 0.5443 with time taken 4.31 secs\n",
            "Epoch 11 Batch 1000 Loss 2.4113 Accuracy 0.5442 with time taken 4.42 secs\n",
            "Epoch 11 Batch 1050 Loss 2.4107 Accuracy 0.5443 with time taken 4.37 secs\n",
            "Epoch 11 Batch 1100 Loss 2.4090 Accuracy 0.5445 with time taken 4.34 secs\n",
            "Epoch 11 Batch 1150 Loss 2.4091 Accuracy 0.5446 with time taken 4.35 secs\n",
            "Epoch 11 Batch 1200 Loss 2.4087 Accuracy 0.5446 with time taken 4.28 secs\n",
            "Epoch 11 Batch 1250 Loss 2.4089 Accuracy 0.5446 with time taken 4.27 secs\n",
            "Epoch 11 Batch 1300 Loss 2.4107 Accuracy 0.5444 with time taken 4.43 secs\n",
            "Epoch 11 Batch 1350 Loss 2.4107 Accuracy 0.5444 with time taken 4.43 secs\n",
            "Epoch 11 Batch 1400 Loss 2.4106 Accuracy 0.5443 with time taken 4.43 secs\n",
            "Epoch 11 Batch 1450 Loss 2.4100 Accuracy 0.5444 with time taken 4.35 secs\n",
            "Epoch 11 Batch 1500 Loss 2.4098 Accuracy 0.5443 with time taken 4.42 secs\n",
            "Epoch 11 Batch 1550 Loss 2.4096 Accuracy 0.5443 with time taken 4.33 secs\n",
            "Epoch 11 Batch 1600 Loss 2.4096 Accuracy 0.5443 with time taken 4.42 secs\n",
            "Epoch 11 Batch 1650 Loss 2.4102 Accuracy 0.5442 with time taken 4.36 secs\n",
            "Epoch 11 Batch 1700 Loss 2.4104 Accuracy 0.5442 with time taken 4.58 secs\n",
            "Epoch 11 Batch 1750 Loss 2.4099 Accuracy 0.5442 with time taken 4.32 secs\n",
            "Epoch 11 Batch 1800 Loss 2.4093 Accuracy 0.5443 with time taken 4.36 secs\n",
            "Epoch 11 Batch 1850 Loss 2.4102 Accuracy 0.5442 with time taken 4.38 secs\n",
            "Epoch 11 Batch 1900 Loss 2.4095 Accuracy 0.5443 with time taken 4.33 secs\n",
            "Epoch 11 Batch 1950 Loss 2.4089 Accuracy 0.5444 with time taken 4.44 secs\n",
            "Epoch 11 Batch 2000 Loss 2.4090 Accuracy 0.5444 with time taken 4.30 secs\n",
            "Epoch 11 Batch 2050 Loss 2.4083 Accuracy 0.5445 with time taken 4.44 secs\n",
            "Epoch 11 Batch 2100 Loss 2.4080 Accuracy 0.5445 with time taken 4.36 secs\n",
            "Epoch 11 Batch 2150 Loss 2.4081 Accuracy 0.5445 with time taken 4.42 secs\n",
            "Epoch 11 Batch 2200 Loss 2.4074 Accuracy 0.5446 with time taken 4.41 secs\n",
            "Epoch 11 Batch 2250 Loss 2.4072 Accuracy 0.5446 with time taken 4.42 secs\n",
            "Epoch 11 Batch 2300 Loss 2.4069 Accuracy 0.5446 with time taken 4.47 secs\n",
            "Epoch 11 Batch 2350 Loss 2.4065 Accuracy 0.5447 with time taken 4.46 secs\n",
            "Epoch 11 Batch 2400 Loss 2.4065 Accuracy 0.5447 with time taken 4.38 secs\n",
            "Epoch 11 Batch 2450 Loss 2.4065 Accuracy 0.5446 with time taken 4.44 secs\n",
            "Epoch 11 Batch 2500 Loss 2.4058 Accuracy 0.5447 with time taken 4.40 secs\n",
            "Epoch 11 Batch 2550 Loss 2.4057 Accuracy 0.5447 with time taken 4.48 secs\n",
            "Epoch 11 Batch 2600 Loss 2.4056 Accuracy 0.5448 with time taken 4.23 secs\n",
            "Epoch 11 Batch 2650 Loss 2.4052 Accuracy 0.5448 with time taken 4.43 secs\n",
            "Epoch 11 Batch 2700 Loss 2.4048 Accuracy 0.5448 with time taken 4.44 secs\n",
            "Epoch 11 Batch 2750 Loss 2.4046 Accuracy 0.5449 with time taken 4.35 secs\n",
            "Epoch 11 Batch 2800 Loss 2.4044 Accuracy 0.5449 with time taken 4.38 secs\n",
            "Epoch 11 Batch 2850 Loss 2.4046 Accuracy 0.5448 with time taken 4.46 secs\n",
            "Epoch 11 Batch 2900 Loss 2.4045 Accuracy 0.5449 with time taken 4.54 secs\n",
            "Epoch 11 Batch 2950 Loss 2.4042 Accuracy 0.5449 with time taken 4.32 secs\n",
            "Epoch 11 Batch 3000 Loss 2.4039 Accuracy 0.5450 with time taken 4.56 secs\n",
            "Epoch 11 Batch 3050 Loss 2.4042 Accuracy 0.5449 with time taken 4.42 secs\n",
            "Epoch 11 Batch 3100 Loss 2.4037 Accuracy 0.5450 with time taken 4.39 secs\n",
            "Epoch 11 Batch 3150 Loss 2.4031 Accuracy 0.5451 with time taken 4.34 secs\n",
            "Epoch 11 Batch 3200 Loss 2.4033 Accuracy 0.5450 with time taken 4.44 secs\n",
            "Epoch 11 Batch 3250 Loss 2.4028 Accuracy 0.5451 with time taken 4.27 secs\n",
            "Saving checkpoint for epoch 11 at drive/MyDrive/models/transformer_ru_en_v2/ckpt-11\n",
            "Epoch 11 Loss 2.4028 Accuracy 0.5451\n",
            "Time taken for 1 epoch: 287.61 secs\n",
            "\n",
            "Epoch 12 Batch 0 Loss 2.4862 Accuracy 0.5375 with time taken 0.70 secs\n",
            "Epoch 12 Batch 50 Loss 2.3593 Accuracy 0.5486 with time taken 4.42 secs\n",
            "Epoch 12 Batch 100 Loss 2.3944 Accuracy 0.5440 with time taken 4.44 secs\n",
            "Epoch 12 Batch 150 Loss 2.3868 Accuracy 0.5456 with time taken 4.56 secs\n",
            "Epoch 12 Batch 200 Loss 2.3796 Accuracy 0.5473 with time taken 4.30 secs\n",
            "Epoch 12 Batch 250 Loss 2.3768 Accuracy 0.5475 with time taken 4.34 secs\n",
            "Epoch 12 Batch 300 Loss 2.3771 Accuracy 0.5474 with time taken 4.50 secs\n",
            "Epoch 12 Batch 350 Loss 2.3785 Accuracy 0.5473 with time taken 4.42 secs\n",
            "Epoch 12 Batch 400 Loss 2.3787 Accuracy 0.5475 with time taken 4.45 secs\n",
            "Epoch 12 Batch 450 Loss 2.3796 Accuracy 0.5475 with time taken 4.33 secs\n",
            "Epoch 12 Batch 500 Loss 2.3799 Accuracy 0.5473 with time taken 4.47 secs\n",
            "Epoch 12 Batch 550 Loss 2.3818 Accuracy 0.5471 with time taken 4.38 secs\n",
            "Epoch 12 Batch 600 Loss 2.3818 Accuracy 0.5472 with time taken 4.39 secs\n",
            "Epoch 12 Batch 650 Loss 2.3790 Accuracy 0.5477 with time taken 4.51 secs\n",
            "Epoch 12 Batch 700 Loss 2.3779 Accuracy 0.5478 with time taken 4.28 secs\n",
            "Epoch 12 Batch 750 Loss 2.3778 Accuracy 0.5478 with time taken 4.37 secs\n",
            "Epoch 12 Batch 800 Loss 2.3772 Accuracy 0.5480 with time taken 4.38 secs\n",
            "Epoch 12 Batch 850 Loss 2.3752 Accuracy 0.5483 with time taken 4.35 secs\n",
            "Epoch 12 Batch 900 Loss 2.3754 Accuracy 0.5481 with time taken 4.40 secs\n",
            "Epoch 12 Batch 950 Loss 2.3752 Accuracy 0.5482 with time taken 4.46 secs\n",
            "Epoch 12 Batch 1000 Loss 2.3746 Accuracy 0.5483 with time taken 4.39 secs\n",
            "Epoch 12 Batch 1050 Loss 2.3734 Accuracy 0.5485 with time taken 4.43 secs\n",
            "Epoch 12 Batch 1100 Loss 2.3746 Accuracy 0.5484 with time taken 4.46 secs\n",
            "Epoch 12 Batch 1150 Loss 2.3749 Accuracy 0.5484 with time taken 4.37 secs\n",
            "Epoch 12 Batch 1200 Loss 2.3749 Accuracy 0.5485 with time taken 4.48 secs\n",
            "Epoch 12 Batch 1250 Loss 2.3742 Accuracy 0.5486 with time taken 4.47 secs\n",
            "Epoch 12 Batch 1300 Loss 2.3739 Accuracy 0.5488 with time taken 4.45 secs\n",
            "Epoch 12 Batch 1350 Loss 2.3733 Accuracy 0.5489 with time taken 4.37 secs\n",
            "Epoch 12 Batch 1400 Loss 2.3740 Accuracy 0.5488 with time taken 4.40 secs\n",
            "Epoch 12 Batch 1450 Loss 2.3736 Accuracy 0.5489 with time taken 4.36 secs\n",
            "Epoch 12 Batch 1500 Loss 2.3739 Accuracy 0.5488 with time taken 4.48 secs\n",
            "Epoch 12 Batch 1550 Loss 2.3735 Accuracy 0.5488 with time taken 4.37 secs\n",
            "Epoch 12 Batch 1600 Loss 2.3739 Accuracy 0.5488 with time taken 4.60 secs\n",
            "Epoch 12 Batch 1650 Loss 2.3730 Accuracy 0.5489 with time taken 4.37 secs\n",
            "Epoch 12 Batch 1700 Loss 2.3732 Accuracy 0.5489 with time taken 4.51 secs\n",
            "Epoch 12 Batch 1750 Loss 2.3732 Accuracy 0.5489 with time taken 4.36 secs\n",
            "Epoch 12 Batch 1800 Loss 2.3728 Accuracy 0.5489 with time taken 4.41 secs\n",
            "Epoch 12 Batch 1850 Loss 2.3732 Accuracy 0.5488 with time taken 4.40 secs\n",
            "Epoch 12 Batch 1900 Loss 2.3728 Accuracy 0.5489 with time taken 4.48 secs\n",
            "Epoch 12 Batch 1950 Loss 2.3726 Accuracy 0.5489 with time taken 4.51 secs\n",
            "Epoch 12 Batch 2000 Loss 2.3721 Accuracy 0.5490 with time taken 4.41 secs\n",
            "Epoch 12 Batch 2050 Loss 2.3715 Accuracy 0.5492 with time taken 4.37 secs\n",
            "Epoch 12 Batch 2100 Loss 2.3710 Accuracy 0.5493 with time taken 4.50 secs\n",
            "Epoch 12 Batch 2150 Loss 2.3707 Accuracy 0.5493 with time taken 4.51 secs\n",
            "Epoch 12 Batch 2200 Loss 2.3707 Accuracy 0.5493 with time taken 4.47 secs\n",
            "Epoch 12 Batch 2250 Loss 2.3706 Accuracy 0.5493 with time taken 4.48 secs\n",
            "Epoch 12 Batch 2300 Loss 2.3709 Accuracy 0.5493 with time taken 4.40 secs\n",
            "Epoch 12 Batch 2350 Loss 2.3700 Accuracy 0.5494 with time taken 4.43 secs\n",
            "Epoch 12 Batch 2400 Loss 2.3705 Accuracy 0.5493 with time taken 4.51 secs\n",
            "Epoch 12 Batch 2450 Loss 2.3701 Accuracy 0.5493 with time taken 4.37 secs\n",
            "Epoch 12 Batch 2500 Loss 2.3702 Accuracy 0.5493 with time taken 4.38 secs\n",
            "Epoch 12 Batch 2550 Loss 2.3702 Accuracy 0.5493 with time taken 4.51 secs\n",
            "Epoch 12 Batch 2600 Loss 2.3698 Accuracy 0.5494 with time taken 4.43 secs\n",
            "Epoch 12 Batch 2650 Loss 2.3696 Accuracy 0.5494 with time taken 4.45 secs\n",
            "Epoch 12 Batch 2700 Loss 2.3698 Accuracy 0.5494 with time taken 4.53 secs\n",
            "Epoch 12 Batch 2750 Loss 2.3697 Accuracy 0.5494 with time taken 4.50 secs\n",
            "Epoch 12 Batch 2800 Loss 2.3694 Accuracy 0.5494 with time taken 4.46 secs\n",
            "Epoch 12 Batch 2850 Loss 2.3695 Accuracy 0.5494 with time taken 4.61 secs\n",
            "Epoch 12 Batch 2900 Loss 2.3684 Accuracy 0.5496 with time taken 4.43 secs\n",
            "Epoch 12 Batch 2950 Loss 2.3683 Accuracy 0.5496 with time taken 4.54 secs\n",
            "Epoch 12 Batch 3000 Loss 2.3683 Accuracy 0.5496 with time taken 4.54 secs\n",
            "Epoch 12 Batch 3050 Loss 2.3681 Accuracy 0.5496 with time taken 4.38 secs\n",
            "Epoch 12 Batch 3100 Loss 2.3681 Accuracy 0.5496 with time taken 4.43 secs\n",
            "Epoch 12 Batch 3150 Loss 2.3680 Accuracy 0.5496 with time taken 4.54 secs\n",
            "Epoch 12 Batch 3200 Loss 2.3684 Accuracy 0.5496 with time taken 4.47 secs\n",
            "Epoch 12 Batch 3250 Loss 2.3681 Accuracy 0.5496 with time taken 4.33 secs\n",
            "Saving checkpoint for epoch 12 at drive/MyDrive/models/transformer_ru_en_v2/ckpt-12\n",
            "Epoch 12 Loss 2.3681 Accuracy 0.5496\n",
            "Time taken for 1 epoch: 289.62 secs\n",
            "\n",
            "Epoch 13 Batch 0 Loss 2.2918 Accuracy 0.5651 with time taken 0.72 secs\n",
            "Epoch 13 Batch 50 Loss 2.3806 Accuracy 0.5495 with time taken 4.42 secs\n",
            "Epoch 13 Batch 100 Loss 2.3556 Accuracy 0.5519 with time taken 4.62 secs\n",
            "Epoch 13 Batch 150 Loss 2.3488 Accuracy 0.5524 with time taken 4.40 secs\n",
            "Epoch 13 Batch 200 Loss 2.3447 Accuracy 0.5526 with time taken 4.51 secs\n",
            "Epoch 13 Batch 250 Loss 2.3396 Accuracy 0.5534 with time taken 4.44 secs\n",
            "Epoch 13 Batch 300 Loss 2.3376 Accuracy 0.5538 with time taken 4.41 secs\n",
            "Epoch 13 Batch 350 Loss 2.3384 Accuracy 0.5537 with time taken 4.39 secs\n",
            "Epoch 13 Batch 400 Loss 2.3384 Accuracy 0.5536 with time taken 4.43 secs\n",
            "Epoch 13 Batch 450 Loss 2.3412 Accuracy 0.5531 with time taken 4.49 secs\n",
            "Epoch 13 Batch 500 Loss 2.3430 Accuracy 0.5529 with time taken 4.44 secs\n",
            "Epoch 13 Batch 550 Loss 2.3445 Accuracy 0.5527 with time taken 4.50 secs\n",
            "Epoch 13 Batch 600 Loss 2.3463 Accuracy 0.5524 with time taken 4.40 secs\n",
            "Epoch 13 Batch 650 Loss 2.3478 Accuracy 0.5522 with time taken 4.36 secs\n",
            "Epoch 13 Batch 700 Loss 2.3474 Accuracy 0.5523 with time taken 4.44 secs\n",
            "Epoch 13 Batch 750 Loss 2.3457 Accuracy 0.5525 with time taken 4.29 secs\n",
            "Epoch 13 Batch 800 Loss 2.3442 Accuracy 0.5526 with time taken 4.47 secs\n",
            "Epoch 13 Batch 850 Loss 2.3434 Accuracy 0.5527 with time taken 4.51 secs\n",
            "Epoch 13 Batch 900 Loss 2.3458 Accuracy 0.5524 with time taken 4.44 secs\n",
            "Epoch 13 Batch 950 Loss 2.3463 Accuracy 0.5521 with time taken 4.35 secs\n",
            "Epoch 13 Batch 1000 Loss 2.3451 Accuracy 0.5522 with time taken 4.43 secs\n",
            "Epoch 13 Batch 1050 Loss 2.3441 Accuracy 0.5524 with time taken 4.39 secs\n",
            "Epoch 13 Batch 1100 Loss 2.3429 Accuracy 0.5526 with time taken 4.40 secs\n",
            "Epoch 13 Batch 1150 Loss 2.3433 Accuracy 0.5526 with time taken 4.55 secs\n",
            "Epoch 13 Batch 1200 Loss 2.3435 Accuracy 0.5526 with time taken 4.35 secs\n",
            "Epoch 13 Batch 1250 Loss 2.3434 Accuracy 0.5526 with time taken 4.48 secs\n",
            "Epoch 13 Batch 1300 Loss 2.3421 Accuracy 0.5529 with time taken 4.39 secs\n",
            "Epoch 13 Batch 1350 Loss 2.3427 Accuracy 0.5528 with time taken 4.37 secs\n",
            "Epoch 13 Batch 1400 Loss 2.3429 Accuracy 0.5528 with time taken 4.40 secs\n",
            "Epoch 13 Batch 1450 Loss 2.3423 Accuracy 0.5530 with time taken 4.36 secs\n",
            "Epoch 13 Batch 1500 Loss 2.3426 Accuracy 0.5529 with time taken 4.47 secs\n",
            "Epoch 13 Batch 1550 Loss 2.3430 Accuracy 0.5528 with time taken 4.42 secs\n",
            "Epoch 13 Batch 1600 Loss 2.3431 Accuracy 0.5528 with time taken 4.43 secs\n",
            "Epoch 13 Batch 1650 Loss 2.3420 Accuracy 0.5530 with time taken 4.47 secs\n",
            "Epoch 13 Batch 1700 Loss 2.3428 Accuracy 0.5528 with time taken 4.44 secs\n",
            "Epoch 13 Batch 1750 Loss 2.3420 Accuracy 0.5529 with time taken 4.45 secs\n",
            "Epoch 13 Batch 1800 Loss 2.3421 Accuracy 0.5530 with time taken 4.43 secs\n",
            "Epoch 13 Batch 1850 Loss 2.3423 Accuracy 0.5530 with time taken 4.48 secs\n",
            "Epoch 13 Batch 1900 Loss 2.3413 Accuracy 0.5531 with time taken 4.43 secs\n",
            "Epoch 13 Batch 1950 Loss 2.3414 Accuracy 0.5531 with time taken 4.49 secs\n",
            "Epoch 13 Batch 2000 Loss 2.3411 Accuracy 0.5532 with time taken 4.24 secs\n",
            "Epoch 13 Batch 2050 Loss 2.3413 Accuracy 0.5531 with time taken 4.36 secs\n",
            "Epoch 13 Batch 2100 Loss 2.3419 Accuracy 0.5530 with time taken 4.37 secs\n",
            "Epoch 13 Batch 2150 Loss 2.3415 Accuracy 0.5531 with time taken 4.44 secs\n",
            "Epoch 13 Batch 2200 Loss 2.3410 Accuracy 0.5530 with time taken 4.31 secs\n",
            "Epoch 13 Batch 2250 Loss 2.3414 Accuracy 0.5530 with time taken 4.45 secs\n",
            "Epoch 13 Batch 2300 Loss 2.3411 Accuracy 0.5530 with time taken 4.40 secs\n",
            "Epoch 13 Batch 2350 Loss 2.3404 Accuracy 0.5531 with time taken 4.29 secs\n",
            "Epoch 13 Batch 2400 Loss 2.3399 Accuracy 0.5532 with time taken 4.28 secs\n",
            "Epoch 13 Batch 2450 Loss 2.3400 Accuracy 0.5532 with time taken 4.29 secs\n",
            "Epoch 13 Batch 2500 Loss 2.3404 Accuracy 0.5531 with time taken 4.33 secs\n",
            "Epoch 13 Batch 2550 Loss 2.3406 Accuracy 0.5531 with time taken 4.46 secs\n",
            "Epoch 13 Batch 2600 Loss 2.3398 Accuracy 0.5532 with time taken 4.43 secs\n",
            "Epoch 13 Batch 2650 Loss 2.3399 Accuracy 0.5532 with time taken 4.37 secs\n",
            "Epoch 13 Batch 2700 Loss 2.3397 Accuracy 0.5533 with time taken 4.39 secs\n",
            "Epoch 13 Batch 2750 Loss 2.3393 Accuracy 0.5534 with time taken 4.40 secs\n",
            "Epoch 13 Batch 2800 Loss 2.3391 Accuracy 0.5534 with time taken 4.53 secs\n",
            "Epoch 13 Batch 2850 Loss 2.3394 Accuracy 0.5533 with time taken 4.58 secs\n",
            "Epoch 13 Batch 2900 Loss 2.3395 Accuracy 0.5533 with time taken 4.54 secs\n",
            "Epoch 13 Batch 2950 Loss 2.3393 Accuracy 0.5534 with time taken 4.47 secs\n",
            "Epoch 13 Batch 3000 Loss 2.3386 Accuracy 0.5535 with time taken 4.41 secs\n",
            "Epoch 13 Batch 3050 Loss 2.3383 Accuracy 0.5535 with time taken 4.40 secs\n",
            "Epoch 13 Batch 3100 Loss 2.3388 Accuracy 0.5534 with time taken 4.37 secs\n",
            "Epoch 13 Batch 3150 Loss 2.3393 Accuracy 0.5534 with time taken 4.49 secs\n",
            "Epoch 13 Batch 3200 Loss 2.3393 Accuracy 0.5534 with time taken 4.44 secs\n",
            "Epoch 13 Batch 3250 Loss 2.3391 Accuracy 0.5534 with time taken 4.33 secs\n",
            "Saving checkpoint for epoch 13 at drive/MyDrive/models/transformer_ru_en_v2/ckpt-13\n",
            "Epoch 13 Loss 2.3391 Accuracy 0.5534\n",
            "Time taken for 1 epoch: 288.64 secs\n",
            "\n",
            "Epoch 14 Batch 0 Loss 2.6999 Accuracy 0.5109 with time taken 0.74 secs\n",
            "Epoch 14 Batch 50 Loss 2.3410 Accuracy 0.5510 with time taken 4.49 secs\n",
            "Epoch 14 Batch 100 Loss 2.3381 Accuracy 0.5522 with time taken 4.47 secs\n",
            "Epoch 14 Batch 150 Loss 2.3260 Accuracy 0.5539 with time taken 4.52 secs\n",
            "Epoch 14 Batch 200 Loss 2.3213 Accuracy 0.5546 with time taken 4.36 secs\n",
            "Epoch 14 Batch 250 Loss 2.3220 Accuracy 0.5549 with time taken 4.46 secs\n",
            "Epoch 14 Batch 300 Loss 2.3206 Accuracy 0.5551 with time taken 4.30 secs\n",
            "Epoch 14 Batch 350 Loss 2.3185 Accuracy 0.5552 with time taken 4.35 secs\n",
            "Epoch 14 Batch 400 Loss 2.3171 Accuracy 0.5555 with time taken 4.42 secs\n",
            "Epoch 14 Batch 450 Loss 2.3208 Accuracy 0.5552 with time taken 4.49 secs\n",
            "Epoch 14 Batch 500 Loss 2.3191 Accuracy 0.5555 with time taken 4.45 secs\n",
            "Epoch 14 Batch 550 Loss 2.3178 Accuracy 0.5559 with time taken 4.37 secs\n",
            "Epoch 14 Batch 600 Loss 2.3191 Accuracy 0.5555 with time taken 4.31 secs\n",
            "Epoch 14 Batch 650 Loss 2.3190 Accuracy 0.5556 with time taken 4.37 secs\n",
            "Epoch 14 Batch 700 Loss 2.3176 Accuracy 0.5558 with time taken 4.36 secs\n",
            "Epoch 14 Batch 750 Loss 2.3190 Accuracy 0.5556 with time taken 4.53 secs\n",
            "Epoch 14 Batch 800 Loss 2.3200 Accuracy 0.5555 with time taken 4.39 secs\n",
            "Epoch 14 Batch 850 Loss 2.3184 Accuracy 0.5557 with time taken 4.41 secs\n",
            "Epoch 14 Batch 900 Loss 2.3173 Accuracy 0.5559 with time taken 4.45 secs\n",
            "Epoch 14 Batch 950 Loss 2.3182 Accuracy 0.5558 with time taken 4.38 secs\n",
            "Epoch 14 Batch 1000 Loss 2.3196 Accuracy 0.5556 with time taken 4.39 secs\n",
            "Epoch 14 Batch 1050 Loss 2.3195 Accuracy 0.5555 with time taken 4.43 secs\n",
            "Epoch 14 Batch 1100 Loss 2.3189 Accuracy 0.5557 with time taken 4.39 secs\n",
            "Epoch 14 Batch 1150 Loss 2.3188 Accuracy 0.5557 with time taken 4.36 secs\n",
            "Epoch 14 Batch 1200 Loss 2.3185 Accuracy 0.5557 with time taken 4.47 secs\n",
            "Epoch 14 Batch 1250 Loss 2.3189 Accuracy 0.5556 with time taken 4.41 secs\n",
            "Epoch 14 Batch 1300 Loss 2.3183 Accuracy 0.5558 with time taken 4.36 secs\n",
            "Epoch 14 Batch 1350 Loss 2.3186 Accuracy 0.5558 with time taken 4.48 secs\n",
            "Epoch 14 Batch 1400 Loss 2.3177 Accuracy 0.5559 with time taken 4.43 secs\n",
            "Epoch 14 Batch 1450 Loss 2.3180 Accuracy 0.5559 with time taken 4.33 secs\n",
            "Epoch 14 Batch 1500 Loss 2.3184 Accuracy 0.5559 with time taken 4.37 secs\n",
            "Epoch 14 Batch 1550 Loss 2.3182 Accuracy 0.5560 with time taken 4.36 secs\n",
            "Epoch 14 Batch 1600 Loss 2.3178 Accuracy 0.5560 with time taken 4.31 secs\n",
            "Epoch 14 Batch 1650 Loss 2.3183 Accuracy 0.5559 with time taken 4.39 secs\n",
            "Epoch 14 Batch 1700 Loss 2.3187 Accuracy 0.5558 with time taken 4.52 secs\n",
            "Epoch 14 Batch 1750 Loss 2.3188 Accuracy 0.5558 with time taken 4.40 secs\n",
            "Epoch 14 Batch 1800 Loss 2.3184 Accuracy 0.5559 with time taken 4.47 secs\n",
            "Epoch 14 Batch 1850 Loss 2.3181 Accuracy 0.5559 with time taken 4.37 secs\n",
            "Epoch 14 Batch 1900 Loss 2.3172 Accuracy 0.5561 with time taken 4.34 secs\n",
            "Epoch 14 Batch 1950 Loss 2.3167 Accuracy 0.5561 with time taken 4.53 secs\n",
            "Epoch 14 Batch 2000 Loss 2.3166 Accuracy 0.5562 with time taken 4.32 secs\n",
            "Epoch 14 Batch 2050 Loss 2.3165 Accuracy 0.5563 with time taken 4.34 secs\n",
            "Epoch 14 Batch 2100 Loss 2.3167 Accuracy 0.5562 with time taken 4.47 secs\n",
            "Epoch 14 Batch 2150 Loss 2.3170 Accuracy 0.5562 with time taken 4.47 secs\n",
            "Epoch 14 Batch 2200 Loss 2.3169 Accuracy 0.5562 with time taken 4.34 secs\n",
            "Epoch 14 Batch 2250 Loss 2.3164 Accuracy 0.5563 with time taken 4.56 secs\n",
            "Epoch 14 Batch 2300 Loss 2.3164 Accuracy 0.5563 with time taken 4.49 secs\n",
            "Epoch 14 Batch 2350 Loss 2.3152 Accuracy 0.5565 with time taken 4.55 secs\n",
            "Epoch 14 Batch 2400 Loss 2.3157 Accuracy 0.5565 with time taken 4.48 secs\n",
            "Epoch 14 Batch 2450 Loss 2.3156 Accuracy 0.5565 with time taken 4.37 secs\n",
            "Epoch 14 Batch 2500 Loss 2.3147 Accuracy 0.5566 with time taken 4.33 secs\n",
            "Epoch 14 Batch 2550 Loss 2.3146 Accuracy 0.5566 with time taken 4.34 secs\n",
            "Epoch 14 Batch 2600 Loss 2.3140 Accuracy 0.5567 with time taken 4.35 secs\n",
            "Epoch 14 Batch 2650 Loss 2.3142 Accuracy 0.5567 with time taken 4.28 secs\n",
            "Epoch 14 Batch 2700 Loss 2.3137 Accuracy 0.5567 with time taken 4.39 secs\n",
            "Epoch 14 Batch 2750 Loss 2.3132 Accuracy 0.5567 with time taken 4.34 secs\n",
            "Epoch 14 Batch 2800 Loss 2.3135 Accuracy 0.5567 with time taken 4.45 secs\n",
            "Epoch 14 Batch 2850 Loss 2.3135 Accuracy 0.5567 with time taken 4.41 secs\n",
            "Epoch 14 Batch 2900 Loss 2.3134 Accuracy 0.5567 with time taken 4.35 secs\n",
            "Epoch 14 Batch 2950 Loss 2.3135 Accuracy 0.5567 with time taken 4.52 secs\n",
            "Epoch 14 Batch 3000 Loss 2.3130 Accuracy 0.5568 with time taken 4.40 secs\n",
            "Epoch 14 Batch 3050 Loss 2.3127 Accuracy 0.5568 with time taken 4.55 secs\n",
            "Epoch 14 Batch 3100 Loss 2.3131 Accuracy 0.5567 with time taken 4.72 secs\n",
            "Epoch 14 Batch 3150 Loss 2.3131 Accuracy 0.5568 with time taken 4.34 secs\n",
            "Epoch 14 Batch 3200 Loss 2.3135 Accuracy 0.5567 with time taken 4.47 secs\n",
            "Epoch 14 Batch 3250 Loss 2.3134 Accuracy 0.5567 with time taken 4.49 secs\n",
            "Saving checkpoint for epoch 14 at drive/MyDrive/models/transformer_ru_en_v2/ckpt-14\n",
            "Epoch 14 Loss 2.3134 Accuracy 0.5567\n",
            "Time taken for 1 epoch: 288.46 secs\n",
            "\n",
            "Epoch 15 Batch 0 Loss 2.1382 Accuracy 0.5794 with time taken 0.75 secs\n",
            "Epoch 15 Batch 50 Loss 2.2925 Accuracy 0.5568 with time taken 4.37 secs\n",
            "Epoch 15 Batch 100 Loss 2.2994 Accuracy 0.5573 with time taken 4.43 secs\n",
            "Epoch 15 Batch 150 Loss 2.2999 Accuracy 0.5569 with time taken 4.67 secs\n",
            "Epoch 15 Batch 200 Loss 2.2946 Accuracy 0.5582 with time taken 4.41 secs\n",
            "Epoch 15 Batch 250 Loss 2.2947 Accuracy 0.5584 with time taken 4.40 secs\n",
            "Epoch 15 Batch 300 Loss 2.2914 Accuracy 0.5592 with time taken 4.34 secs\n",
            "Epoch 15 Batch 350 Loss 2.2910 Accuracy 0.5597 with time taken 4.33 secs\n",
            "Epoch 15 Batch 400 Loss 2.2910 Accuracy 0.5595 with time taken 4.30 secs\n",
            "Epoch 15 Batch 450 Loss 2.2941 Accuracy 0.5588 with time taken 4.44 secs\n",
            "Epoch 15 Batch 500 Loss 2.2954 Accuracy 0.5586 with time taken 4.51 secs\n",
            "Epoch 15 Batch 550 Loss 2.2955 Accuracy 0.5586 with time taken 4.36 secs\n",
            "Epoch 15 Batch 600 Loss 2.2973 Accuracy 0.5586 with time taken 4.35 secs\n",
            "Epoch 15 Batch 650 Loss 2.2976 Accuracy 0.5584 with time taken 4.38 secs\n",
            "Epoch 15 Batch 700 Loss 2.2963 Accuracy 0.5587 with time taken 4.36 secs\n",
            "Epoch 15 Batch 750 Loss 2.2939 Accuracy 0.5590 with time taken 4.22 secs\n",
            "Epoch 15 Batch 800 Loss 2.2931 Accuracy 0.5590 with time taken 4.27 secs\n",
            "Epoch 15 Batch 850 Loss 2.2925 Accuracy 0.5590 with time taken 4.32 secs\n",
            "Epoch 15 Batch 900 Loss 2.2943 Accuracy 0.5587 with time taken 4.37 secs\n",
            "Epoch 15 Batch 950 Loss 2.2946 Accuracy 0.5586 with time taken 4.40 secs\n",
            "Epoch 15 Batch 1000 Loss 2.2947 Accuracy 0.5586 with time taken 4.35 secs\n",
            "Epoch 15 Batch 1050 Loss 2.2933 Accuracy 0.5588 with time taken 4.43 secs\n",
            "Epoch 15 Batch 1100 Loss 2.2931 Accuracy 0.5588 with time taken 4.36 secs\n",
            "Epoch 15 Batch 1150 Loss 2.2926 Accuracy 0.5589 with time taken 4.37 secs\n",
            "Epoch 15 Batch 1200 Loss 2.2919 Accuracy 0.5590 with time taken 4.34 secs\n",
            "Epoch 15 Batch 1250 Loss 2.2920 Accuracy 0.5591 with time taken 4.26 secs\n",
            "Epoch 15 Batch 1300 Loss 2.2915 Accuracy 0.5592 with time taken 4.42 secs\n",
            "Epoch 15 Batch 1350 Loss 2.2914 Accuracy 0.5593 with time taken 4.37 secs\n",
            "Epoch 15 Batch 1400 Loss 2.2910 Accuracy 0.5595 with time taken 4.29 secs\n",
            "Epoch 15 Batch 1450 Loss 2.2912 Accuracy 0.5594 with time taken 4.41 secs\n",
            "Epoch 15 Batch 1500 Loss 2.2912 Accuracy 0.5595 with time taken 4.39 secs\n",
            "Epoch 15 Batch 1550 Loss 2.2913 Accuracy 0.5594 with time taken 4.40 secs\n",
            "Epoch 15 Batch 1600 Loss 2.2919 Accuracy 0.5594 with time taken 4.47 secs\n",
            "Epoch 15 Batch 1650 Loss 2.2922 Accuracy 0.5593 with time taken 4.45 secs\n",
            "Epoch 15 Batch 1700 Loss 2.2926 Accuracy 0.5592 with time taken 4.37 secs\n",
            "Epoch 15 Batch 1750 Loss 2.2930 Accuracy 0.5592 with time taken 4.37 secs\n",
            "Epoch 15 Batch 1800 Loss 2.2920 Accuracy 0.5593 with time taken 4.30 secs\n",
            "Epoch 15 Batch 1850 Loss 2.2920 Accuracy 0.5594 with time taken 4.48 secs\n",
            "Epoch 15 Batch 1900 Loss 2.2915 Accuracy 0.5596 with time taken 4.39 secs\n",
            "Epoch 15 Batch 1950 Loss 2.2904 Accuracy 0.5597 with time taken 4.31 secs\n",
            "Epoch 15 Batch 2000 Loss 2.2907 Accuracy 0.5597 with time taken 4.36 secs\n",
            "Epoch 15 Batch 2050 Loss 2.2906 Accuracy 0.5597 with time taken 4.39 secs\n",
            "Epoch 15 Batch 2100 Loss 2.2901 Accuracy 0.5598 with time taken 4.38 secs\n",
            "Epoch 15 Batch 2150 Loss 2.2899 Accuracy 0.5598 with time taken 4.43 secs\n",
            "Epoch 15 Batch 2200 Loss 2.2900 Accuracy 0.5598 with time taken 4.40 secs\n",
            "Epoch 15 Batch 2250 Loss 2.2896 Accuracy 0.5599 with time taken 4.26 secs\n",
            "Epoch 15 Batch 2300 Loss 2.2895 Accuracy 0.5598 with time taken 4.38 secs\n",
            "Epoch 15 Batch 2350 Loss 2.2893 Accuracy 0.5599 with time taken 4.36 secs\n",
            "Epoch 15 Batch 2400 Loss 2.2896 Accuracy 0.5598 with time taken 4.30 secs\n",
            "Epoch 15 Batch 2450 Loss 2.2893 Accuracy 0.5598 with time taken 4.41 secs\n",
            "Epoch 15 Batch 2500 Loss 2.2892 Accuracy 0.5599 with time taken 4.30 secs\n",
            "Epoch 15 Batch 2550 Loss 2.2892 Accuracy 0.5599 with time taken 4.16 secs\n",
            "Epoch 15 Batch 2600 Loss 2.2890 Accuracy 0.5599 with time taken 4.27 secs\n",
            "Epoch 15 Batch 2650 Loss 2.2888 Accuracy 0.5599 with time taken 4.27 secs\n",
            "Epoch 15 Batch 2700 Loss 2.2891 Accuracy 0.5599 with time taken 4.44 secs\n",
            "Epoch 15 Batch 2750 Loss 2.2889 Accuracy 0.5599 with time taken 4.37 secs\n",
            "Epoch 15 Batch 2800 Loss 2.2889 Accuracy 0.5600 with time taken 4.30 secs\n",
            "Epoch 15 Batch 2850 Loss 2.2890 Accuracy 0.5600 with time taken 4.32 secs\n",
            "Epoch 15 Batch 2900 Loss 2.2887 Accuracy 0.5600 with time taken 4.39 secs\n",
            "Epoch 15 Batch 2950 Loss 2.2885 Accuracy 0.5600 with time taken 4.31 secs\n",
            "Epoch 15 Batch 3000 Loss 2.2880 Accuracy 0.5601 with time taken 4.43 secs\n",
            "Epoch 15 Batch 3050 Loss 2.2878 Accuracy 0.5601 with time taken 4.29 secs\n",
            "Epoch 15 Batch 3100 Loss 2.2879 Accuracy 0.5602 with time taken 4.43 secs\n",
            "Epoch 15 Batch 3150 Loss 2.2879 Accuracy 0.5602 with time taken 4.55 secs\n",
            "Epoch 15 Batch 3200 Loss 2.2884 Accuracy 0.5601 with time taken 4.41 secs\n",
            "Epoch 15 Batch 3250 Loss 2.2884 Accuracy 0.5601 with time taken 4.30 secs\n",
            "Saving checkpoint for epoch 15 at drive/MyDrive/models/transformer_ru_en_v2/ckpt-15\n",
            "Epoch 15 Loss 2.2884 Accuracy 0.5601\n",
            "Time taken for 1 epoch: 285.25 secs\n",
            "\n",
            "Epoch 16 Batch 0 Loss 2.3433 Accuracy 0.5345 with time taken 0.66 secs\n",
            "Epoch 16 Batch 50 Loss 2.2823 Accuracy 0.5630 with time taken 4.41 secs\n",
            "Epoch 16 Batch 100 Loss 2.2677 Accuracy 0.5633 with time taken 4.41 secs\n",
            "Epoch 16 Batch 150 Loss 2.2800 Accuracy 0.5609 with time taken 4.47 secs\n",
            "Epoch 16 Batch 200 Loss 2.2681 Accuracy 0.5623 with time taken 4.29 secs\n",
            "Epoch 16 Batch 250 Loss 2.2711 Accuracy 0.5616 with time taken 4.47 secs\n",
            "Epoch 16 Batch 300 Loss 2.2707 Accuracy 0.5616 with time taken 4.39 secs\n",
            "Epoch 16 Batch 350 Loss 2.2725 Accuracy 0.5617 with time taken 4.45 secs\n",
            "Epoch 16 Batch 400 Loss 2.2751 Accuracy 0.5613 with time taken 4.30 secs\n",
            "Epoch 16 Batch 450 Loss 2.2736 Accuracy 0.5615 with time taken 4.48 secs\n",
            "Epoch 16 Batch 500 Loss 2.2724 Accuracy 0.5616 with time taken 4.34 secs\n",
            "Epoch 16 Batch 550 Loss 2.2746 Accuracy 0.5614 with time taken 4.35 secs\n",
            "Epoch 16 Batch 600 Loss 2.2736 Accuracy 0.5615 with time taken 4.28 secs\n",
            "Epoch 16 Batch 650 Loss 2.2732 Accuracy 0.5616 with time taken 4.36 secs\n",
            "Epoch 16 Batch 700 Loss 2.2735 Accuracy 0.5615 with time taken 4.38 secs\n",
            "Epoch 16 Batch 750 Loss 2.2727 Accuracy 0.5616 with time taken 4.36 secs\n",
            "Epoch 16 Batch 800 Loss 2.2721 Accuracy 0.5618 with time taken 4.23 secs\n",
            "Epoch 16 Batch 850 Loss 2.2714 Accuracy 0.5618 with time taken 4.38 secs\n",
            "Epoch 16 Batch 900 Loss 2.2717 Accuracy 0.5618 with time taken 4.27 secs\n",
            "Epoch 16 Batch 950 Loss 2.2715 Accuracy 0.5619 with time taken 4.38 secs\n",
            "Epoch 16 Batch 1000 Loss 2.2721 Accuracy 0.5618 with time taken 4.42 secs\n",
            "Epoch 16 Batch 1050 Loss 2.2712 Accuracy 0.5619 with time taken 4.29 secs\n",
            "Epoch 16 Batch 1100 Loss 2.2699 Accuracy 0.5621 with time taken 4.30 secs\n",
            "Epoch 16 Batch 1150 Loss 2.2702 Accuracy 0.5620 with time taken 4.42 secs\n",
            "Epoch 16 Batch 1200 Loss 2.2692 Accuracy 0.5621 with time taken 4.32 secs\n",
            "Epoch 16 Batch 1250 Loss 2.2680 Accuracy 0.5623 with time taken 4.28 secs\n",
            "Epoch 16 Batch 1300 Loss 2.2680 Accuracy 0.5623 with time taken 4.23 secs\n",
            "Epoch 16 Batch 1350 Loss 2.2685 Accuracy 0.5622 with time taken 4.35 secs\n",
            "Epoch 16 Batch 1400 Loss 2.2688 Accuracy 0.5622 with time taken 4.25 secs\n",
            "Epoch 16 Batch 1450 Loss 2.2694 Accuracy 0.5622 with time taken 4.33 secs\n",
            "Epoch 16 Batch 1500 Loss 2.2690 Accuracy 0.5622 with time taken 4.28 secs\n",
            "Epoch 16 Batch 1550 Loss 2.2695 Accuracy 0.5621 with time taken 4.35 secs\n",
            "Epoch 16 Batch 1600 Loss 2.2699 Accuracy 0.5621 with time taken 4.49 secs\n",
            "Epoch 16 Batch 1650 Loss 2.2699 Accuracy 0.5621 with time taken 4.33 secs\n",
            "Epoch 16 Batch 1700 Loss 2.2698 Accuracy 0.5622 with time taken 4.40 secs\n",
            "Epoch 16 Batch 1750 Loss 2.2698 Accuracy 0.5621 with time taken 4.31 secs\n",
            "Epoch 16 Batch 1800 Loss 2.2690 Accuracy 0.5623 with time taken 4.29 secs\n",
            "Epoch 16 Batch 1850 Loss 2.2700 Accuracy 0.5621 with time taken 4.28 secs\n",
            "Epoch 16 Batch 1900 Loss 2.2698 Accuracy 0.5622 with time taken 4.38 secs\n",
            "Epoch 16 Batch 1950 Loss 2.2690 Accuracy 0.5623 with time taken 4.40 secs\n",
            "Epoch 16 Batch 2000 Loss 2.2693 Accuracy 0.5623 with time taken 4.42 secs\n",
            "Epoch 16 Batch 2050 Loss 2.2694 Accuracy 0.5623 with time taken 4.18 secs\n",
            "Epoch 16 Batch 2100 Loss 2.2689 Accuracy 0.5624 with time taken 4.39 secs\n",
            "Epoch 16 Batch 2150 Loss 2.2691 Accuracy 0.5623 with time taken 4.34 secs\n",
            "Epoch 16 Batch 2200 Loss 2.2693 Accuracy 0.5623 with time taken 4.30 secs\n",
            "Epoch 16 Batch 2250 Loss 2.2693 Accuracy 0.5623 with time taken 4.33 secs\n",
            "Epoch 16 Batch 2300 Loss 2.2690 Accuracy 0.5623 with time taken 4.27 secs\n",
            "Epoch 16 Batch 2350 Loss 2.2689 Accuracy 0.5623 with time taken 4.36 secs\n",
            "Epoch 16 Batch 2400 Loss 2.2690 Accuracy 0.5623 with time taken 4.27 secs\n",
            "Epoch 16 Batch 2450 Loss 2.2687 Accuracy 0.5623 with time taken 4.43 secs\n",
            "Epoch 16 Batch 2500 Loss 2.2684 Accuracy 0.5624 with time taken 4.29 secs\n",
            "Epoch 16 Batch 2550 Loss 2.2681 Accuracy 0.5624 with time taken 4.31 secs\n",
            "Epoch 16 Batch 2600 Loss 2.2682 Accuracy 0.5624 with time taken 4.43 secs\n",
            "Epoch 16 Batch 2650 Loss 2.2679 Accuracy 0.5625 with time taken 4.44 secs\n",
            "Epoch 16 Batch 2700 Loss 2.2679 Accuracy 0.5625 with time taken 4.36 secs\n",
            "Epoch 16 Batch 2750 Loss 2.2682 Accuracy 0.5625 with time taken 4.41 secs\n",
            "Epoch 16 Batch 2800 Loss 2.2676 Accuracy 0.5626 with time taken 4.37 secs\n",
            "Epoch 16 Batch 2850 Loss 2.2678 Accuracy 0.5626 with time taken 4.32 secs\n",
            "Epoch 16 Batch 2900 Loss 2.2676 Accuracy 0.5626 with time taken 4.37 secs\n",
            "Epoch 16 Batch 2950 Loss 2.2676 Accuracy 0.5627 with time taken 4.41 secs\n",
            "Epoch 16 Batch 3000 Loss 2.2675 Accuracy 0.5627 with time taken 4.35 secs\n",
            "Epoch 16 Batch 3050 Loss 2.2675 Accuracy 0.5626 with time taken 4.44 secs\n",
            "Epoch 16 Batch 3100 Loss 2.2674 Accuracy 0.5626 with time taken 4.29 secs\n",
            "Epoch 16 Batch 3150 Loss 2.2672 Accuracy 0.5627 with time taken 4.39 secs\n",
            "Epoch 16 Batch 3200 Loss 2.2671 Accuracy 0.5628 with time taken 4.28 secs\n",
            "Epoch 16 Batch 3250 Loss 2.2672 Accuracy 0.5627 with time taken 4.38 secs\n",
            "Saving checkpoint for epoch 16 at drive/MyDrive/models/transformer_ru_en_v2/ckpt-16\n",
            "Epoch 16 Loss 2.2672 Accuracy 0.5627\n",
            "Time taken for 1 epoch: 284.12 secs\n",
            "\n",
            "Epoch 17 Batch 0 Loss 2.3960 Accuracy 0.5463 with time taken 0.66 secs\n",
            "Epoch 17 Batch 50 Loss 2.2828 Accuracy 0.5607 with time taken 4.33 secs\n",
            "Epoch 17 Batch 100 Loss 2.2628 Accuracy 0.5628 with time taken 4.31 secs\n",
            "Epoch 17 Batch 150 Loss 2.2615 Accuracy 0.5632 with time taken 4.52 secs\n",
            "Epoch 17 Batch 200 Loss 2.2588 Accuracy 0.5635 with time taken 4.31 secs\n",
            "Epoch 17 Batch 250 Loss 2.2545 Accuracy 0.5638 with time taken 4.36 secs\n",
            "Epoch 17 Batch 300 Loss 2.2541 Accuracy 0.5641 with time taken 4.31 secs\n",
            "Epoch 17 Batch 350 Loss 2.2535 Accuracy 0.5644 with time taken 4.45 secs\n",
            "Epoch 17 Batch 400 Loss 2.2521 Accuracy 0.5647 with time taken 4.40 secs\n",
            "Epoch 17 Batch 450 Loss 2.2533 Accuracy 0.5646 with time taken 4.41 secs\n",
            "Epoch 17 Batch 500 Loss 2.2541 Accuracy 0.5645 with time taken 4.40 secs\n",
            "Epoch 17 Batch 550 Loss 2.2530 Accuracy 0.5646 with time taken 4.57 secs\n",
            "Epoch 17 Batch 600 Loss 2.2524 Accuracy 0.5648 with time taken 4.35 secs\n",
            "Epoch 17 Batch 650 Loss 2.2514 Accuracy 0.5649 with time taken 4.42 secs\n",
            "Epoch 17 Batch 700 Loss 2.2511 Accuracy 0.5650 with time taken 4.42 secs\n",
            "Epoch 17 Batch 750 Loss 2.2503 Accuracy 0.5650 with time taken 4.28 secs\n",
            "Epoch 17 Batch 800 Loss 2.2496 Accuracy 0.5651 with time taken 4.32 secs\n",
            "Epoch 17 Batch 850 Loss 2.2487 Accuracy 0.5653 with time taken 4.26 secs\n",
            "Epoch 17 Batch 900 Loss 2.2489 Accuracy 0.5654 with time taken 4.29 secs\n",
            "Epoch 17 Batch 950 Loss 2.2487 Accuracy 0.5653 with time taken 4.31 secs\n",
            "Epoch 17 Batch 1000 Loss 2.2486 Accuracy 0.5654 with time taken 4.38 secs\n",
            "Epoch 17 Batch 1050 Loss 2.2490 Accuracy 0.5655 with time taken 4.36 secs\n",
            "Epoch 17 Batch 1100 Loss 2.2500 Accuracy 0.5652 with time taken 4.25 secs\n",
            "Epoch 17 Batch 1150 Loss 2.2503 Accuracy 0.5651 with time taken 4.35 secs\n",
            "Epoch 17 Batch 1200 Loss 2.2488 Accuracy 0.5653 with time taken 4.44 secs\n",
            "Epoch 17 Batch 1250 Loss 2.2490 Accuracy 0.5653 with time taken 4.27 secs\n",
            "Epoch 17 Batch 1300 Loss 2.2484 Accuracy 0.5654 with time taken 4.39 secs\n",
            "Epoch 17 Batch 1350 Loss 2.2495 Accuracy 0.5653 with time taken 4.37 secs\n",
            "Epoch 17 Batch 1400 Loss 2.2497 Accuracy 0.5654 with time taken 4.40 secs\n",
            "Epoch 17 Batch 1450 Loss 2.2493 Accuracy 0.5655 with time taken 4.26 secs\n",
            "Epoch 17 Batch 1500 Loss 2.2481 Accuracy 0.5656 with time taken 4.29 secs\n",
            "Epoch 17 Batch 1550 Loss 2.2481 Accuracy 0.5656 with time taken 4.32 secs\n",
            "Epoch 17 Batch 1600 Loss 2.2479 Accuracy 0.5656 with time taken 4.37 secs\n",
            "Epoch 17 Batch 1650 Loss 2.2483 Accuracy 0.5655 with time taken 4.45 secs\n",
            "Epoch 17 Batch 1700 Loss 2.2490 Accuracy 0.5654 with time taken 4.22 secs\n",
            "Epoch 17 Batch 1750 Loss 2.2479 Accuracy 0.5656 with time taken 4.28 secs\n",
            "Epoch 17 Batch 1800 Loss 2.2476 Accuracy 0.5656 with time taken 4.31 secs\n",
            "Epoch 17 Batch 1850 Loss 2.2475 Accuracy 0.5657 with time taken 4.47 secs\n",
            "Epoch 17 Batch 1900 Loss 2.2469 Accuracy 0.5657 with time taken 4.27 secs\n",
            "Epoch 17 Batch 1950 Loss 2.2469 Accuracy 0.5657 with time taken 4.32 secs\n",
            "Epoch 17 Batch 2000 Loss 2.2474 Accuracy 0.5657 with time taken 4.44 secs\n",
            "Epoch 17 Batch 2050 Loss 2.2475 Accuracy 0.5656 with time taken 4.43 secs\n",
            "Epoch 17 Batch 2100 Loss 2.2475 Accuracy 0.5657 with time taken 4.38 secs\n",
            "Epoch 17 Batch 2150 Loss 2.2481 Accuracy 0.5656 with time taken 4.39 secs\n",
            "Epoch 17 Batch 2200 Loss 2.2483 Accuracy 0.5655 with time taken 4.43 secs\n",
            "Epoch 17 Batch 2250 Loss 2.2489 Accuracy 0.5653 with time taken 4.33 secs\n",
            "Epoch 17 Batch 2300 Loss 2.2487 Accuracy 0.5654 with time taken 4.34 secs\n",
            "Epoch 17 Batch 2350 Loss 2.2484 Accuracy 0.5654 with time taken 4.20 secs\n",
            "Epoch 17 Batch 2400 Loss 2.2477 Accuracy 0.5655 with time taken 4.37 secs\n",
            "Epoch 17 Batch 2450 Loss 2.2479 Accuracy 0.5655 with time taken 4.34 secs\n",
            "Epoch 17 Batch 2500 Loss 2.2478 Accuracy 0.5655 with time taken 4.29 secs\n",
            "Epoch 17 Batch 2550 Loss 2.2474 Accuracy 0.5655 with time taken 4.26 secs\n",
            "Epoch 17 Batch 2600 Loss 2.2475 Accuracy 0.5655 with time taken 4.29 secs\n",
            "Epoch 17 Batch 2650 Loss 2.2466 Accuracy 0.5656 with time taken 4.28 secs\n",
            "Epoch 17 Batch 2700 Loss 2.2465 Accuracy 0.5656 with time taken 4.34 secs\n",
            "Epoch 17 Batch 2750 Loss 2.2463 Accuracy 0.5656 with time taken 4.22 secs\n",
            "Epoch 17 Batch 2800 Loss 2.2462 Accuracy 0.5656 with time taken 4.31 secs\n",
            "Epoch 17 Batch 2850 Loss 2.2465 Accuracy 0.5656 with time taken 4.41 secs\n",
            "Epoch 17 Batch 2900 Loss 2.2470 Accuracy 0.5655 with time taken 4.33 secs\n",
            "Epoch 17 Batch 2950 Loss 2.2467 Accuracy 0.5656 with time taken 4.38 secs\n",
            "Epoch 17 Batch 3000 Loss 2.2467 Accuracy 0.5656 with time taken 4.33 secs\n",
            "Epoch 17 Batch 3050 Loss 2.2467 Accuracy 0.5656 with time taken 4.33 secs\n",
            "Epoch 17 Batch 3100 Loss 2.2467 Accuracy 0.5656 with time taken 4.34 secs\n",
            "Epoch 17 Batch 3150 Loss 2.2465 Accuracy 0.5656 with time taken 4.34 secs\n",
            "Epoch 17 Batch 3200 Loss 2.2466 Accuracy 0.5656 with time taken 4.37 secs\n",
            "Epoch 17 Batch 3250 Loss 2.2467 Accuracy 0.5656 with time taken 4.34 secs\n",
            "Saving checkpoint for epoch 17 at drive/MyDrive/models/transformer_ru_en_v2/ckpt-17\n",
            "Epoch 17 Loss 2.2467 Accuracy 0.5656\n",
            "Time taken for 1 epoch: 283.80 secs\n",
            "\n",
            "Epoch 18 Batch 0 Loss 2.1938 Accuracy 0.5818 with time taken 0.66 secs\n",
            "Epoch 18 Batch 50 Loss 2.2333 Accuracy 0.5700 with time taken 4.42 secs\n",
            "Epoch 18 Batch 100 Loss 2.2413 Accuracy 0.5669 with time taken 4.32 secs\n",
            "Epoch 18 Batch 150 Loss 2.2368 Accuracy 0.5673 with time taken 4.44 secs\n",
            "Epoch 18 Batch 200 Loss 2.2407 Accuracy 0.5659 with time taken 4.28 secs\n",
            "Epoch 18 Batch 250 Loss 2.2383 Accuracy 0.5659 with time taken 4.30 secs\n",
            "Epoch 18 Batch 300 Loss 2.2366 Accuracy 0.5662 with time taken 4.31 secs\n",
            "Epoch 18 Batch 350 Loss 2.2353 Accuracy 0.5663 with time taken 4.29 secs\n",
            "Epoch 18 Batch 400 Loss 2.2351 Accuracy 0.5664 with time taken 4.35 secs\n",
            "Epoch 18 Batch 450 Loss 2.2374 Accuracy 0.5662 with time taken 4.45 secs\n",
            "Epoch 18 Batch 500 Loss 2.2399 Accuracy 0.5659 with time taken 4.47 secs\n",
            "Epoch 18 Batch 550 Loss 2.2374 Accuracy 0.5661 with time taken 4.38 secs\n",
            "Epoch 18 Batch 600 Loss 2.2369 Accuracy 0.5664 with time taken 4.31 secs\n",
            "Epoch 18 Batch 650 Loss 2.2354 Accuracy 0.5667 with time taken 4.47 secs\n",
            "Epoch 18 Batch 700 Loss 2.2333 Accuracy 0.5669 with time taken 4.37 secs\n",
            "Epoch 18 Batch 750 Loss 2.2345 Accuracy 0.5668 with time taken 4.36 secs\n",
            "Epoch 18 Batch 800 Loss 2.2344 Accuracy 0.5669 with time taken 4.43 secs\n",
            "Epoch 18 Batch 850 Loss 2.2350 Accuracy 0.5669 with time taken 4.29 secs\n",
            "Epoch 18 Batch 900 Loss 2.2339 Accuracy 0.5670 with time taken 4.30 secs\n",
            "Epoch 18 Batch 950 Loss 2.2328 Accuracy 0.5673 with time taken 4.25 secs\n",
            "Epoch 18 Batch 1000 Loss 2.2321 Accuracy 0.5675 with time taken 4.19 secs\n",
            "Epoch 18 Batch 1050 Loss 2.2312 Accuracy 0.5675 with time taken 4.36 secs\n",
            "Epoch 18 Batch 1100 Loss 2.2322 Accuracy 0.5674 with time taken 4.22 secs\n",
            "Epoch 18 Batch 1150 Loss 2.2320 Accuracy 0.5674 with time taken 4.26 secs\n",
            "Epoch 18 Batch 1200 Loss 2.2313 Accuracy 0.5676 with time taken 4.28 secs\n",
            "Epoch 18 Batch 1250 Loss 2.2304 Accuracy 0.5677 with time taken 4.22 secs\n",
            "Epoch 18 Batch 1300 Loss 2.2295 Accuracy 0.5678 with time taken 4.35 secs\n",
            "Epoch 18 Batch 1350 Loss 2.2290 Accuracy 0.5680 with time taken 4.35 secs\n",
            "Epoch 18 Batch 1400 Loss 2.2278 Accuracy 0.5681 with time taken 4.38 secs\n",
            "Epoch 18 Batch 1450 Loss 2.2273 Accuracy 0.5681 with time taken 4.35 secs\n",
            "Epoch 18 Batch 1500 Loss 2.2272 Accuracy 0.5681 with time taken 4.39 secs\n",
            "Epoch 18 Batch 1550 Loss 2.2291 Accuracy 0.5679 with time taken 4.44 secs\n",
            "Epoch 18 Batch 1600 Loss 2.2289 Accuracy 0.5679 with time taken 4.35 secs\n",
            "Epoch 18 Batch 1650 Loss 2.2289 Accuracy 0.5679 with time taken 4.28 secs\n",
            "Epoch 18 Batch 1700 Loss 2.2301 Accuracy 0.5677 with time taken 4.40 secs\n",
            "Epoch 18 Batch 1750 Loss 2.2308 Accuracy 0.5676 with time taken 4.34 secs\n",
            "Epoch 18 Batch 1800 Loss 2.2308 Accuracy 0.5676 with time taken 4.36 secs\n",
            "Epoch 18 Batch 1850 Loss 2.2305 Accuracy 0.5676 with time taken 4.25 secs\n",
            "Epoch 18 Batch 1900 Loss 2.2311 Accuracy 0.5675 with time taken 4.35 secs\n",
            "Epoch 18 Batch 1950 Loss 2.2312 Accuracy 0.5675 with time taken 4.51 secs\n",
            "Epoch 18 Batch 2000 Loss 2.2322 Accuracy 0.5675 with time taken 4.36 secs\n",
            "Epoch 18 Batch 2050 Loss 2.2321 Accuracy 0.5675 with time taken 4.33 secs\n",
            "Epoch 18 Batch 2100 Loss 2.2316 Accuracy 0.5676 with time taken 4.19 secs\n",
            "Epoch 18 Batch 2150 Loss 2.2309 Accuracy 0.5677 with time taken 4.19 secs\n",
            "Epoch 18 Batch 2200 Loss 2.2309 Accuracy 0.5677 with time taken 4.26 secs\n",
            "Epoch 18 Batch 2250 Loss 2.2308 Accuracy 0.5676 with time taken 4.35 secs\n",
            "Epoch 18 Batch 2300 Loss 2.2309 Accuracy 0.5676 with time taken 4.17 secs\n",
            "Epoch 18 Batch 2350 Loss 2.2306 Accuracy 0.5677 with time taken 4.16 secs\n",
            "Epoch 18 Batch 2400 Loss 2.2305 Accuracy 0.5676 with time taken 4.29 secs\n",
            "Epoch 18 Batch 2450 Loss 2.2303 Accuracy 0.5677 with time taken 4.24 secs\n",
            "Epoch 18 Batch 2500 Loss 2.2301 Accuracy 0.5677 with time taken 4.22 secs\n",
            "Epoch 18 Batch 2550 Loss 2.2297 Accuracy 0.5677 with time taken 4.19 secs\n",
            "Epoch 18 Batch 2600 Loss 2.2295 Accuracy 0.5677 with time taken 4.19 secs\n",
            "Epoch 18 Batch 2650 Loss 2.2294 Accuracy 0.5677 with time taken 4.28 secs\n",
            "Epoch 18 Batch 2700 Loss 2.2293 Accuracy 0.5677 with time taken 4.21 secs\n",
            "Epoch 18 Batch 2750 Loss 2.2290 Accuracy 0.5678 with time taken 4.39 secs\n",
            "Epoch 18 Batch 2800 Loss 2.2293 Accuracy 0.5677 with time taken 4.26 secs\n",
            "Epoch 18 Batch 2850 Loss 2.2293 Accuracy 0.5677 with time taken 4.23 secs\n",
            "Epoch 18 Batch 2900 Loss 2.2295 Accuracy 0.5677 with time taken 4.36 secs\n",
            "Epoch 18 Batch 2950 Loss 2.2293 Accuracy 0.5677 with time taken 4.27 secs\n",
            "Epoch 18 Batch 3000 Loss 2.2293 Accuracy 0.5678 with time taken 4.24 secs\n",
            "Epoch 18 Batch 3050 Loss 2.2294 Accuracy 0.5678 with time taken 4.18 secs\n",
            "Epoch 18 Batch 3100 Loss 2.2294 Accuracy 0.5678 with time taken 4.20 secs\n",
            "Epoch 18 Batch 3150 Loss 2.2289 Accuracy 0.5678 with time taken 4.27 secs\n",
            "Epoch 18 Batch 3200 Loss 2.2287 Accuracy 0.5679 with time taken 4.19 secs\n",
            "Epoch 18 Batch 3250 Loss 2.2291 Accuracy 0.5679 with time taken 4.29 secs\n",
            "Saving checkpoint for epoch 18 at drive/MyDrive/models/transformer_ru_en_v2/ckpt-18\n",
            "Epoch 18 Loss 2.2291 Accuracy 0.5679\n",
            "Time taken for 1 epoch: 281.12 secs\n",
            "\n",
            "Epoch 19 Batch 0 Loss 2.4676 Accuracy 0.5371 with time taken 0.56 secs\n",
            "Epoch 19 Batch 50 Loss 2.2560 Accuracy 0.5643 with time taken 4.24 secs\n",
            "Epoch 19 Batch 100 Loss 2.2459 Accuracy 0.5656 with time taken 4.45 secs\n",
            "Epoch 19 Batch 150 Loss 2.2224 Accuracy 0.5683 with time taken 4.24 secs\n",
            "Epoch 19 Batch 200 Loss 2.2166 Accuracy 0.5690 with time taken 4.28 secs\n",
            "Epoch 19 Batch 250 Loss 2.2147 Accuracy 0.5695 with time taken 4.19 secs\n",
            "Epoch 19 Batch 300 Loss 2.2149 Accuracy 0.5693 with time taken 4.31 secs\n",
            "Epoch 19 Batch 350 Loss 2.2130 Accuracy 0.5691 with time taken 4.36 secs\n",
            "Epoch 19 Batch 400 Loss 2.2141 Accuracy 0.5690 with time taken 4.27 secs\n",
            "Epoch 19 Batch 450 Loss 2.2147 Accuracy 0.5691 with time taken 4.33 secs\n",
            "Epoch 19 Batch 500 Loss 2.2187 Accuracy 0.5685 with time taken 4.33 secs\n",
            "Epoch 19 Batch 550 Loss 2.2183 Accuracy 0.5687 with time taken 4.25 secs\n",
            "Epoch 19 Batch 600 Loss 2.2173 Accuracy 0.5689 with time taken 4.27 secs\n",
            "Epoch 19 Batch 650 Loss 2.2155 Accuracy 0.5690 with time taken 4.27 secs\n",
            "Epoch 19 Batch 700 Loss 2.2146 Accuracy 0.5692 with time taken 4.20 secs\n",
            "Epoch 19 Batch 750 Loss 2.2143 Accuracy 0.5693 with time taken 4.25 secs\n",
            "Epoch 19 Batch 800 Loss 2.2141 Accuracy 0.5694 with time taken 4.17 secs\n",
            "Epoch 19 Batch 850 Loss 2.2146 Accuracy 0.5693 with time taken 4.28 secs\n",
            "Epoch 19 Batch 900 Loss 2.2142 Accuracy 0.5695 with time taken 4.30 secs\n",
            "Epoch 19 Batch 950 Loss 2.2139 Accuracy 0.5695 with time taken 4.25 secs\n",
            "Epoch 19 Batch 1000 Loss 2.2142 Accuracy 0.5696 with time taken 4.32 secs\n",
            "Epoch 19 Batch 1050 Loss 2.2148 Accuracy 0.5694 with time taken 4.35 secs\n",
            "Epoch 19 Batch 1100 Loss 2.2147 Accuracy 0.5695 with time taken 4.19 secs\n",
            "Epoch 19 Batch 1150 Loss 2.2144 Accuracy 0.5696 with time taken 4.30 secs\n",
            "Epoch 19 Batch 1200 Loss 2.2147 Accuracy 0.5697 with time taken 4.22 secs\n",
            "Epoch 19 Batch 1250 Loss 2.2139 Accuracy 0.5698 with time taken 4.23 secs\n",
            "Epoch 19 Batch 1300 Loss 2.2136 Accuracy 0.5698 with time taken 4.29 secs\n",
            "Epoch 19 Batch 1350 Loss 2.2133 Accuracy 0.5700 with time taken 4.31 secs\n",
            "Epoch 19 Batch 1400 Loss 2.2129 Accuracy 0.5699 with time taken 4.40 secs\n",
            "Epoch 19 Batch 1450 Loss 2.2127 Accuracy 0.5700 with time taken 4.20 secs\n",
            "Epoch 19 Batch 1500 Loss 2.2127 Accuracy 0.5699 with time taken 4.29 secs\n",
            "Epoch 19 Batch 1550 Loss 2.2127 Accuracy 0.5699 with time taken 4.20 secs\n",
            "Epoch 19 Batch 1600 Loss 2.2123 Accuracy 0.5700 with time taken 4.22 secs\n",
            "Epoch 19 Batch 1650 Loss 2.2132 Accuracy 0.5698 with time taken 4.19 secs\n",
            "Epoch 19 Batch 1700 Loss 2.2140 Accuracy 0.5697 with time taken 4.25 secs\n",
            "Epoch 19 Batch 1750 Loss 2.2145 Accuracy 0.5697 with time taken 4.19 secs\n",
            "Epoch 19 Batch 1800 Loss 2.2138 Accuracy 0.5699 with time taken 4.20 secs\n",
            "Epoch 19 Batch 1850 Loss 2.2136 Accuracy 0.5699 with time taken 4.20 secs\n",
            "Epoch 19 Batch 1900 Loss 2.2135 Accuracy 0.5699 with time taken 4.42 secs\n",
            "Epoch 19 Batch 1950 Loss 2.2133 Accuracy 0.5699 with time taken 4.35 secs\n",
            "Epoch 19 Batch 2000 Loss 2.2129 Accuracy 0.5700 with time taken 4.33 secs\n",
            "Epoch 19 Batch 2050 Loss 2.2129 Accuracy 0.5699 with time taken 4.31 secs\n",
            "Epoch 19 Batch 2100 Loss 2.2130 Accuracy 0.5699 with time taken 4.35 secs\n",
            "Epoch 19 Batch 2150 Loss 2.2129 Accuracy 0.5699 with time taken 4.22 secs\n",
            "Epoch 19 Batch 2200 Loss 2.2125 Accuracy 0.5700 with time taken 4.14 secs\n",
            "Epoch 19 Batch 2250 Loss 2.2118 Accuracy 0.5701 with time taken 4.29 secs\n",
            "Epoch 19 Batch 2300 Loss 2.2120 Accuracy 0.5701 with time taken 4.26 secs\n",
            "Epoch 19 Batch 2350 Loss 2.2122 Accuracy 0.5701 with time taken 4.25 secs\n",
            "Epoch 19 Batch 2400 Loss 2.2116 Accuracy 0.5702 with time taken 4.27 secs\n",
            "Epoch 19 Batch 2450 Loss 2.2115 Accuracy 0.5702 with time taken 4.20 secs\n",
            "Epoch 19 Batch 2500 Loss 2.2114 Accuracy 0.5701 with time taken 4.19 secs\n",
            "Epoch 19 Batch 2550 Loss 2.2114 Accuracy 0.5701 with time taken 4.21 secs\n",
            "Epoch 19 Batch 2600 Loss 2.2111 Accuracy 0.5702 with time taken 4.23 secs\n",
            "Epoch 19 Batch 2650 Loss 2.2109 Accuracy 0.5702 with time taken 4.27 secs\n",
            "Epoch 19 Batch 2700 Loss 2.2107 Accuracy 0.5702 with time taken 4.21 secs\n",
            "Epoch 19 Batch 2750 Loss 2.2109 Accuracy 0.5702 with time taken 4.27 secs\n",
            "Epoch 19 Batch 2800 Loss 2.2110 Accuracy 0.5702 with time taken 4.35 secs\n",
            "Epoch 19 Batch 2850 Loss 2.2107 Accuracy 0.5702 with time taken 4.27 secs\n",
            "Epoch 19 Batch 2900 Loss 2.2102 Accuracy 0.5703 with time taken 4.29 secs\n",
            "Epoch 19 Batch 2950 Loss 2.2102 Accuracy 0.5703 with time taken 4.32 secs\n",
            "Epoch 19 Batch 3000 Loss 2.2102 Accuracy 0.5703 with time taken 4.33 secs\n",
            "Epoch 19 Batch 3050 Loss 2.2105 Accuracy 0.5703 with time taken 4.31 secs\n",
            "Epoch 19 Batch 3100 Loss 2.2103 Accuracy 0.5703 with time taken 4.27 secs\n",
            "Epoch 19 Batch 3150 Loss 2.2109 Accuracy 0.5702 with time taken 4.39 secs\n",
            "Epoch 19 Batch 3200 Loss 2.2109 Accuracy 0.5703 with time taken 4.28 secs\n",
            "Epoch 19 Batch 3250 Loss 2.2110 Accuracy 0.5703 with time taken 4.31 secs\n",
            "Saving checkpoint for epoch 19 at drive/MyDrive/models/transformer_ru_en_v2/ckpt-19\n",
            "Epoch 19 Loss 2.2110 Accuracy 0.5703\n",
            "Time taken for 1 epoch: 278.82 secs\n",
            "\n",
            "Epoch 20 Batch 0 Loss 2.3321 Accuracy 0.5573 with time taken 0.59 secs\n",
            "Epoch 20 Batch 50 Loss 2.2083 Accuracy 0.5705 with time taken 4.43 secs\n",
            "Epoch 20 Batch 100 Loss 2.2087 Accuracy 0.5712 with time taken 4.33 secs\n",
            "Epoch 20 Batch 150 Loss 2.2110 Accuracy 0.5708 with time taken 4.34 secs\n",
            "Epoch 20 Batch 200 Loss 2.2032 Accuracy 0.5711 with time taken 4.27 secs\n",
            "Epoch 20 Batch 250 Loss 2.2032 Accuracy 0.5707 with time taken 4.29 secs\n",
            "Epoch 20 Batch 300 Loss 2.2013 Accuracy 0.5712 with time taken 4.30 secs\n",
            "Epoch 20 Batch 350 Loss 2.2009 Accuracy 0.5711 with time taken 4.39 secs\n",
            "Epoch 20 Batch 400 Loss 2.1976 Accuracy 0.5719 with time taken 4.20 secs\n",
            "Epoch 20 Batch 450 Loss 2.2010 Accuracy 0.5712 with time taken 4.17 secs\n",
            "Epoch 20 Batch 500 Loss 2.2003 Accuracy 0.5713 with time taken 4.27 secs\n",
            "Epoch 20 Batch 550 Loss 2.1999 Accuracy 0.5714 with time taken 4.25 secs\n",
            "Epoch 20 Batch 600 Loss 2.1992 Accuracy 0.5713 with time taken 4.56 secs\n",
            "Epoch 20 Batch 650 Loss 2.1991 Accuracy 0.5711 with time taken 4.34 secs\n",
            "Epoch 20 Batch 700 Loss 2.1976 Accuracy 0.5715 with time taken 4.28 secs\n",
            "Epoch 20 Batch 750 Loss 2.1965 Accuracy 0.5716 with time taken 4.35 secs\n",
            "Epoch 20 Batch 800 Loss 2.1967 Accuracy 0.5716 with time taken 4.22 secs\n",
            "Epoch 20 Batch 850 Loss 2.1954 Accuracy 0.5718 with time taken 4.20 secs\n",
            "Epoch 20 Batch 900 Loss 2.1949 Accuracy 0.5719 with time taken 4.36 secs\n",
            "Epoch 20 Batch 950 Loss 2.1960 Accuracy 0.5717 with time taken 4.32 secs\n",
            "Epoch 20 Batch 1000 Loss 2.1964 Accuracy 0.5716 with time taken 4.33 secs\n",
            "Epoch 20 Batch 1050 Loss 2.1963 Accuracy 0.5717 with time taken 4.21 secs\n",
            "Epoch 20 Batch 1100 Loss 2.1973 Accuracy 0.5716 with time taken 4.28 secs\n",
            "Epoch 20 Batch 1150 Loss 2.1963 Accuracy 0.5718 with time taken 4.34 secs\n",
            "Epoch 20 Batch 1200 Loss 2.1964 Accuracy 0.5718 with time taken 4.28 secs\n",
            "Epoch 20 Batch 1250 Loss 2.1975 Accuracy 0.5717 with time taken 4.38 secs\n",
            "Epoch 20 Batch 1300 Loss 2.1969 Accuracy 0.5719 with time taken 4.39 secs\n",
            "Epoch 20 Batch 1350 Loss 2.1967 Accuracy 0.5719 with time taken 4.23 secs\n",
            "Epoch 20 Batch 1400 Loss 2.1973 Accuracy 0.5718 with time taken 4.51 secs\n",
            "Epoch 20 Batch 1450 Loss 2.1971 Accuracy 0.5719 with time taken 4.40 secs\n",
            "Epoch 20 Batch 1500 Loss 2.1973 Accuracy 0.5719 with time taken 4.32 secs\n",
            "Epoch 20 Batch 1550 Loss 2.1973 Accuracy 0.5720 with time taken 4.33 secs\n",
            "Epoch 20 Batch 1600 Loss 2.1977 Accuracy 0.5719 with time taken 4.25 secs\n",
            "Epoch 20 Batch 1650 Loss 2.1982 Accuracy 0.5719 with time taken 4.33 secs\n",
            "Epoch 20 Batch 1700 Loss 2.1992 Accuracy 0.5718 with time taken 4.36 secs\n",
            "Epoch 20 Batch 1750 Loss 2.1990 Accuracy 0.5718 with time taken 4.15 secs\n",
            "Epoch 20 Batch 1800 Loss 2.1991 Accuracy 0.5717 with time taken 4.26 secs\n",
            "Epoch 20 Batch 1850 Loss 2.1991 Accuracy 0.5717 with time taken 4.25 secs\n",
            "Epoch 20 Batch 1900 Loss 2.1991 Accuracy 0.5718 with time taken 4.33 secs\n",
            "Epoch 20 Batch 1950 Loss 2.1990 Accuracy 0.5718 with time taken 4.28 secs\n",
            "Epoch 20 Batch 2000 Loss 2.1994 Accuracy 0.5717 with time taken 4.32 secs\n",
            "Epoch 20 Batch 2050 Loss 2.1990 Accuracy 0.5718 with time taken 4.39 secs\n",
            "Epoch 20 Batch 2100 Loss 2.1992 Accuracy 0.5718 with time taken 4.27 secs\n",
            "Epoch 20 Batch 2150 Loss 2.1988 Accuracy 0.5718 with time taken 4.48 secs\n",
            "Epoch 20 Batch 2200 Loss 2.1983 Accuracy 0.5719 with time taken 4.36 secs\n",
            "Epoch 20 Batch 2250 Loss 2.1983 Accuracy 0.5719 with time taken 4.31 secs\n",
            "Epoch 20 Batch 2300 Loss 2.1982 Accuracy 0.5720 with time taken 4.43 secs\n",
            "Epoch 20 Batch 2350 Loss 2.1979 Accuracy 0.5721 with time taken 4.37 secs\n",
            "Epoch 20 Batch 2400 Loss 2.1976 Accuracy 0.5721 with time taken 4.26 secs\n",
            "Epoch 20 Batch 2450 Loss 2.1980 Accuracy 0.5720 with time taken 4.37 secs\n",
            "Epoch 20 Batch 2500 Loss 2.1974 Accuracy 0.5720 with time taken 4.35 secs\n",
            "Epoch 20 Batch 2550 Loss 2.1966 Accuracy 0.5722 with time taken 4.29 secs\n",
            "Epoch 20 Batch 2600 Loss 2.1963 Accuracy 0.5722 with time taken 4.30 secs\n",
            "Epoch 20 Batch 2650 Loss 2.1962 Accuracy 0.5723 with time taken 4.30 secs\n",
            "Epoch 20 Batch 2700 Loss 2.1958 Accuracy 0.5723 with time taken 4.36 secs\n",
            "Epoch 20 Batch 2750 Loss 2.1955 Accuracy 0.5723 with time taken 4.33 secs\n",
            "Epoch 20 Batch 2800 Loss 2.1954 Accuracy 0.5724 with time taken 4.31 secs\n",
            "Epoch 20 Batch 2850 Loss 2.1954 Accuracy 0.5724 with time taken 4.27 secs\n",
            "Epoch 20 Batch 2900 Loss 2.1952 Accuracy 0.5723 with time taken 4.28 secs\n",
            "Epoch 20 Batch 2950 Loss 2.1959 Accuracy 0.5722 with time taken 4.32 secs\n",
            "Epoch 20 Batch 3000 Loss 2.1960 Accuracy 0.5723 with time taken 4.45 secs\n",
            "Epoch 20 Batch 3050 Loss 2.1959 Accuracy 0.5722 with time taken 4.27 secs\n",
            "Epoch 20 Batch 3100 Loss 2.1960 Accuracy 0.5722 with time taken 4.25 secs\n",
            "Epoch 20 Batch 3150 Loss 2.1957 Accuracy 0.5723 with time taken 4.23 secs\n",
            "Epoch 20 Batch 3200 Loss 2.1960 Accuracy 0.5722 with time taken 4.20 secs\n",
            "Epoch 20 Batch 3250 Loss 2.1960 Accuracy 0.5722 with time taken 4.26 secs\n",
            "Saving checkpoint for epoch 20 at drive/MyDrive/models/transformer_ru_en_v2/ckpt-20\n",
            "Epoch 20 Loss 2.1960 Accuracy 0.5722\n",
            "Time taken for 1 epoch: 281.51 secs\n",
            "\n"
          ],
          "name": "stdout"
        }
      ]
    },
    {
      "cell_type": "code",
      "metadata": {
        "id": "q-Fl1B4XLWmi"
      },
      "source": [
        "checkpoint = tf.keras.callbacks.ModelCheckpoint(BASE_MODEL_PATH + '/' + 'final_model.h5', save_weights_only=False)"
      ],
      "execution_count": 76,
      "outputs": []
    },
    {
      "cell_type": "markdown",
      "metadata": {
        "id": "QfcsSWswSdGV"
      },
      "source": [
        "## Evaluate"
      ]
    },
    {
      "cell_type": "markdown",
      "metadata": {
        "id": "y6APsFrgImLW"
      },
      "source": [
        "The following steps are used for evaluation:\n",
        "\n",
        "* Encode the input sentence using the Portuguese tokenizer (`tokenizers.pt`). This is the encoder input.\n",
        "* The decoder input is initialized to the `[START]` token.\n",
        "* Calculate the padding masks and the look ahead masks.\n",
        "* The `decoder` then outputs the predictions by looking at the `encoder output` and its own output (self-attention).\n",
        "* The model makes predictions of the next word for each word in the output. Most of these are redundant. Use the predictrions from the last word.\n",
        "* Concatentate the predicted word to the decoder input and pass it to the decoder.\n",
        "* In this approach, the decoder predicts the next word based on the previous words it predicted.\n",
        "\n",
        "Note: The model used here has less capacity to keep the example relatively faster so the predictions maybe less right. To reproduce the results in the paper, use the entire dataset and base transformer model or transformer XL, by changing the hyperparameters above."
      ]
    },
    {
      "cell_type": "code",
      "metadata": {
        "id": "5buvMlnvyrFm"
      },
      "source": [
        "def evaluate(sentence, max_length=40):\n",
        "  # inp sentence is portuguese, hence adding the start and end token\n",
        "  sentence = tf.convert_to_tensor([sentence])\n",
        "  sentence = tokenizers.ru.tokenize(sentence).to_tensor()\n",
        "\n",
        "  encoder_input = sentence\n",
        "  \n",
        "  # as the target is english, the first word to the transformer should be the\n",
        "  # english start token.\n",
        "  start, end = tokenizers.en.tokenize([''])[0]\n",
        "  output = tf.convert_to_tensor([start])\n",
        "  output = tf.expand_dims(output, 0)\n",
        "    \n",
        "  for i in range(max_length):\n",
        "    enc_padding_mask, combined_mask, dec_padding_mask = create_masks(\n",
        "        encoder_input, output)\n",
        "  \n",
        "    # predictions.shape == (batch_size, seq_len, vocab_size)\n",
        "    predictions, attention_weights = transformer(encoder_input, \n",
        "                                                 output,\n",
        "                                                 False,\n",
        "                                                 enc_padding_mask,\n",
        "                                                 combined_mask,\n",
        "                                                 dec_padding_mask)\n",
        "    \n",
        "    # select the last word from the seq_len dimension\n",
        "    predictions = predictions[: ,-1:, :]  # (batch_size, 1, vocab_size)\n",
        "\n",
        "    predicted_id = tf.argmax(predictions, axis=-1)\n",
        "\n",
        "    # concatentate the predicted_id to the output which is given to the decoder\n",
        "    # as its input.\n",
        "    output = tf.concat([output, predicted_id], axis=-1)\n",
        "    \n",
        "    # return the result if the predicted_id is equal to the end token\n",
        "    if predicted_id == end:\n",
        "      break\n",
        "\n",
        "  # output.shape (1, tokens)\n",
        "  text = tokenizers.en.detokenize(output)[0] # shape: ()\n",
        "  \n",
        "  tokens = tokenizers.en.lookup(output)[0]\n",
        "  \n",
        "  return text, tokens, attention_weights"
      ],
      "execution_count": 77,
      "outputs": []
    },
    {
      "cell_type": "code",
      "metadata": {
        "id": "lU2_yG_vBGza"
      },
      "source": [
        "# Some quick cleanup code, not production thoroughness\n",
        "def cleanup_punctuation(txt):\n",
        "  txt = txt.replace('`', '')\n",
        "  txt = txt.replace('\\'', '')\n",
        "  txt = txt.replace(',', '')\n",
        "  txt = txt.replace(';', '')\n",
        "  txt = txt.replace('  ', ' ')\n",
        "  txt = txt.replace('  ', ' ')\n",
        "  txt = txt.replace('\\. ', '.')\n",
        "  txt = txt.lstrip()\n",
        "  txt = txt.rstrip()\n",
        "  return txt\n",
        "\n",
        "def print_translation(sentence, translated_text, reference):\n",
        "  print(f'{\"Input:\":15s}: {sentence}')\n",
        "  print(f'{\"Reference\":15s}: {reference}')\n",
        "  print(f'{\"Prediction\":15s}: {translated_text.numpy().decode(\"utf-8\")}')\n",
        "\n",
        "  translated_text = translated_text.numpy().decode(\"utf-8\") \n",
        "  translated_text_split = translated_text.split(' ')\n",
        "  reference_split = reference.split(' ')\n",
        "\n",
        "  rouge = Rouge()\n",
        "  rouge_scores = rouge.get_scores(translated_text, reference)\n",
        "  print(f\"Rouge-l (f): {100*rouge_scores[0]['rouge-l']['f']:.2f}\")\n",
        "\n",
        "  smoothie = SmoothingFunction().method4\n",
        "\n",
        "  score = sentence_bleu([reference_split], translated_text_split, weights=(1.0,0,0,0), smoothing_function=smoothie)\n",
        "  print(f\"BLEU-1 score: {score*100:.2f}\")\n",
        "  score = sentence_bleu([reference_split], translated_text_split, weights=(0.5,0.5,0,0), smoothing_function=smoothie)\n",
        "  print(f\"BLEU-2 score: {score*100:.2f}\")\n",
        "  score = sentence_bleu([reference_split], translated_text_split, weights=(0.3,0.3,0.3,0), smoothing_function=smoothie)\n",
        "  print(f\"BLEU-3 score: {score*100:.2f}\")\n",
        "  score = sentence_bleu([reference_split], translated_text_split, weights=(0.25,0.25,0.25,0.25), smoothing_function=smoothie)\n",
        "  print(f\"BLEU-4 score: {score*100:.2f}\")\n"
      ],
      "execution_count": 78,
      "outputs": []
    },
    {
      "cell_type": "code",
      "metadata": {
        "id": "YsxrAlvFG8SZ",
        "colab": {
          "base_uri": "https://localhost:8080/"
        },
        "outputId": "ba0eaff9-5fd5-454d-f726-83ac0f1704e0"
      },
      "source": [
        "input_sentence = \"У нас есть проблема, которую мы должны решить.\"\n",
        "reference = \"we have a problem that we have to solve .\"\n",
        "\n",
        "translated_text, translated_tokens, attention_weights = evaluate(input_sentence)\n",
        "print_translation(input_sentence, translated_text, reference)"
      ],
      "execution_count": 79,
      "outputs": [
        {
          "output_type": "stream",
          "text": [
            "Input:         : У нас есть проблема, которую мы должны решить.\n",
            "Reference      : we have a problem that we have to solve .\n",
            "Prediction     : we have a problem that we have to solve .\n",
            "Rouge-l (f): 100.00\n",
            "BLEU-1 score: 100.00\n",
            "BLEU-2 score: 100.00\n",
            "BLEU-3 score: 100.00\n",
            "BLEU-4 score: 100.00\n"
          ],
          "name": "stdout"
        }
      ]
    },
    {
      "cell_type": "code",
      "metadata": {
        "colab": {
          "base_uri": "https://localhost:8080/"
        },
        "id": "M0gYQruNcD59",
        "outputId": "9cd9dc86-b24f-432c-c23d-8426831f435e"
      },
      "source": [
        "input_sentence = \"Какой ваш любимый фильм?\"\n",
        "reference = \"what is your favorite movie ?\"\n",
        "\n",
        "translated_text, translated_tokens, attention_weights = evaluate(input_sentence)\n",
        "print_translation(input_sentence, translated_text, reference)"
      ],
      "execution_count": 80,
      "outputs": [
        {
          "output_type": "stream",
          "text": [
            "Input:         : Какой ваш любимый фильм?\n",
            "Reference      : what is your favorite movie ?\n",
            "Prediction     : what ' s your favorite movie ?\n",
            "Rouge-l (f): 76.92\n",
            "BLEU-1 score: 71.43\n",
            "BLEU-2 score: 59.76\n",
            "BLEU-3 score: 55.78\n",
            "BLEU-4 score: 43.47\n"
          ],
          "name": "stdout"
        }
      ]
    },
    {
      "cell_type": "code",
      "metadata": {
        "colab": {
          "base_uri": "https://localhost:8080/"
        },
        "id": "Bk0I1eEEOIaI",
        "outputId": "ec0a1ea4-d4f3-41e5-9a7f-32b88ac6cb21"
      },
      "source": [
        "input_sentence = \"Вы видели мой кошелек, который я потерял, когда был на работе?\"\n",
        "ground_truth = \"have you seen my wallet that i lost when i was at work ?\"\n",
        "\n",
        "translated_text, translated_tokens, attention_weights = evaluate(input_sentence)\n",
        "print_translation(input_sentence, translated_text, ground_truth)"
      ],
      "execution_count": 81,
      "outputs": [
        {
          "output_type": "stream",
          "text": [
            "Input:         : Вы видели мой кошелек, который я потерял, когда был на работе?\n",
            "Reference      : have you seen my wallet that i lost when i was at work ?\n",
            "Prediction     : have you seen my wallet , who i lost my life when i was working ?\n",
            "Rouge-l (f): 74.07\n",
            "BLEU-1 score: 68.75\n",
            "BLEU-2 score: 56.64\n",
            "BLEU-3 score: 48.83\n",
            "BLEU-4 score: 34.46\n"
          ],
          "name": "stdout"
        }
      ]
    },
    {
      "cell_type": "code",
      "metadata": {
        "id": "7EH5y_aqI4t1",
        "colab": {
          "base_uri": "https://localhost:8080/"
        },
        "outputId": "b073e656-a6f5-48a3-c6ec-aa5badbb01a8"
      },
      "source": [
        "input_sentence = \"и мои соседние дома слышали об этой идее.\"\n",
        "reference = \"and my neighboring homes heard about this idea .\"\n",
        "\n",
        "translated_text, translated_tokens, attention_weights = evaluate(input_sentence)\n",
        "print_translation(input_sentence, translated_text, reference)"
      ],
      "execution_count": 82,
      "outputs": [
        {
          "output_type": "stream",
          "text": [
            "Input:         : и мои соседние дома слышали об этой идее.\n",
            "Reference      : and my neighboring homes heard about this idea .\n",
            "Prediction     : and my neighbors were hearing about this idea .\n",
            "Rouge-l (f): 62.50\n",
            "BLEU-1 score: 66.67\n",
            "BLEU-2 score: 57.74\n",
            "BLEU-3 score: 49.39\n",
            "BLEU-4 score: 35.49\n"
          ],
          "name": "stdout"
        }
      ]
    },
    {
      "cell_type": "code",
      "metadata": {
        "colab": {
          "base_uri": "https://localhost:8080/"
        },
        "id": "1mrUG9HgJOI8",
        "outputId": "128f1249-1433-496f-bdda-abd7f263f969"
      },
      "source": [
        "input_sentence = \"Я пошел в магазин за продуктами.\"\n",
        "reference = \"i went to the store to buy some groceries .\"\n",
        "\n",
        "translated_text, translated_tokens, attention_weights = evaluate(input_sentence)\n",
        "print_translation(input_sentence, translated_text, reference)"
      ],
      "execution_count": 83,
      "outputs": [
        {
          "output_type": "stream",
          "text": [
            "Input:         : Я пошел в магазин за продуктами.\n",
            "Reference      : i went to the store to buy some groceries .\n",
            "Prediction     : i went to the store .\n",
            "Rouge-l (f): 76.92\n",
            "BLEU-1 score: 51.34\n",
            "BLEU-2 score: 45.92\n",
            "BLEU-3 score: 44.05\n",
            "BLEU-4 score: 40.83\n"
          ],
          "name": "stdout"
        }
      ]
    },
    {
      "cell_type": "code",
      "metadata": {
        "id": "rKXxF39KJOtp"
      },
      "source": [
        ""
      ],
      "execution_count": 83,
      "outputs": []
    },
    {
      "cell_type": "markdown",
      "metadata": {
        "id": "_1MxkSZvz0jX"
      },
      "source": [
        "You can pass different layers and attention blocks of the decoder to the `plot` parameter."
      ]
    },
    {
      "cell_type": "markdown",
      "metadata": {
        "id": "S3EQiFUC--Ds"
      },
      "source": [
        "## Attention plots"
      ]
    },
    {
      "cell_type": "markdown",
      "metadata": {
        "id": "hHV2pdXHGz-0"
      },
      "source": [
        "The `evaluate` function also returns a dictionary of attention maps you can use to visualize the internal working of the model:"
      ]
    },
    {
      "cell_type": "code",
      "metadata": {
        "id": "t-kFyiOLH0xg",
        "colab": {
          "base_uri": "https://localhost:8080/"
        },
        "outputId": "57d6b09c-f7d4-4f32-8d1c-d2a2c02d48f7"
      },
      "source": [
        "sentence = \"это первая книга, которую я написал.\"\n",
        "ground_truth = \"this is the first book i ' ve ever done .\"\n",
        "\n",
        "translated_text, translated_tokens, attention_weights = evaluate(sentence)\n",
        "print_translation(sentence, translated_text, ground_truth)"
      ],
      "execution_count": 84,
      "outputs": [
        {
          "output_type": "stream",
          "text": [
            "Input:         : это первая книга, которую я написал.\n",
            "Reference      : this is the first book i ' ve ever done .\n",
            "Prediction     : this is the first book i wrote .\n",
            "Rouge-l (f): 70.59\n",
            "BLEU-1 score: 60.14\n",
            "BLEU-2 score: 54.33\n",
            "BLEU-3 score: 52.85\n",
            "BLEU-4 score: 48.60\n"
          ],
          "name": "stdout"
        }
      ]
    },
    {
      "cell_type": "code",
      "metadata": {
        "id": "CcI4DxAK5EHY"
      },
      "source": [
        "def plot_attention_head(in_tokens, translated_tokens, attention):\n",
        "  # The plot is of the attention when a token was generated.\n",
        "  # The model didn't generate `<START>` in the output. Skip it. \n",
        "  translated_tokens = translated_tokens[1:]\n",
        "\n",
        "  ax = plt.gca()\n",
        "  ax.matshow(attention)\n",
        "  ax.set_xticks(range(len(in_tokens)))\n",
        "  ax.set_yticks(range(len(translated_tokens)))\n",
        "\n",
        "  \n",
        "  labels = [label.decode('utf-8') for label in in_tokens.numpy()]\n",
        "  ax.set_xticklabels(\n",
        "      labels, rotation=90)\n",
        "  \n",
        "  labels = [label.decode('utf-8') for label in translated_tokens.numpy()]\n",
        "  ax.set_yticklabels(labels)"
      ],
      "execution_count": 85,
      "outputs": []
    },
    {
      "cell_type": "code",
      "metadata": {
        "id": "_KY4c2cryuxY",
        "colab": {
          "base_uri": "https://localhost:8080/"
        },
        "outputId": "d6072b7c-439e-402c-c802-25db95d55057"
      },
      "source": [
        "head = 0\n",
        "# shape: (batch=1, num_heads, seq_len_q, seq_len_k)\n",
        "attention_heads = tf.squeeze(\n",
        "  attention_weights['decoder_layer4_block2'], 0)\n",
        "attention = attention_heads[head]\n",
        "attention.shape  "
      ],
      "execution_count": 86,
      "outputs": [
        {
          "output_type": "execute_result",
          "data": {
            "text/plain": [
              "TensorShape([9, 10])"
            ]
          },
          "metadata": {
            "tags": []
          },
          "execution_count": 86
        }
      ]
    },
    {
      "cell_type": "code",
      "metadata": {
        "id": "XdxmakWE6Om3",
        "colab": {
          "base_uri": "https://localhost:8080/"
        },
        "outputId": "9c099ac6-7a3d-4131-8579-2ca035024df9"
      },
      "source": [
        "in_tokens = tf.convert_to_tensor([sentence])\n",
        "in_tokens = tokenizers.ru.tokenize(in_tokens).to_tensor()\n",
        "in_tokens = tokenizers.ru.lookup(in_tokens)[0]\n",
        "in_tokens"
      ],
      "execution_count": 87,
      "outputs": [
        {
          "output_type": "execute_result",
          "data": {
            "text/plain": [
              "<tf.Tensor: shape=(10,), dtype=string, numpy=\n",
              "array([b'[START]', b'\\xd1\\x8d\\xd1\\x82\\xd0\\xbe',\n",
              "       b'\\xd0\\xbf\\xd0\\xb5\\xd1\\x80\\xd0\\xb2\\xd0\\xb0\\xd1\\x8f',\n",
              "       b'\\xd0\\xba\\xd0\\xbd\\xd0\\xb8\\xd0\\xb3\\xd0\\xb0', b',',\n",
              "       b'\\xd0\\xba\\xd0\\xbe\\xd1\\x82\\xd0\\xbe\\xd1\\x80\\xd1\\x83\\xd1\\x8e',\n",
              "       b'\\xd1\\x8f',\n",
              "       b'\\xd0\\xbd\\xd0\\xb0\\xd0\\xbf\\xd0\\xb8\\xd1\\x81\\xd0\\xb0\\xd0\\xbb', b'.',\n",
              "       b'[END]'], dtype=object)>"
            ]
          },
          "metadata": {
            "tags": []
          },
          "execution_count": 87
        }
      ]
    },
    {
      "cell_type": "code",
      "metadata": {
        "id": "XtzyKCFamm4N",
        "colab": {
          "base_uri": "https://localhost:8080/",
          "height": 303
        },
        "outputId": "0b3115bb-0f8b-402d-bcf8-3bb7533dedce"
      },
      "source": [
        "plot_attention_head(in_tokens, translated_tokens, attention)"
      ],
      "execution_count": 88,
      "outputs": [
        {
          "output_type": "display_data",
          "data": {
            "image/png": "[encoded data removed]",
            "text/plain": [
              "<Figure size 432x288 with 1 Axes>"
            ]
          },
          "metadata": {
            "tags": [],
            "needs_background": "light"
          }
        }
      ]
    },
    {
      "cell_type": "code",
      "metadata": {
        "id": "MBliB-PCzNK3"
      },
      "source": [
        "def plot_attention_weights(sentence, translated_tokens, attention_heads):\n",
        "  in_tokens = tf.convert_to_tensor([sentence])\n",
        "  in_tokens = tokenizers.ru.tokenize(in_tokens).to_tensor()\n",
        "  in_tokens = tokenizers.ru.lookup(in_tokens)[0]\n",
        "  in_tokens\n",
        "  \n",
        "  fig = plt.figure(figsize=(16, 8))\n",
        "  \n",
        "  for h, head in enumerate(attention_heads):\n",
        "    ax = fig.add_subplot(2, 4, h+1)\n",
        "    \n",
        "    plot_attention_head(in_tokens, translated_tokens, head)\n",
        "    \n",
        "    ax.set_xlabel('Head {}'.format(h+1))\n",
        "  \n",
        "  plt.tight_layout()\n",
        "  plt.show()"
      ],
      "execution_count": 89,
      "outputs": []
    },
    {
      "cell_type": "code",
      "metadata": {
        "id": "pyRQi7944wru",
        "colab": {
          "base_uri": "https://localhost:8080/",
          "height": 476
        },
        "outputId": "87d8d584-5e4f-4e9b-b2cd-700e01ba85d2"
      },
      "source": [
        "plot_attention_weights(sentence, translated_tokens,\n",
        "                       attention_weights['decoder_layer4_block2'][0])"
      ],
      "execution_count": 90,
      "outputs": [
        {
          "output_type": "display_data",
          "data": {
            "image/png": "[encoded data removed]",
            "text/plain": [
              "<Figure size 1152x576 with 8 Axes>"
            ]
          },
          "metadata": {
            "tags": [],
            "needs_background": "light"
          }
        }
      ]
    },
    {
      "cell_type": "markdown",
      "metadata": {
        "id": "MZJirKUtikTt"
      },
      "source": [
        "The model does okay on unfamiliar words. Neither \"triceratops\" or \"encyclopedia\" are in the input dataset and the model almost learns to transliterare them, even withoput a shared vocabulary:"
      ]
    },
    {
      "cell_type": "code",
      "metadata": {
        "colab": {
          "base_uri": "https://localhost:8080/"
        },
        "id": "iIDoojHaqFkn",
        "outputId": "e33e9def-aaa7-4ed7-87b0-73eef81acd2e"
      },
      "source": [
        "input_sentence = \"Я читал о трицератопсе в энциклопедии.\"\n",
        "reference = \"i read about triceratops in the encyclopedia .\"\n",
        "\n",
        "translated_text, translated_tokens, attention_weights = evaluate(input_sentence)\n",
        "print_translation(input_sentence, translated_text, reference)"
      ],
      "execution_count": 91,
      "outputs": [
        {
          "output_type": "stream",
          "text": [
            "Input:         : Я читал о трицератопсе в энциклопедии.\n",
            "Reference      : i read about triceratops in the encyclopedia .\n",
            "Prediction     : i read about the three - carcips in the encyclopedia .\n",
            "Rouge-l (f): 75.00\n",
            "BLEU-1 score: 63.64\n",
            "BLEU-2 score: 56.41\n",
            "BLEU-3 score: 51.01\n",
            "BLEU-4 score: 33.93\n"
          ],
          "name": "stdout"
        }
      ]
    },
    {
      "cell_type": "code",
      "metadata": {
        "colab": {
          "base_uri": "https://localhost:8080/"
        },
        "id": "jD3kbPPNWCqD",
        "outputId": "e5cd6710-f8ed-4a5f-e33c-37b94f1336f2"
      },
      "source": [
        "print(\"This will take a minute...\")\n",
        "references = []\n",
        "candidates = []\n",
        "\n",
        "TEST_SET_SIZE = 100\n",
        "MAX_SENTENCE_CHARS = 80\n",
        "\n",
        "i = 0\n",
        "for ru_example, en_example in test_examples.take(TEST_SET_SIZE * 5):\n",
        "  input_sentence = cleanup_punctuation(ru_example.numpy().decode('utf-8'))\n",
        "\n",
        "  # Skip long sentences of greater than 100 characters\n",
        "  if len(input_sentence) < MAX_SENTENCE_CHARS:\n",
        "\n",
        "    reference = cleanup_punctuation(en_example.numpy().decode('utf-8'))\n",
        "    reference_split = reference.split(' ')\n",
        "    candidate, translated_tokens, attention_weights = evaluate(input_sentence)\n",
        "    candidate = candidate\n",
        "    candidate_split = candidate.numpy().decode('utf-8').split(' ')\n",
        "    references.append([reference_split])\n",
        "    candidates.append(candidate_split)\n",
        "\n",
        "    if i < 3:\n",
        "      print_translation(input_sentence, candidate, reference)\n",
        "      print(\"\")\n",
        "      #print(f'Input: {input_sentence}')\n",
        "      #print(f'Reference: {reference}')\n",
        "      #print(f'Candidate: {translated_text}\\n')\n",
        "\n",
        "    i += 1\n",
        "    if i == TEST_SET_SIZE:\n",
        "      print(f\"Evaluated test set with {i} sentences\")\n",
        "      break"
      ],
      "execution_count": 92,
      "outputs": [
        {
          "output_type": "stream",
          "text": [
            "This will take a minute...\n",
            "Input:         : так что целое буквально больше чем сумма его частей .\n",
            "Reference      : so the whole is literally more than the sum of its parts .\n",
            "Prediction     : so it ' s literally more than the sum of its parts .\n",
            "Rouge-l (f): 78.26\n",
            "BLEU-1 score: 76.92\n",
            "BLEU-2 score: 71.61\n",
            "BLEU-3 score: 71.47\n",
            "BLEU-4 score: 66.52\n",
            "\n",
            "Input:         : ( смех ) ладно позвольте мне отвлечься на секудну и поблагодарить команду .\n",
            "Reference      : ( laughter ) all right let me just take a moment and thank the team .\n",
            "Prediction     : ( laughter ) okay , let me step back to the coast of the door and thank you for the team .\n",
            "Rouge-l (f): 52.94\n",
            "BLEU-1 score: 45.45\n",
            "BLEU-2 score: 36.04\n",
            "BLEU-3 score: 27.17\n",
            "BLEU-4 score: 23.03\n",
            "\n",
            "Input:         : мне 27 лет .\n",
            "Reference      : i m 27 years old .\n",
            "Prediction     : i ' m 27 years old .\n",
            "Rouge-l (f): 90.91\n",
            "BLEU-1 score: 85.71\n",
            "BLEU-2 score: 75.59\n",
            "BLEU-3 score: 72.53\n",
            "BLEU-4 score: 64.35\n",
            "\n",
            "Evaluated test set with 100 sentences\n"
          ],
          "name": "stdout"
        }
      ]
    },
    {
      "cell_type": "code",
      "metadata": {
        "colab": {
          "base_uri": "https://localhost:8080/"
        },
        "id": "z7RPmi1gVMcz",
        "outputId": "13456ea1-0514-47d3-d078-0ee83d6e48a1"
      },
      "source": [
        "#references = [[['this', 'is', 'a', 'test']]]\n",
        "#references = [[['this', 'is', 'a', 'test'], ['this', 'is' 'test']]]\n",
        "#candidates = [['this', 'is', 'a', 'test']]\n",
        "smoothie = SmoothingFunction().method4\n",
        "score = corpus_bleu(references, candidates, smoothing_function=smoothie)\n",
        "print(f'Bleu Corpus score: {score:.2}')"
      ],
      "execution_count": 93,
      "outputs": [
        {
          "output_type": "stream",
          "text": [
            "Bleu Corpus score: 0.19\n"
          ],
          "name": "stdout"
        }
      ]
    }
  ]
}