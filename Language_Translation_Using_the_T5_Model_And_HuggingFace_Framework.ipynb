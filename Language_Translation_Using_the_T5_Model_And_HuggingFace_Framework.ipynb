{
  "nbformat": 4,
  "nbformat_minor": 0,
  "metadata": {
    "colab": {
      "name": "Language_Translation_Using_the_T5_Model_And_HuggingFace_Framework.ipynb",
      "provenance": [],
      "collapsed_sections": []
    },
    "kernelspec": {
      "name": "python3",
      "display_name": "Python 3"
    }
  },
  "cells": [
    {
      "cell_type": "markdown",
      "metadata": {
        "id": "FXGZC40ZzV0x"
      },
      "source": [
        "# Language Translation Using the T5 and MarianMT Models and HuggingFace Framework\n",
        "\n",
        "Translates English to German with high accuracy in only a few lines of code by using the HuggingFace Framework. \n",
        "\n",
        "This notebook shows both the highest level abstraction with pipelines and slightly lower level APIs where we create the model and tokenizer before doing the translations.\n",
        "\n",
        "This example use the same test sentences I used in my 2nd Coursera class capstone project plus a bonus complex sentence.  \n",
        "\n",
        "Uses the T5 Model (Text-to-Text Transfer Transformer) from Google https://arxiv.org/abs/1910.10683\n",
        "\n",
        "The T5 Model uses the C4 dataset (Colossal Clean Crawled Corpus) consisting of about 750 gigabytes of clean English text scraped from the web\n",
        "\n",
        "T5 has been fine tuned to a number of specific NLP tasks including those in the GLUE and SuperGlue NLP benchmarks, which can be run using the code shown below with minor modifications.\n",
        "\n",
        "Also, demonstrate translating the same English to German using the MarianMT model, which is pretrained on over 1,000 language translation combinations so easy to generalize. Marian is a framework for translation models, using the same models as BART. https://arxiv.org/pdf/1804.00344.pdf \n",
        "\n",
        "https://huggingface.co/transformers/master/model_doc/marian.html \n",
        "\n",
        "Lastly translate the same strings via the Google API.\n"
      ]
    },
    {
      "cell_type": "code",
      "metadata": {
        "id": "UMa9Z09E0x_-"
      },
      "source": [
        "pip install transformers"
      ],
      "execution_count": null,
      "outputs": []
    },
    {
      "cell_type": "code",
      "metadata": {
        "id": "khKRuAzbbN3o"
      },
      "source": [
        "import warnings\n",
        "warnings.filterwarnings(action='ignore')"
      ],
      "execution_count": 2,
      "outputs": []
    },
    {
      "cell_type": "code",
      "metadata": {
        "id": "o3XGY_30zrHo"
      },
      "source": [
        "from transformers import pipeline\n",
        "translator = pipeline(\"translation_en_to_de\")"
      ],
      "execution_count": null,
      "outputs": []
    },
    {
      "cell_type": "code",
      "metadata": {
        "id": "ldT_pwIC23Qd"
      },
      "source": [
        "english_strings = [\"I need my key.\", \"I have won.\", \"take a bus\", \"Do you know that?\", \"That'll be fun.\", \"You can fly non-stop from San Francisco to Munich on United Airlines but its a long flight\"]"
      ],
      "execution_count": 4,
      "outputs": []
    },
    {
      "cell_type": "code",
      "metadata": {
        "colab": {
          "base_uri": "https://localhost:8080/"
        },
        "id": "luPpQ4Jnz5XZ",
        "outputId": "807ed654-03b9-40ec-c5fd-7680fa977dd6"
      },
      "source": [
        "for english_string in english_strings:\n",
        "  print(f'English: {english_string}')\n",
        "  german_string = translator(english_string)[0]['translation_text']\n",
        "  print(f'German: {german_string}\\n')"
      ],
      "execution_count": 5,
      "outputs": [
        {
          "output_type": "stream",
          "text": [
            "English: I need my key.\n",
            "German: Ich brauche meinen Schlüssel.\n",
            "\n",
            "English: I have won.\n",
            "German: Ich habe gewonnen.\n",
            "\n",
            "English: take a bus\n",
            "German: Bus nehmen\n",
            "\n",
            "English: Do you know that?\n",
            "German: Wissen Sie das?\n",
            "\n",
            "English: That'll be fun.\n",
            "German: Das wird Spaß machen.\n",
            "\n",
            "English: You can fly non-stop from San Francisco to Munich on United Airlines but its a long flight\n",
            "German: Sie können mit United Airlines von San Francisco nach München fliegen, aber es ist ein langer Flug.\n",
            "\n"
          ],
          "name": "stdout"
        }
      ]
    },
    {
      "cell_type": "markdown",
      "metadata": {
        "id": "i4XZu3Cy118M"
      },
      "source": [
        "Going one level lower in the HuggingFace API in case we needed more control including the ability to specify the model, tokenizer and if needed the config.  Note, we are using T5 summarization and a special feature to do translation. \n",
        "\n",
        "The following uses PyTorch"
      ]
    },
    {
      "cell_type": "code",
      "metadata": {
        "id": "RarabHR3QesM"
      },
      "source": [
        "from transformers import AutoModelForSeq2SeqLM, AutoTokenizer\n",
        "model = AutoModelForSeq2SeqLM.from_pretrained(\"t5-base\")\n",
        "tokenizer = AutoTokenizer.from_pretrained(\"t5-base\")"
      ],
      "execution_count": null,
      "outputs": []
    },
    {
      "cell_type": "code",
      "metadata": {
        "colab": {
          "base_uri": "https://localhost:8080/"
        },
        "id": "5OXwieh62i5J",
        "outputId": "2a1267f8-db03-451d-8dfd-684e695b4e57"
      },
      "source": [
        "for english_string in english_strings:\n",
        "  print(f'English: {english_string}')\n",
        "\n",
        "  # Add the T5 specific prefix “translate English to German: “ since this is a generative model\n",
        "  # Other prefixes are available in T5 for other NLP tasks including those in GLUE & SuperGLUE\n",
        "  english_string = \"translate English to German:\" + english_string\n",
        "\n",
        "  inputs = tokenizer.encode(english_string, return_tensors=\"pt\")\n",
        "\n",
        "  # Overriding PreTrainedModel.generate() default config, e.g. max_length\n",
        "  outputs = model.generate(inputs, max_length=50, num_beams=4, early_stopping=True)\n",
        "  german_string = tokenizer.decode(outputs[0]).lstrip('<pad>').rstrip('</s>')\n",
        "  print(f'German: {german_string}\\n')\n"
      ],
      "execution_count": 7,
      "outputs": [
        {
          "output_type": "stream",
          "text": [
            "English: I need my key.\n",
            "German:  Ich brauche meinen Schlüssel.\n",
            "\n",
            "English: I have won.\n",
            "German:  Ich habe gewonnen.\n",
            "\n",
            "English: take a bus\n",
            "German:  Bus nehmen\n",
            "\n",
            "English: Do you know that?\n",
            "German:  Wissen Sie das?\n",
            "\n",
            "English: That'll be fun.\n",
            "German:  Das wird Spaß machen.\n",
            "\n",
            "English: You can fly non-stop from San Francisco to Munich on United Airlines but its a long flight\n",
            "German:  Sie können mit United Airlines von San Francisco nach München fliegen, aber es ist ein langer Flug.\n",
            "\n"
          ],
          "name": "stdout"
        }
      ]
    },
    {
      "cell_type": "markdown",
      "metadata": {
        "id": "-JAB7UU28UOr"
      },
      "source": [
        "Same as above except in Tensorflow 2.0.  Notice the differences are trivial."
      ]
    },
    {
      "cell_type": "code",
      "metadata": {
        "id": "YONwHkLs5uPw"
      },
      "source": [
        "from transformers import TFAutoModelForSeq2SeqLM, AutoTokenizer\n",
        "\n",
        "model = TFAutoModelForSeq2SeqLM.from_pretrained(\"t5-base\")\n",
        "tokenizer = AutoTokenizer.from_pretrained(\"t5-base\")"
      ],
      "execution_count": null,
      "outputs": []
    },
    {
      "cell_type": "code",
      "metadata": {
        "colab": {
          "base_uri": "https://localhost:8080/"
        },
        "id": "mYaBZSZ_8jtZ",
        "outputId": "1b6bbe0b-d226-47c2-b796-cd383c4af64e"
      },
      "source": [
        "for english_string in english_strings:\n",
        "  print(f'English: {english_string}')\n",
        "\n",
        "  # Add the T5 specific prefix “translate English to German: “ since this is a generative model\n",
        "  # Other prefixes are available in T5 for other NLP tasks including those in GLUE & SuperGLUE\n",
        "  english_string = \"translate English to German:\" + english_string\n",
        "\n",
        "  inputs = tokenizer.encode(english_string, return_tensors=\"tf\")\n",
        "\n",
        "  # Overriding PreTrainedModel.generate() default config, e.g. max_length\n",
        "  outputs = model.generate(inputs, max_length=50, num_beams=4, early_stopping=True)\n",
        "  german_string = tokenizer.decode(outputs[0]).lstrip('<pad>').rstrip('</s>')\n",
        "  print(f'German: {german_string}\\n')"
      ],
      "execution_count": 9,
      "outputs": [
        {
          "output_type": "stream",
          "text": [
            "English: I need my key.\n",
            "German:  Ich brauche meinen Schlüssel.\n",
            "\n",
            "English: I have won.\n",
            "German:  Ich habe gewonnen.\n",
            "\n",
            "English: take a bus\n",
            "German:  Bus nehmen\n",
            "\n",
            "English: Do you know that?\n",
            "German:  Wissen Sie das?\n",
            "\n",
            "English: That'll be fun.\n",
            "German:  Das wird Spaß machen.\n",
            "\n",
            "English: You can fly non-stop from San Francisco to Munich on United Airlines but its a long flight\n",
            "German:  Sie können mit United Airlines von San Francisco nach München fliegen, aber es ist ein langer Flug.\n",
            "\n"
          ],
          "name": "stdout"
        }
      ]
    },
    {
      "cell_type": "markdown",
      "metadata": {
        "id": "sEL01LtglaXQ"
      },
      "source": [
        "**MarianMT Model**\n",
        "\n",
        "Over 1000 language combinations supported. German translation below had one sentence not translated as well as T5.\n",
        "\n",
        "https://huggingface.co/transformers/master/model_doc/marian.html"
      ]
    },
    {
      "cell_type": "code",
      "metadata": {
        "colab": {
          "base_uri": "https://localhost:8080/"
        },
        "id": "KDkhEeStlt4d",
        "outputId": "5f5e0a2d-9f56-41eb-cf70-4bf862d2cc1f"
      },
      "source": [
        "% pip install sentencepiece"
      ],
      "execution_count": 10,
      "outputs": [
        {
          "output_type": "stream",
          "text": [
            "Requirement already satisfied: sentencepiece in /usr/local/lib/python3.6/dist-packages (0.1.94)\n"
          ],
          "name": "stdout"
        }
      ]
    },
    {
      "cell_type": "code",
      "metadata": {
        "id": "fmc8kFxJlzaU"
      },
      "source": [
        "from transformers import MarianMTModel, MarianTokenizer\n",
        "\n",
        "src_text = [\">>deu<< \" + s for s in english_strings]\n",
        "\n",
        "model_name = 'Helsinki-NLP/opus-mt-en-de'\n",
        "\n",
        "tokenizer = MarianTokenizer.from_pretrained(model_name)\n",
        "print(tokenizer.supported_language_codes)\n",
        "model = MarianMTModel.from_pretrained(model_name)\n",
        "outputs = model.generate(**tokenizer.prepare_seq2seq_batch(src_text, return_tensors=\"pt\"))\n",
        "german_strings = [tokenizer.decode(t, skip_special_tokens=True) for t in outputs]"
      ],
      "execution_count": null,
      "outputs": []
    },
    {
      "cell_type": "code",
      "metadata": {
        "colab": {
          "base_uri": "https://localhost:8080/"
        },
        "id": "5Pvnx3ZXqUNc",
        "outputId": "374fc8ba-4ec0-4b41-e177-bd02314d98e7"
      },
      "source": [
        "for english_string, german_string in zip(english_strings, german_strings):\n",
        "  print(f'English: {english_string}')\n",
        "  print(f'German: {german_string}\\n')"
      ],
      "execution_count": 12,
      "outputs": [
        {
          "output_type": "stream",
          "text": [
            "English: I need my key.\n",
            "German: Ich brauche meinen Schlüssel.\n",
            "\n",
            "English: I have won.\n",
            "German: Ich habe gewonnen.\n",
            "\n",
            "English: take a bus\n",
            "German: Nehmen Sie einen Bus\n",
            "\n",
            "English: Do you know that?\n",
            "German: Weißt du das?\n",
            "\n",
            "English: That'll be fun.\n",
            "German: Das wird lustig.\n",
            "\n",
            "English: You can fly non-stop from San Francisco to Munich on United Airlines but its a long flight\n",
            "German: Sie können nonstop von San Francisco nach München auf United Airlines fliegen, aber es ist ein langer Flug\n",
            "\n"
          ],
          "name": "stdout"
        }
      ]
    },
    {
      "cell_type": "markdown",
      "metadata": {
        "id": "OHh05K2i6wBU"
      },
      "source": [
        "**Google Translate API**\n",
        "\n",
        "Use a modified/patched version of Google Translate"
      ]
    },
    {
      "cell_type": "code",
      "metadata": {
        "colab": {
          "base_uri": "https://localhost:8080/"
        },
        "id": "IrRIsqZj60H6",
        "outputId": "82b6528f-5336-4df7-cd77-b08fe7de5b43"
      },
      "source": [
        "! pip install google_trans_new"
      ],
      "execution_count": 13,
      "outputs": [
        {
          "output_type": "stream",
          "text": [
            "Requirement already satisfied: google_trans_new in /usr/local/lib/python3.6/dist-packages (1.1.9)\n"
          ],
          "name": "stdout"
        }
      ]
    },
    {
      "cell_type": "code",
      "metadata": {
        "id": "96d_Ojmc68Q7"
      },
      "source": [
        "from google_trans_new import google_translator\n",
        "\n",
        "translator = google_translator()  "
      ],
      "execution_count": 14,
      "outputs": []
    },
    {
      "cell_type": "code",
      "metadata": {
        "colab": {
          "base_uri": "https://localhost:8080/"
        },
        "id": "Cdwix5oE7I0b",
        "outputId": "f1e34d7f-d54b-412c-e76a-c6c7107abbe7"
      },
      "source": [
        "for english_string in english_strings:\n",
        "  german_string = translator.translate(english_string,lang_tgt='de')  \n",
        "  print(f'English: {english_string}')\n",
        "  print(f'German: {german_string}\\n')"
      ],
      "execution_count": 15,
      "outputs": [
        {
          "output_type": "stream",
          "text": [
            "English: I need my key.\n",
            "German: Ich brauche meinen Schlüssel. \n",
            "\n",
            "English: I have won.\n",
            "German: Ich habe gewonnen. \n",
            "\n",
            "English: take a bus\n",
            "German: nehmen Sie einen Bus \n",
            "\n",
            "English: Do you know that?\n",
            "German: Weißt du, dass? \n",
            "\n",
            "English: That'll be fun.\n",
            "German: Das wird Spaß machen. \n",
            "\n",
            "English: You can fly non-stop from San Francisco to Munich on United Airlines but its a long flight\n",
            "German: Sie können mit United Airlines nonstop von San Francisco nach München fliegen, aber es ist ein langer Flug \n",
            "\n"
          ],
          "name": "stdout"
        }
      ]
    }
  ]
}