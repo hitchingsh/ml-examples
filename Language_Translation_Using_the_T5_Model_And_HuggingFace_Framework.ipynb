{
  "nbformat": 4,
  "nbformat_minor": 0,
  "metadata": {
    "colab": {
      "name": "Language_Translation_Using_the_T5_Model_And_HuggingFace_Framework.ipynb",
      "provenance": []
    },
    "kernelspec": {
      "name": "python3",
      "display_name": "Python 3"
    }
  },
  "cells": [
    {
      "cell_type": "markdown",
      "metadata": {
        "id": "FXGZC40ZzV0x"
      },
      "source": [
        "# Language Translation Using the T5 Model and HuggingFace Framework in PyTorch\n",
        "\n",
        "Translates English to German with high accuracy in only a few lines of code by using the HuggingFace Framework. This notebook shows both the highest level abstraction with pipelines and a slightly lower level API where we create the model and tokenizer before doing the translations.\n",
        "\n",
        "This example use the same test sentences I used in my 2nd Coursera class capstone project plus a bonus complex sentence.  All examples below were confirmed to have been correctly translated by reverse translating the results using Google Translate.\n",
        "\n",
        "T5 (Text-to-Text Transfer Transformer) Model\n",
        "https://arxiv.org/abs/1910.10683\n",
        "\n",
        "For T5 to be able to operate on all NLP tasks, it transforms them into text-to-text problems by using specific prefixes: “summarize: ”, “question: ”, “translate English to German: ” and so forth. "
      ]
    },
    {
      "cell_type": "code",
      "metadata": {
        "id": "UMa9Z09E0x_-"
      },
      "source": [
        "pip install transformers"
      ],
      "execution_count": null,
      "outputs": []
    },
    {
      "cell_type": "code",
      "metadata": {
        "id": "o3XGY_30zrHo"
      },
      "source": [
        "from transformers import pipeline\n",
        "translator = pipeline(\"translation_en_to_de\")"
      ],
      "execution_count": 6,
      "outputs": []
    },
    {
      "cell_type": "code",
      "metadata": {
        "id": "ldT_pwIC23Qd"
      },
      "source": [
        "english_strings = [\"I need my key.\", \"I have won.\", \"take a bus\", \"Do you know that?\", \"That'll be fun.\", \"You can fly non-stop from San Francisco to Munich on United Airlines but its a long flight\"]"
      ],
      "execution_count": 17,
      "outputs": []
    },
    {
      "cell_type": "code",
      "metadata": {
        "colab": {
          "base_uri": "https://localhost:8080/"
        },
        "id": "luPpQ4Jnz5XZ",
        "outputId": "81b9092e-684d-4d56-e5c0-3b3565fdb4a4"
      },
      "source": [
        "for english_string in english_strings:\n",
        "  print(f'English: {english_string}')\n",
        "  german_string = translator(english_string)[0]['translation_text']\n",
        "  print(f'German: {german_string}\\n')"
      ],
      "execution_count": 30,
      "outputs": [
        {
          "output_type": "stream",
          "text": [
            "English: I need my key.\n",
            "German: Ich brauche meinen Schlüssel.\n",
            "\n",
            "English: I have won.\n",
            "German: Ich habe gewonnen.\n",
            "\n",
            "English: take a bus\n",
            "German: Bus nehmen\n",
            "\n",
            "English: Do you know that?\n",
            "German: Wissen Sie das?\n",
            "\n",
            "English: That'll be fun.\n",
            "German: Das wird Spaß machen.\n",
            "\n",
            "English: You can fly non-stop from San Francisco to Munich on United Airlines but its a long flight\n",
            "German: Sie können mit United Airlines von San Francisco nach München fliegen, aber es ist ein langer Flug.\n",
            "\n"
          ],
          "name": "stdout"
        }
      ]
    },
    {
      "cell_type": "markdown",
      "metadata": {
        "id": "i4XZu3Cy118M"
      },
      "source": [
        "Going one level lower in the HuggingFace API in case we needed more control including the ability to specify the model, tokenizer and if needed the config.  Note, we are using T5 summarization and a special feature to do translation. This is in PyTorch, although there is very little difference from TensorFlow 2.0."
      ]
    },
    {
      "cell_type": "code",
      "metadata": {
        "colab": {
          "base_uri": "https://localhost:8080/"
        },
        "id": "3RTl0S8y03G0",
        "outputId": "1dd8be2d-b48b-4701-f8c3-82e9bb312e4b"
      },
      "source": [
        "from transformers import AutoModelWithLMHead, AutoTokenizer\n",
        "model = AutoModelWithLMHead.from_pretrained(\"t5-base\")\n",
        "tokenizer = AutoTokenizer.from_pretrained(\"t5-base\")"
      ],
      "execution_count": 46,
      "outputs": [
        {
          "output_type": "stream",
          "text": [
            "/usr/local/lib/python3.6/dist-packages/transformers/models/auto/modeling_auto.py:970: FutureWarning: The class `AutoModelWithLMHead` is deprecated and will be removed in a future version. Please use `AutoModelForCausalLM` for causal language models, `AutoModelForMaskedLM` for masked language models and `AutoModelForSeq2SeqLM` for encoder-decoder models.\n",
            "  FutureWarning,\n"
          ],
          "name": "stderr"
        }
      ]
    },
    {
      "cell_type": "code",
      "metadata": {
        "colab": {
          "base_uri": "https://localhost:8080/"
        },
        "id": "5OXwieh62i5J",
        "outputId": "c4d4e275-4a31-4520-ecff-15f4b9bb6907"
      },
      "source": [
        "for english_string in english_strings:\n",
        "  print(f'English: {english_string}')\n",
        "\n",
        "  # Add the T5 specific prefix “translate English to German: “ since this is a generative model\n",
        "  english_string = \"translate English to German:\" + english_string\n",
        "\n",
        "  inputs = tokenizer.encode(english_string, return_tensors=\"pt\")\n",
        "\n",
        "  # Overriding PreTrainedModel.generate() default config, e.g. max_length\n",
        "  outputs = model.generate(inputs, max_length=50, num_beams=4, early_stopping=True)\n",
        "  german_string = tokenizer.decode(outputs[0]).lstrip('<pad>').rstrip('</s>')\n",
        "  print(f'German: {german_string}\\n')\n"
      ],
      "execution_count": 49,
      "outputs": [
        {
          "output_type": "stream",
          "text": [
            "English: I need my key.\n",
            "German:  Ich brauche meinen Schlüssel.\n",
            "\n",
            "English: I have won.\n",
            "German:  Ich habe gewonnen.\n",
            "\n",
            "English: take a bus\n",
            "German:  Bus nehmen\n",
            "\n",
            "English: Do you know that?\n",
            "German:  Wissen Sie das?\n",
            "\n",
            "English: That'll be fun.\n",
            "German:  Das wird Spaß machen.\n",
            "\n",
            "English: You can fly non-stop from San Francisco to Munich on United Airlines but its a long flight\n",
            "German:  Sie können mit United Airlines von San Francisco nach München fliegen, aber es ist ein langer Flug.\n",
            "\n"
          ],
          "name": "stdout"
        }
      ]
    },
    {
      "cell_type": "code",
      "metadata": {
        "id": "YONwHkLs5uPw"
      },
      "source": [
        ""
      ],
      "execution_count": null,
      "outputs": []
    }
  ]
}