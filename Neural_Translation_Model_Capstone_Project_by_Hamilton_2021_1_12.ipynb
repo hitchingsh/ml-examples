{
  "nbformat": 4,
  "nbformat_minor": 0,
  "metadata": {
    "accelerator": "GPU",
    "colab": {
      "name": "Copy of Neural_Translation_Model_Capstone_Project_by_Hamilton_2021-1-12.ipynb",
      "provenance": [],
      "collapsed_sections": []
    },
    "kernelspec": {
      "display_name": "feedforward",
      "language": "python",
      "name": "feedforward"
    },
    "language_info": {
      "codemirror_mode": {
        "name": "ipython",
        "version": 3
      },
      "file_extension": ".py",
      "mimetype": "text/x-python",
      "name": "python",
      "nbconvert_exporter": "python",
      "pygments_lexer": "ipython3",
      "version": "3.6.9"
    }
  },
  "cells": [
    {
      "cell_type": "markdown",
      "metadata": {
        "id": "vsX0L1sG1iZj"
      },
      "source": [
        "# Capstone Project\n",
        "## Neural translation model\n",
        "### By Hamilton Hitchings\n",
        "#### 2021-1-12\n",
        "### Instructions\n",
        "\n",
        "In this notebook, you will create a neural network that translates from English to German. You will use concepts from throughout this course, including building more flexible model architectures, freezing layers, data processing pipeline and sequence modelling.\n",
        "\n",
        "This project is peer-assessed. Within this notebook you will find instructions in each section for how to complete the project. Pay close attention to the instructions as the peer review will be carried out according to a grading rubric that checks key parts of the project instructions. Feel free to add extra cells into the notebook as required.\n",
        "\n",
        "### How to submit\n",
        "\n",
        "When you have completed the Capstone project notebook, you will submit a pdf of the notebook for peer review. First ensure that the notebook has been fully executed from beginning to end, and all of the cell outputs are visible. This is important, as the grading rubric depends on the reviewer being able to view the outputs of your notebook. Save the notebook as a pdf (you could download the notebook with File -> Download .ipynb, open the notebook locally, and then File -> Download as -> PDF via LaTeX), and then submit this pdf for review.\n",
        "\n",
        "### Let's get started!\n",
        "\n",
        "We'll start by running some imports, and loading the dataset. For this project you are free to make further imports throughout the notebook as you wish. "
      ]
    },
    {
      "cell_type": "code",
      "metadata": {
        "id": "2VyTvxPN1iZn"
      },
      "source": [
        "import tensorflow as tf\n",
        "import tensorflow_hub as hub\n",
        "import unicodedata\n",
        "import re\n",
        "from IPython.display import Image\n",
        "import matplotlib.pyplot as plt\n",
        "\n",
        "import json\n",
        "import numpy as np\n",
        "from tensorflow.keras.preprocessing.text import Tokenizer\n",
        "from sklearn.model_selection import train_test_split\n",
        "from tensorflow.keras.layers import Layer, Input, Masking, LSTM, Dense, Embedding\n",
        "from tensorflow.keras.models import Model\n",
        "\n",
        "from tensorflow.keras.utils import to_categorical"
      ],
      "execution_count": null,
      "outputs": []
    },
    {
      "cell_type": "markdown",
      "metadata": {
        "id": "wuIi4lAR1iZt"
      },
      "source": [
        "For the capstone project, you will use a language dataset from http://www.manythings.org/anki/ to build a neural translation model. This dataset consists of over 200,000 pairs of sentences in English and German. In order to make the training quicker, we will restrict to our dataset to 20,000 pairs. Feel free to change this if you wish - the size of the dataset used is not part of the grading rubric.\n",
        "\n",
        "Your goal is to develop a neural translation model from English to German, making use of a pre-trained English word embedding module."
      ]
    },
    {
      "cell_type": "markdown",
      "metadata": {
        "id": "pi9Dq6vv3FVO"
      },
      "source": [
        "#### Import the data\n",
        "\n",
        "The dataset is available for download as a zip file at the following link:\n",
        "\n",
        "https://drive.google.com/open?id=1KczOciG7sYY7SB9UlBeRP1T9659b121Q\n",
        "\n",
        "You should store the unzipped folder in Drive for use in this Colab notebook."
      ]
    },
    {
      "cell_type": "code",
      "metadata": {
        "colab": {
          "base_uri": "https://localhost:8080/"
        },
        "id": "Nw99tEEQ3bKL",
        "outputId": "de68c681-152d-4670-eea2-cda8f5c6be15"
      },
      "source": [
        "# Run this cell to connect to your Drive folder\n",
        "\n",
        "from google.colab import drive\n",
        "drive.mount('/content/gdrive')"
      ],
      "execution_count": null,
      "outputs": [
        {
          "output_type": "stream",
          "text": [
            "Drive already mounted at /content/gdrive; to attempt to forcibly remount, call drive.mount(\"/content/gdrive\", force_remount=True).\n"
          ],
          "name": "stdout"
        }
      ]
    },
    {
      "cell_type": "code",
      "metadata": {
        "id": "o8PetPpw1iZu"
      },
      "source": [
        "# Run this cell to load the dataset\n",
        "\n",
        "NUM_EXAMPLES = 20000\n",
        "data_examples = []\n",
        "with open('/content/gdrive/MyDrive/data/deu.txt', 'r', encoding='utf8') as f:\n",
        "    for line in f.readlines():\n",
        "        if len(data_examples) < NUM_EXAMPLES:\n",
        "            data_examples.append(line)\n",
        "        else:\n",
        "            break"
      ],
      "execution_count": null,
      "outputs": []
    },
    {
      "cell_type": "code",
      "metadata": {
        "id": "JumLjJ631iZy"
      },
      "source": [
        "# These functions preprocess English and German sentences\n",
        "\n",
        "def unicode_to_ascii(s):\n",
        "    return ''.join(c for c in unicodedata.normalize('NFD', s) if unicodedata.category(c) != 'Mn')\n",
        "\n",
        "def preprocess_sentence(sentence):\n",
        "    sentence = sentence.lower().strip()\n",
        "    sentence = re.sub(r\"ü\", 'ue', sentence)\n",
        "    sentence = re.sub(r\"ä\", 'ae', sentence)\n",
        "    sentence = re.sub(r\"ö\", 'oe', sentence)\n",
        "    sentence = re.sub(r'ß', 'ss', sentence)\n",
        "    \n",
        "    #sentence = unicode_to_ascii(sentence)\n",
        "    sentence = re.sub(r\"([?.!,])\", r\" \\1 \", sentence)\n",
        "    sentence = re.sub(r\"[^a-z?.!,']+\", \" \", sentence)\n",
        "    sentence = re.sub(r'[\" \"]+', \" \", sentence)\n",
        "\n",
        "    return sentence.strip()"
      ],
      "execution_count": null,
      "outputs": []
    },
    {
      "cell_type": "markdown",
      "metadata": {
        "id": "XFJap-TW1iZ2"
      },
      "source": [
        "#### The custom translation model\n",
        "The following is a schematic of the custom translation model architecture you will develop in this project."
      ]
    },
    {
      "cell_type": "code",
      "metadata": {
        "colab": {
          "base_uri": "https://localhost:8080/",
          "height": 648
        },
        "id": "gBF1K2JN4RFJ",
        "outputId": "fb674453-acef-436d-a0d7-0955f9e243ea"
      },
      "source": [
        "# Run this cell to download and view a schematic diagram for the neural translation model\n",
        "\n",
        "!wget -q -O neural_translation_model.png --no-check-certificate \"https://docs.google.com/uc?export=download&id=1XsS1VlXoaEo-RbYNilJ9jcscNZvsSPmd\"\n",
        "Image(\"neural_translation_model.png\")"
      ],
      "execution_count": null,
      "outputs": [
        {
          "output_type": "execute_result",
          "data": {
            "image/png": "[encoded data removed]",
            "text/plain": [
              "<IPython.core.display.Image object>"
            ]
          },
          "metadata": {
            "tags": []
          },
          "execution_count": 508
        }
      ]
    },
    {
      "cell_type": "markdown",
      "metadata": {
        "id": "0fP7P-yK4RS7"
      },
      "source": [
        "The custom model consists of an encoder RNN and a decoder RNN. The encoder takes words of an English sentence as input, and uses a pre-trained word embedding to embed the words into a 128-dimensional space. To indicate the end of the input sentence, a special end token (in the same 128-dimensional space) is passed in as an input. This token is a TensorFlow Variable that is learned in the training phase (unlike the pre-trained word embedding, which is frozen).\n",
        "\n",
        "The decoder RNN takes the internal state of the encoder network as its initial state. A start token is passed in as the first input, which is embedded using a learned German word embedding. The decoder RNN then makes a prediction for the next German word, which during inference is then passed in as the following input, and this process is repeated until the special `<end>` token is emitted from the decoder."
      ]
    },
    {
      "cell_type": "markdown",
      "metadata": {
        "id": "z70nu6_01iZ3"
      },
      "source": [
        "## 1. Text preprocessing\n",
        "* Create separate lists of English and German sentences, and preprocess them using the `preprocess_sentence` function provided for you above.\n",
        "* Add a special `\"<start>\"` and `\"<end>\"` token to the beginning and end of every German sentence.\n",
        "* Use the Tokenizer class from the `tf.keras.preprocessing.text` module to tokenize the German sentences, ensuring that no character filters are applied. _Hint: use the Tokenizer's \"filter\" keyword argument._\n",
        "* Print out at least 5 randomly chosen examples of (preprocessed) English and German sentence pairs. For the German sentence, print out the text (with start and end tokens) as well as the tokenized sequence.\n",
        "* Pad the end of the tokenized German sequences with zeros, and batch the complete set of sequences into one numpy array."
      ]
    },
    {
      "cell_type": "code",
      "metadata": {
        "colab": {
          "base_uri": "https://localhost:8080/"
        },
        "id": "5GNGBz5_Pq9T",
        "outputId": "3bc8e385-be27-4cd6-ff07-c2e7879bd65a"
      },
      "source": [
        "data_examples[0:5]"
      ],
      "execution_count": null,
      "outputs": [
        {
          "output_type": "execute_result",
          "data": {
            "text/plain": [
              "['Hi.\\tHallo!\\tCC-BY 2.0 (France) Attribution: tatoeba.org #538123 (CM) & #380701 (cburgmer)\\n',\n",
              " 'Hi.\\tGrüß Gott!\\tCC-BY 2.0 (France) Attribution: tatoeba.org #538123 (CM) & #659813 (Esperantostern)\\n',\n",
              " 'Run!\\tLauf!\\tCC-BY 2.0 (France) Attribution: tatoeba.org #906328 (papabear) & #941078 (Fingerhut)\\n',\n",
              " 'Wow!\\tPotzdonner!\\tCC-BY 2.0 (France) Attribution: tatoeba.org #52027 (Zifre) & #2122382 (Pfirsichbaeumchen)\\n',\n",
              " 'Wow!\\tDonnerwetter!\\tCC-BY 2.0 (France) Attribution: tatoeba.org #52027 (Zifre) & #2122391 (Pfirsichbaeumchen)\\n']"
            ]
          },
          "metadata": {
            "tags": []
          },
          "execution_count": 509
        }
      ]
    },
    {
      "cell_type": "code",
      "metadata": {
        "id": "9G20C4bk1iZ4",
        "scrolled": true
      },
      "source": [
        "# Create separate lists of English and German sentences, and preprocess them using the preprocess_sentence \n",
        "# function provided for you above.\n",
        "# Add a special \"<start>\" and \"<end>\" token to the beginning and end of every German sentence.\n",
        "def preprocess_example(sentence):\n",
        "  sentences = sentence.split(\"\\t\")\n",
        "  english_sentence = preprocess_sentence(sentences[0])\n",
        "  english_sentence = unicode_to_ascii(english_sentence) \n",
        "  german_sentence = \"<start> \" + preprocess_sentence(sentences[1]) + \" <end>\"\n",
        "  german_sentence = unicode_to_ascii(german_sentence) \n",
        "\n",
        "  return (english_sentence, german_sentence)\n"
      ],
      "execution_count": null,
      "outputs": []
    },
    {
      "cell_type": "code",
      "metadata": {
        "colab": {
          "base_uri": "https://localhost:8080/"
        },
        "id": "Sxwl-1rB1iZ8",
        "outputId": "e65cf275-e578-4b4c-a440-33898d167e5d"
      },
      "source": [
        "english_sentences = []\n",
        "german_sentences = []\n",
        "\n",
        "for example in data_examples:\n",
        "  (english_sentence, german_sentence) = preprocess_example(example)\n",
        "  english_sentences.append(english_sentence)\n",
        "  german_sentences.append(german_sentence)\n",
        "\n",
        "print(f'Number of English sentences: {len(english_sentences)}')\n",
        "print(f'Number of German sentences: {len(german_sentences)}')"
      ],
      "execution_count": null,
      "outputs": [
        {
          "output_type": "stream",
          "text": [
            "Number of English sentences: 20000\n",
            "Number of German sentences: 20000\n"
          ],
          "name": "stdout"
        }
      ]
    },
    {
      "cell_type": "code",
      "metadata": {
        "id": "PEHkL0EW4laH"
      },
      "source": [
        ""
      ],
      "execution_count": null,
      "outputs": []
    },
    {
      "cell_type": "code",
      "metadata": {
        "id": "WnIdqZFk1iaA"
      },
      "source": [
        "# Use the Tokenizer class from the tf.keras.preprocessing.text module to tokenize the German sentences, \n",
        "# ensuring that no character filters are applied. Hint: use the Tokenizer's \"filter\" keyword argument.\n",
        "tokenizer = Tokenizer(filters='')\n",
        "\n",
        "# Build the Tokenizer vocabulary\n",
        "tokenizer.fit_on_texts(german_sentences)\n",
        "\n",
        "# Pad the end of the tokenized German sequences with zeros, \n",
        "german_seq_chunks = tokenizer.texts_to_sequences(german_sentences)"
      ],
      "execution_count": null,
      "outputs": []
    },
    {
      "cell_type": "code",
      "metadata": {
        "colab": {
          "base_uri": "https://localhost:8080/"
        },
        "id": "jOsXys1X5f9D",
        "outputId": "2cec0624-280d-4e21-ae1d-db76eba694ad"
      },
      "source": [
        "# Print out at least 5 randomly chosen examples of (preprocessed) English and German sentence pairs. \n",
        "# For the German sentence, print out the text (with start and end tokens) as well as the tokenized sequence.\n",
        "for i in np.random.randint(20000, size=5):\n",
        "  print(f'English sentence: \\\"{english_sentences[i]}\\\"')\n",
        "  print(f'German sentence: \\\"{german_sentences[i]}\\\"')\n",
        "  print(f'German sequence: {german_seq_chunks[i]}')\n",
        "  print('')"
      ],
      "execution_count": null,
      "outputs": [
        {
          "output_type": "stream",
          "text": [
            "English sentence: \"get on with it .\"\n",
            "German sentence: \"<start> nun machen sie schon weiter ! <end>\"\n",
            "German sequence: [1, 1049, 86, 8, 96, 126, 9, 2]\n",
            "\n",
            "English sentence: \"tom was unhappy .\"\n",
            "German sentence: \"<start> tom war ungluecklich . <end>\"\n",
            "German sequence: [1, 5, 24, 1008, 3, 2]\n",
            "\n",
            "English sentence: \"the week is over .\"\n",
            "German sentence: \"<start> die woche ist vorbei . <end>\"\n",
            "German sequence: [1, 26, 1756, 6, 300, 3, 2]\n",
            "\n",
            "English sentence: \"tom seemed tough .\"\n",
            "German sentence: \"<start> tom schien widerstandsfaehig zu sein . <end>\"\n",
            "German sequence: [1, 5, 296, 5300, 20, 54, 3, 2]\n",
            "\n",
            "English sentence: \"come closer .\"\n",
            "German sentence: \"<start> kommen sie naeher . <end>\"\n",
            "German sequence: [1, 92, 8, 727, 3, 2]\n",
            "\n"
          ],
          "name": "stdout"
        }
      ]
    },
    {
      "cell_type": "code",
      "metadata": {
        "colab": {
          "base_uri": "https://localhost:8080/"
        },
        "id": "c4yvKlCE4SHR",
        "outputId": "3dc526b7-c7bf-45e4-8689-bcf10e397a87"
      },
      "source": [
        "tokenizer_config = tokenizer.get_config()\n",
        "\n",
        "# Used later on\n",
        "german_index_word = json.loads(tokenizer_config['index_word'])\n",
        "german_word_index = json.loads(tokenizer_config['word_index'])\n",
        "\n",
        "german_vocabulary_length = len(german_index_word)\n",
        "print(f'German Vocabulatry Length={german_vocabulary_length}')\n",
        "print(len(tokenizer.word_index))"
      ],
      "execution_count": null,
      "outputs": [
        {
          "output_type": "stream",
          "text": [
            "German Vocabulatry Length=5744\n",
            "5744\n"
          ],
          "name": "stdout"
        }
      ]
    },
    {
      "cell_type": "code",
      "metadata": {
        "colab": {
          "base_uri": "https://localhost:8080/"
        },
        "id": "ZGTaqt1t1iaI",
        "outputId": "4e600c6c-da4d-4adb-97b1-f9ff02274ae0"
      },
      "source": [
        "# Pad the end of the tokenized German sequences with zeros, and batch the complete set of sequences into one numpy array.\n",
        "german_padded_sequences = np.array(tf.keras.preprocessing.sequence.pad_sequences(german_seq_chunks,\n",
        "                                                        padding='post',\n",
        "                                                        value=0))\n",
        "\n",
        "print(f'german_padded_sequences.shape={german_padded_sequences.shape}')"
      ],
      "execution_count": null,
      "outputs": [
        {
          "output_type": "stream",
          "text": [
            "german_padded_sequences.shape=(20000, 14)\n"
          ],
          "name": "stdout"
        }
      ]
    },
    {
      "cell_type": "markdown",
      "metadata": {
        "id": "foL7Ihs21iaP"
      },
      "source": [
        "## 2. Prepare the data"
      ]
    },
    {
      "cell_type": "markdown",
      "metadata": {
        "id": "-9rCEE4z1iaQ"
      },
      "source": [
        "#### Load the embedding layer\n",
        "As part of the dataset preproceessing for this project, you will use a pre-trained English word embedding module from TensorFlow Hub. The URL for the module is https://tfhub.dev/google/tf2-preview/nnlm-en-dim128-with-normalization/1.\n",
        "\n",
        "This embedding takes a batch of text tokens in a 1-D tensor of strings as input. It then embeds the separate tokens into a 128-dimensional space. \n",
        "\n",
        "The code to load and test the embedding layer is provided for you below.\n",
        "\n",
        "**NB:** this model can also be used as a sentence embedding module. The module will process each token by removing punctuation and splitting on spaces. It then averages the word embeddings over a sentence to give a single embedding vector. However, we will use it only as a word embedding module, and will pass each word in the input sentence as a separate token."
      ]
    },
    {
      "cell_type": "code",
      "metadata": {
        "id": "ywZgobCh1iaR",
        "colab": {
          "base_uri": "https://localhost:8080/"
        },
        "outputId": "21f19961-9754-441b-a241-ce294d3b4945"
      },
      "source": [
        "# Load embedding module from Tensorflow Hub\n",
        "\n",
        "embedding_layer = hub.KerasLayer(\"https://tfhub.dev/google/tf2-preview/nnlm-en-dim128/1\", \n",
        "                                 output_shape=[128], input_shape=[], dtype=tf.string)"
      ],
      "execution_count": null,
      "outputs": [
        {
          "output_type": "stream",
          "text": [
            "WARNING:tensorflow:11 out of the last 11 calls to <function recreate_function.<locals>.restored_function_body at 0x7f35a014e9d8> triggered tf.function retracing. Tracing is expensive and the excessive number of tracings could be due to (1) creating @tf.function repeatedly in a loop, (2) passing tensors with different shapes, (3) passing Python objects instead of tensors. For (1), please define your @tf.function outside of the loop. For (2), @tf.function has experimental_relax_shapes=True option that relaxes argument shapes that can avoid unnecessary retracing. For (3), please refer to https://www.tensorflow.org/guide/function#controlling_retracing and https://www.tensorflow.org/api_docs/python/tf/function for  more details.\n"
          ],
          "name": "stdout"
        },
        {
          "output_type": "stream",
          "text": [
            "WARNING:tensorflow:11 out of the last 11 calls to <function recreate_function.<locals>.restored_function_body at 0x7f35a014e9d8> triggered tf.function retracing. Tracing is expensive and the excessive number of tracings could be due to (1) creating @tf.function repeatedly in a loop, (2) passing tensors with different shapes, (3) passing Python objects instead of tensors. For (1), please define your @tf.function outside of the loop. For (2), @tf.function has experimental_relax_shapes=True option that relaxes argument shapes that can avoid unnecessary retracing. For (3), please refer to https://www.tensorflow.org/guide/function#controlling_retracing and https://www.tensorflow.org/api_docs/python/tf/function for  more details.\n"
          ],
          "name": "stderr"
        },
        {
          "output_type": "stream",
          "text": [
            "WARNING:tensorflow:11 out of the last 11 calls to <function recreate_function.<locals>.restored_function_body at 0x7f353409af28> triggered tf.function retracing. Tracing is expensive and the excessive number of tracings could be due to (1) creating @tf.function repeatedly in a loop, (2) passing tensors with different shapes, (3) passing Python objects instead of tensors. For (1), please define your @tf.function outside of the loop. For (2), @tf.function has experimental_relax_shapes=True option that relaxes argument shapes that can avoid unnecessary retracing. For (3), please refer to https://www.tensorflow.org/guide/function#controlling_retracing and https://www.tensorflow.org/api_docs/python/tf/function for  more details.\n"
          ],
          "name": "stdout"
        },
        {
          "output_type": "stream",
          "text": [
            "WARNING:tensorflow:11 out of the last 11 calls to <function recreate_function.<locals>.restored_function_body at 0x7f353409af28> triggered tf.function retracing. Tracing is expensive and the excessive number of tracings could be due to (1) creating @tf.function repeatedly in a loop, (2) passing tensors with different shapes, (3) passing Python objects instead of tensors. For (1), please define your @tf.function outside of the loop. For (2), @tf.function has experimental_relax_shapes=True option that relaxes argument shapes that can avoid unnecessary retracing. For (3), please refer to https://www.tensorflow.org/guide/function#controlling_retracing and https://www.tensorflow.org/api_docs/python/tf/function for  more details.\n"
          ],
          "name": "stderr"
        },
        {
          "output_type": "stream",
          "text": [
            "WARNING:tensorflow:11 out of the last 11 calls to <function recreate_function.<locals>.restored_function_body at 0x7f35a014e950> triggered tf.function retracing. Tracing is expensive and the excessive number of tracings could be due to (1) creating @tf.function repeatedly in a loop, (2) passing tensors with different shapes, (3) passing Python objects instead of tensors. For (1), please define your @tf.function outside of the loop. For (2), @tf.function has experimental_relax_shapes=True option that relaxes argument shapes that can avoid unnecessary retracing. For (3), please refer to https://www.tensorflow.org/guide/function#controlling_retracing and https://www.tensorflow.org/api_docs/python/tf/function for  more details.\n"
          ],
          "name": "stdout"
        },
        {
          "output_type": "stream",
          "text": [
            "WARNING:tensorflow:11 out of the last 11 calls to <function recreate_function.<locals>.restored_function_body at 0x7f35a014e950> triggered tf.function retracing. Tracing is expensive and the excessive number of tracings could be due to (1) creating @tf.function repeatedly in a loop, (2) passing tensors with different shapes, (3) passing Python objects instead of tensors. For (1), please define your @tf.function outside of the loop. For (2), @tf.function has experimental_relax_shapes=True option that relaxes argument shapes that can avoid unnecessary retracing. For (3), please refer to https://www.tensorflow.org/guide/function#controlling_retracing and https://www.tensorflow.org/api_docs/python/tf/function for  more details.\n"
          ],
          "name": "stderr"
        }
      ]
    },
    {
      "cell_type": "code",
      "metadata": {
        "colab": {
          "base_uri": "https://localhost:8080/"
        },
        "id": "TiY8QEDp1iaV",
        "outputId": "90a6ea3b-55b6-4336-f3b1-42722324a16c"
      },
      "source": [
        "# Test the layer\n",
        "\n",
        "embedding_layer(tf.constant([\"these\", \"aren't\", \"the\", \"droids\", \"you're\", \"looking\", \"for\"])).shape"
      ],
      "execution_count": null,
      "outputs": [
        {
          "output_type": "stream",
          "text": [
            "WARNING:tensorflow:11 out of the last 11 calls to <function recreate_function.<locals>.restored_function_body at 0x7f353409a510> triggered tf.function retracing. Tracing is expensive and the excessive number of tracings could be due to (1) creating @tf.function repeatedly in a loop, (2) passing tensors with different shapes, (3) passing Python objects instead of tensors. For (1), please define your @tf.function outside of the loop. For (2), @tf.function has experimental_relax_shapes=True option that relaxes argument shapes that can avoid unnecessary retracing. For (3), please refer to https://www.tensorflow.org/guide/function#controlling_retracing and https://www.tensorflow.org/api_docs/python/tf/function for  more details.\n"
          ],
          "name": "stdout"
        },
        {
          "output_type": "stream",
          "text": [
            "WARNING:tensorflow:11 out of the last 11 calls to <function recreate_function.<locals>.restored_function_body at 0x7f353409a510> triggered tf.function retracing. Tracing is expensive and the excessive number of tracings could be due to (1) creating @tf.function repeatedly in a loop, (2) passing tensors with different shapes, (3) passing Python objects instead of tensors. For (1), please define your @tf.function outside of the loop. For (2), @tf.function has experimental_relax_shapes=True option that relaxes argument shapes that can avoid unnecessary retracing. For (3), please refer to https://www.tensorflow.org/guide/function#controlling_retracing and https://www.tensorflow.org/api_docs/python/tf/function for  more details.\n"
          ],
          "name": "stderr"
        },
        {
          "output_type": "execute_result",
          "data": {
            "text/plain": [
              "TensorShape([7, 128])"
            ]
          },
          "metadata": {
            "tags": []
          },
          "execution_count": 517
        }
      ]
    },
    {
      "cell_type": "markdown",
      "metadata": {
        "id": "KjuzXc-z1iaY"
      },
      "source": [
        "from sklearn.model_selection import train_test_split\n",
        "\n",
        "X_train, X_val, y_train, y_val = train_test_split(X, y, test_size=0.1)You should now prepare the training and validation Datasets.\n",
        "\n",
        "* Create a random training and validation set split of the data, reserving e.g. 20% of the data for validation (NB: each English dataset example is a single sentence string, and each German dataset example is a sequence of padded integer tokens).\n",
        "* Load the training and validation sets into a tf.data.Dataset object, passing in a tuple of English and German data for both training and validation sets.\n",
        "* Create a function to map over the datasets that splits each English sentence at spaces. Apply this function to both Dataset objects using the map method. _Hint: look at the tf.strings.split function._\n",
        "* Create a function to map over the datasets that embeds each sequence of English words using the loaded embedding layer/model. Apply this function to both Dataset objects using the map method.\n",
        "* Create a function to filter out dataset examples where the English sentence is greater than or equal to than 13 (embedded) tokens in length. Apply this function to both Dataset objects using the filter method.\n",
        "* Create a function to map over the datasets that pads each English sequence of embeddings with some distinct padding value before the sequence, so that each sequence is length 13. Apply this function to both Dataset objects using the map method. _Hint: look at the tf.pad function. You can extract a Tensor shape using tf.shape; you might also find the tf.math.maximum function useful._\n",
        "* Batch both training and validation Datasets with a batch size of 16.\n",
        "* Print the `element_spec` property for the training and validation Datasets. \n",
        "* Using the Dataset `.take(1)` method, print the shape of the English data example from the training Dataset.\n",
        "* Using the Dataset `.take(1)` method, print the German data example Tensor from the validation Dataset."
      ]
    },
    {
      "cell_type": "code",
      "metadata": {
        "id": "Q-BUJOl_1iaZ"
      },
      "source": [
        "# Create a random training and validation set split of the data, reserving e.g. 20% of the data for validation \n",
        "X_train, X_valid, y_train, y_valid = train_test_split(english_sentences, german_padded_sequences, test_size=0.2)"
      ],
      "execution_count": null,
      "outputs": []
    },
    {
      "cell_type": "code",
      "metadata": {
        "colab": {
          "base_uri": "https://localhost:8080/"
        },
        "id": "pjJByFgtEuJU",
        "outputId": "aec64a95-033e-463e-ad8e-c68fd8eeea9c"
      },
      "source": [
        "# Load the training and validation sets into a tf.data.Dataset object, passing in a tuple of English and German data \n",
        "# for both training and validation sets.\n",
        "train_dataset = tf.data.Dataset.from_tensor_slices((X_train, y_train))\n",
        "print(f'train_dataset={train_dataset}')\n",
        "\n",
        "valid_dataset = tf.data.Dataset.from_tensor_slices((X_valid, y_valid))"
      ],
      "execution_count": null,
      "outputs": [
        {
          "output_type": "stream",
          "text": [
            "train_dataset=<TensorSliceDataset shapes: ((), (14,)), types: (tf.string, tf.int32)>\n"
          ],
          "name": "stdout"
        }
      ]
    },
    {
      "cell_type": "code",
      "metadata": {
        "id": "D7bn3mRs1iaj"
      },
      "source": [
        "# Create a function to map over the datasets that splits each English sentence at spaces. \n",
        "# Apply this function to both Dataset objects using the map method. Hint: look at the tf.strings.split function\n",
        "\n",
        "def split_words(english_sentence, german_sentence):\n",
        "  return tf.strings.split(english_sentence, sep=\" \"), german_sentence\n",
        "\n",
        "train_dataset = train_dataset.map(split_words)\n",
        "valid_dataset = valid_dataset.map(split_words)"
      ],
      "execution_count": null,
      "outputs": []
    },
    {
      "cell_type": "code",
      "metadata": {
        "id": "q0Fdso381ian"
      },
      "source": [
        "# Create a function to map over the datasets that embeds each sequence of English words using the loaded embedding layer/model.\n",
        "# Apply this function to both Dataset objects using the map method.\n",
        "\n",
        "def embed_english_words(english_sentence, german_sentence):\n",
        "  return embedding_layer(english_sentence), german_sentence\n",
        "\n",
        "train_dataset = train_dataset.map(embed_english_words)\n",
        "valid_dataset = valid_dataset.map(embed_english_words)"
      ],
      "execution_count": null,
      "outputs": []
    },
    {
      "cell_type": "code",
      "metadata": {
        "colab": {
          "base_uri": "https://localhost:8080/"
        },
        "id": "MdqSXEoX1iav",
        "outputId": "44bcbce3-451f-479b-d7d1-b7fa401e285e"
      },
      "source": [
        "# Create a function to filter out dataset examples where the English sentence is greater than or equal to than 13 \n",
        "# (embedded) tokens in length. Apply this function to both Dataset objects using the filter method.\n",
        "\n",
        "def filter_long_sentences(english_sentence, german_sentence):\n",
        "  return len(english_sentence) < 13\n",
        "\n",
        "train_dataset = train_dataset.filter(filter_long_sentences)\n",
        "valid_dataset = valid_dataset.filter(filter_long_sentences)\n",
        "\n",
        "print(train_dataset.element_spec)"
      ],
      "execution_count": null,
      "outputs": [
        {
          "output_type": "stream",
          "text": [
            "(TensorSpec(shape=(None, 128), dtype=tf.float32, name=None), TensorSpec(shape=(14,), dtype=tf.int32, name=None))\n"
          ],
          "name": "stdout"
        }
      ]
    },
    {
      "cell_type": "code",
      "metadata": {
        "id": "nwX1j-hvnSVE"
      },
      "source": [
        "# Create a function to map over the datasets that pads each English sequence of embeddings with some distinct padding \n",
        "# value before the sequence, so that each sequence is length 13. Apply this function to both Dataset objects using the map method. \n",
        "# Hint: look at the tf.pad function. You can extract a Tensor shape using tf.shape; \n",
        "# you might also find the tf.math.maximum function useful.\n",
        "\n",
        "def pad_english(english_sentence, german_sentence):\n",
        "  paddings = [[0, 13 - tf.shape(english_sentence)[0]], [0, 0]]\n",
        "  english_sentence = tf.pad(english_sentence, paddings, 'CONSTANT', constant_values=0)\n",
        "  # english_sentence = tf.reshape(english_sentence, [13, 128])\n",
        "  return english_sentence, german_sentence\n",
        "\n",
        "train_dataset = train_dataset.map(pad_english)\n",
        "valid_dataset = valid_dataset.map(pad_english)"
      ],
      "execution_count": null,
      "outputs": []
    },
    {
      "cell_type": "code",
      "metadata": {
        "id": "RJSzT_akUhmD"
      },
      "source": [
        "# Batch both training and validation Datasets with a batch size of 16.\n",
        "\n",
        "batch_size = 16\n",
        "train_dataset = train_dataset.batch(batch_size, drop_remainder=True)\n",
        "valid_dataset = valid_dataset.batch(batch_size, drop_remainder=True)"
      ],
      "execution_count": null,
      "outputs": []
    },
    {
      "cell_type": "code",
      "metadata": {
        "colab": {
          "base_uri": "https://localhost:8080/"
        },
        "id": "1JIzzQgbWlZZ",
        "outputId": "6e7bd68d-45f3-46a4-d4be-13e89c3f7899"
      },
      "source": [
        "# Print the element_spec property for the training and validation Datasets.\n",
        "print(\"train_dataset.element_spec=\")\n",
        "print(train_dataset.element_spec)\n",
        "print(\"valid_dataset.element_spec=\")\n",
        "print(valid_dataset.element_spec)\n",
        "\n",
        "# Using the Dataset .take(1) method, print the shape of the English data example from the training Dataset.\n",
        "for elem in train_dataset.take(1): \n",
        "  english_data = elem[0]\n",
        "  print(f'train_dataset english data.shape={english_data.shape}')\n",
        "\n",
        "# Using the Dataset .take(1) method, print the German data example Tensor from the validation Dataset.\n",
        "for elem in valid_dataset.take(1): \n",
        "  german_data = elem[1]\n",
        "  print(f'valid_dataset german data.shape={german_data.shape}')\n",
        "  print(f'valid_dateset german_data={german_data}')"
      ],
      "execution_count": null,
      "outputs": [
        {
          "output_type": "stream",
          "text": [
            "train_dataset.element_spec=\n",
            "(TensorSpec(shape=(16, None, 128), dtype=tf.float32, name=None), TensorSpec(shape=(16, 14), dtype=tf.int32, name=None))\n",
            "valid_dataset.element_spec=\n",
            "(TensorSpec(shape=(16, None, 128), dtype=tf.float32, name=None), TensorSpec(shape=(16, 14), dtype=tf.int32, name=None))\n",
            "train_dataset english data.shape=(16, 13, 128)\n",
            "valid_dataset german data.shape=(16, 14)\n",
            "valid_dateset german_data=[[   1    4  813   57   12    3    2    0    0    0    0    0    0    0]\n",
            " [   1   26  814    6 4449    3    2    0    0    0    0    0    0    0]\n",
            " [   1    8  719 3985    3    2    0    0    0    0    0    0    0    0]\n",
            " [   1   64   31   65   75   45    3    2    0    0    0    0    0    0]\n",
            " [   1   92    8  377    3    2    0    0    0    0    0    0    0    0]\n",
            " [   1    4   18    8  196   88    3    2    0    0    0    0    0    0]\n",
            " [   1    4   15  104 1001   98    3    2    0    0    0    0    0    0]\n",
            " [   1    4   15 1853    3    2    0    0    0    0    0    0    0    0]\n",
            " [   1   64   22   46  378    3    2    0    0    0    0    0    0    0]\n",
            " [   1   27   73   56   98    3    2    0    0    0    0    0    0    0]\n",
            " [   1    4   15 3913    3    2    0    0    0    0    0    0    0    0]\n",
            " [   1   42 1033    4   37    7    2    0    0    0    0    0    0    0]\n",
            " [   1    4   39 1677  546    3    2    0    0    0    0    0    0    0]\n",
            " [   1    8 1000  458    3    2    0    0    0    0    0    0    0    0]\n",
            " [   1    5    6  250    3    2    0    0    0    0    0    0    0    0]\n",
            " [   1   17  142   11  568    3    2    0    0    0    0    0    0    0]]\n"
          ],
          "name": "stdout"
        }
      ]
    },
    {
      "cell_type": "markdown",
      "metadata": {
        "id": "isIYhjq01iay"
      },
      "source": [
        "## 3. Create the custom layer\n",
        "You will now create a custom layer to add the learned end token embedding to the encoder model:"
      ]
    },
    {
      "cell_type": "code",
      "metadata": {
        "colab": {
          "base_uri": "https://localhost:8080/",
          "height": 423
        },
        "id": "e22f1Xyh6xvE",
        "outputId": "4fabbfe7-0c6d-4db7-c28b-df29e6e3e76a"
      },
      "source": [
        "# Run this cell to download and view a schematic diagram for the encoder model\n",
        "\n",
        "!wget -q -O neural_translation_model.png --no-check-certificate \"https://docs.google.com/uc?export=download&id=1JrtNOzUJDaOWrK4C-xv-4wUuZaI12sQI\"\n",
        "Image(\"neural_translation_model.png\")"
      ],
      "execution_count": null,
      "outputs": [
        {
          "output_type": "execute_result",
          "data": {
            "image/png": "[encoded data removed]",
            "text/plain": [
              "<IPython.core.display.Image object>"
            ]
          },
          "metadata": {
            "tags": []
          },
          "execution_count": 526
        }
      ]
    },
    {
      "cell_type": "markdown",
      "metadata": {
        "id": "M6gLIHG81iaz"
      },
      "source": [
        "You should now build the custom layer.\n",
        "* Using layer subclassing, create a custom layer that takes a batch of English data examples from one of the Datasets, and adds a learned embedded ‘end’ token to the end of each sequence. \n",
        "* This layer should create a TensorFlow Variable (that will be learned during training) that is 128-dimensional (the size of the embedding space). _Hint: you may find it helpful in the call method to use the tf.tile function to replicate the end token embedding across every element in the batch._\n",
        "* Using the Dataset `.take(1)` method, extract a batch of English data examples from the training Dataset and print the shape. Test the custom layer by calling the layer on the English data batch Tensor and print the resulting Tensor shape (the layer should increase the sequence length by one)."
      ]
    },
    {
      "cell_type": "code",
      "metadata": {
        "colab": {
          "base_uri": "https://localhost:8080/"
        },
        "id": "dcBPL0P8h3J5",
        "outputId": "813fef62-a6fc-4431-d7e8-5e70f1bb7237"
      },
      "source": [
        "# Experimental code to figure out how to add 128 element vector\n",
        "a = tf.convert_to_tensor(np.ones((2, 3, 4)))\n",
        "a = tf.cast(a, tf.float32)\n",
        "matrix = tf.tile(tf.constant([-1]), tf.constant([4]))\n",
        "matrix = tf.reshape(matrix, [1, 4])\n",
        "matrix = tf.convert_to_tensor([[[-1, -1, -1, -1]], [[-1, -1, -1, -1]]])\n",
        "\n",
        "matrix2 = tf.random.uniform(shape=(2,1,4))\n",
        "print(f'matrix.shape={matrix.shape} matrix2.shape={matrix2.shape}')\n",
        "print(f'a={a}')\n",
        "print(f'matrix={matrix}')\n",
        "tf.concat([a, matrix2], 1)"
      ],
      "execution_count": null,
      "outputs": [
        {
          "output_type": "stream",
          "text": [
            "matrix.shape=(2, 1, 4) matrix2.shape=(2, 1, 4)\n",
            "a=[[[1. 1. 1. 1.]\n",
            "  [1. 1. 1. 1.]\n",
            "  [1. 1. 1. 1.]]\n",
            "\n",
            " [[1. 1. 1. 1.]\n",
            "  [1. 1. 1. 1.]\n",
            "  [1. 1. 1. 1.]]]\n",
            "matrix=[[[-1 -1 -1 -1]]\n",
            "\n",
            " [[-1 -1 -1 -1]]]\n"
          ],
          "name": "stdout"
        },
        {
          "output_type": "execute_result",
          "data": {
            "text/plain": [
              "<tf.Tensor: shape=(2, 4, 4), dtype=float32, numpy=\n",
              "array([[[1.        , 1.        , 1.        , 1.        ],\n",
              "        [1.        , 1.        , 1.        , 1.        ],\n",
              "        [1.        , 1.        , 1.        , 1.        ],\n",
              "        [0.42859316, 0.41299498, 0.33211005, 0.7381059 ]],\n",
              "\n",
              "       [[1.        , 1.        , 1.        , 1.        ],\n",
              "        [1.        , 1.        , 1.        , 1.        ],\n",
              "        [1.        , 1.        , 1.        , 1.        ],\n",
              "        [0.70960367, 0.453974  , 0.8199049 , 0.8455565 ]]], dtype=float32)>"
            ]
          },
          "metadata": {
            "tags": []
          },
          "execution_count": 527
        }
      ]
    },
    {
      "cell_type": "code",
      "metadata": {
        "id": "zFLuARvFP2pT"
      },
      "source": [
        " class CustomLayer(Layer):\n",
        "\n",
        "  def __init__(self, embedding_dim=128, **kwargs):\n",
        "    super(CustomLayer, self).__init__(**kwargs)\n",
        "    self.embedding_dim = embedding_dim\n",
        "    self.end_token_embedding = tf.Variable(initial_value=tf.random.uniform(shape=(embedding_dim,)), \n",
        "                                           trainable=True)\n",
        "\n",
        "  def call(self, inputs):\n",
        "    num_batches = tf.shape(inputs)[0]\n",
        "    end_token = tf.tile(tf.reshape(self.end_token_embedding, shape=(1, 1, self.embedding_dim)), \n",
        "                        [num_batches,1,1])\n",
        "    return tf.keras.layers.concatenate([inputs, end_token], axis=1)"
      ],
      "execution_count": null,
      "outputs": []
    },
    {
      "cell_type": "code",
      "metadata": {
        "colab": {
          "base_uri": "https://localhost:8080/"
        },
        "id": "4PwI32O11ia3",
        "outputId": "3c05dade-81b4-486c-ffcc-83b55fea978c"
      },
      "source": [
        "# Using the Dataset .take(1) method, extract a batch of English data examples from the training Dataset and print the shape. \n",
        "# Test the custom layer by calling the layer on the English data batch Tensor and print the resulting Tensor shape \n",
        "# (the layer should increase the sequence length by one).\n",
        "custom_layer = CustomLayer()\n",
        "for elem in train_dataset.take(1): \n",
        "  print(f'Train Shape {elem[0].shape}')\n",
        "  print(f'Custom Layer Output Shape: {custom_layer(elem[0]).shape}')"
      ],
      "execution_count": null,
      "outputs": [
        {
          "output_type": "stream",
          "text": [
            "Train Shape (16, 13, 128)\n",
            "Custom Layer Output Shape: (16, 14, 128)\n"
          ],
          "name": "stdout"
        }
      ]
    },
    {
      "cell_type": "markdown",
      "metadata": {
        "id": "OAd3i4_y1ia-"
      },
      "source": [
        "## 4. Build the encoder network\n",
        "The encoder network follows the schematic diagram above. You should now build the RNN encoder model.\n",
        "* Using the functional API, build the encoder network according to the following spec:\n",
        "    * The model will take a batch of sequences of embedded English words as input, as given by the Dataset objects.\n",
        "    * The next layer in the encoder will be the custom layer you created previously, to add a learned end token embedding to the end of the English sequence.\n",
        "    * This is followed by a Masking layer, with the `mask_value` set to the distinct padding value you used when you padded the English sequences with the Dataset preprocessing above.\n",
        "    * The final layer is an LSTM layer with 512 units, which also returns the hidden and cell states.\n",
        "    * The encoder is a multi-output model. There should be two output Tensors of this model: the hidden state and cell states of the LSTM layer. The output of the LSTM layer is unused.\n",
        "* Using the Dataset `.take(1)` method, extract a batch of English data examples from the training Dataset and test the encoder model by calling it on the English data Tensor, and print the shape of the resulting Tensor outputs.\n",
        "* Print the model summary for the encoder network."
      ]
    },
    {
      "cell_type": "code",
      "metadata": {
        "id": "6R2LqbfV1ia_"
      },
      "source": [
        "# Input expects a 3 dimension tensor, (batch size, sequence, features)\n",
        "# Flexible sequence length with 128 features per time step\n",
        "inputs = Input(shape=(13, 128)) # (None, None, 128) - output dimensions\n",
        "\n",
        "# The next layer in the encoder will be the custom layer you created previously, \n",
        "# to add a learned end token embedding to the end of the English sequence.\n",
        "h = CustomLayer()(inputs)\n",
        "\n",
        "# This is followed by a Masking layer, with the mask_value set to the distinct padding value you \n",
        "# used when you padded the English sequences with the Dataset preprocessing above.\n",
        "h = Masking(mask_value=0)(h) # (None, None, 128)\n",
        "\n",
        "# The final layer is an LSTM layer with 512 units, which also returns the hidden and cell states.\n",
        "lstm_out, hidden_state, cell_state = LSTM(512, return_state=True, name='lstm_layer')(h)\n",
        "\n",
        "# The encoder is a multi-output model. There should be two output Tensors of this model: the hidden state and \n",
        "# cell states of the LSTM layer. The output of the LSTM layer is unused.\n",
        "encoder_model = Model(inputs=[inputs], outputs=[hidden_state, cell_state])"
      ],
      "execution_count": null,
      "outputs": []
    },
    {
      "cell_type": "code",
      "metadata": {
        "colab": {
          "base_uri": "https://localhost:8080/"
        },
        "id": "jEk9ikVh1ibL",
        "outputId": "66f9575a-9038-472a-c327-6556ee73e29c"
      },
      "source": [
        "# Using the Dataset .take(1) method, extract a batch of English data examples from the training Dataset and \n",
        "# test the encoder model by calling it on the English data Tensor, and print the shape of the resulting Tensor outputs.\n",
        "for elem in train_dataset.take(1): \n",
        "  english_data = elem[0]\n",
        "  print(f'Input English training data batch shape {english_data.shape}')\n",
        "  model_output = encoder_model(english_data)\n",
        "  print(\"Resulting tensors:\")\n",
        "  print(f'model_output[0].shape: {model_output[0].shape} model_output[1].shape: {model_output[1].shape}')"
      ],
      "execution_count": null,
      "outputs": [
        {
          "output_type": "stream",
          "text": [
            "Input English training data batch shape (16, 13, 128)\n",
            "Resulting tensors:\n",
            "model_output[0].shape: (16, 512) model_output[1].shape: (16, 512)\n"
          ],
          "name": "stdout"
        }
      ]
    },
    {
      "cell_type": "code",
      "metadata": {
        "colab": {
          "base_uri": "https://localhost:8080/"
        },
        "id": "Z1Sc_MuKzJ3m",
        "outputId": "d27fc3d3-54ee-45a6-8eb4-c96bfd3aee14"
      },
      "source": [
        "encoder_model.summary()"
      ],
      "execution_count": null,
      "outputs": [
        {
          "output_type": "stream",
          "text": [
            "Model: \"model_10\"\n",
            "_________________________________________________________________\n",
            "Layer (type)                 Output Shape              Param #   \n",
            "=================================================================\n",
            "input_11 (InputLayer)        [(None, 13, 128)]         0         \n",
            "_________________________________________________________________\n",
            "custom_layer_21 (CustomLayer (None, 14, 128)           128       \n",
            "_________________________________________________________________\n",
            "masking_10 (Masking)         (None, 14, 128)           0         \n",
            "_________________________________________________________________\n",
            "lstm_layer (LSTM)            [(None, 512), (None, 512) 1312768   \n",
            "=================================================================\n",
            "Total params: 1,312,896\n",
            "Trainable params: 1,312,896\n",
            "Non-trainable params: 0\n",
            "_________________________________________________________________\n"
          ],
          "name": "stdout"
        }
      ]
    },
    {
      "cell_type": "markdown",
      "metadata": {
        "id": "KvkzpCeZ1ibR"
      },
      "source": [
        "## 5. Build the decoder network\n",
        "The decoder network follows the schematic diagram below. "
      ]
    },
    {
      "cell_type": "code",
      "metadata": {
        "colab": {
          "base_uri": "https://localhost:8080/",
          "height": 501
        },
        "id": "yOjEb7cH7Y4S",
        "outputId": "837fed77-609d-4888-b4d8-255f383be3f7"
      },
      "source": [
        "# Run this cell to download and view a schematic diagram for the decoder model\n",
        "\n",
        "!wget -q -O neural_translation_model.png --no-check-certificate \"https://docs.google.com/uc?export=download&id=1DTeaXD8tA8RjkpVrB2mr9csSBOY4LQiW\"\n",
        "Image(\"neural_translation_model.png\")"
      ],
      "execution_count": null,
      "outputs": [
        {
          "output_type": "execute_result",
          "data": {
            "image/png": "[encoded data removed]",
            "text/plain": [
              "<IPython.core.display.Image object>"
            ]
          },
          "metadata": {
            "tags": []
          },
          "execution_count": 533
        }
      ]
    },
    {
      "cell_type": "markdown",
      "metadata": {
        "id": "VPBK8WGL1ibS"
      },
      "source": [
        "You should now build the RNN decoder model.\n",
        "* Using Model subclassing, build the decoder network according to the following spec:\n",
        "    * The initializer should create the following layers:\n",
        "        * An Embedding layer with vocabulary size set to the number of unique German tokens, embedding dimension 128, and set to mask zero values in the input.\n",
        "        * An LSTM layer with 512 units, that returns its hidden and cell states, and also returns sequences.\n",
        "        * A Dense layer with number of units equal to the number of unique German tokens, and no activation function.\n",
        "    * The call method should include the usual `inputs` argument, as well as the additional keyword arguments `hidden_state` and `cell_state`. The default value for these keyword arguments should be `None`.\n",
        "    * The call method should pass the inputs through the Embedding layer, and then through the LSTM layer. If the `hidden_state` and `cell_state` arguments are provided, these should be used for the initial state of the LSTM layer. _Hint: use the_ `initial_state` _keyword argument when calling the LSTM layer on its input._\n",
        "    * The call method should pass the LSTM output sequence through the Dense layer, and return the resulting Tensor, along with the hidden and cell states of the LSTM layer.\n",
        "* Using the Dataset `.take(1)` method, extract a batch of English and German data examples from the training Dataset. Test the decoder model by first calling the encoder model on the English data Tensor to get the hidden and cell states, and then call the decoder model on the German data Tensor and hidden and cell states, and print the shape of the resulting decoder Tensor outputs.\n",
        "* Print the model summary for the decoder network."
      ]
    },
    {
      "cell_type": "code",
      "metadata": {
        "id": "l50qhnXD1ibT"
      },
      "source": [
        "class DecoderModel(Model):\n",
        "\n",
        "  def __init__(self, vocab_size, **kwargs):\n",
        "    super(DecoderModel, self).__init__(**kwargs)\n",
        "    self.embedding = Embedding(input_dim=vocab_size+1, output_dim=128, \n",
        "                               mask_zero=True)\n",
        "    self.lstm = LSTM(512, return_sequences=True, return_state=True, name='lstm_layer')\n",
        "    self.dense = Dense(vocab_size+1)\n",
        "\n",
        "  def call(self, inputs, hidden_state=None, cell_state=None):\n",
        "    h = self.embedding(inputs)\n",
        "    if hidden_state is not None:\n",
        "      h, hidden_state_2, cell_state_2 = self.lstm(h, initial_state=(hidden_state, \n",
        "                                                                    cell_state))\n",
        "    else:\n",
        "      h, hidden_state_2, cell_state_2 = self.lstm(h)\n",
        "    h = self.dense(h)\n",
        "    return h, hidden_state_2, cell_state_2\n",
        "\n",
        "# german_vocabulary_length was computed much earlier in the Text Preprocessing section\n",
        "decoder_model = DecoderModel(german_vocabulary_length)"
      ],
      "execution_count": null,
      "outputs": []
    },
    {
      "cell_type": "code",
      "metadata": {
        "colab": {
          "base_uri": "https://localhost:8080/"
        },
        "id": "vG5CRIXV1ibi",
        "outputId": "ca115fe6-25f2-42b7-b402-3b3862561528"
      },
      "source": [
        "# Using the Dataset .take(1) method, extract a batch of English and German data examples from the training Dataset. \n",
        "# Test the decoder model by first calling the encoder model on the English data Tensor to get the hidden and cell states, \n",
        "# and then call the decoder model on the German data Tensor and hidden and cell states, and print the shape of the resulting \n",
        "# decoder Tensor outputs. Hamilton H. 2021-1-12\n",
        "\n",
        "for elem in train_dataset.take(1): \n",
        "  english_data = elem[0]\n",
        "  german_data = elem[1]\n",
        "  print(f'English training data batch shape {english_data.shape}')\n",
        "  encoder_hidden_state, encoder_cell_state = encoder_model(english_data)\n",
        "  result, decoder_hidden_state, decoder_cell_state = decoder_model(german_data, \n",
        "                                                                   hidden_state=encoder_hidden_state, cell_state=encoder_cell_state)\n",
        "  print(f'result.shape={result.shape} decoder_hidden_state.shape: {decoder_hidden_state.shape}')\n",
        "  print(f'decoder_cell_state.shape: {decoder_cell_state.shape}')"
      ],
      "execution_count": null,
      "outputs": [
        {
          "output_type": "stream",
          "text": [
            "English training data batch shape (16, 13, 128)\n",
            "result.shape=(16, 14, 5745) decoder_hidden_state.shape: (16, 512)\n",
            "decoder_cell_state.shape: (16, 512)\n"
          ],
          "name": "stdout"
        }
      ]
    },
    {
      "cell_type": "code",
      "metadata": {
        "colab": {
          "base_uri": "https://localhost:8080/"
        },
        "id": "SvqqT_ET1ibl",
        "outputId": "af310150-92ac-404c-94f4-b0f40c805708"
      },
      "source": [
        "decoder_model.summary()"
      ],
      "execution_count": null,
      "outputs": [
        {
          "output_type": "stream",
          "text": [
            "Model: \"decoder_model_11\"\n",
            "_________________________________________________________________\n",
            "Layer (type)                 Output Shape              Param #   \n",
            "=================================================================\n",
            "embedding_11 (Embedding)     multiple                  735360    \n",
            "_________________________________________________________________\n",
            "lstm_layer (LSTM)            multiple                  1312768   \n",
            "_________________________________________________________________\n",
            "dense_11 (Dense)             multiple                  2947185   \n",
            "=================================================================\n",
            "Total params: 4,995,313\n",
            "Trainable params: 4,995,313\n",
            "Non-trainable params: 0\n",
            "_________________________________________________________________\n"
          ],
          "name": "stdout"
        }
      ]
    },
    {
      "cell_type": "code",
      "metadata": {
        "colab": {
          "base_uri": "https://localhost:8080/",
          "height": 422
        },
        "id": "toa9T1Jgb6P6",
        "outputId": "72d95601-6b99-4d79-a883-1e864331d2bb"
      },
      "source": [
        "from keras.utils.vis_utils import plot_model\n",
        "plot_model(encoder_model, to_file='model.png', show_shapes=True)"
      ],
      "execution_count": null,
      "outputs": [
        {
          "output_type": "execute_result",
          "data": {
            "image/png": "[encoded data removed]",
            "text/plain": [
              "<IPython.core.display.Image object>"
            ]
          },
          "metadata": {
            "tags": []
          },
          "execution_count": 537
        }
      ]
    },
    {
      "cell_type": "markdown",
      "metadata": {
        "id": "pST9XGJ81ibo"
      },
      "source": [
        "## 6. Make a custom training loop\n",
        "You should now write a custom training loop to train your custom neural translation model.\n",
        "* Define a function that takes a Tensor batch of German data (as extracted from the training Dataset), and returns a tuple containing German inputs and outputs for the decoder model (refer to schematic diagram above).\n",
        "* Define a function that computes the forward and backward pass for your translation model. This function should take an English input, German input and German output as arguments, and should do the following:\n",
        "    * Pass the English input into the encoder, to get the hidden and cell states of the encoder LSTM.\n",
        "    * These hidden and cell states are then passed into the decoder, along with the German inputs, which returns a sequence of outputs (the hidden and cell state outputs of the decoder LSTM are unused in this function).\n",
        "    * The loss should then be computed between the decoder outputs and the German output function argument.\n",
        "    * The function returns the loss and gradients with respect to the encoder and decoder’s trainable variables.\n",
        "    * Decorate the function with `@tf.function`\n",
        "* Define and run a custom training loop for a number of epochs (for you to choose) that does the following:\n",
        "    * Iterates through the training dataset, and creates decoder inputs and outputs from the German sequences.\n",
        "    * Updates the parameters of the translation model using the gradients of the function above and an optimizer object.\n",
        "    * Every epoch, compute the validation loss on a number of batches from the validation and save the epoch training and validation losses.\n",
        "* Plot the learning curves for loss vs epoch for both training and validation sets.\n",
        "\n",
        "_Hint: This model is computationally demanding to train. The quality of the model or length of training is not a factor in the grading rubric. However, to obtain a better model we recommend using the GPU accelerator hardware on Colab._"
      ]
    },
    {
      "cell_type": "code",
      "metadata": {
        "id": "OOeC3LSPK0n3"
      },
      "source": [
        "optimizer_obj = tf.keras.optimizers.Adam()\n",
        "loss_obj2 = tf.keras.losses.SparseCategoricalCrossentropy(from_logits=True)\n",
        "variables = encoder_model.trainable_variables + decoder_model.trainable_variables"
      ],
      "execution_count": null,
      "outputs": []
    },
    {
      "cell_type": "code",
      "metadata": {
        "id": "VreLaaBH7s0b"
      },
      "source": [
        "def decode_german(german_input_sequence_batch):\n",
        "    return german_input_sequence_batch[:, :-1], german_input_sequence_batch[:, 1:]"
      ],
      "execution_count": null,
      "outputs": []
    },
    {
      "cell_type": "code",
      "metadata": {
        "colab": {
          "base_uri": "https://localhost:8080/"
        },
        "id": "TVwmMbq173Ou",
        "outputId": "9e8c4f13-4979-4429-b2df-e71a6cf5086a"
      },
      "source": [
        "# Test function\n",
        "for elem in train_dataset.take(1):\n",
        "  print(f'german decoder input returned {elem[1]}')\n",
        "  print(f'german decoder output returned {decode_german(elem[1])[1]}')"
      ],
      "execution_count": null,
      "outputs": [
        {
          "output_type": "stream",
          "text": [
            "german decoder input returned [[   1  874  434   55    3    2    0    0    0    0    0    0    0    0]\n",
            " [   1 1263   52   37   41    3    2    0    0    0    0    0    0    0]\n",
            " [   1   83    6   50 2789    7    2    0    0    0    0    0    0    0]\n",
            " [   1    5    6   71 1561    3    2    0    0    0    0    0    0    0]\n",
            " [   1   60 3963   91  181    3    2    0    0    0    0    0    0    0]\n",
            " [   1   83    6  117  256    7    2    0    0    0    0    0    0    0]\n",
            " [   1   10  229  103 1018    3    2    0    0    0    0    0    0    0]\n",
            " [   1   43    6  218    7    2    0    0    0    0    0    0    0    0]\n",
            " [   1    5   16   21  826    3    2    0    0    0    0    0    0    0]\n",
            " [   1    4  136  974    3    2    0    0    0    0    0    0    0    0]\n",
            " [   1    4  380   11    3    2    0    0    0    0    0    0    0    0]\n",
            " [   1   35    8   34  250    7    2    0    0    0    0    0    0    0]\n",
            " [   1    8 3664   44    3    2    0    0    0    0    0    0    0    0]\n",
            " [   1   32   13  488 1559    7    2    0    0    0    0    0    0    0]\n",
            " [   1  120   55    3    2    0    0    0    0    0    0    0    0    0]\n",
            " [   1    4   15   19  771  157    3    2    0    0    0    0    0    0]]\n",
            "german decoder output returned [[ 874  434   55    3    2    0    0    0    0    0    0    0    0]\n",
            " [1263   52   37   41    3    2    0    0    0    0    0    0    0]\n",
            " [  83    6   50 2789    7    2    0    0    0    0    0    0    0]\n",
            " [   5    6   71 1561    3    2    0    0    0    0    0    0    0]\n",
            " [  60 3963   91  181    3    2    0    0    0    0    0    0    0]\n",
            " [  83    6  117  256    7    2    0    0    0    0    0    0    0]\n",
            " [  10  229  103 1018    3    2    0    0    0    0    0    0    0]\n",
            " [  43    6  218    7    2    0    0    0    0    0    0    0    0]\n",
            " [   5   16   21  826    3    2    0    0    0    0    0    0    0]\n",
            " [   4  136  974    3    2    0    0    0    0    0    0    0    0]\n",
            " [   4  380   11    3    2    0    0    0    0    0    0    0    0]\n",
            " [  35    8   34  250    7    2    0    0    0    0    0    0    0]\n",
            " [   8 3664   44    3    2    0    0    0    0    0    0    0    0]\n",
            " [  32   13  488 1559    7    2    0    0    0    0    0    0    0]\n",
            " [ 120   55    3    2    0    0    0    0    0    0    0    0    0]\n",
            " [   4   15   19  771  157    3    2    0    0    0    0    0    0]]\n"
          ],
          "name": "stdout"
        }
      ]
    },
    {
      "cell_type": "code",
      "metadata": {
        "id": "Jvu4J4-u1ibu"
      },
      "source": [
        "# Define a function that computes the forward and backward pass for your translation model. \n",
        "# This function should take an English input, German input and German output as arguments, and should do the following:\n",
        "# The function returns the loss and gradients with respect to the encoder and decoder’s trainable variables.\n",
        "# Decorate the function with @tf.function\n",
        "\n",
        "loss_obj = tf.keras.losses.SparseCategoricalCrossentropy(from_logits=True)\n",
        "trainable_variables = encoder_model.trainable_variables + decoder_model.trainable_variables\n",
        "\n",
        "@tf.function\n",
        "def compute_forward_and_backward_pass(english_input, german_input, german_output):\n",
        "  with tf.GradientTape() as tape:\n",
        "    global encoder_model, decoder_model, loss_obj, trainable_variables\n",
        "\n",
        "    # Pass the English input into the encoder, to get the hidden and cell states of the encoder LSTM.\n",
        "    encoder_hidden_state, encoder_cell_state = encoder_model(english_input)\n",
        "\n",
        "    # These hidden and cell states are then passed into the decoder, along with the German inputs, which returns a sequence of outputs \n",
        "    # (the hidden and cell state outputs of the decoder LSTM are unused in this function).\n",
        "    pred_german_output, decoder_hidden_state, decoder_cell_state = decoder_model(german_input, \n",
        "                                                                          hidden_state=encoder_hidden_state, \n",
        "                                                                          cell_state=encoder_cell_state)\n",
        "    #targets = german_input[:,1:]\n",
        "    #preds = pred_german_output[:,:pred_german_output.shape[1]-1,:]\n",
        "\n",
        "    # The loss should then be computed between the decoder outputs and the German output function argument.\n",
        "    loss_value = loss_obj(german_output, pred_german_output)\n",
        "\n",
        "    grad = tape.gradient(loss_value, trainable_variables)\n",
        "\n",
        "    return loss_value, grad, pred_german_output"
      ],
      "execution_count": null,
      "outputs": []
    },
    {
      "cell_type": "code",
      "metadata": {
        "colab": {
          "base_uri": "https://localhost:8080/"
        },
        "id": "Vl5H06811ibx",
        "outputId": "b642d308-d8ea-445a-c5a1-be4d095efb01"
      },
      "source": [
        "# Define and run a custom training loop for a number of epochs (for you to choose) that does the following:\n",
        "# Iterates through the training dataset, and creates decoder inputs and outputs from the German sequences.\n",
        "# Updates the parameters of the translation model using the gradients of the function above and an optimizer object.\n",
        "# Every epoch, compute the validation loss on a number of batches from the validation and save the epoch training and validation losses.  \n",
        "   \n",
        "# Keep results for plotting\n",
        "train_loss_results = []\n",
        "valid_loss_results = []\n",
        "train_accuracy_results = []\n",
        "valid_accuracy_results = []\n",
        "num_epochs = 10\n",
        "\n",
        "# Create the optimizer\n",
        "optimizer_obj = tf.keras.optimizers.Adam()\n",
        "            \n",
        "for epoch in range(num_epochs):\n",
        "\n",
        "    print(\"Train translation: Epoch {:03d}\".format(epoch))\n",
        "\n",
        "    train_epoch_loss_avg = tf.keras.metrics.Mean()\n",
        "    valid_epoch_loss_avg = tf.keras.metrics.Mean()\n",
        "    train_epoch_accuracy = tf.keras.metrics.CategoricalAccuracy()\n",
        "    valid_epoch_accuracy = tf.keras.metrics.CategoricalAccuracy()\n",
        "\n",
        "    # Training loop\n",
        "    for english_x, german_y in train_dataset:\n",
        "\n",
        "            # creates decoder inputs and outputs from the German sequences.\n",
        "            # german_input, german_decoder_output = decode_german_old(german_y)\n",
        "            german_input, german_output = decode_german(german_y)\n",
        "\n",
        "            # Updates the parameters of the translation model using the gradients of the function above and an optimizer object.\n",
        "            #train_loss_value, grads, targets, preds = compute_forward_and_backward_pass(english_x, german_y, german_decoder_output, epoch)\n",
        "            train_loss_value, grads, preds = compute_forward_and_backward_pass(english_x, \n",
        "                                                                               german_input, \n",
        "                                                                               german_output)\n",
        "            # Optimize the model\n",
        "            optimizer_obj.apply_gradients(zip(grads, trainable_variables))\n",
        "\n",
        "            # Every epoch, compute the validation loss on a number of batches from the validation and save the \n",
        "            # epoch training and validation losses.  \n",
        "            train_epoch_loss_avg(train_loss_value)\n",
        "            train_epoch_accuracy(to_categorical(german_output), preds)\n",
        "\n",
        "    train_loss_results.append(train_epoch_loss_avg.result())\n",
        "    train_accuracy_results.append(train_epoch_accuracy.result())\n",
        "    print(\"Validation translation: Epoch {:03d}\".format(epoch))\n",
        "\n",
        "    # Validation loop\n",
        "    for english_x, german_y in valid_dataset:\n",
        "            # creates decoder inputs and outputs from the German sequences.\n",
        "            german_input, german_output = decode_german(german_y)\n",
        "\n",
        "            encoder_hidden_state, encoder_cell_state = encoder_model(english_x)\n",
        "            preds, decoder_hidden_state, decoder_cell_state = decoder_model(german_input, \n",
        "                                                                            hidden_state=encoder_hidden_state, \n",
        "                                                                            cell_state=encoder_cell_state)\n",
        "            valid_loss_value = loss_obj(german_output, preds)\n",
        "\n",
        "            valid_epoch_loss_avg(valid_loss_value)\n",
        "            valid_epoch_accuracy(to_categorical(german_output), preds)\n",
        "\n",
        "    valid_loss_results.append(valid_epoch_loss_avg.result())\n",
        "    valid_accuracy_results.append(valid_epoch_accuracy.result())\n",
        "\n",
        "    print(\"Epoch {:03d}: Training Loss: {:.3f} Validation Loss {:.3f}\".format(\n",
        "        epoch, train_epoch_loss_avg.result(), valid_epoch_loss_avg.result()))\n",
        "    \n",
        "    #print(\"Epoch {:03d}: Training Loss: {:.3f} Validation Loss {:.3f} Training Accuracy: {:.3f} Validation Accuracy {:.3f}\".format(\n",
        "    #    epoch, train_epoch_loss_avg.result(), valid_epoch_loss_avg.result(), \n",
        "    #    train_epoch_accuracy.result(), valid_epoch_accuracy.result()))\n",
        "    # End epoch\n",
        "\n",
        "print(\"DONE training\")"
      ],
      "execution_count": null,
      "outputs": [
        {
          "output_type": "stream",
          "text": [
            "Train translation: Epoch 000\n",
            "Validation translation: Epoch 000\n",
            "Epoch 000: Training Loss: 5.429 Validation Loss 4.808\n",
            "Train translation: Epoch 001\n",
            "Validation translation: Epoch 001\n",
            "Epoch 001: Training Loss: 4.298 Validation Loss 3.977\n",
            "Train translation: Epoch 002\n",
            "Validation translation: Epoch 002\n",
            "Epoch 002: Training Loss: 3.420 Validation Loss 3.250\n",
            "Train translation: Epoch 003\n",
            "Validation translation: Epoch 003\n",
            "Epoch 003: Training Loss: 2.609 Validation Loss 2.593\n",
            "Train translation: Epoch 004\n",
            "Validation translation: Epoch 004\n",
            "Epoch 004: Training Loss: 1.869 Validation Loss 2.002\n",
            "Train translation: Epoch 005\n",
            "Validation translation: Epoch 005\n",
            "Epoch 005: Training Loss: 1.247 Validation Loss 1.561\n",
            "Train translation: Epoch 006\n",
            "Validation translation: Epoch 006\n",
            "Epoch 006: Training Loss: 0.808 Validation Loss 1.298\n",
            "Train translation: Epoch 007\n",
            "Validation translation: Epoch 007\n",
            "Epoch 007: Training Loss: 0.542 Validation Loss 1.177\n",
            "Train translation: Epoch 008\n",
            "Validation translation: Epoch 008\n",
            "Epoch 008: Training Loss: 0.384 Validation Loss 1.119\n",
            "Train translation: Epoch 009\n",
            "Validation translation: Epoch 009\n",
            "Epoch 009: Training Loss: 0.287 Validation Loss 1.097\n",
            "DONE training\n"
          ],
          "name": "stdout"
        }
      ]
    },
    {
      "cell_type": "code",
      "metadata": {
        "colab": {
          "base_uri": "https://localhost:8080/",
          "height": 312
        },
        "id": "dpacst2F1ib7",
        "outputId": "468b7fb4-bb0d-435d-fb48-c28d7041c9b8"
      },
      "source": [
        "#fig = plt.figure(figsize=(15, 5))\n",
        "\n",
        "#fig.add_subplot(121)\n",
        "plt.plot(train_loss_results)\n",
        "plt.plot(valid_loss_results)\n",
        "plt.title('Loss vs. Epochs')\n",
        "plt.ylabel('Loss')\n",
        "plt.xlabel('Epoch')\n",
        "plt.legend(['Training', 'Validation'], loc='upper right')\n",
        "\n",
        "#fig.add_subplot(122)\n",
        "#plt.plot(train_accuracy_results)\n",
        "#plt.plot(valid_accuracy_results)\n",
        "#plt.title('Accuracy vs. Epochs')\n",
        "#plt.ylabel('Accuracy')\n",
        "#plt.xlabel('Epoch')\n",
        "#plt.legend(['Training', 'Validation'], loc='upper right')"
      ],
      "execution_count": null,
      "outputs": [
        {
          "output_type": "execute_result",
          "data": {
            "text/plain": [
              "<matplotlib.legend.Legend at 0x7f3533fc9be0>"
            ]
          },
          "metadata": {
            "tags": []
          },
          "execution_count": 543
        },
        {
          "output_type": "display_data",
          "data": {
            "image/png": "[encoded data removed]",
            "text/plain": [
              "<Figure size 432x288 with 1 Axes>"
            ]
          },
          "metadata": {
            "tags": [],
            "needs_background": "light"
          }
        }
      ]
    },
    {
      "cell_type": "code",
      "metadata": {
        "id": "pxDi5QBRnVqu"
      },
      "source": [
        ""
      ],
      "execution_count": null,
      "outputs": []
    },
    {
      "cell_type": "markdown",
      "metadata": {
        "id": "xM2gvBM11ib-"
      },
      "source": [
        "## 7. Use the model to translate\n",
        "Now it's time to put your model into practice! You should run your translation for five randomly sampled English sentences from the dataset. For each sentence, the process is as follows:\n",
        "* Preprocess and embed the English sentence according to the model requirements.\n",
        "* Pass the embedded sentence through the encoder to get the encoder hidden and cell states.\n",
        "* Starting with the special  `\"<start>\"` token, use this token and the final encoder hidden and cell states to get the one-step prediction from the decoder, as well as the decoder’s updated hidden and cell states.\n",
        "* Create a loop to get the next step prediction and updated hidden and cell states from the decoder, using the most recent hidden and cell states. Terminate the loop when the `\"<end>\"` token is emitted, or when the sentence has reached a maximum length.\n",
        "* Decode the output token sequence into German text and print the English text and the model's German translation."
      ]
    },
    {
      "cell_type": "code",
      "metadata": {
        "colab": {
          "base_uri": "https://localhost:8080/"
        },
        "id": "sUvScTi20xa6",
        "outputId": "6aef83b3-b60a-4120-c5a9-2534ce32adab"
      },
      "source": [
        "random_data_examples = np.random.choice(data_examples, 5)\n",
        "print(f'random data examples: {random_data_examples}')"
      ],
      "execution_count": null,
      "outputs": [
        {
          "output_type": "stream",
          "text": [
            "random data examples: ['I need my key.\\tIch brauche meinen Schlüssel.\\tCC-BY 2.0 (France) Attribution: tatoeba.org #6882651 (kaiperkins271) & #6850126 (list)\\n'\n",
            " 'I have won.\\tIch gewann.\\tCC-BY 2.0 (France) Attribution: tatoeba.org #2245902 (CK) & #5028814 (Tamy)\\n'\n",
            " 'Take a bus.\\tNehmen Sie einen Bus.\\tCC-BY 2.0 (France) Attribution: tatoeba.org #35369 (CK) & #1313735 (al_ex_an_der)\\n'\n",
            " 'Do you know that?\\tWisst ihr das?\\tCC-BY 2.0 (France) Attribution: tatoeba.org #3738668 (CK) & #3758751 (Jens_Odo)\\n'\n",
            " \"That'll be fun.\\tDas wird ein Spaß!\\tCC-BY 2.0 (France) Attribution: tatoeba.org #2251018 (CK) & #1768935 (Pfirsichbaeumchen)\\n\"]\n"
          ],
          "name": "stdout"
        }
      ]
    },
    {
      "cell_type": "code",
      "metadata": {
        "colab": {
          "base_uri": "https://localhost:8080/"
        },
        "id": "2Klvcd_260T2",
        "outputId": "d4333134-4331-4397-a00a-0c3637c5df58"
      },
      "source": [
        "# Get five randomly sampled English sentences from the dataset\n",
        "test_english_sentences = []\n",
        "test_german_sentences = []\n",
        "\n",
        "for example in random_data_examples:\n",
        "  (english_sentence, german_sentence) = preprocess_example(example)\n",
        "  test_english_sentences.append(english_sentence)\n",
        "  test_german_sentences.append(german_sentence)\n",
        "\n",
        "print(f'Number of English sentences: {len(test_english_sentences)}')\n",
        "print(f'Test English Sentences {test_english_sentences}')\n",
        "print(f'Test German Sentences {test_german_sentences}')\n",
        "print(f'German token sequence {tokenizer.texts_to_sequences(test_german_sentences)}')"
      ],
      "execution_count": null,
      "outputs": [
        {
          "output_type": "stream",
          "text": [
            "Number of English sentences: 5\n",
            "Test English Sentences ['i need my key .', 'i have won .', 'take a bus .', 'do you know that ?', \"that'll be fun .\"]\n",
            "Test German Sentences ['<start> ich brauche meinen schluessel . <end>', '<start> ich gewann . <end>', '<start> nehmen sie einen bus . <end>', '<start> wisst ihr das ? <end>', '<start> das wird ein spass ! <end>']\n",
            "German token sequence [[1, 4, 94, 176, 204, 3, 2], [1, 4, 1265, 3, 2], [1, 216, 8, 40, 314, 3, 2], [1, 1740, 27, 11, 7, 2], [1, 11, 48, 19, 170, 9, 2]]\n"
          ],
          "name": "stdout"
        }
      ]
    },
    {
      "cell_type": "code",
      "metadata": {
        "id": "j3bnO4dJ5EF1"
      },
      "source": [
        "test_dataset = tf.data.Dataset.from_tensor_slices(test_english_sentences)"
      ],
      "execution_count": null,
      "outputs": []
    },
    {
      "cell_type": "code",
      "metadata": {
        "colab": {
          "base_uri": "https://localhost:8080/"
        },
        "id": "bGnQtE7L1icA",
        "outputId": "a970bfd7-bd77-458b-ca8a-2aea491dbe44"
      },
      "source": [
        "# Preprocess and embed the English sentence according to the model requirements.\n",
        "def test_split_words(sentence):\n",
        "    return tf.strings.split(sentence, sep=\" \")\n",
        "\n",
        "test_dataset = test_dataset.map(test_split_words)\n",
        "\n",
        "for elem in test_dataset.take(5): \n",
        "  print(elem)"
      ],
      "execution_count": null,
      "outputs": [
        {
          "output_type": "stream",
          "text": [
            "tf.Tensor([b'i' b'need' b'my' b'key' b'.'], shape=(5,), dtype=string)\n",
            "tf.Tensor([b'i' b'have' b'won' b'.'], shape=(4,), dtype=string)\n",
            "tf.Tensor([b'take' b'a' b'bus' b'.'], shape=(4,), dtype=string)\n",
            "tf.Tensor([b'do' b'you' b'know' b'that' b'?'], shape=(5,), dtype=string)\n",
            "tf.Tensor([b\"that'll\" b'be' b'fun' b'.'], shape=(4,), dtype=string)\n"
          ],
          "name": "stdout"
        }
      ]
    },
    {
      "cell_type": "code",
      "metadata": {
        "colab": {
          "base_uri": "https://localhost:8080/"
        },
        "id": "nsd6ic7eHAx3",
        "outputId": "5752cc46-f701-4490-e0a0-49a61eb9d8ac"
      },
      "source": [
        "def test_embed_english_sentence(english_sentence):\n",
        " return embedding_layer(english_sentence)\n",
        "\n",
        "test_dataset = test_dataset.map(test_embed_english_sentence)\n",
        "\n",
        "print(test_dataset)\n",
        "\n",
        "for elem in test_dataset.take(2): # Takes the first element of the dataset\n",
        "  print(elem.shape)"
      ],
      "execution_count": null,
      "outputs": [
        {
          "output_type": "stream",
          "text": [
            "<MapDataset shapes: (None, 128), types: tf.float32>\n",
            "(5, 128)\n",
            "(4, 128)\n"
          ],
          "name": "stdout"
        }
      ]
    },
    {
      "cell_type": "code",
      "metadata": {
        "colab": {
          "base_uri": "https://localhost:8080/"
        },
        "id": "ddVLNEAw1dQ7",
        "outputId": "2f46813b-b59a-431c-f752-bbce3e663b0b"
      },
      "source": [
        "def test_pad_english(english_sentence):\n",
        "  print(f'english_sentence={english_sentence} shape english_sentence={tf.shape(english_sentence)[0]}')\n",
        "  paddings = [[0, 13 - tf.shape(english_sentence)[0]], [0, 0]]\n",
        "  english_sentence = tf.pad(english_sentence, paddings, 'CONSTANT', constant_values=0)\n",
        "  print(tf.convert_to_tensor(english_sentence).shape)\n",
        "  # english_sentence = tf.reshape(english_sentence, [13, 128])\n",
        "  return english_sentence\n",
        "\n",
        "test_dataset = test_dataset.map(test_pad_english)\n",
        "\n",
        "#for elem in test_dataset.take(2): # Takes the first element of the dataset\n",
        "#  print(elem)"
      ],
      "execution_count": null,
      "outputs": [
        {
          "output_type": "stream",
          "text": [
            "english_sentence=Tensor(\"args_0:0\", shape=(None, 128), dtype=float32) shape english_sentence=Tensor(\"strided_slice:0\", shape=(), dtype=int32)\n",
            "(None, 128)\n"
          ],
          "name": "stdout"
        }
      ]
    },
    {
      "cell_type": "code",
      "metadata": {
        "colab": {
          "base_uri": "https://localhost:8080/"
        },
        "id": "7Wqv2HNg0UUb",
        "outputId": "6643214e-19c8-4420-f8ef-ab8c785a9996"
      },
      "source": [
        "test_dataset.element_spec"
      ],
      "execution_count": null,
      "outputs": [
        {
          "output_type": "execute_result",
          "data": {
            "text/plain": [
              "TensorSpec(shape=(None, 128), dtype=tf.float32, name=None)"
            ]
          },
          "metadata": {
            "tags": []
          },
          "execution_count": 550
        }
      ]
    },
    {
      "cell_type": "code",
      "metadata": {
        "colab": {
          "base_uri": "https://localhost:8080/"
        },
        "id": "-ot0VxhwUumC",
        "outputId": "3d927876-be54-49e9-94db-c2f2a926f166"
      },
      "source": [
        "test_dataset = test_dataset.batch(1)\n",
        "\n",
        "print(test_dataset.element_spec)"
      ],
      "execution_count": null,
      "outputs": [
        {
          "output_type": "stream",
          "text": [
            "TensorSpec(shape=(None, None, 128), dtype=tf.float32, name=None)\n"
          ],
          "name": "stdout"
        }
      ]
    },
    {
      "cell_type": "code",
      "metadata": {
        "colab": {
          "base_uri": "https://localhost:8080/"
        },
        "id": "AZJIPQ9MUq-0",
        "outputId": "55fcf0a8-767b-4693-a546-08ec66f807cb"
      },
      "source": [
        "for elem in test_dataset.take(5):\n",
        "  print(elem.shape)"
      ],
      "execution_count": null,
      "outputs": [
        {
          "output_type": "stream",
          "text": [
            "(1, 13, 128)\n",
            "(1, 13, 128)\n",
            "(1, 13, 128)\n",
            "(1, 13, 128)\n",
            "(1, 13, 128)\n"
          ],
          "name": "stdout"
        }
      ]
    },
    {
      "cell_type": "code",
      "metadata": {
        "id": "mefQ5JedWJf8"
      },
      "source": [
        "def decipher_output(output_list):\n",
        "  token_index = np.argmax(output_list)\n",
        "  predicted_word = german_index_word[str(token_index)]\n",
        "  return predicted_word, token_index"
      ],
      "execution_count": null,
      "outputs": []
    },
    {
      "cell_type": "code",
      "metadata": {
        "colab": {
          "base_uri": "https://localhost:8080/"
        },
        "id": "ohleJRcJ1icD",
        "outputId": "bfaf7e70-f33b-49a1-a4ae-c4815e3c7d31"
      },
      "source": [
        "# Pass the embedded sentence through the encoder to get the encoder hidden and cell states.\n",
        "# Starting with the special \"<start>\" token, use this token and the final encoder hidden and cell states to get \n",
        "# the one-step prediction from the decoder, as well as the decoder’s updated hidden and cell states.\n",
        "# Create a loop to get the next step prediction and updated hidden and cell states from the decoder, using the \n",
        "# most recent hidden and cell states. Terminate the loop when the \"<end>\" token is emitted, or when the sentence has reached a \n",
        "# maximum length. Hamilton H 2021-1-12\n",
        "# Decode the output token sequence into German text and print the English text and the model's German translation.\n",
        "\n",
        "decoder_model.get_layer('lstm_layer')\n",
        "\n",
        "list_pair = (test_dataset.take(5), test_english_sentences)\n",
        "\n",
        "for (english_data, english_sentence) in zip(*list_pair): \n",
        "  test_encoder_hidden_state, test_encoder_cell_state = encoder_model(english_data)\n",
        "\n",
        "  german_sentence = []\n",
        "  german_tokens = []\n",
        "  german_token = german_word_index['<start>']\n",
        "  decoder_hidden_state = test_encoder_hidden_state\n",
        "  decoder_cell_state = test_encoder_cell_state\n",
        "  german_word = ''\n",
        "\n",
        "  # print(f'About to enter while loop with german_sentence={german_sentence} german_tokens={german_tokens}')\n",
        "  while german_word != '<end>':\n",
        "    # result, decoder_hidden_state, decoder_cell_state = decoder_model(tf.convert_to_tensor([[german_token]]), \n",
        "\n",
        "    result, decoder_hidden_state, decoder_cell_state = decoder_model(tf.Variable([[german_token]]), \n",
        "                                                                     hidden_state=decoder_hidden_state, cell_state=decoder_cell_state)\n",
        "    #print(result)\n",
        "    result_array = result[0][0]\n",
        "    german_word, german_token = decipher_output(result_array)\n",
        "    dec_output = tf.squeeze(tf.argmax(result, axis=2)).numpy()\n",
        "    # print(f'german_word dec_output={tokenizer.index_word[dec_output]} german_word={german_word}, german_token={german_token} dec_output={dec_output}')\n",
        "    if german_word != '<end>':\n",
        "      german_sentence.append(german_word)\n",
        "      german_tokens.append(german_token)\n",
        "\n",
        "  print(f'english sentence: {english_sentence}')\n",
        "  print(f'german sentence: {\" \".join(german_sentence)}')\n",
        "  print(f'german tokens: {german_tokens}')\n",
        "  print('')"
      ],
      "execution_count": null,
      "outputs": [
        {
          "output_type": "stream",
          "text": [
            "english sentence: i need my key .\n",
            "german sentence: ich brauche meine zeit .\n",
            "german tokens: [4, 94, 60, 143, 3]\n",
            "\n",
            "english sentence: i have won .\n",
            "german sentence: ich habe gewonnen .\n",
            "german tokens: [4, 18, 224, 3]\n",
            "\n",
            "english sentence: take a bus .\n",
            "german sentence: machen sie ein nickerchen .\n",
            "german tokens: [86, 8, 19, 1489, 3]\n",
            "\n",
            "english sentence: do you know that ?\n",
            "german sentence: weisst du das ?\n",
            "german tokens: [533, 13, 11, 7]\n",
            "\n",
            "english sentence: that'll be fun .\n",
            "german sentence: es wird gut sein .\n",
            "german tokens: [10, 48, 49, 54, 3]\n",
            "\n"
          ],
          "name": "stdout"
        }
      ]
    },
    {
      "cell_type": "code",
      "metadata": {
        "id": "3_TTqwkcEtpK"
      },
      "source": [
        ""
      ],
      "execution_count": null,
      "outputs": []
    },
    {
      "cell_type": "code",
      "metadata": {
        "id": "oiPmW-Sj8ZRm"
      },
      "source": [
        ""
      ],
      "execution_count": null,
      "outputs": []
    }
  ]
}