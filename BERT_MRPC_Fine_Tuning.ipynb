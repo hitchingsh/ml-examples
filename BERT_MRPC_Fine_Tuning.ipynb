{
  "nbformat": 4,
  "nbformat_minor": 0,
  "metadata": {
    "colab": {
      "name": "Fine Tuning a BERT model.ipynb",
      "provenance": []
    },
    "kernelspec": {
      "name": "python3",
      "display_name": "Python 3"
    },
    "accelerator": "GPU"
  },
  "cells": [
    {
      "cell_type": "markdown",
      "metadata": {
        "id": "dNoDgy4jgvMz"
      },
      "source": [
        "## Fine-tuning a BERT model\n",
        "\n",
        "https://www.tensorflow.org/official_models/fine_tuning_bert\n",
        "\n",
        "In this example, we will work through fine-tuning a BERT model using the tensorflow-models PIP package.\n",
        "\n",
        "The pretrained BERT model this tutorial is based on is also available on TensorFlow Hub, to see how to use it refer to the Hub Appendix"
      ]
    },
    {
      "cell_type": "code",
      "metadata": {
        "colab": {
          "base_uri": "https://localhost:8080/"
        },
        "id": "jyCFs9pQg0Ph",
        "outputId": "457059ad-030b-4b63-c1ef-c5a41c1a5c79"
      },
      "source": [
        "% pip install -q tf-models-official==2.3.0"
      ],
      "execution_count": 1,
      "outputs": [
        {
          "output_type": "stream",
          "text": [
            "\u001b[K     |████████████████████████████████| 849kB 8.7MB/s \n",
            "\u001b[K     |████████████████████████████████| 102kB 13.3MB/s \n",
            "\u001b[K     |████████████████████████████████| 1.2MB 38.5MB/s \n",
            "\u001b[K     |████████████████████████████████| 37.6MB 1.2MB/s \n",
            "\u001b[K     |████████████████████████████████| 174kB 57.1MB/s \n",
            "\u001b[K     |████████████████████████████████| 706kB 46.2MB/s \n",
            "\u001b[K     |████████████████████████████████| 358kB 47.8MB/s \n",
            "\u001b[?25h  Building wheel for py-cpuinfo (setup.py) ... \u001b[?25l\u001b[?25hdone\n"
          ],
          "name": "stdout"
        }
      ]
    },
    {
      "cell_type": "code",
      "metadata": {
        "id": "iMZ1gzxPhMx-"
      },
      "source": [
        "import os\n",
        "\n",
        "import numpy as np\n",
        "import matplotlib.pyplot as plt\n",
        "\n",
        "import tensorflow as tf\n",
        "\n",
        "import tensorflow_hub as hub\n",
        "import tensorflow_datasets as tfds\n",
        "tfds.disable_progress_bar()\n",
        "\n",
        "from official.modeling import tf_utils\n",
        "from official import nlp\n",
        "from official.nlp import bert\n",
        "\n",
        "# Load the required submodules\n",
        "import official.nlp.optimization\n",
        "import official.nlp.bert.bert_models\n",
        "import official.nlp.bert.configs\n",
        "import official.nlp.bert.run_classifier\n",
        "import official.nlp.bert.tokenization\n",
        "import official.nlp.data.classifier_data_lib\n",
        "import official.nlp.modeling.losses\n",
        "import official.nlp.modeling.models\n",
        "import official.nlp.modeling.networks"
      ],
      "execution_count": 2,
      "outputs": []
    },
    {
      "cell_type": "markdown",
      "metadata": {
        "id": "3MAv-vuhhuxw"
      },
      "source": [
        "**Resources**\n",
        "\n",
        "This directory contains the configuration, vocabulary, and a pre-trained checkpoint used in this tutorial:"
      ]
    },
    {
      "cell_type": "code",
      "metadata": {
        "colab": {
          "base_uri": "https://localhost:8080/"
        },
        "id": "pDKdsKt2hkCT",
        "outputId": "1bde59ce-9b9d-4277-e78b-fe0951a6d2b3"
      },
      "source": [
        "gs_folder_bert = \"gs://cloud-tpu-checkpoints/bert/keras_bert/uncased_L-12_H-768_A-12\"\n",
        "tf.io.gfile.listdir(gs_folder_bert)"
      ],
      "execution_count": 3,
      "outputs": [
        {
          "output_type": "execute_result",
          "data": {
            "text/plain": [
              "['bert_config.json',\n",
              " 'bert_model.ckpt.data-00000-of-00001',\n",
              " 'bert_model.ckpt.index',\n",
              " 'vocab.txt']"
            ]
          },
          "metadata": {
            "tags": []
          },
          "execution_count": 3
        }
      ]
    },
    {
      "cell_type": "code",
      "metadata": {
        "id": "d2IO1-P1hzO2"
      },
      "source": [
        "hub_url_bert = \"https://tfhub.dev/tensorflow/bert_en_uncased_L-12_H-768_A-12/2\""
      ],
      "execution_count": 4,
      "outputs": []
    },
    {
      "cell_type": "markdown",
      "metadata": {
        "id": "hwZxi_xFihxy"
      },
      "source": [
        "**The data**\n",
        "\n",
        "For this example we used the GLUE MRPC dataset from TFDS.\n",
        "\n",
        "This dataset is not set up so that it can be directly fed into the BERT model, so this section also handles the necessary preprocessing.\n",
        "\n",
        "Get the dataset from TensorFlow Datasets\n",
        "The Microsoft Research Paraphrase Corpus (Dolan & Brockett, 2005) is a corpus of sentence pairs automatically extracted from online news sources, with human annotations for whether the sentences in the pair are semantically equivalent.\n",
        "\n",
        "Number of labels: 2.\n",
        "Size of training dataset: 3668.\n",
        "Size of evaluation dataset: 408.\n",
        "Maximum sequence length of training and evaluation dataset: 128"
      ]
    },
    {
      "cell_type": "code",
      "metadata": {
        "colab": {
          "base_uri": "https://localhost:8080/"
        },
        "id": "01HtQBTNh6eC",
        "outputId": "55e4232b-3c16-4225-b8e4-3064acf36405"
      },
      "source": [
        "glue, info = tfds.load('glue/mrpc', with_info=True,\n",
        "                       # It's small, load the whole dataset\n",
        "                       batch_size=-1)"
      ],
      "execution_count": 5,
      "outputs": [
        {
          "output_type": "stream",
          "text": [
            "\u001b[1mDownloading and preparing dataset glue/mrpc/1.0.0 (download: 1.43 MiB, generated: Unknown size, total: 1.43 MiB) to /root/tensorflow_datasets/glue/mrpc/1.0.0...\u001b[0m\n",
            "Shuffling and writing examples to /root/tensorflow_datasets/glue/mrpc/1.0.0.incompleteGC5030/glue-train.tfrecord\n",
            "Shuffling and writing examples to /root/tensorflow_datasets/glue/mrpc/1.0.0.incompleteGC5030/glue-validation.tfrecord\n",
            "Shuffling and writing examples to /root/tensorflow_datasets/glue/mrpc/1.0.0.incompleteGC5030/glue-test.tfrecord\n",
            "\u001b[1mDataset glue downloaded and prepared to /root/tensorflow_datasets/glue/mrpc/1.0.0. Subsequent calls will reuse this data.\u001b[0m\n"
          ],
          "name": "stdout"
        }
      ]
    },
    {
      "cell_type": "code",
      "metadata": {
        "colab": {
          "base_uri": "https://localhost:8080/"
        },
        "id": "2W970wxcinBg",
        "outputId": "c59aa8b6-83ae-42d7-b9b3-283a484cd6ef"
      },
      "source": [
        "list(glue.keys())"
      ],
      "execution_count": 6,
      "outputs": [
        {
          "output_type": "execute_result",
          "data": {
            "text/plain": [
              "['test', 'train', 'validation']"
            ]
          },
          "metadata": {
            "tags": []
          },
          "execution_count": 6
        }
      ]
    },
    {
      "cell_type": "code",
      "metadata": {
        "colab": {
          "base_uri": "https://localhost:8080/"
        },
        "id": "ZAergezxipmz",
        "outputId": "111d073d-ac13-4ed7-fb62-f53c01f4648a"
      },
      "source": [
        "# The info object describes the dataset and it's features:\n",
        "info.features"
      ],
      "execution_count": 7,
      "outputs": [
        {
          "output_type": "execute_result",
          "data": {
            "text/plain": [
              "FeaturesDict({\n",
              "    'idx': tf.int32,\n",
              "    'label': ClassLabel(shape=(), dtype=tf.int64, num_classes=2),\n",
              "    'sentence1': Text(shape=(), dtype=tf.string),\n",
              "    'sentence2': Text(shape=(), dtype=tf.string),\n",
              "})"
            ]
          },
          "metadata": {
            "tags": []
          },
          "execution_count": 7
        }
      ]
    },
    {
      "cell_type": "code",
      "metadata": {
        "colab": {
          "base_uri": "https://localhost:8080/"
        },
        "id": "fBrnvBgFisK9",
        "outputId": "5564ff9f-d806-428e-9ea0-39d84d1d650d"
      },
      "source": [
        "# The two classes are:\n",
        "info.features['label'].names"
      ],
      "execution_count": 8,
      "outputs": [
        {
          "output_type": "execute_result",
          "data": {
            "text/plain": [
              "['not_equivalent', 'equivalent']"
            ]
          },
          "metadata": {
            "tags": []
          },
          "execution_count": 8
        }
      ]
    },
    {
      "cell_type": "code",
      "metadata": {
        "colab": {
          "base_uri": "https://localhost:8080/"
        },
        "id": "5uYiPt9BjCRC",
        "outputId": "210bd3c2-a250-4ca5-e64f-afddc8426073"
      },
      "source": [
        "# Print a training example:\n",
        "glue_train = glue['train']\n",
        "\n",
        "for key, value in glue_train.items():\n",
        "  print(f\"{key:9s}: {value[0].numpy()}\")"
      ],
      "execution_count": 9,
      "outputs": [
        {
          "output_type": "stream",
          "text": [
            "idx      : 1680\n",
            "label    : 0\n",
            "sentence1: b'The identical rovers will act as robotic geologists , searching for evidence of past water .'\n",
            "sentence2: b'The rovers act as robotic geologists , moving on six wheels .'\n"
          ],
          "name": "stdout"
        }
      ]
    },
    {
      "cell_type": "markdown",
      "metadata": {
        "id": "r6_31cb4jW5a"
      },
      "source": [
        "**The BERT tokenizer**\n",
        "\n",
        "To fine tune a pre-trained model you need to be sure that you're using exactly the same tokenization, vocabulary, and index mapping as you used during training.\n",
        "\n",
        "The BERT tokenizer used in this tutorial is written in pure Python (It's not built out of TensorFlow ops). So you can't just plug it into your model as a keras.layer like you can with preprocessing.TextVectorization.\n",
        "\n",
        "The following code rebuilds the tokenizer that was used by the base model:"
      ]
    },
    {
      "cell_type": "code",
      "metadata": {
        "colab": {
          "base_uri": "https://localhost:8080/"
        },
        "id": "KsFQ6xR8jGJx",
        "outputId": "fb890741-e0b1-4ce8-d654-94be606c74b9"
      },
      "source": [
        "# Set up tokenizer to generate Tensorflow dataset\n",
        "tokenizer = bert.tokenization.FullTokenizer(\n",
        "    vocab_file=os.path.join(gs_folder_bert, \"vocab.txt\"),\n",
        "     do_lower_case=True)\n",
        "\n",
        "print(\"Vocab size:\", len(tokenizer.vocab))"
      ],
      "execution_count": 10,
      "outputs": [
        {
          "output_type": "stream",
          "text": [
            "Vocab size: 30522\n"
          ],
          "name": "stdout"
        }
      ]
    },
    {
      "cell_type": "code",
      "metadata": {
        "colab": {
          "base_uri": "https://localhost:8080/"
        },
        "id": "pTEUjj7NjbNA",
        "outputId": "f9c54a3d-03e5-4a3d-b3f2-b435a8c65c5e"
      },
      "source": [
        "# Tokenize a sentence\n",
        "tokens = tokenizer.tokenize(\"Hello TensorFlow!\")\n",
        "print(tokens)\n",
        "ids = tokenizer.convert_tokens_to_ids(tokens)\n",
        "print(ids)"
      ],
      "execution_count": 11,
      "outputs": [
        {
          "output_type": "stream",
          "text": [
            "['hello', 'tensor', '##flow', '!']\n",
            "[7592, 23435, 12314, 999]\n"
          ],
          "name": "stdout"
        }
      ]
    },
    {
      "cell_type": "markdown",
      "metadata": {
        "id": "7uueR6Fzj13C"
      },
      "source": [
        "**Preprocess the data**\n",
        "\n",
        "The section manually preprocessed the dataset into the format expected by the model.\n",
        "\n",
        "This dataset is small, so preprocessing can be done quickly and easily in memory. For larger datasets the tf_models library includes some tools for preprocessing and re-serializing a dataset. See Appendix: Re-encoding a large dataset for details.\n",
        "\n",
        "Encode the sentences\n",
        "The model expects its two inputs sentences to be concatenated together. This input is expected to start with a [CLS] \"This is a classification problem\" token, and each sentence should end with a [SEP] \"Separator\" token:"
      ]
    },
    {
      "cell_type": "code",
      "metadata": {
        "colab": {
          "base_uri": "https://localhost:8080/"
        },
        "id": "7dzdbYK0jgZc",
        "outputId": "53d07c91-4191-4d55-f8b5-cc4a23878e0c"
      },
      "source": [
        "tokenizer.convert_tokens_to_ids(['[CLS]', '[SEP]'])"
      ],
      "execution_count": 12,
      "outputs": [
        {
          "output_type": "execute_result",
          "data": {
            "text/plain": [
              "[101, 102]"
            ]
          },
          "metadata": {
            "tags": []
          },
          "execution_count": 12
        }
      ]
    },
    {
      "cell_type": "code",
      "metadata": {
        "id": "8BrGbnoDj6Wh"
      },
      "source": [
        "# Start by encoding all the sentences while appending a [SEP] token, and packing them into ragged-tensors:\n",
        "def encode_sentence(s):\n",
        "   tokens = list(tokenizer.tokenize(s.numpy()))\n",
        "   tokens.append('[SEP]')\n",
        "   return tokenizer.convert_tokens_to_ids(tokens)\n",
        "\n",
        "sentence1 = tf.ragged.constant([\n",
        "    encode_sentence(s) for s in glue_train[\"sentence1\"]])\n",
        "sentence2 = tf.ragged.constant([\n",
        "    encode_sentence(s) for s in glue_train[\"sentence2\"]])"
      ],
      "execution_count": 13,
      "outputs": []
    },
    {
      "cell_type": "code",
      "metadata": {
        "colab": {
          "base_uri": "https://localhost:8080/"
        },
        "id": "S_2jrfIJkWjL",
        "outputId": "df1df722-9065-4fe7-a123-443a89727771"
      },
      "source": [
        "print(\"Sentence1 shape:\", sentence1.shape.as_list())\n",
        "print(\"Sentence2 shape:\", sentence2.shape.as_list())"
      ],
      "execution_count": 14,
      "outputs": [
        {
          "output_type": "stream",
          "text": [
            "Sentence1 shape: [3668, None]\n",
            "Sentence2 shape: [3668, None]\n"
          ],
          "name": "stdout"
        }
      ]
    },
    {
      "cell_type": "code",
      "metadata": {
        "colab": {
          "base_uri": "https://localhost:8080/",
          "height": 265
        },
        "id": "XuUNAa8-kcu9",
        "outputId": "01f0cd47-c8d4-495f-cdf6-fcb328d267f7"
      },
      "source": [
        "# Now prepend a [CLS] token, and concatenate the ragged tensors to form a single input_word_ids tensor for each example. \n",
        "# RaggedTensor.to_tensor() zero pads to the longest sequence.\n",
        "\n",
        "cls = [tokenizer.convert_tokens_to_ids(['[CLS]'])]*sentence1.shape[0]\n",
        "input_word_ids = tf.concat([cls, sentence1, sentence2], axis=-1)\n",
        "_ = plt.pcolormesh(input_word_ids.to_tensor())"
      ],
      "execution_count": 15,
      "outputs": [
        {
          "output_type": "display_data",
          "data": {
            "image/png": "[encoded data removed]",
            "text/plain": [
              "<Figure size 432x288 with 1 Axes>"
            ]
          },
          "metadata": {
            "tags": [],
            "needs_background": "light"
          }
        }
      ]
    },
    {
      "cell_type": "markdown",
      "metadata": {
        "id": "3CY--K6hkw3G"
      },
      "source": [
        "**Mask and input type**\n",
        "\n",
        "The model expects two additional inputs:\n",
        "\n",
        "*   The input mask\n",
        "*   The input type\n",
        "\n",
        "The mask allows the model to cleanly differentiate between the content and the padding. The mask has the same shape as the input_word_ids, and contains a 1 anywhere the input_word_ids is not padding."
      ]
    },
    {
      "cell_type": "code",
      "metadata": {
        "colab": {
          "base_uri": "https://localhost:8080/",
          "height": 282
        },
        "id": "b28lBFcJkq2E",
        "outputId": "0134f4b6-d8d3-4a6f-d493-86ea54c8ce67"
      },
      "source": [
        "input_mask = tf.ones_like(input_word_ids).to_tensor()\n",
        "\n",
        "plt.pcolormesh(input_mask)"
      ],
      "execution_count": 16,
      "outputs": [
        {
          "output_type": "execute_result",
          "data": {
            "text/plain": [
              "<matplotlib.collections.QuadMesh at 0x7f0450101390>"
            ]
          },
          "metadata": {
            "tags": []
          },
          "execution_count": 16
        },
        {
          "output_type": "display_data",
          "data": {
            "image/png": "[encoded data removed]",
            "text/plain": [
              "<Figure size 432x288 with 1 Axes>"
            ]
          },
          "metadata": {
            "tags": [],
            "needs_background": "light"
          }
        }
      ]
    },
    {
      "cell_type": "code",
      "metadata": {
        "colab": {
          "base_uri": "https://localhost:8080/",
          "height": 282
        },
        "id": "ZXKay7D4k2OV",
        "outputId": "4eea0591-add4-4e60-82a7-298a1162581f"
      },
      "source": [
        "# The \"input type\" also has the same shape, but inside the non-padded region, contains a 0 or a 1 indicating which sentence the token is a part of.\n",
        "\n",
        "type_cls = tf.zeros_like(cls)\n",
        "type_s1 = tf.zeros_like(sentence1)\n",
        "type_s2 = tf.ones_like(sentence2)\n",
        "input_type_ids = tf.concat([type_cls, type_s1, type_s2], axis=-1).to_tensor()\n",
        "\n",
        "plt.pcolormesh(input_type_ids)"
      ],
      "execution_count": 17,
      "outputs": [
        {
          "output_type": "execute_result",
          "data": {
            "text/plain": [
              "<matplotlib.collections.QuadMesh at 0x7f045a4483c8>"
            ]
          },
          "metadata": {
            "tags": []
          },
          "execution_count": 17
        },
        {
          "output_type": "display_data",
          "data": {
            "image/png": "[encoded data removed]",
            "text/plain": [
              "<Figure size 432x288 with 1 Axes>"
            ]
          },
          "metadata": {
            "tags": [],
            "needs_background": "light"
          }
        }
      ]
    },
    {
      "cell_type": "markdown",
      "metadata": {
        "id": "Td2qXuOwlhUW"
      },
      "source": [
        "**Put it all together**\n",
        "\n",
        "Collect the above text parsing code into a single function, and apply it to each split of the glue/mrpc dataset."
      ]
    },
    {
      "cell_type": "code",
      "metadata": {
        "id": "87Oj2k_clFQF"
      },
      "source": [
        "def encode_sentence(s, tokenizer):\n",
        "   tokens = list(tokenizer.tokenize(s))\n",
        "   tokens.append('[SEP]')\n",
        "   return tokenizer.convert_tokens_to_ids(tokens)\n",
        "\n",
        "def bert_encode(glue_dict, tokenizer):\n",
        "  num_examples = len(glue_dict[\"sentence1\"])\n",
        "  \n",
        "  sentence1 = tf.ragged.constant([\n",
        "      encode_sentence(s, tokenizer)\n",
        "      for s in np.array(glue_dict[\"sentence1\"])])\n",
        "  sentence2 = tf.ragged.constant([\n",
        "      encode_sentence(s, tokenizer)\n",
        "       for s in np.array(glue_dict[\"sentence2\"])])\n",
        "\n",
        "  cls = [tokenizer.convert_tokens_to_ids(['[CLS]'])]*sentence1.shape[0]\n",
        "  input_word_ids = tf.concat([cls, sentence1, sentence2], axis=-1)\n",
        "\n",
        "  input_mask = tf.ones_like(input_word_ids).to_tensor()\n",
        "\n",
        "  type_cls = tf.zeros_like(cls)\n",
        "  type_s1 = tf.zeros_like(sentence1)\n",
        "  type_s2 = tf.ones_like(sentence2)\n",
        "  input_type_ids = tf.concat(\n",
        "      [type_cls, type_s1, type_s2], axis=-1).to_tensor()\n",
        "\n",
        "  inputs = {\n",
        "      'input_word_ids': input_word_ids.to_tensor(),\n",
        "      'input_mask': input_mask,\n",
        "      'input_type_ids': input_type_ids}\n",
        "\n",
        "  return inputs"
      ],
      "execution_count": 18,
      "outputs": []
    },
    {
      "cell_type": "code",
      "metadata": {
        "id": "V-o1ATxylkl2"
      },
      "source": [
        "glue_train = bert_encode(glue['train'], tokenizer)\n",
        "glue_train_labels = glue['train']['label']\n",
        "\n",
        "glue_validation = bert_encode(glue['validation'], tokenizer)\n",
        "glue_validation_labels = glue['validation']['label']\n",
        "\n",
        "glue_test = bert_encode(glue['test'], tokenizer)\n",
        "glue_test_labels  = glue['test']['label']"
      ],
      "execution_count": 19,
      "outputs": []
    },
    {
      "cell_type": "markdown",
      "metadata": {
        "id": "qxzcmmEx-_ja"
      },
      "source": [
        "Each subset of the data has been converted to a dictionary of features, and a set of labels. Each feature in the input dictionary has the same shape, and the number of labels should match:"
      ]
    },
    {
      "cell_type": "code",
      "metadata": {
        "colab": {
          "base_uri": "https://localhost:8080/"
        },
        "id": "pUX_GGnnlnUn",
        "outputId": "ab424ecf-c1b0-47db-d55c-b99b6d8b1baf"
      },
      "source": [
        "for key, value in glue_train.items():\n",
        "  print(f'{key:15s} shape: {value.shape}')\n",
        "\n",
        "print(f'glue_train_labels shape: {glue_train_labels.shape}')"
      ],
      "execution_count": 20,
      "outputs": [
        {
          "output_type": "stream",
          "text": [
            "input_word_ids  shape: (3668, 103)\n",
            "input_mask      shape: (3668, 103)\n",
            "input_type_ids  shape: (3668, 103)\n",
            "glue_train_labels shape: (3668,)\n"
          ],
          "name": "stdout"
        }
      ]
    },
    {
      "cell_type": "markdown",
      "metadata": {
        "id": "9FJdmvmK_Ify"
      },
      "source": [
        "**The model**\n",
        "\n",
        "Build the model\n",
        "\n",
        "The first step is to download the configuration for the pre-trained model."
      ]
    },
    {
      "cell_type": "code",
      "metadata": {
        "colab": {
          "base_uri": "https://localhost:8080/"
        },
        "id": "zDfaXOo-_CqN",
        "outputId": "d6381907-ff7e-473e-c550-b93462cf70cd"
      },
      "source": [
        "import json\n",
        "\n",
        "bert_config_file = os.path.join(gs_folder_bert, \"bert_config.json\")\n",
        "config_dict = json.loads(tf.io.gfile.GFile(bert_config_file).read())\n",
        "\n",
        "bert_config = bert.configs.BertConfig.from_dict(config_dict)\n",
        "\n",
        "config_dict"
      ],
      "execution_count": 21,
      "outputs": [
        {
          "output_type": "execute_result",
          "data": {
            "text/plain": [
              "{'attention_probs_dropout_prob': 0.1,\n",
              " 'hidden_act': 'gelu',\n",
              " 'hidden_dropout_prob': 0.1,\n",
              " 'hidden_size': 768,\n",
              " 'initializer_range': 0.02,\n",
              " 'intermediate_size': 3072,\n",
              " 'max_position_embeddings': 512,\n",
              " 'num_attention_heads': 12,\n",
              " 'num_hidden_layers': 12,\n",
              " 'type_vocab_size': 2,\n",
              " 'vocab_size': 30522}"
            ]
          },
          "metadata": {
            "tags": []
          },
          "execution_count": 21
        }
      ]
    },
    {
      "cell_type": "markdown",
      "metadata": {
        "id": "082_aJ-R_nH3"
      },
      "source": [
        "The config defines the core BERT Model, which is a Keras model to predict the outputs of num_classes from the inputs with maximum sequence length max_seq_length.\n",
        "\n",
        "This function returns both the encoder and the classifier."
      ]
    },
    {
      "cell_type": "code",
      "metadata": {
        "id": "n0R5ytuh_fa-"
      },
      "source": [
        "bert_classifier, bert_encoder = bert.bert_models.classifier_model(\n",
        "    bert_config, num_labels=2)"
      ],
      "execution_count": 22,
      "outputs": []
    },
    {
      "cell_type": "code",
      "metadata": {
        "colab": {
          "base_uri": "https://localhost:8080/",
          "height": 220
        },
        "id": "XXm6ziIzAj82",
        "outputId": "8fde2c8c-384f-4708-af19-971006e8f232"
      },
      "source": [
        "# The classifier has three inputs and one output:\n",
        "tf.keras.utils.plot_model(bert_classifier, show_shapes=True, dpi=48)"
      ],
      "execution_count": 23,
      "outputs": [
        {
          "output_type": "execute_result",
          "data": {
            "image/png": "[encoded data removed]",
            "text/plain": [
              "<IPython.core.display.Image object>"
            ]
          },
          "metadata": {
            "tags": []
          },
          "execution_count": 23
        }
      ]
    },
    {
      "cell_type": "code",
      "metadata": {
        "colab": {
          "base_uri": "https://localhost:8080/"
        },
        "id": "yeUauXr9Aqat",
        "outputId": "18607f7e-4d7a-433c-bf4a-7e12b016f0cb"
      },
      "source": [
        "# Run it on a test batch of data 10 examples from the training set. The output is the logits for the two classes:\n",
        "\n",
        "glue_batch = {key: val[:10] for key, val in glue_train.items()}\n",
        "\n",
        "bert_classifier(\n",
        "    glue_batch, training=True\n",
        ").numpy()"
      ],
      "execution_count": 24,
      "outputs": [
        {
          "output_type": "execute_result",
          "data": {
            "text/plain": [
              "array([[ 0.01286824,  0.09684268],\n",
              "       [ 0.0041387 ,  0.13727617],\n",
              "       [ 0.23842661, -0.12817867],\n",
              "       [ 0.3045982 ,  0.07288301],\n",
              "       [-0.0389436 , -0.10419044],\n",
              "       [ 0.18894318,  0.16368291],\n",
              "       [ 0.18934494, -0.24132684],\n",
              "       [ 0.15402362,  0.01580475],\n",
              "       [-0.09150298,  0.07027312],\n",
              "       [ 0.26008132,  0.03917041]], dtype=float32)"
            ]
          },
          "metadata": {
            "tags": []
          },
          "execution_count": 24
        }
      ]
    },
    {
      "cell_type": "markdown",
      "metadata": {
        "id": "l39miAN5CGh_"
      },
      "source": [
        "The TransformerEncoder in the center of the classifier above is the bert_encoder.\n",
        "\n",
        "Inspecting the encoder, we see its stack of Transformer layers connected to those same three inputs:"
      ]
    },
    {
      "cell_type": "code",
      "metadata": {
        "colab": {
          "base_uri": "https://localhost:8080/",
          "height": 1000
        },
        "id": "bSKIj-14BGrc",
        "outputId": "479a28d4-bf66-49d9-b684-22fbcec39bbf"
      },
      "source": [
        "tf.keras.utils.plot_model(bert_encoder, show_shapes=True, dpi=48)"
      ],
      "execution_count": 25,
      "outputs": [
        {
          "output_type": "execute_result",
          "data": {
            "image/png": "[encoded data removed]",
            "text/plain": [
              "<IPython.core.display.Image object>"
            ]
          },
          "metadata": {
            "tags": []
          },
          "execution_count": 25
        }
      ]
    },
    {
      "cell_type": "markdown",
      "metadata": {
        "id": "LuxZWpcPCmJ9"
      },
      "source": [
        "**Restore the encoder weights**\n",
        "\n",
        "When built the encoder is randomly initialized. Restore the encoder's weights from the checkpoint:\n",
        "\n",
        "Note: The pretrained TransformerEncoder is also available on TensorFlow Hub. See the Hub appendix for details."
      ]
    },
    {
      "cell_type": "code",
      "metadata": {
        "colab": {
          "base_uri": "https://localhost:8080/"
        },
        "id": "8GSPS3zMCqiV",
        "outputId": "a03f1b1c-34a5-4b6c-8491-24417889535f"
      },
      "source": [
        "checkpoint = tf.train.Checkpoint(model=bert_encoder)\n",
        "checkpoint.restore(\n",
        "    os.path.join(gs_folder_bert, 'bert_model.ckpt')).assert_consumed()"
      ],
      "execution_count": 26,
      "outputs": [
        {
          "output_type": "execute_result",
          "data": {
            "text/plain": [
              "<tensorflow.python.training.tracking.util.CheckpointLoadStatus at 0x7f045a448470>"
            ]
          },
          "metadata": {
            "tags": []
          },
          "execution_count": 26
        }
      ]
    },
    {
      "cell_type": "markdown",
      "metadata": {
        "id": "jf96REgqC3fY"
      },
      "source": [
        "Set up the optimizer\n",
        "\n",
        "BERT adopts the Adam optimizer with weight decay (aka \"AdamW\"). It also employs a learning rate schedule that firstly warms up from 0 and then decays to 0."
      ]
    },
    {
      "cell_type": "code",
      "metadata": {
        "id": "E8G_kBXECtHk"
      },
      "source": [
        "# Set up epochs and steps\n",
        "epochs = 3\n",
        "batch_size = 32\n",
        "eval_batch_size = 32\n",
        "\n",
        "train_data_size = len(glue_train_labels)\n",
        "steps_per_epoch = int(train_data_size / batch_size)\n",
        "num_train_steps = steps_per_epoch * epochs\n",
        "warmup_steps = int(epochs * train_data_size * 0.1 / batch_size)\n",
        "\n",
        "# creates an optimizer with learning rate schedule\n",
        "optimizer = nlp.optimization.create_optimizer(\n",
        "    2e-5, num_train_steps=num_train_steps, num_warmup_steps=warmup_steps)"
      ],
      "execution_count": 27,
      "outputs": []
    },
    {
      "cell_type": "code",
      "metadata": {
        "colab": {
          "base_uri": "https://localhost:8080/"
        },
        "id": "nvr8VQekC8oM",
        "outputId": "d0a63df9-571e-4ba6-95fa-9bba83c6f2a2"
      },
      "source": [
        "# This returns an AdamWeightDecay optimizer with the learning rate schedule set:\n",
        "type(optimizer)"
      ],
      "execution_count": 28,
      "outputs": [
        {
          "output_type": "execute_result",
          "data": {
            "text/plain": [
              "official.nlp.optimization.AdamWeightDecay"
            ]
          },
          "metadata": {
            "tags": []
          },
          "execution_count": 28
        }
      ]
    },
    {
      "cell_type": "markdown",
      "metadata": {
        "id": "cUtljxhqDZvp"
      },
      "source": [
        "To see an example of how to customize the optimizer and it's schedule, see the Optimizer schedule appendix.\n",
        "\n",
        "**Train the model**\n",
        "\n",
        "The metric is accuracy and we use sparse categorical cross-entropy as loss."
      ]
    },
    {
      "cell_type": "code",
      "metadata": {
        "colab": {
          "base_uri": "https://localhost:8080/"
        },
        "id": "g6B5HsUaDHTl",
        "outputId": "9b40bd33-c832-497b-a21f-9bb27f88441f"
      },
      "source": [
        "metrics = [tf.keras.metrics.SparseCategoricalAccuracy('accuracy', dtype=tf.float32)]\n",
        "loss = tf.keras.losses.SparseCategoricalCrossentropy(from_logits=True)\n",
        "\n",
        "bert_classifier.compile(\n",
        "    optimizer=optimizer,\n",
        "    loss=loss,\n",
        "    metrics=metrics)\n",
        "\n",
        "bert_classifier.fit(\n",
        "      glue_train, glue_train_labels,\n",
        "      validation_data=(glue_validation, glue_validation_labels),\n",
        "      batch_size=32,\n",
        "      epochs=epochs)"
      ],
      "execution_count": 29,
      "outputs": [
        {
          "output_type": "stream",
          "text": [
            "Epoch 1/3\n",
            "115/115 [==============================] - 56s 391ms/step - loss: 0.7507 - accuracy: 0.4845 - val_loss: 0.5004 - val_accuracy: 0.7868\n",
            "Epoch 2/3\n",
            "115/115 [==============================] - 43s 377ms/step - loss: 0.4837 - accuracy: 0.7685 - val_loss: 0.4497 - val_accuracy: 0.8064\n",
            "Epoch 3/3\n",
            "115/115 [==============================] - 43s 377ms/step - loss: 0.3421 - accuracy: 0.8556 - val_loss: 0.4214 - val_accuracy: 0.8407\n"
          ],
          "name": "stdout"
        },
        {
          "output_type": "execute_result",
          "data": {
            "text/plain": [
              "<tensorflow.python.keras.callbacks.History at 0x7f03eb29aa20>"
            ]
          },
          "metadata": {
            "tags": []
          },
          "execution_count": 29
        }
      ]
    },
    {
      "cell_type": "markdown",
      "metadata": {
        "id": "NVY5RKnIDtrE"
      },
      "source": [
        "Now run the fine-tuned model on a custom example to see that it works.\n",
        "\n",
        "Start by encoding some sentence pairs:"
      ]
    },
    {
      "cell_type": "code",
      "metadata": {
        "id": "gRqYmCW6Dg50"
      },
      "source": [
        "my_examples = bert_encode(\n",
        "    glue_dict = {\n",
        "        'sentence1':[\n",
        "            'The rain in Spain falls mainly on the plain.',\n",
        "            'Look I fine tuned BERT.'],\n",
        "        'sentence2':[\n",
        "            'It mostly rains on the flat lands of Spain.',\n",
        "            'Is it working? This does not match.']\n",
        "    },\n",
        "    tokenizer=tokenizer)\n",
        "\n",
        "# The model should report class 1 \"match\" for the first example and class 0 \"no-match\" for the second:"
      ],
      "execution_count": 31,
      "outputs": []
    },
    {
      "cell_type": "code",
      "metadata": {
        "id": "r5K8NYi1D4kt",
        "outputId": "e38ec3bc-834e-40bf-d82e-3e9457680015",
        "colab": {
          "base_uri": "https://localhost:8080/"
        }
      },
      "source": [
        "result = bert_classifier(my_examples, training=False)\n",
        "\n",
        "result = tf.argmax(result).numpy()\n",
        "result"
      ],
      "execution_count": 32,
      "outputs": [
        {
          "output_type": "execute_result",
          "data": {
            "text/plain": [
              "array([1, 0])"
            ]
          },
          "metadata": {
            "tags": []
          },
          "execution_count": 32
        }
      ]
    },
    {
      "cell_type": "code",
      "metadata": {
        "id": "p9y6EM8RD_vG",
        "outputId": "e00d6ce2-4149-4cf4-bd63-a64ecb22fdc4",
        "colab": {
          "base_uri": "https://localhost:8080/"
        }
      },
      "source": [
        "np.array(info.features['label'].names)[result]"
      ],
      "execution_count": 33,
      "outputs": [
        {
          "output_type": "execute_result",
          "data": {
            "text/plain": [
              "array(['equivalent', 'not_equivalent'], dtype='<U14')"
            ]
          },
          "metadata": {
            "tags": []
          },
          "execution_count": 33
        }
      ]
    },
    {
      "cell_type": "markdown",
      "metadata": {
        "id": "Rb9LnNXbEGxW"
      },
      "source": [
        "**Save the model**\n",
        "\n",
        "Often the goal of training a model is to use it for something, so export the model and then restore it to be sure that it works."
      ]
    },
    {
      "cell_type": "code",
      "metadata": {
        "id": "LriHdVZeECj0",
        "outputId": "00c6ac8c-d9eb-4f11-d46d-6d190e0d9186",
        "colab": {
          "base_uri": "https://localhost:8080/"
        }
      },
      "source": [
        "export_dir='./saved_model'\n",
        "tf.saved_model.save(bert_classifier, export_dir=export_dir)"
      ],
      "execution_count": 34,
      "outputs": [
        {
          "output_type": "stream",
          "text": [
            "WARNING:absl:Found untraced functions such as self_attention_layer_call_fn, self_attention_layer_call_and_return_conditional_losses, attention_output_layer_call_fn, attention_output_layer_call_and_return_conditional_losses, dropout_1_layer_call_fn while saving (showing 5 of 840). These functions will not be directly callable after loading.\n",
            "WARNING:absl:Found untraced functions such as self_attention_layer_call_fn, self_attention_layer_call_and_return_conditional_losses, attention_output_layer_call_fn, attention_output_layer_call_and_return_conditional_losses, dropout_1_layer_call_fn while saving (showing 5 of 840). These functions will not be directly callable after loading.\n"
          ],
          "name": "stderr"
        },
        {
          "output_type": "stream",
          "text": [
            "INFO:tensorflow:Assets written to: ./saved_model/assets\n"
          ],
          "name": "stdout"
        },
        {
          "output_type": "stream",
          "text": [
            "INFO:tensorflow:Assets written to: ./saved_model/assets\n"
          ],
          "name": "stderr"
        }
      ]
    },
    {
      "cell_type": "code",
      "metadata": {
        "id": "8ocw9huQEO3L",
        "outputId": "23a89263-5a31-4ad2-d96e-a861447381df",
        "colab": {
          "base_uri": "https://localhost:8080/"
        }
      },
      "source": [
        "reloaded = tf.saved_model.load(export_dir)\n",
        "reloaded_result = reloaded([my_examples['input_word_ids'],\n",
        "                            my_examples['input_mask'],\n",
        "                            my_examples['input_type_ids']], training=False)\n",
        "\n",
        "original_result = bert_classifier(my_examples, training=False)\n",
        "\n",
        "# The results are (nearly) identical:\n",
        "print(original_result.numpy())\n",
        "print()\n",
        "print(reloaded_result.numpy())"
      ],
      "execution_count": 35,
      "outputs": [
        {
          "output_type": "stream",
          "text": [
            "[[-1.8583963  1.3981539]\n",
            " [ 0.7069691 -0.6063954]]\n",
            "\n",
            "[[-1.8583964  1.398154 ]\n",
            " [ 0.7069691 -0.6063954]]\n"
          ],
          "name": "stdout"
        }
      ]
    },
    {
      "cell_type": "markdown",
      "metadata": {
        "id": "3cza4i6AFMZ2"
      },
      "source": [
        "**Appendix**\n",
        "\n",
        "Re-encoding a large dataset\n",
        "This tutorial you re-encoded the dataset in memory, for clarity.\n",
        "\n",
        "This was only possible because glue/mrpc is a very small dataset. To deal with larger datasets tf_models library includes some tools for processing and re-encoding a dataset for efficient training.\n",
        "\n",
        "The first step is to describe which features of the dataset should be transformed:"
      ]
    },
    {
      "cell_type": "code",
      "metadata": {
        "id": "NMm2dURhESIT"
      },
      "source": [
        "processor = nlp.data.classifier_data_lib.TfdsProcessor(\n",
        "    tfds_params=\"dataset=glue/mrpc,text_key=sentence1,text_b_key=sentence2\",\n",
        "    process_text_fn=bert.tokenization.convert_to_unicode)"
      ],
      "execution_count": 36,
      "outputs": []
    },
    {
      "cell_type": "markdown",
      "metadata": {
        "id": "K8iFe9z3Fffv"
      },
      "source": [
        "Then apply the transformation to generate new TFRecord files."
      ]
    },
    {
      "cell_type": "code",
      "metadata": {
        "id": "i8T6GmocFcuz"
      },
      "source": [
        "# Set up output of training and evaluation Tensorflow dataset\n",
        "train_data_output_path=\"./mrpc_train.tf_record\"\n",
        "eval_data_output_path=\"./mrpc_eval.tf_record\"\n",
        "\n",
        "max_seq_length = 128\n",
        "batch_size = 32\n",
        "eval_batch_size = 32\n",
        "\n",
        "# Generate and save training data into a tf record file\n",
        "input_meta_data = (\n",
        "    nlp.data.classifier_data_lib.generate_tf_record_from_data_file(\n",
        "      processor=processor,\n",
        "      data_dir=None,  # It is `None` because data is from tfds, not local dir.\n",
        "      tokenizer=tokenizer,\n",
        "      train_data_output_path=train_data_output_path,\n",
        "      eval_data_output_path=eval_data_output_path,\n",
        "      max_seq_length=max_seq_length))"
      ],
      "execution_count": 37,
      "outputs": []
    },
    {
      "cell_type": "markdown",
      "metadata": {
        "id": "Nrh0sBvxFueM"
      },
      "source": [
        "Finally create tf.data input pipelines from those TFRecord files:"
      ]
    },
    {
      "cell_type": "code",
      "metadata": {
        "id": "Nclv_kyWFpjL"
      },
      "source": [
        "training_dataset = bert.run_classifier.get_dataset_fn(\n",
        "    train_data_output_path,\n",
        "    max_seq_length,\n",
        "    batch_size,\n",
        "    is_training=True)()\n",
        "\n",
        "evaluation_dataset = bert.run_classifier.get_dataset_fn(\n",
        "    eval_data_output_path,\n",
        "    max_seq_length,\n",
        "    eval_batch_size,\n",
        "    is_training=False)()\n"
      ],
      "execution_count": 38,
      "outputs": []
    },
    {
      "cell_type": "markdown",
      "metadata": {
        "id": "6NyL0hZpGNw_"
      },
      "source": [
        "The resulting tf.data.Datasets return (features, labels) pairs, as expected by keras.Model.fit:"
      ]
    },
    {
      "cell_type": "code",
      "metadata": {
        "id": "ls2xWIKcGG17",
        "outputId": "2dae6a1b-bcd2-4619-a7af-685d251b12ac",
        "colab": {
          "base_uri": "https://localhost:8080/"
        }
      },
      "source": [
        "training_dataset.element_spec"
      ],
      "execution_count": 39,
      "outputs": [
        {
          "output_type": "execute_result",
          "data": {
            "text/plain": [
              "({'input_mask': TensorSpec(shape=(32, 128), dtype=tf.int32, name=None),\n",
              "  'input_type_ids': TensorSpec(shape=(32, 128), dtype=tf.int32, name=None),\n",
              "  'input_word_ids': TensorSpec(shape=(32, 128), dtype=tf.int32, name=None)},\n",
              " TensorSpec(shape=(32,), dtype=tf.int32, name=None))"
            ]
          },
          "metadata": {
            "tags": []
          },
          "execution_count": 39
        }
      ]
    },
    {
      "cell_type": "markdown",
      "metadata": {
        "id": "GpeBlJBsGXo2"
      },
      "source": [
        "Create tf.data.Dataset for training and evaluation\n",
        "\n",
        "If you need to modify the data loading here is some code to get you started:"
      ]
    },
    {
      "cell_type": "code",
      "metadata": {
        "id": "BkRSKBisGbnf"
      },
      "source": [
        "def create_classifier_dataset(file_path, seq_length, batch_size, is_training):\n",
        "  \"\"\"Creates input dataset from (tf)records files for train/eval.\"\"\"\n",
        "  dataset = tf.data.TFRecordDataset(file_path)\n",
        "  if is_training:\n",
        "    dataset = dataset.shuffle(100)\n",
        "    dataset = dataset.repeat()\n",
        "\n",
        "  def decode_record(record):\n",
        "    name_to_features = {\n",
        "      'input_ids': tf.io.FixedLenFeature([seq_length], tf.int64),\n",
        "      'input_mask': tf.io.FixedLenFeature([seq_length], tf.int64),\n",
        "      'segment_ids': tf.io.FixedLenFeature([seq_length], tf.int64),\n",
        "      'label_ids': tf.io.FixedLenFeature([], tf.int64),\n",
        "    }\n",
        "    return tf.io.parse_single_example(record, name_to_features)\n",
        "\n",
        "  def _select_data_from_record(record):\n",
        "    x = {\n",
        "        'input_word_ids': record['input_ids'],\n",
        "        'input_mask': record['input_mask'],\n",
        "        'input_type_ids': record['segment_ids']\n",
        "    }\n",
        "    y = record['label_ids']\n",
        "    return (x, y)\n",
        "\n",
        "  dataset = dataset.map(decode_record,\n",
        "                        num_parallel_calls=tf.data.experimental.AUTOTUNE)\n",
        "  dataset = dataset.map(\n",
        "      _select_data_from_record,\n",
        "      num_parallel_calls=tf.data.experimental.AUTOTUNE)\n",
        "  dataset = dataset.batch(batch_size, drop_remainder=is_training)\n",
        "  dataset = dataset.prefetch(tf.data.experimental.AUTOTUNE)\n",
        "  return dataset"
      ],
      "execution_count": 40,
      "outputs": []
    },
    {
      "cell_type": "code",
      "metadata": {
        "id": "aP3p0s69G1bj"
      },
      "source": [
        "# Set up batch sizes\n",
        "batch_size = 32\n",
        "eval_batch_size = 32\n",
        "\n",
        "# Return Tensorflow dataset\n",
        "training_dataset = create_classifier_dataset(\n",
        "    train_data_output_path,\n",
        "    input_meta_data['max_seq_length'],\n",
        "    batch_size,\n",
        "    is_training=True)\n",
        "\n",
        "evaluation_dataset = create_classifier_dataset(\n",
        "    eval_data_output_path,\n",
        "    input_meta_data['max_seq_length'],\n",
        "    eval_batch_size,\n",
        "    is_training=False)"
      ],
      "execution_count": 41,
      "outputs": []
    },
    {
      "cell_type": "code",
      "metadata": {
        "id": "NKpzQD9oG6-L",
        "outputId": "be44e0e5-469c-4a8f-f5f9-37c51c10e761",
        "colab": {
          "base_uri": "https://localhost:8080/"
        }
      },
      "source": [
        "training_dataset.element_spec"
      ],
      "execution_count": 42,
      "outputs": [
        {
          "output_type": "execute_result",
          "data": {
            "text/plain": [
              "({'input_mask': TensorSpec(shape=(32, 128), dtype=tf.int64, name=None),\n",
              "  'input_type_ids': TensorSpec(shape=(32, 128), dtype=tf.int64, name=None),\n",
              "  'input_word_ids': TensorSpec(shape=(32, 128), dtype=tf.int64, name=None)},\n",
              " TensorSpec(shape=(32,), dtype=tf.int64, name=None))"
            ]
          },
          "metadata": {
            "tags": []
          },
          "execution_count": 42
        }
      ]
    },
    {
      "cell_type": "markdown",
      "metadata": {
        "id": "OmW9Bk04G-71"
      },
      "source": [
        "**TFModels BERT on TFHub**\n",
        "\n",
        "You can get the BERT model off the shelf from TFHub. It would not be hard to add a classification head on top of this hub.KerasLayer"
      ]
    },
    {
      "cell_type": "code",
      "metadata": {
        "id": "l8gIalYIG-CE"
      },
      "source": [
        "# Note: 350MB download.\n",
        "import tensorflow_hub as hub"
      ],
      "execution_count": 43,
      "outputs": []
    },
    {
      "cell_type": "code",
      "metadata": {
        "id": "P6GltsGHHF2T"
      },
      "source": [
        "hub_model_name = \"bert_en_uncased_L-12_H-768_A-12\" "
      ],
      "execution_count": 44,
      "outputs": []
    },
    {
      "cell_type": "code",
      "metadata": {
        "id": "PzYGxh0_HJjj",
        "outputId": "5bfd8818-ea05-4937-8b0b-851d3fc98405",
        "colab": {
          "base_uri": "https://localhost:8080/"
        }
      },
      "source": [
        "hub_encoder = hub.KerasLayer(f\"https://tfhub.dev/tensorflow/{hub_model_name}/2\",\n",
        "                             trainable=True)\n",
        "\n",
        "print(f\"The Hub encoder has {len(hub_encoder.trainable_variables)} trainable variables\")"
      ],
      "execution_count": 45,
      "outputs": [
        {
          "output_type": "stream",
          "text": [
            "The Hub encoder has 199 trainable variables\n"
          ],
          "name": "stdout"
        }
      ]
    },
    {
      "cell_type": "markdown",
      "metadata": {
        "id": "LEspdmX1Hht9"
      },
      "source": [
        "Test run it on a batch of data:"
      ]
    },
    {
      "cell_type": "code",
      "metadata": {
        "id": "P0bPuK3cHNaC",
        "outputId": "80eb1080-0f7a-41ed-f9ce-e14e8d64f0d0",
        "colab": {
          "base_uri": "https://localhost:8080/"
        }
      },
      "source": [
        "result = hub_encoder(\n",
        "    inputs=[glue_train['input_word_ids'][:10],\n",
        "            glue_train['input_mask'][:10],\n",
        "            glue_train['input_type_ids'][:10],],\n",
        "    training=False,\n",
        ")\n",
        "\n",
        "print(\"Pooled output shape:\", result[0].shape)\n",
        "print(\"Sequence output shape:\", result[1].shape)"
      ],
      "execution_count": 46,
      "outputs": [
        {
          "output_type": "stream",
          "text": [
            "Pooled output shape: (10, 768)\n",
            "Sequence output shape: (10, 103, 768)\n"
          ],
          "name": "stdout"
        }
      ]
    },
    {
      "cell_type": "markdown",
      "metadata": {
        "id": "ATQBVSu7Ht0C"
      },
      "source": [
        "At this point it would be simple to add a classification head yourself.\n",
        "\n",
        "The bert_models.classifier_model function can also build a classifier onto the encoder from TensorFlow Hub:"
      ]
    },
    {
      "cell_type": "code",
      "metadata": {
        "id": "kTpCpFBcHk7i"
      },
      "source": [
        "hub_classifier, hub_encoder = bert.bert_models.classifier_model(\n",
        "    # Caution: Most of `bert_config` is ignored if you pass a hub url.\n",
        "    bert_config=bert_config, hub_module_url=hub_url_bert, num_labels=2)"
      ],
      "execution_count": 47,
      "outputs": []
    },
    {
      "cell_type": "markdown",
      "metadata": {
        "id": "LzDAa8ufH9M1"
      },
      "source": [
        "The one downside to loading this model from TFHub is that the structure of internal keras layers is not restored. So it's more difficult to inspect or modify the model. The TransformerEncoder model is now a single layer:"
      ]
    },
    {
      "cell_type": "code",
      "metadata": {
        "id": "2bz3DMpaHxOz",
        "outputId": "c58a6735-55ac-40b0-8d59-4fb435203569",
        "colab": {
          "base_uri": "https://localhost:8080/",
          "height": 287
        }
      },
      "source": [
        "tf.keras.utils.plot_model(hub_classifier, show_shapes=True, dpi=64)"
      ],
      "execution_count": 48,
      "outputs": [
        {
          "output_type": "execute_result",
          "data": {
            "image/png": "[encoded data removed]",
            "text/plain": [
              "<IPython.core.display.Image object>"
            ]
          },
          "metadata": {
            "tags": []
          },
          "execution_count": 48
        }
      ]
    },
    {
      "cell_type": "code",
      "metadata": {
        "id": "vWQjiK-sIApT",
        "outputId": "cfe487a2-b348-4dde-d79e-e34178625b86",
        "colab": {
          "base_uri": "https://localhost:8080/"
        }
      },
      "source": [
        "try:\n",
        "  tf.keras.utils.plot_model(hub_encoder, show_shapes=True, dpi=64)\n",
        "  assert False\n",
        "except Exception as e:\n",
        "  print(f\"{type(e).__name__}: {e}\")"
      ],
      "execution_count": 49,
      "outputs": [
        {
          "output_type": "stream",
          "text": [
            "AttributeError: 'KerasLayer' object has no attribute 'layers'\n"
          ],
          "name": "stdout"
        }
      ]
    },
    {
      "cell_type": "markdown",
      "metadata": {
        "id": "lbZ-ws95IQpK"
      },
      "source": [
        "**Low level model building**\n",
        "\n",
        "If you need a more control over the construction of the model it's worth noting that the classifier_model function used earlier is really just a thin wrapper over the nlp.modeling.networks.TransformerEncoder and nlp.modeling.models.BertClassifier classes. Just remember that if you start modifying the architecture it may not be correct or possible to reload the pre-trained checkpoint so you'll need to retrain from scratch.\n",
        "\n",
        "Build the encoder:"
      ]
    },
    {
      "cell_type": "code",
      "metadata": {
        "id": "lTxwBYiwIEIj",
        "outputId": "bb2840d6-56b0-45d3-c953-dfd1015912d3",
        "colab": {
          "base_uri": "https://localhost:8080/"
        }
      },
      "source": [
        "transformer_config = config_dict.copy()\n",
        "\n",
        "# You need to rename a few fields to make this work:\n",
        "transformer_config['attention_dropout_rate'] = transformer_config.pop('attention_probs_dropout_prob')\n",
        "transformer_config['activation'] = tf_utils.get_activation(transformer_config.pop('hidden_act'))\n",
        "transformer_config['dropout_rate'] = transformer_config.pop('hidden_dropout_prob')\n",
        "transformer_config['initializer'] = tf.keras.initializers.TruncatedNormal(\n",
        "          stddev=transformer_config.pop('initializer_range'))\n",
        "transformer_config['max_sequence_length'] = transformer_config.pop('max_position_embeddings')\n",
        "transformer_config['num_layers'] = transformer_config.pop('num_hidden_layers')\n",
        "\n",
        "transformer_config"
      ],
      "execution_count": 50,
      "outputs": [
        {
          "output_type": "execute_result",
          "data": {
            "text/plain": [
              "{'activation': <function official.modeling.activations.gelu.gelu>,\n",
              " 'attention_dropout_rate': 0.1,\n",
              " 'dropout_rate': 0.1,\n",
              " 'hidden_size': 768,\n",
              " 'initializer': <tensorflow.python.keras.initializers.initializers_v2.TruncatedNormal at 0x7f03d4ca5198>,\n",
              " 'intermediate_size': 3072,\n",
              " 'max_sequence_length': 512,\n",
              " 'num_attention_heads': 12,\n",
              " 'num_layers': 12,\n",
              " 'type_vocab_size': 2,\n",
              " 'vocab_size': 30522}"
            ]
          },
          "metadata": {
            "tags": []
          },
          "execution_count": 50
        }
      ]
    },
    {
      "cell_type": "code",
      "metadata": {
        "id": "ZyXGOGYKIjbx"
      },
      "source": [
        "manual_encoder = nlp.modeling.networks.TransformerEncoder(**transformer_config)"
      ],
      "execution_count": 51,
      "outputs": []
    },
    {
      "cell_type": "markdown",
      "metadata": {
        "id": "eE3AlCrOIzGh"
      },
      "source": [
        "Restore the weights:"
      ]
    },
    {
      "cell_type": "code",
      "metadata": {
        "id": "VXIYwUbrIuV6",
        "outputId": "45f3062d-e505-4f97-ac29-0d73c72e54de",
        "colab": {
          "base_uri": "https://localhost:8080/"
        }
      },
      "source": [
        "checkpoint = tf.train.Checkpoint(model=manual_encoder)\n",
        "checkpoint.restore(\n",
        "    os.path.join(gs_folder_bert, 'bert_model.ckpt')).assert_consumed()"
      ],
      "execution_count": 52,
      "outputs": [
        {
          "output_type": "execute_result",
          "data": {
            "text/plain": [
              "<tensorflow.python.training.tracking.util.CheckpointLoadStatus at 0x7f03d81ed4e0>"
            ]
          },
          "metadata": {
            "tags": []
          },
          "execution_count": 52
        }
      ]
    },
    {
      "cell_type": "markdown",
      "metadata": {
        "id": "wsRlZ98pI9yZ"
      },
      "source": [
        "Test run it:"
      ]
    },
    {
      "cell_type": "code",
      "metadata": {
        "id": "WL1ZGn2wI5xC"
      },
      "source": [
        "result = manual_encoder(my_examples, training=True)\n",
        "\n",
        "print(\"Sequence output shape:\", result[0].shape)\n",
        "print(\"Pooled output shape:\", result[1].shape)"
      ],
      "execution_count": null,
      "outputs": []
    },
    {
      "cell_type": "markdown",
      "metadata": {
        "id": "4UqUHlAQJEJD"
      },
      "source": [
        "Wrap it in a classifier:"
      ]
    },
    {
      "cell_type": "code",
      "metadata": {
        "id": "JNq_iiXzJAqC"
      },
      "source": [
        "manual_classifier = nlp.modeling.models.BertClassifier(\n",
        "        bert_encoder,\n",
        "        num_classes=2,\n",
        "        dropout_rate=transformer_config['dropout_rate'],\n",
        "        initializer=tf.keras.initializers.TruncatedNormal(\n",
        "          stddev=bert_config.initializer_range))"
      ],
      "execution_count": 55,
      "outputs": []
    },
    {
      "cell_type": "code",
      "metadata": {
        "id": "gRq-vrLWJGtx",
        "outputId": "8bd9b438-7420-4d80-e61b-653cd47e1038",
        "colab": {
          "base_uri": "https://localhost:8080/"
        }
      },
      "source": [
        "manual_classifier(my_examples, training=True).numpy()"
      ],
      "execution_count": 56,
      "outputs": [
        {
          "output_type": "execute_result",
          "data": {
            "text/plain": [
              "array([[-0.58063656,  0.13680172],\n",
              "       [-0.02252352, -0.14441389]], dtype=float32)"
            ]
          },
          "metadata": {
            "tags": []
          },
          "execution_count": 56
        }
      ]
    },
    {
      "cell_type": "markdown",
      "metadata": {
        "id": "wCQJYbpAJhPG"
      },
      "source": [
        "**Optimizers and schedules**\n",
        "\n",
        "The optimizer used to train the model was created using the nlp.optimization.create_optimizer function:"
      ]
    },
    {
      "cell_type": "code",
      "metadata": {
        "id": "ujxzU6SBJZ5K"
      },
      "source": [
        "optimizer = nlp.optimization.create_optimizer(\n",
        "    2e-5, num_train_steps=num_train_steps, num_warmup_steps=warmup_steps)"
      ],
      "execution_count": 57,
      "outputs": []
    },
    {
      "cell_type": "markdown",
      "metadata": {
        "id": "PhzSPWaGKob3"
      },
      "source": [
        "That high level wrapper sets up the learning rate schedules and the optimizer.\n",
        "\n",
        "The base learning rate schedule used here is a linear decay to zero over the training run:"
      ]
    },
    {
      "cell_type": "code",
      "metadata": {
        "id": "xsdYtuC4KjGa"
      },
      "source": [
        "epochs = 3\n",
        "batch_size = 32\n",
        "eval_batch_size = 32\n",
        "\n",
        "train_data_size = len(glue_train_labels)\n",
        "steps_per_epoch = int(train_data_size / batch_size)\n",
        "num_train_steps = steps_per_epoch * epochs"
      ],
      "execution_count": 58,
      "outputs": []
    },
    {
      "cell_type": "code",
      "metadata": {
        "id": "33WEPlvOKusB",
        "outputId": "22af7477-5bc5-4786-acd2-3a1269623e2b",
        "colab": {
          "base_uri": "https://localhost:8080/",
          "height": 294
        }
      },
      "source": [
        "decay_schedule = tf.keras.optimizers.schedules.PolynomialDecay(\n",
        "      initial_learning_rate=2e-5,\n",
        "      decay_steps=num_train_steps,\n",
        "      end_learning_rate=0)\n",
        "\n",
        "plt.plot([decay_schedule(n) for n in range(num_train_steps)])"
      ],
      "execution_count": 59,
      "outputs": [
        {
          "output_type": "execute_result",
          "data": {
            "text/plain": [
              "[<matplotlib.lines.Line2D at 0x7f03d86a4320>]"
            ]
          },
          "metadata": {
            "tags": []
          },
          "execution_count": 59
        },
        {
          "output_type": "display_data",
          "data": {
            "image/png": "[encoded data removed]",
            "text/plain": [
              "<Figure size 432x288 with 1 Axes>"
            ]
          },
          "metadata": {
            "tags": [],
            "needs_background": "light"
          }
        }
      ]
    },
    {
      "cell_type": "markdown",
      "metadata": {
        "id": "8t7Nf3cAK26d"
      },
      "source": [
        "This, in turn is wrapped in a WarmUp schedule that linearly increases the learning rate to the target value over the first 10% of training:"
      ]
    },
    {
      "cell_type": "code",
      "metadata": {
        "id": "RX34pzu2KxXB",
        "outputId": "4e437f41-2bed-4e30-8cd1-4693731c9dd8",
        "colab": {
          "base_uri": "https://localhost:8080/",
          "height": 294
        }
      },
      "source": [
        "warmup_steps = num_train_steps * 0.1\n",
        "\n",
        "warmup_schedule = nlp.optimization.WarmUp(\n",
        "        initial_learning_rate=2e-5,\n",
        "        decay_schedule_fn=decay_schedule,\n",
        "        warmup_steps=warmup_steps)\n",
        "\n",
        "# The warmup overshoots, because it warms up to the `initial_learning_rate`\n",
        "# following the original implementation. You can set\n",
        "# `initial_learning_rate=decay_schedule(warmup_steps)` if you don't like the\n",
        "# overshoot.\n",
        "plt.plot([warmup_schedule(n) for n in range(num_train_steps)])"
      ],
      "execution_count": 60,
      "outputs": [
        {
          "output_type": "execute_result",
          "data": {
            "text/plain": [
              "[<matplotlib.lines.Line2D at 0x7f03d86f0f28>]"
            ]
          },
          "metadata": {
            "tags": []
          },
          "execution_count": 60
        },
        {
          "output_type": "display_data",
          "data": {
            "image/png": "[encoded data removed]",
            "text/plain": [
              "<Figure size 432x288 with 1 Axes>"
            ]
          },
          "metadata": {
            "tags": [],
            "needs_background": "light"
          }
        }
      ]
    },
    {
      "cell_type": "code",
      "metadata": {
        "id": "eQX-GGF3K936"
      },
      "source": [
        "# Then create the nlp.optimization.AdamWeightDecay using that schedule, configured for the BERT model:\n",
        "\n",
        "optimizer = nlp.optimization.AdamWeightDecay(\n",
        "        learning_rate=warmup_schedule,\n",
        "        weight_decay_rate=0.01,\n",
        "        epsilon=1e-6,\n",
        "        exclude_from_weight_decay=['LayerNorm', 'layer_norm', 'bias'])"
      ],
      "execution_count": 61,
      "outputs": []
    },
    {
      "cell_type": "code",
      "metadata": {
        "id": "TGJ0pz6ILEgZ"
      },
      "source": [
        ""
      ],
      "execution_count": null,
      "outputs": []
    }
  ]
}