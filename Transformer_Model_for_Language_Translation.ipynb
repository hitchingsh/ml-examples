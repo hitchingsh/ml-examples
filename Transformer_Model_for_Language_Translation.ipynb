{
  "nbformat": 4,
  "nbformat_minor": 0,
  "metadata": {
    "accelerator": "GPU",
    "colab": {
      "name": "Portugese_Transformer_Model_for_Language_Translation_v2.ipynb",
      "provenance": [],
      "collapsed_sections": [],
      "machine_shape": "hm"
    },
    "kernelspec": {
      "display_name": "Python 3",
      "name": "python3"
    }
  },
  "cells": [
    {
      "cell_type": "markdown",
      "metadata": {
        "id": "J0Qjg6vuaHNt"
      },
      "source": [
        "# Transformer model for language understanding\n",
        "\n",
        "Modified from: \n",
        "* https://www.tensorflow.org/tutorials/tensorflow_text/subwords_tokenizer\n",
        "* https://www.tensorflow.org/tutorials/text/transformer\n",
        "\n",
        "which are:\n",
        "* Copyright 2019 The TensorFlow Authors.\n",
        "* Licensed under the Apache License, Version 2.0 (the \"License\");"
      ]
    },
    {
      "cell_type": "markdown",
      "metadata": {
        "id": "M-f8TnGpE_ex"
      },
      "source": [
        "### Introduction\n",
        "This tutorial trains a <a href=\"https://arxiv.org/abs/1706.03762\" class=\"external\">Transformer model</a> to translate a [Portuguese to English dataset](https://www.tensorflow.org/datasets/catalog/ted_hrlr_translate#ted_hrlr_translatept_to_en). This is an advanced example that assumes knowledge of [text generation](text_generation.ipynb) and [attention](nmt_with_attention.ipynb).\n",
        "\n",
        "The core idea behind the Transformer model is *self-attention*—the ability to attend to different positions of the input sequence to compute a representation of that sequence. Transformer creates stacks of self-attention layers and is explained below in the sections *Scaled dot product attention* and *Multi-head attention*.\n",
        "\n",
        "A transformer model handles variable-sized input using stacks of self-attention layers instead of [RNNs](text_classification_rnn.ipynb) or [CNNs](../images/intro_to_cnns.ipynb). This general architecture has a number of advantages:\n",
        "\n",
        "* It makes no assumptions about the temporal/spatial relationships across the data. This is ideal for processing a set of objects (for example, [StarCraft units](https://deepmind.com/blog/alphastar-mastering-real-time-strategy-game-starcraft-ii/#block-8)).\n",
        "* Layer outputs can be calculated in parallel, instead of a series like an RNN.\n",
        "* Distant items can affect each other's output without passing through many RNN-steps, or convolution layers (see [Scene Memory Transformer](https://arxiv.org/pdf/1903.03878.pdf) for example).\n",
        "* It can learn long-range dependencies. This is a challenge in many sequence tasks.\n",
        "\n",
        "The downsides of this architecture are:\n",
        "\n",
        "* For a time-series, the output for a time-step is calculated from the *entire history* instead of only the inputs and current hidden-state. This _may_ be less efficient.   \n",
        "* If the input *does* have a  temporal/spatial relationship, like text, some positional encoding must be added or the model will effectively see a bag of words. \n",
        "\n",
        "After training the model in this notebook, you will be able to input a Portuguese sentence and return the English translation.\n",
        "\n",
        "<img src=\"https://www.tensorflow.org/images/tutorials/transformer/attention_map_portuguese.png\" width=\"800\" alt=\"Attention heatmap\">"
      ]
    },
    {
      "cell_type": "markdown",
      "metadata": {
        "id": "swymtxpl7W7w"
      },
      "source": [
        "## Setup"
      ]
    },
    {
      "cell_type": "code",
      "metadata": {
        "colab": {
          "base_uri": "https://localhost:8080/"
        },
        "id": "Y8bCdfgffWaI",
        "outputId": "449997fa-7c68-46b2-88f0-e85a04d8ced2"
      },
      "source": [
        "from google.colab import drive # Load the Drive helper and mount\n",
        "\n",
        "drive.mount('/content/drive') # This will prompt for authorization"
      ],
      "execution_count": 1,
      "outputs": [
        {
          "output_type": "stream",
          "text": [
            "Mounted at /content/drive\n"
          ],
          "name": "stdout"
        }
      ]
    },
    {
      "cell_type": "code",
      "metadata": {
        "id": "N7d-aQHe-Drc"
      },
      "source": [
        "BASE_MODEL_PATH = 'drive/MyDrive/models/transformer_port_eng_v2'\n",
        "BASE_DATA_PATH = 'drive/MyDrive/data/transformer_port_eng_v2'\n",
        "CONVERTER_MODEL_NAME = 'ted_hrlr_translate_pt_en_converter'\n",
        "build_tokenizer = False"
      ],
      "execution_count": 2,
      "outputs": []
    },
    {
      "cell_type": "code",
      "metadata": {
        "id": "Jxltg25gGW4b"
      },
      "source": [
        "#Cleanup for a fresh start\n",
        "#!rm -rf drive/MyDrive/data/downloads/*\n",
        "#!rm -Rf $BASE_MODEL_PATH/*\n",
        "#!rm -Rf $BASE_DATA_PATH/*"
      ],
      "execution_count": 3,
      "outputs": []
    },
    {
      "cell_type": "code",
      "metadata": {
        "id": "stbhlFyy8uAJ"
      },
      "source": [
        "import os.path\n",
        "from os import path"
      ],
      "execution_count": 4,
      "outputs": []
    },
    {
      "cell_type": "code",
      "metadata": {
        "id": "aT9KihWb8wYs"
      },
      "source": [
        "if not path.exists(BASE_MODEL_PATH):\n",
        "  os.mkdir(BASE_MODEL_PATH)\n",
        "  print(f'Created model directory {base_model_dir}')\n",
        "\n",
        "if not path.exists(BASE_DATA_PATH):\n",
        "  os.mkdir(BASE_DATA_PATH)\n",
        "  print(f'Created model directory {base_data_dir}')"
      ],
      "execution_count": 5,
      "outputs": []
    },
    {
      "cell_type": "code",
      "metadata": {
        "colab": {
          "base_uri": "https://localhost:8080/"
        },
        "id": "N7EGyH-wUsD2",
        "outputId": "f1f5e514-cce0-4087-8441-60f064008095"
      },
      "source": [
        "print(BASE_MODEL_PATH)\n",
        "!ls $BASE_MODEL_PATH\n",
        "print(BASE_DATA_PATH)\n",
        "!ls $BASE_DATA_PATH"
      ],
      "execution_count": 6,
      "outputs": [
        {
          "output_type": "stream",
          "text": [
            "drive/MyDrive/models/transformer_port_eng_v2\n",
            "ted_hrlr_translate_pt_en_converter\n",
            "drive/MyDrive/data/transformer_port_eng_v2\n",
            "downloads  en_vocab.txt  pt_vocab.txt  ted_hrlr_translate\n"
          ],
          "name": "stdout"
        }
      ]
    },
    {
      "cell_type": "code",
      "metadata": {
        "id": "iokc5Qt9Bt88"
      },
      "source": [
        "import collections\n",
        "import logging\n",
        "import os\n",
        "import pathlib\n",
        "import re\n",
        "import string\n",
        "import sys\n",
        "import time\n",
        "\n",
        "import numpy as np\n",
        "import matplotlib.pyplot as plt\n",
        "\n",
        "from nltk.translate.bleu_score import sentence_bleu"
      ],
      "execution_count": 7,
      "outputs": []
    },
    {
      "cell_type": "code",
      "metadata": {
        "colab": {
          "base_uri": "https://localhost:8080/"
        },
        "id": "_fH1o90m-BUv",
        "outputId": "a0b40b43-87c9-4ed4-c272-9a46f06535d1"
      },
      "source": [
        "if not path.exists(BASE_MODEL_PATH + '/' + CONVERTER_MODEL_NAME):\n",
        "  build_tokenizer = True\n",
        "  print(f\"Building tokenizer since not found at {BASE_MODEL_PATH}/{CONVERTER_MODEL_NAME}\")\n",
        "\n",
        "  # `BertTokenizer.detokenize` is not in `tf-text` stable yet (currently 2.4.3).\n",
        "  os.system(\"pip install -q tensorflow_text_nightly > /tmp/out.txt\")\n",
        "\n",
        "  # tf-text-nightly resquires tf-nightly\n",
        "  os.system(\"pip install -q tf-nightly >> /tmp/out.txt\")\n",
        "\n",
        "  # Generate the vocabulary\n",
        "  os.system(\"cat /tmp/out.txt\")\n",
        "else:\n",
        "  build_tokenizer = False\n",
        "  print(f\"Tokenizer already exists at {BASE_MODEL_PATH}/{CONVERTER_MODEL_NAME}\")\n",
        "  os.system(\"pip install -q tensorflow_text > /tmp/out.txt\")\n",
        "  os.system(\"cat /tmp/out.txt\")"
      ],
      "execution_count": 8,
      "outputs": [
        {
          "output_type": "stream",
          "text": [
            "Tokenizer already exists at drive/MyDrive/models/transformer_port_eng_v2/ted_hrlr_translate_pt_en_converter\n"
          ],
          "name": "stdout"
        }
      ]
    },
    {
      "cell_type": "code",
      "metadata": {
        "id": "JjJJyJTZYebt"
      },
      "source": [
        "import tensorflow as tf\n",
        "import tensorflow_datasets as tfds\n",
        "\n",
        "import tensorflow_text as text\n",
        "\n",
        "if build_tokenizer:\n",
        "  # Generate the vocabulary\n",
        "  from tensorflow_text.tools.wordpiece_vocab import bert_vocab_from_dataset as bert_vocab"
      ],
      "execution_count": 9,
      "outputs": []
    },
    {
      "cell_type": "code",
      "metadata": {
        "id": "pXzVhU34zWEU"
      },
      "source": [
        "logging.getLogger('tensorflow').setLevel(logging.ERROR)  # suppress warnings"
      ],
      "execution_count": 10,
      "outputs": []
    },
    {
      "cell_type": "markdown",
      "metadata": {
        "id": "-cCvXbPkccV1"
      },
      "source": [
        "## Download the Dataset"
      ]
    },
    {
      "cell_type": "markdown",
      "metadata": {
        "id": "t4_Qt8W1hJE_"
      },
      "source": [
        "Use [TensorFlow datasets](https://www.tensorflow.org/datasets) to load the [Portuguese-English translation dataset](https://github.com/neulab/word-embeddings-for-nmt) from the [TED Talks Open Translation Project](https://www.ted.com/participate/translate).\n",
        "\n",
        "This dataset contains approximately 50000 training examples, 1100 validation examples, and 2000 test examples."
      ]
    },
    {
      "cell_type": "code",
      "metadata": {
        "id": "8q9t4FmN96eN"
      },
      "source": [
        "examples, metadata = tfds.load('ted_hrlr_translate/pt_to_en', with_info=True,\n",
        "                               as_supervised=True, data_dir=BASE_DATA_PATH)\n",
        "train_examples, val_examples, test_examples = examples['train'], examples['validation'], examples['test']"
      ],
      "execution_count": 11,
      "outputs": []
    },
    {
      "cell_type": "markdown",
      "metadata": {
        "id": "1OnwQZ2IpTbl"
      },
      "source": [
        "The `tf.data.Dataset` object returned by TensorFlow datasets yields pairs of text examples:"
      ]
    },
    {
      "cell_type": "code",
      "metadata": {
        "id": "AtuMLTQGlHZ1",
        "colab": {
          "base_uri": "https://localhost:8080/"
        },
        "outputId": "dbf8919c-d7de-45d0-8e41-8ae90f314c87"
      },
      "source": [
        "for pt_examples, en_examples in train_examples.batch(3).take(1):\n",
        "  for pt in pt_examples.numpy():\n",
        "    print(pt.decode('utf-8'))\n",
        "\n",
        "  print()\n",
        "\n",
        "  for en in en_examples.numpy():\n",
        "    print(en.decode('utf-8'))"
      ],
      "execution_count": 12,
      "outputs": [
        {
          "output_type": "stream",
          "text": [
            "e quando melhoramos a procura , tiramos a única vantagem da impressão , que é a serendipidade .\n",
            "mas e se estes fatores fossem ativos ?\n",
            "mas eles não tinham a curiosidade de me testar .\n",
            "\n",
            "and when you improve searchability , you actually take away the one advantage of print , which is serendipity .\n",
            "but what if it were active ?\n",
            "but they did n't test for curiosity .\n"
          ],
          "name": "stdout"
        }
      ]
    },
    {
      "cell_type": "markdown",
      "metadata": {
        "id": "eJxTd6aVnZyh"
      },
      "source": [
        "## Text tokenization & detokenization\n",
        "\n",
        "For more detail on how to build the tokenizer and detokenizer see: https://www.tensorflow.org/tutorials/tensorflow_text/subwords_tokenizer"
      ]
    },
    {
      "cell_type": "markdown",
      "metadata": {
        "id": "WlHAFNaopq6U"
      },
      "source": [
        "You can't train a model directly on text. The text needs to be converted some numeric representation first. Typically you convert the text to sequences of token IDs, which are as indexes into an embedding."
      ]
    },
    {
      "cell_type": "markdown",
      "metadata": {
        "id": "2sPvbCEePzOC"
      },
      "source": [
        "START = tf.argmax(tf.constant(reserved_tokens) == \"[START]\")\n",
        "END = tf.argmax(tf.constant(reserved_tokens) == \"[END]\")\n",
        "\n",
        "def add_start_end(ragged):\n",
        "  count = ragged.bounding_shape()[0]\n",
        "  starts = tf.fill([count,1], START)\n",
        "  ends = tf.fill([count,1], END)\n",
        "  return tf.concat([starts, ragged, ends], axis=1)One popular implementation is demonstrated in the [Subword tokenizer tutorial](https://www.tensorflow.org/tutorials/tensorflow_text/subwords_tokenizer) builds subword tokenizers (`text.BertTokenizer`) optimized for this dataset and exports them in a [saved_model](https://www.tensorflow.org/guide/saved_model). \n",
        "\n",
        "Download and unzip and import the `saved_model`:"
      ]
    },
    {
      "cell_type": "code",
      "metadata": {
        "id": "o4hh67jg8RMs"
      },
      "source": [
        "reserved_tokens=[\"[PAD]\", \"[UNK]\", \"[START]\", \"[END]\"]\n",
        "\n",
        "START = tf.argmax(tf.constant(reserved_tokens) == \"[START]\")\n",
        "END = tf.argmax(tf.constant(reserved_tokens) == \"[END]\")\n",
        "\n",
        "def add_start_end(ragged):\n",
        "  global START, END\n",
        "  count = ragged.bounding_shape()[0]\n",
        "  starts = tf.fill([count,1], START)\n",
        "  ends = tf.fill([count,1], END)\n",
        "  return tf.concat([starts, ragged, ends], axis=1)\n",
        "\n",
        "def write_vocab_file(filepath, vocab):\n",
        "  global base_path\n",
        "  with open(BASE_DATA_PATH + '/' + filepath, 'w') as f:\n",
        "    for token in vocab:\n",
        "      print(token, file=f)\n",
        "\n",
        "\n",
        "def write_vocab_files():\n",
        "  global reserved_tokens\n",
        "  bert_tokenizer_params=dict(lower_case=True)\n",
        "\n",
        "  bert_vocab_args = dict(\n",
        "      # The target vocabulary size\n",
        "      vocab_size = 8300,\n",
        "      # Reserved tokens that must be included in the vocabulary\n",
        "      reserved_tokens=reserved_tokens,\n",
        "      # Arguments for `text.BertTokenizer`\n",
        "      bert_tokenizer_params=bert_tokenizer_params,\n",
        "      # Arguments for `wordpiece_vocab.wordpiece_tokenizer_learner_lib.learn`\n",
        "      learn_params={},\n",
        "  )\n",
        "\n",
        "  train_en = train_examples.map(lambda pt, en: en)\n",
        "  train_pt = train_examples.map(lambda pt, en: pt)\n",
        "\n",
        "  %%time\n",
        "  pt_vocab = bert_vocab.bert_vocab_from_dataset(\n",
        "      train_pt.batch(1000).prefetch(2),\n",
        "      **bert_vocab_args\n",
        "  )\n",
        "\n",
        "  write_vocab_file('pt_vocab.txt', pt_vocab)\n",
        "\n",
        "  %%time\n",
        "  en_vocab = bert_vocab.bert_vocab_from_dataset(\n",
        "      train_en.batch(1000).prefetch(2),\n",
        "      **bert_vocab_args\n",
        "  )\n",
        "\n",
        "  write_vocab_file('en_vocab.txt', en_vocab)\n",
        "\n",
        "def cleanup_text(reserved_tokens, token_txt):\n",
        "  # Generate clean text output, so drop reserved tokens like [START], [END] and [PAD].\n",
        "  # apply a string join along the words axis of the result.\n",
        "\n",
        "  # Drop the reserved tokens, except for \"[UNK]\".\n",
        "  bad_tokens = [re.escape(tok) for tok in reserved_tokens if tok != \"[UNK]\"]\n",
        "  bad_token_re = \"|\".join(bad_tokens)\n",
        "\n",
        "  bad_cells = tf.strings.regex_full_match(token_txt, bad_token_re)\n",
        "  result = tf.ragged.boolean_mask(token_txt, ~bad_cells)\n",
        "\n",
        "  # Join them into strings.\n",
        "  result = tf.strings.reduce_join(result, separator=' ', axis=-1)\n",
        "\n",
        "  return result\n",
        "\n",
        "def build_bert_tokenizer():\n",
        "  pt_tokenizer = text.BertTokenizer(BASE_DATA_PATH + '/' + 'pt_vocab.txt', **bert_tokenizer_params)\n",
        "  en_tokenizer = text.BertTokenizer(BASE_DATA_PATH + '/' + 'en_vocab.txt', **bert_tokenizer_params)\n",
        "\n",
        "  # Run it through the BertTokenizer.tokenize method. Initially, this returns a \n",
        "  # tf.RaggedTensor with axes (batch, word, word-piece):*italicized text*\n",
        "\n",
        "  # Custom detokenization\n",
        "  # Tokenize the examples -> (batch, word, word-piece)\n",
        "  # Merge the word and word-piece axes -> (batch, tokens)\n",
        "  token_batch = en_tokenizer.tokenize(en_examples).merge_dims(-2,-1)\n",
        "  words = en_tokenizer.detokenize(token_batch)"
      ],
      "execution_count": 13,
      "outputs": []
    },
    {
      "cell_type": "markdown",
      "metadata": {
        "id": "zo8zllGfBpVw"
      },
      "source": [
        "### Export Custom BERT Tokenizer\n",
        "The following code block builds a CustomTokenizer class to contain the text.BertTokenizer instances, the custom logic, and the @tf.function wrappers required for export."
      ]
    },
    {
      "cell_type": "code",
      "metadata": {
        "id": "WvLuOw9HBsR1"
      },
      "source": [
        "class CustomTokenizer(tf.Module):\n",
        "  def __init__(self, reserved_tokens, vocab_path):\n",
        "    self.tokenizer = text.BertTokenizer(vocab_path, lower_case=True)\n",
        "    self._reserved_tokens = reserved_tokens\n",
        "    self._vocab_path = tf.saved_model.Asset(vocab_path)\n",
        "\n",
        "    vocab = pathlib.Path(vocab_path).read_text().splitlines()\n",
        "    self.vocab = tf.Variable(vocab)\n",
        "\n",
        "    ## Create the signatures for export:   \n",
        "\n",
        "    # Include a tokenize signature for a batch of strings. \n",
        "    self.tokenize.get_concrete_function(\n",
        "        tf.TensorSpec(shape=[None], dtype=tf.string))\n",
        "\n",
        "    # Include `detokenize` and `lookup` signatures for:\n",
        "    #   * `Tensors` with shapes [tokens] and [batch, tokens]\n",
        "    #   * `RaggedTensors` with shape [batch, tokens]\n",
        "    self.detokenize.get_concrete_function(\n",
        "        tf.TensorSpec(shape=[None, None], dtype=tf.int64))\n",
        "    self.detokenize.get_concrete_function(\n",
        "          tf.RaggedTensorSpec(shape=[None, None], dtype=tf.int64))\n",
        "\n",
        "    self.lookup.get_concrete_function(\n",
        "        tf.TensorSpec(shape=[None, None], dtype=tf.int64))\n",
        "    self.lookup.get_concrete_function(\n",
        "          tf.RaggedTensorSpec(shape=[None, None], dtype=tf.int64))\n",
        "\n",
        "    # These `get_*` methods take no arguments\n",
        "    self.get_vocab_size.get_concrete_function()\n",
        "    self.get_vocab_path.get_concrete_function()\n",
        "    self.get_reserved_tokens.get_concrete_function()\n",
        "\n",
        "  @tf.function\n",
        "  def tokenize(self, strings):\n",
        "    enc = self.tokenizer.tokenize(strings)\n",
        "    # Merge the `word` and `word-piece` axes.\n",
        "    enc = enc.merge_dims(-2,-1)\n",
        "    enc = add_start_end(enc)\n",
        "    return enc\n",
        "\n",
        "  @tf.function\n",
        "  def detokenize(self, tokenized):\n",
        "    words = self.tokenizer.detokenize(tokenized)\n",
        "    return cleanup_text(self._reserved_tokens, words)\n",
        "\n",
        "  @tf.function\n",
        "  def lookup(self, token_ids):\n",
        "    return tf.gather(self.vocab, token_ids)\n",
        "\n",
        "  @tf.function\n",
        "  def get_vocab_size(self):\n",
        "    return tf.shape(self.vocab)[0]\n",
        "\n",
        "  @tf.function\n",
        "  def get_vocab_path(self):\n",
        "    return self._vocab_path\n",
        "\n",
        "  @tf.function\n",
        "  def get_reserved_tokens(self):\n",
        "    return tf.constant(self._reserved_tokens)"
      ],
      "execution_count": 14,
      "outputs": []
    },
    {
      "cell_type": "markdown",
      "metadata": {
        "id": "ApPdrUeICGhO"
      },
      "source": [
        "Build a CustomTokenizer for each language:"
      ]
    },
    {
      "cell_type": "code",
      "metadata": {
        "id": "uZxcjOoyCIXv"
      },
      "source": [
        "def build_custom_tokenizers():\n",
        "  tokenizers = tf.Module()\n",
        "  tokenizers.pt = CustomTokenizer(reserved_tokens, BASE_DATA_PATH + '/' + 'pt_vocab.txt')\n",
        "  tokenizers.en = CustomTokenizer(reserved_tokens, BASE_DATA_PATH + '/' + 'en_vocab.txt')\n",
        "\n",
        "  # Export the tokenizers as a saved_model:\n",
        "  tf.saved_model.save(tokenizers, BASE_MODEL_PATH + '/' + CONVERTER_MODEL_NAME)\n",
        "\n",
        "  # Generate the vocabulary\n",
        "  os.system(\"zip -r $BASE_MODEL_PATH/{BASE_MODEL_PATH}.zip $BASE_MODEL_PATH/{CONVERTER_MODEL_NAME} > /tmp/out.txt\")\n",
        "  os.system(\"cat /tmp/out.txt\")\n",
        "\n",
        "  return tokenizers"
      ],
      "execution_count": 15,
      "outputs": []
    },
    {
      "cell_type": "code",
      "metadata": {
        "colab": {
          "base_uri": "https://localhost:8080/"
        },
        "id": "8Lj7eBayXIUI",
        "outputId": "a6dfacfa-a763-45fd-a14a-fd9bd9340952"
      },
      "source": [
        "if build_tokenizer:\n",
        "  global BASE_MODEL_PATH, CONVERTER_MODEL_NAME\n",
        "  print(\"writing vocab files\")\n",
        "  write_vocab_files()\n",
        "  print(\"building custom BERT tokenizer\")\n",
        "  tokenizers = build_custom_tokenizers()\n",
        "else:\n",
        "  tokenizers = reloaded_tokenizers = tf.saved_model.load(BASE_MODEL_PATH + '/' + CONVERTER_MODEL_NAME)\n",
        "  reloaded_tokenizers.en.get_vocab_size().numpy()\n",
        "  print(f\"Loaded custom BERT tokenizer from {BASE_MODEL_PATH}/{CONVERTER_MODEL_NAME}\")"
      ],
      "execution_count": 16,
      "outputs": [
        {
          "output_type": "stream",
          "text": [
            "Loaded custom BERT tokenizer from drive/MyDrive/models/transformer_port_eng_v2/ted_hrlr_translate_pt_en_converter\n"
          ],
          "name": "stdout"
        }
      ]
    },
    {
      "cell_type": "code",
      "metadata": {
        "colab": {
          "base_uri": "https://localhost:8080/"
        },
        "id": "B5upfRpqKPoD",
        "outputId": "af59980b-dc93-444c-af04-d336839a0b23"
      },
      "source": [
        "!ls -l $BASE_MODEL_PATH"
      ],
      "execution_count": 17,
      "outputs": [
        {
          "output_type": "stream",
          "text": [
            "total 4\n",
            "drwx------ 4 root root 4096 Mar 26 21:36 ted_hrlr_translate_pt_en_converter\n"
          ],
          "name": "stdout"
        }
      ]
    },
    {
      "cell_type": "markdown",
      "metadata": {
        "id": "KQYc0CJTpnvg"
      },
      "source": [
        "The `tf.saved_model` contains two text tokenizers, one for English and one for Portugese. Both have the same methods:"
      ]
    },
    {
      "cell_type": "code",
      "metadata": {
        "id": "s-PCJijfcZ9_",
        "colab": {
          "base_uri": "https://localhost:8080/"
        },
        "outputId": "113ed9c8-fe33-45aa-bef2-fb47fd8f72d9"
      },
      "source": [
        "[item for item in dir(tokenizers.en) if not item.startswith('_')]"
      ],
      "execution_count": 18,
      "outputs": [
        {
          "output_type": "execute_result",
          "data": {
            "text/plain": [
              "['detokenize',\n",
              " 'get_reserved_tokens',\n",
              " 'get_vocab_path',\n",
              " 'get_vocab_size',\n",
              " 'lookup',\n",
              " 'tokenize',\n",
              " 'tokenizer',\n",
              " 'vocab']"
            ]
          },
          "metadata": {
            "tags": []
          },
          "execution_count": 18
        }
      ]
    },
    {
      "cell_type": "markdown",
      "metadata": {
        "id": "-pv_nc5lrAiD"
      },
      "source": [
        "The `tokenize` method converts a batch of strings to a padded-batch of token IDs. This method splits punctuation, lowercases and unicode-normalizes the input before tokenizing. That standardization is not visible here because the input data is already standardized."
      ]
    },
    {
      "cell_type": "code",
      "metadata": {
        "id": "0GV-smAAQJtM",
        "colab": {
          "base_uri": "https://localhost:8080/"
        },
        "outputId": "bf685e8b-6c6d-44c4-ac66-b8c8f7306611"
      },
      "source": [
        "for en in en_examples.numpy():\n",
        "  print(en.decode('utf-8'))"
      ],
      "execution_count": 19,
      "outputs": [
        {
          "output_type": "stream",
          "text": [
            "and when you improve searchability , you actually take away the one advantage of print , which is serendipity .\n",
            "but what if it were active ?\n",
            "but they did n't test for curiosity .\n"
          ],
          "name": "stdout"
        }
      ]
    },
    {
      "cell_type": "code",
      "metadata": {
        "id": "2fQJq1xB-tOn",
        "colab": {
          "base_uri": "https://localhost:8080/"
        },
        "outputId": "6ff4c3b0-f4a6-4ebc-a267-002948f93e81"
      },
      "source": [
        "encoded = tokenizers.en.tokenize(en_examples)\n",
        "\n",
        "for row in encoded.to_list():\n",
        "  print(row)"
      ],
      "execution_count": 20,
      "outputs": [
        {
          "output_type": "stream",
          "text": [
            "[2, 72, 117, 79, 1259, 1491, 2362, 13, 79, 150, 184, 311, 71, 103, 2308, 74, 2679, 13, 148, 80, 55, 4840, 1434, 2423, 540, 15, 3]\n",
            "[2, 87, 90, 107, 76, 129, 1852, 30, 3]\n",
            "[2, 87, 83, 149, 50, 9, 56, 664, 85, 2512, 15, 3]\n"
          ],
          "name": "stdout"
        }
      ]
    },
    {
      "cell_type": "markdown",
      "metadata": {
        "id": "dBRlikwDR2Lu"
      },
      "source": [
        "The `detokenize` method attempts to convert these token IDs back to human readable text: "
      ]
    },
    {
      "cell_type": "code",
      "metadata": {
        "id": "Tpqx1aug3W31",
        "colab": {
          "base_uri": "https://localhost:8080/"
        },
        "outputId": "9b3a3d02-4a9e-41e8-f6b7-ec63986ee21a"
      },
      "source": [
        "round_trip = tokenizers.en.detokenize(encoded)\n",
        "for line in round_trip.numpy():\n",
        "  print(line.decode('utf-8'))"
      ],
      "execution_count": 21,
      "outputs": [
        {
          "output_type": "stream",
          "text": [
            "and when you improve searchability , you actually take away the one advantage of print , which is serendipity .\n",
            "but what if it were active ?\n",
            "but they did n ' t test for curiosity .\n"
          ],
          "name": "stdout"
        }
      ]
    },
    {
      "cell_type": "markdown",
      "metadata": {
        "id": "e5mGvytArL9g"
      },
      "source": [
        "The lower level `lookup` method converts from token-IDs to token text:"
      ]
    },
    {
      "cell_type": "code",
      "metadata": {
        "id": "RpzRLzvIuN3R",
        "colab": {
          "base_uri": "https://localhost:8080/"
        },
        "outputId": "779ae88a-22ea-46e4-e29b-54c4194f945d"
      },
      "source": [
        "tokens = tokenizers.en.lookup(encoded)\n",
        "tokens"
      ],
      "execution_count": 22,
      "outputs": [
        {
          "output_type": "execute_result",
          "data": {
            "text/plain": [
              "<tf.RaggedTensor [[b'[START]', b'and', b'when', b'you', b'improve', b'search', b'##ability', b',', b'you', b'actually', b'take', b'away', b'the', b'one', b'advantage', b'of', b'print', b',', b'which', b'is', b's', b'##ere', b'##nd', b'##ip', b'##ity', b'.', b'[END]'], [b'[START]', b'but', b'what', b'if', b'it', b'were', b'active', b'?', b'[END]'], [b'[START]', b'but', b'they', b'did', b'n', b\"'\", b't', b'test', b'for', b'curiosity', b'.', b'[END]']]>"
            ]
          },
          "metadata": {
            "tags": []
          },
          "execution_count": 22
        }
      ]
    },
    {
      "cell_type": "markdown",
      "metadata": {
        "id": "5V8Ix_PNSfhV"
      },
      "source": [
        "Here you can see the \"subword\" aspect of the tokenizers. The word \"searchability\" is decomposed into \"search ##ability\" and the word \"serindipity\" into \"s ##ere ##nd ##ip ##ity\""
      ]
    },
    {
      "cell_type": "code",
      "metadata": {
        "id": "vwzGwX8hjdZQ"
      },
      "source": [
        "if build_tokenizer:\n",
        "  print(\"Recommend factory reset notebook and rerunning since training runs much slower with nightly build code\")"
      ],
      "execution_count": 23,
      "outputs": []
    },
    {
      "cell_type": "markdown",
      "metadata": {
        "id": "fd1NWMxjfsDd"
      },
      "source": [
        "## Setup input pipeline"
      ]
    },
    {
      "cell_type": "markdown",
      "metadata": {
        "id": "E7JHK7N7tNZy"
      },
      "source": [
        "To build an input pipeline suitable for training you'll apply some transformations to the dataset.\n",
        "\n",
        "This function will be used to encode the batches of raw text:"
      ]
    },
    {
      "cell_type": "code",
      "metadata": {
        "id": "6shgzEck3FiV"
      },
      "source": [
        "def tokenize_pairs(pt, en):\n",
        "    pt = tokenizers.pt.tokenize(pt)\n",
        "    # Convert from ragged to dense, padding with zeros.\n",
        "    pt = pt.to_tensor()\n",
        "\n",
        "    en = tokenizers.en.tokenize(en)\n",
        "    # Convert from ragged to dense, padding with zeros.\n",
        "    en = en.to_tensor()\n",
        "    return pt, en"
      ],
      "execution_count": 24,
      "outputs": []
    },
    {
      "cell_type": "markdown",
      "metadata": {
        "id": "cf2HwC_0wG0v"
      },
      "source": [
        "Here's a simple input pipeline that processes, shuffles and batches the data:"
      ]
    },
    {
      "cell_type": "code",
      "metadata": {
        "id": "bcRp7VcQ5m6g"
      },
      "source": [
        "BUFFER_SIZE = 20000\n",
        "BATCH_SIZE = 64"
      ],
      "execution_count": 25,
      "outputs": []
    },
    {
      "cell_type": "code",
      "metadata": {
        "id": "BUN_jLBTwNxk"
      },
      "source": [
        "def make_batches(ds):\n",
        "  return (\n",
        "      ds\n",
        "      .cache()\n",
        "      .shuffle(BUFFER_SIZE)\n",
        "      .batch(BATCH_SIZE, drop_remainder=True)\n",
        "      .map(tokenize_pairs, num_parallel_calls=tf.data.AUTOTUNE)\n",
        "      .prefetch(tf.data.AUTOTUNE))\n",
        "\n",
        "train_batches = make_batches(train_examples)\n",
        "val_batches = make_batches(val_examples)"
      ],
      "execution_count": 26,
      "outputs": []
    },
    {
      "cell_type": "markdown",
      "metadata": {
        "id": "nBQuibYA4n0n"
      },
      "source": [
        "## Positional encoding\n",
        "\n",
        "Since this model doesn't contain any recurrence or convolution, positional encoding is added to give the model some information about the relative position of the words in the sentence. \n",
        "\n",
        "The positional encoding vector is added to the embedding vector. Embeddings represent a token in a d-dimensional space where tokens with similar meaning will be closer to each other. But the embeddings do not encode the relative position of words in a sentence. So after adding the positional encoding, words will be closer to each other based on the *similarity of their meaning and their position in the sentence*, in the d-dimensional space.\n",
        "\n",
        "See the notebook on [positional encoding](https://github.com/tensorflow/examples/blob/master/community/en/position_encoding.ipynb) to learn more about it. The formula for calculating the positional encoding is as follows:\n",
        "\n",
        "$$\\Large{PE_{(pos, 2i)} = sin(pos / 10000^{2i / d_{model}})} $$\n",
        "$$\\Large{PE_{(pos, 2i+1)} = cos(pos / 10000^{2i / d_{model}})} $$"
      ]
    },
    {
      "cell_type": "code",
      "metadata": {
        "id": "WhIOZjMNKujn"
      },
      "source": [
        "def get_angles(pos, i, d_model):\n",
        "  angle_rates = 1 / np.power(10000, (2 * (i//2)) / np.float32(d_model))\n",
        "  return pos * angle_rates"
      ],
      "execution_count": 27,
      "outputs": []
    },
    {
      "cell_type": "code",
      "metadata": {
        "id": "1Rz82wEs5biZ"
      },
      "source": [
        "def positional_encoding(position, d_model):\n",
        "  angle_rads = get_angles(np.arange(position)[:, np.newaxis],\n",
        "                          np.arange(d_model)[np.newaxis, :],\n",
        "                          d_model)\n",
        "  \n",
        "  # apply sin to even indices in the array; 2i\n",
        "  angle_rads[:, 0::2] = np.sin(angle_rads[:, 0::2])\n",
        "  \n",
        "  # apply cos to odd indices in the array; 2i+1\n",
        "  angle_rads[:, 1::2] = np.cos(angle_rads[:, 1::2])\n",
        "    \n",
        "  pos_encoding = angle_rads[np.newaxis, ...]\n",
        "    \n",
        "  return tf.cast(pos_encoding, dtype=tf.float32)"
      ],
      "execution_count": 28,
      "outputs": []
    },
    {
      "cell_type": "code",
      "metadata": {
        "id": "1kLCla68EloE",
        "colab": {
          "base_uri": "https://localhost:8080/",
          "height": 300
        },
        "outputId": "350c539b-b3d7-4769-df01-54b97343db30"
      },
      "source": [
        "n, d = 2048, 512\n",
        "pos_encoding = positional_encoding(n, d)\n",
        "print(pos_encoding.shape)\n",
        "pos_encoding = pos_encoding[0]\n",
        "\n",
        "# Juggle the dimensions for the plot\n",
        "pos_encoding = tf.reshape(pos_encoding, (n, d//2, 2))\n",
        "pos_encoding = tf.transpose(pos_encoding, (2,1,0))\n",
        "pos_encoding = tf.reshape(pos_encoding, (d, n))\n",
        "\n",
        "plt.pcolormesh(pos_encoding, cmap='RdBu')\n",
        "plt.ylabel('Depth')\n",
        "plt.xlabel('Position')\n",
        "plt.colorbar()\n",
        "plt.show()"
      ],
      "execution_count": 29,
      "outputs": [
        {
          "output_type": "stream",
          "text": [
            "(1, 2048, 512)\n"
          ],
          "name": "stdout"
        },
        {
          "output_type": "display_data",
          "data": {
            "image/png": "[encoded data removed]",
            "text/plain": [
              "<Figure size 432x288 with 2 Axes>"
            ]
          },
          "metadata": {
            "tags": [],
            "needs_background": "light"
          }
        }
      ]
    },
    {
      "cell_type": "code",
      "metadata": {
        "colab": {
          "base_uri": "https://localhost:8080/"
        },
        "id": "0_ODDfLielfU",
        "outputId": "4201bbad-35d0-4d14-ca23-17b6c5af08ac"
      },
      "source": [
        "pos_encoding.shape"
      ],
      "execution_count": 30,
      "outputs": [
        {
          "output_type": "execute_result",
          "data": {
            "text/plain": [
              "TensorShape([512, 2048])"
            ]
          },
          "metadata": {
            "tags": []
          },
          "execution_count": 30
        }
      ]
    },
    {
      "cell_type": "markdown",
      "metadata": {
        "id": "a_b4ou4TYqUN"
      },
      "source": [
        "## Masking"
      ]
    },
    {
      "cell_type": "markdown",
      "metadata": {
        "id": "s42Uydjkv0hF"
      },
      "source": [
        "Mask all the pad tokens in the batch of sequence. It ensures that the model does not treat padding as the input. The mask indicates where pad value `0` is present: it outputs a `1` at those locations, and a `0` otherwise."
      ]
    },
    {
      "cell_type": "code",
      "metadata": {
        "id": "U2i8-e1s8ti9"
      },
      "source": [
        "def create_padding_mask(seq):\n",
        "  seq = tf.cast(tf.math.equal(seq, 0), tf.float32)\n",
        "  \n",
        "  # add extra dimensions to add the padding\n",
        "  # to the attention logits.\n",
        "  return seq[:, tf.newaxis, tf.newaxis, :]  # (batch_size, 1, 1, seq_len)"
      ],
      "execution_count": 31,
      "outputs": []
    },
    {
      "cell_type": "code",
      "metadata": {
        "id": "A7BYeBCNvi7n",
        "colab": {
          "base_uri": "https://localhost:8080/"
        },
        "outputId": "d3593e83-b4e1-4514-96e4-4a5fca018997"
      },
      "source": [
        "x = tf.constant([[7, 6, 0, 0, 1], [1, 2, 3, 0, 0], [0, 0, 0, 4, 5]])\n",
        "create_padding_mask(x)"
      ],
      "execution_count": 32,
      "outputs": [
        {
          "output_type": "execute_result",
          "data": {
            "text/plain": [
              "<tf.Tensor: shape=(3, 1, 1, 5), dtype=float32, numpy=\n",
              "array([[[[0., 0., 1., 1., 0.]]],\n",
              "\n",
              "\n",
              "       [[[0., 0., 0., 1., 1.]]],\n",
              "\n",
              "\n",
              "       [[[1., 1., 1., 0., 0.]]]], dtype=float32)>"
            ]
          },
          "metadata": {
            "tags": []
          },
          "execution_count": 32
        }
      ]
    },
    {
      "cell_type": "markdown",
      "metadata": {
        "id": "Z0hzukDBgVom"
      },
      "source": [
        "The look-ahead mask is used to mask the future tokens in a sequence. In other words, the mask indicates which entries should not be used.\n",
        "\n",
        "This means that to predict the third word, only the first and second word will be used. Similarly to predict the fourth word, only the first, second and the third word will be used and so on."
      ]
    },
    {
      "cell_type": "code",
      "metadata": {
        "id": "dVxS8OPI9uI0"
      },
      "source": [
        "def create_look_ahead_mask(size):\n",
        "  mask = 1 - tf.linalg.band_part(tf.ones((size, size)), -1, 0)\n",
        "  return mask  # (seq_len, seq_len)"
      ],
      "execution_count": 33,
      "outputs": []
    },
    {
      "cell_type": "code",
      "metadata": {
        "id": "yxKGuXxaBeeE",
        "colab": {
          "base_uri": "https://localhost:8080/"
        },
        "outputId": "440357a9-a85f-4722-cd0d-a0be63162f29"
      },
      "source": [
        "x = tf.random.uniform((1, 3))\n",
        "temp = create_look_ahead_mask(x.shape[1])\n",
        "temp"
      ],
      "execution_count": 34,
      "outputs": [
        {
          "output_type": "execute_result",
          "data": {
            "text/plain": [
              "<tf.Tensor: shape=(3, 3), dtype=float32, numpy=\n",
              "array([[0., 1., 1.],\n",
              "       [0., 0., 1.],\n",
              "       [0., 0., 0.]], dtype=float32)>"
            ]
          },
          "metadata": {
            "tags": []
          },
          "execution_count": 34
        }
      ]
    },
    {
      "cell_type": "markdown",
      "metadata": {
        "id": "xluDl5cXYy4y"
      },
      "source": [
        "## Scaled dot product attention\n",
        "\n"
      ]
    },
    {
      "cell_type": "markdown",
      "metadata": {
        "id": "vsxEE_-Wa1gF"
      },
      "source": [
        "<img src=\"https://www.tensorflow.org/images/tutorials/transformer/scaled_attention.png\" width=\"500\" alt=\"scaled_dot_product_attention\">\n",
        "\n",
        "The attention function used by the transformer takes three inputs: Q (query), K (key), V (value). The equation used to calculate the attention weights is:\n",
        "\n",
        "$$\\Large{Attention(Q, K, V) = softmax_k(\\frac{QK^T}{\\sqrt{d_k}}) V} $$\n",
        "\n",
        "The dot-product attention is scaled by a factor of square root of the depth. This is done because for large values of depth, the dot product grows large in magnitude pushing the softmax function where it has small gradients resulting in a very hard softmax. \n",
        "\n",
        "For example, consider that `Q` and `K` have a mean of 0 and variance of 1. Their matrix multiplication will have a mean of 0 and variance of `dk`. So the *square root of `dk`* is used for scaling so you get a consistent variance regardless of the value of `dk`. If the variance is too low the output may be too flat to optimize effectively. If the variance is too high the softmax may saturate at initilization making it dificult to learn. \n",
        "\n",
        "The mask is multiplied with -1e9 (close to negative infinity). This is done because the mask is summed with the scaled matrix multiplication of Q and K and is applied immediately before a softmax. The goal is to zero out these cells, and large negative inputs to softmax are near zero in the output."
      ]
    },
    {
      "cell_type": "code",
      "metadata": {
        "id": "LazzUq3bJ5SH"
      },
      "source": [
        "def scaled_dot_product_attention(q, k, v, mask):\n",
        "  \"\"\"Calculate the attention weights.\n",
        "  q, k, v must have matching leading dimensions.\n",
        "  k, v must have matching penultimate dimension, i.e.: seq_len_k = seq_len_v.\n",
        "  The mask has different shapes depending on its type(padding or look ahead) \n",
        "  but it must be broadcastable for addition.\n",
        "  \n",
        "  Args:\n",
        "    q: query shape == (..., seq_len_q, depth)\n",
        "    k: key shape == (..., seq_len_k, depth)\n",
        "    v: value shape == (..., seq_len_v, depth_v)\n",
        "    mask: Float tensor with shape broadcastable \n",
        "          to (..., seq_len_q, seq_len_k). Defaults to None.\n",
        "    \n",
        "  Returns:\n",
        "    output, attention_weights\n",
        "  \"\"\"\n",
        "\n",
        "  matmul_qk = tf.matmul(q, k, transpose_b=True)  # (..., seq_len_q, seq_len_k)\n",
        "  \n",
        "  # scale matmul_qk\n",
        "  dk = tf.cast(tf.shape(k)[-1], tf.float32)\n",
        "  scaled_attention_logits = matmul_qk / tf.math.sqrt(dk)\n",
        "\n",
        "  # add the mask to the scaled tensor.\n",
        "  if mask is not None:\n",
        "    scaled_attention_logits += (mask * -1e9)  \n",
        "\n",
        "  # softmax is normalized on the last axis (seq_len_k) so that the scores\n",
        "  # add up to 1.\n",
        "  attention_weights = tf.nn.softmax(scaled_attention_logits, axis=-1)  # (..., seq_len_q, seq_len_k)\n",
        "\n",
        "  output = tf.matmul(attention_weights, v)  # (..., seq_len_q, depth_v)\n",
        "\n",
        "  return output, attention_weights"
      ],
      "execution_count": 35,
      "outputs": []
    },
    {
      "cell_type": "markdown",
      "metadata": {
        "id": "FiqETnhCkoXh"
      },
      "source": [
        "As the softmax normalization is done on K, its values decide the amount of importance given to Q.\n",
        "\n",
        "The output represents the multiplication of the attention weights and the V (value) vector. This ensures that the words you want to focus on are kept as-is and the irrelevant words are flushed out."
      ]
    },
    {
      "cell_type": "code",
      "metadata": {
        "id": "n90YjClyInFy"
      },
      "source": [
        "def print_out(q, k, v):\n",
        "  temp_out, temp_attn = scaled_dot_product_attention(\n",
        "      q, k, v, None)\n",
        "  print ('Attention weights are:')\n",
        "  print (temp_attn)\n",
        "  print ('Output is:')\n",
        "  print (temp_out)"
      ],
      "execution_count": 36,
      "outputs": []
    },
    {
      "cell_type": "code",
      "metadata": {
        "id": "yAzUAf2DPlNt",
        "colab": {
          "base_uri": "https://localhost:8080/"
        },
        "outputId": "cffc374a-bbdf-400c-8a1f-440dfa961410"
      },
      "source": [
        "np.set_printoptions(suppress=True)\n",
        "\n",
        "temp_k = tf.constant([[10,0,0],\n",
        "                      [0,10,0],\n",
        "                      [0,0,10],\n",
        "                      [0,0,10]], dtype=tf.float32)  # (4, 3)\n",
        "\n",
        "temp_v = tf.constant([[   1,0],\n",
        "                      [  10,0],\n",
        "                      [ 100,5],\n",
        "                      [1000,6]], dtype=tf.float32)  # (4, 2)\n",
        "\n",
        "# This `query` aligns with the second `key`,\n",
        "# so the second `value` is returned.\n",
        "temp_q = tf.constant([[0, 10, 0]], dtype=tf.float32)  # (1, 3)\n",
        "print_out(temp_q, temp_k, temp_v)"
      ],
      "execution_count": 37,
      "outputs": [
        {
          "output_type": "stream",
          "text": [
            "Attention weights are:\n",
            "tf.Tensor([[0. 1. 0. 0.]], shape=(1, 4), dtype=float32)\n",
            "Output is:\n",
            "tf.Tensor([[10.  0.]], shape=(1, 2), dtype=float32)\n"
          ],
          "name": "stdout"
        }
      ]
    },
    {
      "cell_type": "code",
      "metadata": {
        "id": "zg6k-fGhgXra",
        "colab": {
          "base_uri": "https://localhost:8080/"
        },
        "outputId": "c37a8042-44a1-487b-ed67-e6247e400b34"
      },
      "source": [
        "# This query aligns with a repeated key (third and fourth), \n",
        "# so all associated values get averaged.\n",
        "temp_q = tf.constant([[0, 0, 10]], dtype=tf.float32)  # (1, 3)\n",
        "print_out(temp_q, temp_k, temp_v)"
      ],
      "execution_count": 38,
      "outputs": [
        {
          "output_type": "stream",
          "text": [
            "Attention weights are:\n",
            "tf.Tensor([[0.  0.  0.5 0.5]], shape=(1, 4), dtype=float32)\n",
            "Output is:\n",
            "tf.Tensor([[550.    5.5]], shape=(1, 2), dtype=float32)\n"
          ],
          "name": "stdout"
        }
      ]
    },
    {
      "cell_type": "code",
      "metadata": {
        "id": "UAq3YOzUgXhb",
        "colab": {
          "base_uri": "https://localhost:8080/"
        },
        "outputId": "766a1276-43e0-4635-d8db-433c7b15b71a"
      },
      "source": [
        "# This query aligns equally with the first and second key, \n",
        "# so their values get averaged.\n",
        "temp_q = tf.constant([[10, 10, 0]], dtype=tf.float32)  # (1, 3)\n",
        "print_out(temp_q, temp_k, temp_v)"
      ],
      "execution_count": 39,
      "outputs": [
        {
          "output_type": "stream",
          "text": [
            "Attention weights are:\n",
            "tf.Tensor([[0.5 0.5 0.  0. ]], shape=(1, 4), dtype=float32)\n",
            "Output is:\n",
            "tf.Tensor([[5.5 0. ]], shape=(1, 2), dtype=float32)\n"
          ],
          "name": "stdout"
        }
      ]
    },
    {
      "cell_type": "markdown",
      "metadata": {
        "id": "aOz-4_XIhaTP"
      },
      "source": [
        "Pass all the queries together."
      ]
    },
    {
      "cell_type": "code",
      "metadata": {
        "id": "6dlU8Tm-hYrF",
        "colab": {
          "base_uri": "https://localhost:8080/"
        },
        "outputId": "2d2e91d3-30ce-44e2-d286-9cafb36a682c"
      },
      "source": [
        "temp_q = tf.constant([[0, 0, 10], [0, 10, 0], [10, 10, 0]], dtype=tf.float32)  # (3, 3)\n",
        "print_out(temp_q, temp_k, temp_v)"
      ],
      "execution_count": 40,
      "outputs": [
        {
          "output_type": "stream",
          "text": [
            "Attention weights are:\n",
            "tf.Tensor(\n",
            "[[0.  0.  0.5 0.5]\n",
            " [0.  1.  0.  0. ]\n",
            " [0.5 0.5 0.  0. ]], shape=(3, 4), dtype=float32)\n",
            "Output is:\n",
            "tf.Tensor(\n",
            "[[550.    5.5]\n",
            " [ 10.    0. ]\n",
            " [  5.5   0. ]], shape=(3, 2), dtype=float32)\n"
          ],
          "name": "stdout"
        }
      ]
    },
    {
      "cell_type": "markdown",
      "metadata": {
        "id": "kmzGPEy64qmA"
      },
      "source": [
        "## Multi-head attention"
      ]
    },
    {
      "cell_type": "markdown",
      "metadata": {
        "id": "fz5BMC8Kaoqo"
      },
      "source": [
        "<img src=\"https://www.tensorflow.org/images/tutorials/transformer/multi_head_attention.png\" width=\"500\" alt=\"multi-head attention\">\n",
        "\n",
        "\n",
        "Multi-head attention consists of four parts:\n",
        "*    Linear layers and split into heads.\n",
        "*    Scaled dot-product attention.\n",
        "*    Concatenation of heads.\n",
        "*    Final linear layer."
      ]
    },
    {
      "cell_type": "markdown",
      "metadata": {
        "id": "JPmbr6F1C-v_"
      },
      "source": [
        "Each multi-head attention block gets three inputs; Q (query), K (key), V (value). These are put through linear (Dense) layers and split up into multiple heads. \n",
        "\n",
        "The `scaled_dot_product_attention` defined above is applied to each head (broadcasted for efficiency). An appropriate mask must be used in the attention step.  The attention output for each head is then concatenated (using `tf.transpose`, and `tf.reshape`) and put through a final `Dense` layer.\n",
        "\n",
        "Instead of one single attention head, Q, K, and V are split into multiple heads because it allows the model to jointly attend to information at different positions from different representational spaces. After the split each head has a reduced dimensionality, so the total computation cost is the same as a single head attention with full dimensionality."
      ]
    },
    {
      "cell_type": "code",
      "metadata": {
        "id": "BSV3PPKsYecw"
      },
      "source": [
        "class MultiHeadAttention(tf.keras.layers.Layer):\n",
        "  def __init__(self, d_model, num_heads):\n",
        "    super(MultiHeadAttention, self).__init__()\n",
        "    self.num_heads = num_heads\n",
        "    self.d_model = d_model\n",
        "    \n",
        "    assert d_model % self.num_heads == 0\n",
        "    \n",
        "    self.depth = d_model // self.num_heads\n",
        "    \n",
        "    self.wq = tf.keras.layers.Dense(d_model)\n",
        "    self.wk = tf.keras.layers.Dense(d_model)\n",
        "    self.wv = tf.keras.layers.Dense(d_model)\n",
        "    \n",
        "    self.dense = tf.keras.layers.Dense(d_model)\n",
        "        \n",
        "  def split_heads(self, x, batch_size):\n",
        "    \"\"\"Split the last dimension into (num_heads, depth).\n",
        "    Transpose the result such that the shape is (batch_size, num_heads, seq_len, depth)\n",
        "    \"\"\"\n",
        "    x = tf.reshape(x, (batch_size, -1, self.num_heads, self.depth))\n",
        "    return tf.transpose(x, perm=[0, 2, 1, 3])\n",
        "    \n",
        "  def call(self, v, k, q, mask):\n",
        "    batch_size = tf.shape(q)[0]\n",
        "    \n",
        "    q = self.wq(q)  # (batch_size, seq_len, d_model)\n",
        "    k = self.wk(k)  # (batch_size, seq_len, d_model)\n",
        "    v = self.wv(v)  # (batch_size, seq_len, d_model)\n",
        "    \n",
        "    q = self.split_heads(q, batch_size)  # (batch_size, num_heads, seq_len_q, depth)\n",
        "    k = self.split_heads(k, batch_size)  # (batch_size, num_heads, seq_len_k, depth)\n",
        "    v = self.split_heads(v, batch_size)  # (batch_size, num_heads, seq_len_v, depth)\n",
        "    \n",
        "    # scaled_attention.shape == (batch_size, num_heads, seq_len_q, depth)\n",
        "    # attention_weights.shape == (batch_size, num_heads, seq_len_q, seq_len_k)\n",
        "    scaled_attention, attention_weights = scaled_dot_product_attention(\n",
        "        q, k, v, mask)\n",
        "    \n",
        "    scaled_attention = tf.transpose(scaled_attention, perm=[0, 2, 1, 3])  # (batch_size, seq_len_q, num_heads, depth)\n",
        "\n",
        "    concat_attention = tf.reshape(scaled_attention, \n",
        "                                  (batch_size, -1, self.d_model))  # (batch_size, seq_len_q, d_model)\n",
        "\n",
        "    output = self.dense(concat_attention)  # (batch_size, seq_len_q, d_model)\n",
        "        \n",
        "    return output, attention_weights"
      ],
      "execution_count": 41,
      "outputs": []
    },
    {
      "cell_type": "markdown",
      "metadata": {
        "id": "0D8FJue5lDyZ"
      },
      "source": [
        "Create a `MultiHeadAttention` layer to try out. At each location in the sequence, `y`, the `MultiHeadAttention` runs all 8 attention heads across all other locations in the sequence, returning a new vector of the same length at each location."
      ]
    },
    {
      "cell_type": "code",
      "metadata": {
        "id": "Hu94p-_-2_BX",
        "colab": {
          "base_uri": "https://localhost:8080/"
        },
        "outputId": "f32287e3-79a4-4f4c-84de-1fbfd782a4c0"
      },
      "source": [
        "temp_mha = MultiHeadAttention(d_model=512, num_heads=8)\n",
        "y = tf.random.uniform((1, 60, 512))  # (batch_size, encoder_sequence, d_model)\n",
        "out, attn = temp_mha(y, k=y, q=y, mask=None)\n",
        "out.shape, attn.shape"
      ],
      "execution_count": 42,
      "outputs": [
        {
          "output_type": "execute_result",
          "data": {
            "text/plain": [
              "(TensorShape([1, 60, 512]), TensorShape([1, 8, 60, 60]))"
            ]
          },
          "metadata": {
            "tags": []
          },
          "execution_count": 42
        }
      ]
    },
    {
      "cell_type": "markdown",
      "metadata": {
        "id": "RdDqGayx67vv"
      },
      "source": [
        "## Point wise feed forward network"
      ]
    },
    {
      "cell_type": "markdown",
      "metadata": {
        "id": "gBqzJXGfHK3X"
      },
      "source": [
        "Point wise feed forward network consists of two fully-connected layers with a ReLU activation in between."
      ]
    },
    {
      "cell_type": "code",
      "metadata": {
        "id": "ET7xLt0yCT6Z"
      },
      "source": [
        "def point_wise_feed_forward_network(d_model, dff):\n",
        "  return tf.keras.Sequential([\n",
        "      tf.keras.layers.Dense(dff, activation='relu'),  # (batch_size, seq_len, dff)\n",
        "      tf.keras.layers.Dense(d_model)  # (batch_size, seq_len, d_model)\n",
        "  ])"
      ],
      "execution_count": 43,
      "outputs": []
    },
    {
      "cell_type": "code",
      "metadata": {
        "id": "mytb1lPyOHLB",
        "colab": {
          "base_uri": "https://localhost:8080/"
        },
        "outputId": "b7949dd3-49b8-40f2-a233-b34c5797e297"
      },
      "source": [
        "sample_ffn = point_wise_feed_forward_network(512, 2048)\n",
        "sample_ffn(tf.random.uniform((64, 50, 512))).shape"
      ],
      "execution_count": 44,
      "outputs": [
        {
          "output_type": "execute_result",
          "data": {
            "text/plain": [
              "TensorShape([64, 50, 512])"
            ]
          },
          "metadata": {
            "tags": []
          },
          "execution_count": 44
        }
      ]
    },
    {
      "cell_type": "markdown",
      "metadata": {
        "id": "7e7hKcxn6-zd"
      },
      "source": [
        "## Encoder and decoder"
      ]
    },
    {
      "cell_type": "markdown",
      "metadata": {
        "id": "yScbC0MUH8dS"
      },
      "source": [
        "<img src=\"https://www.tensorflow.org/images/tutorials/transformer/transformer.png\" width=\"600\" alt=\"transformer\">"
      ]
    },
    {
      "cell_type": "markdown",
      "metadata": {
        "id": "MfYJG-Kvgwy2"
      },
      "source": [
        "The transformer model follows the same general pattern as a standard [sequence to sequence with attention model](nmt_with_attention.ipynb). \n",
        "\n",
        "* The input sentence is passed through `N` encoder layers that generates an output for each word/token in the sequence.\n",
        "* The decoder attends on the encoder's output and its own input (self-attention) to predict the next word. "
      ]
    },
    {
      "cell_type": "markdown",
      "metadata": {
        "id": "QFv-FNYUmvpn"
      },
      "source": [
        "### Encoder layer\n",
        "\n",
        "Each encoder layer consists of sublayers:\n",
        "\n",
        "1.   Multi-head attention (with padding mask) \n",
        "2.    Point wise feed forward networks. \n",
        "\n",
        "Each of these sublayers has a residual connection around it followed by a layer normalization. Residual connections help in avoiding the vanishing gradient problem in deep networks.\n",
        "\n",
        "The output of each sublayer is `LayerNorm(x + Sublayer(x))`. The normalization is done on the `d_model` (last) axis. There are N encoder layers in the transformer."
      ]
    },
    {
      "cell_type": "code",
      "metadata": {
        "id": "ncyS-Ms3i2x_"
      },
      "source": [
        "class EncoderLayer(tf.keras.layers.Layer):\n",
        "  def __init__(self, d_model, num_heads, dff, rate=0.1):\n",
        "    super(EncoderLayer, self).__init__()\n",
        "\n",
        "    self.mha = MultiHeadAttention(d_model, num_heads)\n",
        "    self.ffn = point_wise_feed_forward_network(d_model, dff)\n",
        "\n",
        "    self.layernorm1 = tf.keras.layers.LayerNormalization(epsilon=1e-6)\n",
        "    self.layernorm2 = tf.keras.layers.LayerNormalization(epsilon=1e-6)\n",
        "    \n",
        "    self.dropout1 = tf.keras.layers.Dropout(rate)\n",
        "    self.dropout2 = tf.keras.layers.Dropout(rate)\n",
        "    \n",
        "  def call(self, x, training, mask):\n",
        "\n",
        "    attn_output, _ = self.mha(x, x, x, mask)  # (batch_size, input_seq_len, d_model)\n",
        "    attn_output = self.dropout1(attn_output, training=training)\n",
        "    out1 = self.layernorm1(x + attn_output)  # (batch_size, input_seq_len, d_model)\n",
        "    \n",
        "    ffn_output = self.ffn(out1)  # (batch_size, input_seq_len, d_model)\n",
        "    ffn_output = self.dropout2(ffn_output, training=training)\n",
        "    out2 = self.layernorm2(out1 + ffn_output)  # (batch_size, input_seq_len, d_model)\n",
        "    \n",
        "    return out2"
      ],
      "execution_count": 45,
      "outputs": []
    },
    {
      "cell_type": "code",
      "metadata": {
        "id": "AzZRXdO0mI48",
        "colab": {
          "base_uri": "https://localhost:8080/"
        },
        "outputId": "581ef1cd-a5fc-4786-fd67-33b8bfc7c44a"
      },
      "source": [
        "sample_encoder_layer = EncoderLayer(512, 8, 2048)\n",
        "\n",
        "sample_encoder_layer_output = sample_encoder_layer(\n",
        "    tf.random.uniform((64, 43, 512)), False, None)\n",
        "\n",
        "sample_encoder_layer_output.shape  # (batch_size, input_seq_len, d_model)"
      ],
      "execution_count": 46,
      "outputs": [
        {
          "output_type": "execute_result",
          "data": {
            "text/plain": [
              "TensorShape([64, 43, 512])"
            ]
          },
          "metadata": {
            "tags": []
          },
          "execution_count": 46
        }
      ]
    },
    {
      "cell_type": "markdown",
      "metadata": {
        "id": "6LO_48Owmx_o"
      },
      "source": [
        "### Decoder layer\n",
        "\n",
        "Each decoder layer consists of sublayers:\n",
        "\n",
        "1.   Masked multi-head attention (with look ahead mask and padding mask)\n",
        "2.   Multi-head attention (with padding mask). V (value) and K (key) receive the *encoder output* as inputs. Q (query) receives the *output from the masked multi-head attention sublayer.*\n",
        "3.   Point wise feed forward networks\n",
        "\n",
        "Each of these sublayers has a residual connection around it followed by a layer normalization. The output of each sublayer is `LayerNorm(x + Sublayer(x))`. The normalization is done on the `d_model` (last) axis.\n",
        "\n",
        "There are N decoder layers in the transformer.\n",
        "\n",
        "As Q receives the output from decoder's first attention block, and K receives the encoder output, the attention weights represent the importance given to the decoder's input based on the encoder's output. In other words, the decoder predicts the next word by looking at the encoder output and self-attending to its own output. See the demonstration above in the scaled dot product attention section."
      ]
    },
    {
      "cell_type": "code",
      "metadata": {
        "id": "9SoX0-vd1hue"
      },
      "source": [
        "class DecoderLayer(tf.keras.layers.Layer):\n",
        "  def __init__(self, d_model, num_heads, dff, rate=0.1):\n",
        "    super(DecoderLayer, self).__init__()\n",
        "\n",
        "    self.mha1 = MultiHeadAttention(d_model, num_heads)\n",
        "    self.mha2 = MultiHeadAttention(d_model, num_heads)\n",
        "\n",
        "    self.ffn = point_wise_feed_forward_network(d_model, dff)\n",
        " \n",
        "    self.layernorm1 = tf.keras.layers.LayerNormalization(epsilon=1e-6)\n",
        "    self.layernorm2 = tf.keras.layers.LayerNormalization(epsilon=1e-6)\n",
        "    self.layernorm3 = tf.keras.layers.LayerNormalization(epsilon=1e-6)\n",
        "    \n",
        "    self.dropout1 = tf.keras.layers.Dropout(rate)\n",
        "    self.dropout2 = tf.keras.layers.Dropout(rate)\n",
        "    self.dropout3 = tf.keras.layers.Dropout(rate)\n",
        "    \n",
        "    \n",
        "  def call(self, x, enc_output, training, \n",
        "           look_ahead_mask, padding_mask):\n",
        "    # enc_output.shape == (batch_size, input_seq_len, d_model)\n",
        "\n",
        "    attn1, attn_weights_block1 = self.mha1(x, x, x, look_ahead_mask)  # (batch_size, target_seq_len, d_model)\n",
        "    attn1 = self.dropout1(attn1, training=training)\n",
        "    out1 = self.layernorm1(attn1 + x)\n",
        "    \n",
        "    attn2, attn_weights_block2 = self.mha2(\n",
        "        enc_output, enc_output, out1, padding_mask)  # (batch_size, target_seq_len, d_model)\n",
        "    attn2 = self.dropout2(attn2, training=training)\n",
        "    out2 = self.layernorm2(attn2 + out1)  # (batch_size, target_seq_len, d_model)\n",
        "    \n",
        "    ffn_output = self.ffn(out2)  # (batch_size, target_seq_len, d_model)\n",
        "    ffn_output = self.dropout3(ffn_output, training=training)\n",
        "    out3 = self.layernorm3(ffn_output + out2)  # (batch_size, target_seq_len, d_model)\n",
        "    \n",
        "    return out3, attn_weights_block1, attn_weights_block2"
      ],
      "execution_count": 47,
      "outputs": []
    },
    {
      "cell_type": "code",
      "metadata": {
        "id": "Ne2Bqx8k71l0",
        "colab": {
          "base_uri": "https://localhost:8080/"
        },
        "outputId": "c10c3f14-9f6c-4eb7-eb06-af3d4edf89c6"
      },
      "source": [
        "sample_decoder_layer = DecoderLayer(512, 8, 2048)\n",
        "\n",
        "sample_decoder_layer_output, _, _ = sample_decoder_layer(\n",
        "    tf.random.uniform((64, 50, 512)), sample_encoder_layer_output, \n",
        "    False, None, None)\n",
        "\n",
        "sample_decoder_layer_output.shape  # (batch_size, target_seq_len, d_model)"
      ],
      "execution_count": 48,
      "outputs": [
        {
          "output_type": "execute_result",
          "data": {
            "text/plain": [
              "TensorShape([64, 50, 512])"
            ]
          },
          "metadata": {
            "tags": []
          },
          "execution_count": 48
        }
      ]
    },
    {
      "cell_type": "markdown",
      "metadata": {
        "id": "SE1H51Ajm0q1"
      },
      "source": [
        "### Encoder\n",
        "\n",
        "The `Encoder` consists of:\n",
        "1.   Input Embedding\n",
        "2.   Positional Encoding\n",
        "3.   N encoder layers\n",
        "\n",
        "The input is put through an embedding which is summed with the positional encoding. The output of this summation is the input to the encoder layers. The output of the encoder is the input to the decoder."
      ]
    },
    {
      "cell_type": "code",
      "metadata": {
        "id": "jpEox7gJ8FCI"
      },
      "source": [
        "class Encoder(tf.keras.layers.Layer):\n",
        "  def __init__(self, num_layers, d_model, num_heads, dff, input_vocab_size,\n",
        "               maximum_position_encoding, rate=0.1):\n",
        "    super(Encoder, self).__init__()\n",
        "\n",
        "    self.d_model = d_model\n",
        "    self.num_layers = num_layers\n",
        "    \n",
        "    print(f'Port Encoder::init input_vocab_size={input_vocab_size}, d_model={d_model}')\n",
        "    self.embedding = tf.keras.layers.Embedding(input_vocab_size, d_model)\n",
        "    self.pos_encoding = positional_encoding(maximum_position_encoding, \n",
        "                                            self.d_model)\n",
        "    \n",
        "    \n",
        "    self.enc_layers = [EncoderLayer(d_model, num_heads, dff, rate) \n",
        "                       for _ in range(num_layers)]\n",
        "  \n",
        "    self.dropout = tf.keras.layers.Dropout(rate)\n",
        "        \n",
        "  def call(self, x, training, mask):\n",
        "\n",
        "    seq_len = tf.shape(x)[1]\n",
        "    \n",
        "    # adding embedding and position encoding.\n",
        "    x = self.embedding(x)  # (batch_size, input_seq_len, d_model)\n",
        "\n",
        "    x *= tf.math.sqrt(tf.cast(self.d_model, tf.float32))\n",
        "    x += self.pos_encoding[:, :seq_len, :]\n",
        "\n",
        "    x = self.dropout(x, training=training)\n",
        "    \n",
        "    for i in range(self.num_layers):\n",
        "      x = self.enc_layers[i](x, training, mask)\n",
        "    \n",
        "    return x  # (batch_size, input_seq_len, d_model)"
      ],
      "execution_count": 49,
      "outputs": []
    },
    {
      "cell_type": "code",
      "metadata": {
        "id": "8QG9nueFQKXx",
        "colab": {
          "base_uri": "https://localhost:8080/"
        },
        "outputId": "4a42c12c-c119-409e-d619-aac379b38a00"
      },
      "source": [
        "sample_encoder = Encoder(num_layers=2, d_model=512, num_heads=8, \n",
        "                         dff=2048, input_vocab_size=8500,\n",
        "                         maximum_position_encoding=10000)\n",
        "temp_input = tf.random.uniform((64, 62), dtype=tf.int64, minval=0, maxval=200)\n",
        "\n",
        "sample_encoder_output = sample_encoder(temp_input, training=False, mask=None)\n",
        "\n",
        "print (sample_encoder_output.shape)  # (batch_size, input_seq_len, d_model)"
      ],
      "execution_count": 50,
      "outputs": [
        {
          "output_type": "stream",
          "text": [
            "Port Encoder::init input_vocab_size=8500, d_model=512\n",
            "(64, 62, 512)\n"
          ],
          "name": "stdout"
        }
      ]
    },
    {
      "cell_type": "markdown",
      "metadata": {
        "id": "p-uO6ls8m2O5"
      },
      "source": [
        "### Decoder"
      ]
    },
    {
      "cell_type": "markdown",
      "metadata": {
        "id": "ZtT7PKzrXkNr"
      },
      "source": [
        " The `Decoder` consists of:\n",
        "1.   Output Embedding\n",
        "2.   Positional Encoding\n",
        "3.   N decoder layers\n",
        "\n",
        "The target is put through an embedding which is summed with the positional encoding. The output of this summation is the input to the decoder layers. The output of the decoder is the input to the final linear layer."
      ]
    },
    {
      "cell_type": "code",
      "metadata": {
        "id": "d5_d5-PLQXwY"
      },
      "source": [
        "class Decoder(tf.keras.layers.Layer):\n",
        "  def __init__(self, num_layers, d_model, num_heads, dff, target_vocab_size,\n",
        "               maximum_position_encoding, rate=0.1):\n",
        "    super(Decoder, self).__init__()\n",
        "\n",
        "    self.d_model = d_model\n",
        "    self.num_layers = num_layers\n",
        "    \n",
        "    self.embedding = tf.keras.layers.Embedding(target_vocab_size, d_model)\n",
        "    self.pos_encoding = positional_encoding(maximum_position_encoding, d_model)\n",
        "    \n",
        "    self.dec_layers = [DecoderLayer(d_model, num_heads, dff, rate) \n",
        "                       for _ in range(num_layers)]\n",
        "    self.dropout = tf.keras.layers.Dropout(rate)\n",
        "    \n",
        "  def call(self, x, enc_output, training, \n",
        "           look_ahead_mask, padding_mask):\n",
        "\n",
        "    seq_len = tf.shape(x)[1]\n",
        "    attention_weights = {}\n",
        "    \n",
        "    x = self.embedding(x)  # (batch_size, target_seq_len, d_model)\n",
        "    x *= tf.math.sqrt(tf.cast(self.d_model, tf.float32))\n",
        "    x += self.pos_encoding[:, :seq_len, :]\n",
        "    \n",
        "    x = self.dropout(x, training=training)\n",
        "\n",
        "    for i in range(self.num_layers):\n",
        "      x, block1, block2 = self.dec_layers[i](x, enc_output, training,\n",
        "                                             look_ahead_mask, padding_mask)\n",
        "      \n",
        "      attention_weights['decoder_layer{}_block1'.format(i+1)] = block1\n",
        "      attention_weights['decoder_layer{}_block2'.format(i+1)] = block2\n",
        "    \n",
        "    # x.shape == (batch_size, target_seq_len, d_model)\n",
        "    return x, attention_weights"
      ],
      "execution_count": 51,
      "outputs": []
    },
    {
      "cell_type": "code",
      "metadata": {
        "id": "a1jXoAMRZyvu",
        "colab": {
          "base_uri": "https://localhost:8080/"
        },
        "outputId": "42d9b283-a4e5-4a7d-cb0a-99e0b959d8f3"
      },
      "source": [
        "sample_decoder = Decoder(num_layers=2, d_model=512, num_heads=8, \n",
        "                         dff=2048, target_vocab_size=8000,\n",
        "                         maximum_position_encoding=5000)\n",
        "temp_input = tf.random.uniform((64, 26), dtype=tf.int64, minval=0, maxval=200)\n",
        "\n",
        "output, attn = sample_decoder(temp_input, \n",
        "                              enc_output=sample_encoder_output, \n",
        "                              training=False,\n",
        "                              look_ahead_mask=None, \n",
        "                              padding_mask=None)\n",
        "\n",
        "output.shape, attn['decoder_layer2_block2'].shape"
      ],
      "execution_count": 52,
      "outputs": [
        {
          "output_type": "execute_result",
          "data": {
            "text/plain": [
              "(TensorShape([64, 26, 512]), TensorShape([64, 8, 26, 62]))"
            ]
          },
          "metadata": {
            "tags": []
          },
          "execution_count": 52
        }
      ]
    },
    {
      "cell_type": "markdown",
      "metadata": {
        "id": "y54xnJnuYgJ7"
      },
      "source": [
        "## Create the Transformer"
      ]
    },
    {
      "cell_type": "markdown",
      "metadata": {
        "id": "uERO1y54cOKq"
      },
      "source": [
        "Transformer consists of the encoder, decoder and a final linear layer. The output of the decoder is the input to the linear layer and its output is returned."
      ]
    },
    {
      "cell_type": "code",
      "metadata": {
        "id": "PED3bIpOYkBu"
      },
      "source": [
        "class Transformer(tf.keras.Model):\n",
        "  def __init__(self, num_layers, d_model, num_heads, dff, input_vocab_size, \n",
        "               target_vocab_size, pe_input, pe_target, rate=0.1):\n",
        "    super(Transformer, self).__init__()\n",
        "\n",
        "    self.tokenizer = Encoder(num_layers, d_model, num_heads, dff, \n",
        "                           input_vocab_size, pe_input, rate)\n",
        "\n",
        "    self.decoder = Decoder(num_layers, d_model, num_heads, dff, \n",
        "                           target_vocab_size, pe_target, rate)\n",
        "\n",
        "    self.final_layer = tf.keras.layers.Dense(target_vocab_size)\n",
        "    \n",
        "  def call(self, inp, tar, training, enc_padding_mask, \n",
        "           look_ahead_mask, dec_padding_mask):\n",
        "\n",
        "    enc_output = self.tokenizer(inp, training, enc_padding_mask)  # (batch_size, inp_seq_len, d_model)\n",
        "    \n",
        "    # dec_output.shape == (batch_size, tar_seq_len, d_model)\n",
        "    dec_output, attention_weights = self.decoder(\n",
        "        tar, enc_output, training, look_ahead_mask, dec_padding_mask)\n",
        "    \n",
        "    final_output = self.final_layer(dec_output)  # (batch_size, tar_seq_len, target_vocab_size)\n",
        "    \n",
        "    return final_output, attention_weights"
      ],
      "execution_count": 53,
      "outputs": []
    },
    {
      "cell_type": "code",
      "metadata": {
        "id": "tJ4fbQcIkHW1",
        "colab": {
          "base_uri": "https://localhost:8080/"
        },
        "outputId": "97d8a8b7-0069-4b3e-939e-1439cf66716b"
      },
      "source": [
        "sample_transformer = Transformer(\n",
        "    num_layers=2, d_model=512, num_heads=8, dff=2048, \n",
        "    input_vocab_size=8500, target_vocab_size=8000, \n",
        "    pe_input=10000, pe_target=6000)\n",
        "\n",
        "temp_input = tf.random.uniform((64, 38), dtype=tf.int64, minval=0, maxval=200)\n",
        "temp_target = tf.random.uniform((64, 36), dtype=tf.int64, minval=0, maxval=200)\n",
        "\n",
        "fn_out, _ = sample_transformer(temp_input, temp_target, training=False, \n",
        "                               enc_padding_mask=None, \n",
        "                               look_ahead_mask=None,\n",
        "                               dec_padding_mask=None)\n",
        "\n",
        "fn_out.shape  # (batch_size, tar_seq_len, target_vocab_size)"
      ],
      "execution_count": 54,
      "outputs": [
        {
          "output_type": "stream",
          "text": [
            "Port Encoder::init input_vocab_size=8500, d_model=512\n"
          ],
          "name": "stdout"
        },
        {
          "output_type": "execute_result",
          "data": {
            "text/plain": [
              "TensorShape([64, 36, 8000])"
            ]
          },
          "metadata": {
            "tags": []
          },
          "execution_count": 54
        }
      ]
    },
    {
      "cell_type": "markdown",
      "metadata": {
        "id": "wsINyf1VEQLC"
      },
      "source": [
        "## Set hyperparameters"
      ]
    },
    {
      "cell_type": "markdown",
      "metadata": {
        "id": "zVjWCxFNcgbt"
      },
      "source": [
        "To keep this example small and relatively fast, the values for *num_layers, d_model, and dff* have been reduced. \n",
        "\n",
        "The values used in the base model of transformer were; *num_layers=6*, *d_model = 512*, *dff = 2048*. See the [paper](https://arxiv.org/abs/1706.03762) for all the other versions of the transformer.\n",
        "\n",
        "Note: By changing the values below, you can get the model that achieved state of the art on many tasks."
      ]
    },
    {
      "cell_type": "code",
      "metadata": {
        "id": "lnJn5SLA2ahP"
      },
      "source": [
        "num_layers = 4\n",
        "d_model = 128\n",
        "dff = 512\n",
        "num_heads = 8\n",
        "dropout_rate = 0.1"
      ],
      "execution_count": 55,
      "outputs": []
    },
    {
      "cell_type": "markdown",
      "metadata": {
        "id": "xYEGhEOtzn5W"
      },
      "source": [
        "## Optimizer"
      ]
    },
    {
      "cell_type": "markdown",
      "metadata": {
        "id": "GOmWW--yP3zx"
      },
      "source": [
        "Use the Adam optimizer with a custom learning rate scheduler according to the formula in the [paper](https://arxiv.org/abs/1706.03762).\n",
        "\n",
        "$$\\Large{lrate = d_{model}^{-0.5} * min(step{\\_}num^{-0.5}, step{\\_}num * warmup{\\_}steps^{-1.5})}$$\n"
      ]
    },
    {
      "cell_type": "code",
      "metadata": {
        "id": "iYQdOO1axwEI"
      },
      "source": [
        "class CustomSchedule(tf.keras.optimizers.schedules.LearningRateSchedule):\n",
        "  def __init__(self, d_model, warmup_steps=4000):\n",
        "    super(CustomSchedule, self).__init__()\n",
        "    \n",
        "    self.d_model = d_model\n",
        "    self.d_model = tf.cast(self.d_model, tf.float32)\n",
        "\n",
        "    self.warmup_steps = warmup_steps\n",
        "    \n",
        "  def __call__(self, step):\n",
        "    arg1 = tf.math.rsqrt(step)\n",
        "    arg2 = step * (self.warmup_steps ** -1.5)\n",
        "    \n",
        "    return tf.math.rsqrt(self.d_model) * tf.math.minimum(arg1, arg2)"
      ],
      "execution_count": 56,
      "outputs": []
    },
    {
      "cell_type": "code",
      "metadata": {
        "id": "7r4scdulztRx"
      },
      "source": [
        "learning_rate = CustomSchedule(d_model)\n",
        "\n",
        "optimizer = tf.keras.optimizers.Adam(learning_rate, beta_1=0.9, beta_2=0.98, \n",
        "                                     epsilon=1e-9)"
      ],
      "execution_count": 57,
      "outputs": []
    },
    {
      "cell_type": "code",
      "metadata": {
        "id": "f33ZCgvHpPdG",
        "colab": {
          "base_uri": "https://localhost:8080/",
          "height": 296
        },
        "outputId": "6ec985bf-0dcd-4a4d-d426-b5e445b4368d"
      },
      "source": [
        "temp_learning_rate_schedule = CustomSchedule(d_model)\n",
        "\n",
        "plt.plot(temp_learning_rate_schedule(tf.range(40000, dtype=tf.float32)))\n",
        "plt.ylabel(\"Learning Rate\")\n",
        "plt.xlabel(\"Train Step\")"
      ],
      "execution_count": 58,
      "outputs": [
        {
          "output_type": "execute_result",
          "data": {
            "text/plain": [
              "Text(0.5, 0, 'Train Step')"
            ]
          },
          "metadata": {
            "tags": []
          },
          "execution_count": 58
        },
        {
          "output_type": "display_data",
          "data": {
            "image/png": "[encoded data removed]",
            "text/plain": [
              "<Figure size 432x288 with 1 Axes>"
            ]
          },
          "metadata": {
            "tags": [],
            "needs_background": "light"
          }
        }
      ]
    },
    {
      "cell_type": "markdown",
      "metadata": {
        "id": "YgkDE7hzo8r5"
      },
      "source": [
        "## Loss and metrics"
      ]
    },
    {
      "cell_type": "markdown",
      "metadata": {
        "id": "oxGJtoDuYIHL"
      },
      "source": [
        "Since the target sequences are padded, it is important to apply a padding mask when calculating the loss."
      ]
    },
    {
      "cell_type": "code",
      "metadata": {
        "id": "MlhsJMm0TW_B"
      },
      "source": [
        "loss_object = tf.keras.losses.SparseCategoricalCrossentropy(\n",
        "    from_logits=True, reduction='none')"
      ],
      "execution_count": 59,
      "outputs": []
    },
    {
      "cell_type": "code",
      "metadata": {
        "id": "67oqVHiT0Eiu"
      },
      "source": [
        "def loss_function(real, pred):\n",
        "  mask = tf.math.logical_not(tf.math.equal(real, 0))\n",
        "  loss_ = loss_object(real, pred)\n",
        "\n",
        "  mask = tf.cast(mask, dtype=loss_.dtype)\n",
        "  loss_ *= mask\n",
        "  \n",
        "  return tf.reduce_sum(loss_)/tf.reduce_sum(mask)\n",
        "\n",
        "\n",
        "def accuracy_function(real, pred):\n",
        "  accuracies = tf.equal(real, tf.argmax(pred, axis=2))\n",
        "  \n",
        "  mask = tf.math.logical_not(tf.math.equal(real, 0))\n",
        "  accuracies = tf.math.logical_and(mask, accuracies)\n",
        "\n",
        "  accuracies = tf.cast(accuracies, dtype=tf.float32)\n",
        "  mask = tf.cast(mask, dtype=tf.float32)\n",
        "  return tf.reduce_sum(accuracies)/tf.reduce_sum(mask)"
      ],
      "execution_count": 60,
      "outputs": []
    },
    {
      "cell_type": "code",
      "metadata": {
        "id": "phlyxMnm-Tpx"
      },
      "source": [
        "train_loss = tf.keras.metrics.Mean(name='train_loss')\n",
        "train_accuracy = tf.keras.metrics.Mean(name='train_accuracy')"
      ],
      "execution_count": 61,
      "outputs": []
    },
    {
      "cell_type": "markdown",
      "metadata": {
        "id": "aeHumfr7zmMa"
      },
      "source": [
        "## Training and checkpointing"
      ]
    },
    {
      "cell_type": "code",
      "metadata": {
        "id": "UiysUa--4tOU",
        "colab": {
          "base_uri": "https://localhost:8080/"
        },
        "outputId": "996ee7da-f1e3-4879-aa6f-9e6e648fc284"
      },
      "source": [
        "transformer = Transformer(\n",
        "    num_layers=num_layers,\n",
        "    d_model=d_model,\n",
        "    num_heads=num_heads,\n",
        "    dff=dff,\n",
        "    input_vocab_size=tokenizers.pt.get_vocab_size(),\n",
        "    target_vocab_size=tokenizers.en.get_vocab_size(), \n",
        "    pe_input=1000, \n",
        "    pe_target=1000,\n",
        "    rate=dropout_rate)"
      ],
      "execution_count": 62,
      "outputs": [
        {
          "output_type": "stream",
          "text": [
            "Port Encoder::init input_vocab_size=8318, d_model=128\n"
          ],
          "name": "stdout"
        }
      ]
    },
    {
      "cell_type": "code",
      "metadata": {
        "id": "ZOJUSB1T8GjM"
      },
      "source": [
        "def create_masks(inp, tar):\n",
        "  # Encoder padding mask\n",
        "  enc_padding_mask = create_padding_mask(inp)\n",
        "  \n",
        "  # Used in the 2nd attention block in the decoder.\n",
        "  # This padding mask is used to mask the encoder outputs.\n",
        "  dec_padding_mask = create_padding_mask(inp)\n",
        "  \n",
        "  # Used in the 1st attention block in the decoder.\n",
        "  # It is used to pad and mask future tokens in the input received by \n",
        "  # the decoder.\n",
        "  look_ahead_mask = create_look_ahead_mask(tf.shape(tar)[1])\n",
        "  dec_target_padding_mask = create_padding_mask(tar)\n",
        "  combined_mask = tf.maximum(dec_target_padding_mask, look_ahead_mask)\n",
        "  \n",
        "  return enc_padding_mask, combined_mask, dec_padding_mask"
      ],
      "execution_count": 63,
      "outputs": []
    },
    {
      "cell_type": "markdown",
      "metadata": {
        "id": "Fzuf06YZp66w"
      },
      "source": [
        "Create the checkpoint path and the checkpoint manager. This will be used to save checkpoints every `n` epochs."
      ]
    },
    {
      "cell_type": "code",
      "metadata": {
        "id": "hNhuYfllndLZ"
      },
      "source": [
        "checkpoint_path = BASE_MODEL_PATH\n",
        "\n",
        "ckpt = tf.train.Checkpoint(transformer=transformer,\n",
        "                           optimizer=optimizer)\n",
        "\n",
        "ckpt_manager = tf.train.CheckpointManager(ckpt, checkpoint_path, max_to_keep=3)\n",
        "\n",
        "# if a checkpoint exists, restore the latest checkpoint.\n",
        "#if ckpt_manager.latest_checkpoint:\n",
        "#  ckpt.restore(ckpt_manager.latest_checkpoint)\n",
        "#  print ('Latest checkpoint restored!!')"
      ],
      "execution_count": 64,
      "outputs": []
    },
    {
      "cell_type": "code",
      "metadata": {
        "colab": {
          "base_uri": "https://localhost:8080/"
        },
        "id": "yh77nGtdTtD8",
        "outputId": "cb555bfd-86c3-4db2-b3c2-fa2b0c7d809e"
      },
      "source": [
        "!ls drive/MyDrive/models/transformer_port_eng_v2"
      ],
      "execution_count": 65,
      "outputs": [
        {
          "output_type": "stream",
          "text": [
            "ted_hrlr_translate_pt_en_converter\n"
          ],
          "name": "stdout"
        }
      ]
    },
    {
      "cell_type": "markdown",
      "metadata": {
        "id": "0Di_Yaa1gf9r"
      },
      "source": [
        "The target is divided into tar_inp and tar_real. tar_inp is passed as an input to the decoder. `tar_real` is that same input shifted by 1: At each location in `tar_input`, `tar_real` contains the  next token that should be predicted.\n",
        "\n",
        "For example, `sentence` = \"SOS A lion in the jungle is sleeping EOS\"\n",
        "\n",
        "`tar_inp` =  \"SOS A lion in the jungle is sleeping\"\n",
        "\n",
        "`tar_real` = \"A lion in the jungle is sleeping EOS\"\n",
        "\n",
        "The transformer is an auto-regressive model: it makes predictions one part at a time, and uses its output so far to decide what to do next. \n",
        "\n",
        "During training this example uses teacher-forcing (like in the [text generation tutorial](./text_generation.ipynb)). Teacher forcing is passing the true output to the next time step regardless of what the model predicts at the current time step.\n",
        "\n",
        "As the transformer predicts each word, *self-attention* allows it to look at the previous words in the input sequence to better predict the next word.\n",
        "\n",
        "To prevent the model from peeking at the expected output the model uses a look-ahead mask."
      ]
    },
    {
      "cell_type": "code",
      "metadata": {
        "id": "LKpoA6q1sJFj"
      },
      "source": [
        "EPOCHS = 20"
      ],
      "execution_count": 66,
      "outputs": []
    },
    {
      "cell_type": "code",
      "metadata": {
        "id": "iJwmp9OE29oj"
      },
      "source": [
        "# The @tf.function trace-compiles train_step into a TF graph for faster\n",
        "# execution. The function specializes to the precise shape of the argument\n",
        "# tensors. To avoid re-tracing due to the variable sequence lengths or variable\n",
        "# batch sizes (the last batch is smaller), use input_signature to specify\n",
        "# more generic shapes.\n",
        "\n",
        "train_step_signature = [\n",
        "    tf.TensorSpec(shape=(None, None), dtype=tf.int64),\n",
        "    tf.TensorSpec(shape=(None, None), dtype=tf.int64),\n",
        "]\n",
        "\n",
        "@tf.function(input_signature=train_step_signature)\n",
        "def train_step(inp, tar):\n",
        "  tar_inp = tar[:, :-1]\n",
        "  tar_real = tar[:, 1:]\n",
        "  \n",
        "  enc_padding_mask, combined_mask, dec_padding_mask = create_masks(inp, tar_inp)\n",
        "  \n",
        "  with tf.GradientTape() as tape:\n",
        "    predictions, _ = transformer(inp, tar_inp, \n",
        "                                 True, \n",
        "                                 enc_padding_mask, \n",
        "                                 combined_mask, \n",
        "                                 dec_padding_mask)\n",
        "    loss = loss_function(tar_real, predictions)\n",
        "\n",
        "  gradients = tape.gradient(loss, transformer.trainable_variables)    \n",
        "  optimizer.apply_gradients(zip(gradients, transformer.trainable_variables))\n",
        "  \n",
        "  train_loss(loss)\n",
        "  train_accuracy(accuracy_function(tar_real, predictions))"
      ],
      "execution_count": 67,
      "outputs": []
    },
    {
      "cell_type": "markdown",
      "metadata": {
        "id": "qM2PDWGDJ_8V"
      },
      "source": [
        "Portuguese is used as the input language and English is the target language."
      ]
    },
    {
      "cell_type": "code",
      "metadata": {
        "colab": {
          "base_uri": "https://localhost:8080/"
        },
        "id": "tLlZNDOkMtsY",
        "outputId": "f7bea73f-5dee-433c-ea90-b0b529cbd847"
      },
      "source": [
        "for (batch, (inp, tar)) in enumerate(train_batches):\n",
        "  print(f'inp.shape={inp.shape}')\n",
        "  print(f'tar.shape={tar.shape}')\n",
        "  print(inp)\n",
        "  break"
      ],
      "execution_count": 68,
      "outputs": [
        {
          "output_type": "stream",
          "text": [
            "inp.shape=(64, 119)\n",
            "tar.shape=(64, 113)\n",
            "tf.Tensor(\n",
            "[[   2   39   39 ...    0    0    0]\n",
            " [   2  493   28 ...    0    0    0]\n",
            " [   2  107   88 ...    0    0    0]\n",
            " ...\n",
            " [   2  240 4764 ...    0    0    0]\n",
            " [   2  191  559 ...    0    0    0]\n",
            " [   2  461  131 ...    0    0    0]], shape=(64, 119), dtype=int64)\n"
          ],
          "name": "stdout"
        }
      ]
    },
    {
      "cell_type": "code",
      "metadata": {
        "id": "bbvmaKNiznHZ",
        "colab": {
          "base_uri": "https://localhost:8080/"
        },
        "outputId": "cde47667-72cf-4fb2-c459-d1b888ad41dc"
      },
      "source": [
        "for epoch in range(EPOCHS):\n",
        "  start = time.time()\n",
        "  \n",
        "  train_loss.reset_states()\n",
        "  train_accuracy.reset_states()\n",
        "  \n",
        "  # inp -> portuguese, tar -> english\n",
        "  batch_start = time.time()\n",
        "  for (batch, (inp, tar)) in enumerate(train_batches):\n",
        "      \n",
        "    train_step(inp, tar)\n",
        "    \n",
        "    if batch % 50 == 0:\n",
        "      print(f'Epoch {epoch + 1} Batch {batch} Loss {train_loss.result():.4f} Accuracy {train_accuracy.result():.4f} with time taken {time.time() - batch_start:.2f} secs')\n",
        "      batch_start = time.time()\n",
        "\n",
        "  #if (epoch + 1) % 5 == 0:\n",
        "  ckpt_save_path = ckpt_manager.save()\n",
        "  print (f'Saving checkpoint for epoch {epoch+1} at {ckpt_save_path}')\n",
        "    \n",
        "  print(f'Epoch {epoch + 1} Loss {train_loss.result():.4f} Accuracy {train_accuracy.result():.4f}')\n",
        "\n",
        "  print(f'Time taken for 1 epoch: {time.time() - start:.2f} secs\\n')"
      ],
      "execution_count": 69,
      "outputs": [
        {
          "output_type": "stream",
          "text": [
            "Epoch 1 Batch 0 Loss 8.8886 Accuracy 0.0000 with time taken 13.23 secs\n",
            "Epoch 1 Batch 50 Loss 8.8191 Accuracy 0.0005 with time taken 3.26 secs\n",
            "Epoch 1 Batch 100 Loss 8.7093 Accuracy 0.0239 with time taken 3.12 secs\n",
            "Epoch 1 Batch 150 Loss 8.5930 Accuracy 0.0354 with time taken 3.19 secs\n",
            "Epoch 1 Batch 200 Loss 8.4505 Accuracy 0.0424 with time taken 3.03 secs\n",
            "Epoch 1 Batch 250 Loss 8.2792 Accuracy 0.0489 with time taken 3.40 secs\n",
            "Epoch 1 Batch 300 Loss 8.0872 Accuracy 0.0579 with time taken 3.02 secs\n",
            "Epoch 1 Batch 350 Loss 7.8899 Accuracy 0.0662 with time taken 3.00 secs\n",
            "Epoch 1 Batch 400 Loss 7.7006 Accuracy 0.0735 with time taken 3.13 secs\n",
            "Epoch 1 Batch 450 Loss 7.5349 Accuracy 0.0795 with time taken 3.15 secs\n",
            "Epoch 1 Batch 500 Loss 7.3907 Accuracy 0.0849 with time taken 3.28 secs\n",
            "Epoch 1 Batch 550 Loss 7.2560 Accuracy 0.0909 with time taken 2.92 secs\n",
            "Epoch 1 Batch 600 Loss 7.1360 Accuracy 0.0967 with time taken 3.02 secs\n",
            "Epoch 1 Batch 650 Loss 7.0225 Accuracy 0.1027 with time taken 3.09 secs\n",
            "Epoch 1 Batch 700 Loss 6.9156 Accuracy 0.1089 with time taken 3.07 secs\n",
            "Epoch 1 Batch 750 Loss 6.8183 Accuracy 0.1147 with time taken 2.94 secs\n",
            "Epoch 1 Batch 800 Loss 6.7263 Accuracy 0.1202 with time taken 3.33 secs\n",
            "Saving checkpoint for epoch 1 at drive/MyDrive/models/transformer_port_eng_v2/ckpt-1\n",
            "Epoch 1 Loss 6.7125 Accuracy 0.1210\n",
            "Time taken for 1 epoch: 64.04 secs\n",
            "\n",
            "Epoch 2 Batch 0 Loss 5.1810 Accuracy 0.2157 with time taken 0.50 secs\n",
            "Epoch 2 Batch 50 Loss 5.2770 Accuracy 0.2062 with time taken 3.10 secs\n",
            "Epoch 2 Batch 100 Loss 5.2396 Accuracy 0.2113 with time taken 3.07 secs\n",
            "Epoch 2 Batch 150 Loss 5.2191 Accuracy 0.2141 with time taken 3.03 secs\n",
            "Epoch 2 Batch 200 Loss 5.1799 Accuracy 0.2183 with time taken 3.08 secs\n",
            "Epoch 2 Batch 250 Loss 5.1526 Accuracy 0.2215 with time taken 2.93 secs\n",
            "Epoch 2 Batch 300 Loss 5.1221 Accuracy 0.2247 with time taken 3.12 secs\n",
            "Epoch 2 Batch 350 Loss 5.0954 Accuracy 0.2274 with time taken 3.16 secs\n",
            "Epoch 2 Batch 400 Loss 5.0701 Accuracy 0.2300 with time taken 3.11 secs\n",
            "Epoch 2 Batch 450 Loss 5.0472 Accuracy 0.2324 with time taken 2.97 secs\n",
            "Epoch 2 Batch 500 Loss 5.0262 Accuracy 0.2342 with time taken 3.14 secs\n",
            "Epoch 2 Batch 550 Loss 5.0039 Accuracy 0.2363 with time taken 3.14 secs\n",
            "Epoch 2 Batch 600 Loss 4.9839 Accuracy 0.2385 with time taken 3.09 secs\n",
            "Epoch 2 Batch 650 Loss 4.9658 Accuracy 0.2400 with time taken 3.19 secs\n",
            "Epoch 2 Batch 700 Loss 4.9477 Accuracy 0.2417 with time taken 3.00 secs\n",
            "Epoch 2 Batch 750 Loss 4.9307 Accuracy 0.2433 with time taken 3.04 secs\n",
            "Epoch 2 Batch 800 Loss 4.9139 Accuracy 0.2445 with time taken 2.98 secs\n",
            "Saving checkpoint for epoch 2 at drive/MyDrive/models/transformer_port_eng_v2/ckpt-2\n",
            "Epoch 2 Loss 4.9108 Accuracy 0.2448\n",
            "Time taken for 1 epoch: 50.49 secs\n",
            "\n",
            "Epoch 3 Batch 0 Loss 4.5821 Accuracy 0.2456 with time taken 0.49 secs\n",
            "Epoch 3 Batch 50 Loss 4.5979 Accuracy 0.2707 with time taken 3.13 secs\n",
            "Epoch 3 Batch 100 Loss 4.5781 Accuracy 0.2736 with time taken 3.06 secs\n",
            "Epoch 3 Batch 150 Loss 4.5564 Accuracy 0.2759 with time taken 3.17 secs\n",
            "Epoch 3 Batch 200 Loss 4.5390 Accuracy 0.2780 with time taken 3.23 secs\n",
            "Epoch 3 Batch 250 Loss 4.5290 Accuracy 0.2791 with time taken 3.17 secs\n",
            "Epoch 3 Batch 300 Loss 4.5150 Accuracy 0.2809 with time taken 3.08 secs\n",
            "Epoch 3 Batch 350 Loss 4.5002 Accuracy 0.2825 with time taken 2.97 secs\n",
            "Epoch 3 Batch 400 Loss 4.4842 Accuracy 0.2843 with time taken 2.88 secs\n",
            "Epoch 3 Batch 450 Loss 4.4683 Accuracy 0.2864 with time taken 3.06 secs\n",
            "Epoch 3 Batch 500 Loss 4.4519 Accuracy 0.2885 with time taken 3.06 secs\n",
            "Epoch 3 Batch 550 Loss 4.4372 Accuracy 0.2901 with time taken 3.10 secs\n",
            "Epoch 3 Batch 600 Loss 4.4207 Accuracy 0.2923 with time taken 3.09 secs\n",
            "Epoch 3 Batch 650 Loss 4.4065 Accuracy 0.2939 with time taken 3.30 secs\n",
            "Epoch 3 Batch 700 Loss 4.3903 Accuracy 0.2958 with time taken 3.13 secs\n",
            "Epoch 3 Batch 750 Loss 4.3758 Accuracy 0.2978 with time taken 3.08 secs\n",
            "Epoch 3 Batch 800 Loss 4.3605 Accuracy 0.2997 with time taken 3.26 secs\n",
            "Saving checkpoint for epoch 3 at drive/MyDrive/models/transformer_port_eng_v2/ckpt-3\n",
            "Epoch 3 Loss 4.3584 Accuracy 0.2999\n",
            "Time taken for 1 epoch: 51.11 secs\n",
            "\n",
            "Epoch 4 Batch 0 Loss 3.8848 Accuracy 0.3546 with time taken 0.50 secs\n",
            "Epoch 4 Batch 50 Loss 3.9863 Accuracy 0.3404 with time taken 3.06 secs\n",
            "Epoch 4 Batch 100 Loss 3.9776 Accuracy 0.3420 with time taken 3.24 secs\n",
            "Epoch 4 Batch 150 Loss 3.9753 Accuracy 0.3426 with time taken 3.01 secs\n",
            "Epoch 4 Batch 200 Loss 3.9617 Accuracy 0.3451 with time taken 3.20 secs\n",
            "Epoch 4 Batch 250 Loss 3.9443 Accuracy 0.3474 with time taken 3.04 secs\n",
            "Epoch 4 Batch 300 Loss 3.9316 Accuracy 0.3491 with time taken 3.08 secs\n",
            "Epoch 4 Batch 350 Loss 3.9148 Accuracy 0.3512 with time taken 3.13 secs\n",
            "Epoch 4 Batch 400 Loss 3.8977 Accuracy 0.3534 with time taken 3.09 secs\n",
            "Epoch 4 Batch 450 Loss 3.8821 Accuracy 0.3554 with time taken 3.08 secs\n",
            "Epoch 4 Batch 500 Loss 3.8657 Accuracy 0.3576 with time taken 3.10 secs\n",
            "Epoch 4 Batch 550 Loss 3.8529 Accuracy 0.3593 with time taken 2.99 secs\n",
            "Epoch 4 Batch 600 Loss 3.8409 Accuracy 0.3611 with time taken 3.16 secs\n",
            "Epoch 4 Batch 650 Loss 3.8289 Accuracy 0.3626 with time taken 3.13 secs\n",
            "Epoch 4 Batch 700 Loss 3.8144 Accuracy 0.3647 with time taken 3.08 secs\n",
            "Epoch 4 Batch 750 Loss 3.8048 Accuracy 0.3660 with time taken 3.23 secs\n",
            "Epoch 4 Batch 800 Loss 3.7915 Accuracy 0.3677 with time taken 3.32 secs\n",
            "Saving checkpoint for epoch 4 at drive/MyDrive/models/transformer_port_eng_v2/ckpt-4\n",
            "Epoch 4 Loss 3.7895 Accuracy 0.3680\n",
            "Time taken for 1 epoch: 51.25 secs\n",
            "\n",
            "Epoch 5 Batch 0 Loss 3.5125 Accuracy 0.3933 with time taken 0.51 secs\n",
            "Epoch 5 Batch 50 Loss 3.4508 Accuracy 0.4052 with time taken 3.12 secs\n",
            "Epoch 5 Batch 100 Loss 3.4559 Accuracy 0.4056 with time taken 3.31 secs\n",
            "Epoch 5 Batch 150 Loss 3.4389 Accuracy 0.4092 with time taken 2.95 secs\n",
            "Epoch 5 Batch 200 Loss 3.4271 Accuracy 0.4110 with time taken 3.01 secs\n",
            "Epoch 5 Batch 250 Loss 3.4266 Accuracy 0.4109 with time taken 3.10 secs\n",
            "Epoch 5 Batch 300 Loss 3.4236 Accuracy 0.4111 with time taken 3.05 secs\n",
            "Epoch 5 Batch 350 Loss 3.4160 Accuracy 0.4121 with time taken 2.94 secs\n",
            "Epoch 5 Batch 400 Loss 3.4012 Accuracy 0.4140 with time taken 3.02 secs\n",
            "Epoch 5 Batch 450 Loss 3.3901 Accuracy 0.4156 with time taken 3.06 secs\n",
            "Epoch 5 Batch 500 Loss 3.3818 Accuracy 0.4167 with time taken 3.00 secs\n",
            "Epoch 5 Batch 550 Loss 3.3715 Accuracy 0.4178 with time taken 3.17 secs\n",
            "Epoch 5 Batch 600 Loss 3.3642 Accuracy 0.4188 with time taken 3.15 secs\n",
            "Epoch 5 Batch 650 Loss 3.3568 Accuracy 0.4197 with time taken 3.25 secs\n",
            "Epoch 5 Batch 700 Loss 3.3486 Accuracy 0.4210 with time taken 3.07 secs\n",
            "Epoch 5 Batch 750 Loss 3.3432 Accuracy 0.4217 with time taken 3.18 secs\n",
            "Epoch 5 Batch 800 Loss 3.3366 Accuracy 0.4227 with time taken 3.20 secs\n",
            "Saving checkpoint for epoch 5 at drive/MyDrive/models/transformer_port_eng_v2/ckpt-5\n",
            "Epoch 5 Loss 3.3356 Accuracy 0.4229\n",
            "Time taken for 1 epoch: 50.91 secs\n",
            "\n",
            "Epoch 6 Batch 0 Loss 3.0383 Accuracy 0.4607 with time taken 0.51 secs\n",
            "Epoch 6 Batch 50 Loss 3.0411 Accuracy 0.4572 with time taken 2.92 secs\n",
            "Epoch 6 Batch 100 Loss 3.0221 Accuracy 0.4605 with time taken 2.99 secs\n",
            "Epoch 6 Batch 150 Loss 3.0313 Accuracy 0.4590 with time taken 3.17 secs\n",
            "Epoch 6 Batch 200 Loss 3.0301 Accuracy 0.4589 with time taken 3.14 secs\n",
            "Epoch 6 Batch 250 Loss 3.0255 Accuracy 0.4593 with time taken 3.30 secs\n",
            "Epoch 6 Batch 300 Loss 3.0149 Accuracy 0.4608 with time taken 2.98 secs\n",
            "Epoch 6 Batch 350 Loss 3.0061 Accuracy 0.4621 with time taken 3.00 secs\n",
            "Epoch 6 Batch 400 Loss 2.9966 Accuracy 0.4635 with time taken 3.03 secs\n",
            "Epoch 6 Batch 450 Loss 2.9888 Accuracy 0.4646 with time taken 3.07 secs\n",
            "Epoch 6 Batch 500 Loss 2.9834 Accuracy 0.4651 with time taken 3.31 secs\n",
            "Epoch 6 Batch 550 Loss 2.9715 Accuracy 0.4669 with time taken 2.94 secs\n",
            "Epoch 6 Batch 600 Loss 2.9632 Accuracy 0.4681 with time taken 3.11 secs\n",
            "Epoch 6 Batch 650 Loss 2.9555 Accuracy 0.4694 with time taken 3.08 secs\n",
            "Epoch 6 Batch 700 Loss 2.9471 Accuracy 0.4706 with time taken 3.01 secs\n",
            "Epoch 6 Batch 750 Loss 2.9423 Accuracy 0.4714 with time taken 3.09 secs\n",
            "Epoch 6 Batch 800 Loss 2.9341 Accuracy 0.4727 with time taken 3.07 secs\n",
            "Saving checkpoint for epoch 6 at drive/MyDrive/models/transformer_port_eng_v2/ckpt-6\n",
            "Epoch 6 Loss 2.9332 Accuracy 0.4728\n",
            "Time taken for 1 epoch: 50.60 secs\n",
            "\n",
            "Epoch 7 Batch 0 Loss 2.7614 Accuracy 0.4927 with time taken 0.49 secs\n",
            "Epoch 7 Batch 50 Loss 2.6733 Accuracy 0.5017 with time taken 3.14 secs\n",
            "Epoch 7 Batch 100 Loss 2.6373 Accuracy 0.5080 with time taken 3.03 secs\n",
            "Epoch 7 Batch 150 Loss 2.6526 Accuracy 0.5060 with time taken 3.20 secs\n",
            "Epoch 7 Batch 200 Loss 2.6481 Accuracy 0.5076 with time taken 3.13 secs\n",
            "Epoch 7 Batch 250 Loss 2.6401 Accuracy 0.5091 with time taken 3.01 secs\n",
            "Epoch 7 Batch 300 Loss 2.6406 Accuracy 0.5088 with time taken 3.02 secs\n",
            "Epoch 7 Batch 350 Loss 2.6406 Accuracy 0.5085 with time taken 2.98 secs\n",
            "Epoch 7 Batch 400 Loss 2.6353 Accuracy 0.5091 with time taken 2.98 secs\n",
            "Epoch 7 Batch 450 Loss 2.6304 Accuracy 0.5097 with time taken 3.12 secs\n",
            "Epoch 7 Batch 500 Loss 2.6274 Accuracy 0.5103 with time taken 3.33 secs\n",
            "Epoch 7 Batch 550 Loss 2.6235 Accuracy 0.5111 with time taken 3.08 secs\n",
            "Epoch 7 Batch 600 Loss 2.6187 Accuracy 0.5121 with time taken 3.18 secs\n",
            "Epoch 7 Batch 650 Loss 2.6159 Accuracy 0.5126 with time taken 3.02 secs\n",
            "Epoch 7 Batch 700 Loss 2.6122 Accuracy 0.5136 with time taken 3.14 secs\n",
            "Epoch 7 Batch 750 Loss 2.6082 Accuracy 0.5142 with time taken 3.06 secs\n",
            "Epoch 7 Batch 800 Loss 2.6052 Accuracy 0.5148 with time taken 3.11 secs\n",
            "Saving checkpoint for epoch 7 at drive/MyDrive/models/transformer_port_eng_v2/ckpt-7\n",
            "Epoch 7 Loss 2.6051 Accuracy 0.5148\n",
            "Time taken for 1 epoch: 50.91 secs\n",
            "\n",
            "Epoch 8 Batch 0 Loss 2.3864 Accuracy 0.5379 with time taken 0.55 secs\n",
            "Epoch 8 Batch 50 Loss 2.3893 Accuracy 0.5401 with time taken 3.19 secs\n",
            "Epoch 8 Batch 100 Loss 2.3928 Accuracy 0.5420 with time taken 3.07 secs\n",
            "Epoch 8 Batch 150 Loss 2.3952 Accuracy 0.5412 with time taken 3.24 secs\n",
            "Epoch 8 Batch 200 Loss 2.3843 Accuracy 0.5434 with time taken 3.20 secs\n",
            "Epoch 8 Batch 250 Loss 2.3914 Accuracy 0.5424 with time taken 3.14 secs\n",
            "Epoch 8 Batch 300 Loss 2.3937 Accuracy 0.5420 with time taken 3.14 secs\n",
            "Epoch 8 Batch 350 Loss 2.3898 Accuracy 0.5426 with time taken 3.09 secs\n",
            "Epoch 8 Batch 400 Loss 2.3846 Accuracy 0.5437 with time taken 3.11 secs\n",
            "Epoch 8 Batch 450 Loss 2.3814 Accuracy 0.5440 with time taken 2.97 secs\n",
            "Epoch 8 Batch 500 Loss 2.3760 Accuracy 0.5449 with time taken 3.10 secs\n",
            "Epoch 8 Batch 550 Loss 2.3766 Accuracy 0.5449 with time taken 3.15 secs\n",
            "Epoch 8 Batch 600 Loss 2.3750 Accuracy 0.5454 with time taken 3.06 secs\n",
            "Epoch 8 Batch 650 Loss 2.3739 Accuracy 0.5457 with time taken 3.09 secs\n",
            "Epoch 8 Batch 700 Loss 2.3714 Accuracy 0.5460 with time taken 3.17 secs\n",
            "Epoch 8 Batch 750 Loss 2.3700 Accuracy 0.5463 with time taken 3.10 secs\n",
            "Epoch 8 Batch 800 Loss 2.3698 Accuracy 0.5465 with time taken 3.10 secs\n",
            "Saving checkpoint for epoch 8 at drive/MyDrive/models/transformer_port_eng_v2/ckpt-8\n",
            "Epoch 8 Loss 2.3695 Accuracy 0.5465\n",
            "Time taken for 1 epoch: 51.29 secs\n",
            "\n",
            "Epoch 9 Batch 0 Loss 2.0836 Accuracy 0.5871 with time taken 0.50 secs\n",
            "Epoch 9 Batch 50 Loss 2.1883 Accuracy 0.5710 with time taken 3.28 secs\n",
            "Epoch 9 Batch 100 Loss 2.1883 Accuracy 0.5714 with time taken 3.13 secs\n",
            "Epoch 9 Batch 150 Loss 2.1912 Accuracy 0.5706 with time taken 3.07 secs\n",
            "Epoch 9 Batch 200 Loss 2.1928 Accuracy 0.5704 with time taken 3.05 secs\n",
            "Epoch 9 Batch 250 Loss 2.1919 Accuracy 0.5707 with time taken 3.19 secs\n",
            "Epoch 9 Batch 300 Loss 2.1904 Accuracy 0.5710 with time taken 3.14 secs\n",
            "Epoch 9 Batch 350 Loss 2.1927 Accuracy 0.5705 with time taken 3.00 secs\n",
            "Epoch 9 Batch 400 Loss 2.1896 Accuracy 0.5710 with time taken 3.06 secs\n",
            "Epoch 9 Batch 450 Loss 2.1920 Accuracy 0.5710 with time taken 3.18 secs\n",
            "Epoch 9 Batch 500 Loss 2.1926 Accuracy 0.5707 with time taken 3.17 secs\n",
            "Epoch 9 Batch 550 Loss 2.1913 Accuracy 0.5711 with time taken 3.26 secs\n",
            "Epoch 9 Batch 600 Loss 2.1907 Accuracy 0.5711 with time taken 3.03 secs\n",
            "Epoch 9 Batch 650 Loss 2.1938 Accuracy 0.5707 with time taken 3.21 secs\n",
            "Epoch 9 Batch 700 Loss 2.1922 Accuracy 0.5710 with time taken 3.07 secs\n",
            "Epoch 9 Batch 750 Loss 2.1927 Accuracy 0.5710 with time taken 3.03 secs\n",
            "Epoch 9 Batch 800 Loss 2.1952 Accuracy 0.5707 with time taken 3.20 secs\n",
            "Saving checkpoint for epoch 9 at drive/MyDrive/models/transformer_port_eng_v2/ckpt-9\n",
            "Epoch 9 Loss 2.1951 Accuracy 0.5707\n",
            "Time taken for 1 epoch: 51.46 secs\n",
            "\n",
            "Epoch 10 Batch 0 Loss 2.2718 Accuracy 0.5561 with time taken 0.67 secs\n",
            "Epoch 10 Batch 50 Loss 2.0138 Accuracy 0.5965 with time taken 3.12 secs\n",
            "Epoch 10 Batch 100 Loss 2.0500 Accuracy 0.5901 with time taken 3.17 secs\n",
            "Epoch 10 Batch 150 Loss 2.0459 Accuracy 0.5908 with time taken 3.06 secs\n",
            "Epoch 10 Batch 200 Loss 2.0586 Accuracy 0.5886 with time taken 3.23 secs\n",
            "Epoch 10 Batch 250 Loss 2.0629 Accuracy 0.5880 with time taken 3.13 secs\n",
            "Epoch 10 Batch 300 Loss 2.0619 Accuracy 0.5882 with time taken 3.06 secs\n",
            "Epoch 10 Batch 350 Loss 2.0583 Accuracy 0.5889 with time taken 3.15 secs\n",
            "Epoch 10 Batch 400 Loss 2.0565 Accuracy 0.5895 with time taken 3.11 secs\n",
            "Epoch 10 Batch 450 Loss 2.0585 Accuracy 0.5894 with time taken 3.07 secs\n",
            "Epoch 10 Batch 500 Loss 2.0574 Accuracy 0.5895 with time taken 3.32 secs\n",
            "Epoch 10 Batch 550 Loss 2.0570 Accuracy 0.5894 with time taken 3.02 secs\n",
            "Epoch 10 Batch 600 Loss 2.0566 Accuracy 0.5893 with time taken 2.93 secs\n",
            "Epoch 10 Batch 650 Loss 2.0574 Accuracy 0.5894 with time taken 3.07 secs\n",
            "Epoch 10 Batch 700 Loss 2.0589 Accuracy 0.5893 with time taken 3.04 secs\n",
            "Epoch 10 Batch 750 Loss 2.0578 Accuracy 0.5897 with time taken 3.04 secs\n",
            "Epoch 10 Batch 800 Loss 2.0584 Accuracy 0.5896 with time taken 3.15 secs\n",
            "Saving checkpoint for epoch 10 at drive/MyDrive/models/transformer_port_eng_v2/ckpt-10\n",
            "Epoch 10 Loss 2.0585 Accuracy 0.5896\n",
            "Time taken for 1 epoch: 51.17 secs\n",
            "\n",
            "Epoch 11 Batch 0 Loss 2.0650 Accuracy 0.5937 with time taken 0.52 secs\n",
            "Epoch 11 Batch 50 Loss 1.9286 Accuracy 0.6056 with time taken 3.10 secs\n",
            "Epoch 11 Batch 100 Loss 1.9200 Accuracy 0.6081 with time taken 3.12 secs\n",
            "Epoch 11 Batch 150 Loss 1.9255 Accuracy 0.6078 with time taken 3.08 secs\n",
            "Epoch 11 Batch 200 Loss 1.9314 Accuracy 0.6074 with time taken 3.08 secs\n",
            "Epoch 11 Batch 250 Loss 1.9377 Accuracy 0.6062 with time taken 3.11 secs\n",
            "Epoch 11 Batch 300 Loss 1.9425 Accuracy 0.6055 with time taken 3.21 secs\n",
            "Epoch 11 Batch 350 Loss 1.9392 Accuracy 0.6062 with time taken 3.03 secs\n",
            "Epoch 11 Batch 400 Loss 1.9385 Accuracy 0.6064 with time taken 2.98 secs\n",
            "Epoch 11 Batch 450 Loss 1.9413 Accuracy 0.6059 with time taken 3.22 secs\n",
            "Epoch 11 Batch 500 Loss 1.9446 Accuracy 0.6053 with time taken 3.09 secs\n",
            "Epoch 11 Batch 550 Loss 1.9472 Accuracy 0.6051 with time taken 3.20 secs\n",
            "Epoch 11 Batch 600 Loss 1.9442 Accuracy 0.6056 with time taken 2.98 secs\n",
            "Epoch 11 Batch 650 Loss 1.9467 Accuracy 0.6051 with time taken 3.06 secs\n",
            "Epoch 11 Batch 700 Loss 1.9466 Accuracy 0.6052 with time taken 3.22 secs\n",
            "Epoch 11 Batch 750 Loss 1.9476 Accuracy 0.6052 with time taken 3.02 secs\n",
            "Epoch 11 Batch 800 Loss 1.9479 Accuracy 0.6054 with time taken 3.07 secs\n",
            "Saving checkpoint for epoch 11 at drive/MyDrive/models/transformer_port_eng_v2/ckpt-11\n",
            "Epoch 11 Loss 1.9481 Accuracy 0.6054\n",
            "Time taken for 1 epoch: 50.96 secs\n",
            "\n",
            "Epoch 12 Batch 0 Loss 1.8291 Accuracy 0.6220 with time taken 0.52 secs\n",
            "Epoch 12 Batch 50 Loss 1.8092 Accuracy 0.6274 with time taken 3.08 secs\n",
            "Epoch 12 Batch 100 Loss 1.8228 Accuracy 0.6241 with time taken 3.12 secs\n",
            "Epoch 12 Batch 150 Loss 1.8263 Accuracy 0.6233 with time taken 3.25 secs\n",
            "Epoch 12 Batch 200 Loss 1.8338 Accuracy 0.6213 with time taken 3.11 secs\n",
            "Epoch 12 Batch 250 Loss 1.8346 Accuracy 0.6215 with time taken 3.05 secs\n",
            "Epoch 12 Batch 300 Loss 1.8384 Accuracy 0.6206 with time taken 3.04 secs\n",
            "Epoch 12 Batch 350 Loss 1.8425 Accuracy 0.6199 with time taken 3.21 secs\n",
            "Epoch 12 Batch 400 Loss 1.8437 Accuracy 0.6199 with time taken 3.02 secs\n",
            "Epoch 12 Batch 450 Loss 1.8453 Accuracy 0.6197 with time taken 3.15 secs\n",
            "Epoch 12 Batch 500 Loss 1.8439 Accuracy 0.6199 with time taken 3.08 secs\n",
            "Epoch 12 Batch 550 Loss 1.8450 Accuracy 0.6198 with time taken 3.07 secs\n",
            "Epoch 12 Batch 600 Loss 1.8461 Accuracy 0.6197 with time taken 3.12 secs\n",
            "Epoch 12 Batch 650 Loss 1.8489 Accuracy 0.6193 with time taken 3.07 secs\n",
            "Epoch 12 Batch 700 Loss 1.8495 Accuracy 0.6193 with time taken 3.15 secs\n",
            "Epoch 12 Batch 750 Loss 1.8516 Accuracy 0.6192 with time taken 3.02 secs\n",
            "Epoch 12 Batch 800 Loss 1.8558 Accuracy 0.6187 with time taken 3.11 secs\n",
            "Saving checkpoint for epoch 12 at drive/MyDrive/models/transformer_port_eng_v2/ckpt-12\n",
            "Epoch 12 Loss 1.8559 Accuracy 0.6187\n",
            "Time taken for 1 epoch: 51.02 secs\n",
            "\n",
            "Epoch 13 Batch 0 Loss 1.7987 Accuracy 0.6332 with time taken 0.49 secs\n",
            "Epoch 13 Batch 50 Loss 1.7222 Accuracy 0.6370 with time taken 3.09 secs\n",
            "Epoch 13 Batch 100 Loss 1.7363 Accuracy 0.6356 with time taken 3.07 secs\n",
            "Epoch 13 Batch 150 Loss 1.7333 Accuracy 0.6368 with time taken 3.07 secs\n",
            "Epoch 13 Batch 200 Loss 1.7388 Accuracy 0.6357 with time taken 3.18 secs\n",
            "Epoch 13 Batch 250 Loss 1.7406 Accuracy 0.6348 with time taken 3.07 secs\n",
            "Epoch 13 Batch 300 Loss 1.7487 Accuracy 0.6336 with time taken 3.00 secs\n",
            "Epoch 13 Batch 350 Loss 1.7486 Accuracy 0.6337 with time taken 2.95 secs\n",
            "Epoch 13 Batch 400 Loss 1.7534 Accuracy 0.6329 with time taken 3.08 secs\n",
            "Epoch 13 Batch 450 Loss 1.7571 Accuracy 0.6325 with time taken 3.28 secs\n",
            "Epoch 13 Batch 500 Loss 1.7604 Accuracy 0.6321 with time taken 3.10 secs\n",
            "Epoch 13 Batch 550 Loss 1.7614 Accuracy 0.6321 with time taken 3.04 secs\n",
            "Epoch 13 Batch 600 Loss 1.7653 Accuracy 0.6318 with time taken 3.19 secs\n",
            "Epoch 13 Batch 650 Loss 1.7655 Accuracy 0.6318 with time taken 3.02 secs\n",
            "Epoch 13 Batch 700 Loss 1.7693 Accuracy 0.6313 with time taken 3.13 secs\n",
            "Epoch 13 Batch 750 Loss 1.7735 Accuracy 0.6306 with time taken 3.19 secs\n",
            "Epoch 13 Batch 800 Loss 1.7761 Accuracy 0.6303 with time taken 3.01 secs\n",
            "Saving checkpoint for epoch 13 at drive/MyDrive/models/transformer_port_eng_v2/ckpt-13\n",
            "Epoch 13 Loss 1.7769 Accuracy 0.6302\n",
            "Time taken for 1 epoch: 50.86 secs\n",
            "\n",
            "Epoch 14 Batch 0 Loss 1.6688 Accuracy 0.6404 with time taken 0.51 secs\n",
            "Epoch 14 Batch 50 Loss 1.6282 Accuracy 0.6530 with time taken 3.04 secs\n",
            "Epoch 14 Batch 100 Loss 1.6547 Accuracy 0.6480 with time taken 3.27 secs\n",
            "Epoch 14 Batch 150 Loss 1.6669 Accuracy 0.6460 with time taken 3.23 secs\n",
            "Epoch 14 Batch 200 Loss 1.6756 Accuracy 0.6444 with time taken 3.13 secs\n",
            "Epoch 14 Batch 250 Loss 1.6755 Accuracy 0.6445 with time taken 2.93 secs\n",
            "Epoch 14 Batch 300 Loss 1.6782 Accuracy 0.6442 with time taken 2.96 secs\n",
            "Epoch 14 Batch 350 Loss 1.6841 Accuracy 0.6432 with time taken 3.14 secs\n",
            "Epoch 14 Batch 400 Loss 1.6887 Accuracy 0.6427 with time taken 3.04 secs\n",
            "Epoch 14 Batch 450 Loss 1.6906 Accuracy 0.6425 with time taken 3.10 secs\n",
            "Epoch 14 Batch 500 Loss 1.6918 Accuracy 0.6426 with time taken 3.20 secs\n",
            "Epoch 14 Batch 550 Loss 1.6937 Accuracy 0.6420 with time taken 3.08 secs\n",
            "Epoch 14 Batch 600 Loss 1.6952 Accuracy 0.6418 with time taken 3.01 secs\n",
            "Epoch 14 Batch 650 Loss 1.6986 Accuracy 0.6412 with time taken 3.13 secs\n",
            "Epoch 14 Batch 700 Loss 1.7026 Accuracy 0.6406 with time taken 3.10 secs\n",
            "Epoch 14 Batch 750 Loss 1.7045 Accuracy 0.6406 with time taken 3.01 secs\n",
            "Epoch 14 Batch 800 Loss 1.7077 Accuracy 0.6403 with time taken 3.02 secs\n",
            "Saving checkpoint for epoch 14 at drive/MyDrive/models/transformer_port_eng_v2/ckpt-14\n",
            "Epoch 14 Loss 1.7083 Accuracy 0.6402\n",
            "Time taken for 1 epoch: 50.75 secs\n",
            "\n",
            "Epoch 15 Batch 0 Loss 1.4826 Accuracy 0.6661 with time taken 0.49 secs\n",
            "Epoch 15 Batch 50 Loss 1.5891 Accuracy 0.6586 with time taken 2.97 secs\n",
            "Epoch 15 Batch 100 Loss 1.6002 Accuracy 0.6566 with time taken 3.12 secs\n",
            "Epoch 15 Batch 150 Loss 1.6072 Accuracy 0.6550 with time taken 3.32 secs\n",
            "Epoch 15 Batch 200 Loss 1.6118 Accuracy 0.6538 with time taken 3.08 secs\n",
            "Epoch 15 Batch 250 Loss 1.6154 Accuracy 0.6533 with time taken 3.09 secs\n",
            "Epoch 15 Batch 300 Loss 1.6208 Accuracy 0.6527 with time taken 3.15 secs\n",
            "Epoch 15 Batch 350 Loss 1.6251 Accuracy 0.6520 with time taken 3.20 secs\n",
            "Epoch 15 Batch 400 Loss 1.6283 Accuracy 0.6516 with time taken 3.23 secs\n",
            "Epoch 15 Batch 450 Loss 1.6330 Accuracy 0.6510 with time taken 3.38 secs\n",
            "Epoch 15 Batch 500 Loss 1.6333 Accuracy 0.6511 with time taken 3.04 secs\n",
            "Epoch 15 Batch 550 Loss 1.6334 Accuracy 0.6511 with time taken 3.08 secs\n",
            "Epoch 15 Batch 600 Loss 1.6371 Accuracy 0.6505 with time taken 3.05 secs\n",
            "Epoch 15 Batch 650 Loss 1.6406 Accuracy 0.6501 with time taken 3.17 secs\n",
            "Epoch 15 Batch 700 Loss 1.6430 Accuracy 0.6497 with time taken 3.03 secs\n",
            "Epoch 15 Batch 750 Loss 1.6455 Accuracy 0.6494 with time taken 3.11 secs\n",
            "Epoch 15 Batch 800 Loss 1.6492 Accuracy 0.6490 with time taken 3.13 secs\n",
            "Saving checkpoint for epoch 15 at drive/MyDrive/models/transformer_port_eng_v2/ckpt-15\n",
            "Epoch 15 Loss 1.6500 Accuracy 0.6488\n",
            "Time taken for 1 epoch: 51.68 secs\n",
            "\n",
            "Epoch 16 Batch 0 Loss 1.5056 Accuracy 0.6746 with time taken 0.53 secs\n",
            "Epoch 16 Batch 50 Loss 1.5594 Accuracy 0.6614 with time taken 3.04 secs\n",
            "Epoch 16 Batch 100 Loss 1.5358 Accuracy 0.6670 with time taken 2.96 secs\n",
            "Epoch 16 Batch 150 Loss 1.5486 Accuracy 0.6647 with time taken 3.04 secs\n",
            "Epoch 16 Batch 200 Loss 1.5530 Accuracy 0.6641 with time taken 3.12 secs\n",
            "Epoch 16 Batch 250 Loss 1.5650 Accuracy 0.6621 with time taken 3.20 secs\n",
            "Epoch 16 Batch 300 Loss 1.5697 Accuracy 0.6611 with time taken 3.09 secs\n",
            "Epoch 16 Batch 350 Loss 1.5692 Accuracy 0.6613 with time taken 3.12 secs\n",
            "Epoch 16 Batch 400 Loss 1.5739 Accuracy 0.6605 with time taken 3.00 secs\n",
            "Epoch 16 Batch 450 Loss 1.5766 Accuracy 0.6599 with time taken 3.19 secs\n",
            "Epoch 16 Batch 500 Loss 1.5816 Accuracy 0.6591 with time taken 3.17 secs\n",
            "Epoch 16 Batch 550 Loss 1.5828 Accuracy 0.6588 with time taken 3.11 secs\n",
            "Epoch 16 Batch 600 Loss 1.5824 Accuracy 0.6592 with time taken 3.03 secs\n",
            "Epoch 16 Batch 650 Loss 1.5869 Accuracy 0.6587 with time taken 3.17 secs\n",
            "Epoch 16 Batch 700 Loss 1.5904 Accuracy 0.6582 with time taken 3.10 secs\n",
            "Epoch 16 Batch 750 Loss 1.5927 Accuracy 0.6579 with time taken 3.17 secs\n",
            "Epoch 16 Batch 800 Loss 1.5938 Accuracy 0.6578 with time taken 3.08 secs\n",
            "Saving checkpoint for epoch 16 at drive/MyDrive/models/transformer_port_eng_v2/ckpt-16\n",
            "Epoch 16 Loss 1.5954 Accuracy 0.6575\n",
            "Time taken for 1 epoch: 51.03 secs\n",
            "\n",
            "Epoch 17 Batch 0 Loss 1.3688 Accuracy 0.6998 with time taken 0.51 secs\n",
            "Epoch 17 Batch 50 Loss 1.4855 Accuracy 0.6744 with time taken 3.18 secs\n",
            "Epoch 17 Batch 100 Loss 1.4924 Accuracy 0.6727 with time taken 3.04 secs\n",
            "Epoch 17 Batch 150 Loss 1.4975 Accuracy 0.6718 with time taken 3.03 secs\n",
            "Epoch 17 Batch 200 Loss 1.5031 Accuracy 0.6712 with time taken 3.16 secs\n",
            "Epoch 17 Batch 250 Loss 1.5051 Accuracy 0.6709 with time taken 3.01 secs\n",
            "Epoch 17 Batch 300 Loss 1.5115 Accuracy 0.6700 with time taken 3.19 secs\n",
            "Epoch 17 Batch 350 Loss 1.5194 Accuracy 0.6687 with time taken 3.13 secs\n",
            "Epoch 17 Batch 400 Loss 1.5206 Accuracy 0.6686 with time taken 3.14 secs\n",
            "Epoch 17 Batch 450 Loss 1.5270 Accuracy 0.6675 with time taken 3.30 secs\n",
            "Epoch 17 Batch 500 Loss 1.5290 Accuracy 0.6672 with time taken 3.15 secs\n",
            "Epoch 17 Batch 550 Loss 1.5314 Accuracy 0.6670 with time taken 2.98 secs\n",
            "Epoch 17 Batch 600 Loss 1.5358 Accuracy 0.6662 with time taken 3.24 secs\n",
            "Epoch 17 Batch 650 Loss 1.5363 Accuracy 0.6661 with time taken 3.09 secs\n",
            "Epoch 17 Batch 700 Loss 1.5418 Accuracy 0.6651 with time taken 3.18 secs\n",
            "Epoch 17 Batch 750 Loss 1.5453 Accuracy 0.6645 with time taken 3.16 secs\n",
            "Epoch 17 Batch 800 Loss 1.5482 Accuracy 0.6643 with time taken 3.11 secs\n",
            "Saving checkpoint for epoch 17 at drive/MyDrive/models/transformer_port_eng_v2/ckpt-17\n",
            "Epoch 17 Loss 1.5491 Accuracy 0.6642\n",
            "Time taken for 1 epoch: 51.44 secs\n",
            "\n",
            "Epoch 18 Batch 0 Loss 1.5352 Accuracy 0.6618 with time taken 0.51 secs\n",
            "Epoch 18 Batch 50 Loss 1.4599 Accuracy 0.6773 with time taken 2.97 secs\n",
            "Epoch 18 Batch 100 Loss 1.4497 Accuracy 0.6792 with time taken 2.92 secs\n",
            "Epoch 18 Batch 150 Loss 1.4690 Accuracy 0.6768 with time taken 3.17 secs\n",
            "Epoch 18 Batch 200 Loss 1.4738 Accuracy 0.6757 with time taken 3.12 secs\n",
            "Epoch 18 Batch 250 Loss 1.4736 Accuracy 0.6756 with time taken 3.05 secs\n",
            "Epoch 18 Batch 300 Loss 1.4740 Accuracy 0.6752 with time taken 3.20 secs\n",
            "Epoch 18 Batch 350 Loss 1.4769 Accuracy 0.6747 with time taken 2.95 secs\n",
            "Epoch 18 Batch 400 Loss 1.4788 Accuracy 0.6746 with time taken 3.11 secs\n",
            "Epoch 18 Batch 450 Loss 1.4825 Accuracy 0.6742 with time taken 3.05 secs\n",
            "Epoch 18 Batch 500 Loss 1.4844 Accuracy 0.6739 with time taken 3.03 secs\n",
            "Epoch 18 Batch 550 Loss 1.4872 Accuracy 0.6736 with time taken 3.13 secs\n",
            "Epoch 18 Batch 600 Loss 1.4906 Accuracy 0.6731 with time taken 3.19 secs\n",
            "Epoch 18 Batch 650 Loss 1.4952 Accuracy 0.6724 with time taken 3.12 secs\n",
            "Epoch 18 Batch 700 Loss 1.4969 Accuracy 0.6722 with time taken 3.08 secs\n",
            "Epoch 18 Batch 750 Loss 1.4999 Accuracy 0.6718 with time taken 3.24 secs\n",
            "Epoch 18 Batch 800 Loss 1.5040 Accuracy 0.6712 with time taken 3.09 secs\n",
            "Saving checkpoint for epoch 18 at drive/MyDrive/models/transformer_port_eng_v2/ckpt-18\n",
            "Epoch 18 Loss 1.5043 Accuracy 0.6712\n",
            "Time taken for 1 epoch: 50.76 secs\n",
            "\n",
            "Epoch 19 Batch 0 Loss 1.3641 Accuracy 0.6945 with time taken 0.49 secs\n",
            "Epoch 19 Batch 50 Loss 1.4034 Accuracy 0.6875 with time taken 3.05 secs\n",
            "Epoch 19 Batch 100 Loss 1.4086 Accuracy 0.6869 with time taken 3.08 secs\n",
            "Epoch 19 Batch 150 Loss 1.4202 Accuracy 0.6850 with time taken 3.01 secs\n",
            "Epoch 19 Batch 200 Loss 1.4291 Accuracy 0.6835 with time taken 3.31 secs\n",
            "Epoch 19 Batch 250 Loss 1.4388 Accuracy 0.6819 with time taken 3.38 secs\n",
            "Epoch 19 Batch 300 Loss 1.4416 Accuracy 0.6812 with time taken 3.19 secs\n",
            "Epoch 19 Batch 350 Loss 1.4413 Accuracy 0.6817 with time taken 2.96 secs\n",
            "Epoch 19 Batch 400 Loss 1.4450 Accuracy 0.6811 with time taken 3.12 secs\n",
            "Epoch 19 Batch 450 Loss 1.4509 Accuracy 0.6799 with time taken 3.25 secs\n",
            "Epoch 19 Batch 500 Loss 1.4508 Accuracy 0.6799 with time taken 3.09 secs\n",
            "Epoch 19 Batch 550 Loss 1.4523 Accuracy 0.6797 with time taken 3.16 secs\n",
            "Epoch 19 Batch 600 Loss 1.4547 Accuracy 0.6792 with time taken 3.12 secs\n",
            "Epoch 19 Batch 650 Loss 1.4570 Accuracy 0.6787 with time taken 3.31 secs\n",
            "Epoch 19 Batch 700 Loss 1.4592 Accuracy 0.6785 with time taken 3.15 secs\n",
            "Epoch 19 Batch 750 Loss 1.4620 Accuracy 0.6780 with time taken 3.20 secs\n",
            "Epoch 19 Batch 800 Loss 1.4650 Accuracy 0.6776 with time taken 3.02 secs\n",
            "Saving checkpoint for epoch 19 at drive/MyDrive/models/transformer_port_eng_v2/ckpt-19\n",
            "Epoch 19 Loss 1.4656 Accuracy 0.6776\n",
            "Time taken for 1 epoch: 51.75 secs\n",
            "\n",
            "Epoch 20 Batch 0 Loss 1.2796 Accuracy 0.7099 with time taken 0.51 secs\n",
            "Epoch 20 Batch 50 Loss 1.4007 Accuracy 0.6884 with time taken 3.24 secs\n",
            "Epoch 20 Batch 100 Loss 1.3968 Accuracy 0.6884 with time taken 3.21 secs\n",
            "Epoch 20 Batch 150 Loss 1.3995 Accuracy 0.6876 with time taken 3.03 secs\n",
            "Epoch 20 Batch 200 Loss 1.4018 Accuracy 0.6877 with time taken 3.10 secs\n",
            "Epoch 20 Batch 250 Loss 1.4018 Accuracy 0.6877 with time taken 3.02 secs\n",
            "Epoch 20 Batch 300 Loss 1.4042 Accuracy 0.6872 with time taken 3.04 secs\n",
            "Epoch 20 Batch 350 Loss 1.4081 Accuracy 0.6863 with time taken 3.05 secs\n",
            "Epoch 20 Batch 400 Loss 1.4111 Accuracy 0.6859 with time taken 3.17 secs\n",
            "Epoch 20 Batch 450 Loss 1.4143 Accuracy 0.6855 with time taken 3.19 secs\n",
            "Epoch 20 Batch 500 Loss 1.4195 Accuracy 0.6845 with time taken 3.24 secs\n",
            "Epoch 20 Batch 550 Loss 1.4188 Accuracy 0.6846 with time taken 3.02 secs\n",
            "Epoch 20 Batch 600 Loss 1.4200 Accuracy 0.6844 with time taken 3.05 secs\n",
            "Epoch 20 Batch 650 Loss 1.4223 Accuracy 0.6842 with time taken 2.97 secs\n",
            "Epoch 20 Batch 700 Loss 1.4246 Accuracy 0.6839 with time taken 3.11 secs\n",
            "Epoch 20 Batch 750 Loss 1.4281 Accuracy 0.6832 with time taken 3.12 secs\n",
            "Epoch 20 Batch 800 Loss 1.4311 Accuracy 0.6827 with time taken 3.20 secs\n",
            "Saving checkpoint for epoch 20 at drive/MyDrive/models/transformer_port_eng_v2/ckpt-20\n",
            "Epoch 20 Loss 1.4316 Accuracy 0.6826\n",
            "Time taken for 1 epoch: 51.12 secs\n",
            "\n"
          ],
          "name": "stdout"
        }
      ]
    },
    {
      "cell_type": "code",
      "metadata": {
        "id": "o7R4bDf5IMEL"
      },
      "source": [
        "# Portugese to English\n",
        "# Epoch 20 Batch 800 Loss 1.1240 Accuracy 0.7345\n",
        "# Saving checkpoint for epoch 20 at drive/MyDrive/models/transformer_port_v2/ckpt-7\n",
        "# Epoch 20 Loss 1.1249 Accuracy 0.7343\n",
        "# Time taken for 1 epoch: 59.58 secs"
      ],
      "execution_count": 71,
      "outputs": []
    },
    {
      "cell_type": "code",
      "metadata": {
        "id": "q-Fl1B4XLWmi"
      },
      "source": [
        "checkpoint = tf.keras.callbacks.ModelCheckpoint(BASE_MODEL_PATH + '/' + 'final_model.h5', save_weights_only=False)"
      ],
      "execution_count": 92,
      "outputs": []
    },
    {
      "cell_type": "markdown",
      "metadata": {
        "id": "QfcsSWswSdGV"
      },
      "source": [
        "## Evaluate"
      ]
    },
    {
      "cell_type": "markdown",
      "metadata": {
        "id": "y6APsFrgImLW"
      },
      "source": [
        "The following steps are used for evaluation:\n",
        "\n",
        "* Encode the input sentence using the Portuguese tokenizer (`tokenizers.pt`). This is the encoder input.\n",
        "* The decoder input is initialized to the `[START]` token.\n",
        "* Calculate the padding masks and the look ahead masks.\n",
        "* The `decoder` then outputs the predictions by looking at the `encoder output` and its own output (self-attention).\n",
        "* The model makes predictions of the next word for each word in the output. Most of these are redundant. Use the predictrions from the last word.\n",
        "* Concatentate the predicted word to the decoder input and pass it to the decoder.\n",
        "* In this approach, the decoder predicts the next word based on the previous words it predicted.\n",
        "\n",
        "Note: The model used here has less capacity to keep the example relatively faster so the predictions maybe less right. To reproduce the results in the paper, use the entire dataset and base transformer model or transformer XL, by changing the hyperparameters above."
      ]
    },
    {
      "cell_type": "code",
      "metadata": {
        "id": "5buvMlnvyrFm"
      },
      "source": [
        "def evaluate(sentence, max_length=40):\n",
        "  # inp sentence is portuguese, hence adding the start and end token\n",
        "  sentence = tf.convert_to_tensor([sentence])\n",
        "  sentence = tokenizers.pt.tokenize(sentence).to_tensor()\n",
        "\n",
        "  encoder_input = sentence\n",
        "  \n",
        "  # as the target is english, the first word to the transformer should be the\n",
        "  # english start token.\n",
        "  start, end = tokenizers.en.tokenize([''])[0]\n",
        "  output = tf.convert_to_tensor([start])\n",
        "  output = tf.expand_dims(output, 0)\n",
        "    \n",
        "  for i in range(max_length):\n",
        "    enc_padding_mask, combined_mask, dec_padding_mask = create_masks(\n",
        "        encoder_input, output)\n",
        "  \n",
        "    # predictions.shape == (batch_size, seq_len, vocab_size)\n",
        "    predictions, attention_weights = transformer(encoder_input, \n",
        "                                                 output,\n",
        "                                                 False,\n",
        "                                                 enc_padding_mask,\n",
        "                                                 combined_mask,\n",
        "                                                 dec_padding_mask)\n",
        "    \n",
        "    # select the last word from the seq_len dimension\n",
        "    predictions = predictions[: ,-1:, :]  # (batch_size, 1, vocab_size)\n",
        "\n",
        "    predicted_id = tf.argmax(predictions, axis=-1)\n",
        "\n",
        "    # concatentate the predicted_id to the output which is given to the decoder\n",
        "    # as its input.\n",
        "    output = tf.concat([output, predicted_id], axis=-1)\n",
        "    \n",
        "    # return the result if the predicted_id is equal to the end token\n",
        "    if predicted_id == end:\n",
        "      break\n",
        "\n",
        "  # output.shape (1, tokens)\n",
        "  text = tokenizers.en.detokenize(output)[0] # shape: ()\n",
        "  \n",
        "  tokens = tokenizers.en.lookup(output)[0]\n",
        "  \n",
        "  return text, tokens, attention_weights"
      ],
      "execution_count": 93,
      "outputs": []
    },
    {
      "cell_type": "code",
      "metadata": {
        "id": "lU2_yG_vBGza"
      },
      "source": [
        "def print_translation(sentence, tokens, ground_truth):\n",
        "  print(f'{\"Input:\":15s}: {sentence}')\n",
        "  print(f'{\"Prediction\":15s}: {tokens.numpy().decode(\"utf-8\")}')\n",
        "  print(f'{\"Ground truth\":15s}: {ground_truth}')"
      ],
      "execution_count": 94,
      "outputs": []
    },
    {
      "cell_type": "code",
      "metadata": {
        "id": "YsxrAlvFG8SZ",
        "colab": {
          "base_uri": "https://localhost:8080/"
        },
        "outputId": "01fc900d-f8e1-4ef8-fbb9-7fef8c55636f"
      },
      "source": [
        "sentence = \"este é um problema que temos que resolver.\"\n",
        "ground_truth = \"this is a problem we have to solve .\"\n",
        "\n",
        "translated_text, translated_tokens, attention_weights = evaluate(sentence)\n",
        "print_translation(sentence, translated_text, ground_truth)"
      ],
      "execution_count": 95,
      "outputs": [
        {
          "output_type": "stream",
          "text": [
            "Input:         : este é um problema que temos que resolver.\n",
            "Prediction     : this is a problem we have to solve .\n",
            "Ground truth   : this is a problem we have to solve .\n"
          ],
          "name": "stdout"
        }
      ]
    },
    {
      "cell_type": "code",
      "metadata": {
        "id": "7EH5y_aqI4t1",
        "colab": {
          "base_uri": "https://localhost:8080/"
        },
        "outputId": "59dffd06-ab1c-4d62-e56c-e9a661a0eb51"
      },
      "source": [
        "sentence = \"os meus vizinhos ouviram sobre esta ideia.\"\n",
        "ground_truth = \"and my neighboring homes heard about this idea .\"\n",
        "\n",
        "translated_text, translated_tokens, attention_weights = evaluate(sentence)\n",
        "print_translation(sentence, translated_text, ground_truth)"
      ],
      "execution_count": 96,
      "outputs": [
        {
          "output_type": "stream",
          "text": [
            "Input:         : os meus vizinhos ouviram sobre esta ideia.\n",
            "Prediction     : my neighbors heard about this idea .\n",
            "Ground truth   : and my neighboring homes heard about this idea .\n"
          ],
          "name": "stdout"
        }
      ]
    },
    {
      "cell_type": "code",
      "metadata": {
        "id": "J-hVCTSUMlkb",
        "colab": {
          "base_uri": "https://localhost:8080/"
        },
        "outputId": "88bf7a62-3642-4c1a-98a5-c640a701a381"
      },
      "source": [
        "sentence = \"vou então muito rapidamente partilhar convosco algumas histórias de algumas coisas mágicas que aconteceram.\"\n",
        "ground_truth = \"so i \\'ll just share with you some stories very quickly of some magical things that have happened .\"\n",
        "\n",
        "translated_text, translated_tokens, attention_weights = evaluate(sentence)\n",
        "print_translation(sentence, translated_text, ground_truth)"
      ],
      "execution_count": 97,
      "outputs": [
        {
          "output_type": "stream",
          "text": [
            "Input:         : vou então muito rapidamente partilhar convosco algumas histórias de algumas coisas mágicas que aconteceram.\n",
            "Prediction     : so i ' m going to be very quickly to share with you some stories of some magic things that happened .\n",
            "Ground truth   : so i 'll just share with you some stories very quickly of some magical things that have happened .\n"
          ],
          "name": "stdout"
        }
      ]
    },
    {
      "cell_type": "markdown",
      "metadata": {
        "id": "_1MxkSZvz0jX"
      },
      "source": [
        "You can pass different layers and attention blocks of the decoder to the `plot` parameter."
      ]
    },
    {
      "cell_type": "markdown",
      "metadata": {
        "id": "S3EQiFUC--Ds"
      },
      "source": [
        "## Attention plots"
      ]
    },
    {
      "cell_type": "markdown",
      "metadata": {
        "id": "hHV2pdXHGz-0"
      },
      "source": [
        "The `evaluate` function also returns a dictionary of attention maps you can use to visualize the internal working of the model:"
      ]
    },
    {
      "cell_type": "code",
      "metadata": {
        "id": "t-kFyiOLH0xg",
        "colab": {
          "base_uri": "https://localhost:8080/"
        },
        "outputId": "92e143f1-c2e4-4e72-e985-a10123d17588"
      },
      "source": [
        "sentence = \"este é o primeiro livro que eu fiz.\"\n",
        "ground_truth = \"this is the first book i've ever done.\"\n",
        "\n",
        "translated_text, translated_tokens, attention_weights = evaluate(sentence)\n",
        "print_translation(sentence, translated_text, ground_truth)"
      ],
      "execution_count": 98,
      "outputs": [
        {
          "output_type": "stream",
          "text": [
            "Input:         : este é o primeiro livro que eu fiz.\n",
            "Prediction     : this is the first book i did .\n",
            "Ground truth   : this is the first book i've ever done.\n"
          ],
          "name": "stdout"
        }
      ]
    },
    {
      "cell_type": "code",
      "metadata": {
        "id": "CcI4DxAK5EHY"
      },
      "source": [
        "def plot_attention_head(in_tokens, translated_tokens, attention):\n",
        "  # The plot is of the attention when a token was generated.\n",
        "  # The model didn't generate `<START>` in the output. Skip it. \n",
        "  translated_tokens = translated_tokens[1:]\n",
        "\n",
        "  ax = plt.gca()\n",
        "  ax.matshow(attention)\n",
        "  ax.set_xticks(range(len(in_tokens)))\n",
        "  ax.set_yticks(range(len(translated_tokens)))\n",
        "\n",
        "  \n",
        "  labels = [label.decode('utf-8') for label in in_tokens.numpy()]\n",
        "  ax.set_xticklabels(\n",
        "      labels, rotation=90)\n",
        "  \n",
        "  labels = [label.decode('utf-8') for label in translated_tokens.numpy()]\n",
        "  ax.set_yticklabels(labels)"
      ],
      "execution_count": 99,
      "outputs": []
    },
    {
      "cell_type": "code",
      "metadata": {
        "id": "_KY4c2cryuxY",
        "colab": {
          "base_uri": "https://localhost:8080/"
        },
        "outputId": "9d6b1b9f-64d9-4e57-8fd2-0e522e894d67"
      },
      "source": [
        "head = 0\n",
        "# shape: (batch=1, num_heads, seq_len_q, seq_len_k)\n",
        "attention_heads = tf.squeeze(\n",
        "  attention_weights['decoder_layer4_block2'], 0)\n",
        "attention = attention_heads[head]\n",
        "attention.shape  "
      ],
      "execution_count": 100,
      "outputs": [
        {
          "output_type": "execute_result",
          "data": {
            "text/plain": [
              "TensorShape([9, 11])"
            ]
          },
          "metadata": {
            "tags": []
          },
          "execution_count": 100
        }
      ]
    },
    {
      "cell_type": "code",
      "metadata": {
        "id": "XdxmakWE6Om3",
        "colab": {
          "base_uri": "https://localhost:8080/"
        },
        "outputId": "a6dba13d-6cc1-4d39-936c-562797db1180"
      },
      "source": [
        "in_tokens = tf.convert_to_tensor([sentence])\n",
        "in_tokens = tokenizers.pt.tokenize(in_tokens).to_tensor()\n",
        "in_tokens = tokenizers.pt.lookup(in_tokens)[0]\n",
        "in_tokens"
      ],
      "execution_count": 101,
      "outputs": [
        {
          "output_type": "execute_result",
          "data": {
            "text/plain": [
              "<tf.Tensor: shape=(11,), dtype=string, numpy=\n",
              "array([b'[START]', b'este', b'e', b'o', b'primeiro', b'livro', b'que',\n",
              "       b'eu', b'fiz', b'.', b'[END]'], dtype=object)>"
            ]
          },
          "metadata": {
            "tags": []
          },
          "execution_count": 101
        }
      ]
    },
    {
      "cell_type": "code",
      "metadata": {
        "id": "XtzyKCFamm4N",
        "colab": {
          "base_uri": "https://localhost:8080/",
          "height": 301
        },
        "outputId": "d5ec65db-ebfa-4b73-bac2-f670c731e24c"
      },
      "source": [
        "plot_attention_head(in_tokens, translated_tokens, attention)"
      ],
      "execution_count": 103,
      "outputs": [
        {
          "output_type": "display_data",
          "data": {
            "image/png": "[encoded data removed]",
            "text/plain": [
              "<Figure size 432x288 with 1 Axes>"
            ]
          },
          "metadata": {
            "tags": [],
            "needs_background": "light"
          }
        }
      ]
    },
    {
      "cell_type": "code",
      "metadata": {
        "id": "MBliB-PCzNK3"
      },
      "source": [
        "def plot_attention_weights(sentence, translated_tokens, attention_heads):\n",
        "  in_tokens = tf.convert_to_tensor([sentence])\n",
        "  in_tokens = tokenizers.pt.tokenize(in_tokens).to_tensor()\n",
        "  in_tokens = tokenizers.pt.lookup(in_tokens)[0]\n",
        "  in_tokens\n",
        "  \n",
        "  fig = plt.figure(figsize=(16, 8))\n",
        "  \n",
        "  for h, head in enumerate(attention_heads):\n",
        "    ax = fig.add_subplot(2, 4, h+1)\n",
        "    \n",
        "    plot_attention_head(in_tokens, translated_tokens, head)\n",
        "    \n",
        "    ax.set_xlabel('Head {}'.format(h+1))\n",
        "  \n",
        "  plt.tight_layout()\n",
        "  plt.show()"
      ],
      "execution_count": 104,
      "outputs": []
    },
    {
      "cell_type": "code",
      "metadata": {
        "id": "pyRQi7944wru",
        "colab": {
          "base_uri": "https://localhost:8080/",
          "height": 479
        },
        "outputId": "f60112e6-f805-40e8-de31-aa38105aef52"
      },
      "source": [
        "plot_attention_weights(sentence, translated_tokens,\n",
        "                       attention_weights['decoder_layer4_block2'][0])"
      ],
      "execution_count": 105,
      "outputs": [
        {
          "output_type": "display_data",
          "data": {
            "image/png": "[encoded data removed]",
            "text/plain": [
              "<Figure size 1152x576 with 8 Axes>"
            ]
          },
          "metadata": {
            "tags": [],
            "needs_background": "light"
          }
        }
      ]
    },
    {
      "cell_type": "markdown",
      "metadata": {
        "id": "MZJirKUtikTt"
      },
      "source": [
        "The model does okay on unfamiliar words. Neither \"triceratops\" or \"encyclopedia\" are in the input dataset and the model almost learns to transliterare them, even withoput a shared vocabulary:"
      ]
    },
    {
      "cell_type": "code",
      "metadata": {
        "id": "jqUtMA8_NozP"
      },
      "source": [
        "def translate(ground_truth, input_sentence):\n",
        "  \n",
        "  ground_truth = ground_truth.lower()\n",
        "\n",
        "  translated_text, translated_tokens, attention_weights = evaluate(input_sentence)\n",
        "  print_translation(input_sentence, translated_text, ground_truth)\n",
        "\n",
        "  translated_text = translated_text.numpy()\n",
        "  translated_text = translated_text.decode(\"utf-8\") \n",
        "\n",
        "  score = sentence_bleu(ground_truth, translated_text, weights=(1.0,0,0,0))\n",
        "  print(f\"BLEU-1 score: {score*100:.2f}\")\n",
        "  score = sentence_bleu(ground_truth, translated_text, weights=(0.5,0.5,0,0))\n",
        "  print(f\"BLEU-2 score: {score*100:.2f}\")\n",
        "  score = sentence_bleu(ground_truth, translated_text, weights=(0.3,0.3,0.3,0))\n",
        "  print(f\"BLEU-3 score: {score*100:.2f}\")\n",
        "  score = sentence_bleu(ground_truth, translated_text, weights=(0.25,0.25,0.25,0.25))\n",
        "  print(f\"BLEU-4 score: {score*100:.2f}\")"
      ],
      "execution_count": 106,
      "outputs": []
    },
    {
      "cell_type": "code",
      "metadata": {
        "id": "9cxysY7uh3jg",
        "colab": {
          "base_uri": "https://localhost:8080/",
          "height": 669
        },
        "outputId": "edb4b733-8e44-46c0-ca68-77bb901ea79e"
      },
      "source": [
        "input_sentence = \"Eu li sobre triceratops na enciclopédia.\"\n",
        "prediction = \"I read about triceratops in the encyclopedia.\"\n",
        "\n",
        "translate(prediction, input_sentence)\n",
        "\n",
        "plot_attention_weights(sentence, translated_tokens,\n",
        "                       attention_weights['decoder_layer4_block2'][0])"
      ],
      "execution_count": 107,
      "outputs": [
        {
          "output_type": "stream",
          "text": [
            "Input:         : Eu li sobre triceratops na enciclopédia.\n",
            "Prediction     : i read about triumphops in the enclopedia .\n",
            "Ground truth   : i read about triceratops in the encyclopedia.\n",
            "BLEU-1 score: 39.53\n",
            "BLEU-2 score: 62.88\n",
            "BLEU-3 score: 75.70\n",
            "BLEU-4 score: 79.29\n"
          ],
          "name": "stdout"
        },
        {
          "output_type": "stream",
          "text": [
            "/usr/local/lib/python3.7/dist-packages/nltk/translate/bleu_score.py:490: UserWarning: \n",
            "Corpus/Sentence contains 0 counts of 2-gram overlaps.\n",
            "BLEU scores might be undesirable; use SmoothingFunction().\n",
            "  warnings.warn(_msg)\n"
          ],
          "name": "stderr"
        },
        {
          "output_type": "display_data",
          "data": {
            "image/png": "[encoded data removed]",
            "text/plain": [
              "<Figure size 1152x576 with 8 Axes>"
            ]
          },
          "metadata": {
            "tags": [],
            "needs_background": "light"
          }
        }
      ]
    },
    {
      "cell_type": "code",
      "metadata": {
        "id": "35-z5DqSIfUx",
        "colab": {
          "base_uri": "https://localhost:8080/"
        },
        "outputId": "dffeee8b-1cf3-4e18-81f1-11f47b8f61e1"
      },
      "source": [
        "input_sentence = \"Fui à loja comprar mantimentos.\"\n",
        "ground_truth = \"I went to the store to buy some groceries.\"\n",
        "\n",
        "translate(ground_truth, input_sentence)"
      ],
      "execution_count": 108,
      "outputs": [
        {
          "output_type": "stream",
          "text": [
            "Input:         : Fui à loja comprar mantimentos.\n",
            "Prediction     : i went to the store supplies .\n",
            "Ground truth   : i went to the store to buy some groceries.\n",
            "BLEU-1 score: 40.00\n",
            "BLEU-2 score: 63.25\n",
            "BLEU-3 score: 75.97\n",
            "BLEU-4 score: 79.53\n"
          ],
          "name": "stdout"
        },
        {
          "output_type": "stream",
          "text": [
            "/usr/local/lib/python3.7/dist-packages/nltk/translate/bleu_score.py:490: UserWarning: \n",
            "Corpus/Sentence contains 0 counts of 2-gram overlaps.\n",
            "BLEU scores might be undesirable; use SmoothingFunction().\n",
            "  warnings.warn(_msg)\n"
          ],
          "name": "stderr"
        }
      ]
    },
    {
      "cell_type": "code",
      "metadata": {
        "id": "qq3ZCNB-I0SZ",
        "colab": {
          "base_uri": "https://localhost:8080/"
        },
        "outputId": "9fce246b-7676-42c3-918b-9b94a2b95efd"
      },
      "source": [
        "input_sentence = \"Qual é o seu filme favorito?\"\n",
        "ground_truth = \"What is your favorite movie?\"\n",
        "\n",
        "translate(ground_truth, input_sentence)"
      ],
      "execution_count": 111,
      "outputs": [
        {
          "output_type": "stream",
          "text": [
            "Input:         : Qual é o seu filme favorito?\n",
            "Prediction     : what is their favorite film ?\n",
            "Ground truth   : what is your favorite movie?\n",
            "BLEU-1 score: 48.28\n",
            "BLEU-2 score: 69.48\n",
            "BLEU-3 score: 80.37\n",
            "BLEU-4 score: 83.36\n"
          ],
          "name": "stdout"
        },
        {
          "output_type": "stream",
          "text": [
            "/usr/local/lib/python3.7/dist-packages/nltk/translate/bleu_score.py:490: UserWarning: \n",
            "Corpus/Sentence contains 0 counts of 2-gram overlaps.\n",
            "BLEU scores might be undesirable; use SmoothingFunction().\n",
            "  warnings.warn(_msg)\n"
          ],
          "name": "stderr"
        }
      ]
    },
    {
      "cell_type": "code",
      "metadata": {
        "id": "EdzyiaehJJQS",
        "colab": {
          "base_uri": "https://localhost:8080/"
        },
        "outputId": "bf755027-b8de-43cc-9ce3-bfd4beec6c2e"
      },
      "source": [
        "input_sentence = \"Você viu minha carteira que perdi quando estava no trabalho?\"\n",
        "ground_truth = \"Have you seen my wallet that I lost when I was at work?\"\n",
        "\n",
        "translate(ground_truth, input_sentence)"
      ],
      "execution_count": 110,
      "outputs": [
        {
          "output_type": "stream",
          "text": [
            "Input:         : Você viu minha carteira que perdi quando estava no trabalho?\n",
            "Prediction     : you saw my wallet when i was lost when i was in work ?\n",
            "Ground truth   : have you seen my wallet that i lost when i was at work?\n",
            "BLEU-1 score: 31.48\n",
            "BLEU-2 score: 56.11\n",
            "BLEU-3 score: 70.70\n",
            "BLEU-4 score: 74.91\n"
          ],
          "name": "stdout"
        },
        {
          "output_type": "stream",
          "text": [
            "/usr/local/lib/python3.7/dist-packages/nltk/translate/bleu_score.py:490: UserWarning: \n",
            "Corpus/Sentence contains 0 counts of 2-gram overlaps.\n",
            "BLEU scores might be undesirable; use SmoothingFunction().\n",
            "  warnings.warn(_msg)\n"
          ],
          "name": "stderr"
        }
      ]
    }
  ]
}