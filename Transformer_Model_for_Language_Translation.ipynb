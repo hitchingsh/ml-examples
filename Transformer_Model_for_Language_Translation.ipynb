{
  "nbformat": 4,
  "nbformat_minor": 0,
  "metadata": {
    "accelerator": "GPU",
    "colab": {
      "name": "Transformer_Model_for_Language_Translation.ipynb",
      "provenance": [],
      "collapsed_sections": [],
      "toc_visible": true
    },
    "kernelspec": {
      "display_name": "Python 3",
      "name": "python3"
    }
  },
  "cells": [
    {
      "cell_type": "markdown",
      "metadata": {
        "id": "s_qNSzzyaCbD"
      },
      "source": [
        "##### Copyright 2019 The TensorFlow Authors."
      ]
    },
    {
      "cell_type": "code",
      "metadata": {
        "cellView": "form",
        "id": "jmjh290raIky"
      },
      "source": [
        "#@title Licensed under the Apache License, Version 2.0 (the \"License\");\n",
        "# you may not use this file except in compliance with the License.\n",
        "# You may obtain a copy of the License at\n",
        "#\n",
        "# https://www.apache.org/licenses/LICENSE-2.0\n",
        "#\n",
        "# Unless required by applicable law or agreed to in writing, software\n",
        "# distributed under the License is distributed on an \"AS IS\" BASIS,\n",
        "# WITHOUT WARRANTIES OR CONDITIONS OF ANY KIND, either express or implied.\n",
        "# See the License for the specific language governing permissions and\n",
        "# limitations under the License."
      ],
      "execution_count": 3,
      "outputs": []
    },
    {
      "cell_type": "markdown",
      "metadata": {
        "id": "J0Qjg6vuaHNt"
      },
      "source": [
        "# Transformer model for language understanding"
      ]
    },
    {
      "cell_type": "markdown",
      "metadata": {
        "id": "AOpGoE2T-YXS"
      },
      "source": [
        "<table class=\"tfo-notebook-buttons\" align=\"left\">\n",
        "  <td>\n",
        "    <a target=\"_blank\" href=\"https://www.tensorflow.org/tutorials/text/transformer\">\n",
        "    <img src=\"https://www.tensorflow.org/images/tf_logo_32px.png\" />\n",
        "    View on TensorFlow.org</a>\n",
        "  </td>\n",
        "  <td>\n",
        "    <a target=\"_blank\" href=\"https://colab.research.google.com/github/tensorflow/docs/blob/master/site/en/tutorials/text/transformer.ipynb\">\n",
        "    <img src=\"https://www.tensorflow.org/images/colab_logo_32px.png\" />\n",
        "    Run in Google Colab</a>\n",
        "  </td>\n",
        "  <td>\n",
        "    <a target=\"_blank\" href=\"https://github.com/tensorflow/docs/blob/master/site/en/tutorials/text/transformer.ipynb\">\n",
        "    <img src=\"https://www.tensorflow.org/images/GitHub-Mark-32px.png\" />\n",
        "    View source on GitHub</a>\n",
        "  </td>\n",
        "  <td>\n",
        "    <a href=\"https://storage.googleapis.com/tensorflow_docs/docs/site/en/tutorials/text/transformer.ipynb\"><img src=\"https://www.tensorflow.org/images/download_logo_32px.png\" />Download notebook</a>\n",
        "  </td>\n",
        "</table>"
      ]
    },
    {
      "cell_type": "markdown",
      "metadata": {
        "id": "M-f8TnGpE_ex"
      },
      "source": [
        "This tutorial trains a <a href=\"https://arxiv.org/abs/1706.03762\" class=\"external\">Transformer model</a> to translate a [Portuguese to English dataset](https://www.tensorflow.org/datasets/catalog/ted_hrlr_translate#ted_hrlr_translatept_to_en). This is an advanced example that assumes knowledge of [text generation](text_generation.ipynb) and [attention](nmt_with_attention.ipynb).\n",
        "\n",
        "Modified from: https://www.tensorflow.org/tutorials/text/transformer\n",
        "\n",
        "The core idea behind the Transformer model is *self-attention*—the ability to attend to different positions of the input sequence to compute a representation of that sequence. Transformer creates stacks of self-attention layers and is explained below in the sections *Scaled dot product attention* and *Multi-head attention*.\n",
        "\n",
        "A transformer model handles variable-sized input using stacks of self-attention layers instead of [RNNs](text_classification_rnn.ipynb) or [CNNs](../images/intro_to_cnns.ipynb). This general architecture has a number of advantages:\n",
        "\n",
        "* It makes no assumptions about the temporal/spatial relationships across the data. This is ideal for processing a set of objects (for example, [StarCraft units](https://deepmind.com/blog/alphastar-mastering-real-time-strategy-game-starcraft-ii/#block-8)).\n",
        "* Layer outputs can be calculated in parallel, instead of a series like an RNN.\n",
        "* Distant items can affect each other's output without passing through many RNN-steps, or convolution layers (see [Scene Memory Transformer](https://arxiv.org/pdf/1903.03878.pdf) for example).\n",
        "* It can learn long-range dependencies. This is a challenge in many sequence tasks.\n",
        "\n",
        "The downsides of this architecture are:\n",
        "\n",
        "* For a time-series, the output for a time-step is calculated from the *entire history* instead of only the inputs and current hidden-state. This _may_ be less efficient.   \n",
        "* If the input *does* have a  temporal/spatial relationship, like text, some positional encoding must be added or the model will effectively see a bag of words. \n",
        "\n",
        "After training the model in this notebook, you will be able to input a Portuguese sentence and return the English translation.\n",
        "\n",
        "<img src=\"https://www.tensorflow.org/images/tutorials/transformer/attention_map_portuguese.png\" width=\"800\" alt=\"Attention heatmap\">"
      ]
    },
    {
      "cell_type": "markdown",
      "metadata": {
        "id": "swymtxpl7W7w"
      },
      "source": [
        "## Setup"
      ]
    },
    {
      "cell_type": "code",
      "metadata": {
        "colab": {
          "base_uri": "https://localhost:8080/"
        },
        "id": "Y8bCdfgffWaI",
        "outputId": "7e56abe2-be70-4014-dedb-04f03fa648fb"
      },
      "source": [
        "from google.colab import drive # Load the Drive helper and mount\n",
        "\n",
        "drive.mount('/content/drive') # This will prompt for authorization"
      ],
      "execution_count": 4,
      "outputs": [
        {
          "output_type": "stream",
          "text": [
            "Mounted at /content/drive\n"
          ],
          "name": "stdout"
        }
      ]
    },
    {
      "cell_type": "code",
      "metadata": {
        "id": "Vp04PLzUhTdi"
      },
      "source": [
        "!mkdir drive/MyDrive/models/transformer_port_eng_orig"
      ],
      "execution_count": 5,
      "outputs": []
    },
    {
      "cell_type": "code",
      "metadata": {
        "id": "gMrW5CPQf5cS"
      },
      "source": [
        "!ls drive/MyDrive/models/transformer_port_eng_orig"
      ],
      "execution_count": 6,
      "outputs": []
    },
    {
      "cell_type": "code",
      "metadata": {
        "id": "XFG0NDRu5mYQ",
        "colab": {
          "base_uri": "https://localhost:8080/"
        },
        "outputId": "ba226c81-d66e-4750-99e7-47232b194615"
      },
      "source": [
        "!pip install -q tensorflow_datasets\n",
        "!pip install -q tensorflow_text"
      ],
      "execution_count": 7,
      "outputs": [
        {
          "output_type": "stream",
          "text": [
            "\u001b[K     |████████████████████████████████| 3.4MB 12.8MB/s \n",
            "\u001b[?25h"
          ],
          "name": "stdout"
        }
      ]
    },
    {
      "cell_type": "code",
      "metadata": {
        "id": "JjJJyJTZYebt"
      },
      "source": [
        "import collections\n",
        "import logging\n",
        "import os\n",
        "import pathlib\n",
        "import re\n",
        "import string\n",
        "import sys\n",
        "import time\n",
        "\n",
        "import numpy as np\n",
        "import matplotlib.pyplot as plt\n",
        "\n",
        "import tensorflow_datasets as tfds\n",
        "import tensorflow_text as text\n",
        "import tensorflow as tf\n",
        "from nltk.translate.bleu_score import sentence_bleu"
      ],
      "execution_count": 8,
      "outputs": []
    },
    {
      "cell_type": "code",
      "metadata": {
        "id": "pXzVhU34zWEU"
      },
      "source": [
        "logging.getLogger('tensorflow').setLevel(logging.ERROR)  # suppress warnings"
      ],
      "execution_count": 9,
      "outputs": []
    },
    {
      "cell_type": "markdown",
      "metadata": {
        "id": "-cCvXbPkccV1"
      },
      "source": [
        "## Download the Dataset"
      ]
    },
    {
      "cell_type": "markdown",
      "metadata": {
        "id": "t4_Qt8W1hJE_"
      },
      "source": [
        "Use [TensorFlow datasets](https://www.tensorflow.org/datasets) to load the [Portuguese-English translation dataset](https://github.com/neulab/word-embeddings-for-nmt) from the [TED Talks Open Translation Project](https://www.ted.com/participate/translate).\n",
        "\n",
        "This dataset contains approximately 50000 training examples, 1100 validation examples, and 2000 test examples."
      ]
    },
    {
      "cell_type": "code",
      "metadata": {
        "id": "8q9t4FmN96eN"
      },
      "source": [
        "examples, metadata = tfds.load('ted_hrlr_translate/pt_to_en', with_info=True,\n",
        "                               as_supervised=True, data_dir=\"drive/MyDrive/data\")\n",
        "train_examples, val_examples = examples['train'], examples['validation']  "
      ],
      "execution_count": 10,
      "outputs": []
    },
    {
      "cell_type": "code",
      "metadata": {
        "colab": {
          "base_uri": "https://localhost:8080/"
        },
        "id": "8Db04STqSTdf",
        "outputId": "c6aa0b8e-7c49-4458-a94b-df7724001602"
      },
      "source": [
        "train_examples"
      ],
      "execution_count": 11,
      "outputs": [
        {
          "output_type": "execute_result",
          "data": {
            "text/plain": [
              "<PrefetchDataset shapes: ((), ()), types: (tf.string, tf.string)>"
            ]
          },
          "metadata": {
            "tags": []
          },
          "execution_count": 11
        }
      ]
    },
    {
      "cell_type": "markdown",
      "metadata": {
        "id": "1OnwQZ2IpTbl"
      },
      "source": [
        "The `tf.data.Dataset` object returned by TensorFlow datasets yields pairs of text examples:"
      ]
    },
    {
      "cell_type": "code",
      "metadata": {
        "id": "AtuMLTQGlHZ1",
        "colab": {
          "base_uri": "https://localhost:8080/"
        },
        "outputId": "134bc4f7-2357-49f5-88e4-d433b52aae28"
      },
      "source": [
        "for pt_examples, en_examples in train_examples.batch(3).take(1):\n",
        "  for pt in pt_examples.numpy():\n",
        "    print(pt.decode('utf-8'))\n",
        "\n",
        "  print()\n",
        "\n",
        "  for en in en_examples.numpy():\n",
        "    print(en.decode('utf-8'))"
      ],
      "execution_count": 12,
      "outputs": [
        {
          "output_type": "stream",
          "text": [
            "e quando melhoramos a procura , tiramos a única vantagem da impressão , que é a serendipidade .\n",
            "mas e se estes fatores fossem ativos ?\n",
            "mas eles não tinham a curiosidade de me testar .\n",
            "\n",
            "and when you improve searchability , you actually take away the one advantage of print , which is serendipity .\n",
            "but what if it were active ?\n",
            "but they did n't test for curiosity .\n"
          ],
          "name": "stdout"
        }
      ]
    },
    {
      "cell_type": "markdown",
      "metadata": {
        "id": "eJxTd6aVnZyh"
      },
      "source": [
        "## Text tokenization & detokenization"
      ]
    },
    {
      "cell_type": "markdown",
      "metadata": {
        "id": "WlHAFNaopq6U"
      },
      "source": [
        "You can't train a model directly on text. The text needs to be converted some numeric representation first. Typically you convert the text to sequences of token IDs, which are as indexes into an embedding."
      ]
    },
    {
      "cell_type": "markdown",
      "metadata": {
        "id": "2sPvbCEePzOC"
      },
      "source": [
        "One popular implementation is demonstrated in the [Subword tokenizer tutorial](https://www.tensorflow.org/tutorials/tensorflow_text/subwords_tokenizer) builds subword tokenizers (`text.BertTokenizer`) optimized for this dataset and exports them in a [saved_model](https://www.tensorflow.org/guide/saved_model). \n",
        "\n",
        "Download and unzip and import the `saved_model`:"
      ]
    },
    {
      "cell_type": "code",
      "metadata": {
        "id": "QToMl0NanZPr",
        "colab": {
          "base_uri": "https://localhost:8080/",
          "height": 90
        },
        "outputId": "c87b3d22-9e6f-47d7-9399-c8e9228d10ed"
      },
      "source": [
        "model_name = \"ted_hrlr_translate_pt_en_converter\"\n",
        "tf.keras.utils.get_file(\n",
        "    f\"{model_name}.zip\",\n",
        "    f\"https://storage.googleapis.com/download.tensorflow.org/models/{model_name}.zip\",\n",
        "    cache_dir='.', cache_subdir='', extract=True\n",
        ")"
      ],
      "execution_count": 13,
      "outputs": [
        {
          "output_type": "stream",
          "text": [
            "Downloading data from https://storage.googleapis.com/download.tensorflow.org/models/ted_hrlr_translate_pt_en_converter.zip\n",
            "188416/184801 [==============================] - 0s 0us/step\n"
          ],
          "name": "stdout"
        },
        {
          "output_type": "execute_result",
          "data": {
            "application/vnd.google.colaboratory.intrinsic+json": {
              "type": "string"
            },
            "text/plain": [
              "'./ted_hrlr_translate_pt_en_converter.zip'"
            ]
          },
          "metadata": {
            "tags": []
          },
          "execution_count": 13
        }
      ]
    },
    {
      "cell_type": "code",
      "metadata": {
        "id": "h5dbGnPXnuI1"
      },
      "source": [
        "tokenizers = tf.saved_model.load(model_name)"
      ],
      "execution_count": 14,
      "outputs": []
    },
    {
      "cell_type": "markdown",
      "metadata": {
        "id": "KQYc0CJTpnvg"
      },
      "source": [
        "The `tf.saved_model` contains two text tokenizers, one for English and one for Portugese. Both have the same methods:"
      ]
    },
    {
      "cell_type": "code",
      "metadata": {
        "id": "s-PCJijfcZ9_",
        "colab": {
          "base_uri": "https://localhost:8080/"
        },
        "outputId": "80c8b704-1dfb-4c33-9d0d-6e264f96b3f3"
      },
      "source": [
        "[item for item in dir(tokenizers.en) if not item.startswith('_')]"
      ],
      "execution_count": 15,
      "outputs": [
        {
          "output_type": "execute_result",
          "data": {
            "text/plain": [
              "['detokenize',\n",
              " 'get_reserved_tokens',\n",
              " 'get_vocab_path',\n",
              " 'get_vocab_size',\n",
              " 'lookup',\n",
              " 'tokenize',\n",
              " 'tokenizer',\n",
              " 'vocab']"
            ]
          },
          "metadata": {
            "tags": []
          },
          "execution_count": 15
        }
      ]
    },
    {
      "cell_type": "markdown",
      "metadata": {
        "id": "-pv_nc5lrAiD"
      },
      "source": [
        "The `tokenize` method converts a batch of strings to a padded-batch of token IDs. This method splits punctuation, lowercases and unicode-normalizes the input before tokenizing. That standardization is not visible here because the input data is already standardized."
      ]
    },
    {
      "cell_type": "code",
      "metadata": {
        "id": "0GV-smAAQJtM",
        "colab": {
          "base_uri": "https://localhost:8080/"
        },
        "outputId": "9ff6c46e-c6d3-48e8-bcbd-2a538ee00650"
      },
      "source": [
        "for en in en_examples.numpy():\n",
        "  print(en.decode('utf-8'))"
      ],
      "execution_count": 16,
      "outputs": [
        {
          "output_type": "stream",
          "text": [
            "and when you improve searchability , you actually take away the one advantage of print , which is serendipity .\n",
            "but what if it were active ?\n",
            "but they did n't test for curiosity .\n"
          ],
          "name": "stdout"
        }
      ]
    },
    {
      "cell_type": "code",
      "metadata": {
        "id": "2fQJq1xB-tOn",
        "colab": {
          "base_uri": "https://localhost:8080/"
        },
        "outputId": "0e725f56-baf3-4d6d-8be4-92ff97e4f0c7"
      },
      "source": [
        "encoded = tokenizers.en.tokenize(en_examples)\n",
        "\n",
        "for row in encoded.to_list():\n",
        "  print(row)"
      ],
      "execution_count": 17,
      "outputs": [
        {
          "output_type": "stream",
          "text": [
            "[2, 72, 117, 79, 1259, 1491, 2362, 13, 79, 150, 184, 311, 71, 103, 2308, 74, 2679, 13, 148, 80, 55, 4840, 1434, 2423, 540, 15, 3]\n",
            "[2, 87, 90, 107, 76, 129, 1852, 30, 3]\n",
            "[2, 87, 83, 149, 50, 9, 56, 664, 85, 2512, 15, 3]\n"
          ],
          "name": "stdout"
        }
      ]
    },
    {
      "cell_type": "markdown",
      "metadata": {
        "id": "dBRlikwDR2Lu"
      },
      "source": [
        "The `detokenize` method attempts to convert these token IDs back to human readable text: "
      ]
    },
    {
      "cell_type": "code",
      "metadata": {
        "id": "Tpqx1aug3W31",
        "colab": {
          "base_uri": "https://localhost:8080/"
        },
        "outputId": "989c91a8-a720-4143-9b0f-366a92ca5ed8"
      },
      "source": [
        "round_trip = tokenizers.en.detokenize(encoded)\n",
        "for line in round_trip.numpy():\n",
        "  print(line.decode('utf-8'))"
      ],
      "execution_count": 18,
      "outputs": [
        {
          "output_type": "stream",
          "text": [
            "and when you improve searchability , you actually take away the one advantage of print , which is serendipity .\n",
            "but what if it were active ?\n",
            "but they did n ' t test for curiosity .\n"
          ],
          "name": "stdout"
        }
      ]
    },
    {
      "cell_type": "markdown",
      "metadata": {
        "id": "e5mGvytArL9g"
      },
      "source": [
        "The lower level `lookup` method converts from token-IDs to token text:"
      ]
    },
    {
      "cell_type": "code",
      "metadata": {
        "id": "RpzRLzvIuN3R",
        "colab": {
          "base_uri": "https://localhost:8080/"
        },
        "outputId": "3320d340-7b57-4d57-a0ad-776feea18e47"
      },
      "source": [
        "tokens = tokenizers.en.lookup(encoded)\n",
        "tokens"
      ],
      "execution_count": 19,
      "outputs": [
        {
          "output_type": "execute_result",
          "data": {
            "text/plain": [
              "<tf.RaggedTensor [[b'[START]', b'and', b'when', b'you', b'improve', b'search', b'##ability', b',', b'you', b'actually', b'take', b'away', b'the', b'one', b'advantage', b'of', b'print', b',', b'which', b'is', b's', b'##ere', b'##nd', b'##ip', b'##ity', b'.', b'[END]'], [b'[START]', b'but', b'what', b'if', b'it', b'were', b'active', b'?', b'[END]'], [b'[START]', b'but', b'they', b'did', b'n', b\"'\", b't', b'test', b'for', b'curiosity', b'.', b'[END]']]>"
            ]
          },
          "metadata": {
            "tags": []
          },
          "execution_count": 19
        }
      ]
    },
    {
      "cell_type": "markdown",
      "metadata": {
        "id": "5V8Ix_PNSfhV"
      },
      "source": [
        "Here you can see the \"subword\" aspect of the tokenizers. The word \"searchability\" is decomposed into \"search ##ability\" and the word \"serindipity\" into \"s ##ere ##nd ##ip ##ity\""
      ]
    },
    {
      "cell_type": "markdown",
      "metadata": {
        "id": "fd1NWMxjfsDd"
      },
      "source": [
        "## Setup input pipeline"
      ]
    },
    {
      "cell_type": "markdown",
      "metadata": {
        "id": "E7JHK7N7tNZy"
      },
      "source": [
        "To build an input pipeline suitable for training you'll apply some transformations to the dataset.\n",
        "\n",
        "This function will be used to encode the batches of raw text:"
      ]
    },
    {
      "cell_type": "code",
      "metadata": {
        "id": "6shgzEck3FiV"
      },
      "source": [
        "def tokenize_pairs(pt, en):\n",
        "    pt = tokenizers.pt.tokenize(pt)\n",
        "    # Convert from ragged to dense, padding with zeros.\n",
        "    pt = pt.to_tensor()\n",
        "\n",
        "    en = tokenizers.en.tokenize(en)\n",
        "    # Convert from ragged to dense, padding with zeros.\n",
        "    en = en.to_tensor()\n",
        "    return pt, en"
      ],
      "execution_count": 20,
      "outputs": []
    },
    {
      "cell_type": "markdown",
      "metadata": {
        "id": "cf2HwC_0wG0v"
      },
      "source": [
        "Here's a simple input pipeline that processes, shuffles and batches the data:"
      ]
    },
    {
      "cell_type": "code",
      "metadata": {
        "id": "bcRp7VcQ5m6g"
      },
      "source": [
        "BUFFER_SIZE = 20000\n",
        "BATCH_SIZE = 64"
      ],
      "execution_count": 21,
      "outputs": []
    },
    {
      "cell_type": "code",
      "metadata": {
        "id": "BUN_jLBTwNxk"
      },
      "source": [
        "def make_batches(ds):\n",
        "  return (\n",
        "      ds\n",
        "      .cache()\n",
        "      .shuffle(BUFFER_SIZE)\n",
        "      .batch(BATCH_SIZE)\n",
        "      .map(tokenize_pairs, num_parallel_calls=tf.data.AUTOTUNE)\n",
        "      .prefetch(tf.data.AUTOTUNE))\n",
        "\n",
        "train_batches = make_batches(train_examples)\n",
        "val_batches = make_batches(val_examples)"
      ],
      "execution_count": 22,
      "outputs": []
    },
    {
      "cell_type": "code",
      "metadata": {
        "id": "6GvuBLzIqIyZ",
        "colab": {
          "base_uri": "https://localhost:8080/"
        },
        "outputId": "e8caf3be-72bc-48c4-dbda-9777af4dcf7c"
      },
      "source": [
        "train_batches"
      ],
      "execution_count": 23,
      "outputs": [
        {
          "output_type": "execute_result",
          "data": {
            "text/plain": [
              "<PrefetchDataset shapes: ((None, None), (None, None)), types: (tf.int64, tf.int64)>"
            ]
          },
          "metadata": {
            "tags": []
          },
          "execution_count": 23
        }
      ]
    },
    {
      "cell_type": "markdown",
      "metadata": {
        "id": "nBQuibYA4n0n"
      },
      "source": [
        "## Positional encoding\n",
        "\n",
        "Since this model doesn't contain any recurrence or convolution, positional encoding is added to give the model some information about the relative position of the words in the sentence. \n",
        "\n",
        "The positional encoding vector is added to the embedding vector. Embeddings represent a token in a d-dimensional space where tokens with similar meaning will be closer to each other. But the embeddings do not encode the relative position of words in a sentence. So after adding the positional encoding, words will be closer to each other based on the *similarity of their meaning and their position in the sentence*, in the d-dimensional space.\n",
        "\n",
        "See the notebook on [positional encoding](https://github.com/tensorflow/examples/blob/master/community/en/position_encoding.ipynb) to learn more about it. The formula for calculating the positional encoding is as follows:\n",
        "\n",
        "$$\\Large{PE_{(pos, 2i)} = sin(pos / 10000^{2i / d_{model}})} $$\n",
        "$$\\Large{PE_{(pos, 2i+1)} = cos(pos / 10000^{2i / d_{model}})} $$"
      ]
    },
    {
      "cell_type": "code",
      "metadata": {
        "id": "WhIOZjMNKujn"
      },
      "source": [
        "def get_angles(pos, i, d_model):\n",
        "  angle_rates = 1 / np.power(10000, (2 * (i//2)) / np.float32(d_model))\n",
        "  return pos * angle_rates"
      ],
      "execution_count": 24,
      "outputs": []
    },
    {
      "cell_type": "code",
      "metadata": {
        "id": "1Rz82wEs5biZ"
      },
      "source": [
        "def positional_encoding(position, d_model):\n",
        "  angle_rads = get_angles(np.arange(position)[:, np.newaxis],\n",
        "                          np.arange(d_model)[np.newaxis, :],\n",
        "                          d_model)\n",
        "  \n",
        "  # apply sin to even indices in the array; 2i\n",
        "  angle_rads[:, 0::2] = np.sin(angle_rads[:, 0::2])\n",
        "  \n",
        "  # apply cos to odd indices in the array; 2i+1\n",
        "  angle_rads[:, 1::2] = np.cos(angle_rads[:, 1::2])\n",
        "    \n",
        "  pos_encoding = angle_rads[np.newaxis, ...]\n",
        "    \n",
        "  return tf.cast(pos_encoding, dtype=tf.float32)"
      ],
      "execution_count": 25,
      "outputs": []
    },
    {
      "cell_type": "code",
      "metadata": {
        "id": "1kLCla68EloE",
        "colab": {
          "base_uri": "https://localhost:8080/",
          "height": 300
        },
        "outputId": "a00efdc3-cb69-489f-b2c0-e1a4f79f06d0"
      },
      "source": [
        "n, d = 2048, 512\n",
        "pos_encoding = positional_encoding(n, d)\n",
        "print(pos_encoding.shape)\n",
        "pos_encoding = pos_encoding[0]\n",
        "\n",
        "# Juggle the dimensions for the plot\n",
        "pos_encoding = tf.reshape(pos_encoding, (n, d//2, 2))\n",
        "pos_encoding = tf.transpose(pos_encoding, (2,1,0))\n",
        "pos_encoding = tf.reshape(pos_encoding, (d, n))\n",
        "\n",
        "plt.pcolormesh(pos_encoding, cmap='RdBu')\n",
        "plt.ylabel('Depth')\n",
        "plt.xlabel('Position')\n",
        "plt.colorbar()\n",
        "plt.show()"
      ],
      "execution_count": 26,
      "outputs": [
        {
          "output_type": "stream",
          "text": [
            "(1, 2048, 512)\n"
          ],
          "name": "stdout"
        },
        {
          "output_type": "display_data",
          "data": {
            "image/png": "[encoded data removed]",
            "text/plain": [
              "<Figure size 432x288 with 2 Axes>"
            ]
          },
          "metadata": {
            "tags": [],
            "needs_background": "light"
          }
        }
      ]
    },
    {
      "cell_type": "code",
      "metadata": {
        "colab": {
          "base_uri": "https://localhost:8080/"
        },
        "id": "0_ODDfLielfU",
        "outputId": "4f9ffcfd-13c0-4086-963d-4548ce3b2659"
      },
      "source": [
        "pos_encoding.shape"
      ],
      "execution_count": 27,
      "outputs": [
        {
          "output_type": "execute_result",
          "data": {
            "text/plain": [
              "TensorShape([512, 2048])"
            ]
          },
          "metadata": {
            "tags": []
          },
          "execution_count": 27
        }
      ]
    },
    {
      "cell_type": "markdown",
      "metadata": {
        "id": "a_b4ou4TYqUN"
      },
      "source": [
        "## Masking"
      ]
    },
    {
      "cell_type": "markdown",
      "metadata": {
        "id": "s42Uydjkv0hF"
      },
      "source": [
        "Mask all the pad tokens in the batch of sequence. It ensures that the model does not treat padding as the input. The mask indicates where pad value `0` is present: it outputs a `1` at those locations, and a `0` otherwise."
      ]
    },
    {
      "cell_type": "code",
      "metadata": {
        "id": "U2i8-e1s8ti9"
      },
      "source": [
        "def create_padding_mask(seq):\n",
        "  seq = tf.cast(tf.math.equal(seq, 0), tf.float32)\n",
        "  \n",
        "  # add extra dimensions to add the padding\n",
        "  # to the attention logits.\n",
        "  return seq[:, tf.newaxis, tf.newaxis, :]  # (batch_size, 1, 1, seq_len)"
      ],
      "execution_count": 28,
      "outputs": []
    },
    {
      "cell_type": "code",
      "metadata": {
        "id": "A7BYeBCNvi7n",
        "colab": {
          "base_uri": "https://localhost:8080/"
        },
        "outputId": "ee77016c-db27-4809-b444-80bf15882685"
      },
      "source": [
        "x = tf.constant([[7, 6, 0, 0, 1], [1, 2, 3, 0, 0], [0, 0, 0, 4, 5]])\n",
        "create_padding_mask(x)"
      ],
      "execution_count": 29,
      "outputs": [
        {
          "output_type": "execute_result",
          "data": {
            "text/plain": [
              "<tf.Tensor: shape=(3, 1, 1, 5), dtype=float32, numpy=\n",
              "array([[[[0., 0., 1., 1., 0.]]],\n",
              "\n",
              "\n",
              "       [[[0., 0., 0., 1., 1.]]],\n",
              "\n",
              "\n",
              "       [[[1., 1., 1., 0., 0.]]]], dtype=float32)>"
            ]
          },
          "metadata": {
            "tags": []
          },
          "execution_count": 29
        }
      ]
    },
    {
      "cell_type": "markdown",
      "metadata": {
        "id": "Z0hzukDBgVom"
      },
      "source": [
        "The look-ahead mask is used to mask the future tokens in a sequence. In other words, the mask indicates which entries should not be used.\n",
        "\n",
        "This means that to predict the third word, only the first and second word will be used. Similarly to predict the fourth word, only the first, second and the third word will be used and so on."
      ]
    },
    {
      "cell_type": "code",
      "metadata": {
        "id": "dVxS8OPI9uI0"
      },
      "source": [
        "def create_look_ahead_mask(size):\n",
        "  mask = 1 - tf.linalg.band_part(tf.ones((size, size)), -1, 0)\n",
        "  return mask  # (seq_len, seq_len)"
      ],
      "execution_count": 30,
      "outputs": []
    },
    {
      "cell_type": "code",
      "metadata": {
        "id": "yxKGuXxaBeeE",
        "colab": {
          "base_uri": "https://localhost:8080/"
        },
        "outputId": "6d0ac905-cba1-4ca7-a2b3-50cacab571f5"
      },
      "source": [
        "x = tf.random.uniform((1, 3))\n",
        "temp = create_look_ahead_mask(x.shape[1])\n",
        "temp"
      ],
      "execution_count": 31,
      "outputs": [
        {
          "output_type": "execute_result",
          "data": {
            "text/plain": [
              "<tf.Tensor: shape=(3, 3), dtype=float32, numpy=\n",
              "array([[0., 1., 1.],\n",
              "       [0., 0., 1.],\n",
              "       [0., 0., 0.]], dtype=float32)>"
            ]
          },
          "metadata": {
            "tags": []
          },
          "execution_count": 31
        }
      ]
    },
    {
      "cell_type": "markdown",
      "metadata": {
        "id": "xluDl5cXYy4y"
      },
      "source": [
        "## Scaled dot product attention\n",
        "\n"
      ]
    },
    {
      "cell_type": "markdown",
      "metadata": {
        "id": "vsxEE_-Wa1gF"
      },
      "source": [
        "<img src=\"https://www.tensorflow.org/images/tutorials/transformer/scaled_attention.png\" width=\"500\" alt=\"scaled_dot_product_attention\">\n",
        "\n",
        "The attention function used by the transformer takes three inputs: Q (query), K (key), V (value). The equation used to calculate the attention weights is:\n",
        "\n",
        "$$\\Large{Attention(Q, K, V) = softmax_k(\\frac{QK^T}{\\sqrt{d_k}}) V} $$\n",
        "\n",
        "The dot-product attention is scaled by a factor of square root of the depth. This is done because for large values of depth, the dot product grows large in magnitude pushing the softmax function where it has small gradients resulting in a very hard softmax. \n",
        "\n",
        "For example, consider that `Q` and `K` have a mean of 0 and variance of 1. Their matrix multiplication will have a mean of 0 and variance of `dk`. So the *square root of `dk`* is used for scaling so you get a consistent variance regardless of the value of `dk`. If the variance is too low the output may be too flat to optimize effectively. If the variance is too high the softmax may saturate at initilization making it dificult to learn. \n",
        "\n",
        "The mask is multiplied with -1e9 (close to negative infinity). This is done because the mask is summed with the scaled matrix multiplication of Q and K and is applied immediately before a softmax. The goal is to zero out these cells, and large negative inputs to softmax are near zero in the output."
      ]
    },
    {
      "cell_type": "code",
      "metadata": {
        "id": "LazzUq3bJ5SH"
      },
      "source": [
        "def scaled_dot_product_attention(q, k, v, mask):\n",
        "  \"\"\"Calculate the attention weights.\n",
        "  q, k, v must have matching leading dimensions.\n",
        "  k, v must have matching penultimate dimension, i.e.: seq_len_k = seq_len_v.\n",
        "  The mask has different shapes depending on its type(padding or look ahead) \n",
        "  but it must be broadcastable for addition.\n",
        "  \n",
        "  Args:\n",
        "    q: query shape == (..., seq_len_q, depth)\n",
        "    k: key shape == (..., seq_len_k, depth)\n",
        "    v: value shape == (..., seq_len_v, depth_v)\n",
        "    mask: Float tensor with shape broadcastable \n",
        "          to (..., seq_len_q, seq_len_k). Defaults to None.\n",
        "    \n",
        "  Returns:\n",
        "    output, attention_weights\n",
        "  \"\"\"\n",
        "\n",
        "  matmul_qk = tf.matmul(q, k, transpose_b=True)  # (..., seq_len_q, seq_len_k)\n",
        "  \n",
        "  # scale matmul_qk\n",
        "  dk = tf.cast(tf.shape(k)[-1], tf.float32)\n",
        "  scaled_attention_logits = matmul_qk / tf.math.sqrt(dk)\n",
        "\n",
        "  # add the mask to the scaled tensor.\n",
        "  if mask is not None:\n",
        "    scaled_attention_logits += (mask * -1e9)  \n",
        "\n",
        "  # softmax is normalized on the last axis (seq_len_k) so that the scores\n",
        "  # add up to 1.\n",
        "  attention_weights = tf.nn.softmax(scaled_attention_logits, axis=-1)  # (..., seq_len_q, seq_len_k)\n",
        "\n",
        "  output = tf.matmul(attention_weights, v)  # (..., seq_len_q, depth_v)\n",
        "\n",
        "  return output, attention_weights"
      ],
      "execution_count": 32,
      "outputs": []
    },
    {
      "cell_type": "markdown",
      "metadata": {
        "id": "FiqETnhCkoXh"
      },
      "source": [
        "As the softmax normalization is done on K, its values decide the amount of importance given to Q.\n",
        "\n",
        "The output represents the multiplication of the attention weights and the V (value) vector. This ensures that the words you want to focus on are kept as-is and the irrelevant words are flushed out."
      ]
    },
    {
      "cell_type": "code",
      "metadata": {
        "id": "n90YjClyInFy"
      },
      "source": [
        "def print_out(q, k, v):\n",
        "  temp_out, temp_attn = scaled_dot_product_attention(\n",
        "      q, k, v, None)\n",
        "  print ('Attention weights are:')\n",
        "  print (temp_attn)\n",
        "  print ('Output is:')\n",
        "  print (temp_out)"
      ],
      "execution_count": 33,
      "outputs": []
    },
    {
      "cell_type": "code",
      "metadata": {
        "id": "yAzUAf2DPlNt",
        "colab": {
          "base_uri": "https://localhost:8080/"
        },
        "outputId": "06c421ab-757c-4970-9146-87e0d3dba8a6"
      },
      "source": [
        "np.set_printoptions(suppress=True)\n",
        "\n",
        "temp_k = tf.constant([[10,0,0],\n",
        "                      [0,10,0],\n",
        "                      [0,0,10],\n",
        "                      [0,0,10]], dtype=tf.float32)  # (4, 3)\n",
        "\n",
        "temp_v = tf.constant([[   1,0],\n",
        "                      [  10,0],\n",
        "                      [ 100,5],\n",
        "                      [1000,6]], dtype=tf.float32)  # (4, 2)\n",
        "\n",
        "# This `query` aligns with the second `key`,\n",
        "# so the second `value` is returned.\n",
        "temp_q = tf.constant([[0, 10, 0]], dtype=tf.float32)  # (1, 3)\n",
        "print_out(temp_q, temp_k, temp_v)"
      ],
      "execution_count": 34,
      "outputs": [
        {
          "output_type": "stream",
          "text": [
            "Attention weights are:\n",
            "tf.Tensor([[0. 1. 0. 0.]], shape=(1, 4), dtype=float32)\n",
            "Output is:\n",
            "tf.Tensor([[10.  0.]], shape=(1, 2), dtype=float32)\n"
          ],
          "name": "stdout"
        }
      ]
    },
    {
      "cell_type": "code",
      "metadata": {
        "id": "zg6k-fGhgXra",
        "colab": {
          "base_uri": "https://localhost:8080/"
        },
        "outputId": "7ae973e1-a8cf-4804-9b7a-7e9a0963a89f"
      },
      "source": [
        "# This query aligns with a repeated key (third and fourth), \n",
        "# so all associated values get averaged.\n",
        "temp_q = tf.constant([[0, 0, 10]], dtype=tf.float32)  # (1, 3)\n",
        "print_out(temp_q, temp_k, temp_v)"
      ],
      "execution_count": 35,
      "outputs": [
        {
          "output_type": "stream",
          "text": [
            "Attention weights are:\n",
            "tf.Tensor([[0.  0.  0.5 0.5]], shape=(1, 4), dtype=float32)\n",
            "Output is:\n",
            "tf.Tensor([[550.    5.5]], shape=(1, 2), dtype=float32)\n"
          ],
          "name": "stdout"
        }
      ]
    },
    {
      "cell_type": "code",
      "metadata": {
        "id": "UAq3YOzUgXhb",
        "colab": {
          "base_uri": "https://localhost:8080/"
        },
        "outputId": "bb683811-7968-4b3d-844b-58129a89dad9"
      },
      "source": [
        "# This query aligns equally with the first and second key, \n",
        "# so their values get averaged.\n",
        "temp_q = tf.constant([[10, 10, 0]], dtype=tf.float32)  # (1, 3)\n",
        "print_out(temp_q, temp_k, temp_v)"
      ],
      "execution_count": 36,
      "outputs": [
        {
          "output_type": "stream",
          "text": [
            "Attention weights are:\n",
            "tf.Tensor([[0.5 0.5 0.  0. ]], shape=(1, 4), dtype=float32)\n",
            "Output is:\n",
            "tf.Tensor([[5.5 0. ]], shape=(1, 2), dtype=float32)\n"
          ],
          "name": "stdout"
        }
      ]
    },
    {
      "cell_type": "markdown",
      "metadata": {
        "id": "aOz-4_XIhaTP"
      },
      "source": [
        "Pass all the queries together."
      ]
    },
    {
      "cell_type": "code",
      "metadata": {
        "id": "6dlU8Tm-hYrF",
        "colab": {
          "base_uri": "https://localhost:8080/"
        },
        "outputId": "0d3d7511-4c8d-46c6-90af-e25fcfc0f7d5"
      },
      "source": [
        "temp_q = tf.constant([[0, 0, 10], [0, 10, 0], [10, 10, 0]], dtype=tf.float32)  # (3, 3)\n",
        "print_out(temp_q, temp_k, temp_v)"
      ],
      "execution_count": 37,
      "outputs": [
        {
          "output_type": "stream",
          "text": [
            "Attention weights are:\n",
            "tf.Tensor(\n",
            "[[0.  0.  0.5 0.5]\n",
            " [0.  1.  0.  0. ]\n",
            " [0.5 0.5 0.  0. ]], shape=(3, 4), dtype=float32)\n",
            "Output is:\n",
            "tf.Tensor(\n",
            "[[550.    5.5]\n",
            " [ 10.    0. ]\n",
            " [  5.5   0. ]], shape=(3, 2), dtype=float32)\n"
          ],
          "name": "stdout"
        }
      ]
    },
    {
      "cell_type": "markdown",
      "metadata": {
        "id": "kmzGPEy64qmA"
      },
      "source": [
        "## Multi-head attention"
      ]
    },
    {
      "cell_type": "markdown",
      "metadata": {
        "id": "fz5BMC8Kaoqo"
      },
      "source": [
        "<img src=\"https://www.tensorflow.org/images/tutorials/transformer/multi_head_attention.png\" width=\"500\" alt=\"multi-head attention\">\n",
        "\n",
        "\n",
        "Multi-head attention consists of four parts:\n",
        "*    Linear layers and split into heads.\n",
        "*    Scaled dot-product attention.\n",
        "*    Concatenation of heads.\n",
        "*    Final linear layer."
      ]
    },
    {
      "cell_type": "markdown",
      "metadata": {
        "id": "JPmbr6F1C-v_"
      },
      "source": [
        "Each multi-head attention block gets three inputs; Q (query), K (key), V (value). These are put through linear (Dense) layers and split up into multiple heads. \n",
        "\n",
        "The `scaled_dot_product_attention` defined above is applied to each head (broadcasted for efficiency). An appropriate mask must be used in the attention step.  The attention output for each head is then concatenated (using `tf.transpose`, and `tf.reshape`) and put through a final `Dense` layer.\n",
        "\n",
        "Instead of one single attention head, Q, K, and V are split into multiple heads because it allows the model to jointly attend to information at different positions from different representational spaces. After the split each head has a reduced dimensionality, so the total computation cost is the same as a single head attention with full dimensionality."
      ]
    },
    {
      "cell_type": "code",
      "metadata": {
        "id": "BSV3PPKsYecw"
      },
      "source": [
        "class MultiHeadAttention(tf.keras.layers.Layer):\n",
        "  def __init__(self, d_model, num_heads):\n",
        "    super(MultiHeadAttention, self).__init__()\n",
        "    self.num_heads = num_heads\n",
        "    self.d_model = d_model\n",
        "    \n",
        "    assert d_model % self.num_heads == 0\n",
        "    \n",
        "    self.depth = d_model // self.num_heads\n",
        "    \n",
        "    self.wq = tf.keras.layers.Dense(d_model)\n",
        "    self.wk = tf.keras.layers.Dense(d_model)\n",
        "    self.wv = tf.keras.layers.Dense(d_model)\n",
        "    \n",
        "    self.dense = tf.keras.layers.Dense(d_model)\n",
        "        \n",
        "  def split_heads(self, x, batch_size):\n",
        "    \"\"\"Split the last dimension into (num_heads, depth).\n",
        "    Transpose the result such that the shape is (batch_size, num_heads, seq_len, depth)\n",
        "    \"\"\"\n",
        "    x = tf.reshape(x, (batch_size, -1, self.num_heads, self.depth))\n",
        "    return tf.transpose(x, perm=[0, 2, 1, 3])\n",
        "    \n",
        "  def call(self, v, k, q, mask):\n",
        "    batch_size = tf.shape(q)[0]\n",
        "    \n",
        "    q = self.wq(q)  # (batch_size, seq_len, d_model)\n",
        "    k = self.wk(k)  # (batch_size, seq_len, d_model)\n",
        "    v = self.wv(v)  # (batch_size, seq_len, d_model)\n",
        "    \n",
        "    q = self.split_heads(q, batch_size)  # (batch_size, num_heads, seq_len_q, depth)\n",
        "    k = self.split_heads(k, batch_size)  # (batch_size, num_heads, seq_len_k, depth)\n",
        "    v = self.split_heads(v, batch_size)  # (batch_size, num_heads, seq_len_v, depth)\n",
        "    \n",
        "    # scaled_attention.shape == (batch_size, num_heads, seq_len_q, depth)\n",
        "    # attention_weights.shape == (batch_size, num_heads, seq_len_q, seq_len_k)\n",
        "    scaled_attention, attention_weights = scaled_dot_product_attention(\n",
        "        q, k, v, mask)\n",
        "    \n",
        "    scaled_attention = tf.transpose(scaled_attention, perm=[0, 2, 1, 3])  # (batch_size, seq_len_q, num_heads, depth)\n",
        "\n",
        "    concat_attention = tf.reshape(scaled_attention, \n",
        "                                  (batch_size, -1, self.d_model))  # (batch_size, seq_len_q, d_model)\n",
        "\n",
        "    output = self.dense(concat_attention)  # (batch_size, seq_len_q, d_model)\n",
        "        \n",
        "    return output, attention_weights"
      ],
      "execution_count": 38,
      "outputs": []
    },
    {
      "cell_type": "markdown",
      "metadata": {
        "id": "0D8FJue5lDyZ"
      },
      "source": [
        "Create a `MultiHeadAttention` layer to try out. At each location in the sequence, `y`, the `MultiHeadAttention` runs all 8 attention heads across all other locations in the sequence, returning a new vector of the same length at each location."
      ]
    },
    {
      "cell_type": "code",
      "metadata": {
        "id": "Hu94p-_-2_BX",
        "colab": {
          "base_uri": "https://localhost:8080/"
        },
        "outputId": "821fe6dd-e169-40e2-e56c-a2ebd238d4f5"
      },
      "source": [
        "temp_mha = MultiHeadAttention(d_model=512, num_heads=8)\n",
        "y = tf.random.uniform((1, 60, 512))  # (batch_size, encoder_sequence, d_model)\n",
        "out, attn = temp_mha(y, k=y, q=y, mask=None)\n",
        "out.shape, attn.shape"
      ],
      "execution_count": 39,
      "outputs": [
        {
          "output_type": "execute_result",
          "data": {
            "text/plain": [
              "(TensorShape([1, 60, 512]), TensorShape([1, 8, 60, 60]))"
            ]
          },
          "metadata": {
            "tags": []
          },
          "execution_count": 39
        }
      ]
    },
    {
      "cell_type": "markdown",
      "metadata": {
        "id": "RdDqGayx67vv"
      },
      "source": [
        "## Point wise feed forward network"
      ]
    },
    {
      "cell_type": "markdown",
      "metadata": {
        "id": "gBqzJXGfHK3X"
      },
      "source": [
        "Point wise feed forward network consists of two fully-connected layers with a ReLU activation in between."
      ]
    },
    {
      "cell_type": "code",
      "metadata": {
        "id": "ET7xLt0yCT6Z"
      },
      "source": [
        "def point_wise_feed_forward_network(d_model, dff):\n",
        "  return tf.keras.Sequential([\n",
        "      tf.keras.layers.Dense(dff, activation='relu'),  # (batch_size, seq_len, dff)\n",
        "      tf.keras.layers.Dense(d_model)  # (batch_size, seq_len, d_model)\n",
        "  ])"
      ],
      "execution_count": 40,
      "outputs": []
    },
    {
      "cell_type": "code",
      "metadata": {
        "id": "mytb1lPyOHLB",
        "colab": {
          "base_uri": "https://localhost:8080/"
        },
        "outputId": "aa354873-78d3-4135-f228-d4a5cf24d996"
      },
      "source": [
        "sample_ffn = point_wise_feed_forward_network(512, 2048)\n",
        "sample_ffn(tf.random.uniform((64, 50, 512))).shape"
      ],
      "execution_count": 41,
      "outputs": [
        {
          "output_type": "execute_result",
          "data": {
            "text/plain": [
              "TensorShape([64, 50, 512])"
            ]
          },
          "metadata": {
            "tags": []
          },
          "execution_count": 41
        }
      ]
    },
    {
      "cell_type": "markdown",
      "metadata": {
        "id": "7e7hKcxn6-zd"
      },
      "source": [
        "## Encoder and decoder"
      ]
    },
    {
      "cell_type": "markdown",
      "metadata": {
        "id": "yScbC0MUH8dS"
      },
      "source": [
        "<img src=\"https://www.tensorflow.org/images/tutorials/transformer/transformer.png\" width=\"600\" alt=\"transformer\">"
      ]
    },
    {
      "cell_type": "markdown",
      "metadata": {
        "id": "MfYJG-Kvgwy2"
      },
      "source": [
        "The transformer model follows the same general pattern as a standard [sequence to sequence with attention model](nmt_with_attention.ipynb). \n",
        "\n",
        "* The input sentence is passed through `N` encoder layers that generates an output for each word/token in the sequence.\n",
        "* The decoder attends on the encoder's output and its own input (self-attention) to predict the next word. "
      ]
    },
    {
      "cell_type": "markdown",
      "metadata": {
        "id": "QFv-FNYUmvpn"
      },
      "source": [
        "### Encoder layer\n",
        "\n",
        "Each encoder layer consists of sublayers:\n",
        "\n",
        "1.   Multi-head attention (with padding mask) \n",
        "2.    Point wise feed forward networks. \n",
        "\n",
        "Each of these sublayers has a residual connection around it followed by a layer normalization. Residual connections help in avoiding the vanishing gradient problem in deep networks.\n",
        "\n",
        "The output of each sublayer is `LayerNorm(x + Sublayer(x))`. The normalization is done on the `d_model` (last) axis. There are N encoder layers in the transformer."
      ]
    },
    {
      "cell_type": "code",
      "metadata": {
        "id": "ncyS-Ms3i2x_"
      },
      "source": [
        "class EncoderLayer(tf.keras.layers.Layer):\n",
        "  def __init__(self, d_model, num_heads, dff, rate=0.1):\n",
        "    super(EncoderLayer, self).__init__()\n",
        "\n",
        "    self.mha = MultiHeadAttention(d_model, num_heads)\n",
        "    self.ffn = point_wise_feed_forward_network(d_model, dff)\n",
        "\n",
        "    self.layernorm1 = tf.keras.layers.LayerNormalization(epsilon=1e-6)\n",
        "    self.layernorm2 = tf.keras.layers.LayerNormalization(epsilon=1e-6)\n",
        "    \n",
        "    self.dropout1 = tf.keras.layers.Dropout(rate)\n",
        "    self.dropout2 = tf.keras.layers.Dropout(rate)\n",
        "    \n",
        "  def call(self, x, training, mask):\n",
        "\n",
        "    attn_output, _ = self.mha(x, x, x, mask)  # (batch_size, input_seq_len, d_model)\n",
        "    attn_output = self.dropout1(attn_output, training=training)\n",
        "    out1 = self.layernorm1(x + attn_output)  # (batch_size, input_seq_len, d_model)\n",
        "    \n",
        "    ffn_output = self.ffn(out1)  # (batch_size, input_seq_len, d_model)\n",
        "    ffn_output = self.dropout2(ffn_output, training=training)\n",
        "    out2 = self.layernorm2(out1 + ffn_output)  # (batch_size, input_seq_len, d_model)\n",
        "    \n",
        "    return out2"
      ],
      "execution_count": 42,
      "outputs": []
    },
    {
      "cell_type": "code",
      "metadata": {
        "id": "AzZRXdO0mI48",
        "colab": {
          "base_uri": "https://localhost:8080/"
        },
        "outputId": "9afbf063-2c86-4bbd-9569-b1f4140d434d"
      },
      "source": [
        "sample_encoder_layer = EncoderLayer(512, 8, 2048)\n",
        "\n",
        "sample_encoder_layer_output = sample_encoder_layer(\n",
        "    tf.random.uniform((64, 43, 512)), False, None)\n",
        "\n",
        "sample_encoder_layer_output.shape  # (batch_size, input_seq_len, d_model)"
      ],
      "execution_count": 43,
      "outputs": [
        {
          "output_type": "execute_result",
          "data": {
            "text/plain": [
              "TensorShape([64, 43, 512])"
            ]
          },
          "metadata": {
            "tags": []
          },
          "execution_count": 43
        }
      ]
    },
    {
      "cell_type": "markdown",
      "metadata": {
        "id": "6LO_48Owmx_o"
      },
      "source": [
        "### Decoder layer\n",
        "\n",
        "Each decoder layer consists of sublayers:\n",
        "\n",
        "1.   Masked multi-head attention (with look ahead mask and padding mask)\n",
        "2.   Multi-head attention (with padding mask). V (value) and K (key) receive the *encoder output* as inputs. Q (query) receives the *output from the masked multi-head attention sublayer.*\n",
        "3.   Point wise feed forward networks\n",
        "\n",
        "Each of these sublayers has a residual connection around it followed by a layer normalization. The output of each sublayer is `LayerNorm(x + Sublayer(x))`. The normalization is done on the `d_model` (last) axis.\n",
        "\n",
        "There are N decoder layers in the transformer.\n",
        "\n",
        "As Q receives the output from decoder's first attention block, and K receives the encoder output, the attention weights represent the importance given to the decoder's input based on the encoder's output. In other words, the decoder predicts the next word by looking at the encoder output and self-attending to its own output. See the demonstration above in the scaled dot product attention section."
      ]
    },
    {
      "cell_type": "code",
      "metadata": {
        "id": "9SoX0-vd1hue"
      },
      "source": [
        "class DecoderLayer(tf.keras.layers.Layer):\n",
        "  def __init__(self, d_model, num_heads, dff, rate=0.1):\n",
        "    super(DecoderLayer, self).__init__()\n",
        "\n",
        "    self.mha1 = MultiHeadAttention(d_model, num_heads)\n",
        "    self.mha2 = MultiHeadAttention(d_model, num_heads)\n",
        "\n",
        "    self.ffn = point_wise_feed_forward_network(d_model, dff)\n",
        " \n",
        "    self.layernorm1 = tf.keras.layers.LayerNormalization(epsilon=1e-6)\n",
        "    self.layernorm2 = tf.keras.layers.LayerNormalization(epsilon=1e-6)\n",
        "    self.layernorm3 = tf.keras.layers.LayerNormalization(epsilon=1e-6)\n",
        "    \n",
        "    self.dropout1 = tf.keras.layers.Dropout(rate)\n",
        "    self.dropout2 = tf.keras.layers.Dropout(rate)\n",
        "    self.dropout3 = tf.keras.layers.Dropout(rate)\n",
        "    \n",
        "    \n",
        "  def call(self, x, enc_output, training, \n",
        "           look_ahead_mask, padding_mask):\n",
        "    # enc_output.shape == (batch_size, input_seq_len, d_model)\n",
        "\n",
        "    attn1, attn_weights_block1 = self.mha1(x, x, x, look_ahead_mask)  # (batch_size, target_seq_len, d_model)\n",
        "    attn1 = self.dropout1(attn1, training=training)\n",
        "    out1 = self.layernorm1(attn1 + x)\n",
        "    \n",
        "    attn2, attn_weights_block2 = self.mha2(\n",
        "        enc_output, enc_output, out1, padding_mask)  # (batch_size, target_seq_len, d_model)\n",
        "    attn2 = self.dropout2(attn2, training=training)\n",
        "    out2 = self.layernorm2(attn2 + out1)  # (batch_size, target_seq_len, d_model)\n",
        "    \n",
        "    ffn_output = self.ffn(out2)  # (batch_size, target_seq_len, d_model)\n",
        "    ffn_output = self.dropout3(ffn_output, training=training)\n",
        "    out3 = self.layernorm3(ffn_output + out2)  # (batch_size, target_seq_len, d_model)\n",
        "    \n",
        "    return out3, attn_weights_block1, attn_weights_block2"
      ],
      "execution_count": 44,
      "outputs": []
    },
    {
      "cell_type": "code",
      "metadata": {
        "id": "Ne2Bqx8k71l0",
        "colab": {
          "base_uri": "https://localhost:8080/"
        },
        "outputId": "0e82e341-b54b-43f8-e569-6d459c62a472"
      },
      "source": [
        "sample_decoder_layer = DecoderLayer(512, 8, 2048)\n",
        "\n",
        "sample_decoder_layer_output, _, _ = sample_decoder_layer(\n",
        "    tf.random.uniform((64, 50, 512)), sample_encoder_layer_output, \n",
        "    False, None, None)\n",
        "\n",
        "sample_decoder_layer_output.shape  # (batch_size, target_seq_len, d_model)"
      ],
      "execution_count": 45,
      "outputs": [
        {
          "output_type": "execute_result",
          "data": {
            "text/plain": [
              "TensorShape([64, 50, 512])"
            ]
          },
          "metadata": {
            "tags": []
          },
          "execution_count": 45
        }
      ]
    },
    {
      "cell_type": "markdown",
      "metadata": {
        "id": "SE1H51Ajm0q1"
      },
      "source": [
        "### Encoder\n",
        "\n",
        "The `Encoder` consists of:\n",
        "1.   Input Embedding\n",
        "2.   Positional Encoding\n",
        "3.   N encoder layers\n",
        "\n",
        "The input is put through an embedding which is summed with the positional encoding. The output of this summation is the input to the encoder layers. The output of the encoder is the input to the decoder."
      ]
    },
    {
      "cell_type": "code",
      "metadata": {
        "id": "jpEox7gJ8FCI"
      },
      "source": [
        "class Encoder(tf.keras.layers.Layer):\n",
        "  def __init__(self, num_layers, d_model, num_heads, dff, input_vocab_size,\n",
        "               maximum_position_encoding, rate=0.1):\n",
        "    super(Encoder, self).__init__()\n",
        "\n",
        "    self.d_model = d_model\n",
        "    self.num_layers = num_layers\n",
        "    \n",
        "    self.embedding = tf.keras.layers.Embedding(input_vocab_size, d_model)\n",
        "    self.pos_encoding = positional_encoding(maximum_position_encoding, \n",
        "                                            self.d_model)\n",
        "    \n",
        "    \n",
        "    self.enc_layers = [EncoderLayer(d_model, num_heads, dff, rate) \n",
        "                       for _ in range(num_layers)]\n",
        "  \n",
        "    self.dropout = tf.keras.layers.Dropout(rate)\n",
        "        \n",
        "  def call(self, x, training, mask):\n",
        "\n",
        "    seq_len = tf.shape(x)[1]\n",
        "    \n",
        "    # adding embedding and position encoding.\n",
        "    x = self.embedding(x)  # (batch_size, input_seq_len, d_model)\n",
        "    x *= tf.math.sqrt(tf.cast(self.d_model, tf.float32))\n",
        "    x += self.pos_encoding[:, :seq_len, :]\n",
        "\n",
        "    x = self.dropout(x, training=training)\n",
        "    \n",
        "    for i in range(self.num_layers):\n",
        "      x = self.enc_layers[i](x, training, mask)\n",
        "    \n",
        "    return x  # (batch_size, input_seq_len, d_model)"
      ],
      "execution_count": 46,
      "outputs": []
    },
    {
      "cell_type": "code",
      "metadata": {
        "id": "8QG9nueFQKXx",
        "colab": {
          "base_uri": "https://localhost:8080/"
        },
        "outputId": "4d8815a5-bb60-47aa-d702-3319913407f1"
      },
      "source": [
        "sample_encoder = Encoder(num_layers=2, d_model=512, num_heads=8, \n",
        "                         dff=2048, input_vocab_size=8500,\n",
        "                         maximum_position_encoding=10000)\n",
        "temp_input = tf.random.uniform((64, 62), dtype=tf.int64, minval=0, maxval=200)\n",
        "\n",
        "sample_encoder_output = sample_encoder(temp_input, training=False, mask=None)\n",
        "\n",
        "print (sample_encoder_output.shape)  # (batch_size, input_seq_len, d_model)"
      ],
      "execution_count": 47,
      "outputs": [
        {
          "output_type": "stream",
          "text": [
            "(64, 62, 512)\n"
          ],
          "name": "stdout"
        }
      ]
    },
    {
      "cell_type": "markdown",
      "metadata": {
        "id": "p-uO6ls8m2O5"
      },
      "source": [
        "### Decoder"
      ]
    },
    {
      "cell_type": "markdown",
      "metadata": {
        "id": "ZtT7PKzrXkNr"
      },
      "source": [
        " The `Decoder` consists of:\n",
        "1.   Output Embedding\n",
        "2.   Positional Encoding\n",
        "3.   N decoder layers\n",
        "\n",
        "The target is put through an embedding which is summed with the positional encoding. The output of this summation is the input to the decoder layers. The output of the decoder is the input to the final linear layer."
      ]
    },
    {
      "cell_type": "code",
      "metadata": {
        "id": "d5_d5-PLQXwY"
      },
      "source": [
        "class Decoder(tf.keras.layers.Layer):\n",
        "  def __init__(self, num_layers, d_model, num_heads, dff, target_vocab_size,\n",
        "               maximum_position_encoding, rate=0.1):\n",
        "    super(Decoder, self).__init__()\n",
        "\n",
        "    self.d_model = d_model\n",
        "    self.num_layers = num_layers\n",
        "    \n",
        "    self.embedding = tf.keras.layers.Embedding(target_vocab_size, d_model)\n",
        "    self.pos_encoding = positional_encoding(maximum_position_encoding, d_model)\n",
        "    \n",
        "    self.dec_layers = [DecoderLayer(d_model, num_heads, dff, rate) \n",
        "                       for _ in range(num_layers)]\n",
        "    self.dropout = tf.keras.layers.Dropout(rate)\n",
        "    \n",
        "  def call(self, x, enc_output, training, \n",
        "           look_ahead_mask, padding_mask):\n",
        "\n",
        "    seq_len = tf.shape(x)[1]\n",
        "    attention_weights = {}\n",
        "    \n",
        "    x = self.embedding(x)  # (batch_size, target_seq_len, d_model)\n",
        "    x *= tf.math.sqrt(tf.cast(self.d_model, tf.float32))\n",
        "    x += self.pos_encoding[:, :seq_len, :]\n",
        "    \n",
        "    x = self.dropout(x, training=training)\n",
        "\n",
        "    for i in range(self.num_layers):\n",
        "      x, block1, block2 = self.dec_layers[i](x, enc_output, training,\n",
        "                                             look_ahead_mask, padding_mask)\n",
        "      \n",
        "      attention_weights['decoder_layer{}_block1'.format(i+1)] = block1\n",
        "      attention_weights['decoder_layer{}_block2'.format(i+1)] = block2\n",
        "    \n",
        "    # x.shape == (batch_size, target_seq_len, d_model)\n",
        "    return x, attention_weights"
      ],
      "execution_count": 48,
      "outputs": []
    },
    {
      "cell_type": "code",
      "metadata": {
        "id": "a1jXoAMRZyvu",
        "colab": {
          "base_uri": "https://localhost:8080/"
        },
        "outputId": "fefe18ea-4958-4652-d884-695cc6f1488d"
      },
      "source": [
        "sample_decoder = Decoder(num_layers=2, d_model=512, num_heads=8, \n",
        "                         dff=2048, target_vocab_size=8000,\n",
        "                         maximum_position_encoding=5000)\n",
        "temp_input = tf.random.uniform((64, 26), dtype=tf.int64, minval=0, maxval=200)\n",
        "\n",
        "output, attn = sample_decoder(temp_input, \n",
        "                              enc_output=sample_encoder_output, \n",
        "                              training=False,\n",
        "                              look_ahead_mask=None, \n",
        "                              padding_mask=None)\n",
        "\n",
        "output.shape, attn['decoder_layer2_block2'].shape"
      ],
      "execution_count": 49,
      "outputs": [
        {
          "output_type": "execute_result",
          "data": {
            "text/plain": [
              "(TensorShape([64, 26, 512]), TensorShape([64, 8, 26, 62]))"
            ]
          },
          "metadata": {
            "tags": []
          },
          "execution_count": 49
        }
      ]
    },
    {
      "cell_type": "markdown",
      "metadata": {
        "id": "y54xnJnuYgJ7"
      },
      "source": [
        "## Create the Transformer"
      ]
    },
    {
      "cell_type": "markdown",
      "metadata": {
        "id": "uERO1y54cOKq"
      },
      "source": [
        "Transformer consists of the encoder, decoder and a final linear layer. The output of the decoder is the input to the linear layer and its output is returned."
      ]
    },
    {
      "cell_type": "code",
      "metadata": {
        "id": "PED3bIpOYkBu"
      },
      "source": [
        "class Transformer(tf.keras.Model):\n",
        "  def __init__(self, num_layers, d_model, num_heads, dff, input_vocab_size, \n",
        "               target_vocab_size, pe_input, pe_target, rate=0.1):\n",
        "    super(Transformer, self).__init__()\n",
        "\n",
        "    self.tokenizer = Encoder(num_layers, d_model, num_heads, dff, \n",
        "                           input_vocab_size, pe_input, rate)\n",
        "\n",
        "    self.decoder = Decoder(num_layers, d_model, num_heads, dff, \n",
        "                           target_vocab_size, pe_target, rate)\n",
        "\n",
        "    self.final_layer = tf.keras.layers.Dense(target_vocab_size)\n",
        "    \n",
        "  def call(self, inp, tar, training, enc_padding_mask, \n",
        "           look_ahead_mask, dec_padding_mask):\n",
        "\n",
        "    enc_output = self.tokenizer(inp, training, enc_padding_mask)  # (batch_size, inp_seq_len, d_model)\n",
        "    \n",
        "    # dec_output.shape == (batch_size, tar_seq_len, d_model)\n",
        "    dec_output, attention_weights = self.decoder(\n",
        "        tar, enc_output, training, look_ahead_mask, dec_padding_mask)\n",
        "    \n",
        "    final_output = self.final_layer(dec_output)  # (batch_size, tar_seq_len, target_vocab_size)\n",
        "    \n",
        "    return final_output, attention_weights"
      ],
      "execution_count": 50,
      "outputs": []
    },
    {
      "cell_type": "code",
      "metadata": {
        "id": "tJ4fbQcIkHW1",
        "colab": {
          "base_uri": "https://localhost:8080/"
        },
        "outputId": "ed06eb02-fea3-428b-ba4e-6883fd0679c4"
      },
      "source": [
        "sample_transformer = Transformer(\n",
        "    num_layers=2, d_model=512, num_heads=8, dff=2048, \n",
        "    input_vocab_size=8500, target_vocab_size=8000, \n",
        "    pe_input=10000, pe_target=6000)\n",
        "\n",
        "temp_input = tf.random.uniform((64, 38), dtype=tf.int64, minval=0, maxval=200)\n",
        "temp_target = tf.random.uniform((64, 36), dtype=tf.int64, minval=0, maxval=200)\n",
        "\n",
        "fn_out, _ = sample_transformer(temp_input, temp_target, training=False, \n",
        "                               enc_padding_mask=None, \n",
        "                               look_ahead_mask=None,\n",
        "                               dec_padding_mask=None)\n",
        "\n",
        "fn_out.shape  # (batch_size, tar_seq_len, target_vocab_size)"
      ],
      "execution_count": 51,
      "outputs": [
        {
          "output_type": "execute_result",
          "data": {
            "text/plain": [
              "TensorShape([64, 36, 8000])"
            ]
          },
          "metadata": {
            "tags": []
          },
          "execution_count": 51
        }
      ]
    },
    {
      "cell_type": "markdown",
      "metadata": {
        "id": "wsINyf1VEQLC"
      },
      "source": [
        "## Set hyperparameters"
      ]
    },
    {
      "cell_type": "markdown",
      "metadata": {
        "id": "zVjWCxFNcgbt"
      },
      "source": [
        "To keep this example small and relatively fast, the values for *num_layers, d_model, and dff* have been reduced. \n",
        "\n",
        "The values used in the base model of transformer were; *num_layers=6*, *d_model = 512*, *dff = 2048*. See the [paper](https://arxiv.org/abs/1706.03762) for all the other versions of the transformer.\n",
        "\n",
        "Note: By changing the values below, you can get the model that achieved state of the art on many tasks."
      ]
    },
    {
      "cell_type": "code",
      "metadata": {
        "id": "lnJn5SLA2ahP"
      },
      "source": [
        "num_layers = 4\n",
        "d_model = 128\n",
        "dff = 512\n",
        "num_heads = 8\n",
        "dropout_rate = 0.1"
      ],
      "execution_count": 53,
      "outputs": []
    },
    {
      "cell_type": "markdown",
      "metadata": {
        "id": "xYEGhEOtzn5W"
      },
      "source": [
        "## Optimizer"
      ]
    },
    {
      "cell_type": "markdown",
      "metadata": {
        "id": "GOmWW--yP3zx"
      },
      "source": [
        "Use the Adam optimizer with a custom learning rate scheduler according to the formula in the [paper](https://arxiv.org/abs/1706.03762).\n",
        "\n",
        "$$\\Large{lrate = d_{model}^{-0.5} * min(step{\\_}num^{-0.5}, step{\\_}num * warmup{\\_}steps^{-1.5})}$$\n"
      ]
    },
    {
      "cell_type": "code",
      "metadata": {
        "id": "iYQdOO1axwEI"
      },
      "source": [
        "class CustomSchedule(tf.keras.optimizers.schedules.LearningRateSchedule):\n",
        "  def __init__(self, d_model, warmup_steps=4000):\n",
        "    super(CustomSchedule, self).__init__()\n",
        "    \n",
        "    self.d_model = d_model\n",
        "    self.d_model = tf.cast(self.d_model, tf.float32)\n",
        "\n",
        "    self.warmup_steps = warmup_steps\n",
        "    \n",
        "  def __call__(self, step):\n",
        "    arg1 = tf.math.rsqrt(step)\n",
        "    arg2 = step * (self.warmup_steps ** -1.5)\n",
        "    \n",
        "    return tf.math.rsqrt(self.d_model) * tf.math.minimum(arg1, arg2)"
      ],
      "execution_count": 54,
      "outputs": []
    },
    {
      "cell_type": "code",
      "metadata": {
        "id": "7r4scdulztRx"
      },
      "source": [
        "learning_rate = CustomSchedule(d_model)\n",
        "\n",
        "optimizer = tf.keras.optimizers.Adam(learning_rate, beta_1=0.9, beta_2=0.98, \n",
        "                                     epsilon=1e-9)"
      ],
      "execution_count": 55,
      "outputs": []
    },
    {
      "cell_type": "code",
      "metadata": {
        "id": "f33ZCgvHpPdG",
        "colab": {
          "base_uri": "https://localhost:8080/",
          "height": 296
        },
        "outputId": "31efc20d-c5a3-456d-cf5a-f541499d61b1"
      },
      "source": [
        "temp_learning_rate_schedule = CustomSchedule(d_model)\n",
        "\n",
        "plt.plot(temp_learning_rate_schedule(tf.range(40000, dtype=tf.float32)))\n",
        "plt.ylabel(\"Learning Rate\")\n",
        "plt.xlabel(\"Train Step\")"
      ],
      "execution_count": 56,
      "outputs": [
        {
          "output_type": "execute_result",
          "data": {
            "text/plain": [
              "Text(0.5, 0, 'Train Step')"
            ]
          },
          "metadata": {
            "tags": []
          },
          "execution_count": 56
        },
        {
          "output_type": "display_data",
          "data": {
            "image/png": "[encoded data removed]",
            "text/plain": [
              "<Figure size 432x288 with 1 Axes>"
            ]
          },
          "metadata": {
            "tags": [],
            "needs_background": "light"
          }
        }
      ]
    },
    {
      "cell_type": "markdown",
      "metadata": {
        "id": "YgkDE7hzo8r5"
      },
      "source": [
        "## Loss and metrics"
      ]
    },
    {
      "cell_type": "markdown",
      "metadata": {
        "id": "oxGJtoDuYIHL"
      },
      "source": [
        "Since the target sequences are padded, it is important to apply a padding mask when calculating the loss."
      ]
    },
    {
      "cell_type": "code",
      "metadata": {
        "id": "MlhsJMm0TW_B"
      },
      "source": [
        "loss_object = tf.keras.losses.SparseCategoricalCrossentropy(\n",
        "    from_logits=True, reduction='none')"
      ],
      "execution_count": 57,
      "outputs": []
    },
    {
      "cell_type": "code",
      "metadata": {
        "id": "67oqVHiT0Eiu"
      },
      "source": [
        "def loss_function(real, pred):\n",
        "  mask = tf.math.logical_not(tf.math.equal(real, 0))\n",
        "  loss_ = loss_object(real, pred)\n",
        "\n",
        "  mask = tf.cast(mask, dtype=loss_.dtype)\n",
        "  loss_ *= mask\n",
        "  \n",
        "  return tf.reduce_sum(loss_)/tf.reduce_sum(mask)\n",
        "\n",
        "\n",
        "def accuracy_function(real, pred):\n",
        "  accuracies = tf.equal(real, tf.argmax(pred, axis=2))\n",
        "  \n",
        "  mask = tf.math.logical_not(tf.math.equal(real, 0))\n",
        "  accuracies = tf.math.logical_and(mask, accuracies)\n",
        "\n",
        "  accuracies = tf.cast(accuracies, dtype=tf.float32)\n",
        "  mask = tf.cast(mask, dtype=tf.float32)\n",
        "  return tf.reduce_sum(accuracies)/tf.reduce_sum(mask)"
      ],
      "execution_count": 58,
      "outputs": []
    },
    {
      "cell_type": "code",
      "metadata": {
        "id": "phlyxMnm-Tpx"
      },
      "source": [
        "train_loss = tf.keras.metrics.Mean(name='train_loss')\n",
        "train_accuracy = tf.keras.metrics.Mean(name='train_accuracy')"
      ],
      "execution_count": 59,
      "outputs": []
    },
    {
      "cell_type": "markdown",
      "metadata": {
        "id": "aeHumfr7zmMa"
      },
      "source": [
        "## Training and checkpointing"
      ]
    },
    {
      "cell_type": "code",
      "metadata": {
        "id": "UiysUa--4tOU"
      },
      "source": [
        "transformer = Transformer(\n",
        "    num_layers=num_layers,\n",
        "    d_model=d_model,\n",
        "    num_heads=num_heads,\n",
        "    dff=dff,\n",
        "    input_vocab_size=tokenizers.pt.get_vocab_size(),\n",
        "    target_vocab_size=tokenizers.en.get_vocab_size(), \n",
        "    pe_input=1000, \n",
        "    pe_target=1000,\n",
        "    rate=dropout_rate)"
      ],
      "execution_count": 60,
      "outputs": []
    },
    {
      "cell_type": "code",
      "metadata": {
        "id": "ZOJUSB1T8GjM"
      },
      "source": [
        "def create_masks(inp, tar):\n",
        "  # Encoder padding mask\n",
        "  enc_padding_mask = create_padding_mask(inp)\n",
        "  \n",
        "  # Used in the 2nd attention block in the decoder.\n",
        "  # This padding mask is used to mask the encoder outputs.\n",
        "  dec_padding_mask = create_padding_mask(inp)\n",
        "  \n",
        "  # Used in the 1st attention block in the decoder.\n",
        "  # It is used to pad and mask future tokens in the input received by \n",
        "  # the decoder.\n",
        "  look_ahead_mask = create_look_ahead_mask(tf.shape(tar)[1])\n",
        "  dec_target_padding_mask = create_padding_mask(tar)\n",
        "  combined_mask = tf.maximum(dec_target_padding_mask, look_ahead_mask)\n",
        "  \n",
        "  return enc_padding_mask, combined_mask, dec_padding_mask"
      ],
      "execution_count": 61,
      "outputs": []
    },
    {
      "cell_type": "markdown",
      "metadata": {
        "id": "Fzuf06YZp66w"
      },
      "source": [
        "Create the checkpoint path and the checkpoint manager. This will be used to save checkpoints every `n` epochs."
      ]
    },
    {
      "cell_type": "code",
      "metadata": {
        "id": "hNhuYfllndLZ"
      },
      "source": [
        "checkpoint_path = \"drive/MyDrive/models/transformer_port_eng_orig\"\n",
        "\n",
        "ckpt = tf.train.Checkpoint(transformer=transformer,\n",
        "                           optimizer=optimizer)\n",
        "\n",
        "ckpt_manager = tf.train.CheckpointManager(ckpt, checkpoint_path, max_to_keep=5)\n",
        "\n",
        "# if a checkpoint exists, restore the latest checkpoint.\n",
        "if ckpt_manager.latest_checkpoint:\n",
        "  ckpt.restore(ckpt_manager.latest_checkpoint)\n",
        "  print ('Latest checkpoint restored!!')"
      ],
      "execution_count": 62,
      "outputs": []
    },
    {
      "cell_type": "markdown",
      "metadata": {
        "id": "0Di_Yaa1gf9r"
      },
      "source": [
        "The target is divided into tar_inp and tar_real. tar_inp is passed as an input to the decoder. `tar_real` is that same input shifted by 1: At each location in `tar_input`, `tar_real` contains the  next token that should be predicted.\n",
        "\n",
        "For example, `sentence` = \"SOS A lion in the jungle is sleeping EOS\"\n",
        "\n",
        "`tar_inp` =  \"SOS A lion in the jungle is sleeping\"\n",
        "\n",
        "`tar_real` = \"A lion in the jungle is sleeping EOS\"\n",
        "\n",
        "The transformer is an auto-regressive model: it makes predictions one part at a time, and uses its output so far to decide what to do next. \n",
        "\n",
        "During training this example uses teacher-forcing (like in the [text generation tutorial](./text_generation.ipynb)). Teacher forcing is passing the true output to the next time step regardless of what the model predicts at the current time step.\n",
        "\n",
        "As the transformer predicts each word, *self-attention* allows it to look at the previous words in the input sequence to better predict the next word.\n",
        "\n",
        "To prevent the model from peeking at the expected output the model uses a look-ahead mask."
      ]
    },
    {
      "cell_type": "code",
      "metadata": {
        "id": "LKpoA6q1sJFj"
      },
      "source": [
        "EPOCHS = 20"
      ],
      "execution_count": 63,
      "outputs": []
    },
    {
      "cell_type": "code",
      "metadata": {
        "id": "iJwmp9OE29oj"
      },
      "source": [
        "# The @tf.function trace-compiles train_step into a TF graph for faster\n",
        "# execution. The function specializes to the precise shape of the argument\n",
        "# tensors. To avoid re-tracing due to the variable sequence lengths or variable\n",
        "# batch sizes (the last batch is smaller), use input_signature to specify\n",
        "# more generic shapes.\n",
        "\n",
        "train_step_signature = [\n",
        "    tf.TensorSpec(shape=(None, None), dtype=tf.int64),\n",
        "    tf.TensorSpec(shape=(None, None), dtype=tf.int64),\n",
        "]\n",
        "\n",
        "@tf.function(input_signature=train_step_signature)\n",
        "def train_step(inp, tar):\n",
        "  tar_inp = tar[:, :-1]\n",
        "  tar_real = tar[:, 1:]\n",
        "  \n",
        "  enc_padding_mask, combined_mask, dec_padding_mask = create_masks(inp, tar_inp)\n",
        "  \n",
        "  with tf.GradientTape() as tape:\n",
        "    predictions, _ = transformer(inp, tar_inp, \n",
        "                                 True, \n",
        "                                 enc_padding_mask, \n",
        "                                 combined_mask, \n",
        "                                 dec_padding_mask)\n",
        "    loss = loss_function(tar_real, predictions)\n",
        "\n",
        "  gradients = tape.gradient(loss, transformer.trainable_variables)    \n",
        "  optimizer.apply_gradients(zip(gradients, transformer.trainable_variables))\n",
        "  \n",
        "  train_loss(loss)\n",
        "  train_accuracy(accuracy_function(tar_real, predictions))"
      ],
      "execution_count": 64,
      "outputs": []
    },
    {
      "cell_type": "markdown",
      "metadata": {
        "id": "qM2PDWGDJ_8V"
      },
      "source": [
        "Portuguese is used as the input language and English is the target language."
      ]
    },
    {
      "cell_type": "code",
      "metadata": {
        "colab": {
          "base_uri": "https://localhost:8080/"
        },
        "id": "tLlZNDOkMtsY",
        "outputId": "2de4882e-e848-454f-9cb0-09b69094a054"
      },
      "source": [
        "for (batch, (inp, tar)) in enumerate(train_batches):\n",
        "  print(f'inp.shape={inp.shape}')\n",
        "  print(f'tar.shape={tar.shape}')\n",
        "  print(inp)\n",
        "  break"
      ],
      "execution_count": 65,
      "outputs": [
        {
          "output_type": "stream",
          "text": [
            "inp.shape=(64, 83)\n",
            "tar.shape=(64, 85)\n",
            "tf.Tensor(\n",
            "[[  2  44  86 ...   0   0   0]\n",
            " [  2  54 261 ...   0   0   0]\n",
            " [  2 191 122 ...   0   0   0]\n",
            " ...\n",
            " [  2 280  48 ...   0   0   0]\n",
            " [  2 239 114 ...   0   0   0]\n",
            " [  2  54  84 ...   0   0   0]], shape=(64, 83), dtype=int64)\n"
          ],
          "name": "stdout"
        }
      ]
    },
    {
      "cell_type": "code",
      "metadata": {
        "id": "bbvmaKNiznHZ",
        "colab": {
          "base_uri": "https://localhost:8080/"
        },
        "outputId": "1f6ff8df-a0e3-4470-a0f3-80a49ebca3e5"
      },
      "source": [
        "for epoch in range(EPOCHS):\n",
        "  start = time.time()\n",
        "  \n",
        "  train_loss.reset_states()\n",
        "  train_accuracy.reset_states()\n",
        "  \n",
        "  # inp -> portuguese, tar -> english\n",
        "  for (batch, (inp, tar)) in enumerate(train_batches):\n",
        "    train_step(inp, tar)\n",
        "    \n",
        "    if batch % 50 == 0:\n",
        "      print(f'Epoch {epoch + 1} Batch {batch} Loss {train_loss.result():.4f} Accuracy {train_accuracy.result():.4f}')\n",
        "      \n",
        "  if (epoch + 1) % 5 == 0:\n",
        "    ckpt_save_path = ckpt_manager.save()\n",
        "    print (f'Saving checkpoint for epoch {epoch+1} at {ckpt_save_path}')\n",
        "    \n",
        "  print(f'Epoch {epoch + 1} Loss {train_loss.result():.4f} Accuracy {train_accuracy.result():.4f}')\n",
        "\n",
        "  print(f'Time taken for 1 epoch: {time.time() - start:.2f} secs\\n')"
      ],
      "execution_count": 66,
      "outputs": [
        {
          "output_type": "stream",
          "text": [
            "Epoch 1 Batch 0 Loss 8.8766 Accuracy 0.0000\n",
            "Epoch 1 Batch 50 Loss 8.8225 Accuracy 0.0008\n",
            "Epoch 1 Batch 100 Loss 8.7249 Accuracy 0.0220\n",
            "Epoch 1 Batch 150 Loss 8.6138 Accuracy 0.0309\n",
            "Epoch 1 Batch 200 Loss 8.4743 Accuracy 0.0367\n",
            "Epoch 1 Batch 250 Loss 8.3053 Accuracy 0.0422\n",
            "Epoch 1 Batch 300 Loss 8.1140 Accuracy 0.0481\n",
            "Epoch 1 Batch 350 Loss 7.9155 Accuracy 0.0569\n",
            "Epoch 1 Batch 400 Loss 7.7247 Accuracy 0.0649\n",
            "Epoch 1 Batch 450 Loss 7.5525 Accuracy 0.0724\n",
            "Epoch 1 Batch 500 Loss 7.4014 Accuracy 0.0796\n",
            "Epoch 1 Batch 550 Loss 7.2624 Accuracy 0.0872\n",
            "Epoch 1 Batch 600 Loss 7.1340 Accuracy 0.0946\n",
            "Epoch 1 Batch 650 Loss 7.0160 Accuracy 0.1016\n",
            "Epoch 1 Batch 700 Loss 6.9055 Accuracy 0.1083\n",
            "Epoch 1 Batch 750 Loss 6.8038 Accuracy 0.1144\n",
            "Epoch 1 Batch 800 Loss 6.7087 Accuracy 0.1203\n",
            "Epoch 1 Loss 6.6934 Accuracy 0.1213\n",
            "Time taken for 1 epoch: 104.13 secs\n",
            "\n",
            "Epoch 2 Batch 0 Loss 5.3672 Accuracy 0.1939\n",
            "Epoch 2 Batch 50 Loss 5.2152 Accuracy 0.2126\n",
            "Epoch 2 Batch 100 Loss 5.1925 Accuracy 0.2141\n",
            "Epoch 2 Batch 150 Loss 5.1569 Accuracy 0.2189\n",
            "Epoch 2 Batch 200 Loss 5.1324 Accuracy 0.2216\n",
            "Epoch 2 Batch 250 Loss 5.1081 Accuracy 0.2242\n",
            "Epoch 2 Batch 300 Loss 5.0827 Accuracy 0.2270\n",
            "Epoch 2 Batch 350 Loss 5.0583 Accuracy 0.2295\n",
            "Epoch 2 Batch 400 Loss 5.0390 Accuracy 0.2313\n",
            "Epoch 2 Batch 450 Loss 5.0178 Accuracy 0.2334\n",
            "Epoch 2 Batch 500 Loss 4.9944 Accuracy 0.2358\n",
            "Epoch 2 Batch 550 Loss 4.9755 Accuracy 0.2378\n",
            "Epoch 2 Batch 600 Loss 4.9565 Accuracy 0.2396\n",
            "Epoch 2 Batch 650 Loss 4.9413 Accuracy 0.2409\n",
            "Epoch 2 Batch 700 Loss 4.9262 Accuracy 0.2424\n",
            "Epoch 2 Batch 750 Loss 4.9104 Accuracy 0.2438\n",
            "Epoch 2 Batch 800 Loss 4.8944 Accuracy 0.2452\n",
            "Epoch 2 Loss 4.8908 Accuracy 0.2456\n",
            "Time taken for 1 epoch: 90.82 secs\n",
            "\n",
            "Epoch 3 Batch 0 Loss 4.6196 Accuracy 0.2564\n",
            "Epoch 3 Batch 50 Loss 4.5879 Accuracy 0.2707\n",
            "Epoch 3 Batch 100 Loss 4.5926 Accuracy 0.2693\n",
            "Epoch 3 Batch 150 Loss 4.5706 Accuracy 0.2726\n",
            "Epoch 3 Batch 200 Loss 4.5586 Accuracy 0.2747\n",
            "Epoch 3 Batch 250 Loss 4.5392 Accuracy 0.2767\n",
            "Epoch 3 Batch 300 Loss 4.5229 Accuracy 0.2787\n",
            "Epoch 3 Batch 350 Loss 4.5069 Accuracy 0.2807\n",
            "Epoch 3 Batch 400 Loss 4.4894 Accuracy 0.2829\n",
            "Epoch 3 Batch 450 Loss 4.4737 Accuracy 0.2850\n",
            "Epoch 3 Batch 500 Loss 4.4576 Accuracy 0.2871\n",
            "Epoch 3 Batch 550 Loss 4.4418 Accuracy 0.2891\n",
            "Epoch 3 Batch 600 Loss 4.4246 Accuracy 0.2913\n",
            "Epoch 3 Batch 650 Loss 4.4085 Accuracy 0.2933\n",
            "Epoch 3 Batch 700 Loss 4.3894 Accuracy 0.2956\n",
            "Epoch 3 Batch 750 Loss 4.3717 Accuracy 0.2978\n",
            "Epoch 3 Batch 800 Loss 4.3541 Accuracy 0.3000\n",
            "Epoch 3 Loss 4.3509 Accuracy 0.3004\n",
            "Time taken for 1 epoch: 90.91 secs\n",
            "\n",
            "Epoch 4 Batch 0 Loss 4.1341 Accuracy 0.3215\n",
            "Epoch 4 Batch 50 Loss 4.0152 Accuracy 0.3375\n",
            "Epoch 4 Batch 100 Loss 4.0013 Accuracy 0.3393\n",
            "Epoch 4 Batch 150 Loss 3.9867 Accuracy 0.3426\n",
            "Epoch 4 Batch 200 Loss 3.9717 Accuracy 0.3449\n",
            "Epoch 4 Batch 250 Loss 3.9526 Accuracy 0.3466\n",
            "Epoch 4 Batch 300 Loss 3.9357 Accuracy 0.3491\n",
            "Epoch 4 Batch 350 Loss 3.9182 Accuracy 0.3516\n",
            "Epoch 4 Batch 400 Loss 3.9031 Accuracy 0.3537\n",
            "Epoch 4 Batch 450 Loss 3.8849 Accuracy 0.3561\n",
            "Epoch 4 Batch 500 Loss 3.8695 Accuracy 0.3582\n",
            "Epoch 4 Batch 550 Loss 3.8570 Accuracy 0.3597\n",
            "Epoch 4 Batch 600 Loss 3.8411 Accuracy 0.3619\n",
            "Epoch 4 Batch 650 Loss 3.8286 Accuracy 0.3634\n",
            "Epoch 4 Batch 700 Loss 3.8176 Accuracy 0.3648\n",
            "Epoch 4 Batch 750 Loss 3.8049 Accuracy 0.3665\n",
            "Epoch 4 Batch 800 Loss 3.7907 Accuracy 0.3683\n",
            "Epoch 4 Loss 3.7876 Accuracy 0.3686\n",
            "Time taken for 1 epoch: 91.04 secs\n",
            "\n",
            "Epoch 5 Batch 0 Loss 3.8550 Accuracy 0.3663\n",
            "Epoch 5 Batch 50 Loss 3.4803 Accuracy 0.4043\n",
            "Epoch 5 Batch 100 Loss 3.4566 Accuracy 0.4081\n",
            "Epoch 5 Batch 150 Loss 3.4542 Accuracy 0.4086\n",
            "Epoch 5 Batch 200 Loss 3.4527 Accuracy 0.4087\n",
            "Epoch 5 Batch 250 Loss 3.4494 Accuracy 0.4085\n",
            "Epoch 5 Batch 300 Loss 3.4369 Accuracy 0.4103\n",
            "Epoch 5 Batch 350 Loss 3.4199 Accuracy 0.4128\n",
            "Epoch 5 Batch 400 Loss 3.4093 Accuracy 0.4139\n",
            "Epoch 5 Batch 450 Loss 3.4013 Accuracy 0.4151\n",
            "Epoch 5 Batch 500 Loss 3.3926 Accuracy 0.4162\n",
            "Epoch 5 Batch 550 Loss 3.3830 Accuracy 0.4174\n",
            "Epoch 5 Batch 600 Loss 3.3776 Accuracy 0.4179\n",
            "Epoch 5 Batch 650 Loss 3.3700 Accuracy 0.4190\n",
            "Epoch 5 Batch 700 Loss 3.3616 Accuracy 0.4200\n",
            "Epoch 5 Batch 750 Loss 3.3512 Accuracy 0.4213\n",
            "Epoch 5 Batch 800 Loss 3.3435 Accuracy 0.4223\n",
            "Saving checkpoint for epoch 5 at drive/MyDrive/models/transformer_port_eng_orig/ckpt-1\n",
            "Epoch 5 Loss 3.3434 Accuracy 0.4224\n",
            "Time taken for 1 epoch: 91.22 secs\n",
            "\n",
            "Epoch 6 Batch 0 Loss 3.0948 Accuracy 0.4341\n",
            "Epoch 6 Batch 50 Loss 3.0685 Accuracy 0.4517\n",
            "Epoch 6 Batch 100 Loss 3.0716 Accuracy 0.4523\n",
            "Epoch 6 Batch 150 Loss 3.0698 Accuracy 0.4529\n",
            "Epoch 6 Batch 200 Loss 3.0576 Accuracy 0.4545\n",
            "Epoch 6 Batch 250 Loss 3.0465 Accuracy 0.4566\n",
            "Epoch 6 Batch 300 Loss 3.0419 Accuracy 0.4569\n",
            "Epoch 6 Batch 350 Loss 3.0369 Accuracy 0.4580\n",
            "Epoch 6 Batch 400 Loss 3.0259 Accuracy 0.4592\n",
            "Epoch 6 Batch 450 Loss 3.0139 Accuracy 0.4613\n",
            "Epoch 6 Batch 500 Loss 3.0043 Accuracy 0.4626\n",
            "Epoch 6 Batch 550 Loss 2.9940 Accuracy 0.4641\n",
            "Epoch 6 Batch 600 Loss 2.9855 Accuracy 0.4653\n",
            "Epoch 6 Batch 650 Loss 2.9781 Accuracy 0.4663\n",
            "Epoch 6 Batch 700 Loss 2.9671 Accuracy 0.4678\n",
            "Epoch 6 Batch 750 Loss 2.9587 Accuracy 0.4690\n",
            "Epoch 6 Batch 800 Loss 2.9524 Accuracy 0.4700\n",
            "Epoch 6 Loss 2.9506 Accuracy 0.4702\n",
            "Time taken for 1 epoch: 91.08 secs\n",
            "\n",
            "Epoch 7 Batch 0 Loss 2.6505 Accuracy 0.4976\n",
            "Epoch 7 Batch 50 Loss 2.6478 Accuracy 0.5101\n",
            "Epoch 7 Batch 100 Loss 2.6500 Accuracy 0.5076\n",
            "Epoch 7 Batch 150 Loss 2.6479 Accuracy 0.5072\n",
            "Epoch 7 Batch 200 Loss 2.6508 Accuracy 0.5071\n",
            "Epoch 7 Batch 250 Loss 2.6541 Accuracy 0.5064\n",
            "Epoch 7 Batch 300 Loss 2.6482 Accuracy 0.5074\n",
            "Epoch 7 Batch 350 Loss 2.6503 Accuracy 0.5077\n",
            "Epoch 7 Batch 400 Loss 2.6472 Accuracy 0.5079\n",
            "Epoch 7 Batch 450 Loss 2.6440 Accuracy 0.5083\n",
            "Epoch 7 Batch 500 Loss 2.6399 Accuracy 0.5091\n",
            "Epoch 7 Batch 550 Loss 2.6373 Accuracy 0.5094\n",
            "Epoch 7 Batch 600 Loss 2.6323 Accuracy 0.5102\n",
            "Epoch 7 Batch 650 Loss 2.6277 Accuracy 0.5110\n",
            "Epoch 7 Batch 700 Loss 2.6210 Accuracy 0.5121\n",
            "Epoch 7 Batch 750 Loss 2.6167 Accuracy 0.5129\n",
            "Epoch 7 Batch 800 Loss 2.6154 Accuracy 0.5131\n",
            "Epoch 7 Loss 2.6151 Accuracy 0.5132\n",
            "Time taken for 1 epoch: 90.53 secs\n",
            "\n",
            "Epoch 8 Batch 0 Loss 2.5308 Accuracy 0.5267\n",
            "Epoch 8 Batch 50 Loss 2.3975 Accuracy 0.5398\n",
            "Epoch 8 Batch 100 Loss 2.3999 Accuracy 0.5401\n",
            "Epoch 8 Batch 150 Loss 2.3971 Accuracy 0.5414\n",
            "Epoch 8 Batch 200 Loss 2.3940 Accuracy 0.5419\n",
            "Epoch 8 Batch 250 Loss 2.3905 Accuracy 0.5425\n",
            "Epoch 8 Batch 300 Loss 2.3971 Accuracy 0.5414\n",
            "Epoch 8 Batch 350 Loss 2.3924 Accuracy 0.5421\n",
            "Epoch 8 Batch 400 Loss 2.3948 Accuracy 0.5416\n",
            "Epoch 8 Batch 450 Loss 2.3938 Accuracy 0.5418\n",
            "Epoch 8 Batch 500 Loss 2.3934 Accuracy 0.5422\n",
            "Epoch 8 Batch 550 Loss 2.3894 Accuracy 0.5428\n",
            "Epoch 8 Batch 600 Loss 2.3860 Accuracy 0.5434\n",
            "Epoch 8 Batch 650 Loss 2.3839 Accuracy 0.5438\n",
            "Epoch 8 Batch 700 Loss 2.3827 Accuracy 0.5441\n",
            "Epoch 8 Batch 750 Loss 2.3824 Accuracy 0.5443\n",
            "Epoch 8 Batch 800 Loss 2.3832 Accuracy 0.5442\n",
            "Epoch 8 Loss 2.3826 Accuracy 0.5444\n",
            "Time taken for 1 epoch: 91.06 secs\n",
            "\n",
            "Epoch 9 Batch 0 Loss 2.2660 Accuracy 0.5564\n",
            "Epoch 9 Batch 50 Loss 2.1992 Accuracy 0.5686\n",
            "Epoch 9 Batch 100 Loss 2.1899 Accuracy 0.5698\n",
            "Epoch 9 Batch 150 Loss 2.2024 Accuracy 0.5685\n",
            "Epoch 9 Batch 200 Loss 2.2057 Accuracy 0.5679\n",
            "Epoch 9 Batch 250 Loss 2.2083 Accuracy 0.5673\n",
            "Epoch 9 Batch 300 Loss 2.2076 Accuracy 0.5673\n",
            "Epoch 9 Batch 350 Loss 2.2092 Accuracy 0.5673\n",
            "Epoch 9 Batch 400 Loss 2.2082 Accuracy 0.5672\n",
            "Epoch 9 Batch 450 Loss 2.2086 Accuracy 0.5671\n",
            "Epoch 9 Batch 500 Loss 2.2092 Accuracy 0.5672\n",
            "Epoch 9 Batch 550 Loss 2.2064 Accuracy 0.5679\n",
            "Epoch 9 Batch 600 Loss 2.2073 Accuracy 0.5678\n",
            "Epoch 9 Batch 650 Loss 2.2046 Accuracy 0.5683\n",
            "Epoch 9 Batch 700 Loss 2.2039 Accuracy 0.5685\n",
            "Epoch 9 Batch 750 Loss 2.2031 Accuracy 0.5688\n",
            "Epoch 9 Batch 800 Loss 2.2052 Accuracy 0.5685\n",
            "Epoch 9 Loss 2.2054 Accuracy 0.5685\n",
            "Time taken for 1 epoch: 90.36 secs\n",
            "\n",
            "Epoch 10 Batch 0 Loss 2.2240 Accuracy 0.5570\n",
            "Epoch 10 Batch 50 Loss 2.0867 Accuracy 0.5846\n",
            "Epoch 10 Batch 100 Loss 2.0793 Accuracy 0.5852\n",
            "Epoch 10 Batch 150 Loss 2.0729 Accuracy 0.5861\n",
            "Epoch 10 Batch 200 Loss 2.0688 Accuracy 0.5869\n",
            "Epoch 10 Batch 250 Loss 2.0751 Accuracy 0.5859\n",
            "Epoch 10 Batch 300 Loss 2.0675 Accuracy 0.5874\n",
            "Epoch 10 Batch 350 Loss 2.0653 Accuracy 0.5878\n",
            "Epoch 10 Batch 400 Loss 2.0676 Accuracy 0.5876\n",
            "Epoch 10 Batch 450 Loss 2.0697 Accuracy 0.5871\n",
            "Epoch 10 Batch 500 Loss 2.0705 Accuracy 0.5872\n",
            "Epoch 10 Batch 550 Loss 2.0706 Accuracy 0.5871\n",
            "Epoch 10 Batch 600 Loss 2.0686 Accuracy 0.5874\n",
            "Epoch 10 Batch 650 Loss 2.0671 Accuracy 0.5878\n",
            "Epoch 10 Batch 700 Loss 2.0691 Accuracy 0.5875\n",
            "Epoch 10 Batch 750 Loss 2.0674 Accuracy 0.5878\n",
            "Epoch 10 Batch 800 Loss 2.0667 Accuracy 0.5881\n",
            "Saving checkpoint for epoch 10 at drive/MyDrive/models/transformer_port_eng_orig/ckpt-2\n",
            "Epoch 10 Loss 2.0666 Accuracy 0.5882\n",
            "Time taken for 1 epoch: 90.81 secs\n",
            "\n",
            "Epoch 11 Batch 0 Loss 2.1589 Accuracy 0.5756\n",
            "Epoch 11 Batch 50 Loss 1.9503 Accuracy 0.6023\n",
            "Epoch 11 Batch 100 Loss 1.9625 Accuracy 0.6007\n",
            "Epoch 11 Batch 150 Loss 1.9564 Accuracy 0.6023\n",
            "Epoch 11 Batch 200 Loss 1.9507 Accuracy 0.6032\n",
            "Epoch 11 Batch 250 Loss 1.9467 Accuracy 0.6038\n",
            "Epoch 11 Batch 300 Loss 1.9468 Accuracy 0.6042\n",
            "Epoch 11 Batch 350 Loss 1.9426 Accuracy 0.6050\n",
            "Epoch 11 Batch 400 Loss 1.9457 Accuracy 0.6045\n",
            "Epoch 11 Batch 450 Loss 1.9485 Accuracy 0.6042\n",
            "Epoch 11 Batch 500 Loss 1.9479 Accuracy 0.6045\n",
            "Epoch 11 Batch 550 Loss 1.9487 Accuracy 0.6045\n",
            "Epoch 11 Batch 600 Loss 1.9515 Accuracy 0.6040\n",
            "Epoch 11 Batch 650 Loss 1.9511 Accuracy 0.6040\n",
            "Epoch 11 Batch 700 Loss 1.9530 Accuracy 0.6040\n",
            "Epoch 11 Batch 750 Loss 1.9532 Accuracy 0.6041\n",
            "Epoch 11 Batch 800 Loss 1.9549 Accuracy 0.6040\n",
            "Epoch 11 Loss 1.9551 Accuracy 0.6040\n",
            "Time taken for 1 epoch: 90.71 secs\n",
            "\n",
            "Epoch 12 Batch 0 Loss 1.8319 Accuracy 0.6219\n",
            "Epoch 12 Batch 50 Loss 1.8221 Accuracy 0.6230\n",
            "Epoch 12 Batch 100 Loss 1.8310 Accuracy 0.6207\n",
            "Epoch 12 Batch 150 Loss 1.8411 Accuracy 0.6195\n",
            "Epoch 12 Batch 200 Loss 1.8394 Accuracy 0.6202\n",
            "Epoch 12 Batch 250 Loss 1.8422 Accuracy 0.6199\n",
            "Epoch 12 Batch 300 Loss 1.8401 Accuracy 0.6202\n",
            "Epoch 12 Batch 350 Loss 1.8436 Accuracy 0.6195\n",
            "Epoch 12 Batch 400 Loss 1.8458 Accuracy 0.6193\n",
            "Epoch 12 Batch 450 Loss 1.8463 Accuracy 0.6193\n",
            "Epoch 12 Batch 500 Loss 1.8480 Accuracy 0.6190\n",
            "Epoch 12 Batch 550 Loss 1.8504 Accuracy 0.6186\n",
            "Epoch 12 Batch 600 Loss 1.8528 Accuracy 0.6182\n",
            "Epoch 12 Batch 650 Loss 1.8558 Accuracy 0.6179\n",
            "Epoch 12 Batch 700 Loss 1.8593 Accuracy 0.6175\n",
            "Epoch 12 Batch 750 Loss 1.8618 Accuracy 0.6172\n",
            "Epoch 12 Batch 800 Loss 1.8630 Accuracy 0.6172\n",
            "Epoch 12 Loss 1.8633 Accuracy 0.6171\n",
            "Time taken for 1 epoch: 90.53 secs\n",
            "\n",
            "Epoch 13 Batch 0 Loss 1.6605 Accuracy 0.6534\n",
            "Epoch 13 Batch 50 Loss 1.7418 Accuracy 0.6345\n",
            "Epoch 13 Batch 100 Loss 1.7426 Accuracy 0.6352\n",
            "Epoch 13 Batch 150 Loss 1.7459 Accuracy 0.6347\n",
            "Epoch 13 Batch 200 Loss 1.7528 Accuracy 0.6328\n",
            "Epoch 13 Batch 250 Loss 1.7600 Accuracy 0.6319\n",
            "Epoch 13 Batch 300 Loss 1.7634 Accuracy 0.6313\n",
            "Epoch 13 Batch 350 Loss 1.7642 Accuracy 0.6315\n",
            "Epoch 13 Batch 400 Loss 1.7665 Accuracy 0.6313\n",
            "Epoch 13 Batch 450 Loss 1.7678 Accuracy 0.6312\n",
            "Epoch 13 Batch 500 Loss 1.7701 Accuracy 0.6307\n",
            "Epoch 13 Batch 550 Loss 1.7705 Accuracy 0.6309\n",
            "Epoch 13 Batch 600 Loss 1.7739 Accuracy 0.6304\n",
            "Epoch 13 Batch 650 Loss 1.7751 Accuracy 0.6302\n",
            "Epoch 13 Batch 700 Loss 1.7790 Accuracy 0.6296\n",
            "Epoch 13 Batch 750 Loss 1.7819 Accuracy 0.6293\n",
            "Epoch 13 Batch 800 Loss 1.7838 Accuracy 0.6291\n",
            "Epoch 13 Loss 1.7843 Accuracy 0.6290\n",
            "Time taken for 1 epoch: 90.67 secs\n",
            "\n",
            "Epoch 14 Batch 0 Loss 1.6210 Accuracy 0.6607\n",
            "Epoch 14 Batch 50 Loss 1.6979 Accuracy 0.6400\n",
            "Epoch 14 Batch 100 Loss 1.6773 Accuracy 0.6450\n",
            "Epoch 14 Batch 150 Loss 1.6787 Accuracy 0.6447\n",
            "Epoch 14 Batch 200 Loss 1.6861 Accuracy 0.6438\n",
            "Epoch 14 Batch 250 Loss 1.6894 Accuracy 0.6434\n",
            "Epoch 14 Batch 300 Loss 1.6882 Accuracy 0.6436\n",
            "Epoch 14 Batch 350 Loss 1.6909 Accuracy 0.6433\n",
            "Epoch 14 Batch 400 Loss 1.6948 Accuracy 0.6427\n",
            "Epoch 14 Batch 450 Loss 1.6996 Accuracy 0.6418\n",
            "Epoch 14 Batch 500 Loss 1.7021 Accuracy 0.6413\n",
            "Epoch 14 Batch 550 Loss 1.7031 Accuracy 0.6412\n",
            "Epoch 14 Batch 600 Loss 1.7050 Accuracy 0.6409\n",
            "Epoch 14 Batch 650 Loss 1.7055 Accuracy 0.6409\n",
            "Epoch 14 Batch 700 Loss 1.7069 Accuracy 0.6406\n",
            "Epoch 14 Batch 750 Loss 1.7101 Accuracy 0.6402\n",
            "Epoch 14 Batch 800 Loss 1.7135 Accuracy 0.6397\n",
            "Epoch 14 Loss 1.7133 Accuracy 0.6398\n",
            "Time taken for 1 epoch: 90.62 secs\n",
            "\n",
            "Epoch 15 Batch 0 Loss 1.6034 Accuracy 0.6659\n",
            "Epoch 15 Batch 50 Loss 1.6032 Accuracy 0.6562\n",
            "Epoch 15 Batch 100 Loss 1.6087 Accuracy 0.6555\n",
            "Epoch 15 Batch 150 Loss 1.6259 Accuracy 0.6520\n",
            "Epoch 15 Batch 200 Loss 1.6280 Accuracy 0.6517\n",
            "Epoch 15 Batch 250 Loss 1.6341 Accuracy 0.6508\n",
            "Epoch 15 Batch 300 Loss 1.6365 Accuracy 0.6507\n",
            "Epoch 15 Batch 350 Loss 1.6410 Accuracy 0.6498\n",
            "Epoch 15 Batch 400 Loss 1.6396 Accuracy 0.6501\n",
            "Epoch 15 Batch 450 Loss 1.6393 Accuracy 0.6500\n",
            "Epoch 15 Batch 500 Loss 1.6423 Accuracy 0.6496\n",
            "Epoch 15 Batch 550 Loss 1.6417 Accuracy 0.6497\n",
            "Epoch 15 Batch 600 Loss 1.6451 Accuracy 0.6493\n",
            "Epoch 15 Batch 650 Loss 1.6477 Accuracy 0.6490\n",
            "Epoch 15 Batch 700 Loss 1.6495 Accuracy 0.6489\n",
            "Epoch 15 Batch 750 Loss 1.6526 Accuracy 0.6485\n",
            "Epoch 15 Batch 800 Loss 1.6535 Accuracy 0.6485\n",
            "Saving checkpoint for epoch 15 at drive/MyDrive/models/transformer_port_eng_orig/ckpt-3\n",
            "Epoch 15 Loss 1.6544 Accuracy 0.6484\n",
            "Time taken for 1 epoch: 90.77 secs\n",
            "\n",
            "Epoch 16 Batch 0 Loss 1.6684 Accuracy 0.6510\n",
            "Epoch 16 Batch 50 Loss 1.5692 Accuracy 0.6607\n",
            "Epoch 16 Batch 100 Loss 1.5690 Accuracy 0.6620\n",
            "Epoch 16 Batch 150 Loss 1.5656 Accuracy 0.6629\n",
            "Epoch 16 Batch 200 Loss 1.5694 Accuracy 0.6625\n",
            "Epoch 16 Batch 250 Loss 1.5709 Accuracy 0.6622\n",
            "Epoch 16 Batch 300 Loss 1.5718 Accuracy 0.6622\n",
            "Epoch 16 Batch 350 Loss 1.5782 Accuracy 0.6611\n",
            "Epoch 16 Batch 400 Loss 1.5798 Accuracy 0.6602\n",
            "Epoch 16 Batch 450 Loss 1.5819 Accuracy 0.6598\n",
            "Epoch 16 Batch 500 Loss 1.5830 Accuracy 0.6595\n",
            "Epoch 16 Batch 550 Loss 1.5840 Accuracy 0.6594\n",
            "Epoch 16 Batch 600 Loss 1.5888 Accuracy 0.6586\n",
            "Epoch 16 Batch 650 Loss 1.5928 Accuracy 0.6581\n",
            "Epoch 16 Batch 700 Loss 1.5953 Accuracy 0.6577\n",
            "Epoch 16 Batch 750 Loss 1.5982 Accuracy 0.6573\n",
            "Epoch 16 Batch 800 Loss 1.6015 Accuracy 0.6568\n",
            "Epoch 16 Loss 1.6024 Accuracy 0.6566\n",
            "Time taken for 1 epoch: 91.13 secs\n",
            "\n",
            "Epoch 17 Batch 0 Loss 1.5568 Accuracy 0.6742\n",
            "Epoch 17 Batch 50 Loss 1.5033 Accuracy 0.6727\n",
            "Epoch 17 Batch 100 Loss 1.5018 Accuracy 0.6729\n",
            "Epoch 17 Batch 150 Loss 1.5094 Accuracy 0.6715\n",
            "Epoch 17 Batch 200 Loss 1.5163 Accuracy 0.6707\n",
            "Epoch 17 Batch 250 Loss 1.5173 Accuracy 0.6705\n",
            "Epoch 17 Batch 300 Loss 1.5204 Accuracy 0.6694\n",
            "Epoch 17 Batch 350 Loss 1.5273 Accuracy 0.6683\n",
            "Epoch 17 Batch 400 Loss 1.5305 Accuracy 0.6678\n",
            "Epoch 17 Batch 450 Loss 1.5304 Accuracy 0.6677\n",
            "Epoch 17 Batch 500 Loss 1.5316 Accuracy 0.6672\n",
            "Epoch 17 Batch 550 Loss 1.5341 Accuracy 0.6668\n",
            "Epoch 17 Batch 600 Loss 1.5358 Accuracy 0.6666\n",
            "Epoch 17 Batch 650 Loss 1.5417 Accuracy 0.6656\n",
            "Epoch 17 Batch 700 Loss 1.5451 Accuracy 0.6652\n",
            "Epoch 17 Batch 750 Loss 1.5482 Accuracy 0.6646\n",
            "Epoch 17 Batch 800 Loss 1.5511 Accuracy 0.6643\n",
            "Epoch 17 Loss 1.5519 Accuracy 0.6641\n",
            "Time taken for 1 epoch: 90.28 secs\n",
            "\n",
            "Epoch 18 Batch 0 Loss 1.5112 Accuracy 0.6721\n",
            "Epoch 18 Batch 50 Loss 1.4701 Accuracy 0.6774\n",
            "Epoch 18 Batch 100 Loss 1.4749 Accuracy 0.6766\n",
            "Epoch 18 Batch 150 Loss 1.4737 Accuracy 0.6771\n",
            "Epoch 18 Batch 200 Loss 1.4792 Accuracy 0.6756\n",
            "Epoch 18 Batch 250 Loss 1.4831 Accuracy 0.6747\n",
            "Epoch 18 Batch 300 Loss 1.4807 Accuracy 0.6753\n",
            "Epoch 18 Batch 350 Loss 1.4833 Accuracy 0.6751\n",
            "Epoch 18 Batch 400 Loss 1.4870 Accuracy 0.6744\n",
            "Epoch 18 Batch 450 Loss 1.4896 Accuracy 0.6740\n",
            "Epoch 18 Batch 500 Loss 1.4907 Accuracy 0.6737\n",
            "Epoch 18 Batch 550 Loss 1.4946 Accuracy 0.6731\n",
            "Epoch 18 Batch 600 Loss 1.4973 Accuracy 0.6725\n",
            "Epoch 18 Batch 650 Loss 1.5004 Accuracy 0.6720\n",
            "Epoch 18 Batch 700 Loss 1.5038 Accuracy 0.6714\n",
            "Epoch 18 Batch 750 Loss 1.5062 Accuracy 0.6711\n",
            "Epoch 18 Batch 800 Loss 1.5093 Accuracy 0.6707\n",
            "Epoch 18 Loss 1.5095 Accuracy 0.6706\n",
            "Time taken for 1 epoch: 90.79 secs\n",
            "\n",
            "Epoch 19 Batch 0 Loss 1.3242 Accuracy 0.7056\n",
            "Epoch 19 Batch 50 Loss 1.4110 Accuracy 0.6877\n",
            "Epoch 19 Batch 100 Loss 1.4176 Accuracy 0.6865\n",
            "Epoch 19 Batch 150 Loss 1.4270 Accuracy 0.6846\n",
            "Epoch 19 Batch 200 Loss 1.4312 Accuracy 0.6838\n",
            "Epoch 19 Batch 250 Loss 1.4372 Accuracy 0.6824\n",
            "Epoch 19 Batch 300 Loss 1.4395 Accuracy 0.6819\n",
            "Epoch 19 Batch 350 Loss 1.4444 Accuracy 0.6808\n",
            "Epoch 19 Batch 400 Loss 1.4479 Accuracy 0.6800\n",
            "Epoch 19 Batch 450 Loss 1.4501 Accuracy 0.6798\n",
            "Epoch 19 Batch 500 Loss 1.4495 Accuracy 0.6800\n",
            "Epoch 19 Batch 550 Loss 1.4527 Accuracy 0.6795\n",
            "Epoch 19 Batch 600 Loss 1.4556 Accuracy 0.6791\n",
            "Epoch 19 Batch 650 Loss 1.4586 Accuracy 0.6788\n",
            "Epoch 19 Batch 700 Loss 1.4615 Accuracy 0.6784\n",
            "Epoch 19 Batch 750 Loss 1.4641 Accuracy 0.6781\n",
            "Epoch 19 Batch 800 Loss 1.4673 Accuracy 0.6775\n",
            "Epoch 19 Loss 1.4673 Accuracy 0.6775\n",
            "Time taken for 1 epoch: 90.97 secs\n",
            "\n",
            "Epoch 20 Batch 0 Loss 1.4232 Accuracy 0.6907\n",
            "Epoch 20 Batch 50 Loss 1.3948 Accuracy 0.6895\n",
            "Epoch 20 Batch 100 Loss 1.3832 Accuracy 0.6909\n",
            "Epoch 20 Batch 150 Loss 1.3944 Accuracy 0.6894\n",
            "Epoch 20 Batch 200 Loss 1.3919 Accuracy 0.6898\n",
            "Epoch 20 Batch 250 Loss 1.3956 Accuracy 0.6889\n",
            "Epoch 20 Batch 300 Loss 1.3982 Accuracy 0.6887\n",
            "Epoch 20 Batch 350 Loss 1.4052 Accuracy 0.6874\n",
            "Epoch 20 Batch 400 Loss 1.4091 Accuracy 0.6867\n",
            "Epoch 20 Batch 450 Loss 1.4120 Accuracy 0.6862\n",
            "Epoch 20 Batch 500 Loss 1.4122 Accuracy 0.6862\n",
            "Epoch 20 Batch 550 Loss 1.4164 Accuracy 0.6855\n",
            "Epoch 20 Batch 600 Loss 1.4198 Accuracy 0.6850\n",
            "Epoch 20 Batch 650 Loss 1.4229 Accuracy 0.6843\n",
            "Epoch 20 Batch 700 Loss 1.4253 Accuracy 0.6838\n",
            "Epoch 20 Batch 750 Loss 1.4286 Accuracy 0.6834\n",
            "Epoch 20 Batch 800 Loss 1.4323 Accuracy 0.6830\n",
            "Saving checkpoint for epoch 20 at drive/MyDrive/models/transformer_port_eng_orig/ckpt-4\n",
            "Epoch 20 Loss 1.4330 Accuracy 0.6828\n",
            "Time taken for 1 epoch: 90.62 secs\n",
            "\n"
          ],
          "name": "stdout"
        }
      ]
    },
    {
      "cell_type": "code",
      "metadata": {
        "id": "o7R4bDf5IMEL"
      },
      "source": [
        "# Portugese to English\n",
        "# Epoch 20 Batch 800 Loss 1.1240 Accuracy 0.7345\n",
        "# Saving checkpoint for epoch 20 at drive/MyDrive/models/transformer_port_eng/ckpt-7\n",
        "# Epoch 20 Loss 1.1249 Accuracy 0.7343\n",
        "# Time taken for 1 epoch: 59.58 secs"
      ],
      "execution_count": 67,
      "outputs": []
    },
    {
      "cell_type": "code",
      "metadata": {
        "id": "q-Fl1B4XLWmi"
      },
      "source": [
        "checkpoint = tf.keras.callbacks.ModelCheckpoint(\"drive/MyDrive/models/transformer_port_eng_orig/final_model.h5\", save_weights_only=False)"
      ],
      "execution_count": 68,
      "outputs": []
    },
    {
      "cell_type": "markdown",
      "metadata": {
        "id": "QfcsSWswSdGV"
      },
      "source": [
        "## Evaluate"
      ]
    },
    {
      "cell_type": "markdown",
      "metadata": {
        "id": "y6APsFrgImLW"
      },
      "source": [
        "The following steps are used for evaluation:\n",
        "\n",
        "* Encode the input sentence using the Portuguese tokenizer (`tokenizers.pt`). This is the encoder input.\n",
        "* The decoder input is initialized to the `[START]` token.\n",
        "* Calculate the padding masks and the look ahead masks.\n",
        "* The `decoder` then outputs the predictions by looking at the `encoder output` and its own output (self-attention).\n",
        "* The model makes predictions of the next word for each word in the output. Most of these are redundant. Use the predictrions from the last word.\n",
        "* Concatentate the predicted word to the decoder input and pass it to the decoder.\n",
        "* In this approach, the decoder predicts the next word based on the previous words it predicted.\n",
        "\n",
        "Note: The model used here has less capacity to keep the example relatively faster so the predictions maybe less right. To reproduce the results in the paper, use the entire dataset and base transformer model or transformer XL, by changing the hyperparameters above."
      ]
    },
    {
      "cell_type": "code",
      "metadata": {
        "id": "5buvMlnvyrFm"
      },
      "source": [
        "def evaluate(sentence, max_length=40):\n",
        "  # inp sentence is portuguese, hence adding the start and end token\n",
        "  sentence = tf.convert_to_tensor([sentence])\n",
        "  sentence = tokenizers.pt.tokenize(sentence).to_tensor()\n",
        "\n",
        "  encoder_input = sentence\n",
        "  \n",
        "  # as the target is english, the first word to the transformer should be the\n",
        "  # english start token.\n",
        "  start, end = tokenizers.en.tokenize([''])[0]\n",
        "  output = tf.convert_to_tensor([start])\n",
        "  output = tf.expand_dims(output, 0)\n",
        "    \n",
        "  for i in range(max_length):\n",
        "    enc_padding_mask, combined_mask, dec_padding_mask = create_masks(\n",
        "        encoder_input, output)\n",
        "  \n",
        "    # predictions.shape == (batch_size, seq_len, vocab_size)\n",
        "    predictions, attention_weights = transformer(encoder_input, \n",
        "                                                 output,\n",
        "                                                 False,\n",
        "                                                 enc_padding_mask,\n",
        "                                                 combined_mask,\n",
        "                                                 dec_padding_mask)\n",
        "    \n",
        "    # select the last word from the seq_len dimension\n",
        "    predictions = predictions[: ,-1:, :]  # (batch_size, 1, vocab_size)\n",
        "\n",
        "    predicted_id = tf.argmax(predictions, axis=-1)\n",
        "\n",
        "    # concatentate the predicted_id to the output which is given to the decoder\n",
        "    # as its input.\n",
        "    output = tf.concat([output, predicted_id], axis=-1)\n",
        "    \n",
        "    # return the result if the predicted_id is equal to the end token\n",
        "    if predicted_id == end:\n",
        "      break\n",
        "\n",
        "  # output.shape (1, tokens)\n",
        "  text = tokenizers.en.detokenize(output)[0] # shape: ()\n",
        "  \n",
        "  tokens = tokenizers.en.lookup(output)[0]\n",
        "  \n",
        "  return text, tokens, attention_weights"
      ],
      "execution_count": 69,
      "outputs": []
    },
    {
      "cell_type": "code",
      "metadata": {
        "id": "lU2_yG_vBGza"
      },
      "source": [
        "def print_translation(sentence, tokens, ground_truth):\n",
        "  print(f'{\"Input:\":15s}: {sentence}')\n",
        "  print(f'{\"Prediction\":15s}: {tokens.numpy().decode(\"utf-8\")}')\n",
        "  print(f'{\"Ground truth\":15s}: {ground_truth}')"
      ],
      "execution_count": 70,
      "outputs": []
    },
    {
      "cell_type": "code",
      "metadata": {
        "id": "YsxrAlvFG8SZ",
        "colab": {
          "base_uri": "https://localhost:8080/"
        },
        "outputId": "ae0af2b8-9fee-4467-a084-3754ef838c4c"
      },
      "source": [
        "sentence = \"este é um problema que temos que resolver.\"\n",
        "ground_truth = \"this is a problem we have to solve .\"\n",
        "\n",
        "translated_text, translated_tokens, attention_weights = evaluate(sentence)\n",
        "print_translation(sentence, translated_text, ground_truth)"
      ],
      "execution_count": 71,
      "outputs": [
        {
          "output_type": "stream",
          "text": [
            "Input:         : este é um problema que temos que resolver.\n",
            "Prediction     : this is a problem that we have to solve .\n",
            "Ground truth   : this is a problem we have to solve .\n"
          ],
          "name": "stdout"
        }
      ]
    },
    {
      "cell_type": "code",
      "metadata": {
        "id": "7EH5y_aqI4t1",
        "colab": {
          "base_uri": "https://localhost:8080/"
        },
        "outputId": "706250e3-210a-4ea3-fdb7-7964ceedf66b"
      },
      "source": [
        "sentence = \"os meus vizinhos ouviram sobre esta ideia.\"\n",
        "ground_truth = \"and my neighboring homes heard about this idea .\"\n",
        "\n",
        "translated_text, translated_tokens, attention_weights = evaluate(sentence)\n",
        "print_translation(sentence, translated_text, ground_truth)"
      ],
      "execution_count": 72,
      "outputs": [
        {
          "output_type": "stream",
          "text": [
            "Input:         : os meus vizinhos ouviram sobre esta ideia.\n",
            "Prediction     : my neighbors heard about this idea .\n",
            "Ground truth   : and my neighboring homes heard about this idea .\n"
          ],
          "name": "stdout"
        }
      ]
    },
    {
      "cell_type": "code",
      "metadata": {
        "id": "J-hVCTSUMlkb",
        "colab": {
          "base_uri": "https://localhost:8080/"
        },
        "outputId": "18b350a1-8dcd-4410-d2fe-99ece5dbaf95"
      },
      "source": [
        "sentence = \"vou então muito rapidamente partilhar convosco algumas histórias de algumas coisas mágicas que aconteceram.\"\n",
        "ground_truth = \"so i \\'ll just share with you some stories very quickly of some magical things that have happened .\"\n",
        "\n",
        "translated_text, translated_tokens, attention_weights = evaluate(sentence)\n",
        "print_translation(sentence, translated_text, ground_truth)"
      ],
      "execution_count": 73,
      "outputs": [
        {
          "output_type": "stream",
          "text": [
            "Input:         : vou então muito rapidamente partilhar convosco algumas histórias de algumas coisas mágicas que aconteceram.\n",
            "Prediction     : so i ' m going to very quickly share with you a few stories of some magic things that happened .\n",
            "Ground truth   : so i 'll just share with you some stories very quickly of some magical things that have happened .\n"
          ],
          "name": "stdout"
        }
      ]
    },
    {
      "cell_type": "markdown",
      "metadata": {
        "id": "_1MxkSZvz0jX"
      },
      "source": [
        "You can pass different layers and attention blocks of the decoder to the `plot` parameter."
      ]
    },
    {
      "cell_type": "markdown",
      "metadata": {
        "id": "S3EQiFUC--Ds"
      },
      "source": [
        "## Attention plots"
      ]
    },
    {
      "cell_type": "markdown",
      "metadata": {
        "id": "hHV2pdXHGz-0"
      },
      "source": [
        "The `evaluate` function also returns a dictionary of attention maps you can use to visualize the internal working of the model:"
      ]
    },
    {
      "cell_type": "code",
      "metadata": {
        "id": "t-kFyiOLH0xg",
        "colab": {
          "base_uri": "https://localhost:8080/"
        },
        "outputId": "b796b08b-5836-4a31-8c69-4b5bcc6a85bb"
      },
      "source": [
        "sentence = \"este é o primeiro livro que eu fiz.\"\n",
        "ground_truth = \"this is the first book i've ever done.\"\n",
        "\n",
        "translated_text, translated_tokens, attention_weights = evaluate(sentence)\n",
        "print_translation(sentence, translated_text, ground_truth)"
      ],
      "execution_count": 74,
      "outputs": [
        {
          "output_type": "stream",
          "text": [
            "Input:         : este é o primeiro livro que eu fiz.\n",
            "Prediction     : this is the first book i made .\n",
            "Ground truth   : this is the first book i've ever done.\n"
          ],
          "name": "stdout"
        }
      ]
    },
    {
      "cell_type": "code",
      "metadata": {
        "id": "CcI4DxAK5EHY"
      },
      "source": [
        "def plot_attention_head(in_tokens, translated_tokens, attention):\n",
        "  # The plot is of the attention when a token was generated.\n",
        "  # The model didn't generate `<START>` in the output. Skip it. \n",
        "  translated_tokens = translated_tokens[1:]\n",
        "\n",
        "  ax = plt.gca()\n",
        "  ax.matshow(attention)\n",
        "  ax.set_xticks(range(len(in_tokens)))\n",
        "  ax.set_yticks(range(len(translated_tokens)))\n",
        "\n",
        "  \n",
        "  labels = [label.decode('utf-8') for label in in_tokens.numpy()]\n",
        "  ax.set_xticklabels(\n",
        "      labels, rotation=90)\n",
        "  \n",
        "  labels = [label.decode('utf-8') for label in translated_tokens.numpy()]\n",
        "  ax.set_yticklabels(labels)"
      ],
      "execution_count": 75,
      "outputs": []
    },
    {
      "cell_type": "code",
      "metadata": {
        "id": "_KY4c2cryuxY",
        "colab": {
          "base_uri": "https://localhost:8080/"
        },
        "outputId": "ed40a5f0-69a1-4e90-fe56-445eab8cbaf1"
      },
      "source": [
        "head = 0\n",
        "# shape: (batch=1, num_heads, seq_len_q, seq_len_k)\n",
        "attention_heads = tf.squeeze(\n",
        "  attention_weights['decoder_layer4_block2'], 0)\n",
        "attention = attention_heads[head]\n",
        "attention.shape  "
      ],
      "execution_count": 76,
      "outputs": [
        {
          "output_type": "execute_result",
          "data": {
            "text/plain": [
              "TensorShape([9, 11])"
            ]
          },
          "metadata": {
            "tags": []
          },
          "execution_count": 76
        }
      ]
    },
    {
      "cell_type": "code",
      "metadata": {
        "id": "XdxmakWE6Om3",
        "colab": {
          "base_uri": "https://localhost:8080/"
        },
        "outputId": "53a5ac14-ac1c-4882-e760-a7886852fba4"
      },
      "source": [
        "in_tokens = tf.convert_to_tensor([sentence])\n",
        "in_tokens = tokenizers.pt.tokenize(in_tokens).to_tensor()\n",
        "in_tokens = tokenizers.pt.lookup(in_tokens)[0]\n",
        "in_tokens"
      ],
      "execution_count": 77,
      "outputs": [
        {
          "output_type": "execute_result",
          "data": {
            "text/plain": [
              "<tf.Tensor: shape=(11,), dtype=string, numpy=\n",
              "array([b'[START]', b'este', b'e', b'o', b'primeiro', b'livro', b'que',\n",
              "       b'eu', b'fiz', b'.', b'[END]'], dtype=object)>"
            ]
          },
          "metadata": {
            "tags": []
          },
          "execution_count": 77
        }
      ]
    },
    {
      "cell_type": "code",
      "metadata": {
        "id": "hVdPSfecmrpj",
        "colab": {
          "base_uri": "https://localhost:8080/"
        },
        "outputId": "0e792eb2-c1d8-4d84-d998-24c3f5180272"
      },
      "source": [
        "translated_tokens"
      ],
      "execution_count": 78,
      "outputs": [
        {
          "output_type": "execute_result",
          "data": {
            "text/plain": [
              "<tf.Tensor: shape=(10,), dtype=string, numpy=\n",
              "array([b'[START]', b'this', b'is', b'the', b'first', b'book', b'i',\n",
              "       b'made', b'.', b'[END]'], dtype=object)>"
            ]
          },
          "metadata": {
            "tags": []
          },
          "execution_count": 78
        }
      ]
    },
    {
      "cell_type": "code",
      "metadata": {
        "id": "XtzyKCFamm4N",
        "colab": {
          "base_uri": "https://localhost:8080/",
          "height": 301
        },
        "outputId": "9bf62fec-9c2b-44b7-9c91-5b78f1ec85f5"
      },
      "source": [
        "plot_attention_head(in_tokens, translated_tokens, attention)"
      ],
      "execution_count": 79,
      "outputs": [
        {
          "output_type": "display_data",
          "data": {
            "image/png": "[encoded data removed]",
            "text/plain": [
              "<Figure size 432x288 with 1 Axes>"
            ]
          },
          "metadata": {
            "tags": [],
            "needs_background": "light"
          }
        }
      ]
    },
    {
      "cell_type": "code",
      "metadata": {
        "id": "MBliB-PCzNK3"
      },
      "source": [
        "def plot_attention_weights(sentence, translated_tokens, attention_heads):\n",
        "  in_tokens = tf.convert_to_tensor([sentence])\n",
        "  in_tokens = tokenizers.pt.tokenize(in_tokens).to_tensor()\n",
        "  in_tokens = tokenizers.pt.lookup(in_tokens)[0]\n",
        "  in_tokens\n",
        "  \n",
        "  fig = plt.figure(figsize=(16, 8))\n",
        "  \n",
        "  for h, head in enumerate(attention_heads):\n",
        "    ax = fig.add_subplot(2, 4, h+1)\n",
        "    \n",
        "    plot_attention_head(in_tokens, translated_tokens, head)\n",
        "    \n",
        "    ax.set_xlabel('Head {}'.format(h+1))\n",
        "  \n",
        "  plt.tight_layout()\n",
        "  plt.show()"
      ],
      "execution_count": 80,
      "outputs": []
    },
    {
      "cell_type": "code",
      "metadata": {
        "id": "pyRQi7944wru",
        "colab": {
          "base_uri": "https://localhost:8080/",
          "height": 509
        },
        "outputId": "d7cc160e-15bf-4ba6-afaa-a299989d69a1"
      },
      "source": [
        "plot_attention_weights(sentence, translated_tokens,\n",
        "                       attention_weights['decoder_layer4_block2'][0])"
      ],
      "execution_count": 81,
      "outputs": [
        {
          "output_type": "display_data",
          "data": {
            "image/png": "[encoded data removed]",
            "text/plain": [
              "<Figure size 1152x576 with 8 Axes>"
            ]
          },
          "metadata": {
            "tags": [],
            "needs_background": "light"
          }
        }
      ]
    },
    {
      "cell_type": "markdown",
      "metadata": {
        "id": "MZJirKUtikTt"
      },
      "source": [
        "The model does okay on unfamiliar words. Neither \"triceratops\" or \"encyclopedia\" are in the input dataset and the model almost learns to transliterare them, even withoput a shared vocabulary:"
      ]
    },
    {
      "cell_type": "code",
      "metadata": {
        "id": "jqUtMA8_NozP"
      },
      "source": [
        "def translate(ground_truth, input_sentence):\n",
        "  \n",
        "  ground_truth = ground_truth.lower()\n",
        "\n",
        "  translated_text, translated_tokens, attention_weights = evaluate(input_sentence)\n",
        "  print_translation(input_sentence, translated_text, ground_truth)\n",
        "\n",
        "  translated_text = translated_text.numpy()\n",
        "  translated_text = translated_text.decode(\"utf-8\") \n",
        "\n",
        "  score = sentence_bleu(ground_truth, translated_text, weights=(1.0,0,0,0))\n",
        "  print(f\"BLEU-1 score: {score*100:.2f}\")\n",
        "  score = sentence_bleu(ground_truth, translated_text, weights=(0.5,0.5,0,0))\n",
        "  print(f\"BLEU-2 score: {score*100:.2f}\")\n",
        "  score = sentence_bleu(ground_truth, translated_text, weights=(0.3,0.3,0.3,0))\n",
        "  print(f\"BLEU-3 score: {score*100:.2f}\")\n",
        "  score = sentence_bleu(ground_truth, translated_text, weights=(0.25,0.25,0.25,0.25))\n",
        "  print(f\"BLEU-4 score: {score*100:.2f}\")"
      ],
      "execution_count": 82,
      "outputs": []
    },
    {
      "cell_type": "code",
      "metadata": {
        "id": "9cxysY7uh3jg",
        "colab": {
          "base_uri": "https://localhost:8080/",
          "height": 699
        },
        "outputId": "8ccf7174-8550-4a0e-854f-2af2a33b8ceb"
      },
      "source": [
        "input_sentence = \"Eu li sobre triceratops na enciclopédia.\"\n",
        "prediction = \"I read about triceratops in the encyclopedia.\"\n",
        "\n",
        "translate(prediction, input_sentence)\n",
        "\n",
        "plot_attention_weights(sentence, translated_tokens,\n",
        "                       attention_weights['decoder_layer4_block2'][0])"
      ],
      "execution_count": 83,
      "outputs": [
        {
          "output_type": "stream",
          "text": [
            "Input:         : Eu li sobre triceratops na enciclopédia.\n",
            "Prediction     : i read about triumpes on encyclopedia .\n",
            "Ground truth   : i read about triceratops in the encyclopedia.\n",
            "BLEU-1 score: 43.59\n",
            "BLEU-2 score: 66.02\n",
            "BLEU-3 score: 77.95\n",
            "BLEU-4 score: 81.25\n"
          ],
          "name": "stdout"
        },
        {
          "output_type": "stream",
          "text": [
            "/usr/local/lib/python3.7/dist-packages/nltk/translate/bleu_score.py:490: UserWarning: \n",
            "Corpus/Sentence contains 0 counts of 2-gram overlaps.\n",
            "BLEU scores might be undesirable; use SmoothingFunction().\n",
            "  warnings.warn(_msg)\n"
          ],
          "name": "stderr"
        },
        {
          "output_type": "display_data",
          "data": {
            "image/png": "[encoded data removed]",
            "text/plain": [
              "<Figure size 1152x576 with 8 Axes>"
            ]
          },
          "metadata": {
            "tags": [],
            "needs_background": "light"
          }
        }
      ]
    },
    {
      "cell_type": "code",
      "metadata": {
        "colab": {
          "base_uri": "https://localhost:8080/"
        },
        "id": "35-z5DqSIfUx",
        "outputId": "588c2e06-0ac5-46d9-b75f-557dbd95c4de"
      },
      "source": [
        "input_sentence = \"Fui à loja comprar mantimentos.\"\n",
        "ground_truth = \"I went to the store to buy some groceries.\"\n",
        "\n",
        "translate(ground_truth, input_sentence)"
      ],
      "execution_count": 84,
      "outputs": [
        {
          "output_type": "stream",
          "text": [
            "Input:         : Fui à loja comprar mantimentos.\n",
            "Prediction     : i went to buy a mantra .\n",
            "Ground truth   : i went to the store to buy some groceries.\n",
            "BLEU-1 score: 54.17\n",
            "BLEU-2 score: 73.60\n",
            "BLEU-3 score: 83.20\n",
            "BLEU-4 score: 85.79\n"
          ],
          "name": "stdout"
        },
        {
          "output_type": "stream",
          "text": [
            "/usr/local/lib/python3.7/dist-packages/nltk/translate/bleu_score.py:490: UserWarning: \n",
            "Corpus/Sentence contains 0 counts of 2-gram overlaps.\n",
            "BLEU scores might be undesirable; use SmoothingFunction().\n",
            "  warnings.warn(_msg)\n"
          ],
          "name": "stderr"
        }
      ]
    },
    {
      "cell_type": "code",
      "metadata": {
        "colab": {
          "base_uri": "https://localhost:8080/"
        },
        "id": "qq3ZCNB-I0SZ",
        "outputId": "cbb3bdf7-346e-4fbe-c5d1-6b797b011e29"
      },
      "source": [
        "input_sentence = \"Qual é o seu filme favorito?\"\n",
        "ground_truth = \"What is your favorite movie?\"\n",
        "\n",
        "translate(ground_truth, input_sentence)"
      ],
      "execution_count": 85,
      "outputs": [
        {
          "output_type": "stream",
          "text": [
            "Input:         : Qual é o seu filme favorito?\n",
            "Prediction     : what is your favorite movie ?\n",
            "Ground truth   : what is your favorite movie?\n",
            "BLEU-1 score: 55.17\n",
            "BLEU-2 score: 74.28\n",
            "BLEU-3 score: 83.66\n",
            "BLEU-4 score: 86.18\n"
          ],
          "name": "stdout"
        },
        {
          "output_type": "stream",
          "text": [
            "/usr/local/lib/python3.7/dist-packages/nltk/translate/bleu_score.py:490: UserWarning: \n",
            "Corpus/Sentence contains 0 counts of 2-gram overlaps.\n",
            "BLEU scores might be undesirable; use SmoothingFunction().\n",
            "  warnings.warn(_msg)\n"
          ],
          "name": "stderr"
        }
      ]
    },
    {
      "cell_type": "code",
      "metadata": {
        "colab": {
          "base_uri": "https://localhost:8080/"
        },
        "id": "EdzyiaehJJQS",
        "outputId": "0a77178e-b0d4-41a5-a322-2282f575d9dc"
      },
      "source": [
        "input_sentence = \"Você viu minha carteira que perdi quando estava no trabalho?\"\n",
        "ground_truth = \"Have you seen my wallet that I lost when I was at work?\"\n",
        "\n",
        "translate(ground_truth, input_sentence)"
      ],
      "execution_count": 89,
      "outputs": [
        {
          "output_type": "stream",
          "text": [
            "Input:         : Você viu minha carteira que perdi quando estava no trabalho?\n",
            "Prediction     : do you see my wallet that i lost when i was at work ?\n",
            "Ground truth   : have you seen my wallet that i lost when i was at work?\n",
            "BLEU-1 score: 32.08\n",
            "BLEU-2 score: 56.64\n",
            "BLEU-3 score: 71.10\n",
            "BLEU-4 score: 75.26\n"
          ],
          "name": "stdout"
        },
        {
          "output_type": "stream",
          "text": [
            "/usr/local/lib/python3.7/dist-packages/nltk/translate/bleu_score.py:490: UserWarning: \n",
            "Corpus/Sentence contains 0 counts of 2-gram overlaps.\n",
            "BLEU scores might be undesirable; use SmoothingFunction().\n",
            "  warnings.warn(_msg)\n"
          ],
          "name": "stderr"
        }
      ]
    },
    {
      "cell_type": "markdown",
      "metadata": {
        "id": "RqQ1fIsLwkGE"
      },
      "source": [
        "## Summary\n",
        "\n",
        "In this tutorial, you learned about positional encoding, multi-head attention, the importance of masking and how to create a transformer.\n",
        "\n",
        "Try using a different dataset to train the transformer. You can also create the base transformer or transformer XL by changing the hyperparameters above. You can also use the layers defined here to create [BERT](https://arxiv.org/abs/1810.04805) and train state of the art models. Furthermore, you can implement beam search to get better predictions."
      ]
    }
  ]
}